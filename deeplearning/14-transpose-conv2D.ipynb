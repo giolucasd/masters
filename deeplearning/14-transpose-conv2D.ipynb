{
 "cells": [
  {
   "cell_type": "code",
   "execution_count": 1,
   "id": "2b54a383",
   "metadata": {},
   "outputs": [],
   "source": [
    "import torch\n",
    "from torch import nn as nn"
   ]
  },
  {
   "cell_type": "markdown",
   "id": "e96049c6",
   "metadata": {},
   "source": [
    "### Given an input with (Nx, Ny) pixels (one channel), "
   ]
  },
  {
   "cell_type": "code",
   "execution_count": 2,
   "id": "102bb49c",
   "metadata": {},
   "outputs": [
    {
     "name": "stdout",
     "output_type": "stream",
     "text": [
      "tensor([[[[1., 1.],\n",
      "          [1., 1.]]]])\n"
     ]
    }
   ],
   "source": [
    "Nx = 2\n",
    "Ny = 2\n",
    "input = torch.ones(1,1,Nx,Ny)\n",
    "print(input)"
   ]
  },
  {
   "cell_type": "markdown",
   "id": "b65f4930",
   "metadata": {},
   "source": [
    "### a transpose convolution with one kernel of size (Kx,Ky), strides (Sx,Sy), and padding (Px,Py) "
   ]
  },
  {
   "cell_type": "code",
   "execution_count": 3,
   "id": "96fbaa8f",
   "metadata": {},
   "outputs": [
    {
     "name": "stdout",
     "output_type": "stream",
     "text": [
      "Parameter containing:\n",
      "tensor([[[[1., 1., 1.],\n",
      "          [1., 1., 1.],\n",
      "          [1., 1., 1.]]]], requires_grad=True)\n"
     ]
    }
   ],
   "source": [
    "Kx = 3\n",
    "Ky = 3\n",
    "Sx = 2\n",
    "Sy = 2\n",
    "Px = 0\n",
    "Py = 0\n",
    "T = nn.ConvTranspose2d(in_channels=1, out_channels=1, kernel_size=(Kx,Ky), stride=(Sx,Sy), padding=(Px,Py), bias = 0)\n",
    "T.weight = nn.Parameter(torch.ones(1, 1, Kx, Ky))\n",
    "print(T.weight)"
   ]
  },
  {
   "cell_type": "markdown",
   "id": "19ebe1f2",
   "metadata": {},
   "source": [
    "### creates an output with (Ox,Oy) pixels such that Ox = (Nx-1)Sx+Kx-2Px and Ox = (Ny-1)Sy+Ky-2Py"
   ]
  },
  {
   "cell_type": "code",
   "execution_count": 4,
   "id": "607613e4",
   "metadata": {},
   "outputs": [
    {
     "name": "stdout",
     "output_type": "stream",
     "text": [
      "tensor([[[[1., 1., 2., 1., 1.],\n",
      "          [1., 1., 2., 1., 1.],\n",
      "          [2., 2., 4., 2., 2.],\n",
      "          [1., 1., 2., 1., 1.],\n",
      "          [1., 1., 2., 1., 1.]]]], grad_fn=<ConvolutionBackward0>)\n"
     ]
    }
   ],
   "source": [
    "output = T(input)\n",
    "print(output)"
   ]
  }
 ],
 "metadata": {
  "kernelspec": {
   "display_name": "Python 3 (ipykernel)",
   "language": "python",
   "name": "python3"
  },
  "language_info": {
   "codemirror_mode": {
    "name": "ipython",
    "version": 3
   },
   "file_extension": ".py",
   "mimetype": "text/x-python",
   "name": "python",
   "nbconvert_exporter": "python",
   "pygments_lexer": "ipython3",
   "version": "3.12.8"
  }
 },
 "nbformat": 4,
 "nbformat_minor": 5
}
