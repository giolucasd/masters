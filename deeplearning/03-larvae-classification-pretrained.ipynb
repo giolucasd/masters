{
 "cells": [
  {
   "cell_type": "markdown",
   "id": "bb08afe1",
   "metadata": {},
   "source": [
    "# Larvae classification"
   ]
  },
  {
   "cell_type": "markdown",
   "id": "21c0f0a7",
   "metadata": {},
   "source": [
    "## 1. Definitions"
   ]
  },
  {
   "cell_type": "code",
   "execution_count": 1,
   "id": "c6fa8a61",
   "metadata": {},
   "outputs": [],
   "source": [
    "from pathlib import Path\n",
    "\n",
    "import torch\n",
    "from dataset import ImageDataLoadBuilder, visualize_larvae_sample\n",
    "from visualize import Visualizer\n",
    "from metrics import f1_fn, cohen_kappa_fn\n",
    "from models import PretrainedCNNClassifier\n",
    "from torch import nn\n",
    "from optim_utils import build_optimizer_and_scheduler\n",
    "from torchsummary import summary\n",
    "from torchvision import transforms\n",
    "from training import Trainer"
   ]
  },
  {
   "cell_type": "code",
   "execution_count": 2,
   "id": "40476cdd",
   "metadata": {},
   "outputs": [],
   "source": [
    "device = torch.device(0) if torch.cuda.is_available() else torch.device(\"cpu\")"
   ]
  },
  {
   "cell_type": "code",
   "execution_count": 3,
   "id": "b1fde97c",
   "metadata": {},
   "outputs": [],
   "source": [
    "import gc\n",
    "\n",
    "def clean_memory():\n",
    "    gc.collect()\n",
    "    torch.cuda.empty_cache()\n",
    "\n",
    "clean_memory()"
   ]
  },
  {
   "cell_type": "code",
   "execution_count": 4,
   "id": "8653bdbf",
   "metadata": {},
   "outputs": [],
   "source": [
    "width = 224\n",
    "height = 224\n",
    "nchannels = 3\n",
    "input_size = (height, width)\n",
    "input_shape = (nchannels, height, width)\n",
    "num_classes = 2\n",
    "imagenet_mean, imagenet_std = (0.485, 0.456, 0.406), (0.229, 0.224, 0.225)\n",
    "labels_map = {\n",
    "    0: \"Larvae\",\n",
    "    1: \"Non-larvae\",\n",
    "}"
   ]
  },
  {
   "cell_type": "markdown",
   "id": "459aad76",
   "metadata": {},
   "source": [
    "## 2. Data ETL"
   ]
  },
  {
   "cell_type": "code",
   "execution_count": 5,
   "id": "bdf38d64",
   "metadata": {},
   "outputs": [],
   "source": [
    "# Regular preprocessing transformation\n",
    "preparation = transforms.Compose(\n",
    "    [\n",
    "        transforms.Resize(\n",
    "            input_size,\n",
    "            interpolation=transforms.InterpolationMode.BILINEAR,\n",
    "            max_size=None,\n",
    "            antialias=True,\n",
    "        ),\n",
    "        transforms.ToTensor(),\n",
    "        transforms.Normalize(imagenet_mean, imagenet_std),\n",
    "    ]\n",
    ")\n",
    "\n",
    "# Data augmentation transformation\n",
    "augmentation = transforms.Compose(\n",
    "    [\n",
    "        transforms.Resize(\n",
    "            (300, 300),\n",
    "            interpolation=transforms.InterpolationMode.BILINEAR,\n",
    "            max_size=None,\n",
    "            antialias=True,\n",
    "        ),\n",
    "        transforms.RandomAffine(\n",
    "            degrees=10,\n",
    "            translate=(0.05, 0.10),\n",
    "            scale=(0.9, 1.1),\n",
    "            shear=(-2, 2),\n",
    "            interpolation=transforms.InterpolationMode.BILINEAR,\n",
    "            fill=0,\n",
    "        ),\n",
    "        transforms.CenterCrop(250),\n",
    "        preparation,\n",
    "    ]\n",
    ")"
   ]
  },
  {
   "cell_type": "code",
   "execution_count": 6,
   "id": "e35602c6",
   "metadata": {},
   "outputs": [],
   "source": [
    "builder = ImageDataLoadBuilder(\n",
    "    data_dir=Path(\"./images/larvae\"),\n",
    "    train_transform=augmentation,\n",
    "    valid_transform=preparation,\n",
    "    test_transform=preparation,\n",
    ")\n",
    "train_loader, valid_loader, test_loader = builder.get_tvt_splited_dataloaders()"
   ]
  },
  {
   "cell_type": "code",
   "execution_count": 7,
   "id": "8a5af203",
   "metadata": {},
   "outputs": [
    {
     "data": {
      "image/png": "[encoded data removed]",
      "text/plain": [
       "<Figure size 640x480 with 1 Axes>"
      ]
     },
     "metadata": {},
     "output_type": "display_data"
    }
   ],
   "source": [
    "visualize_larvae_sample(train_loader.dataset)"
   ]
  },
  {
   "cell_type": "code",
   "execution_count": 8,
   "id": "513469a3",
   "metadata": {},
   "outputs": [
    {
     "data": {
      "text/plain": [
       "(798, 320, 480)"
      ]
     },
     "execution_count": 8,
     "metadata": {},
     "output_type": "execute_result"
    }
   ],
   "source": [
    "len(train_loader.dataset), len(valid_loader.dataset), len(test_loader.dataset)"
   ]
  },
  {
   "cell_type": "markdown",
   "id": "f3186ca4",
   "metadata": {},
   "source": [
    "## 3. Training"
   ]
  },
  {
   "cell_type": "markdown",
   "id": "d5782868",
   "metadata": {},
   "source": [
    "### 3.1. Criterion\n",
    "\n",
    "Since larvae data is unbalanced, we will use cross entropy with weights."
   ]
  },
  {
   "cell_type": "code",
   "execution_count": 9,
   "id": "0fcea4b6",
   "metadata": {},
   "outputs": [],
   "source": [
    "from torch import Tensor\n",
    "\n",
    "N0 = 247\n",
    "N1 = 1351\n",
    "weights = Tensor([1.0, N0 / N1])\n",
    "criterion = nn.CrossEntropyLoss(weight=weights)\n",
    "\n",
    "optim_config = {\n",
    "    \"scheduler\": \"onecycle\",\n",
    "    \"max_lr\": 1e-4,\n",
    "    \"lr\": 5e-5,\n",
    "    \"eta_min\": 1e-6,\n",
    "    \"weight_decay\": 1e-4,\n",
    "    \"warmup_epochs\": 5,\n",
    "}\n",
    "\n",
    "# criterion = nn.CrossEntropyLoss()"
   ]
  },
  {
   "cell_type": "markdown",
   "id": "41d9425d",
   "metadata": {},
   "source": [
    "### 3.2. CNN0"
   ]
  },
  {
   "cell_type": "code",
   "execution_count": 10,
   "id": "12d71e9f",
   "metadata": {},
   "outputs": [
    {
     "name": "stdout",
     "output_type": "stream",
     "text": [
      "----------------------------------------------------------------\n",
      "        Layer (type)               Output Shape         Param #\n",
      "================================================================\n",
      "            Conv2d-1         [-1, 32, 112, 112]             864\n",
      "       BatchNorm2d-2         [-1, 32, 112, 112]              64\n",
      "             ReLU6-3         [-1, 32, 112, 112]               0\n",
      "            Conv2d-4         [-1, 32, 112, 112]             288\n",
      "       BatchNorm2d-5         [-1, 32, 112, 112]              64\n",
      "             ReLU6-6         [-1, 32, 112, 112]               0\n",
      "            Conv2d-7         [-1, 16, 112, 112]             512\n",
      "       BatchNorm2d-8         [-1, 16, 112, 112]              32\n",
      "  InvertedResidual-9         [-1, 16, 112, 112]               0\n",
      "           Conv2d-10         [-1, 96, 112, 112]           1,536\n",
      "      BatchNorm2d-11         [-1, 96, 112, 112]             192\n",
      "            ReLU6-12         [-1, 96, 112, 112]               0\n",
      "           Conv2d-13           [-1, 96, 56, 56]             864\n",
      "      BatchNorm2d-14           [-1, 96, 56, 56]             192\n",
      "            ReLU6-15           [-1, 96, 56, 56]               0\n",
      "           Conv2d-16           [-1, 24, 56, 56]           2,304\n",
      "      BatchNorm2d-17           [-1, 24, 56, 56]              48\n",
      " InvertedResidual-18           [-1, 24, 56, 56]               0\n",
      "           Conv2d-19          [-1, 144, 56, 56]           3,456\n",
      "      BatchNorm2d-20          [-1, 144, 56, 56]             288\n",
      "            ReLU6-21          [-1, 144, 56, 56]               0\n",
      "           Conv2d-22          [-1, 144, 56, 56]           1,296\n",
      "      BatchNorm2d-23          [-1, 144, 56, 56]             288\n",
      "            ReLU6-24          [-1, 144, 56, 56]               0\n",
      "           Conv2d-25           [-1, 24, 56, 56]           3,456\n",
      "      BatchNorm2d-26           [-1, 24, 56, 56]              48\n",
      " InvertedResidual-27           [-1, 24, 56, 56]               0\n",
      "           Conv2d-28          [-1, 144, 56, 56]           3,456\n",
      "      BatchNorm2d-29          [-1, 144, 56, 56]             288\n",
      "            ReLU6-30          [-1, 144, 56, 56]               0\n",
      "           Conv2d-31          [-1, 144, 28, 28]           1,296\n",
      "      BatchNorm2d-32          [-1, 144, 28, 28]             288\n",
      "            ReLU6-33          [-1, 144, 28, 28]               0\n",
      "           Conv2d-34           [-1, 32, 28, 28]           4,608\n",
      "      BatchNorm2d-35           [-1, 32, 28, 28]              64\n",
      " InvertedResidual-36           [-1, 32, 28, 28]               0\n",
      "           Conv2d-37          [-1, 192, 28, 28]           6,144\n",
      "      BatchNorm2d-38          [-1, 192, 28, 28]             384\n",
      "            ReLU6-39          [-1, 192, 28, 28]               0\n",
      "           Conv2d-40          [-1, 192, 28, 28]           1,728\n",
      "      BatchNorm2d-41          [-1, 192, 28, 28]             384\n",
      "            ReLU6-42          [-1, 192, 28, 28]               0\n",
      "           Conv2d-43           [-1, 32, 28, 28]           6,144\n",
      "      BatchNorm2d-44           [-1, 32, 28, 28]              64\n",
      " InvertedResidual-45           [-1, 32, 28, 28]               0\n",
      "           Conv2d-46          [-1, 192, 28, 28]           6,144\n",
      "      BatchNorm2d-47          [-1, 192, 28, 28]             384\n",
      "            ReLU6-48          [-1, 192, 28, 28]               0\n",
      "           Conv2d-49          [-1, 192, 28, 28]           1,728\n",
      "      BatchNorm2d-50          [-1, 192, 28, 28]             384\n",
      "            ReLU6-51          [-1, 192, 28, 28]               0\n",
      "           Conv2d-52           [-1, 32, 28, 28]           6,144\n",
      "      BatchNorm2d-53           [-1, 32, 28, 28]              64\n",
      " InvertedResidual-54           [-1, 32, 28, 28]               0\n",
      "           Conv2d-55          [-1, 192, 28, 28]           6,144\n",
      "      BatchNorm2d-56          [-1, 192, 28, 28]             384\n",
      "            ReLU6-57          [-1, 192, 28, 28]               0\n",
      "           Conv2d-58          [-1, 192, 14, 14]           1,728\n",
      "      BatchNorm2d-59          [-1, 192, 14, 14]             384\n",
      "            ReLU6-60          [-1, 192, 14, 14]               0\n",
      "           Conv2d-61           [-1, 64, 14, 14]          12,288\n",
      "      BatchNorm2d-62           [-1, 64, 14, 14]             128\n",
      " InvertedResidual-63           [-1, 64, 14, 14]               0\n",
      "           Conv2d-64          [-1, 384, 14, 14]          24,576\n",
      "      BatchNorm2d-65          [-1, 384, 14, 14]             768\n",
      "            ReLU6-66          [-1, 384, 14, 14]               0\n",
      "           Conv2d-67          [-1, 384, 14, 14]           3,456\n",
      "      BatchNorm2d-68          [-1, 384, 14, 14]             768\n",
      "            ReLU6-69          [-1, 384, 14, 14]               0\n",
      "           Conv2d-70           [-1, 64, 14, 14]          24,576\n",
      "      BatchNorm2d-71           [-1, 64, 14, 14]             128\n",
      " InvertedResidual-72           [-1, 64, 14, 14]               0\n",
      "           Conv2d-73          [-1, 384, 14, 14]          24,576\n",
      "      BatchNorm2d-74          [-1, 384, 14, 14]             768\n",
      "            ReLU6-75          [-1, 384, 14, 14]               0\n",
      "           Conv2d-76          [-1, 384, 14, 14]           3,456\n",
      "      BatchNorm2d-77          [-1, 384, 14, 14]             768\n",
      "            ReLU6-78          [-1, 384, 14, 14]               0\n",
      "           Conv2d-79           [-1, 64, 14, 14]          24,576\n",
      "      BatchNorm2d-80           [-1, 64, 14, 14]             128\n",
      " InvertedResidual-81           [-1, 64, 14, 14]               0\n",
      "           Conv2d-82          [-1, 384, 14, 14]          24,576\n",
      "      BatchNorm2d-83          [-1, 384, 14, 14]             768\n",
      "            ReLU6-84          [-1, 384, 14, 14]               0\n",
      "           Conv2d-85          [-1, 384, 14, 14]           3,456\n",
      "      BatchNorm2d-86          [-1, 384, 14, 14]             768\n",
      "            ReLU6-87          [-1, 384, 14, 14]               0\n",
      "           Conv2d-88           [-1, 64, 14, 14]          24,576\n",
      "      BatchNorm2d-89           [-1, 64, 14, 14]             128\n",
      " InvertedResidual-90           [-1, 64, 14, 14]               0\n",
      "           Conv2d-91          [-1, 384, 14, 14]          24,576\n",
      "      BatchNorm2d-92          [-1, 384, 14, 14]             768\n",
      "            ReLU6-93          [-1, 384, 14, 14]               0\n",
      "           Conv2d-94          [-1, 384, 14, 14]           3,456\n",
      "      BatchNorm2d-95          [-1, 384, 14, 14]             768\n",
      "            ReLU6-96          [-1, 384, 14, 14]               0\n",
      "           Conv2d-97           [-1, 96, 14, 14]          36,864\n",
      "      BatchNorm2d-98           [-1, 96, 14, 14]             192\n",
      " InvertedResidual-99           [-1, 96, 14, 14]               0\n",
      "          Conv2d-100          [-1, 576, 14, 14]          55,296\n",
      "     BatchNorm2d-101          [-1, 576, 14, 14]           1,152\n",
      "           ReLU6-102          [-1, 576, 14, 14]               0\n",
      "          Conv2d-103          [-1, 576, 14, 14]           5,184\n",
      "     BatchNorm2d-104          [-1, 576, 14, 14]           1,152\n",
      "           ReLU6-105          [-1, 576, 14, 14]               0\n",
      "          Conv2d-106           [-1, 96, 14, 14]          55,296\n",
      "     BatchNorm2d-107           [-1, 96, 14, 14]             192\n",
      "InvertedResidual-108           [-1, 96, 14, 14]               0\n",
      "          Conv2d-109          [-1, 576, 14, 14]          55,296\n",
      "     BatchNorm2d-110          [-1, 576, 14, 14]           1,152\n",
      "           ReLU6-111          [-1, 576, 14, 14]               0\n",
      "          Conv2d-112          [-1, 576, 14, 14]           5,184\n",
      "     BatchNorm2d-113          [-1, 576, 14, 14]           1,152\n",
      "           ReLU6-114          [-1, 576, 14, 14]               0\n",
      "          Conv2d-115           [-1, 96, 14, 14]          55,296\n",
      "     BatchNorm2d-116           [-1, 96, 14, 14]             192\n",
      "InvertedResidual-117           [-1, 96, 14, 14]               0\n",
      "          Conv2d-118          [-1, 576, 14, 14]          55,296\n",
      "     BatchNorm2d-119          [-1, 576, 14, 14]           1,152\n",
      "           ReLU6-120          [-1, 576, 14, 14]               0\n",
      "          Conv2d-121            [-1, 576, 7, 7]           5,184\n",
      "     BatchNorm2d-122            [-1, 576, 7, 7]           1,152\n",
      "           ReLU6-123            [-1, 576, 7, 7]               0\n",
      "          Conv2d-124            [-1, 160, 7, 7]          92,160\n",
      "     BatchNorm2d-125            [-1, 160, 7, 7]             320\n",
      "InvertedResidual-126            [-1, 160, 7, 7]               0\n",
      "          Conv2d-127            [-1, 960, 7, 7]         153,600\n",
      "     BatchNorm2d-128            [-1, 960, 7, 7]           1,920\n",
      "           ReLU6-129            [-1, 960, 7, 7]               0\n",
      "          Conv2d-130            [-1, 960, 7, 7]           8,640\n",
      "     BatchNorm2d-131            [-1, 960, 7, 7]           1,920\n",
      "           ReLU6-132            [-1, 960, 7, 7]               0\n",
      "          Conv2d-133            [-1, 160, 7, 7]         153,600\n",
      "     BatchNorm2d-134            [-1, 160, 7, 7]             320\n",
      "InvertedResidual-135            [-1, 160, 7, 7]               0\n",
      "          Conv2d-136            [-1, 960, 7, 7]         153,600\n",
      "     BatchNorm2d-137            [-1, 960, 7, 7]           1,920\n",
      "           ReLU6-138            [-1, 960, 7, 7]               0\n",
      "          Conv2d-139            [-1, 960, 7, 7]           8,640\n",
      "     BatchNorm2d-140            [-1, 960, 7, 7]           1,920\n",
      "           ReLU6-141            [-1, 960, 7, 7]               0\n",
      "          Conv2d-142            [-1, 160, 7, 7]         153,600\n",
      "     BatchNorm2d-143            [-1, 160, 7, 7]             320\n",
      "InvertedResidual-144            [-1, 160, 7, 7]               0\n",
      "          Conv2d-145            [-1, 960, 7, 7]         153,600\n",
      "     BatchNorm2d-146            [-1, 960, 7, 7]           1,920\n",
      "           ReLU6-147            [-1, 960, 7, 7]               0\n",
      "          Conv2d-148            [-1, 960, 7, 7]           8,640\n",
      "     BatchNorm2d-149            [-1, 960, 7, 7]           1,920\n",
      "           ReLU6-150            [-1, 960, 7, 7]               0\n",
      "          Conv2d-151            [-1, 320, 7, 7]         307,200\n",
      "     BatchNorm2d-152            [-1, 320, 7, 7]             640\n",
      "InvertedResidual-153            [-1, 320, 7, 7]               0\n",
      "          Conv2d-154           [-1, 1280, 7, 7]         409,600\n",
      "     BatchNorm2d-155           [-1, 1280, 7, 7]           2,560\n",
      "           ReLU6-156           [-1, 1280, 7, 7]               0\n",
      "          Linear-157                   [-1, 96]         122,976\n",
      "            ReLU-158                   [-1, 96]               0\n",
      "         Dropout-159                   [-1, 96]               0\n",
      "          Linear-160                    [-1, 2]             194\n",
      "================================================================\n",
      "Total params: 2,347,042\n",
      "Trainable params: 123,170\n",
      "Non-trainable params: 2,223,872\n",
      "----------------------------------------------------------------\n",
      "Input size (MB): 0.57\n",
      "Forward/backward pass size (MB): 152.85\n",
      "Params size (MB): 8.95\n",
      "Estimated Total Size (MB): 162.38\n",
      "----------------------------------------------------------------\n"
     ]
    }
   ],
   "source": [
    "cnn_0 = PretrainedCNNClassifier(\n",
    "    input_shape=input_shape,\n",
    "    num_classes=num_classes,\n",
    "    backbone=\"mobilenet_v2\",\n",
    "    use_dropout=True,\n",
    "    device=device,\n",
    ")\n",
    "summary(cnn_0, input_shape)"
   ]
  },
  {
   "cell_type": "code",
   "execution_count": 11,
   "id": "351e1381",
   "metadata": {},
   "outputs": [],
   "source": [
    "optimizer_cnn_0, scheduler_cnn_0 = build_optimizer_and_scheduler(\n",
    "    cnn_0,\n",
    "    optim_config,\n",
    "    train_loader_len=len(train_loader),\n",
    "    total_epochs=50,\n",
    ")\n",
    "\n",
    "ckpt_cnn_0 = \"weights/larvae-pre-cnn-0.pt\"\n",
    "trainer_cnn_0 = Trainer(\n",
    "    model=cnn_0,\n",
    "    optimizer=optimizer_cnn_0,\n",
    "    criterion=criterion,\n",
    "    device=device,\n",
    "    scheduler=scheduler_cnn_0,\n",
    "    checkpoint_path=ckpt_cnn_0,\n",
    "    patience=5,\n",
    "    metric_fns=[cohen_kappa_fn, f1_fn],\n",
    ")"
   ]
  },
  {
   "cell_type": "code",
   "execution_count": 12,
   "id": "c69b6584",
   "metadata": {},
   "outputs": [
    {
     "name": "stderr",
     "output_type": "stream",
     "text": [
      "                                                                             \r"
     ]
    },
    {
     "name": "stdout",
     "output_type": "stream",
     "text": [
      "📘 Epoch 1 | Train Loss: 0.6660 | Val Loss: 0.6587 | Train cohen_kappa_fn: 0.5194 | Val cohen_kappa_fn: 0.6234 | Train f1_fn: 0.9213 | Val f1_fn: 0.9429\n",
      "  🔥 New best model saved!\n"
     ]
    },
    {
     "name": "stderr",
     "output_type": "stream",
     "text": [
      "                                                                             \r"
     ]
    },
    {
     "name": "stdout",
     "output_type": "stream",
     "text": [
      "📘 Epoch 2 | Train Loss: 0.6261 | Val Loss: 0.6131 | Train cohen_kappa_fn: 0.6487 | Val cohen_kappa_fn: 0.7609 | Train f1_fn: 0.9347 | Val f1_fn: 0.9607\n",
      "  🔥 New best model saved!\n"
     ]
    },
    {
     "name": "stderr",
     "output_type": "stream",
     "text": [
      "                                                                             \r"
     ]
    },
    {
     "name": "stdout",
     "output_type": "stream",
     "text": [
      "📘 Epoch 3 | Train Loss: 0.5709 | Val Loss: 0.5872 | Train cohen_kappa_fn: 0.6365 | Val cohen_kappa_fn: 0.6660 | Train f1_fn: 0.9254 | Val f1_fn: 0.9364\n",
      "  🔥 New best model saved!\n"
     ]
    },
    {
     "name": "stderr",
     "output_type": "stream",
     "text": [
      "                                                                             \r"
     ]
    },
    {
     "name": "stdout",
     "output_type": "stream",
     "text": [
      "📘 Epoch 4 | Train Loss: 0.5298 | Val Loss: 0.5594 | Train cohen_kappa_fn: 0.6441 | Val cohen_kappa_fn: 0.6863 | Train f1_fn: 0.9269 | Val f1_fn: 0.9403\n",
      "  🔥 New best model saved!\n"
     ]
    },
    {
     "name": "stderr",
     "output_type": "stream",
     "text": [
      "                                                                             \r"
     ]
    },
    {
     "name": "stdout",
     "output_type": "stream",
     "text": [
      "📘 Epoch 5 | Train Loss: 0.4859 | Val Loss: 0.5319 | Train cohen_kappa_fn: 0.6565 | Val cohen_kappa_fn: 0.6190 | Train f1_fn: 0.9292 | Val f1_fn: 0.9216\n",
      "  🔥 New best model saved!\n"
     ]
    },
    {
     "name": "stderr",
     "output_type": "stream",
     "text": [
      "                                                                             \r"
     ]
    },
    {
     "name": "stdout",
     "output_type": "stream",
     "text": [
      "📘 Epoch 6 | Train Loss: 0.4449 | Val Loss: 0.5041 | Train cohen_kappa_fn: 0.5980 | Val cohen_kappa_fn: 0.5850 | Train f1_fn: 0.9103 | Val f1_fn: 0.9109\n",
      "  🔥 New best model saved!\n"
     ]
    },
    {
     "name": "stderr",
     "output_type": "stream",
     "text": [
      "                                                                             \r"
     ]
    },
    {
     "name": "stdout",
     "output_type": "stream",
     "text": [
      "📘 Epoch 7 | Train Loss: 0.4051 | Val Loss: 0.4680 | Train cohen_kappa_fn: 0.6337 | Val cohen_kappa_fn: 0.6121 | Train f1_fn: 0.9225 | Val f1_fn: 0.9194\n",
      "  🔥 New best model saved!\n"
     ]
    },
    {
     "name": "stderr",
     "output_type": "stream",
     "text": [
      "                                                                             \r"
     ]
    },
    {
     "name": "stdout",
     "output_type": "stream",
     "text": [
      "📘 Epoch 8 | Train Loss: 0.3683 | Val Loss: 0.4395 | Train cohen_kappa_fn: 0.6653 | Val cohen_kappa_fn: 0.6453 | Train f1_fn: 0.9318 | Val f1_fn: 0.9276\n",
      "  🔥 New best model saved!\n"
     ]
    },
    {
     "name": "stderr",
     "output_type": "stream",
     "text": [
      "                                                                             \r"
     ]
    },
    {
     "name": "stdout",
     "output_type": "stream",
     "text": [
      "📘 Epoch 9 | Train Loss: 0.3482 | Val Loss: 0.4149 | Train cohen_kappa_fn: 0.6338 | Val cohen_kappa_fn: 0.5968 | Train f1_fn: 0.9204 | Val f1_fn: 0.9127\n",
      "  🔥 New best model saved!\n"
     ]
    },
    {
     "name": "stderr",
     "output_type": "stream",
     "text": [
      "                                                                              \r"
     ]
    },
    {
     "name": "stdout",
     "output_type": "stream",
     "text": [
      "📘 Epoch 10 | Train Loss: 0.3137 | Val Loss: 0.3953 | Train cohen_kappa_fn: 0.5843 | Val cohen_kappa_fn: 0.5968 | Train f1_fn: 0.9038 | Val f1_fn: 0.9127\n",
      "  🔥 New best model saved!\n"
     ]
    },
    {
     "name": "stderr",
     "output_type": "stream",
     "text": [
      "                                                                              \r"
     ]
    },
    {
     "name": "stdout",
     "output_type": "stream",
     "text": [
      "📘 Epoch 11 | Train Loss: 0.2953 | Val Loss: 0.3627 | Train cohen_kappa_fn: 0.6235 | Val cohen_kappa_fn: 0.5916 | Train f1_fn: 0.9200 | Val f1_fn: 0.9130\n",
      "  🔥 New best model saved!\n"
     ]
    },
    {
     "name": "stderr",
     "output_type": "stream",
     "text": [
      "                                                                              \r"
     ]
    },
    {
     "name": "stdout",
     "output_type": "stream",
     "text": [
      "📘 Epoch 12 | Train Loss: 0.2922 | Val Loss: 0.3676 | Train cohen_kappa_fn: 0.5728 | Val cohen_kappa_fn: 0.5968 | Train f1_fn: 0.9015 | Val f1_fn: 0.9127\n",
      "  ❄️ No improvement, model won't be saved!\n"
     ]
    },
    {
     "name": "stderr",
     "output_type": "stream",
     "text": [
      "                                                                              \r"
     ]
    },
    {
     "name": "stdout",
     "output_type": "stream",
     "text": [
      "📘 Epoch 13 | Train Loss: 0.2555 | Val Loss: 0.3488 | Train cohen_kappa_fn: 0.6526 | Val cohen_kappa_fn: 0.6102 | Train f1_fn: 0.9274 | Val f1_fn: 0.9170\n",
      "  🔥 New best model saved!\n"
     ]
    },
    {
     "name": "stderr",
     "output_type": "stream",
     "text": [
      "                                                                              \r"
     ]
    },
    {
     "name": "stdout",
     "output_type": "stream",
     "text": [
      "📘 Epoch 14 | Train Loss: 0.2631 | Val Loss: 0.3335 | Train cohen_kappa_fn: 0.6449 | Val cohen_kappa_fn: 0.6052 | Train f1_fn: 0.9238 | Val f1_fn: 0.9173\n",
      "  🔥 New best model saved!\n"
     ]
    },
    {
     "name": "stderr",
     "output_type": "stream",
     "text": [
      "                                                                              \r"
     ]
    },
    {
     "name": "stdout",
     "output_type": "stream",
     "text": [
      "📘 Epoch 15 | Train Loss: 0.2700 | Val Loss: 0.3433 | Train cohen_kappa_fn: 0.5986 | Val cohen_kappa_fn: 0.5585 | Train f1_fn: 0.9113 | Val f1_fn: 0.8996\n",
      "  ❄️ No improvement, model won't be saved!\n"
     ]
    },
    {
     "name": "stderr",
     "output_type": "stream",
     "text": [
      "                                                                              \r"
     ]
    },
    {
     "name": "stdout",
     "output_type": "stream",
     "text": [
      "📘 Epoch 16 | Train Loss: 0.2406 | Val Loss: 0.3197 | Train cohen_kappa_fn: 0.6608 | Val cohen_kappa_fn: 0.5773 | Train f1_fn: 0.9279 | Val f1_fn: 0.9062\n",
      "  🔥 New best model saved!\n"
     ]
    },
    {
     "name": "stderr",
     "output_type": "stream",
     "text": [
      "                                                                              \r"
     ]
    },
    {
     "name": "stdout",
     "output_type": "stream",
     "text": [
      "📘 Epoch 17 | Train Loss: 0.2669 | Val Loss: 0.3035 | Train cohen_kappa_fn: 0.6730 | Val cohen_kappa_fn: 0.6121 | Train f1_fn: 0.9333 | Val f1_fn: 0.9194\n",
      "  🔥 New best model saved!\n"
     ]
    },
    {
     "name": "stderr",
     "output_type": "stream",
     "text": [
      "                                                                              \r"
     ]
    },
    {
     "name": "stdout",
     "output_type": "stream",
     "text": [
      "📘 Epoch 18 | Train Loss: 0.2576 | Val Loss: 0.3102 | Train cohen_kappa_fn: 0.6505 | Val cohen_kappa_fn: 0.5916 | Train f1_fn: 0.9255 | Val f1_fn: 0.9130\n",
      "  ❄️ No improvement, model won't be saved!\n"
     ]
    },
    {
     "name": "stderr",
     "output_type": "stream",
     "text": [
      "                                                                              \r"
     ]
    },
    {
     "name": "stdout",
     "output_type": "stream",
     "text": [
      "📘 Epoch 19 | Train Loss: 0.2274 | Val Loss: 0.3111 | Train cohen_kappa_fn: 0.7019 | Val cohen_kappa_fn: 0.6507 | Train f1_fn: 0.9427 | Val f1_fn: 0.9323\n",
      "  ❄️ No improvement, model won't be saved!\n"
     ]
    },
    {
     "name": "stderr",
     "output_type": "stream",
     "text": [
      "                                                                              \r"
     ]
    },
    {
     "name": "stdout",
     "output_type": "stream",
     "text": [
      "📘 Epoch 20 | Train Loss: 0.2281 | Val Loss: 0.3129 | Train cohen_kappa_fn: 0.6887 | Val cohen_kappa_fn: 0.5984 | Train f1_fn: 0.9354 | Val f1_fn: 0.9152\n",
      "  ❄️ No improvement, model won't be saved!\n"
     ]
    },
    {
     "name": "stderr",
     "output_type": "stream",
     "text": [
      "                                                                              \r"
     ]
    },
    {
     "name": "stdout",
     "output_type": "stream",
     "text": [
      "📘 Epoch 21 | Train Loss: 0.1953 | Val Loss: 0.2972 | Train cohen_kappa_fn: 0.6431 | Val cohen_kappa_fn: 0.5531 | Train f1_fn: 0.9239 | Val f1_fn: 0.9000\n",
      "  🔥 New best model saved!\n"
     ]
    },
    {
     "name": "stderr",
     "output_type": "stream",
     "text": [
      "                                                                               \r"
     ]
    },
    {
     "name": "stdout",
     "output_type": "stream",
     "text": [
      "📘 Epoch 22 | Train Loss: 0.2076 | Val Loss: 0.2831 | Train cohen_kappa_fn: 0.6748 | Val cohen_kappa_fn: 0.6333 | Train f1_fn: 0.9332 | Val f1_fn: 0.9258\n",
      "  🔥 New best model saved!\n"
     ]
    },
    {
     "name": "stderr",
     "output_type": "stream",
     "text": [
      "                                                                              \r"
     ]
    },
    {
     "name": "stdout",
     "output_type": "stream",
     "text": [
      "📘 Epoch 23 | Train Loss: 0.1895 | Val Loss: 0.2899 | Train cohen_kappa_fn: 0.7051 | Val cohen_kappa_fn: 0.6333 | Train f1_fn: 0.9425 | Val f1_fn: 0.9258\n",
      "  ❄️ No improvement, model won't be saved!\n"
     ]
    },
    {
     "name": "stderr",
     "output_type": "stream",
     "text": [
      "                                                                               \r"
     ]
    },
    {
     "name": "stdout",
     "output_type": "stream",
     "text": [
      "📘 Epoch 24 | Train Loss: 0.1975 | Val Loss: 0.2771 | Train cohen_kappa_fn: 0.6926 | Val cohen_kappa_fn: 0.6406 | Train f1_fn: 0.9393 | Val f1_fn: 0.9279\n",
      "  🔥 New best model saved!\n"
     ]
    },
    {
     "name": "stderr",
     "output_type": "stream",
     "text": [
      "                                                                               \r"
     ]
    },
    {
     "name": "stdout",
     "output_type": "stream",
     "text": [
      "📘 Epoch 25 | Train Loss: 0.2019 | Val Loss: 0.2799 | Train cohen_kappa_fn: 0.6630 | Val cohen_kappa_fn: 0.6121 | Train f1_fn: 0.9299 | Val f1_fn: 0.9194\n",
      "  ❄️ No improvement, model won't be saved!\n"
     ]
    },
    {
     "name": "stderr",
     "output_type": "stream",
     "text": [
      "                                                                               \r"
     ]
    },
    {
     "name": "stdout",
     "output_type": "stream",
     "text": [
      "📘 Epoch 26 | Train Loss: 0.1880 | Val Loss: 0.2913 | Train cohen_kappa_fn: 0.6311 | Val cohen_kappa_fn: 0.5593 | Train f1_fn: 0.9195 | Val f1_fn: 0.9022\n",
      "  ❄️ No improvement, model won't be saved!\n"
     ]
    },
    {
     "name": "stderr",
     "output_type": "stream",
     "text": [
      "                                                                               \r"
     ]
    },
    {
     "name": "stdout",
     "output_type": "stream",
     "text": [
      "📘 Epoch 27 | Train Loss: 0.1990 | Val Loss: 0.2719 | Train cohen_kappa_fn: 0.6903 | Val cohen_kappa_fn: 0.5984 | Train f1_fn: 0.9353 | Val f1_fn: 0.9152\n",
      "  🔥 New best model saved!\n"
     ]
    },
    {
     "name": "stderr",
     "output_type": "stream",
     "text": [
      "                                                                               \r"
     ]
    },
    {
     "name": "stdout",
     "output_type": "stream",
     "text": [
      "📘 Epoch 28 | Train Loss: 0.1887 | Val Loss: 0.2757 | Train cohen_kappa_fn: 0.7450 | Val cohen_kappa_fn: 0.6943 | Train f1_fn: 0.9503 | Val f1_fn: 0.9423\n",
      "  ❄️ No improvement, model won't be saved!\n"
     ]
    },
    {
     "name": "stderr",
     "output_type": "stream",
     "text": [
      "                                                                               \r"
     ]
    },
    {
     "name": "stdout",
     "output_type": "stream",
     "text": [
      "📘 Epoch 29 | Train Loss: 0.1933 | Val Loss: 0.2698 | Train cohen_kappa_fn: 0.7460 | Val cohen_kappa_fn: 0.6629 | Train f1_fn: 0.9522 | Val f1_fn: 0.9341\n",
      "  🔥 New best model saved!\n"
     ]
    },
    {
     "name": "stderr",
     "output_type": "stream",
     "text": [
      "                                                                               \r"
     ]
    },
    {
     "name": "stdout",
     "output_type": "stream",
     "text": [
      "📘 Epoch 30 | Train Loss: 0.1851 | Val Loss: 0.2603 | Train cohen_kappa_fn: 0.7008 | Val cohen_kappa_fn: 0.6052 | Train f1_fn: 0.9388 | Val f1_fn: 0.9173\n",
      "  🔥 New best model saved!\n"
     ]
    },
    {
     "name": "stderr",
     "output_type": "stream",
     "text": [
      "                                                                               \r"
     ]
    },
    {
     "name": "stdout",
     "output_type": "stream",
     "text": [
      "📘 Epoch 31 | Train Loss: 0.1959 | Val Loss: 0.2874 | Train cohen_kappa_fn: 0.6820 | Val cohen_kappa_fn: 0.6102 | Train f1_fn: 0.9358 | Val f1_fn: 0.9170\n",
      "  ❄️ No improvement, model won't be saved!\n"
     ]
    },
    {
     "name": "stderr",
     "output_type": "stream",
     "text": [
      "                                                                              \r"
     ]
    },
    {
     "name": "stdout",
     "output_type": "stream",
     "text": [
      "📘 Epoch 32 | Train Loss: 0.2023 | Val Loss: 0.2653 | Train cohen_kappa_fn: 0.7417 | Val cohen_kappa_fn: 0.6333 | Train f1_fn: 0.9495 | Val f1_fn: 0.9258\n",
      "  ❄️ No improvement, model won't be saved!\n"
     ]
    },
    {
     "name": "stderr",
     "output_type": "stream",
     "text": [
      "                                                                               \r"
     ]
    },
    {
     "name": "stdout",
     "output_type": "stream",
     "text": [
      "📘 Epoch 33 | Train Loss: 0.1781 | Val Loss: 0.2640 | Train cohen_kappa_fn: 0.7359 | Val cohen_kappa_fn: 0.7024 | Train f1_fn: 0.9498 | Val f1_fn: 0.9443\n",
      "  ❄️ No improvement, model won't be saved!\n"
     ]
    },
    {
     "name": "stderr",
     "output_type": "stream",
     "text": [
      "                                                                               \r"
     ]
    },
    {
     "name": "stdout",
     "output_type": "stream",
     "text": [
      "📘 Epoch 34 | Train Loss: 0.2039 | Val Loss: 0.2706 | Train cohen_kappa_fn: 0.7671 | Val cohen_kappa_fn: 0.6981 | Train f1_fn: 0.9561 | Val f1_fn: 0.9446\n",
      "  ❄️ No improvement, model won't be saved!\n"
     ]
    },
    {
     "name": "stderr",
     "output_type": "stream",
     "text": [
      "                                                                               \r"
     ]
    },
    {
     "name": "stdout",
     "output_type": "stream",
     "text": [
      "📘 Epoch 35 | Train Loss: 0.1466 | Val Loss: 0.2947 | Train cohen_kappa_fn: 0.6654 | Val cohen_kappa_fn: 0.5531 | Train f1_fn: 0.9287 | Val f1_fn: 0.9000\n",
      "  ❄️ No improvement, model won't be saved!\n",
      "⏹️ Early stopping triggered.\n"
     ]
    }
   ],
   "source": [
    "trainer_cnn_0.fit(train_loader, valid_loader, num_epochs=50)"
   ]
  },
  {
   "cell_type": "code",
   "execution_count": 13,
   "id": "a5d222cc",
   "metadata": {},
   "outputs": [
    {
     "data": {
      "image/png": "[encoded data removed]",
      "text/plain": [
       "<Figure size 1200x800 with 2 Axes>"
      ]
     },
     "metadata": {},
     "output_type": "display_data"
    }
   ],
   "source": [
    "trainer_cnn_0.plot_epochs()"
   ]
  },
  {
   "cell_type": "code",
   "execution_count": 14,
   "id": "860357f4",
   "metadata": {},
   "outputs": [
    {
     "name": "stdout",
     "output_type": "stream",
     "text": [
      "📦 Loading best model...\n",
      "✅ Done!\n",
      "Test Loss: 0.2479 | Test cohen_kappa_fn: 0.6354 | Test f1_fn: 0.9223\n"
     ]
    }
   ],
   "source": [
    "trainer_cnn_0.test(test_loader)"
   ]
  },
  {
   "cell_type": "markdown",
   "id": "b22ef3fb",
   "metadata": {},
   "source": [
    "#### Visualization"
   ]
  },
  {
   "cell_type": "code",
   "execution_count": 15,
   "id": "2b582032",
   "metadata": {},
   "outputs": [],
   "source": [
    "visualizer_0 = Visualizer(model=trainer_cnn_0.model, device=device, labels_map=labels_map)"
   ]
  },
  {
   "cell_type": "code",
   "execution_count": 16,
   "id": "9e212ac3",
   "metadata": {},
   "outputs": [],
   "source": [
    "# Display layer representations\n",
    "# visualizer_0.display_layer_representations(test_loader)"
   ]
  },
  {
   "cell_type": "code",
   "execution_count": 17,
   "id": "88959565",
   "metadata": {},
   "outputs": [],
   "source": [
    "# Display a heatmap for a single larvae sample and a single non-larvae sample\n",
    "# larvae_done = False\n",
    "# non_larvae_done = False\n",
    "# for sample_img, target in test_loader.dataset:\n",
    "#     if not larvae_done and target == 0:  # Larvae\n",
    "#         larvae_done = True\n",
    "#         visualizer_0.display_heatmap(sample_img, target)\n",
    "#     elif not non_larvae_done and target == 1:  # Non-larvae\n",
    "#         non_larvae_done = True\n",
    "#         visualizer_0.display_heatmap(sample_img, target)\n",
    "#     if larvae_done and non_larvae_done:\n",
    "#         break"
   ]
  },
  {
   "cell_type": "markdown",
   "id": "50b5d7f5",
   "metadata": {},
   "source": [
    "### 3.3. CNN1"
   ]
  },
  {
   "cell_type": "code",
   "execution_count": 18,
   "id": "40de0683",
   "metadata": {},
   "outputs": [
    {
     "name": "stdout",
     "output_type": "stream",
     "text": [
      "----------------------------------------------------------------\n",
      "        Layer (type)               Output Shape         Param #\n",
      "================================================================\n",
      "            Conv2d-1         [-1, 96, 109, 109]          14,208\n",
      "              ReLU-2         [-1, 96, 109, 109]               0\n",
      "         MaxPool2d-3           [-1, 96, 54, 54]               0\n",
      "            Conv2d-4           [-1, 16, 54, 54]           1,552\n",
      "              ReLU-5           [-1, 16, 54, 54]               0\n",
      "            Conv2d-6           [-1, 64, 54, 54]           1,088\n",
      "              ReLU-7           [-1, 64, 54, 54]               0\n",
      "            Conv2d-8           [-1, 64, 54, 54]           9,280\n",
      "              ReLU-9           [-1, 64, 54, 54]               0\n",
      "             Fire-10          [-1, 128, 54, 54]               0\n",
      "           Conv2d-11           [-1, 16, 54, 54]           2,064\n",
      "             ReLU-12           [-1, 16, 54, 54]               0\n",
      "           Conv2d-13           [-1, 64, 54, 54]           1,088\n",
      "             ReLU-14           [-1, 64, 54, 54]               0\n",
      "           Conv2d-15           [-1, 64, 54, 54]           9,280\n",
      "             ReLU-16           [-1, 64, 54, 54]               0\n",
      "             Fire-17          [-1, 128, 54, 54]               0\n",
      "           Conv2d-18           [-1, 32, 54, 54]           4,128\n",
      "             ReLU-19           [-1, 32, 54, 54]               0\n",
      "           Conv2d-20          [-1, 128, 54, 54]           4,224\n",
      "             ReLU-21          [-1, 128, 54, 54]               0\n",
      "           Conv2d-22          [-1, 128, 54, 54]          36,992\n",
      "             ReLU-23          [-1, 128, 54, 54]               0\n",
      "             Fire-24          [-1, 256, 54, 54]               0\n",
      "        MaxPool2d-25          [-1, 256, 27, 27]               0\n",
      "           Conv2d-26           [-1, 32, 27, 27]           8,224\n",
      "             ReLU-27           [-1, 32, 27, 27]               0\n",
      "           Conv2d-28          [-1, 128, 27, 27]           4,224\n",
      "             ReLU-29          [-1, 128, 27, 27]               0\n",
      "           Conv2d-30          [-1, 128, 27, 27]          36,992\n",
      "             ReLU-31          [-1, 128, 27, 27]               0\n",
      "             Fire-32          [-1, 256, 27, 27]               0\n",
      "           Conv2d-33           [-1, 48, 27, 27]          12,336\n",
      "             ReLU-34           [-1, 48, 27, 27]               0\n",
      "           Conv2d-35          [-1, 192, 27, 27]           9,408\n",
      "             ReLU-36          [-1, 192, 27, 27]               0\n",
      "           Conv2d-37          [-1, 192, 27, 27]          83,136\n",
      "             ReLU-38          [-1, 192, 27, 27]               0\n",
      "             Fire-39          [-1, 384, 27, 27]               0\n",
      "           Conv2d-40           [-1, 48, 27, 27]          18,480\n",
      "             ReLU-41           [-1, 48, 27, 27]               0\n",
      "           Conv2d-42          [-1, 192, 27, 27]           9,408\n",
      "             ReLU-43          [-1, 192, 27, 27]               0\n",
      "           Conv2d-44          [-1, 192, 27, 27]          83,136\n",
      "             ReLU-45          [-1, 192, 27, 27]               0\n",
      "             Fire-46          [-1, 384, 27, 27]               0\n",
      "           Conv2d-47           [-1, 64, 27, 27]          24,640\n",
      "             ReLU-48           [-1, 64, 27, 27]               0\n",
      "           Conv2d-49          [-1, 256, 27, 27]          16,640\n",
      "             ReLU-50          [-1, 256, 27, 27]               0\n",
      "           Conv2d-51          [-1, 256, 27, 27]         147,712\n",
      "             ReLU-52          [-1, 256, 27, 27]               0\n",
      "             Fire-53          [-1, 512, 27, 27]               0\n",
      "        MaxPool2d-54          [-1, 512, 13, 13]               0\n",
      "           Conv2d-55           [-1, 64, 13, 13]          32,832\n",
      "             ReLU-56           [-1, 64, 13, 13]               0\n",
      "           Conv2d-57          [-1, 256, 13, 13]          16,640\n",
      "             ReLU-58          [-1, 256, 13, 13]               0\n",
      "           Conv2d-59          [-1, 256, 13, 13]         147,712\n",
      "             ReLU-60          [-1, 256, 13, 13]               0\n",
      "             Fire-61          [-1, 512, 13, 13]               0\n",
      "AdaptiveAvgPool2d-62            [-1, 512, 1, 1]               0\n",
      "           Linear-63                   [-1, 96]          49,248\n",
      "             ReLU-64                   [-1, 96]               0\n",
      "          Dropout-65                   [-1, 96]               0\n",
      "           Linear-66                    [-1, 2]             194\n",
      "================================================================\n",
      "Total params: 784,866\n",
      "Trainable params: 49,442\n",
      "Non-trainable params: 735,424\n",
      "----------------------------------------------------------------\n",
      "Input size (MB): 0.57\n",
      "Forward/backward pass size (MB): 88.56\n",
      "Params size (MB): 2.99\n",
      "Estimated Total Size (MB): 92.13\n",
      "----------------------------------------------------------------\n"
     ]
    }
   ],
   "source": [
    "cnn_1 = PretrainedCNNClassifier(\n",
    "    input_shape=input_shape,\n",
    "    num_classes=num_classes,\n",
    "    backbone=\"squeezenet1_0\",\n",
    "    use_dropout=True,\n",
    "    device=device,\n",
    ")\n",
    "summary(cnn_1, input_shape)"
   ]
  },
  {
   "cell_type": "code",
   "execution_count": 19,
   "id": "62d95baa",
   "metadata": {},
   "outputs": [],
   "source": [
    "optimizer_cnn_1, scheduler_cnn_1 = build_optimizer_and_scheduler(\n",
    "    cnn_1,\n",
    "    optim_config,\n",
    "    train_loader_len=len(train_loader),\n",
    "    total_epochs=50,\n",
    ")\n",
    "ckpt_cnn_1 = \"weights/larvae-pre-cnn-1.pt\"\n",
    "trainer_cnn_1 = Trainer(\n",
    "    model=cnn_1,\n",
    "    optimizer=optimizer_cnn_1,\n",
    "    criterion=criterion,\n",
    "    device=device,\n",
    "    scheduler=scheduler_cnn_1,\n",
    "    checkpoint_path=ckpt_cnn_1,\n",
    "    patience=5,\n",
    "    metric_fns=[cohen_kappa_fn, f1_fn],\n",
    ")"
   ]
  },
  {
   "cell_type": "code",
   "execution_count": 20,
   "id": "fe2f65d8",
   "metadata": {},
   "outputs": [
    {
     "name": "stderr",
     "output_type": "stream",
     "text": [
      "                                                                             \r"
     ]
    },
    {
     "name": "stdout",
     "output_type": "stream",
     "text": [
      "📘 Epoch 1 | Train Loss: 0.5930 | Val Loss: 0.4662 | Train cohen_kappa_fn: 0.4932 | Val cohen_kappa_fn: 0.5395 | Train f1_fn: 0.8695 | Val f1_fn: 0.8875\n",
      "  🔥 New best model saved!\n"
     ]
    },
    {
     "name": "stderr",
     "output_type": "stream",
     "text": [
      "                                                                             \r"
     ]
    },
    {
     "name": "stdout",
     "output_type": "stream",
     "text": [
      "📘 Epoch 2 | Train Loss: 0.4465 | Val Loss: 0.3698 | Train cohen_kappa_fn: 0.6555 | Val cohen_kappa_fn: 0.7224 | Train f1_fn: 0.9283 | Val f1_fn: 0.9457\n",
      "  🔥 New best model saved!\n"
     ]
    },
    {
     "name": "stderr",
     "output_type": "stream",
     "text": [
      "                                                                             \r"
     ]
    },
    {
     "name": "stdout",
     "output_type": "stream",
     "text": [
      "📘 Epoch 3 | Train Loss: 0.3503 | Val Loss: 0.3098 | Train cohen_kappa_fn: 0.6867 | Val cohen_kappa_fn: 0.7470 | Train f1_fn: 0.9366 | Val f1_fn: 0.9518\n",
      "  🔥 New best model saved!\n"
     ]
    },
    {
     "name": "stderr",
     "output_type": "stream",
     "text": [
      "                                                                             \r"
     ]
    },
    {
     "name": "stdout",
     "output_type": "stream",
     "text": [
      "📘 Epoch 4 | Train Loss: 0.2999 | Val Loss: 0.2688 | Train cohen_kappa_fn: 0.7430 | Val cohen_kappa_fn: 0.7484 | Train f1_fn: 0.9524 | Val f1_fn: 0.9542\n",
      "  🔥 New best model saved!\n"
     ]
    },
    {
     "name": "stderr",
     "output_type": "stream",
     "text": [
      "                                                                             \r"
     ]
    },
    {
     "name": "stdout",
     "output_type": "stream",
     "text": [
      "📘 Epoch 5 | Train Loss: 0.2596 | Val Loss: 0.2462 | Train cohen_kappa_fn: 0.7638 | Val cohen_kappa_fn: 0.7660 | Train f1_fn: 0.9572 | Val f1_fn: 0.9582\n",
      "  🔥 New best model saved!\n"
     ]
    },
    {
     "name": "stderr",
     "output_type": "stream",
     "text": [
      "                                                                             \r"
     ]
    },
    {
     "name": "stdout",
     "output_type": "stream",
     "text": [
      "📘 Epoch 6 | Train Loss: 0.2284 | Val Loss: 0.2314 | Train cohen_kappa_fn: 0.7781 | Val cohen_kappa_fn: 0.7660 | Train f1_fn: 0.9604 | Val f1_fn: 0.9582\n",
      "  🔥 New best model saved!\n"
     ]
    },
    {
     "name": "stderr",
     "output_type": "stream",
     "text": [
      "                                                                             \r"
     ]
    },
    {
     "name": "stdout",
     "output_type": "stream",
     "text": [
      "📘 Epoch 7 | Train Loss: 0.2117 | Val Loss: 0.2198 | Train cohen_kappa_fn: 0.7965 | Val cohen_kappa_fn: 0.8094 | Train f1_fn: 0.9653 | Val f1_fn: 0.9681\n",
      "  🔥 New best model saved!\n"
     ]
    },
    {
     "name": "stderr",
     "output_type": "stream",
     "text": [
      "                                                                              \r"
     ]
    },
    {
     "name": "stdout",
     "output_type": "stream",
     "text": [
      "📘 Epoch 8 | Train Loss: 0.2071 | Val Loss: 0.2125 | Train cohen_kappa_fn: 0.8028 | Val cohen_kappa_fn: 0.8220 | Train f1_fn: 0.9659 | Val f1_fn: 0.9699\n",
      "  🔥 New best model saved!\n"
     ]
    },
    {
     "name": "stderr",
     "output_type": "stream",
     "text": [
      "                                                                              \r"
     ]
    },
    {
     "name": "stdout",
     "output_type": "stream",
     "text": [
      "📘 Epoch 9 | Train Loss: 0.1882 | Val Loss: 0.1965 | Train cohen_kappa_fn: 0.8203 | Val cohen_kappa_fn: 0.8220 | Train f1_fn: 0.9690 | Val f1_fn: 0.9699\n",
      "  🔥 New best model saved!\n"
     ]
    },
    {
     "name": "stderr",
     "output_type": "stream",
     "text": [
      "                                                                               \r"
     ]
    },
    {
     "name": "stdout",
     "output_type": "stream",
     "text": [
      "📘 Epoch 10 | Train Loss: 0.1762 | Val Loss: 0.1954 | Train cohen_kappa_fn: 0.8066 | Val cohen_kappa_fn: 0.8220 | Train f1_fn: 0.9667 | Val f1_fn: 0.9699\n",
      "  🔥 New best model saved!\n"
     ]
    },
    {
     "name": "stderr",
     "output_type": "stream",
     "text": [
      "                                                                               \r"
     ]
    },
    {
     "name": "stdout",
     "output_type": "stream",
     "text": [
      "📘 Epoch 11 | Train Loss: 0.1626 | Val Loss: 0.1870 | Train cohen_kappa_fn: 0.8214 | Val cohen_kappa_fn: 0.8220 | Train f1_fn: 0.9689 | Val f1_fn: 0.9699\n",
      "  🔥 New best model saved!\n"
     ]
    },
    {
     "name": "stderr",
     "output_type": "stream",
     "text": [
      "                                                                               \r"
     ]
    },
    {
     "name": "stdout",
     "output_type": "stream",
     "text": [
      "📘 Epoch 12 | Train Loss: 0.1696 | Val Loss: 0.1843 | Train cohen_kappa_fn: 0.8077 | Val cohen_kappa_fn: 0.8220 | Train f1_fn: 0.9667 | Val f1_fn: 0.9699\n",
      "  🔥 New best model saved!\n"
     ]
    },
    {
     "name": "stderr",
     "output_type": "stream",
     "text": [
      "                                                                               \r"
     ]
    },
    {
     "name": "stdout",
     "output_type": "stream",
     "text": [
      "📘 Epoch 13 | Train Loss: 0.1721 | Val Loss: 0.1904 | Train cohen_kappa_fn: 0.8317 | Val cohen_kappa_fn: 0.8265 | Train f1_fn: 0.9722 | Val f1_fn: 0.9721\n",
      "  ❄️ No improvement, model won't be saved!\n"
     ]
    },
    {
     "name": "stderr",
     "output_type": "stream",
     "text": [
      "                                                                               \r"
     ]
    },
    {
     "name": "stdout",
     "output_type": "stream",
     "text": [
      "📘 Epoch 14 | Train Loss: 0.1513 | Val Loss: 0.1793 | Train cohen_kappa_fn: 0.8165 | Val cohen_kappa_fn: 0.8192 | Train f1_fn: 0.9682 | Val f1_fn: 0.9700\n",
      "  🔥 New best model saved!\n"
     ]
    },
    {
     "name": "stderr",
     "output_type": "stream",
     "text": [
      "                                                                               \r"
     ]
    },
    {
     "name": "stdout",
     "output_type": "stream",
     "text": [
      "📘 Epoch 15 | Train Loss: 0.1467 | Val Loss: 0.1822 | Train cohen_kappa_fn: 0.8051 | Val cohen_kappa_fn: 0.8393 | Train f1_fn: 0.9658 | Val f1_fn: 0.9739\n",
      "  ❄️ No improvement, model won't be saved!\n"
     ]
    },
    {
     "name": "stderr",
     "output_type": "stream",
     "text": [
      "                                                                               \r"
     ]
    },
    {
     "name": "stdout",
     "output_type": "stream",
     "text": [
      "📘 Epoch 16 | Train Loss: 0.1522 | Val Loss: 0.1736 | Train cohen_kappa_fn: 0.8089 | Val cohen_kappa_fn: 0.8292 | Train f1_fn: 0.9666 | Val f1_fn: 0.9720\n",
      "  🔥 New best model saved!\n"
     ]
    },
    {
     "name": "stderr",
     "output_type": "stream",
     "text": [
      "                                                                               \r"
     ]
    },
    {
     "name": "stdout",
     "output_type": "stream",
     "text": [
      "📘 Epoch 17 | Train Loss: 0.1411 | Val Loss: 0.1689 | Train cohen_kappa_fn: 0.8037 | Val cohen_kappa_fn: 0.8192 | Train f1_fn: 0.9649 | Val f1_fn: 0.9700\n",
      "  🔥 New best model saved!\n"
     ]
    },
    {
     "name": "stderr",
     "output_type": "stream",
     "text": [
      "                                                                               \r"
     ]
    },
    {
     "name": "stdout",
     "output_type": "stream",
     "text": [
      "📘 Epoch 18 | Train Loss: 0.1414 | Val Loss: 0.1845 | Train cohen_kappa_fn: 0.7977 | Val cohen_kappa_fn: 0.8292 | Train f1_fn: 0.9643 | Val f1_fn: 0.9720\n",
      "  ❄️ No improvement, model won't be saved!\n"
     ]
    },
    {
     "name": "stderr",
     "output_type": "stream",
     "text": [
      "                                                                               \r"
     ]
    },
    {
     "name": "stdout",
     "output_type": "stream",
     "text": [
      "📘 Epoch 19 | Train Loss: 0.1390 | Val Loss: 0.1689 | Train cohen_kappa_fn: 0.8181 | Val cohen_kappa_fn: 0.8393 | Train f1_fn: 0.9691 | Val f1_fn: 0.9739\n",
      "  ❄️ No improvement, model won't be saved!\n"
     ]
    },
    {
     "name": "stderr",
     "output_type": "stream",
     "text": [
      "                                                                               \r"
     ]
    },
    {
     "name": "stdout",
     "output_type": "stream",
     "text": [
      "📘 Epoch 20 | Train Loss: 0.1336 | Val Loss: 0.1692 | Train cohen_kappa_fn: 0.8176 | Val cohen_kappa_fn: 0.8393 | Train f1_fn: 0.9681 | Val f1_fn: 0.9739\n",
      "  ❄️ No improvement, model won't be saved!\n"
     ]
    },
    {
     "name": "stderr",
     "output_type": "stream",
     "text": [
      "                                                                               \r"
     ]
    },
    {
     "name": "stdout",
     "output_type": "stream",
     "text": [
      "📘 Epoch 21 | Train Loss: 0.1273 | Val Loss: 0.1689 | Train cohen_kappa_fn: 0.8165 | Val cohen_kappa_fn: 0.8393 | Train f1_fn: 0.9682 | Val f1_fn: 0.9739\n",
      "  🔥 New best model saved!\n"
     ]
    },
    {
     "name": "stderr",
     "output_type": "stream",
     "text": [
      "                                                                               \r"
     ]
    },
    {
     "name": "stdout",
     "output_type": "stream",
     "text": [
      "📘 Epoch 22 | Train Loss: 0.1250 | Val Loss: 0.1662 | Train cohen_kappa_fn: 0.8214 | Val cohen_kappa_fn: 0.8393 | Train f1_fn: 0.9689 | Val f1_fn: 0.9739\n",
      "  🔥 New best model saved!\n"
     ]
    },
    {
     "name": "stderr",
     "output_type": "stream",
     "text": [
      "                                                                               \r"
     ]
    },
    {
     "name": "stdout",
     "output_type": "stream",
     "text": [
      "📘 Epoch 23 | Train Loss: 0.1300 | Val Loss: 0.1589 | Train cohen_kappa_fn: 0.8138 | Val cohen_kappa_fn: 0.8393 | Train f1_fn: 0.9674 | Val f1_fn: 0.9739\n",
      "  🔥 New best model saved!\n"
     ]
    },
    {
     "name": "stderr",
     "output_type": "stream",
     "text": [
      "                                                                               \r"
     ]
    },
    {
     "name": "stdout",
     "output_type": "stream",
     "text": [
      "📘 Epoch 24 | Train Loss: 0.1161 | Val Loss: 0.1573 | Train cohen_kappa_fn: 0.8466 | Val cohen_kappa_fn: 0.8393 | Train f1_fn: 0.9735 | Val f1_fn: 0.9739\n",
      "  🔥 New best model saved!\n"
     ]
    },
    {
     "name": "stderr",
     "output_type": "stream",
     "text": [
      "                                                                               \r"
     ]
    },
    {
     "name": "stdout",
     "output_type": "stream",
     "text": [
      "📘 Epoch 25 | Train Loss: 0.1206 | Val Loss: 0.1582 | Train cohen_kappa_fn: 0.8252 | Val cohen_kappa_fn: 0.8393 | Train f1_fn: 0.9697 | Val f1_fn: 0.9739\n",
      "  ❄️ No improvement, model won't be saved!\n"
     ]
    },
    {
     "name": "stderr",
     "output_type": "stream",
     "text": [
      "                                                                               \r"
     ]
    },
    {
     "name": "stdout",
     "output_type": "stream",
     "text": [
      "📘 Epoch 26 | Train Loss: 0.1260 | Val Loss: 0.1605 | Train cohen_kappa_fn: 0.8358 | Val cohen_kappa_fn: 0.8393 | Train f1_fn: 0.9721 | Val f1_fn: 0.9739\n",
      "  ❄️ No improvement, model won't be saved!\n"
     ]
    },
    {
     "name": "stderr",
     "output_type": "stream",
     "text": [
      "                                                                               \r"
     ]
    },
    {
     "name": "stdout",
     "output_type": "stream",
     "text": [
      "📘 Epoch 27 | Train Loss: 0.1190 | Val Loss: 0.1574 | Train cohen_kappa_fn: 0.8447 | Val cohen_kappa_fn: 0.8393 | Train f1_fn: 0.9736 | Val f1_fn: 0.9739\n",
      "  ❄️ No improvement, model won't be saved!\n"
     ]
    },
    {
     "name": "stderr",
     "output_type": "stream",
     "text": [
      "                                                                               \r"
     ]
    },
    {
     "name": "stdout",
     "output_type": "stream",
     "text": [
      "📘 Epoch 28 | Train Loss: 0.1108 | Val Loss: 0.1516 | Train cohen_kappa_fn: 0.8408 | Val cohen_kappa_fn: 0.8393 | Train f1_fn: 0.9728 | Val f1_fn: 0.9739\n",
      "  🔥 New best model saved!\n"
     ]
    },
    {
     "name": "stderr",
     "output_type": "stream",
     "text": [
      "                                                                               \r"
     ]
    },
    {
     "name": "stdout",
     "output_type": "stream",
     "text": [
      "📘 Epoch 29 | Train Loss: 0.1208 | Val Loss: 0.1446 | Train cohen_kappa_fn: 0.8311 | Val cohen_kappa_fn: 0.8393 | Train f1_fn: 0.9704 | Val f1_fn: 0.9739\n",
      "  🔥 New best model saved!\n"
     ]
    },
    {
     "name": "stderr",
     "output_type": "stream",
     "text": [
      "                                                                               \r"
     ]
    },
    {
     "name": "stdout",
     "output_type": "stream",
     "text": [
      "📘 Epoch 30 | Train Loss: 0.1262 | Val Loss: 0.1513 | Train cohen_kappa_fn: 0.8301 | Val cohen_kappa_fn: 0.8393 | Train f1_fn: 0.9704 | Val f1_fn: 0.9739\n",
      "  ❄️ No improvement, model won't be saved!\n"
     ]
    },
    {
     "name": "stderr",
     "output_type": "stream",
     "text": [
      "                                                                               \r"
     ]
    },
    {
     "name": "stdout",
     "output_type": "stream",
     "text": [
      "📘 Epoch 31 | Train Loss: 0.1163 | Val Loss: 0.1489 | Train cohen_kappa_fn: 0.8584 | Val cohen_kappa_fn: 0.8393 | Train f1_fn: 0.9758 | Val f1_fn: 0.9739\n",
      "  ❄️ No improvement, model won't be saved!\n"
     ]
    },
    {
     "name": "stderr",
     "output_type": "stream",
     "text": [
      "                                                                               \r"
     ]
    },
    {
     "name": "stdout",
     "output_type": "stream",
     "text": [
      "📘 Epoch 32 | Train Loss: 0.1039 | Val Loss: 0.1512 | Train cohen_kappa_fn: 0.8780 | Val cohen_kappa_fn: 0.8496 | Train f1_fn: 0.9797 | Val f1_fn: 0.9758\n",
      "  ❄️ No improvement, model won't be saved!\n"
     ]
    },
    {
     "name": "stderr",
     "output_type": "stream",
     "text": [
      "                                                                               \r"
     ]
    },
    {
     "name": "stdout",
     "output_type": "stream",
     "text": [
      "📘 Epoch 33 | Train Loss: 0.1086 | Val Loss: 0.1477 | Train cohen_kappa_fn: 0.8505 | Val cohen_kappa_fn: 0.8496 | Train f1_fn: 0.9743 | Val f1_fn: 0.9758\n",
      "  ❄️ No improvement, model won't be saved!\n"
     ]
    },
    {
     "name": "stderr",
     "output_type": "stream",
     "text": [
      "                                                                               \r"
     ]
    },
    {
     "name": "stdout",
     "output_type": "stream",
     "text": [
      "📘 Epoch 34 | Train Loss: 0.1091 | Val Loss: 0.1466 | Train cohen_kappa_fn: 0.8301 | Val cohen_kappa_fn: 0.8393 | Train f1_fn: 0.9704 | Val f1_fn: 0.9739\n",
      "  ❄️ No improvement, model won't be saved!\n",
      "⏹️ Early stopping triggered.\n"
     ]
    }
   ],
   "source": [
    "trainer_cnn_1.fit(train_loader, valid_loader, num_epochs=50)"
   ]
  },
  {
   "cell_type": "code",
   "execution_count": 21,
   "id": "16dc72db",
   "metadata": {},
   "outputs": [
    {
     "data": {
      "image/png": "[encoded data removed]",
      "text/plain": [
       "<Figure size 1200x800 with 2 Axes>"
      ]
     },
     "metadata": {},
     "output_type": "display_data"
    }
   ],
   "source": [
    "trainer_cnn_1.plot_epochs()"
   ]
  },
  {
   "cell_type": "code",
   "execution_count": 22,
   "id": "0cbc88c1",
   "metadata": {},
   "outputs": [
    {
     "name": "stdout",
     "output_type": "stream",
     "text": [
      "📦 Loading best model...\n",
      "✅ Done!\n"
     ]
    },
    {
     "name": "stdout",
     "output_type": "stream",
     "text": [
      "Test Loss: 0.1158 | Test cohen_kappa_fn: 0.8502 | Test f1_fn: 0.9750\n"
     ]
    }
   ],
   "source": [
    "trainer_cnn_1.test(test_loader)"
   ]
  },
  {
   "cell_type": "markdown",
   "id": "58d9f7ef",
   "metadata": {},
   "source": [
    "#### Visualization"
   ]
  },
  {
   "cell_type": "code",
   "execution_count": 23,
   "id": "e4315a57",
   "metadata": {},
   "outputs": [],
   "source": [
    "visualizer_1 = Visualizer(model=trainer_cnn_1.model, device=device, labels_map=labels_map)"
   ]
  },
  {
   "cell_type": "code",
   "execution_count": 24,
   "id": "28bb5c63",
   "metadata": {},
   "outputs": [],
   "source": [
    "# Display layer representations\n",
    "# visualizer_1.display_layer_representations(test_loader)"
   ]
  },
  {
   "cell_type": "code",
   "execution_count": 25,
   "id": "d3e45299",
   "metadata": {},
   "outputs": [],
   "source": [
    "# Display a heatmap for a single larvae sample and a single non-larvae sample\n",
    "# larvae_done = False\n",
    "# non_larvae_done = False\n",
    "# for sample_img, target in test_loader.dataset:\n",
    "#     if not larvae_done and target == 0:  # Larvae\n",
    "#         larvae_done = True\n",
    "#         visualizer_1.display_heatmap(sample_img, target)\n",
    "#     elif not non_larvae_done and target == 1:  # Non-larvae\n",
    "#         non_larvae_done = True\n",
    "#         visualizer_1.display_heatmap(sample_img, target)\n",
    "#     if larvae_done and non_larvae_done:\n",
    "#         break"
   ]
  },
  {
   "cell_type": "markdown",
   "id": "b8d76f55",
   "metadata": {},
   "source": [
    "### 3.4. CNN2"
   ]
  },
  {
   "cell_type": "code",
   "execution_count": 26,
   "id": "903c8cbf",
   "metadata": {},
   "outputs": [
    {
     "name": "stdout",
     "output_type": "stream",
     "text": [
      "Downloading: \"https://download.pytorch.org/models/resnet18-f37072fd.pth\" to /home/giovanne/.cache/torch/hub/checkpoints/resnet18-f37072fd.pth\n"
     ]
    },
    {
     "name": "stderr",
     "output_type": "stream",
     "text": [
      "100%|██████████| 44.7M/44.7M [00:04<00:00, 11.4MB/s]\n"
     ]
    },
    {
     "name": "stdout",
     "output_type": "stream",
     "text": [
      "----------------------------------------------------------------\n",
      "        Layer (type)               Output Shape         Param #\n",
      "================================================================\n",
      "            Conv2d-1         [-1, 64, 112, 112]           9,408\n",
      "       BatchNorm2d-2         [-1, 64, 112, 112]             128\n",
      "              ReLU-3         [-1, 64, 112, 112]               0\n",
      "         MaxPool2d-4           [-1, 64, 56, 56]               0\n",
      "            Conv2d-5           [-1, 64, 56, 56]          36,864\n",
      "       BatchNorm2d-6           [-1, 64, 56, 56]             128\n",
      "              ReLU-7           [-1, 64, 56, 56]               0\n",
      "            Conv2d-8           [-1, 64, 56, 56]          36,864\n",
      "       BatchNorm2d-9           [-1, 64, 56, 56]             128\n",
      "             ReLU-10           [-1, 64, 56, 56]               0\n",
      "       BasicBlock-11           [-1, 64, 56, 56]               0\n",
      "           Conv2d-12           [-1, 64, 56, 56]          36,864\n",
      "      BatchNorm2d-13           [-1, 64, 56, 56]             128\n",
      "             ReLU-14           [-1, 64, 56, 56]               0\n",
      "           Conv2d-15           [-1, 64, 56, 56]          36,864\n",
      "      BatchNorm2d-16           [-1, 64, 56, 56]             128\n",
      "             ReLU-17           [-1, 64, 56, 56]               0\n",
      "       BasicBlock-18           [-1, 64, 56, 56]               0\n",
      "           Conv2d-19          [-1, 128, 28, 28]          73,728\n",
      "      BatchNorm2d-20          [-1, 128, 28, 28]             256\n",
      "             ReLU-21          [-1, 128, 28, 28]               0\n",
      "           Conv2d-22          [-1, 128, 28, 28]         147,456\n",
      "      BatchNorm2d-23          [-1, 128, 28, 28]             256\n",
      "           Conv2d-24          [-1, 128, 28, 28]           8,192\n",
      "      BatchNorm2d-25          [-1, 128, 28, 28]             256\n",
      "             ReLU-26          [-1, 128, 28, 28]               0\n",
      "       BasicBlock-27          [-1, 128, 28, 28]               0\n",
      "           Conv2d-28          [-1, 128, 28, 28]         147,456\n",
      "      BatchNorm2d-29          [-1, 128, 28, 28]             256\n",
      "             ReLU-30          [-1, 128, 28, 28]               0\n",
      "           Conv2d-31          [-1, 128, 28, 28]         147,456\n",
      "      BatchNorm2d-32          [-1, 128, 28, 28]             256\n",
      "             ReLU-33          [-1, 128, 28, 28]               0\n",
      "       BasicBlock-34          [-1, 128, 28, 28]               0\n",
      "           Conv2d-35          [-1, 256, 14, 14]         294,912\n",
      "      BatchNorm2d-36          [-1, 256, 14, 14]             512\n",
      "             ReLU-37          [-1, 256, 14, 14]               0\n",
      "           Conv2d-38          [-1, 256, 14, 14]         589,824\n",
      "      BatchNorm2d-39          [-1, 256, 14, 14]             512\n",
      "           Conv2d-40          [-1, 256, 14, 14]          32,768\n",
      "      BatchNorm2d-41          [-1, 256, 14, 14]             512\n",
      "             ReLU-42          [-1, 256, 14, 14]               0\n",
      "       BasicBlock-43          [-1, 256, 14, 14]               0\n",
      "           Conv2d-44          [-1, 256, 14, 14]         589,824\n",
      "      BatchNorm2d-45          [-1, 256, 14, 14]             512\n",
      "             ReLU-46          [-1, 256, 14, 14]               0\n",
      "           Conv2d-47          [-1, 256, 14, 14]         589,824\n",
      "      BatchNorm2d-48          [-1, 256, 14, 14]             512\n",
      "             ReLU-49          [-1, 256, 14, 14]               0\n",
      "       BasicBlock-50          [-1, 256, 14, 14]               0\n",
      "           Conv2d-51            [-1, 512, 7, 7]       1,179,648\n",
      "      BatchNorm2d-52            [-1, 512, 7, 7]           1,024\n",
      "             ReLU-53            [-1, 512, 7, 7]               0\n",
      "           Conv2d-54            [-1, 512, 7, 7]       2,359,296\n",
      "      BatchNorm2d-55            [-1, 512, 7, 7]           1,024\n",
      "           Conv2d-56            [-1, 512, 7, 7]         131,072\n",
      "      BatchNorm2d-57            [-1, 512, 7, 7]           1,024\n",
      "             ReLU-58            [-1, 512, 7, 7]               0\n",
      "       BasicBlock-59            [-1, 512, 7, 7]               0\n",
      "           Conv2d-60            [-1, 512, 7, 7]       2,359,296\n",
      "      BatchNorm2d-61            [-1, 512, 7, 7]           1,024\n",
      "             ReLU-62            [-1, 512, 7, 7]               0\n",
      "           Conv2d-63            [-1, 512, 7, 7]       2,359,296\n",
      "      BatchNorm2d-64            [-1, 512, 7, 7]           1,024\n",
      "             ReLU-65            [-1, 512, 7, 7]               0\n",
      "       BasicBlock-66            [-1, 512, 7, 7]               0\n",
      "           Linear-67                   [-1, 96]          49,248\n",
      "             ReLU-68                   [-1, 96]               0\n",
      "          Dropout-69                   [-1, 96]               0\n",
      "           Linear-70                    [-1, 2]             194\n",
      "================================================================\n",
      "Total params: 11,225,954\n",
      "Trainable params: 49,442\n",
      "Non-trainable params: 11,176,512\n",
      "----------------------------------------------------------------\n",
      "Input size (MB): 0.57\n",
      "Forward/backward pass size (MB): 62.78\n",
      "Params size (MB): 42.82\n",
      "Estimated Total Size (MB): 106.18\n",
      "----------------------------------------------------------------\n"
     ]
    }
   ],
   "source": [
    "cnn_2 = PretrainedCNNClassifier(\n",
    "    input_shape=input_shape,\n",
    "    num_classes=num_classes,\n",
    "    backbone=\"resnet18\",\n",
    "    use_dropout=True,\n",
    "    device=device,\n",
    ")\n",
    "summary(cnn_2, input_shape)"
   ]
  },
  {
   "cell_type": "code",
   "execution_count": 27,
   "id": "ec05c6e8",
   "metadata": {},
   "outputs": [],
   "source": [
    "optimizer_cnn_2, scheduler_cnn_2 = build_optimizer_and_scheduler(\n",
    "    cnn_2,\n",
    "    optim_config,\n",
    "    train_loader_len=len(train_loader),\n",
    "    total_epochs=50,\n",
    ")\n",
    "ckpt_cnn_2 = \"weights/larvae-pre-cnn-2.pt\"\n",
    "trainer_cnn_2 = Trainer(\n",
    "    model=cnn_2,\n",
    "    optimizer=optimizer_cnn_2,\n",
    "    criterion=criterion,\n",
    "    device=device,\n",
    "    scheduler=scheduler_cnn_2,\n",
    "    checkpoint_path=ckpt_cnn_2,\n",
    "    patience=5,\n",
    "    metric_fns=[cohen_kappa_fn, f1_fn],\n",
    ")"
   ]
  },
  {
   "cell_type": "code",
   "execution_count": 28,
   "id": "60b49642",
   "metadata": {},
   "outputs": [
    {
     "name": "stderr",
     "output_type": "stream",
     "text": [
      "                                                                             \r"
     ]
    },
    {
     "name": "stdout",
     "output_type": "stream",
     "text": [
      "📘 Epoch 1 | Train Loss: 0.6638 | Val Loss: 0.5938 | Train cohen_kappa_fn: 0.3361 | Val cohen_kappa_fn: 0.5735 | Train f1_fn: 0.9254 | Val f1_fn: 0.9443\n",
      "  🔥 New best model saved!\n"
     ]
    },
    {
     "name": "stderr",
     "output_type": "stream",
     "text": [
      "                                                                             \r"
     ]
    },
    {
     "name": "stdout",
     "output_type": "stream",
     "text": [
      "📘 Epoch 2 | Train Loss: 0.5767 | Val Loss: 0.5319 | Train cohen_kappa_fn: 0.5868 | Val cohen_kappa_fn: 0.6479 | Train f1_fn: 0.9172 | Val f1_fn: 0.9300\n",
      "  🔥 New best model saved!\n"
     ]
    },
    {
     "name": "stderr",
     "output_type": "stream",
     "text": [
      "                                                                             \r"
     ]
    },
    {
     "name": "stdout",
     "output_type": "stream",
     "text": [
      "📘 Epoch 3 | Train Loss: 0.5248 | Val Loss: 0.4858 | Train cohen_kappa_fn: 0.7422 | Val cohen_kappa_fn: 0.7016 | Train f1_fn: 0.9599 | Val f1_fn: 0.9515\n",
      "  🔥 New best model saved!\n"
     ]
    },
    {
     "name": "stderr",
     "output_type": "stream",
     "text": [
      "                                                                             \r"
     ]
    },
    {
     "name": "stdout",
     "output_type": "stream",
     "text": [
      "📘 Epoch 4 | Train Loss: 0.4655 | Val Loss: 0.4322 | Train cohen_kappa_fn: 0.7115 | Val cohen_kappa_fn: 0.6943 | Train f1_fn: 0.9452 | Val f1_fn: 0.9423\n",
      "  🔥 New best model saved!\n"
     ]
    },
    {
     "name": "stderr",
     "output_type": "stream",
     "text": [
      "                                                                             \r"
     ]
    },
    {
     "name": "stdout",
     "output_type": "stream",
     "text": [
      "📘 Epoch 5 | Train Loss: 0.4232 | Val Loss: 0.3989 | Train cohen_kappa_fn: 0.6964 | Val cohen_kappa_fn: 0.7193 | Train f1_fn: 0.9450 | Val f1_fn: 0.9508\n",
      "  🔥 New best model saved!\n"
     ]
    },
    {
     "name": "stderr",
     "output_type": "stream",
     "text": [
      "                                                                             \r"
     ]
    },
    {
     "name": "stdout",
     "output_type": "stream",
     "text": [
      "📘 Epoch 6 | Train Loss: 0.3883 | Val Loss: 0.3662 | Train cohen_kappa_fn: 0.6968 | Val cohen_kappa_fn: 0.7064 | Train f1_fn: 0.9430 | Val f1_fn: 0.9466\n",
      "  🔥 New best model saved!\n"
     ]
    },
    {
     "name": "stderr",
     "output_type": "stream",
     "text": [
      "                                                                             \r"
     ]
    },
    {
     "name": "stdout",
     "output_type": "stream",
     "text": [
      "📘 Epoch 7 | Train Loss: 0.3518 | Val Loss: 0.3431 | Train cohen_kappa_fn: 0.7298 | Val cohen_kappa_fn: 0.7193 | Train f1_fn: 0.9501 | Val f1_fn: 0.9508\n",
      "  🔥 New best model saved!\n"
     ]
    },
    {
     "name": "stderr",
     "output_type": "stream",
     "text": [
      "                                                                             \r"
     ]
    },
    {
     "name": "stdout",
     "output_type": "stream",
     "text": [
      "📘 Epoch 8 | Train Loss: 0.3377 | Val Loss: 0.3143 | Train cohen_kappa_fn: 0.7165 | Val cohen_kappa_fn: 0.7149 | Train f1_fn: 0.9469 | Val f1_fn: 0.9486\n",
      "  🔥 New best model saved!\n"
     ]
    },
    {
     "name": "stderr",
     "output_type": "stream",
     "text": [
      "                                                                             \r"
     ]
    },
    {
     "name": "stdout",
     "output_type": "stream",
     "text": [
      "📘 Epoch 9 | Train Loss: 0.3018 | Val Loss: 0.3109 | Train cohen_kappa_fn: 0.7165 | Val cohen_kappa_fn: 0.6943 | Train f1_fn: 0.9469 | Val f1_fn: 0.9423\n",
      "  🔥 New best model saved!\n"
     ]
    },
    {
     "name": "stderr",
     "output_type": "stream",
     "text": [
      "                                                                              \r"
     ]
    },
    {
     "name": "stdout",
     "output_type": "stream",
     "text": [
      "📘 Epoch 10 | Train Loss: 0.3030 | Val Loss: 0.2883 | Train cohen_kappa_fn: 0.7214 | Val cohen_kappa_fn: 0.7106 | Train f1_fn: 0.9476 | Val f1_fn: 0.9488\n",
      "  🔥 New best model saved!\n"
     ]
    },
    {
     "name": "stderr",
     "output_type": "stream",
     "text": [
      "                                                                              \r"
     ]
    },
    {
     "name": "stdout",
     "output_type": "stream",
     "text": [
      "📘 Epoch 11 | Train Loss: 0.2674 | Val Loss: 0.2829 | Train cohen_kappa_fn: 0.6983 | Val cohen_kappa_fn: 0.7234 | Train f1_fn: 0.9439 | Val f1_fn: 0.9506\n",
      "  🔥 New best model saved!\n"
     ]
    },
    {
     "name": "stderr",
     "output_type": "stream",
     "text": [
      "                                                                              \r"
     ]
    },
    {
     "name": "stdout",
     "output_type": "stream",
     "text": [
      "📘 Epoch 12 | Train Loss: 0.2849 | Val Loss: 0.2738 | Train cohen_kappa_fn: 0.7269 | Val cohen_kappa_fn: 0.7106 | Train f1_fn: 0.9512 | Val f1_fn: 0.9488\n",
      "  🔥 New best model saved!\n"
     ]
    },
    {
     "name": "stderr",
     "output_type": "stream",
     "text": [
      "                                                                              \r"
     ]
    },
    {
     "name": "stdout",
     "output_type": "stream",
     "text": [
      "📘 Epoch 13 | Train Loss: 0.2506 | Val Loss: 0.2608 | Train cohen_kappa_fn: 0.6889 | Val cohen_kappa_fn: 0.7146 | Train f1_fn: 0.9404 | Val f1_fn: 0.9462\n",
      "  🔥 New best model saved!\n"
     ]
    },
    {
     "name": "stderr",
     "output_type": "stream",
     "text": [
      "                                                                              \r"
     ]
    },
    {
     "name": "stdout",
     "output_type": "stream",
     "text": [
      "📘 Epoch 14 | Train Loss: 0.2389 | Val Loss: 0.2556 | Train cohen_kappa_fn: 0.7435 | Val cohen_kappa_fn: 0.7189 | Train f1_fn: 0.9533 | Val f1_fn: 0.9484\n",
      "  🔥 New best model saved!\n"
     ]
    },
    {
     "name": "stderr",
     "output_type": "stream",
     "text": [
      "                                                                              \r"
     ]
    },
    {
     "name": "stdout",
     "output_type": "stream",
     "text": [
      "📘 Epoch 15 | Train Loss: 0.2400 | Val Loss: 0.2549 | Train cohen_kappa_fn: 0.7632 | Val cohen_kappa_fn: 0.7234 | Train f1_fn: 0.9582 | Val f1_fn: 0.9506\n",
      "  🔥 New best model saved!\n"
     ]
    },
    {
     "name": "stderr",
     "output_type": "stream",
     "text": [
      "                                                                              \r"
     ]
    },
    {
     "name": "stdout",
     "output_type": "stream",
     "text": [
      "📘 Epoch 16 | Train Loss: 0.2475 | Val Loss: 0.2430 | Train cohen_kappa_fn: 0.7682 | Val cohen_kappa_fn: 0.7234 | Train f1_fn: 0.9589 | Val f1_fn: 0.9506\n",
      "  🔥 New best model saved!\n"
     ]
    },
    {
     "name": "stderr",
     "output_type": "stream",
     "text": [
      "                                                                               \r"
     ]
    },
    {
     "name": "stdout",
     "output_type": "stream",
     "text": [
      "📘 Epoch 17 | Train Loss: 0.2359 | Val Loss: 0.2504 | Train cohen_kappa_fn: 0.7519 | Val cohen_kappa_fn: 0.7274 | Train f1_fn: 0.9549 | Val f1_fn: 0.9504\n",
      "  ❄️ No improvement, model won't be saved!\n"
     ]
    },
    {
     "name": "stderr",
     "output_type": "stream",
     "text": [
      "                                                                              \r"
     ]
    },
    {
     "name": "stdout",
     "output_type": "stream",
     "text": [
      "📘 Epoch 18 | Train Loss: 0.1982 | Val Loss: 0.2417 | Train cohen_kappa_fn: 0.7625 | Val cohen_kappa_fn: 0.7149 | Train f1_fn: 0.9573 | Val f1_fn: 0.9486\n",
      "  🔥 New best model saved!\n"
     ]
    },
    {
     "name": "stderr",
     "output_type": "stream",
     "text": [
      "                                                                              \r"
     ]
    },
    {
     "name": "stdout",
     "output_type": "stream",
     "text": [
      "📘 Epoch 19 | Train Loss: 0.2191 | Val Loss: 0.2355 | Train cohen_kappa_fn: 0.7841 | Val cohen_kappa_fn: 0.7321 | Train f1_fn: 0.9620 | Val f1_fn: 0.9526\n",
      "  🔥 New best model saved!\n"
     ]
    },
    {
     "name": "stderr",
     "output_type": "stream",
     "text": [
      "                                                                               \r"
     ]
    },
    {
     "name": "stdout",
     "output_type": "stream",
     "text": [
      "📘 Epoch 20 | Train Loss: 0.1884 | Val Loss: 0.2308 | Train cohen_kappa_fn: 0.7430 | Val cohen_kappa_fn: 0.7313 | Train f1_fn: 0.9524 | Val f1_fn: 0.9502\n",
      "  🔥 New best model saved!\n"
     ]
    },
    {
     "name": "stderr",
     "output_type": "stream",
     "text": [
      "                                                                              \r"
     ]
    },
    {
     "name": "stdout",
     "output_type": "stream",
     "text": [
      "📘 Epoch 21 | Train Loss: 0.2093 | Val Loss: 0.2300 | Train cohen_kappa_fn: 0.7445 | Val cohen_kappa_fn: 0.7313 | Train f1_fn: 0.9523 | Val f1_fn: 0.9502\n",
      "  🔥 New best model saved!\n"
     ]
    },
    {
     "name": "stderr",
     "output_type": "stream",
     "text": [
      "                                                                              \r"
     ]
    },
    {
     "name": "stdout",
     "output_type": "stream",
     "text": [
      "📘 Epoch 22 | Train Loss: 0.2003 | Val Loss: 0.2368 | Train cohen_kappa_fn: 0.8042 | Val cohen_kappa_fn: 0.7370 | Train f1_fn: 0.9668 | Val f1_fn: 0.9547\n",
      "  ❄️ No improvement, model won't be saved!\n"
     ]
    },
    {
     "name": "stderr",
     "output_type": "stream",
     "text": [
      "                                                                              \r"
     ]
    },
    {
     "name": "stdout",
     "output_type": "stream",
     "text": [
      "📘 Epoch 23 | Train Loss: 0.2234 | Val Loss: 0.2140 | Train cohen_kappa_fn: 0.7359 | Val cohen_kappa_fn: 0.7484 | Train f1_fn: 0.9498 | Val f1_fn: 0.9542\n",
      "  🔥 New best model saved!\n"
     ]
    },
    {
     "name": "stderr",
     "output_type": "stream",
     "text": [
      "                                                                               \r"
     ]
    },
    {
     "name": "stdout",
     "output_type": "stream",
     "text": [
      "📘 Epoch 24 | Train Loss: 0.2215 | Val Loss: 0.2252 | Train cohen_kappa_fn: 0.7666 | Val cohen_kappa_fn: 0.7398 | Train f1_fn: 0.9571 | Val f1_fn: 0.9522\n",
      "  ❄️ No improvement, model won't be saved!\n"
     ]
    },
    {
     "name": "stderr",
     "output_type": "stream",
     "text": [
      "                                                                               \r"
     ]
    },
    {
     "name": "stdout",
     "output_type": "stream",
     "text": [
      "📘 Epoch 25 | Train Loss: 0.1970 | Val Loss: 0.2312 | Train cohen_kappa_fn: 0.7965 | Val cohen_kappa_fn: 0.7321 | Train f1_fn: 0.9643 | Val f1_fn: 0.9526\n",
      "  ❄️ No improvement, model won't be saved!\n"
     ]
    },
    {
     "name": "stderr",
     "output_type": "stream",
     "text": [
      "                                                                               \r"
     ]
    },
    {
     "name": "stdout",
     "output_type": "stream",
     "text": [
      "📘 Epoch 26 | Train Loss: 0.2057 | Val Loss: 0.2172 | Train cohen_kappa_fn: 0.7195 | Val cohen_kappa_fn: 0.7268 | Train f1_fn: 0.9457 | Val f1_fn: 0.9480\n",
      "  ❄️ No improvement, model won't be saved!\n"
     ]
    },
    {
     "name": "stderr",
     "output_type": "stream",
     "text": [
      "                                                                               \r"
     ]
    },
    {
     "name": "stdout",
     "output_type": "stream",
     "text": [
      "📘 Epoch 27 | Train Loss: 0.1875 | Val Loss: 0.2232 | Train cohen_kappa_fn: 0.8224 | Val cohen_kappa_fn: 0.7321 | Train f1_fn: 0.9689 | Val f1_fn: 0.9526\n",
      "  ❄️ No improvement, model won't be saved!\n"
     ]
    },
    {
     "name": "stderr",
     "output_type": "stream",
     "text": [
      "                                                                               \r"
     ]
    },
    {
     "name": "stdout",
     "output_type": "stream",
     "text": [
      "📘 Epoch 28 | Train Loss: 0.1818 | Val Loss: 0.2228 | Train cohen_kappa_fn: 0.7513 | Val cohen_kappa_fn: 0.7321 | Train f1_fn: 0.9539 | Val f1_fn: 0.9526\n",
      "  ❄️ No improvement, model won't be saved!\n",
      "⏹️ Early stopping triggered.\n"
     ]
    }
   ],
   "source": [
    "trainer_cnn_2.fit(train_loader, valid_loader, num_epochs=50)"
   ]
  },
  {
   "cell_type": "code",
   "execution_count": 29,
   "id": "15332a7a",
   "metadata": {},
   "outputs": [
    {
     "data": {
      "image/png": "[encoded data removed]",
      "text/plain": [
       "<Figure size 1200x800 with 2 Axes>"
      ]
     },
     "metadata": {},
     "output_type": "display_data"
    }
   ],
   "source": [
    "trainer_cnn_2.plot_epochs()"
   ]
  },
  {
   "cell_type": "code",
   "execution_count": 30,
   "id": "c6197e2b",
   "metadata": {},
   "outputs": [
    {
     "name": "stdout",
     "output_type": "stream",
     "text": [
      "📦 Loading best model...\n",
      "✅ Done!\n",
      "Test Loss: 0.1700 | Test cohen_kappa_fn: 0.7310 | Test f1_fn: 0.9486\n"
     ]
    }
   ],
   "source": [
    "trainer_cnn_2.test(test_loader)"
   ]
  },
  {
   "cell_type": "markdown",
   "id": "b34c0aaf",
   "metadata": {},
   "source": [
    "#### Visualization"
   ]
  },
  {
   "cell_type": "code",
   "execution_count": 31,
   "id": "09f1e088",
   "metadata": {},
   "outputs": [],
   "source": [
    "visualizer_2 = Visualizer(model=trainer_cnn_2.model, device=device, labels_map=labels_map)"
   ]
  },
  {
   "cell_type": "code",
   "execution_count": 32,
   "id": "7ac97e14",
   "metadata": {},
   "outputs": [],
   "source": [
    "# Display layer representations\n",
    "# visualizer_2.display_layer_representations(test_loader)"
   ]
  },
  {
   "cell_type": "code",
   "execution_count": 33,
   "id": "bdeddd90",
   "metadata": {},
   "outputs": [],
   "source": [
    "# Display a heatmap for a single larvae sample and a single non-larvae sample\n",
    "# larvae_done = False\n",
    "# non_larvae_done = False\n",
    "# for sample_img, target in test_loader.dataset:\n",
    "#     if not larvae_done and target == 0:  # Larvae\n",
    "#         larvae_done = True\n",
    "#         visualizer_2.display_heatmap(sample_img, target)\n",
    "#     elif not non_larvae_done and target == 1:  # Non-larvae\n",
    "#         non_larvae_done = True\n",
    "#         visualizer_2.display_heatmap(sample_img, target)\n",
    "#     if larvae_done and non_larvae_done:\n",
    "#         break"
   ]
  }
 ],
 "metadata": {
  "kernelspec": {
   "display_name": ".venv",
   "language": "python",
   "name": "python3"
  },
  "language_info": {
   "codemirror_mode": {
    "name": "ipython",
    "version": 3
   },
   "file_extension": ".py",
   "mimetype": "text/x-python",
   "name": "python",
   "nbconvert_exporter": "python",
   "pygments_lexer": "ipython3",
   "version": "3.12.10"
  }
 },
 "nbformat": 4,
 "nbformat_minor": 5
}
