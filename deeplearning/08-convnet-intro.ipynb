{
 "cells": [
  {
   "cell_type": "markdown",
   "metadata": {
    "colab_type": "text",
    "id": "UACxZR8ciiUQ"
   },
   "source": [
    "# Using PyTorch to build, train, and test convolutional neural networks"
   ]
  },
  {
   "cell_type": "markdown",
   "metadata": {
    "colab_type": "text",
    "id": "wz1OQ5nuzcZs"
   },
   "source": [
    "## Agenda\n",
    "*   Basic operations\n",
    "  *    Convolution\n",
    "  *    Activation\n",
    "  *    Pooling\n",
    "  *    Batch normalization\n",
    "  *    Skip conection\n",
    "  *    Linear\n",
    "  *    Dropout\n",
    "*   Loading and splitting a dataset  \n",
    "*   Building a convolutional neural network\n",
    "*   Defining loss function and optimizer\n",
    "*   Training and testing\n",
    "*   Saving and loading the model\n",
    "\n",
    "\n",
    "\n"
   ]
  },
  {
   "cell_type": "markdown",
   "metadata": {
    "colab_type": "text",
    "id": "F07sd5Oa_lce"
   },
   "source": [
    "## Basic operations"
   ]
  },
  {
   "cell_type": "markdown",
   "metadata": {
    "colab_type": "text",
    "id": "gAnRUGQwlD7C"
   },
   "source": [
    "PyTorch has a module called `nn` that provides a lot of useful tools to build neural networks. This module defines most commonly used operations, such as convolution, pooling and activation. We will see how to use some of these operations using module `nn`: \n",
    "\n",
    "*   Convolution\n",
    "*   Activation\n",
    "*   Pooling\n",
    "*   Batch normalization\n",
    "*   Skip connection\n",
    "*   Linear transformation (dense layer) \n",
    "*   Dropout"
   ]
  },
  {
   "cell_type": "code",
   "execution_count": 1,
   "metadata": {
    "colab": {},
    "colab_type": "code",
    "id": "sCdMfoJL_ii9"
   },
   "outputs": [],
   "source": [
    "#import module nn\n",
    "import torch\n",
    "from torch import nn as nn"
   ]
  },
  {
   "cell_type": "markdown",
   "metadata": {
    "colab_type": "text",
    "id": "6p4eyRIkAYHq"
   },
   "source": [
    "### Convolution"
   ]
  },
  {
   "cell_type": "markdown",
   "metadata": {
    "colab_type": "text",
    "id": "ffbtsg3Fr8I8"
   },
   "source": [
    "You must provide the number of input channels, the number of output channels (i.e., number of kernels), and the kernel sizes. To preserve image dimensions, you must provide the padding size. \n",
    "\n",
    "CLASS torch.nn.Conv2d(in_channels, out_channels, kernel_size, stride=1, padding=0, dilation=1, groups=1, bias=True, padding_mode='zeros', device=None, dtype=None)"
   ]
  },
  {
   "cell_type": "code",
   "execution_count": 2,
   "metadata": {
    "colab": {},
    "colab_type": "code",
    "id": "GulcMRYF_yMg"
   },
   "outputs": [],
   "source": [
    "#it defines a convolution with 3 kernels of sizes 5 x 3\n",
    "conv = nn.Conv2d(in_channels=2, out_channels=3, kernel_size=(5, 3), padding=(2,1))"
   ]
  },
  {
   "cell_type": "markdown",
   "metadata": {
    "colab_type": "text",
    "id": "vIPiM70Bn-ib"
   },
   "source": [
    "The weights are stored in a tensor $K_{N, M, P, Q}$, such that\n",
    "$N$ is the number of kernels, $M$ is the number of input channels, $P$ and $Q$ are the input dimensions (height, width). \n",
    "\n"
   ]
  },
  {
   "cell_type": "code",
   "execution_count": 3,
   "metadata": {
    "colab": {
     "base_uri": "https://localhost:8080/",
     "height": 34
    },
    "colab_type": "code",
    "id": "nAWDHZM-UmOO",
    "outputId": "83229aad-6f46-4b41-ee64-baca763b5160"
   },
   "outputs": [
    {
     "name": "stdout",
     "output_type": "stream",
     "text": [
      "torch.Size([3, 2, 5, 3])\n"
     ]
    }
   ],
   "source": [
    "print(conv.weight.data.shape)"
   ]
  },
  {
   "cell_type": "markdown",
   "metadata": {
    "colab_type": "text",
    "id": "znFB_adxsduZ"
   },
   "source": [
    "The input is a tensor $I_{B, M, P, Q}$, such that $B$ is the batch size, $M$ is the number of channels, and $P$ and $Q$ are the input dimensions (height, width). "
   ]
  },
  {
   "cell_type": "code",
   "execution_count": 4,
   "metadata": {
    "colab": {
     "base_uri": "https://localhost:8080/",
     "height": 34
    },
    "colab_type": "code",
    "id": "jGgzqB0N_6Bn",
    "outputId": "deb325d2-3828-47ed-a930-131ae2e60d2a"
   },
   "outputs": [
    {
     "name": "stdout",
     "output_type": "stream",
     "text": [
      "x =  tensor([[[[0.6785, 0.5267, 0.6008, 0.8125, 0.4584, 0.1031, 0.7072, 0.3611],\n",
      "          [0.1625, 0.7262, 0.7983, 0.7697, 0.5928, 0.9122, 0.7059, 0.1152],\n",
      "          [0.1307, 0.0431, 0.1228, 0.7817, 0.4352, 0.3735, 0.3487, 0.2283],\n",
      "          [0.8960, 0.7892, 0.7263, 0.2153, 0.0731, 0.0909, 0.9259, 0.5085],\n",
      "          [0.1703, 0.4474, 0.5979, 0.8021, 0.0547, 0.4326, 0.7091, 0.7499],\n",
      "          [0.7327, 0.0431, 0.5285, 0.4730, 0.5052, 0.1560, 0.8497, 0.0657],\n",
      "          [0.2195, 0.7650, 0.2152, 0.8062, 0.5110, 0.2993, 0.9035, 0.3128],\n",
      "          [0.3080, 0.2251, 0.7946, 0.2107, 0.1470, 0.5972, 0.8407, 0.8993],\n",
      "          [0.8438, 0.4102, 0.2018, 0.5766, 0.8000, 0.9523, 0.0469, 0.7585],\n",
      "          [0.6946, 0.7913, 0.1224, 0.5829, 0.2002, 0.7722, 0.1284, 0.0875]],\n",
      "\n",
      "         [[0.5426, 0.9481, 0.0426, 0.6161, 0.0776, 0.2687, 0.8642, 0.9763],\n",
      "          [0.3155, 0.1234, 0.1612, 0.3286, 0.2100, 0.5178, 0.8156, 0.0682],\n",
      "          [0.0683, 0.4018, 0.6488, 0.5407, 0.5767, 0.0363, 0.1621, 0.6312],\n",
      "          [0.6679, 0.8718, 0.7966, 0.9240, 0.1751, 0.3684, 0.2495, 0.8176],\n",
      "          [0.3531, 0.8366, 0.7650, 0.9356, 0.5189, 0.0941, 0.3152, 0.7242],\n",
      "          [0.9190, 0.1995, 0.2928, 0.5121, 0.4514, 0.6276, 0.4538, 0.5228],\n",
      "          [0.1248, 0.8536, 0.2953, 0.8766, 0.5087, 0.1794, 0.7057, 0.6169],\n",
      "          [0.2602, 0.0814, 0.8251, 0.1931, 0.2604, 0.6326, 0.3002, 0.9490],\n",
      "          [0.0245, 0.1143, 0.3613, 0.0162, 0.4295, 0.3890, 0.8041, 0.6590],\n",
      "          [0.2609, 0.4552, 0.7129, 0.5305, 0.0123, 0.2349, 0.2202, 0.4540]]]])\n",
      "torch.Size([1, 2, 10, 8])\n"
     ]
    }
   ],
   "source": [
    "#creating a random input\n",
    "x = torch.rand(1, 2, 10, 8)\n",
    "print(\"x = \", x)\n",
    "print(x.size())"
   ]
  },
  {
   "cell_type": "code",
   "execution_count": 5,
   "metadata": {
    "colab": {},
    "colab_type": "code",
    "id": "PmW5oc9wAMtf"
   },
   "outputs": [
    {
     "name": "stdout",
     "output_type": "stream",
     "text": [
      "y_conv =  tensor([[[[-1.8938e-02,  9.4871e-02,  9.8958e-02,  1.4374e-01,  1.4300e-01,\n",
      "            2.0032e-01, -2.8170e-01, -1.4287e-02],\n",
      "          [ 4.2005e-01,  4.5046e-01,  2.8905e-01,  3.2755e-01, -3.2837e-02,\n",
      "            1.3820e-01,  9.9674e-02,  6.2953e-02],\n",
      "          [ 2.3196e-01,  1.2658e-01,  2.9328e-01,  1.0067e-01,  3.1922e-01,\n",
      "            3.0165e-01,  5.6978e-02, -2.5691e-01],\n",
      "          [ 2.5559e-01,  2.4802e-01,  2.1968e-01,  1.2768e-01,  1.3947e-01,\n",
      "            5.0548e-01, -7.3439e-03, -1.1353e-01],\n",
      "          [ 7.0026e-02,  5.6589e-02,  3.9255e-02, -1.0052e-01,  1.9997e-01,\n",
      "            3.4844e-01,  1.5895e-01, -8.8367e-02],\n",
      "          [ 2.2104e-01,  1.0481e-01,  5.3376e-02, -9.7609e-02, -2.7928e-01,\n",
      "            4.8508e-01,  4.2364e-02,  3.2748e-02],\n",
      "          [ 2.3358e-01, -1.6628e-02, -4.3937e-03, -1.0505e-01,  4.9283e-02,\n",
      "            3.2413e-01,  1.2915e-01, -5.8728e-02],\n",
      "          [ 2.3883e-01,  7.5204e-02,  9.2401e-02,  3.4530e-01,  5.9642e-02,\n",
      "            1.1240e-01, -2.4200e-01, -1.6392e-01],\n",
      "          [ 1.7944e-01, -6.9417e-02,  5.7620e-02, -9.3475e-02,  5.7102e-02,\n",
      "           -4.8972e-02, -2.5307e-02, -2.7925e-01],\n",
      "          [ 1.2100e-01, -1.0291e-01,  1.5039e-01, -6.3338e-02,  2.4380e-01,\n",
      "           -9.9527e-02,  1.5224e-01,  1.8095e-02]],\n",
      "\n",
      "         [[ 8.4823e-02,  1.1105e-01,  1.6563e-02, -1.7978e-01, -1.5136e-01,\n",
      "           -1.7653e-02, -8.7503e-03, -1.9160e-02],\n",
      "          [ 1.1794e-01, -9.0158e-03,  1.1940e-02, -1.6023e-01,  8.7560e-02,\n",
      "            2.1038e-01,  1.2359e-01, -5.0128e-02],\n",
      "          [-1.0825e-02, -6.7285e-02,  2.3746e-01, -1.0705e-01,  8.4755e-02,\n",
      "            3.2234e-01, -5.4322e-02, -1.4844e-01],\n",
      "          [ 4.4805e-02,  3.9925e-01,  1.8473e-01,  4.0067e-02,  8.6722e-02,\n",
      "            4.3889e-02, -1.8351e-01, -9.0989e-02],\n",
      "          [ 1.9679e-01,  1.0415e-01,  4.1321e-01,  1.1448e-01,  7.4559e-03,\n",
      "            2.8507e-01, -2.1822e-01, -1.0600e-01],\n",
      "          [ 1.3599e-01,  3.2739e-01, -6.7685e-02,  5.4641e-02,  2.0015e-01,\n",
      "            2.7757e-01,  7.7029e-02, -2.6129e-01],\n",
      "          [ 1.5162e-02,  1.3937e-01,  2.9546e-01,  1.1218e-01,  3.7557e-01,\n",
      "            2.4393e-01, -1.5379e-01, -1.5272e-01],\n",
      "          [-6.2292e-02, -5.5985e-02,  1.5788e-01, -7.9136e-02,  1.0355e-01,\n",
      "            9.0952e-02,  2.4844e-01, -5.6508e-02],\n",
      "          [-3.9816e-02, -2.2698e-02,  2.8027e-01,  1.1868e-01,  1.6428e-01,\n",
      "           -1.8584e-02,  2.8921e-01,  1.5743e-01],\n",
      "          [-1.6963e-02,  2.1061e-01,  1.9100e-01,  1.3944e-01,  2.7449e-01,\n",
      "            1.5174e-01,  2.8523e-01, -1.8553e-01]],\n",
      "\n",
      "         [[-2.5574e-02, -1.8424e-01,  3.8316e-02, -2.8353e-02,  2.0934e-01,\n",
      "           -6.4663e-03,  1.4388e-01,  8.5318e-02],\n",
      "          [-1.4163e-01, -1.0459e-01, -1.1546e-02,  1.0097e-01,  6.6595e-02,\n",
      "            2.1415e-01, -3.1592e-01,  1.3564e-01],\n",
      "          [-1.4530e-01,  2.5891e-01,  2.2839e-01,  3.3307e-01,  1.7613e-01,\n",
      "           -6.1187e-02, -9.2073e-02,  3.5634e-01],\n",
      "          [ 1.1158e-01,  1.8070e-01, -2.2615e-02,  5.8843e-02,  1.6793e-01,\n",
      "            2.5181e-02,  4.7702e-02,  2.6939e-01],\n",
      "          [-7.7414e-02, -4.1522e-02, -1.5329e-01,  5.1821e-02, -3.2571e-02,\n",
      "            7.9374e-02, -4.5749e-02,  2.3711e-01],\n",
      "          [-1.0194e-01, -8.7490e-02, -1.5065e-03, -8.6574e-02,  1.1832e-01,\n",
      "            1.6220e-02,  9.4698e-02,  3.0943e-01],\n",
      "          [-2.0939e-01, -7.9243e-02,  2.2971e-01,  3.5965e-04,  1.5726e-01,\n",
      "            7.6688e-02,  9.0643e-02,  1.5354e-01],\n",
      "          [-1.2534e-02,  6.7238e-02,  2.3209e-01, -1.4983e-01, -8.8812e-03,\n",
      "           -1.9119e-02,  1.8433e-01,  3.7247e-02],\n",
      "          [-1.1609e-01,  1.5039e-01, -8.9391e-03,  1.0563e-01,  1.1504e-01,\n",
      "            2.8373e-02, -2.1532e-02, -4.6078e-02],\n",
      "          [-1.5395e-02,  2.1770e-01, -6.6760e-02, -6.5689e-02, -3.7430e-02,\n",
      "            2.2639e-01,  1.5532e-01, -2.4766e-01]]]],\n",
      "       grad_fn=<ConvolutionBackward0>)\n",
      "torch.Size([1, 3, 10, 8])\n"
     ]
    }
   ],
   "source": [
    "#Convolving x with the three kernels that have already been randomly initialized\n",
    "y_conv = conv(x)\n",
    "print(\"y_conv = \", y_conv)\n",
    "print(y_conv.shape)"
   ]
  },
  {
   "cell_type": "markdown",
   "metadata": {
    "colab_type": "text",
    "id": "4kuaU58CtqfE"
   },
   "source": [
    "We can also set the kernel weights as we want."
   ]
  },
  {
   "cell_type": "code",
   "execution_count": 6,
   "metadata": {
    "colab": {},
    "colab_type": "code",
    "id": "XV21oH6IBZnS"
   },
   "outputs": [],
   "source": [
    "#initializing weights and biases\n",
    "conv.weight.data = torch.rand(3, 2, 5, 3, requires_grad=True) - 0.5\n",
    "conv.bias.data   = torch.rand(3, requires_grad=True) - 0.5"
   ]
  },
  {
   "cell_type": "code",
   "execution_count": 7,
   "metadata": {
    "colab": {},
    "colab_type": "code",
    "id": "FRb2j6YlFxRH"
   },
   "outputs": [
    {
     "name": "stdout",
     "output_type": "stream",
     "text": [
      "y_conv =  tensor([[[[-6.3944e-02, -3.9448e-01, -5.2423e-01,  5.4311e-02, -9.6193e-01,\n",
      "           -4.7119e-01,  3.7509e-01, -3.3604e-01],\n",
      "          [ 5.6385e-01,  1.5323e-01,  2.4410e-01,  3.7827e-01,  5.1155e-01,\n",
      "            5.2009e-03, -8.8513e-02, -3.8777e-01],\n",
      "          [-7.5476e-01,  3.6318e-01,  9.6517e-01,  6.9916e-01,  2.6568e-01,\n",
      "           -4.0834e-01, -3.4232e-01,  5.5587e-01],\n",
      "          [-1.0179e-01, -1.0332e+00, -1.1190e+00, -3.8577e-01, -4.7798e-02,\n",
      "           -5.0988e-01,  4.2481e-01,  4.9969e-01],\n",
      "          [ 6.0678e-01,  8.5530e-01, -1.2137e-01, -3.7507e-01, -6.6679e-01,\n",
      "           -5.0118e-01,  6.1390e-01,  4.4076e-01],\n",
      "          [-1.0555e+00, -5.7490e-01,  4.5664e-01,  4.5734e-01,  2.9994e-01,\n",
      "           -9.2763e-01, -2.5793e-01,  4.6950e-01],\n",
      "          [-1.4699e-01, -9.1588e-01, -6.3593e-01,  2.9720e-01, -5.6925e-01,\n",
      "           -3.9599e-01, -3.1742e-01,  1.1312e-01],\n",
      "          [-5.9355e-01,  9.3768e-01, -4.2469e-02, -6.3924e-01, -2.8880e-01,\n",
      "            9.2349e-02,  6.6034e-02,  4.5285e-01],\n",
      "          [-8.1168e-01, -5.3713e-01,  2.4055e-01, -4.4187e-01,  5.0856e-02,\n",
      "           -4.8212e-01, -1.9073e-01,  4.6258e-01],\n",
      "          [ 9.9095e-03, -7.7543e-02, -8.0471e-01,  9.4541e-02, -2.1644e-01,\n",
      "            2.0895e-02, -4.3874e-01, -3.6521e-01]],\n",
      "\n",
      "         [[-5.8807e-01, -1.2939e+00, -1.5781e+00, -1.0598e+00, -7.3226e-01,\n",
      "            2.5652e-02, -3.1246e-01, -9.3143e-01],\n",
      "          [-1.6372e+00, -2.4660e+00, -2.3221e+00, -1.9998e+00, -1.7421e+00,\n",
      "           -2.0119e+00, -1.7643e+00, -1.4546e+00],\n",
      "          [-7.1629e-01, -1.3662e+00, -2.0974e+00, -2.1345e+00, -2.2624e+00,\n",
      "           -1.9571e+00, -1.6962e+00, -8.8464e-01],\n",
      "          [-9.2013e-01, -1.8181e+00, -1.6115e+00, -1.4182e+00, -1.7432e+00,\n",
      "           -1.9414e+00, -1.2855e+00, -1.0374e+00],\n",
      "          [-1.1506e+00, -2.2709e+00, -2.6807e+00, -2.5930e+00, -1.2561e+00,\n",
      "           -2.0210e+00, -1.3538e+00, -1.7787e+00],\n",
      "          [-1.0208e+00, -1.9860e+00, -2.1222e+00, -1.7478e+00, -2.0572e+00,\n",
      "           -1.8279e+00, -1.8950e+00, -1.3802e+00],\n",
      "          [-8.9465e-01, -1.2879e+00, -1.6118e+00, -2.2921e+00, -2.0837e+00,\n",
      "           -1.9968e+00, -1.7573e+00, -1.3799e+00],\n",
      "          [-1.2803e+00, -1.2983e+00, -2.2900e+00, -1.9251e+00, -1.4859e+00,\n",
      "           -9.1564e-01, -2.3489e+00, -1.6494e+00],\n",
      "          [-6.1341e-01, -7.0572e-01, -1.2160e+00, -1.7211e+00, -1.8063e+00,\n",
      "           -1.1720e+00, -1.6296e+00, -1.8828e+00],\n",
      "          [-1.1629e+00, -1.0504e+00, -1.4959e+00, -1.3389e+00, -1.6661e+00,\n",
      "           -1.6627e+00, -1.5633e+00, -1.1544e+00]],\n",
      "\n",
      "         [[-3.6533e-01, -2.9849e-01,  2.0610e-01, -3.2265e-01,  2.8025e-01,\n",
      "            4.4259e-03, -4.7354e-02,  4.5668e-01],\n",
      "          [-6.0295e-01,  7.7853e-02,  6.2799e-02, -1.4977e-01,  5.5964e-01,\n",
      "            7.3870e-02, -3.8064e-01,  6.7399e-01],\n",
      "          [-1.3608e+00, -2.8503e-01, -6.1293e-02,  6.3586e-01,  5.8846e-01,\n",
      "           -5.7235e-01, -1.3468e-01,  5.6289e-01],\n",
      "          [-4.9443e-01, -7.5301e-02,  2.4565e-01,  1.8414e-01,  8.4085e-01,\n",
      "            2.6086e-02,  2.3400e-01,  1.0030e-01],\n",
      "          [-1.2055e+00,  3.9881e-01, -1.3947e-01,  2.6184e-01,  8.4300e-01,\n",
      "           -1.8433e-01, -2.0721e-01,  5.3051e-01],\n",
      "          [-1.2787e+00, -2.9023e-01,  2.4071e-01, -3.6172e-02,  4.6358e-01,\n",
      "           -1.9723e-01, -7.2511e-01,  1.1483e+00],\n",
      "          [-5.8667e-01, -2.4495e-01, -3.1850e-01,  3.1565e-01,  4.0475e-01,\n",
      "            3.2540e-02, -3.7165e-01,  8.0165e-01],\n",
      "          [-8.8464e-01,  2.4222e-01, -4.8822e-01,  2.0370e-03,  7.7174e-02,\n",
      "           -3.2723e-01,  2.9413e-01,  3.4391e-01],\n",
      "          [-1.3497e+00, -2.5109e-01, -5.4463e-01,  3.0047e-01,  1.2374e-01,\n",
      "           -7.4464e-01,  3.0736e-01,  1.6135e-01],\n",
      "          [-5.6050e-01, -1.7074e-01,  2.6866e-01, -3.1264e-01, -3.3698e-01,\n",
      "           -4.5369e-01,  5.1799e-02,  1.2724e-01]]]],\n",
      "       grad_fn=<ConvolutionBackward0>)\n",
      "torch.Size([1, 3, 10, 8])\n"
     ]
    }
   ],
   "source": [
    "#Convolving x with our new kernel bank of three kernels\n",
    "y_conv = conv(x)\n",
    "print(\"y_conv = \", y_conv)\n",
    "print(y_conv.shape)"
   ]
  },
  {
   "cell_type": "markdown",
   "metadata": {
    "colab_type": "text",
    "id": "QNk_uCdTGv1B"
   },
   "source": [
    "\n",
    "### Activation"
   ]
  },
  {
   "cell_type": "markdown",
   "metadata": {
    "colab_type": "text",
    "id": "2kN1eYB9zZqN"
   },
   "source": [
    "Now we define a ReLU activation function.\n",
    "\n",
    "CLASS torch.nn.ReLU(inplace=False)"
   ]
  },
  {
   "cell_type": "code",
   "execution_count": 8,
   "metadata": {
    "colab": {},
    "colab_type": "code",
    "id": "jJqb6tldGow7"
   },
   "outputs": [],
   "source": [
    "#defining relu function\n",
    "\n",
    "relu = nn.ReLU()"
   ]
  },
  {
   "cell_type": "code",
   "execution_count": 9,
   "metadata": {
    "colab": {},
    "colab_type": "code",
    "id": "euCH4HNfGp38"
   },
   "outputs": [
    {
     "name": "stdout",
     "output_type": "stream",
     "text": [
      "y_relu =  tensor([[[[0.0000, 0.0000, 0.0000, 0.0543, 0.0000, 0.0000, 0.3751, 0.0000],\n",
      "          [0.5639, 0.1532, 0.2441, 0.3783, 0.5116, 0.0052, 0.0000, 0.0000],\n",
      "          [0.0000, 0.3632, 0.9652, 0.6992, 0.2657, 0.0000, 0.0000, 0.5559],\n",
      "          [0.0000, 0.0000, 0.0000, 0.0000, 0.0000, 0.0000, 0.4248, 0.4997],\n",
      "          [0.6068, 0.8553, 0.0000, 0.0000, 0.0000, 0.0000, 0.6139, 0.4408],\n",
      "          [0.0000, 0.0000, 0.4566, 0.4573, 0.2999, 0.0000, 0.0000, 0.4695],\n",
      "          [0.0000, 0.0000, 0.0000, 0.2972, 0.0000, 0.0000, 0.0000, 0.1131],\n",
      "          [0.0000, 0.9377, 0.0000, 0.0000, 0.0000, 0.0923, 0.0660, 0.4529],\n",
      "          [0.0000, 0.0000, 0.2405, 0.0000, 0.0509, 0.0000, 0.0000, 0.4626],\n",
      "          [0.0099, 0.0000, 0.0000, 0.0945, 0.0000, 0.0209, 0.0000, 0.0000]],\n",
      "\n",
      "         [[0.0000, 0.0000, 0.0000, 0.0000, 0.0000, 0.0257, 0.0000, 0.0000],\n",
      "          [0.0000, 0.0000, 0.0000, 0.0000, 0.0000, 0.0000, 0.0000, 0.0000],\n",
      "          [0.0000, 0.0000, 0.0000, 0.0000, 0.0000, 0.0000, 0.0000, 0.0000],\n",
      "          [0.0000, 0.0000, 0.0000, 0.0000, 0.0000, 0.0000, 0.0000, 0.0000],\n",
      "          [0.0000, 0.0000, 0.0000, 0.0000, 0.0000, 0.0000, 0.0000, 0.0000],\n",
      "          [0.0000, 0.0000, 0.0000, 0.0000, 0.0000, 0.0000, 0.0000, 0.0000],\n",
      "          [0.0000, 0.0000, 0.0000, 0.0000, 0.0000, 0.0000, 0.0000, 0.0000],\n",
      "          [0.0000, 0.0000, 0.0000, 0.0000, 0.0000, 0.0000, 0.0000, 0.0000],\n",
      "          [0.0000, 0.0000, 0.0000, 0.0000, 0.0000, 0.0000, 0.0000, 0.0000],\n",
      "          [0.0000, 0.0000, 0.0000, 0.0000, 0.0000, 0.0000, 0.0000, 0.0000]],\n",
      "\n",
      "         [[0.0000, 0.0000, 0.2061, 0.0000, 0.2802, 0.0044, 0.0000, 0.4567],\n",
      "          [0.0000, 0.0779, 0.0628, 0.0000, 0.5596, 0.0739, 0.0000, 0.6740],\n",
      "          [0.0000, 0.0000, 0.0000, 0.6359, 0.5885, 0.0000, 0.0000, 0.5629],\n",
      "          [0.0000, 0.0000, 0.2456, 0.1841, 0.8409, 0.0261, 0.2340, 0.1003],\n",
      "          [0.0000, 0.3988, 0.0000, 0.2618, 0.8430, 0.0000, 0.0000, 0.5305],\n",
      "          [0.0000, 0.0000, 0.2407, 0.0000, 0.4636, 0.0000, 0.0000, 1.1483],\n",
      "          [0.0000, 0.0000, 0.0000, 0.3156, 0.4048, 0.0325, 0.0000, 0.8016],\n",
      "          [0.0000, 0.2422, 0.0000, 0.0020, 0.0772, 0.0000, 0.2941, 0.3439],\n",
      "          [0.0000, 0.0000, 0.0000, 0.3005, 0.1237, 0.0000, 0.3074, 0.1614],\n",
      "          [0.0000, 0.0000, 0.2687, 0.0000, 0.0000, 0.0000, 0.0518, 0.1272]]]],\n",
      "       grad_fn=<ReluBackward0>)\n"
     ]
    }
   ],
   "source": [
    "#applying the relu function to output of a convolution\n",
    "y_relu = relu(y_conv)\n",
    "print(\"y_relu = \",y_relu)"
   ]
  },
  {
   "cell_type": "markdown",
   "metadata": {
    "colab_type": "text",
    "id": "-C32PFOzHoJI"
   },
   "source": [
    "### Pooling"
   ]
  },
  {
   "cell_type": "markdown",
   "metadata": {
    "colab_type": "text",
    "id": "QTAQUZ2Q0sN4"
   },
   "source": [
    "We may define now max poolin. Note that strides greater than 1 will reduce the input size. \n",
    "\n",
    "CLASS torch.nn.MaxPool2d(kernel_size, stride=None, padding=0, dilation=1, return_indices=False, ceil_mode=False)"
   ]
  },
  {
   "cell_type": "code",
   "execution_count": 10,
   "metadata": {
    "colab": {},
    "colab_type": "code",
    "id": "VWeA5kA8HeK4"
   },
   "outputs": [],
   "source": [
    "pool = nn.MaxPool2d(kernel_size=3, stride=1, padding=1)"
   ]
  },
  {
   "cell_type": "code",
   "execution_count": 11,
   "metadata": {
    "colab": {},
    "colab_type": "code",
    "id": "RJZUQLWdH2-7"
   },
   "outputs": [
    {
     "name": "stdout",
     "output_type": "stream",
     "text": [
      "y_pool =  tensor([[[[0.5639, 0.5639, 0.3783, 0.5116, 0.5116, 0.5116, 0.3751, 0.3751],\n",
      "          [0.5639, 0.9652, 0.9652, 0.9652, 0.6992, 0.5116, 0.5559, 0.5559],\n",
      "          [0.5639, 0.9652, 0.9652, 0.9652, 0.6992, 0.5116, 0.5559, 0.5559],\n",
      "          [0.8553, 0.9652, 0.9652, 0.9652, 0.6992, 0.6139, 0.6139, 0.6139],\n",
      "          [0.8553, 0.8553, 0.8553, 0.4573, 0.4573, 0.6139, 0.6139, 0.6139],\n",
      "          [0.8553, 0.8553, 0.8553, 0.4573, 0.4573, 0.6139, 0.6139, 0.6139],\n",
      "          [0.9377, 0.9377, 0.9377, 0.4573, 0.4573, 0.2999, 0.4695, 0.4695],\n",
      "          [0.9377, 0.9377, 0.9377, 0.2972, 0.2972, 0.0923, 0.4626, 0.4626],\n",
      "          [0.9377, 0.9377, 0.9377, 0.2405, 0.0945, 0.0923, 0.4626, 0.4626],\n",
      "          [0.0099, 0.2405, 0.2405, 0.2405, 0.0945, 0.0509, 0.4626, 0.4626]],\n",
      "\n",
      "         [[0.0000, 0.0000, 0.0000, 0.0000, 0.0257, 0.0257, 0.0257, 0.0000],\n",
      "          [0.0000, 0.0000, 0.0000, 0.0000, 0.0257, 0.0257, 0.0257, 0.0000],\n",
      "          [0.0000, 0.0000, 0.0000, 0.0000, 0.0000, 0.0000, 0.0000, 0.0000],\n",
      "          [0.0000, 0.0000, 0.0000, 0.0000, 0.0000, 0.0000, 0.0000, 0.0000],\n",
      "          [0.0000, 0.0000, 0.0000, 0.0000, 0.0000, 0.0000, 0.0000, 0.0000],\n",
      "          [0.0000, 0.0000, 0.0000, 0.0000, 0.0000, 0.0000, 0.0000, 0.0000],\n",
      "          [0.0000, 0.0000, 0.0000, 0.0000, 0.0000, 0.0000, 0.0000, 0.0000],\n",
      "          [0.0000, 0.0000, 0.0000, 0.0000, 0.0000, 0.0000, 0.0000, 0.0000],\n",
      "          [0.0000, 0.0000, 0.0000, 0.0000, 0.0000, 0.0000, 0.0000, 0.0000],\n",
      "          [0.0000, 0.0000, 0.0000, 0.0000, 0.0000, 0.0000, 0.0000, 0.0000]],\n",
      "\n",
      "         [[0.0779, 0.2061, 0.2061, 0.5596, 0.5596, 0.5596, 0.6740, 0.6740],\n",
      "          [0.0779, 0.2061, 0.6359, 0.6359, 0.6359, 0.5885, 0.6740, 0.6740],\n",
      "          [0.0779, 0.2456, 0.6359, 0.8409, 0.8409, 0.8409, 0.6740, 0.6740],\n",
      "          [0.3988, 0.3988, 0.6359, 0.8430, 0.8430, 0.8430, 0.5629, 0.5629],\n",
      "          [0.3988, 0.3988, 0.3988, 0.8430, 0.8430, 0.8430, 1.1483, 1.1483],\n",
      "          [0.3988, 0.3988, 0.3988, 0.8430, 0.8430, 0.8430, 1.1483, 1.1483],\n",
      "          [0.2422, 0.2422, 0.3156, 0.4636, 0.4636, 0.4636, 1.1483, 1.1483],\n",
      "          [0.2422, 0.2422, 0.3156, 0.4048, 0.4048, 0.4048, 0.8016, 0.8016],\n",
      "          [0.2422, 0.2687, 0.3005, 0.3005, 0.3005, 0.3074, 0.3439, 0.3439],\n",
      "          [0.0000, 0.2687, 0.3005, 0.3005, 0.3005, 0.3074, 0.3074, 0.3074]]]],\n",
      "       grad_fn=<MaxPool2DWithIndicesBackward0>)\n",
      "torch.Size([1, 3, 10, 8])\n"
     ]
    }
   ],
   "source": [
    "#applying max pooling to output of ReLu\n",
    "y_pool = pool(y_relu)\n",
    "print(\"y_pool = \", y_pool)\n",
    "print(y_pool.shape)"
   ]
  },
  {
   "cell_type": "markdown",
   "metadata": {
    "colab_type": "text",
    "id": "oXdqFTYZXkz1"
   },
   "source": [
    "### Batch normalization"
   ]
  },
  {
   "cell_type": "markdown",
   "metadata": {
    "colab_type": "text",
    "id": "bMzMfrvq16l-"
   },
   "source": [
    "Now we may define batch normalization to normalize batches in the following way $$y = \\frac{x - \\mathbb{E}[x]}{\\sqrt{\\mathrm{Var}[x]}}\\gamma + \\beta.$$ You must indicate the number of input channels.\n",
    "\n",
    "\n",
    "CLASS torch.nn.BatchNorm1d(num_features, eps=1e-05, momentum=0.1, affine=True, track_running_stats=True, device=None, dtype=None)"
   ]
  },
  {
   "cell_type": "code",
   "execution_count": 12,
   "metadata": {
    "colab": {},
    "colab_type": "code",
    "id": "kwbKQ3LK5VfZ"
   },
   "outputs": [],
   "source": [
    "#defining batch normalization layer: affine=False indicates without learnable parameters. \n",
    "norm = nn.BatchNorm2d(num_features=3, affine=False)"
   ]
  },
  {
   "cell_type": "code",
   "execution_count": 13,
   "metadata": {
    "colab": {},
    "colab_type": "code",
    "id": "946BtTY85shc"
   },
   "outputs": [
    {
     "name": "stdout",
     "output_type": "stream",
     "text": [
      "y_norm =  tensor([[[[-0.1195, -0.1195, -0.8178, -0.3163, -0.3163, -0.3163, -0.8297,\n",
      "           -0.8297],\n",
      "          [-0.1195,  1.3904,  1.3904,  1.3904,  0.3895, -0.3163, -0.1496,\n",
      "           -0.1496],\n",
      "          [-0.1195,  1.3904,  1.3904,  1.3904,  0.3895, -0.3163, -0.1496,\n",
      "           -0.1496],\n",
      "          [ 0.9770,  1.3904,  1.3904,  1.3904,  0.3895,  0.0687,  0.0687,\n",
      "            0.0687],\n",
      "          [ 0.9770,  0.9770,  0.9770, -0.5203, -0.5203,  0.0687,  0.0687,\n",
      "            0.0687],\n",
      "          [ 0.9770,  0.9770,  0.9770, -0.5203, -0.5203,  0.0687,  0.0687,\n",
      "            0.0687],\n",
      "          [ 1.2870,  1.2870,  1.2870, -0.5203, -0.5203, -1.1125, -0.4745,\n",
      "           -0.4745],\n",
      "          [ 1.2870,  1.2870,  1.2870, -1.1228, -1.1228, -1.8935, -0.5006,\n",
      "           -0.5006],\n",
      "          [ 1.2870,  1.2870,  1.2870, -1.3359, -1.8853, -1.8935, -0.5006,\n",
      "           -0.5006],\n",
      "          [-2.2037, -1.3359, -1.3359, -1.3359, -1.8853, -2.0496, -0.5006,\n",
      "           -0.5006]],\n",
      "\n",
      "         [[-0.2579, -0.2579, -0.2579, -0.2579,  3.1808,  3.1808,  3.1808,\n",
      "           -0.2579],\n",
      "          [-0.2579, -0.2579, -0.2579, -0.2579,  3.1808,  3.1808,  3.1808,\n",
      "           -0.2579],\n",
      "          [-0.2579, -0.2579, -0.2579, -0.2579, -0.2579, -0.2579, -0.2579,\n",
      "           -0.2579],\n",
      "          [-0.2579, -0.2579, -0.2579, -0.2579, -0.2579, -0.2579, -0.2579,\n",
      "           -0.2579],\n",
      "          [-0.2579, -0.2579, -0.2579, -0.2579, -0.2579, -0.2579, -0.2579,\n",
      "           -0.2579],\n",
      "          [-0.2579, -0.2579, -0.2579, -0.2579, -0.2579, -0.2579, -0.2579,\n",
      "           -0.2579],\n",
      "          [-0.2579, -0.2579, -0.2579, -0.2579, -0.2579, -0.2579, -0.2579,\n",
      "           -0.2579],\n",
      "          [-0.2579, -0.2579, -0.2579, -0.2579, -0.2579, -0.2579, -0.2579,\n",
      "           -0.2579],\n",
      "          [-0.2579, -0.2579, -0.2579, -0.2579, -0.2579, -0.2579, -0.2579,\n",
      "           -0.2579],\n",
      "          [-0.2579, -0.2579, -0.2579, -0.2579, -0.2579, -0.2579, -0.2579,\n",
      "           -0.2579]],\n",
      "\n",
      "         [[-1.5760, -1.1267, -1.1267,  0.1121,  0.1121,  0.1121,  0.5128,\n",
      "            0.5128],\n",
      "          [-1.5760, -1.1267,  0.3792,  0.3792,  0.3792,  0.2131,  0.5128,\n",
      "            0.5128],\n",
      "          [-1.5760, -0.9881,  0.3792,  1.0974,  1.0974,  1.0974,  0.5128,\n",
      "            0.5128],\n",
      "          [-0.4514, -0.4514,  0.3792,  1.1050,  1.1050,  1.1050,  0.1235,\n",
      "            0.1235],\n",
      "          [-0.4514, -0.4514, -0.4514,  1.1050,  1.1050,  1.1050,  2.1747,\n",
      "            2.1747],\n",
      "          [-0.4514, -0.4514, -0.4514,  1.1050,  1.1050,  1.1050,  2.1747,\n",
      "            2.1747],\n",
      "          [-1.0001, -1.0001, -0.7428, -0.2245, -0.2245, -0.2245,  2.1747,\n",
      "            2.1747],\n",
      "          [-1.0001, -1.0001, -0.7428, -0.4306, -0.4306, -0.4306,  0.9601,\n",
      "            0.9601],\n",
      "          [-1.0001, -0.9075, -0.7960, -0.7960, -0.7960, -0.7719, -0.6438,\n",
      "           -0.6438],\n",
      "          [-1.8488, -0.9075, -0.7960, -0.7960, -0.7960, -0.7719, -0.7719,\n",
      "           -0.7719]]]], grad_fn=<NativeBatchNormBackward0>)\n"
     ]
    }
   ],
   "source": [
    "#applying batch normalization\n",
    "y_norm = norm(y_pool)\n",
    "print(\"y_norm = \", y_norm)"
   ]
  },
  {
   "cell_type": "markdown",
   "metadata": {
    "colab_type": "text",
    "id": "dxsxUHlk6in6"
   },
   "source": [
    "### Skip connection"
   ]
  },
  {
   "cell_type": "markdown",
   "metadata": {
    "colab_type": "text",
    "id": "pktxly2T7Wau"
   },
   "source": [
    "To skip layers without passing through previus layers, we may concatenate the output of two layers along a given axis. For instance, we may concatenate the input and output of relu as follows.\n",
    "\n",
    "torch.cat(tensors, dim=0, *, out=None) → Tensor"
   ]
  },
  {
   "cell_type": "code",
   "execution_count": 14,
   "metadata": {
    "colab": {},
    "colab_type": "code",
    "id": "mkbib1Lk8fPv"
   },
   "outputs": [
    {
     "name": "stdout",
     "output_type": "stream",
     "text": [
      "concat =  tensor([[[[0.6785, 0.5267, 0.6008, 0.8125, 0.4584, 0.1031, 0.7072, 0.3611],\n",
      "          [0.1625, 0.7262, 0.7983, 0.7697, 0.5928, 0.9122, 0.7059, 0.1152],\n",
      "          [0.1307, 0.0431, 0.1228, 0.7817, 0.4352, 0.3735, 0.3487, 0.2283],\n",
      "          [0.8960, 0.7892, 0.7263, 0.2153, 0.0731, 0.0909, 0.9259, 0.5085],\n",
      "          [0.1703, 0.4474, 0.5979, 0.8021, 0.0547, 0.4326, 0.7091, 0.7499],\n",
      "          [0.7327, 0.0431, 0.5285, 0.4730, 0.5052, 0.1560, 0.8497, 0.0657],\n",
      "          [0.2195, 0.7650, 0.2152, 0.8062, 0.5110, 0.2993, 0.9035, 0.3128],\n",
      "          [0.3080, 0.2251, 0.7946, 0.2107, 0.1470, 0.5972, 0.8407, 0.8993],\n",
      "          [0.8438, 0.4102, 0.2018, 0.5766, 0.8000, 0.9523, 0.0469, 0.7585],\n",
      "          [0.6946, 0.7913, 0.1224, 0.5829, 0.2002, 0.7722, 0.1284, 0.0875]],\n",
      "\n",
      "         [[0.5426, 0.9481, 0.0426, 0.6161, 0.0776, 0.2687, 0.8642, 0.9763],\n",
      "          [0.3155, 0.1234, 0.1612, 0.3286, 0.2100, 0.5178, 0.8156, 0.0682],\n",
      "          [0.0683, 0.4018, 0.6488, 0.5407, 0.5767, 0.0363, 0.1621, 0.6312],\n",
      "          [0.6679, 0.8718, 0.7966, 0.9240, 0.1751, 0.3684, 0.2495, 0.8176],\n",
      "          [0.3531, 0.8366, 0.7650, 0.9356, 0.5189, 0.0941, 0.3152, 0.7242],\n",
      "          [0.9190, 0.1995, 0.2928, 0.5121, 0.4514, 0.6276, 0.4538, 0.5228],\n",
      "          [0.1248, 0.8536, 0.2953, 0.8766, 0.5087, 0.1794, 0.7057, 0.6169],\n",
      "          [0.2602, 0.0814, 0.8251, 0.1931, 0.2604, 0.6326, 0.3002, 0.9490],\n",
      "          [0.0245, 0.1143, 0.3613, 0.0162, 0.4295, 0.3890, 0.8041, 0.6590],\n",
      "          [0.2609, 0.4552, 0.7129, 0.5305, 0.0123, 0.2349, 0.2202, 0.4540]],\n",
      "\n",
      "         [[0.0000, 0.0000, 0.0000, 0.0543, 0.0000, 0.0000, 0.3751, 0.0000],\n",
      "          [0.5639, 0.1532, 0.2441, 0.3783, 0.5116, 0.0052, 0.0000, 0.0000],\n",
      "          [0.0000, 0.3632, 0.9652, 0.6992, 0.2657, 0.0000, 0.0000, 0.5559],\n",
      "          [0.0000, 0.0000, 0.0000, 0.0000, 0.0000, 0.0000, 0.4248, 0.4997],\n",
      "          [0.6068, 0.8553, 0.0000, 0.0000, 0.0000, 0.0000, 0.6139, 0.4408],\n",
      "          [0.0000, 0.0000, 0.4566, 0.4573, 0.2999, 0.0000, 0.0000, 0.4695],\n",
      "          [0.0000, 0.0000, 0.0000, 0.2972, 0.0000, 0.0000, 0.0000, 0.1131],\n",
      "          [0.0000, 0.9377, 0.0000, 0.0000, 0.0000, 0.0923, 0.0660, 0.4529],\n",
      "          [0.0000, 0.0000, 0.2405, 0.0000, 0.0509, 0.0000, 0.0000, 0.4626],\n",
      "          [0.0099, 0.0000, 0.0000, 0.0945, 0.0000, 0.0209, 0.0000, 0.0000]],\n",
      "\n",
      "         [[0.0000, 0.0000, 0.0000, 0.0000, 0.0000, 0.0257, 0.0000, 0.0000],\n",
      "          [0.0000, 0.0000, 0.0000, 0.0000, 0.0000, 0.0000, 0.0000, 0.0000],\n",
      "          [0.0000, 0.0000, 0.0000, 0.0000, 0.0000, 0.0000, 0.0000, 0.0000],\n",
      "          [0.0000, 0.0000, 0.0000, 0.0000, 0.0000, 0.0000, 0.0000, 0.0000],\n",
      "          [0.0000, 0.0000, 0.0000, 0.0000, 0.0000, 0.0000, 0.0000, 0.0000],\n",
      "          [0.0000, 0.0000, 0.0000, 0.0000, 0.0000, 0.0000, 0.0000, 0.0000],\n",
      "          [0.0000, 0.0000, 0.0000, 0.0000, 0.0000, 0.0000, 0.0000, 0.0000],\n",
      "          [0.0000, 0.0000, 0.0000, 0.0000, 0.0000, 0.0000, 0.0000, 0.0000],\n",
      "          [0.0000, 0.0000, 0.0000, 0.0000, 0.0000, 0.0000, 0.0000, 0.0000],\n",
      "          [0.0000, 0.0000, 0.0000, 0.0000, 0.0000, 0.0000, 0.0000, 0.0000]],\n",
      "\n",
      "         [[0.0000, 0.0000, 0.2061, 0.0000, 0.2802, 0.0044, 0.0000, 0.4567],\n",
      "          [0.0000, 0.0779, 0.0628, 0.0000, 0.5596, 0.0739, 0.0000, 0.6740],\n",
      "          [0.0000, 0.0000, 0.0000, 0.6359, 0.5885, 0.0000, 0.0000, 0.5629],\n",
      "          [0.0000, 0.0000, 0.2456, 0.1841, 0.8409, 0.0261, 0.2340, 0.1003],\n",
      "          [0.0000, 0.3988, 0.0000, 0.2618, 0.8430, 0.0000, 0.0000, 0.5305],\n",
      "          [0.0000, 0.0000, 0.2407, 0.0000, 0.4636, 0.0000, 0.0000, 1.1483],\n",
      "          [0.0000, 0.0000, 0.0000, 0.3156, 0.4048, 0.0325, 0.0000, 0.8016],\n",
      "          [0.0000, 0.2422, 0.0000, 0.0020, 0.0772, 0.0000, 0.2941, 0.3439],\n",
      "          [0.0000, 0.0000, 0.0000, 0.3005, 0.1237, 0.0000, 0.3074, 0.1614],\n",
      "          [0.0000, 0.0000, 0.2687, 0.0000, 0.0000, 0.0000, 0.0518, 0.1272]]]],\n",
      "       grad_fn=<CatBackward0>)\n",
      "torch.Size([1, 5, 10, 8])\n"
     ]
    }
   ],
   "source": [
    "#concatenating tensors\n",
    "concat = torch.cat((x, y_relu), dim=1)\n",
    "print(\"concat = \", concat)\n",
    "print(concat.shape)"
   ]
  },
  {
   "cell_type": "markdown",
   "metadata": {
    "colab_type": "text",
    "id": "L04BvhVaMF8g"
   },
   "source": [
    "### Linear"
   ]
  },
  {
   "cell_type": "markdown",
   "metadata": {
    "colab_type": "text",
    "id": "Ba9bi_dX9-RR"
   },
   "source": [
    "Dense layers can be implemented by flattening output activations followed by a linear transformation. We must indicate the input and output sizes.\n",
    "\n",
    "torch.flatten(input, start_dim=0, end_dim=-1) → Tensor\n",
    "\n",
    "CLASS torch.nn.Linear(in_features, out_features, bias=True, device=None, dtype=None)"
   ]
  },
  {
   "cell_type": "code",
   "execution_count": 15,
   "metadata": {
    "colab": {},
    "colab_type": "code",
    "id": "BffJeqoYKQgz"
   },
   "outputs": [
    {
     "name": "stdout",
     "output_type": "stream",
     "text": [
      "torch.Size([1, 240])\n"
     ]
    }
   ],
   "source": [
    "#transforming it into a 2D tensor\n",
    "y_flatten = y_pool.flatten(start_dim=1)\n",
    "print(y_flatten.shape)"
   ]
  },
  {
   "cell_type": "code",
   "execution_count": 16,
   "metadata": {
    "colab": {},
    "colab_type": "code",
    "id": "DCzjDwz0MPda"
   },
   "outputs": [],
   "source": [
    "#defining the linear layer\n",
    "linear = nn.Linear(in_features=240, out_features=2, bias=True)"
   ]
  },
  {
   "cell_type": "code",
   "execution_count": 17,
   "metadata": {
    "colab": {},
    "colab_type": "code",
    "id": "AP5e4LInMgm-"
   },
   "outputs": [
    {
     "name": "stdout",
     "output_type": "stream",
     "text": [
      "tensor([[ 0.6593, -0.4934]], grad_fn=<AddmmBackward0>)\n",
      "torch.Size([1, 2])\n"
     ]
    }
   ],
   "source": [
    "#applying linear the transformation\n",
    "y_linear = linear(y_flatten)\n",
    "print(y_linear)\n",
    "print(y_linear.shape)"
   ]
  },
  {
   "cell_type": "markdown",
   "metadata": {},
   "source": [
    "### Dropout"
   ]
  },
  {
   "cell_type": "markdown",
   "metadata": {},
   "source": [
    "For regularization, we may also add a dropout layer to randomly disconsider elements of the input tensor (it sets zeroes) with probability p by following a Bernoulli distribution. The outputs are scaled by a factor $\\frac{1}{1-p}$ during training. \n",
    "\n",
    "CLASStorch.nn.Dropout(p=0.5, inplace=False)"
   ]
  },
  {
   "cell_type": "code",
   "execution_count": 18,
   "metadata": {},
   "outputs": [],
   "source": [
    "drop = nn.Dropout(0.5)"
   ]
  },
  {
   "cell_type": "code",
   "execution_count": 19,
   "metadata": {},
   "outputs": [],
   "source": [
    "x = torch.randn((5,5))"
   ]
  },
  {
   "cell_type": "code",
   "execution_count": 20,
   "metadata": {},
   "outputs": [],
   "source": [
    "y = drop(x)"
   ]
  },
  {
   "cell_type": "code",
   "execution_count": 21,
   "metadata": {},
   "outputs": [
    {
     "name": "stdout",
     "output_type": "stream",
     "text": [
      "Before dropout:  tensor([[ 0.0656, -0.5932, -1.6617,  0.1527,  2.4874],\n",
      "        [-0.5831,  1.1829, -0.9145,  1.3880,  0.0929],\n",
      "        [ 0.5139, -0.0986, -2.6413,  0.6627,  0.5599],\n",
      "        [ 1.3706,  0.8830, -0.0461, -1.0260,  1.3634],\n",
      "        [ 1.7172, -0.5990, -1.0815,  1.2704,  0.1824]])\n"
     ]
    }
   ],
   "source": [
    "print(\"Before dropout: \", x)"
   ]
  },
  {
   "cell_type": "code",
   "execution_count": 22,
   "metadata": {},
   "outputs": [
    {
     "name": "stdout",
     "output_type": "stream",
     "text": [
      "After dropout tensor([[ 0.1313, -0.0000, -3.3235,  0.0000,  4.9747],\n",
      "        [-0.0000,  0.0000, -1.8290,  0.0000,  0.1858],\n",
      "        [ 0.0000, -0.1973, -5.2826,  1.3253,  1.1199],\n",
      "        [ 0.0000,  0.0000, -0.0000, -2.0520,  0.0000],\n",
      "        [ 0.0000, -1.1980, -2.1631,  0.0000,  0.3649]])\n"
     ]
    }
   ],
   "source": [
    "print(\"After dropout\", y)"
   ]
  },
  {
   "cell_type": "markdown",
   "metadata": {
    "colab_type": "text",
    "id": "ngs43NaBIQlu"
   },
   "source": [
    "# Building a CNN for fashion mnist"
   ]
  },
  {
   "cell_type": "code",
   "execution_count": 23,
   "metadata": {},
   "outputs": [
    {
     "data": {
      "image/png": "[encoded data removed]",
      "text/plain": [
       "<Figure size 640x480 with 1 Axes>"
      ]
     },
     "metadata": {},
     "output_type": "display_data"
    }
   ],
   "source": [
    "import matplotlib.pyplot as plt\n",
    "\n",
    "fig = plt.imread('./figs/fmnist.png')\n",
    "plt.imshow(fig)\n",
    "plt.axis(\"off\")\n",
    "plt.show()"
   ]
  },
  {
   "cell_type": "markdown",
   "metadata": {},
   "source": [
    "### Loading the Dataset"
   ]
  },
  {
   "cell_type": "code",
   "execution_count": 24,
   "metadata": {},
   "outputs": [],
   "source": [
    "#import modules to manipulate data\n",
    "from torch.utils.data import DataLoader, random_split\n",
    "from torchvision import datasets\n",
    "from torchvision import transforms\n",
    "# important to report the training results\n",
    "from torch_snippets.torch_loader import Report"
   ]
  },
  {
   "cell_type": "code",
   "execution_count": 25,
   "metadata": {},
   "outputs": [],
   "source": [
    "#define transformations between brackets to apply on the dataset images. For instance, convert them into tensors.\n",
    "transformations = transforms.Compose([transforms.ToTensor()]) "
   ]
  },
  {
   "cell_type": "markdown",
   "metadata": {},
   "source": [
    "#### You may load training and test images separately or"
   ]
  },
  {
   "cell_type": "code",
   "execution_count": 26,
   "metadata": {},
   "outputs": [],
   "source": [
    "#training_set = datasets.FashionMNIST(\n",
    "#    root=\"./images\",\n",
    "#    train=True,\n",
    "#    download=True,\n",
    "#    transform=transformations\n",
    "#)\n",
    "\n",
    "#test_set = datasets.FashionMNIST(\n",
    "#    root=\"./images\",\n",
    "#    train=False,\n",
    "#    download=True,\n",
    "#    transform=transformations\n",
    "#)"
   ]
  },
  {
   "cell_type": "markdown",
   "metadata": {},
   "source": [
    "#### you may download the training set and split it as you wish."
   ]
  },
  {
   "cell_type": "code",
   "execution_count": 27,
   "metadata": {},
   "outputs": [],
   "source": [
    "data_set = datasets.FashionMNIST(\n",
    "    root=\"./images\",\n",
    "    train=True,\n",
    "    download=True,\n",
    "    transform=transformations\n",
    ")"
   ]
  },
  {
   "cell_type": "code",
   "execution_count": 28,
   "metadata": {},
   "outputs": [],
   "source": [
    "#divide the dataset randomly into train, valid, and test sets. \n",
    "trainset, validset, testset = random_split(data_set, [30000, 15000, 15000])"
   ]
  },
  {
   "cell_type": "markdown",
   "metadata": {},
   "source": [
    "### Visualizing training images"
   ]
  },
  {
   "cell_type": "code",
   "execution_count": 29,
   "metadata": {},
   "outputs": [
    {
     "data": {
      "image/png": "[encoded data removed]",
      "text/plain": [
       "<Figure size 800x800 with 9 Axes>"
      ]
     },
     "metadata": {},
     "output_type": "display_data"
    }
   ],
   "source": [
    "labels_map = {\n",
    "    0: \"T-Shirt\",\n",
    "    1: \"Trouser\",\n",
    "    2: \"Pullover\",\n",
    "    3: \"Dress\",\n",
    "    4: \"Coat\",\n",
    "    5: \"Sandal\",\n",
    "    6: \"Shirt\",\n",
    "    7: \"Sneaker\",\n",
    "    8: \"Bag\",\n",
    "    9: \"Ankle Boot\",\n",
    "}\n",
    "figure = plt.figure(figsize=(8, 8))\n",
    "cols, rows = 3, 3\n",
    "for i in range(1, cols * rows + 1):\n",
    "    sample_idx = torch.randint(len(trainset), size=(1,)).item()\n",
    "    img, label = trainset[sample_idx]\n",
    "    figure.add_subplot(rows, cols, i)\n",
    "    plt.title(labels_map[label])\n",
    "    plt.axis(\"off\")\n",
    "    plt.imshow(img.squeeze(), cmap=\"gray\")\n",
    "plt.show()"
   ]
  },
  {
   "cell_type": "markdown",
   "metadata": {},
   "source": [
    "### Defining Dataloaders"
   ]
  },
  {
   "cell_type": "markdown",
   "metadata": {},
   "source": [
    "A dataloader divides a dataset into batches for iteration. Each iteration returns the next batch of train_features and train_labels (containing batch_size=64 features and labels, for instance). By specifying shuffle=True, after we iterate over all batches the dataset is shuffled (this is important to avoid overfitting when training a NN).\n",
    "\n",
    "DataLoader(dataset, batch_size=1, shuffle=False, sampler=None,\n",
    "           batch_sampler=None, num_workers=0, collate_fn=None,\n",
    "           pin_memory=False, drop_last=False, timeout=0,\n",
    "           worker_init_fn=None, *, prefetch_factor=2,\n",
    "           persistent_workers=False)"
   ]
  },
  {
   "cell_type": "code",
   "execution_count": 30,
   "metadata": {},
   "outputs": [],
   "source": [
    "#defining dataloader that will generate batches with 64 images at random \n",
    "trainload = DataLoader(trainset, batch_size=64, shuffle=True)\n",
    "testload  = DataLoader(testset, batch_size=64, shuffle=True)\n",
    "validload = DataLoader(validset, batch_size=64, shuffle=True)"
   ]
  },
  {
   "cell_type": "code",
   "execution_count": 31,
   "metadata": {},
   "outputs": [
    {
     "name": "stdout",
     "output_type": "stream",
     "text": [
      "Feature batch shape: torch.Size([64, 1, 28, 28])\n",
      "Label batch shape: torch.Size([64])\n"
     ]
    },
    {
     "data": {
      "image/png": "[encoded data removed]",
      "text/plain": [
       "<Figure size 640x480 with 1 Axes>"
      ]
     },
     "metadata": {},
     "output_type": "display_data"
    },
    {
     "name": "stdout",
     "output_type": "stream",
     "text": [
      "Label: 7 Object: Sneaker\n"
     ]
    }
   ],
   "source": [
    "# For instance, you can access a batch and display image and label of its first sample.\n",
    "\n",
    "train_features, train_labels = next(iter(trainload)) # returns a batch\n",
    "print(\"Feature batch shape: {}\".format(train_features.shape)) # prints the shape of the features\n",
    "print(\"Label batch shape: {}\".format(train_labels.shape)) # prints the shape of the labels\n",
    "img   = train_features[16].squeeze() # returns the first image\n",
    "label = train_labels[16] # returns its label\n",
    "plt.imshow(img, cmap=\"gray\") # shows image and label\n",
    "plt.show()\n",
    "print(\"Label: {} Object: {}\".format(label.item(), labels_map[label.item()]))"
   ]
  },
  {
   "cell_type": "markdown",
   "metadata": {},
   "source": [
    "### Defining our CNN model"
   ]
  },
  {
   "cell_type": "code",
   "execution_count": 32,
   "metadata": {
    "colab": {},
    "colab_type": "code",
    "id": "P3harIz2LtcR"
   },
   "outputs": [],
   "source": [
    "import math"
   ]
  },
  {
   "cell_type": "code",
   "execution_count": 33,
   "metadata": {
    "colab": {},
    "colab_type": "code",
    "id": "PnEm1AsiITWZ"
   },
   "outputs": [],
   "source": [
    "# a convolutional block\n",
    "def conv_block(nchannels_in, nchannels_out, stride_val):\n",
    "    return nn.Sequential(\n",
    "        #defining convolutional layer \n",
    "        nn.Conv2d(in_channels=nchannels_in, out_channels=nchannels_out, kernel_size=(3, 3),\n",
    "                  stride=1, padding=1, bias=False),\n",
    "        #defining a batch normalization layer\n",
    "        nn.BatchNorm2d(num_features=nchannels_out),\n",
    "        #defining activation layer\n",
    "        nn.ReLU(),\n",
    "        #defining a pooling layer\n",
    "        nn.MaxPool2d(kernel_size=(3, 3), stride=stride_val, padding=1)\n",
    "    )\n",
    "  \n",
    "# Note that some operations, such as skip connection and downsampling, can be done in the forward method\n",
    "class FMNISTNet(nn.Module):\n",
    "\n",
    "    def __init__(self, num_classes):\n",
    "        super(FMNISTNet, self).__init__()\n",
    "        \n",
    "        #define the first conv_block\n",
    "        self.conv1 = conv_block(1,16,1)\n",
    "        \n",
    "        #defining the second conv_block\n",
    "        self.conv2 = conv_block(16,64,2)                      \n",
    "        \n",
    "        #defining classifier\n",
    "        self.classifier = nn.Sequential(\n",
    "            #defining linear layer\n",
    "            nn.Linear(in_features=int((28*28*(16+64))/(2*2)), out_features=512, bias=True),\n",
    "            #defining activation layer\n",
    "            nn.ReLU(),\n",
    "            # defining a dropout layer\n",
    "            nn.Dropout(0.2),\n",
    "            #defining linear layer as decision layer\n",
    "            nn.Linear(512, num_classes) #Note that you do not need nn.Softmax in torch\n",
    "        )\n",
    "\n",
    "        #initialize weights\n",
    "        self._initialize_weights()\n",
    "\n",
    "    def forward(self, x):\n",
    "        #extracts features\n",
    "        x1      = self.conv1(x)\n",
    "        x2      = self.conv2(x1)\n",
    "        #resizes x1 to have the same size of x2. See other operations in functional.\n",
    "        x1      = torch.nn.functional.interpolate(x1, scale_factor=(0.5, 0.5), mode='nearest',\n",
    "                                                  recompute_scale_factor=True)\n",
    "        #performs skip connection \n",
    "        x       = torch.cat((x1, x2), dim=1)\n",
    "    \n",
    "        #transforms outputs into a 2D tensor\n",
    "        x = torch.flatten(x, start_dim=1)\n",
    "\n",
    "        #classifies features\n",
    "        y = self.classifier(x)\n",
    "  \n",
    "        return y\n",
    "  \n",
    "    # Same as Xavier: nn.init.xavier_normal_()\n",
    "    def _initialize_weights(self):\n",
    "        #for each submodule of our network\n",
    "        for m in self.modules():\n",
    "            if isinstance(m, nn.Conv2d):\n",
    "                #get the number of elements in the layer weights\n",
    "                n = m.kernel_size[0] * m.kernel_size[1] * m.in_channels\n",
    "\n",
    "                #initialize layer weights with random values generated from a normal\n",
    "                #distribution with mean = 0 and std = sqrt(2. / n))\n",
    "                m.weight.data.normal_(mean=0, std=math.sqrt(2. / n))\n",
    "\n",
    "                if m.bias is not None:\n",
    "                    #initialize bias with 0 \n",
    "                    m.bias.data.zero_()\n",
    "            elif isinstance(m, nn.Linear):\n",
    "                #initialize layer weights with random values generated from a normal\n",
    "                #distribution with mean = 0 and std = 1/100\n",
    "                m.weight.data.normal_(mean=0, std=0.01)\n",
    "                if m.bias is not None:\n",
    "                #initialize bias with 0 \n",
    "                    m.bias.data.zero_()"
   ]
  },
  {
   "cell_type": "markdown",
   "metadata": {
    "colab_type": "text",
    "id": "PuN-_jLnKX_p"
   },
   "source": [
    "### Defining a device and creating the model"
   ]
  },
  {
   "cell_type": "code",
   "execution_count": 34,
   "metadata": {
    "colab": {},
    "colab_type": "code",
    "id": "kZ3A0UlWUBAx"
   },
   "outputs": [],
   "source": [
    "#is GPU available?\n",
    "gpu = torch.cuda.is_available()\n",
    "\n",
    "#defining device where to to the computation\n",
    "device = torch.device(0) if gpu else torch.device('cpu')"
   ]
  },
  {
   "cell_type": "code",
   "execution_count": 35,
   "metadata": {
    "colab": {},
    "colab_type": "code",
    "id": "SXOFYjUDLfHI"
   },
   "outputs": [],
   "source": [
    "#creating the model to a dataset with 10 classes and moving it to the correct device\n",
    "model = FMNISTNet(num_classes=10).to(device)"
   ]
  },
  {
   "cell_type": "markdown",
   "metadata": {},
   "source": [
    "### Show the summary of the model"
   ]
  },
  {
   "cell_type": "code",
   "execution_count": 36,
   "metadata": {},
   "outputs": [
    {
     "name": "stdout",
     "output_type": "stream",
     "text": [
      "----------------------------------------------------------------\n",
      "        Layer (type)               Output Shape         Param #\n",
      "================================================================\n",
      "            Conv2d-1           [-1, 16, 28, 28]             144\n",
      "       BatchNorm2d-2           [-1, 16, 28, 28]              32\n",
      "              ReLU-3           [-1, 16, 28, 28]               0\n",
      "         MaxPool2d-4           [-1, 16, 28, 28]               0\n",
      "            Conv2d-5           [-1, 64, 28, 28]           9,216\n",
      "       BatchNorm2d-6           [-1, 64, 28, 28]             128\n",
      "              ReLU-7           [-1, 64, 28, 28]               0\n",
      "         MaxPool2d-8           [-1, 64, 14, 14]               0\n",
      "            Linear-9                  [-1, 512]       8,028,672\n",
      "             ReLU-10                  [-1, 512]               0\n",
      "          Dropout-11                  [-1, 512]               0\n",
      "           Linear-12                   [-1, 10]           5,130\n",
      "================================================================\n",
      "Total params: 8,043,322\n",
      "Trainable params: 8,043,322\n",
      "Non-trainable params: 0\n",
      "----------------------------------------------------------------\n",
      "Input size (MB): 0.00\n",
      "Forward/backward pass size (MB): 1.64\n",
      "Params size (MB): 30.68\n",
      "Estimated Total Size (MB): 32.32\n",
      "----------------------------------------------------------------\n"
     ]
    }
   ],
   "source": [
    "from torchsummary import summary\n",
    "\n",
    "summary(model,(1,28,28)) # FMNIST contains 28x28 images with 1 channel"
   ]
  },
  {
   "cell_type": "markdown",
   "metadata": {},
   "source": [
    "### Show the trainable parameters: weights and bias"
   ]
  },
  {
   "cell_type": "code",
   "execution_count": 37,
   "metadata": {},
   "outputs": [
    {
     "name": "stdout",
     "output_type": "stream",
     "text": [
      "10\n",
      "tensor([[[ 0.5186, -0.1171, -0.2661],\n",
      "         [-0.3544,  0.5245,  0.1208],\n",
      "         [ 0.1383, -0.2810, -0.9159]]], device='cuda:0',\n",
      "       grad_fn=<SelectBackward0>)\n",
      "tensor(1., device='cuda:0', grad_fn=<SelectBackward0>)\n"
     ]
    }
   ],
   "source": [
    "params = list(model.parameters())\n",
    "print(len(params))\n",
    "print(params[0][0]) # random weights of the first filter of the convolutional layer\n",
    "print(params[1][0]) # the bias of that filter"
   ]
  },
  {
   "cell_type": "markdown",
   "metadata": {
    "colab_type": "text",
    "id": "ns-aYW2hLG53"
   },
   "source": [
    "### Loss function"
   ]
  },
  {
   "cell_type": "markdown",
   "metadata": {
    "colab_type": "text",
    "id": "tyibIOQ7IKMs"
   },
   "source": [
    "We use the cross entropy as loss function, which combines softmax and cross entropy.\n",
    "\n",
    "CLASS torch.nn.CrossEntropyLoss(weight=None, size_average=None, ignore_index=-100, reduce=None, reduction='mean')"
   ]
  },
  {
   "cell_type": "code",
   "execution_count": 38,
   "metadata": {
    "colab": {},
    "colab_type": "code",
    "id": "ywWsP2vTLIeL"
   },
   "outputs": [],
   "source": [
    "def Criterion(preds, targets):\n",
    "    ce            = nn.CrossEntropyLoss().to(device)\n",
    "    loss          = ce(preds, targets.long()) \n",
    "    pred_labels   = torch.max(preds, 1)[1] # same as argmax\n",
    "    acc           = torch.sum(pred_labels == targets.data)\n",
    "    n             = pred_labels.size(0)\n",
    "    acc           = acc/n\n",
    "    return loss, acc\n",
    "\n",
    "\n",
    "criterion = Criterion"
   ]
  },
  {
   "cell_type": "markdown",
   "metadata": {
    "colab_type": "text",
    "id": "2MvRRGK1LQDY"
   },
   "source": [
    "### Optimizer"
   ]
  },
  {
   "cell_type": "markdown",
   "metadata": {
    "colab_type": "text",
    "id": "JB-a-LvFeT11"
   },
   "source": [
    "PyTorch has many optimization algorithms. Here we are going to use the Stochastic Gradient Descent."
   ]
  },
  {
   "cell_type": "code",
   "execution_count": 39,
   "metadata": {
    "colab": {},
    "colab_type": "code",
    "id": "WlgVPXhJMCo2"
   },
   "outputs": [],
   "source": [
    "#import module that defines the optimizer\n",
    "import torch.optim as optim"
   ]
  },
  {
   "cell_type": "markdown",
   "metadata": {
    "colab_type": "text",
    "id": "Ap-bAHoUeoUI"
   },
   "source": [
    "To create a optimizer, we need to set a learning rate, a momentum, a weight_decay (L2 regularization).\n",
    "\n",
    "CLASS torch.optim.SGD(params, lr=<required parameter>, momentum=0, dampening=0, weight_decay=0, nesterov=False)"
   ]
  },
  {
   "cell_type": "code",
   "execution_count": 40,
   "metadata": {
    "colab": {},
    "colab_type": "code",
    "id": "yq5b97faLO-l"
   },
   "outputs": [],
   "source": [
    "#defining optimizer\n",
    "optimizer = optim.SGD(model.parameters(), lr=0.01, momentum=0.85, weight_decay=0.0001)"
   ]
  },
  {
   "cell_type": "markdown",
   "metadata": {
    "colab_type": "text",
    "id": "tFXAiYRZe5u-"
   },
   "source": [
    "We can use a learning rate scheduler that can update the learning rate during training. Here we will use a scheduler that multiply the learning rate by a factor $\\gamma$ at every $25$ epochs: e.g., lr=0.5, 0.05, 0.005...\n",
    "\n",
    "CLASS torch.optim.lr_scheduler.StepLR(optimizer, step_size, gamma=0.1, last_epoch=-1, verbose=False)\n"
   ]
  },
  {
   "cell_type": "code",
   "execution_count": 41,
   "metadata": {
    "colab": {},
    "colab_type": "code",
    "id": "g9bEjCBPLZZ0"
   },
   "outputs": [],
   "source": [
    "#defining learning rate scheduler\n",
    "lr_scheduler = optim.lr_scheduler.StepLR(optimizer, step_size=25, gamma=0.1)"
   ]
  },
  {
   "cell_type": "markdown",
   "metadata": {
    "colab_type": "text",
    "id": "EG0RRG5uUJYF"
   },
   "source": [
    "### Defining training and validation/test functions"
   ]
  },
  {
   "cell_type": "code",
   "execution_count": 42,
   "metadata": {
    "colab": {},
    "colab_type": "code",
    "id": "2uWGZ_y7T2b0"
   },
   "outputs": [],
   "source": [
    "def train_batch(model, data, optimizer, criterion, device):\n",
    "    model.train()\n",
    "    ims, targets = data\n",
    "    ims     = ims.to(device=device)\n",
    "    targets = targets.to(device=device)\n",
    "    preds   = model(ims)\n",
    "    loss, acc = criterion(preds, targets)\n",
    "    loss.backward()\n",
    "    optimizer.step()\n",
    "    optimizer.zero_grad()\n",
    "\n",
    "    return loss.item(), acc.item()\n",
    "\n",
    "@torch.no_grad()\n",
    "def validate_batch(model, data, criterion, device):\n",
    "    model.eval()\n",
    "    ims, targets = data\n",
    "    ims     = ims.to(device=device)\n",
    "    targets = targets.to(device=device)\n",
    "    preds   = model(ims)\n",
    "    loss, acc = criterion(preds, targets)\n",
    "    return loss.item(), acc.item()\n",
    "            "
   ]
  },
  {
   "cell_type": "markdown",
   "metadata": {},
   "source": [
    "### Training your model"
   ]
  },
  {
   "cell_type": "code",
   "execution_count": 43,
   "metadata": {
    "colab": {
     "base_uri": "https://localhost:8080/",
     "height": 1000
    },
    "colab_type": "code",
    "id": "pRht_kqVUa4H",
    "outputId": "e52bded8-59e0-4a90-aeb4-b75e46b58561"
   },
   "outputs": [
    {
     "name": "stdout",
     "output_type": "stream",
     "text": [
      "EPOCH: 10.000  val_loss: 0.296  val_acc: 0.903  trn_loss: 0.158  trn_acc: 0.941  (48.26s - 144.77s remaining)\n",
      "EPOCH: 20.000  val_loss: 0.270  val_acc: 0.922  trn_loss: 0.054  trn_acc: 0.980  (94.40s - 94.40s remaining)\n",
      "EPOCH: 30.000  val_loss: 0.310  val_acc: 0.927  trn_loss: 0.009  trn_acc: 0.998  (141.14s - 47.05s remaining)\n",
      "EPOCH: 40.000  val_loss: 0.321  val_acc: 0.928  trn_loss: 0.006  trn_acc: 0.999  (188.26s - 0.00s remaining)\n"
     ]
    }
   ],
   "source": [
    "# initializing variables\n",
    "n_epochs = 40\n",
    "log      = Report(n_epochs)\n",
    "\n",
    "# starting training and validation\n",
    "for ex in range(n_epochs):\n",
    "    N = len(trainload)\n",
    "    for bx, data in enumerate(trainload):\n",
    "        loss, acc = train_batch(model, data, optimizer, criterion, device)\n",
    "        #report results for the batch\n",
    "        log.record((ex+(bx+1)/N), trn_loss=loss, trn_acc=acc, end='\\r')\n",
    "\n",
    "    N = len(validload)\n",
    "    for bx, data in enumerate(validload):\n",
    "        loss, acc = validate_batch(model, data, criterion, device)\n",
    "        log.record((ex+(bx+1)/N), val_loss=loss, val_acc=acc, end='\\r')\n",
    "\n",
    "    if (ex+1) % 10 == 0: log.report_avgs(ex+1)\n",
    "    #count epochs for auto-adjusting the learning rate\n",
    "    lr_scheduler.step()"
   ]
  },
  {
   "cell_type": "markdown",
   "metadata": {},
   "source": [
    "### Plot the results"
   ]
  },
  {
   "cell_type": "code",
   "execution_count": 44,
   "metadata": {},
   "outputs": [
    {
     "name": "stderr",
     "output_type": "stream",
     "text": [
      "100%|████████████████████████████████████████| 141/141 [00:00<00:00, 366.73it/s]\n"
     ]
    },
    {
     "data": {
      "image/png": "[encoded data removed]",
      "text/plain": [
       "<Figure size 800x600 with 1 Axes>"
      ]
     },
     "metadata": {},
     "output_type": "display_data"
    },
    {
     "name": "stderr",
     "output_type": "stream",
     "text": [
      "100%|████████████████████████████████████████| 141/141 [00:00<00:00, 352.27it/s]\n"
     ]
    },
    {
     "data": {
      "image/png": "[encoded data removed]",
      "text/plain": [
       "<Figure size 800x600 with 1 Axes>"
      ]
     },
     "metadata": {},
     "output_type": "display_data"
    }
   ],
   "source": [
    "log.plot_epochs(['trn_loss','val_loss'])\n",
    "log.plot_epochs(['trn_acc','val_acc'])"
   ]
  },
  {
   "cell_type": "markdown",
   "metadata": {},
   "source": [
    "### Test your model"
   ]
  },
  {
   "cell_type": "code",
   "execution_count": 45,
   "metadata": {
    "colab": {
     "base_uri": "https://localhost:8080/",
     "height": 68
    },
    "colab_type": "code",
    "id": "cltw3oIuirqD",
    "outputId": "f554d3dd-d308-457c-c7aa-9966c624cdf8"
   },
   "outputs": [],
   "source": [
    "def Test(model, testload, criterion, device):\n",
    "    N = len(testload)\n",
    "    mean_loss = 0\n",
    "    mean_acc  = 0\n",
    "    for bx, data in enumerate(testload):\n",
    "        loss, acc  = validate_batch(model, data, criterion, device)\n",
    "        mean_loss += loss\n",
    "        mean_acc  += acc\n",
    "    \n",
    "    mean_loss = mean_loss / N\n",
    "    mean_acc  = mean_acc / N\n",
    "    return(mean_loss, mean_acc)\n",
    "\n",
    "\n"
   ]
  },
  {
   "cell_type": "code",
   "execution_count": 46,
   "metadata": {},
   "outputs": [
    {
     "name": "stdout",
     "output_type": "stream",
     "text": [
      "Loss: 0.327244 Acc: 0.928280\n"
     ]
    }
   ],
   "source": [
    "(mean, acc) = Test(model, testload, criterion, device)\n",
    "print('Loss: {:.6f} Acc: {:.6f}'.format(mean,acc))"
   ]
  },
  {
   "cell_type": "markdown",
   "metadata": {},
   "source": [
    "### Save and load your model"
   ]
  },
  {
   "cell_type": "code",
   "execution_count": 47,
   "metadata": {},
   "outputs": [],
   "source": [
    "# Save the tensors in the CPU format rather than in the GPU format to facilitate loading them later. It\n",
    "# does not save the architecture of the model, so the class of the model is required to load it later. \n",
    "torch.save(model.to('cpu').state_dict(), 'FMNistCNN.pth')\n",
    "#model.load_state_dict(torch.load('FMNistCNN.pth'))"
   ]
  },
  {
   "cell_type": "markdown",
   "metadata": {},
   "source": [
    "#### Exercise: The model is overfitted. Play with datasets' sizes, network architecture, and hiperparameters to improve results without overfitting or underfitting."
   ]
  }
 ],
 "metadata": {
  "accelerator": "GPU",
  "colab": {
   "collapsed_sections": [],
   "name": "presentation.ipynb",
   "provenance": []
  },
  "kernelspec": {
   "display_name": "Python 3 (ipykernel)",
   "language": "python",
   "name": "python3"
  },
  "language_info": {
   "codemirror_mode": {
    "name": "ipython",
    "version": 3
   },
   "file_extension": ".py",
   "mimetype": "text/x-python",
   "name": "python",
   "nbconvert_exporter": "python",
   "pygments_lexer": "ipython3",
   "version": "3.12.8"
  }
 },
 "nbformat": 4,
 "nbformat_minor": 4
}
