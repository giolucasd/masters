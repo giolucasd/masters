{
 "cells": [
  {
   "cell_type": "markdown",
   "metadata": {
    "id": "fOaCES6J_FKK"
   },
   "source": [
    "## Modified from Getting Started with Google BERT"
   ]
  },
  {
   "cell_type": "markdown",
   "metadata": {},
   "source": [
    "## From https://huggingface.co/transformers/"
   ]
  },
  {
   "cell_type": "code",
   "execution_count": 1,
   "metadata": {
    "id": "qmWTWzRX_FKe"
   },
   "outputs": [],
   "source": [
    "import torch\n",
    "from transformers import BertConfig, BertModel, BertTokenizer\n",
    "\n",
    "# Initializing a BERT bert-base-uncased style configuration\n",
    "configuration = BertConfig()\n",
    "\n",
    "# Initializing a model (with random weights) from the bert-base-uncased style configuration\n",
    "model = BertModel(configuration)\n",
    "\n",
    "# Accessing the model configuration\n",
    "configuration = model.config"
   ]
  },
  {
   "cell_type": "markdown",
   "metadata": {
    "id": "zFPzX86E_FKh"
   },
   "source": [
    "### We can also download a pre-trained BERT model -- check here: https://huggingface.co/docs/transformers/v4.25.1/en/main_classes/model#transformers.PreTrainedModel.from_pretrained. We will use the 'bert-base-uncased' model. As the name suggests, it is the BERT-base model with 12 encoders and it is trained with uncased tokens. Since we are using the BERT-base, each word will be represented by 768 features (the embedding size). "
   ]
  },
  {
   "cell_type": "code",
   "execution_count": 2,
   "metadata": {
    "colab": {
     "base_uri": "https://localhost:8080/",
     "height": 115,
     "referenced_widgets": [
      "1758400be5b14d1383a14be51f129388",
      "66169204df0344a78bb29b5c66235f38",
      "96a5d14686674cebaab3fe3457579f15",
      "71872c1d14f04434a502db8328803169",
      "a54875acc17044a0b6683d9cc94ed95c",
      "e900b312c23641549d729f1e9f98849a",
      "6e66fccb4d4e4518acdefab5a51c9708",
      "d07c2f696ad544b7833925b73219da72",
      "e79a470be88c4c2e9c5a7cc7e3eca6b1",
      "2320668b356245449a2ba6991e21dc71",
      "8c195883eb9f453781baf994903a07c4",
      "420c835be5304faeb77864c5f924b768",
      "ab9cede857e142f69b227bd15e7ac825",
      "08fc204525d24f0ca56c42c2890737ca",
      "f7a38dcc24f14a298d540d8827554757",
      "084587c872cb464f8afc0f88e6b33452"
     ]
    },
    "id": "swqqjz08_FKj",
    "outputId": "e1ca7551-d012-41d0-e38e-d46c3169d9b8"
   },
   "outputs": [],
   "source": [
    "# Download model and configuration from huggingface.co and cache.\n",
    "model = BertModel.from_pretrained(\"bert-base-uncased\")"
   ]
  },
  {
   "cell_type": "markdown",
   "metadata": {
    "id": "KODXve4P_FKl"
   },
   "source": [
    "### Next, we will download and load the tokenizer which is used for pretraining the bert-base-uncased model: "
   ]
  },
  {
   "cell_type": "code",
   "execution_count": 3,
   "metadata": {
    "colab": {
     "base_uri": "https://localhost:8080/",
     "height": 66,
     "referenced_widgets": [
      "a1fc82d07a6c4a46bef6b105b3f53bac",
      "b36a5b3e28394ee39058c537572ecd72",
      "67196c8f26d3422daf6c27589757b480",
      "7d1ef8f4cbfe46e1a8f9d6f6c944e93a",
      "6835f5dcea2e4832a1dc76dc28e24dd0",
      "7de7bcd4a0d841298de7f5ac7e5cc81c",
      "c9bc07b32ba54e3cbe26bf13aec9ece9",
      "8c7da9ea9fec4e7fbdc6ad56ee63c33f"
     ]
    },
    "id": "lPHa9dI5_FKn",
    "outputId": "06f9ae89-87b2-49d4-c898-60d13a34c20d"
   },
   "outputs": [],
   "source": [
    "tokenizer = BertTokenizer.from_pretrained(\"bert-base-uncased\")"
   ]
  },
  {
   "cell_type": "markdown",
   "metadata": {
    "id": "qIHYHG5A_FKr"
   },
   "source": [
    "\n",
    "### Now, let's see how to preprocess the input before feeding it to the BERT. \n"
   ]
  },
  {
   "cell_type": "markdown",
   "metadata": {
    "id": "j8El2dcG_FKs"
   },
   "source": [
    "## Preprocessing the input \n",
    "### Define the sentence:"
   ]
  },
  {
   "cell_type": "code",
   "execution_count": 4,
   "metadata": {
    "id": "8Hkc5o3B_FKu"
   },
   "outputs": [],
   "source": [
    "sentence = 'I am good'"
   ]
  },
  {
   "cell_type": "markdown",
   "metadata": {
    "id": "FVn3-2XM_FKv"
   },
   "source": [
    "### Tokenize the sentence and obtain the tokens:"
   ]
  },
  {
   "cell_type": "code",
   "execution_count": 5,
   "metadata": {
    "id": "4Ui-3oWr_FKw"
   },
   "outputs": [],
   "source": [
    "tokens = tokenizer.tokenize(sentence)"
   ]
  },
  {
   "cell_type": "markdown",
   "metadata": {
    "id": "RSYRLcvV_FKy"
   },
   "source": [
    "### Let's print the uncased tokens:"
   ]
  },
  {
   "cell_type": "code",
   "execution_count": 6,
   "metadata": {
    "colab": {
     "base_uri": "https://localhost:8080/"
    },
    "id": "CGHtPj5H_FKz",
    "outputId": "96afb8ca-8565-4b69-dad2-fc9471dd7227"
   },
   "outputs": [
    {
     "name": "stdout",
     "output_type": "stream",
     "text": [
      "['i', 'am', 'good']\n"
     ]
    }
   ],
   "source": [
    "print(tokens)"
   ]
  },
  {
   "cell_type": "markdown",
   "metadata": {
    "id": "rL8VgpcM_FK0"
   },
   "source": [
    "### Now, we will add the [CLS] token at the beginning and [SEP] token at the end of the sentence. If you had multiple sentences, you would have to add this tag between them.  "
   ]
  },
  {
   "cell_type": "code",
   "execution_count": 7,
   "metadata": {
    "id": "3CpARvDc_FK0"
   },
   "outputs": [],
   "source": [
    "tokens = ['[CLS]'] + tokens + ['[SEP]']"
   ]
  },
  {
   "cell_type": "markdown",
   "metadata": {
    "id": "jbFEyrk7_FK2"
   },
   "source": [
    "### Let's look at our updated tokens list:"
   ]
  },
  {
   "cell_type": "code",
   "execution_count": 8,
   "metadata": {
    "colab": {
     "base_uri": "https://localhost:8080/"
    },
    "id": "Uaf_JScw_FK3",
    "outputId": "82f09500-1324-4022-9b5a-e165716c2443"
   },
   "outputs": [
    {
     "name": "stdout",
     "output_type": "stream",
     "text": [
      "['[CLS]', 'i', 'am', 'good', '[SEP]']\n"
     ]
    }
   ],
   "source": [
    "print(tokens)"
   ]
  },
  {
   "cell_type": "markdown",
   "metadata": {
    "id": "wVD29L7A_FK3"
   },
   "source": [
    "### As we can observe, we have [CLS] token at the beginning and sep token at the end of our tokens list. We can also observe that length of our tokens is 5.\n",
    "\n",
    "### Say, we need to keep the length of our tokens list to 7, then, in that case, we will add two [PAD] tokens at the end as shown in the following:\n",
    "\n"
   ]
  },
  {
   "cell_type": "code",
   "execution_count": 9,
   "metadata": {
    "id": "cqMI--rA_FK4"
   },
   "outputs": [],
   "source": [
    "tokens = tokens + ['[PAD]'] + ['[PAD]']"
   ]
  },
  {
   "cell_type": "markdown",
   "metadata": {
    "id": "XEEHs7CV_FK6"
   },
   "source": [
    "### Let's print our updated tokens list:"
   ]
  },
  {
   "cell_type": "code",
   "execution_count": 10,
   "metadata": {
    "colab": {
     "base_uri": "https://localhost:8080/"
    },
    "id": "2tKmh_hk_FK6",
    "outputId": "31926f5d-4329-4c21-fc57-b3318b8f0c30"
   },
   "outputs": [
    {
     "name": "stdout",
     "output_type": "stream",
     "text": [
      "['[CLS]', 'i', 'am', 'good', '[SEP]', '[PAD]', '[PAD]']\n"
     ]
    }
   ],
   "source": [
    "print(tokens)"
   ]
  },
  {
   "cell_type": "markdown",
   "metadata": {
    "id": "aPd9TPWE_FK7"
   },
   "source": [
    "\n",
    "\n",
    "### As we can observe, now we have the tokens list consists of [PAD] tokens and the length of our tokens list is 7. Next, we create the attention mask. We set the attention mask value to 1 if the token is not a [PAD] token else we will set the attention mask to 0 as shown below:\n",
    "\n"
   ]
  },
  {
   "cell_type": "code",
   "execution_count": 11,
   "metadata": {
    "id": "3SbiaBws_FK8"
   },
   "outputs": [],
   "source": [
    "attention_mask = [1 if i!= '[PAD]' else 0 for i in tokens]"
   ]
  },
  {
   "cell_type": "markdown",
   "metadata": {
    "id": "SELKgxsG_FK9"
   },
   "source": [
    "### Let's print the attention_mask:"
   ]
  },
  {
   "cell_type": "code",
   "execution_count": 12,
   "metadata": {
    "colab": {
     "base_uri": "https://localhost:8080/"
    },
    "id": "NmtZKFFq_FK-",
    "outputId": "83e13594-2f24-427d-cd99-bfba8930adaf"
   },
   "outputs": [
    {
     "name": "stdout",
     "output_type": "stream",
     "text": [
      "[1, 1, 1, 1, 1, 0, 0]\n"
     ]
    }
   ],
   "source": [
    "print(attention_mask)"
   ]
  },
  {
   "cell_type": "markdown",
   "metadata": {
    "id": "qvtvC8HW_FK-"
   },
   "source": [
    "### As we can observe, we have attention mask values 0 at the position where have [PAD] token and 1 at other positions. Next, we convert all the tokens to their token_ids as shown below: \n"
   ]
  },
  {
   "cell_type": "code",
   "execution_count": 13,
   "metadata": {
    "id": "KGbsHfxL_FK_"
   },
   "outputs": [],
   "source": [
    "token_ids = tokenizer.convert_tokens_to_ids(tokens)"
   ]
  },
  {
   "cell_type": "markdown",
   "metadata": {
    "id": "zaQWwz_y_FK_"
   },
   "source": [
    "\n",
    "### Let's have a look at the token_ids:"
   ]
  },
  {
   "cell_type": "code",
   "execution_count": 14,
   "metadata": {
    "colab": {
     "base_uri": "https://localhost:8080/"
    },
    "id": "iih_wWeT_FLA",
    "outputId": "f83bd6c5-300a-4c1a-fac9-dc54db1e157b"
   },
   "outputs": [
    {
     "name": "stdout",
     "output_type": "stream",
     "text": [
      "[101, 1045, 2572, 2204, 102, 0, 0]\n"
     ]
    }
   ],
   "source": [
    "print(token_ids)"
   ]
  },
  {
   "cell_type": "markdown",
   "metadata": {
    "id": "S9RL1cBs_FLA"
   },
   "source": [
    "\n",
    "### From the above output, we can observe that each token is mapped to a unique token id. Now, we will convert the token_ids and attention_mask to tensors as shown below:"
   ]
  },
  {
   "cell_type": "code",
   "execution_count": 15,
   "metadata": {
    "id": "KQzsDUez_FLB"
   },
   "outputs": [],
   "source": [
    "token_ids = torch.tensor(token_ids).clone().detach().unsqueeze(0)\n",
    "attention_mask = torch.tensor(attention_mask).clone().detach().unsqueeze(0)"
   ]
  },
  {
   "cell_type": "markdown",
   "metadata": {
    "id": "pQn5de_a_FLC"
   },
   "source": [
    "### That's it. Next, we feed the token_ids and attention_mask to the pre-trained BERT model and get the embedding --- i.e., the output of encoder 12. "
   ]
  },
  {
   "cell_type": "code",
   "execution_count": 16,
   "metadata": {
    "id": "Rh-Ohh71_FLE"
   },
   "outputs": [],
   "source": [
    "output = model(token_ids, attention_mask = attention_mask, output_hidden_states = True)"
   ]
  },
  {
   "cell_type": "markdown",
   "metadata": {
    "id": "F3Kfvd3F_FLF"
   },
   "source": [
    "### Such output contains the tensor output[0] with the embeddings of all tokens (words and tags) of our sentence. "
   ]
  },
  {
   "cell_type": "code",
   "execution_count": 17,
   "metadata": {
    "colab": {
     "base_uri": "https://localhost:8080/"
    },
    "id": "Gx1RfsaU_FLF",
    "outputId": "8c50bb57-c886-4d3a-d029-e2c87e43adda"
   },
   "outputs": [
    {
     "name": "stdout",
     "output_type": "stream",
     "text": [
      "torch.Size([1, 7, 768])\n"
     ]
    }
   ],
   "source": [
    "print(output[0].shape)"
   ]
  },
  {
   "cell_type": "markdown",
   "metadata": {
    "id": "zWxFowIS_FLG"
   },
   "source": [
    "### The size [1,7,768] indicates the[batch_size, sequence_length, hidden_size].\n",
    "\n",
    "### Our batch size is 1, the sequence length is the token length, since we have 7 tokens, the sequence length is 7, and the hidden size is the representation (embedding) size and it is 768 for the BERT-base model. \n",
    "\n",
    "### We can obtain the representation of each token as: \n",
    "\n",
    "### - output[0][0][0] gives the representation of the first token which is [CLS]\n",
    "### - output[0][0][1] gives the representation of the second token which is 'I' \n",
    "### - output[0][0][2] gives the representation of the third token which is 'am' \n",
    "\n"
   ]
  },
  {
   "cell_type": "code",
   "execution_count": 18,
   "metadata": {
    "colab": {
     "base_uri": "https://localhost:8080/"
    },
    "id": "zAL6KEXw_FLI",
    "outputId": "fb3a0ca9-9a1a-44e2-f292-d0b2c3f9bd68"
   },
   "outputs": [
    {
     "name": "stdout",
     "output_type": "stream",
     "text": [
      "tensor([-7.4807e-03, -1.8489e-01,  1.1664e-01, -5.3192e-01, -1.4383e-02,\n",
      "         5.5371e-01,  4.5283e-02,  1.1347e+00, -3.9315e-02, -3.0881e-01,\n",
      "        -3.5426e-01, -2.9035e-01,  5.3685e-01,  3.3270e-01,  1.5715e-01,\n",
      "         1.1401e-01,  4.6529e-01,  1.3255e-01,  6.5985e-02,  8.2078e-01,\n",
      "        -1.2184e-01, -5.4947e-01, -9.0832e-01,  4.4330e-01,  5.8226e-01,\n",
      "         2.5752e-01, -3.0127e-01, -1.8286e-01, -1.2086e-01, -6.0585e-02,\n",
      "         2.5353e-01, -8.8148e-02, -3.7724e-01,  7.7164e-01, -3.8769e-01,\n",
      "        -5.8781e-01,  6.5402e-03, -3.4348e-01, -4.7344e-01,  7.3665e-01,\n",
      "        -1.8006e-01, -3.4319e-01,  2.9422e-01, -1.5370e-02, -2.6498e-01,\n",
      "        -4.8240e-01,  4.9075e-01, -2.4224e-01, -5.1813e-02, -7.4864e-01,\n",
      "        -2.6666e-01,  3.4314e-02, -2.1519e-01,  2.9984e-01, -2.9019e-01,\n",
      "         8.3109e-01,  1.8701e-01, -6.6528e-01, -2.9929e-01,  2.1505e-01,\n",
      "        -6.4004e-02, -1.6274e-01,  8.3385e-01, -3.5514e-01, -5.9174e-01,\n",
      "         8.8238e-01, -2.6925e-01, -5.3357e-03, -1.0935e-01,  2.2029e-02,\n",
      "         2.1166e-01,  2.2594e-01, -3.6051e-01, -4.0525e-01, -3.7728e-01,\n",
      "        -1.0351e+00, -4.3603e-01,  1.0945e-01,  3.6643e-02, -2.3325e-01,\n",
      "        -1.3059e-01,  1.1606e+00, -8.6529e-01,  2.8957e-01, -7.5259e-01,\n",
      "        -3.4090e-01,  1.4129e-01,  7.8001e-01, -1.9062e-01, -4.7731e-01,\n",
      "        -1.9813e-01, -1.8172e-01, -1.0301e-01,  8.2748e-01, -3.3535e-01,\n",
      "        -1.5306e+00, -4.7240e-01, -5.7654e-01,  2.2928e-01, -8.2013e-01,\n",
      "         2.8454e-01, -6.5593e-01, -7.2407e-02,  5.8556e-03, -1.8112e-01,\n",
      "         1.7646e-01,  3.1348e-01, -4.2345e-01,  1.2063e+00, -3.5401e-01,\n",
      "        -3.1731e-02, -1.2294e-01, -4.4045e-01, -2.7747e-01, -1.3671e-02,\n",
      "         5.4452e-01,  4.3113e-01, -2.3143e-01,  3.8039e-02, -2.4045e-01,\n",
      "         1.6256e-01,  1.8178e-01,  1.7819e-02,  2.6315e-01, -8.8365e-02,\n",
      "        -1.0638e+00,  7.8873e-03,  3.5234e-01, -2.1859e-01, -7.1269e-02,\n",
      "         8.0061e-02,  5.2389e-01, -1.3684e-01, -7.3980e-02,  1.0896e+00,\n",
      "        -1.3132e-01,  1.8054e-01,  1.8558e-01, -1.4368e-01, -7.0918e-01,\n",
      "         4.7343e-01,  1.2979e-01,  1.5305e-01,  5.0821e-01,  2.0657e-01,\n",
      "        -2.1157e-01, -3.2786e-01, -4.0228e-03,  6.2604e-02,  1.8930e-01,\n",
      "         3.6035e-01, -3.1504e-01,  9.0983e-02, -5.9384e-02, -2.0936e-01,\n",
      "        -3.1652e-01, -5.2089e-01,  8.2341e-01,  3.8480e-01,  1.1310e-01,\n",
      "        -2.6751e-01, -1.7463e-01,  6.9935e-02,  4.7690e-02,  3.6566e-01,\n",
      "         2.0054e-02,  2.0146e-01,  1.5307e-01,  3.3825e-01, -6.4903e-01,\n",
      "        -2.4198e-01, -1.2004e+00,  3.7095e-01,  7.4883e-01,  6.2019e-02,\n",
      "        -3.9925e-01,  4.5047e-01,  3.8789e-01,  8.2855e-02, -3.1332e-01,\n",
      "        -5.6231e-01,  2.4095e-01,  2.3811e-01,  8.0408e-02,  3.8936e-01,\n",
      "        -1.9379e-01,  1.0346e+00, -3.3381e-01,  1.5407e-01,  7.2143e-01,\n",
      "         4.3760e-01, -2.0707e-01,  3.8818e-03,  2.4005e-01,  2.0850e-01,\n",
      "        -2.3088e-01,  1.5719e-01, -1.9805e-01, -3.4922e-01,  6.5342e-01,\n",
      "         7.1045e-01, -3.0119e-03, -1.4863e-01, -4.0815e-01,  3.8038e-03,\n",
      "         1.0510e+00,  3.3000e-01, -3.0446e-01, -2.3582e-01, -1.5252e-02,\n",
      "        -4.5539e-01,  2.2568e-01,  1.0710e-01, -1.9247e-01,  4.5852e-01,\n",
      "        -5.1669e-01,  1.8729e-01, -2.7012e-01,  5.2029e-01,  2.8977e-01,\n",
      "         6.6812e-01, -6.1983e-01, -1.5980e+00,  1.0355e+00, -9.7351e-03,\n",
      "         4.5693e-02,  2.3756e-01, -1.1210e-01, -7.3401e-01,  1.0444e-01,\n",
      "        -1.0623e+00, -4.2865e-01,  4.6364e-02, -1.5567e-01,  4.5272e-01,\n",
      "         1.7862e-01,  2.4941e-01, -1.1661e+00,  4.6206e-01, -6.8532e-02,\n",
      "         4.9038e-01,  8.1696e-01,  3.8518e-01,  1.4962e+00, -8.3509e-02,\n",
      "         5.8105e-01,  1.7955e-03, -2.4713e-01, -9.7301e-02, -3.5290e-01,\n",
      "         4.8322e-02, -9.9229e-01, -8.2862e-01, -6.3138e-01, -1.4070e-02,\n",
      "         2.9547e-01, -2.7725e-01,  7.9871e-01, -4.9083e-01,  3.6549e-01,\n",
      "         3.5026e-01, -3.4783e-01,  1.0866e+00,  4.3776e-01, -3.9201e-01,\n",
      "        -4.8159e-01, -5.8965e-01,  9.2086e-02,  1.2379e-02,  4.1344e-01,\n",
      "        -4.7218e-01,  2.1316e-02,  1.0009e-01,  4.1654e-01, -9.0479e-02,\n",
      "        -7.6475e-01,  8.3322e-01,  5.5525e-01, -2.2954e-01, -5.6964e-01,\n",
      "         2.5889e-01,  6.5866e-01,  1.3468e-02, -5.9103e-02,  2.2888e-01,\n",
      "        -4.0811e-01,  2.5799e-01,  2.3701e-01, -1.8611e-02, -4.1338e-01,\n",
      "        -4.3403e-01,  9.0884e-01,  6.7496e-02, -2.6214e-01,  7.3329e-01,\n",
      "        -3.5633e-01,  8.1915e-01,  9.5325e-02,  3.9713e-01, -5.1782e-01,\n",
      "        -5.1619e-01, -5.5416e-01, -1.5756e-01,  1.2147e-01,  4.3143e-01,\n",
      "        -2.8217e-01, -8.0987e-03, -4.0846e-01, -4.5912e+00,  2.8976e-01,\n",
      "        -4.0780e-01,  1.2278e-01, -2.0480e-01, -5.8129e-02, -6.2577e-01,\n",
      "         6.2035e-02, -9.8281e-01, -1.6994e-01,  1.8589e-01, -3.3617e-01,\n",
      "         1.9183e-01,  5.8819e-02,  5.2228e-01, -8.1383e-01,  3.9603e-01,\n",
      "        -3.6516e-01, -5.4958e-01,  1.7312e+00, -1.8470e-01,  2.9456e-01,\n",
      "         3.2340e-02, -9.9686e-01, -5.6751e-01,  3.8079e-01,  2.3248e-01,\n",
      "         3.4296e-01, -1.1165e+00,  7.9972e-01,  1.3068e-02,  1.4513e-01,\n",
      "         3.0544e-01, -4.9498e-02,  3.5251e-01,  3.4209e-01, -4.0544e-01,\n",
      "        -1.2447e-01,  1.0760e-01, -5.5332e-01,  1.9677e-01, -7.8690e-01,\n",
      "        -1.4292e-01,  3.6463e-01,  9.2929e-02,  2.0753e-01, -5.7739e-01,\n",
      "        -4.7353e-01, -6.2076e-02,  2.3780e-01, -8.2067e-02, -6.2443e-01,\n",
      "         4.8278e-01,  4.1661e-02,  3.9724e-01, -4.3823e-01,  3.8105e-01,\n",
      "         4.0819e-01,  4.8038e-01,  2.6790e-01,  3.7670e-01,  3.8343e-01,\n",
      "        -5.2694e-01,  1.3783e-01,  9.0016e-01,  3.9504e-01, -3.9919e-01,\n",
      "         5.0845e-01,  8.7839e-02,  4.7002e-01,  2.1174e-01, -4.1196e-01,\n",
      "         2.8038e-01, -1.1015e+00, -1.2759e-03,  1.4837e-02,  1.8850e-01,\n",
      "        -1.1152e-01,  3.7000e-01, -5.4314e-01, -4.7553e-01,  4.9290e-02,\n",
      "         4.6295e-01, -9.6737e-02,  4.3167e-01, -5.1574e-02,  1.7134e-01,\n",
      "         7.4560e-02,  3.0115e-01,  2.3542e-01,  2.4528e-01,  1.7533e-01,\n",
      "         7.2070e-01,  7.2993e-01,  8.5576e-02, -1.8401e-01,  5.9583e-01,\n",
      "        -5.3099e-01,  1.1594e-01, -1.0630e-02,  6.9785e-01,  1.9703e-02,\n",
      "         2.3048e-01,  1.1060e-01,  6.4775e-01,  1.8741e-02, -5.4792e-01,\n",
      "         4.5135e-01,  2.5848e-01, -1.3202e-01,  1.7736e-01, -8.1176e-01,\n",
      "         9.0385e-01, -8.1711e-01,  7.2480e-02, -7.6795e-01,  6.4649e-02,\n",
      "        -3.1971e-02, -4.1279e-01,  2.6918e-01,  1.8228e-02,  5.3683e-01,\n",
      "        -3.1584e-01, -5.6915e-01, -1.3073e+00,  8.1468e-01,  1.9900e-01,\n",
      "        -3.2091e-01, -1.3345e+00, -4.0315e-02, -1.0163e-01, -3.3270e-01,\n",
      "        -3.2379e-01, -3.7351e-01,  3.6559e-01,  1.4095e-01, -8.0616e-01,\n",
      "        -2.4163e-01,  2.1762e-01,  3.4279e-01, -3.2395e-01,  3.2954e-01,\n",
      "        -2.5161e-01,  7.1832e-01, -5.7065e-01,  6.2778e-01, -4.2329e-01,\n",
      "        -1.1789e+00, -8.7175e-01,  1.0218e+00,  8.5076e-01,  3.6100e-01,\n",
      "        -2.5508e-01,  6.7250e-02,  2.3618e-01, -4.5085e-01,  7.6460e-01,\n",
      "        -7.3104e-01,  2.2668e-01, -8.3553e-01, -5.4470e-01,  2.6280e-01,\n",
      "        -2.4756e-01, -1.5743e-01,  9.1401e-01,  6.6901e-01, -2.4185e-01,\n",
      "         4.5423e-01, -1.2396e-02, -9.4482e-01, -1.0198e+00, -5.1030e-01,\n",
      "        -2.7058e-01, -9.5062e-01,  5.6850e-01,  1.9388e-01, -9.3871e-02,\n",
      "        -1.2233e-01, -3.3434e-01, -6.1713e-01, -4.6691e-01, -4.0493e-01,\n",
      "         1.3508e-01, -3.0772e-01,  8.4774e-01,  2.6792e-01, -3.8727e-01,\n",
      "        -5.3460e-01,  5.5420e-01,  7.1973e-01, -1.9218e-01,  1.4405e-01,\n",
      "        -3.4017e-01, -1.2956e+00, -5.7204e-01, -1.3502e+00,  1.1078e+00,\n",
      "        -4.9236e-01, -3.7590e-01,  7.6907e-01,  4.7478e-01,  3.9487e-01,\n",
      "        -7.6841e-01,  2.7898e-01, -1.3646e-01, -1.6438e-01, -6.7841e-01,\n",
      "        -2.2647e-01, -3.1911e-01,  3.0986e-01, -5.2448e-01,  2.0108e-01,\n",
      "        -2.8323e-01,  1.7428e-01, -8.2044e-01, -7.1286e-01,  4.7362e-01,\n",
      "        -1.0910e-01, -1.0836e+00, -4.3098e-01, -2.8299e-01,  2.3374e-01,\n",
      "         8.6738e-02, -2.3062e-01, -6.6777e-01, -3.3559e-01, -3.0956e-01,\n",
      "        -3.7738e-01, -4.2885e-01, -6.4698e-01,  3.8205e-01, -6.3129e-01,\n",
      "         5.0433e-01,  6.4742e-01,  4.2655e-01, -8.7121e-02, -3.4071e-01,\n",
      "        -3.4228e-01,  3.1405e-01,  3.9057e-01,  4.4501e-02, -5.7201e-01,\n",
      "         7.6626e-01, -3.2160e-01, -4.7498e-01, -3.5248e-01, -7.4894e-01,\n",
      "        -8.1904e-03, -3.0057e-01,  7.0662e-01, -7.6054e-01,  1.6705e-01,\n",
      "        -5.9663e-01,  1.2744e-01,  3.4331e-01, -5.1764e-02, -6.3041e-01,\n",
      "         3.8708e-01, -1.2692e-01, -4.4393e-02,  4.5684e-01, -1.7200e-01,\n",
      "         8.5031e-02, -1.4439e-01, -4.1584e-01,  3.6301e-01,  5.2350e-01,\n",
      "         5.4328e-01, -3.5358e-01,  9.4846e-01, -3.8937e-01, -3.0075e-02,\n",
      "         3.3681e-01, -1.0678e-01,  1.9537e-01, -4.0759e-01, -2.2407e-01,\n",
      "        -2.4866e-02,  6.3889e-01, -5.8474e-01,  3.4013e-01,  1.9400e-01,\n",
      "        -1.0694e-01, -2.1117e-01,  5.8711e-01, -4.6209e-01,  7.8695e-02,\n",
      "         6.0589e-01,  2.5331e-01,  8.8267e-02, -6.2919e-01,  4.6434e-01,\n",
      "         2.3634e-01,  2.2602e-01,  9.7061e-02,  3.0056e-01,  5.4580e-02,\n",
      "         8.1091e-01, -4.2217e-01,  1.4310e-01,  3.2634e-01,  6.3263e-01,\n",
      "         5.5327e-01,  4.5296e-01, -6.5615e-01,  2.6133e-01,  1.1198e-01,\n",
      "        -2.1747e-01, -3.6544e-01, -1.9175e-02,  2.6145e-01,  1.3954e-01,\n",
      "         9.0232e-01,  3.4975e-01, -1.7037e-01, -6.3406e-01,  3.0783e-01,\n",
      "        -8.2596e-01, -2.2167e-01,  5.0155e-02,  6.0127e-03, -5.5550e-01,\n",
      "         4.9175e-01,  4.5058e-01,  1.1938e-01, -3.5121e-02, -8.8295e-01,\n",
      "         1.5101e-01,  8.8757e-01,  1.1442e+00, -3.7916e-01, -2.8848e-01,\n",
      "        -4.2166e-01,  7.0251e-01, -1.6976e-01,  5.4599e-01,  5.8507e-03,\n",
      "        -5.4086e-01, -1.4668e-01,  9.4568e-02,  8.4092e-06,  1.7307e-01,\n",
      "         7.3169e-01, -9.8488e-02, -4.3262e-01, -1.3146e-01, -7.1612e-02,\n",
      "        -3.1321e-01,  1.0973e+00,  2.7629e-01, -4.1842e-01, -2.1619e-02,\n",
      "         1.3067e-01, -1.2647e+00, -1.0619e-01,  7.5105e-01,  4.4765e-01,\n",
      "         4.2642e-01, -4.3910e-01, -9.5166e-01, -3.5692e-01, -1.2475e-02,\n",
      "         8.6927e-01,  3.4810e-02, -3.0252e-02,  4.8040e-01,  3.5403e-01,\n",
      "         2.6167e-01, -1.5593e-01,  8.6564e-02,  3.8676e-01,  2.0754e-01,\n",
      "         5.7480e-01,  1.2233e+00, -3.0508e-01,  7.8200e-01, -2.2377e-01,\n",
      "        -6.1127e-01,  2.2659e-01, -5.2397e-01,  1.7493e-01,  9.9832e-01,\n",
      "        -4.8446e-01, -3.9912e-01, -4.3096e-01, -7.8478e-01, -7.1099e-01,\n",
      "        -1.9586e-01,  7.8284e-01,  6.3928e-02,  3.7397e-01, -2.9935e-01,\n",
      "         1.5424e-01, -2.7109e-02,  3.1826e-01, -7.0063e-01,  5.5393e-01,\n",
      "         4.0176e-01,  5.5108e-01, -2.5247e-01,  2.5837e-02,  5.9571e-01,\n",
      "        -5.1835e-03,  3.0034e-01, -9.8181e-01,  1.3275e-01, -7.4007e-01,\n",
      "         2.6783e-01, -7.5090e-01, -1.0035e+00,  6.8813e-01,  1.1227e+00,\n",
      "        -6.5832e-01,  4.7872e-01,  2.0063e-01,  3.8264e-01,  5.3318e-01,\n",
      "         4.0215e-02, -2.8808e-01, -6.2613e-01,  2.5934e-01, -4.5199e-01,\n",
      "        -6.6530e-02,  1.0155e+00, -1.9289e-01, -8.1705e-02, -2.0089e-01,\n",
      "         3.5771e-01, -4.3703e-01, -8.8434e-02, -6.4341e-01,  4.9244e-01,\n",
      "         5.0240e-01, -7.3558e-01,  7.7819e-02, -9.5273e-01,  6.2564e-01,\n",
      "        -2.7487e-01,  9.3619e-02, -5.5618e-01,  5.5997e-01,  6.4280e-01,\n",
      "         8.4573e-01, -3.8267e-01, -4.0107e-01,  1.3842e-01, -5.2765e-01,\n",
      "        -9.6318e-01,  9.2297e-01, -4.8010e-01,  5.2770e-01,  3.6320e-02,\n",
      "         6.6106e-01, -1.0884e-01,  1.2573e-01, -8.6274e-03, -3.5290e-01,\n",
      "        -1.2302e-01,  8.8840e-01,  3.3391e-01], grad_fn=<SelectBackward0>)\n"
     ]
    }
   ],
   "source": [
    "print(output[0][0][1])"
   ]
  }
 ],
 "metadata": {
  "colab": {
   "name": "3.03. Generating BERT embedding .ipynb",
   "provenance": []
  },
  "kernelspec": {
   "display_name": "Python 3 (ipykernel)",
   "language": "python",
   "name": "python3"
  },
  "language_info": {
   "codemirror_mode": {
    "name": "ipython",
    "version": 3
   },
   "file_extension": ".py",
   "mimetype": "text/x-python",
   "name": "python",
   "nbconvert_exporter": "python",
   "pygments_lexer": "ipython3",
   "version": "3.12.8"
  },
  "widgets": {
   "application/vnd.jupyter.widget-state+json": {
    "084587c872cb464f8afc0f88e6b33452": {
     "model_module": "@jupyter-widgets/base",
     "model_name": "LayoutModel",
     "state": {
      "_model_module": "@jupyter-widgets/base",
      "_model_module_version": "1.2.0",
      "_model_name": "LayoutModel",
      "_view_count": null,
      "_view_module": "@jupyter-widgets/base",
      "_view_module_version": "1.2.0",
      "_view_name": "LayoutView",
      "align_content": null,
      "align_items": null,
      "align_self": null,
      "border": null,
      "bottom": null,
      "display": null,
      "flex": null,
      "flex_flow": null,
      "grid_area": null,
      "grid_auto_columns": null,
      "grid_auto_flow": null,
      "grid_auto_rows": null,
      "grid_column": null,
      "grid_gap": null,
      "grid_row": null,
      "grid_template_areas": null,
      "grid_template_columns": null,
      "grid_template_rows": null,
      "height": null,
      "justify_content": null,
      "justify_items": null,
      "left": null,
      "margin": null,
      "max_height": null,
      "max_width": null,
      "min_height": null,
      "min_width": null,
      "object_fit": null,
      "object_position": null,
      "order": null,
      "overflow": null,
      "overflow_x": null,
      "overflow_y": null,
      "padding": null,
      "right": null,
      "top": null,
      "visibility": null,
      "width": null
     }
    },
    "08fc204525d24f0ca56c42c2890737ca": {
     "model_module": "@jupyter-widgets/base",
     "model_name": "LayoutModel",
     "state": {
      "_model_module": "@jupyter-widgets/base",
      "_model_module_version": "1.2.0",
      "_model_name": "LayoutModel",
      "_view_count": null,
      "_view_module": "@jupyter-widgets/base",
      "_view_module_version": "1.2.0",
      "_view_name": "LayoutView",
      "align_content": null,
      "align_items": null,
      "align_self": null,
      "border": null,
      "bottom": null,
      "display": null,
      "flex": null,
      "flex_flow": null,
      "grid_area": null,
      "grid_auto_columns": null,
      "grid_auto_flow": null,
      "grid_auto_rows": null,
      "grid_column": null,
      "grid_gap": null,
      "grid_row": null,
      "grid_template_areas": null,
      "grid_template_columns": null,
      "grid_template_rows": null,
      "height": null,
      "justify_content": null,
      "justify_items": null,
      "left": null,
      "margin": null,
      "max_height": null,
      "max_width": null,
      "min_height": null,
      "min_width": null,
      "object_fit": null,
      "object_position": null,
      "order": null,
      "overflow": null,
      "overflow_x": null,
      "overflow_y": null,
      "padding": null,
      "right": null,
      "top": null,
      "visibility": null,
      "width": null
     }
    },
    "1758400be5b14d1383a14be51f129388": {
     "model_module": "@jupyter-widgets/controls",
     "model_name": "HBoxModel",
     "state": {
      "_dom_classes": [],
      "_model_module": "@jupyter-widgets/controls",
      "_model_module_version": "1.5.0",
      "_model_name": "HBoxModel",
      "_view_count": null,
      "_view_module": "@jupyter-widgets/controls",
      "_view_module_version": "1.5.0",
      "_view_name": "HBoxView",
      "box_style": "",
      "children": [
       "IPY_MODEL_96a5d14686674cebaab3fe3457579f15",
       "IPY_MODEL_71872c1d14f04434a502db8328803169"
      ],
      "layout": "IPY_MODEL_66169204df0344a78bb29b5c66235f38"
     }
    },
    "2320668b356245449a2ba6991e21dc71": {
     "model_module": "@jupyter-widgets/base",
     "model_name": "LayoutModel",
     "state": {
      "_model_module": "@jupyter-widgets/base",
      "_model_module_version": "1.2.0",
      "_model_name": "LayoutModel",
      "_view_count": null,
      "_view_module": "@jupyter-widgets/base",
      "_view_module_version": "1.2.0",
      "_view_name": "LayoutView",
      "align_content": null,
      "align_items": null,
      "align_self": null,
      "border": null,
      "bottom": null,
      "display": null,
      "flex": null,
      "flex_flow": null,
      "grid_area": null,
      "grid_auto_columns": null,
      "grid_auto_flow": null,
      "grid_auto_rows": null,
      "grid_column": null,
      "grid_gap": null,
      "grid_row": null,
      "grid_template_areas": null,
      "grid_template_columns": null,
      "grid_template_rows": null,
      "height": null,
      "justify_content": null,
      "justify_items": null,
      "left": null,
      "margin": null,
      "max_height": null,
      "max_width": null,
      "min_height": null,
      "min_width": null,
      "object_fit": null,
      "object_position": null,
      "order": null,
      "overflow": null,
      "overflow_x": null,
      "overflow_y": null,
      "padding": null,
      "right": null,
      "top": null,
      "visibility": null,
      "width": null
     }
    },
    "420c835be5304faeb77864c5f924b768": {
     "model_module": "@jupyter-widgets/controls",
     "model_name": "HTMLModel",
     "state": {
      "_dom_classes": [],
      "_model_module": "@jupyter-widgets/controls",
      "_model_module_version": "1.5.0",
      "_model_name": "HTMLModel",
      "_view_count": null,
      "_view_module": "@jupyter-widgets/controls",
      "_view_module_version": "1.5.0",
      "_view_name": "HTMLView",
      "description": "",
      "description_tooltip": null,
      "layout": "IPY_MODEL_084587c872cb464f8afc0f88e6b33452",
      "placeholder": "​",
      "style": "IPY_MODEL_f7a38dcc24f14a298d540d8827554757",
      "value": " 440M/440M [00:07&lt;00:00, 61.5MB/s]"
     }
    },
    "66169204df0344a78bb29b5c66235f38": {
     "model_module": "@jupyter-widgets/base",
     "model_name": "LayoutModel",
     "state": {
      "_model_module": "@jupyter-widgets/base",
      "_model_module_version": "1.2.0",
      "_model_name": "LayoutModel",
      "_view_count": null,
      "_view_module": "@jupyter-widgets/base",
      "_view_module_version": "1.2.0",
      "_view_name": "LayoutView",
      "align_content": null,
      "align_items": null,
      "align_self": null,
      "border": null,
      "bottom": null,
      "display": null,
      "flex": null,
      "flex_flow": null,
      "grid_area": null,
      "grid_auto_columns": null,
      "grid_auto_flow": null,
      "grid_auto_rows": null,
      "grid_column": null,
      "grid_gap": null,
      "grid_row": null,
      "grid_template_areas": null,
      "grid_template_columns": null,
      "grid_template_rows": null,
      "height": null,
      "justify_content": null,
      "justify_items": null,
      "left": null,
      "margin": null,
      "max_height": null,
      "max_width": null,
      "min_height": null,
      "min_width": null,
      "object_fit": null,
      "object_position": null,
      "order": null,
      "overflow": null,
      "overflow_x": null,
      "overflow_y": null,
      "padding": null,
      "right": null,
      "top": null,
      "visibility": null,
      "width": null
     }
    },
    "67196c8f26d3422daf6c27589757b480": {
     "model_module": "@jupyter-widgets/controls",
     "model_name": "FloatProgressModel",
     "state": {
      "_dom_classes": [],
      "_model_module": "@jupyter-widgets/controls",
      "_model_module_version": "1.5.0",
      "_model_name": "FloatProgressModel",
      "_view_count": null,
      "_view_module": "@jupyter-widgets/controls",
      "_view_module_version": "1.5.0",
      "_view_name": "ProgressView",
      "bar_style": "success",
      "description": "Downloading: 100%",
      "description_tooltip": null,
      "layout": "IPY_MODEL_7de7bcd4a0d841298de7f5ac7e5cc81c",
      "max": 231508,
      "min": 0,
      "orientation": "horizontal",
      "style": "IPY_MODEL_6835f5dcea2e4832a1dc76dc28e24dd0",
      "value": 231508
     }
    },
    "6835f5dcea2e4832a1dc76dc28e24dd0": {
     "model_module": "@jupyter-widgets/controls",
     "model_name": "ProgressStyleModel",
     "state": {
      "_model_module": "@jupyter-widgets/controls",
      "_model_module_version": "1.5.0",
      "_model_name": "ProgressStyleModel",
      "_view_count": null,
      "_view_module": "@jupyter-widgets/base",
      "_view_module_version": "1.2.0",
      "_view_name": "StyleView",
      "bar_color": null,
      "description_width": "initial"
     }
    },
    "6e66fccb4d4e4518acdefab5a51c9708": {
     "model_module": "@jupyter-widgets/controls",
     "model_name": "DescriptionStyleModel",
     "state": {
      "_model_module": "@jupyter-widgets/controls",
      "_model_module_version": "1.5.0",
      "_model_name": "DescriptionStyleModel",
      "_view_count": null,
      "_view_module": "@jupyter-widgets/base",
      "_view_module_version": "1.2.0",
      "_view_name": "StyleView",
      "description_width": ""
     }
    },
    "71872c1d14f04434a502db8328803169": {
     "model_module": "@jupyter-widgets/controls",
     "model_name": "HTMLModel",
     "state": {
      "_dom_classes": [],
      "_model_module": "@jupyter-widgets/controls",
      "_model_module_version": "1.5.0",
      "_model_name": "HTMLModel",
      "_view_count": null,
      "_view_module": "@jupyter-widgets/controls",
      "_view_module_version": "1.5.0",
      "_view_name": "HTMLView",
      "description": "",
      "description_tooltip": null,
      "layout": "IPY_MODEL_d07c2f696ad544b7833925b73219da72",
      "placeholder": "​",
      "style": "IPY_MODEL_6e66fccb4d4e4518acdefab5a51c9708",
      "value": " 433/433 [00:00&lt;00:00, 7.42kB/s]"
     }
    },
    "7d1ef8f4cbfe46e1a8f9d6f6c944e93a": {
     "model_module": "@jupyter-widgets/controls",
     "model_name": "HTMLModel",
     "state": {
      "_dom_classes": [],
      "_model_module": "@jupyter-widgets/controls",
      "_model_module_version": "1.5.0",
      "_model_name": "HTMLModel",
      "_view_count": null,
      "_view_module": "@jupyter-widgets/controls",
      "_view_module_version": "1.5.0",
      "_view_name": "HTMLView",
      "description": "",
      "description_tooltip": null,
      "layout": "IPY_MODEL_8c7da9ea9fec4e7fbdc6ad56ee63c33f",
      "placeholder": "​",
      "style": "IPY_MODEL_c9bc07b32ba54e3cbe26bf13aec9ece9",
      "value": " 232k/232k [00:00&lt;00:00, 313kB/s]"
     }
    },
    "7de7bcd4a0d841298de7f5ac7e5cc81c": {
     "model_module": "@jupyter-widgets/base",
     "model_name": "LayoutModel",
     "state": {
      "_model_module": "@jupyter-widgets/base",
      "_model_module_version": "1.2.0",
      "_model_name": "LayoutModel",
      "_view_count": null,
      "_view_module": "@jupyter-widgets/base",
      "_view_module_version": "1.2.0",
      "_view_name": "LayoutView",
      "align_content": null,
      "align_items": null,
      "align_self": null,
      "border": null,
      "bottom": null,
      "display": null,
      "flex": null,
      "flex_flow": null,
      "grid_area": null,
      "grid_auto_columns": null,
      "grid_auto_flow": null,
      "grid_auto_rows": null,
      "grid_column": null,
      "grid_gap": null,
      "grid_row": null,
      "grid_template_areas": null,
      "grid_template_columns": null,
      "grid_template_rows": null,
      "height": null,
      "justify_content": null,
      "justify_items": null,
      "left": null,
      "margin": null,
      "max_height": null,
      "max_width": null,
      "min_height": null,
      "min_width": null,
      "object_fit": null,
      "object_position": null,
      "order": null,
      "overflow": null,
      "overflow_x": null,
      "overflow_y": null,
      "padding": null,
      "right": null,
      "top": null,
      "visibility": null,
      "width": null
     }
    },
    "8c195883eb9f453781baf994903a07c4": {
     "model_module": "@jupyter-widgets/controls",
     "model_name": "FloatProgressModel",
     "state": {
      "_dom_classes": [],
      "_model_module": "@jupyter-widgets/controls",
      "_model_module_version": "1.5.0",
      "_model_name": "FloatProgressModel",
      "_view_count": null,
      "_view_module": "@jupyter-widgets/controls",
      "_view_module_version": "1.5.0",
      "_view_name": "ProgressView",
      "bar_style": "success",
      "description": "Downloading: 100%",
      "description_tooltip": null,
      "layout": "IPY_MODEL_08fc204525d24f0ca56c42c2890737ca",
      "max": 440473133,
      "min": 0,
      "orientation": "horizontal",
      "style": "IPY_MODEL_ab9cede857e142f69b227bd15e7ac825",
      "value": 440473133
     }
    },
    "8c7da9ea9fec4e7fbdc6ad56ee63c33f": {
     "model_module": "@jupyter-widgets/base",
     "model_name": "LayoutModel",
     "state": {
      "_model_module": "@jupyter-widgets/base",
      "_model_module_version": "1.2.0",
      "_model_name": "LayoutModel",
      "_view_count": null,
      "_view_module": "@jupyter-widgets/base",
      "_view_module_version": "1.2.0",
      "_view_name": "LayoutView",
      "align_content": null,
      "align_items": null,
      "align_self": null,
      "border": null,
      "bottom": null,
      "display": null,
      "flex": null,
      "flex_flow": null,
      "grid_area": null,
      "grid_auto_columns": null,
      "grid_auto_flow": null,
      "grid_auto_rows": null,
      "grid_column": null,
      "grid_gap": null,
      "grid_row": null,
      "grid_template_areas": null,
      "grid_template_columns": null,
      "grid_template_rows": null,
      "height": null,
      "justify_content": null,
      "justify_items": null,
      "left": null,
      "margin": null,
      "max_height": null,
      "max_width": null,
      "min_height": null,
      "min_width": null,
      "object_fit": null,
      "object_position": null,
      "order": null,
      "overflow": null,
      "overflow_x": null,
      "overflow_y": null,
      "padding": null,
      "right": null,
      "top": null,
      "visibility": null,
      "width": null
     }
    },
    "96a5d14686674cebaab3fe3457579f15": {
     "model_module": "@jupyter-widgets/controls",
     "model_name": "FloatProgressModel",
     "state": {
      "_dom_classes": [],
      "_model_module": "@jupyter-widgets/controls",
      "_model_module_version": "1.5.0",
      "_model_name": "FloatProgressModel",
      "_view_count": null,
      "_view_module": "@jupyter-widgets/controls",
      "_view_module_version": "1.5.0",
      "_view_name": "ProgressView",
      "bar_style": "success",
      "description": "Downloading: 100%",
      "description_tooltip": null,
      "layout": "IPY_MODEL_e900b312c23641549d729f1e9f98849a",
      "max": 433,
      "min": 0,
      "orientation": "horizontal",
      "style": "IPY_MODEL_a54875acc17044a0b6683d9cc94ed95c",
      "value": 433
     }
    },
    "a1fc82d07a6c4a46bef6b105b3f53bac": {
     "model_module": "@jupyter-widgets/controls",
     "model_name": "HBoxModel",
     "state": {
      "_dom_classes": [],
      "_model_module": "@jupyter-widgets/controls",
      "_model_module_version": "1.5.0",
      "_model_name": "HBoxModel",
      "_view_count": null,
      "_view_module": "@jupyter-widgets/controls",
      "_view_module_version": "1.5.0",
      "_view_name": "HBoxView",
      "box_style": "",
      "children": [
       "IPY_MODEL_67196c8f26d3422daf6c27589757b480",
       "IPY_MODEL_7d1ef8f4cbfe46e1a8f9d6f6c944e93a"
      ],
      "layout": "IPY_MODEL_b36a5b3e28394ee39058c537572ecd72"
     }
    },
    "a54875acc17044a0b6683d9cc94ed95c": {
     "model_module": "@jupyter-widgets/controls",
     "model_name": "ProgressStyleModel",
     "state": {
      "_model_module": "@jupyter-widgets/controls",
      "_model_module_version": "1.5.0",
      "_model_name": "ProgressStyleModel",
      "_view_count": null,
      "_view_module": "@jupyter-widgets/base",
      "_view_module_version": "1.2.0",
      "_view_name": "StyleView",
      "bar_color": null,
      "description_width": "initial"
     }
    },
    "ab9cede857e142f69b227bd15e7ac825": {
     "model_module": "@jupyter-widgets/controls",
     "model_name": "ProgressStyleModel",
     "state": {
      "_model_module": "@jupyter-widgets/controls",
      "_model_module_version": "1.5.0",
      "_model_name": "ProgressStyleModel",
      "_view_count": null,
      "_view_module": "@jupyter-widgets/base",
      "_view_module_version": "1.2.0",
      "_view_name": "StyleView",
      "bar_color": null,
      "description_width": "initial"
     }
    },
    "b36a5b3e28394ee39058c537572ecd72": {
     "model_module": "@jupyter-widgets/base",
     "model_name": "LayoutModel",
     "state": {
      "_model_module": "@jupyter-widgets/base",
      "_model_module_version": "1.2.0",
      "_model_name": "LayoutModel",
      "_view_count": null,
      "_view_module": "@jupyter-widgets/base",
      "_view_module_version": "1.2.0",
      "_view_name": "LayoutView",
      "align_content": null,
      "align_items": null,
      "align_self": null,
      "border": null,
      "bottom": null,
      "display": null,
      "flex": null,
      "flex_flow": null,
      "grid_area": null,
      "grid_auto_columns": null,
      "grid_auto_flow": null,
      "grid_auto_rows": null,
      "grid_column": null,
      "grid_gap": null,
      "grid_row": null,
      "grid_template_areas": null,
      "grid_template_columns": null,
      "grid_template_rows": null,
      "height": null,
      "justify_content": null,
      "justify_items": null,
      "left": null,
      "margin": null,
      "max_height": null,
      "max_width": null,
      "min_height": null,
      "min_width": null,
      "object_fit": null,
      "object_position": null,
      "order": null,
      "overflow": null,
      "overflow_x": null,
      "overflow_y": null,
      "padding": null,
      "right": null,
      "top": null,
      "visibility": null,
      "width": null
     }
    },
    "c9bc07b32ba54e3cbe26bf13aec9ece9": {
     "model_module": "@jupyter-widgets/controls",
     "model_name": "DescriptionStyleModel",
     "state": {
      "_model_module": "@jupyter-widgets/controls",
      "_model_module_version": "1.5.0",
      "_model_name": "DescriptionStyleModel",
      "_view_count": null,
      "_view_module": "@jupyter-widgets/base",
      "_view_module_version": "1.2.0",
      "_view_name": "StyleView",
      "description_width": ""
     }
    },
    "d07c2f696ad544b7833925b73219da72": {
     "model_module": "@jupyter-widgets/base",
     "model_name": "LayoutModel",
     "state": {
      "_model_module": "@jupyter-widgets/base",
      "_model_module_version": "1.2.0",
      "_model_name": "LayoutModel",
      "_view_count": null,
      "_view_module": "@jupyter-widgets/base",
      "_view_module_version": "1.2.0",
      "_view_name": "LayoutView",
      "align_content": null,
      "align_items": null,
      "align_self": null,
      "border": null,
      "bottom": null,
      "display": null,
      "flex": null,
      "flex_flow": null,
      "grid_area": null,
      "grid_auto_columns": null,
      "grid_auto_flow": null,
      "grid_auto_rows": null,
      "grid_column": null,
      "grid_gap": null,
      "grid_row": null,
      "grid_template_areas": null,
      "grid_template_columns": null,
      "grid_template_rows": null,
      "height": null,
      "justify_content": null,
      "justify_items": null,
      "left": null,
      "margin": null,
      "max_height": null,
      "max_width": null,
      "min_height": null,
      "min_width": null,
      "object_fit": null,
      "object_position": null,
      "order": null,
      "overflow": null,
      "overflow_x": null,
      "overflow_y": null,
      "padding": null,
      "right": null,
      "top": null,
      "visibility": null,
      "width": null
     }
    },
    "e79a470be88c4c2e9c5a7cc7e3eca6b1": {
     "model_module": "@jupyter-widgets/controls",
     "model_name": "HBoxModel",
     "state": {
      "_dom_classes": [],
      "_model_module": "@jupyter-widgets/controls",
      "_model_module_version": "1.5.0",
      "_model_name": "HBoxModel",
      "_view_count": null,
      "_view_module": "@jupyter-widgets/controls",
      "_view_module_version": "1.5.0",
      "_view_name": "HBoxView",
      "box_style": "",
      "children": [
       "IPY_MODEL_8c195883eb9f453781baf994903a07c4",
       "IPY_MODEL_420c835be5304faeb77864c5f924b768"
      ],
      "layout": "IPY_MODEL_2320668b356245449a2ba6991e21dc71"
     }
    },
    "e900b312c23641549d729f1e9f98849a": {
     "model_module": "@jupyter-widgets/base",
     "model_name": "LayoutModel",
     "state": {
      "_model_module": "@jupyter-widgets/base",
      "_model_module_version": "1.2.0",
      "_model_name": "LayoutModel",
      "_view_count": null,
      "_view_module": "@jupyter-widgets/base",
      "_view_module_version": "1.2.0",
      "_view_name": "LayoutView",
      "align_content": null,
      "align_items": null,
      "align_self": null,
      "border": null,
      "bottom": null,
      "display": null,
      "flex": null,
      "flex_flow": null,
      "grid_area": null,
      "grid_auto_columns": null,
      "grid_auto_flow": null,
      "grid_auto_rows": null,
      "grid_column": null,
      "grid_gap": null,
      "grid_row": null,
      "grid_template_areas": null,
      "grid_template_columns": null,
      "grid_template_rows": null,
      "height": null,
      "justify_content": null,
      "justify_items": null,
      "left": null,
      "margin": null,
      "max_height": null,
      "max_width": null,
      "min_height": null,
      "min_width": null,
      "object_fit": null,
      "object_position": null,
      "order": null,
      "overflow": null,
      "overflow_x": null,
      "overflow_y": null,
      "padding": null,
      "right": null,
      "top": null,
      "visibility": null,
      "width": null
     }
    },
    "f7a38dcc24f14a298d540d8827554757": {
     "model_module": "@jupyter-widgets/controls",
     "model_name": "DescriptionStyleModel",
     "state": {
      "_model_module": "@jupyter-widgets/controls",
      "_model_module_version": "1.5.0",
      "_model_name": "DescriptionStyleModel",
      "_view_count": null,
      "_view_module": "@jupyter-widgets/base",
      "_view_module_version": "1.2.0",
      "_view_name": "StyleView",
      "description_width": ""
     }
    }
   }
  }
 },
 "nbformat": 4,
 "nbformat_minor": 4
}
