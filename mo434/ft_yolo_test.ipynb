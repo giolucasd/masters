{
 "cells": [
  {
   "cell_type": "markdown",
   "metadata": {},
   "source": [
    "# Fine-tunning and testing YOLOv11 Nano"
   ]
  },
  {
   "cell_type": "markdown",
   "metadata": {},
   "source": [
    "In this notebook, we will explore the ultralytics package to fine-tune and test a YoLo ([You Only Look Once](https://docs.ultralytics.com)) Model. In this case, we will be using the nano version (smaller model), which will alleviate the requirement for GPU memory and facilitate our fine-tuning. Moreover, the model will also enable faster inference."
   ]
  },
  {
   "cell_type": "markdown",
   "metadata": {},
   "source": [
    "The cell below installs the necessary package (comment on it if you already have installed the package)"
   ]
  },
  {
   "cell_type": "code",
   "execution_count": 1,
   "metadata": {},
   "outputs": [],
   "source": [
    "#!pip install ultralytics"
   ]
  },
  {
   "cell_type": "code",
   "execution_count": 2,
   "metadata": {},
   "outputs": [],
   "source": [
    "import torch\n",
    "from ultralytics import YOLO"
   ]
  },
  {
   "cell_type": "markdown",
   "metadata": {},
   "source": [
    "We start by instantiating our model."
   ]
  },
  {
   "cell_type": "code",
   "execution_count": 3,
   "metadata": {},
   "outputs": [],
   "source": [
    "model = YOLO(\"yolo11n.pt\")"
   ]
  },
  {
   "cell_type": "markdown",
   "metadata": {},
   "source": [
    "Then, we train it using our pre-trained model. The `parasites.yaml` file parametrizes our fine-tuning, but we can also overwrite it (for instance, setting epochs to 200 on `model.train`)."
   ]
  },
  {
   "cell_type": "code",
   "execution_count": 4,
   "metadata": {
    "scrolled": true
   },
   "outputs": [
    {
     "name": "stdout",
     "output_type": "stream",
     "text": [
      "Ultralytics 8.3.96 🚀 Python-3.12.8 torch-2.5.1 CUDA:0 (NVIDIA GeForce RTX 2080 Ti, 11003MiB)\n",
      "\u001b[34m\u001b[1mengine/trainer: \u001b[0mtask=detect, mode=train, model=yolo11n.pt, data=parasites.yaml, epochs=10, time=None, patience=100, batch=16, imgsz=640, save=True, save_period=-1, cache=False, device=0, workers=8, project=None, name=train10, exist_ok=False, pretrained=True, optimizer=auto, verbose=True, seed=0, deterministic=True, single_cls=False, rect=False, cos_lr=False, close_mosaic=10, resume=False, amp=True, fraction=1.0, profile=False, freeze=None, multi_scale=False, overlap_mask=True, mask_ratio=4, dropout=0.0, val=True, split=val, save_json=False, save_hybrid=False, conf=None, iou=0.7, max_det=300, half=False, dnn=False, plots=True, source=None, vid_stride=1, stream_buffer=False, visualize=False, augment=False, agnostic_nms=False, classes=None, retina_masks=False, embed=None, show=False, save_frames=False, save_txt=False, save_conf=False, save_crop=False, show_labels=True, show_conf=True, show_boxes=True, line_width=None, format=torchscript, keras=False, optimize=False, int8=False, dynamic=False, simplify=True, opset=None, workspace=None, nms=False, lr0=0.01, lrf=0.01, momentum=0.937, weight_decay=0.0005, warmup_epochs=3.0, warmup_momentum=0.8, warmup_bias_lr=0.1, box=7.5, cls=0.5, dfl=1.5, pose=12.0, kobj=1.0, nbs=64, hsv_h=0.015, hsv_s=0.7, hsv_v=0.4, degrees=0.0, translate=0.1, scale=0.5, shear=0.0, perspective=0.0, flipud=0.0, fliplr=0.5, bgr=0.0, mosaic=1.0, mixup=0.0, copy_paste=0.0, copy_paste_mode=flip, auto_augment=randaugment, erasing=0.4, crop_fraction=1.0, cfg=None, tracker=botsort.yaml, save_dir=runs/detect/train10\n"
     ]
    },
    {
     "name": "stderr",
     "output_type": "stream",
     "text": [
      "WARNING: All log messages before absl::InitializeLog() is called are written to STDERR\n",
      "E0000 00:00:1743010974.835944   25341 cuda_dnn.cc:8310] Unable to register cuDNN factory: Attempting to register factory for plugin cuDNN when one has already been registered\n",
      "E0000 00:00:1743010974.843109   25341 cuda_blas.cc:1418] Unable to register cuBLAS factory: Attempting to register factory for plugin cuBLAS when one has already been registered\n"
     ]
    },
    {
     "name": "stdout",
     "output_type": "stream",
     "text": [
      "Overriding model.yaml nc=80 with nc=1\n",
      "\n",
      "                   from  n    params  module                                       arguments                     \n",
      "  0                  -1  1       464  ultralytics.nn.modules.conv.Conv             [3, 16, 3, 2]                 \n",
      "  1                  -1  1      4672  ultralytics.nn.modules.conv.Conv             [16, 32, 3, 2]                \n",
      "  2                  -1  1      6640  ultralytics.nn.modules.block.C3k2            [32, 64, 1, False, 0.25]      \n",
      "  3                  -1  1     36992  ultralytics.nn.modules.conv.Conv             [64, 64, 3, 2]                \n",
      "  4                  -1  1     26080  ultralytics.nn.modules.block.C3k2            [64, 128, 1, False, 0.25]     \n",
      "  5                  -1  1    147712  ultralytics.nn.modules.conv.Conv             [128, 128, 3, 2]              \n",
      "  6                  -1  1     87040  ultralytics.nn.modules.block.C3k2            [128, 128, 1, True]           \n",
      "  7                  -1  1    295424  ultralytics.nn.modules.conv.Conv             [128, 256, 3, 2]              \n",
      "  8                  -1  1    346112  ultralytics.nn.modules.block.C3k2            [256, 256, 1, True]           \n",
      "  9                  -1  1    164608  ultralytics.nn.modules.block.SPPF            [256, 256, 5]                 \n",
      " 10                  -1  1    249728  ultralytics.nn.modules.block.C2PSA           [256, 256, 1]                 \n",
      " 11                  -1  1         0  torch.nn.modules.upsampling.Upsample         [None, 2, 'nearest']          \n",
      " 12             [-1, 6]  1         0  ultralytics.nn.modules.conv.Concat           [1]                           \n",
      " 13                  -1  1    111296  ultralytics.nn.modules.block.C3k2            [384, 128, 1, False]          \n",
      " 14                  -1  1         0  torch.nn.modules.upsampling.Upsample         [None, 2, 'nearest']          \n",
      " 15             [-1, 4]  1         0  ultralytics.nn.modules.conv.Concat           [1]                           \n",
      " 16                  -1  1     32096  ultralytics.nn.modules.block.C3k2            [256, 64, 1, False]           \n",
      " 17                  -1  1     36992  ultralytics.nn.modules.conv.Conv             [64, 64, 3, 2]                \n",
      " 18            [-1, 13]  1         0  ultralytics.nn.modules.conv.Concat           [1]                           \n",
      " 19                  -1  1     86720  ultralytics.nn.modules.block.C3k2            [192, 128, 1, False]          \n",
      " 20                  -1  1    147712  ultralytics.nn.modules.conv.Conv             [128, 128, 3, 2]              \n",
      " 21            [-1, 10]  1         0  ultralytics.nn.modules.conv.Concat           [1]                           \n",
      " 22                  -1  1    378880  ultralytics.nn.modules.block.C3k2            [384, 256, 1, True]           \n",
      " 23        [16, 19, 22]  1    430867  ultralytics.nn.modules.head.Detect           [1, [64, 128, 256]]           \n",
      "YOLO11n summary: 181 layers, 2,590,035 parameters, 2,590,019 gradients, 6.4 GFLOPs\n",
      "\n",
      "Transferred 448/499 items from pretrained weights\n",
      "\u001b[34m\u001b[1mTensorBoard: \u001b[0mStart with 'tensorboard --logdir runs/detect/train10', view at http://localhost:6006/\n",
      "Freezing layer 'model.23.dfl.conv.weight'\n",
      "\u001b[34m\u001b[1mAMP: \u001b[0mrunning Automatic Mixed Precision (AMP) checks...\n",
      "\u001b[34m\u001b[1mAMP: \u001b[0mchecks passed ✅\n"
     ]
    },
    {
     "name": "stderr",
     "output_type": "stream",
     "text": [
      "\u001b[34m\u001b[1mtrain: \u001b[0mScanning /home/afalcao/doc/cursos/mo434/lectures-notebooks/images/object-\u001b[0m\n",
      "\u001b[34m\u001b[1mval: \u001b[0mScanning /home/afalcao/doc/cursos/mo434/lectures-notebooks/images/object-de\u001b[0m\n"
     ]
    },
    {
     "name": "stdout",
     "output_type": "stream",
     "text": [
      "Plotting labels to runs/detect/train10/labels.jpg... \n",
      "\u001b[34m\u001b[1moptimizer:\u001b[0m 'optimizer=auto' found, ignoring 'lr0=0.01' and 'momentum=0.937' and determining best 'optimizer', 'lr0' and 'momentum' automatically... \n",
      "\u001b[34m\u001b[1moptimizer:\u001b[0m AdamW(lr=0.002, momentum=0.9) with parameter groups 81 weight(decay=0.0), 88 weight(decay=0.0005), 87 bias(decay=0.0)\n",
      "\u001b[34m\u001b[1mTensorBoard: \u001b[0mmodel graph visualization added ✅\n",
      "Image sizes 640 train, 640 val\n",
      "Using 8 dataloader workers\n",
      "Logging results to \u001b[1mruns/detect/train10\u001b[0m\n",
      "Starting training for 10 epochs...\n",
      "Closing dataloader mosaic\n",
      "\n",
      "      Epoch    GPU_mem   box_loss   cls_loss   dfl_loss  Instances       Size\n"
     ]
    },
    {
     "name": "stderr",
     "output_type": "stream",
     "text": [
      "       1/10      2.31G      1.281      4.474      1.271          4        640: 1\n",
      "                 Class     Images  Instances      Box(P          R      mAP50  m\n"
     ]
    },
    {
     "name": "stdout",
     "output_type": "stream",
     "text": [
      "                   all        243        126      0.667      0.516      0.729       0.44\n",
      "\n",
      "      Epoch    GPU_mem   box_loss   cls_loss   dfl_loss  Instances       Size\n"
     ]
    },
    {
     "name": "stderr",
     "output_type": "stream",
     "text": [
      "       2/10      2.77G       1.34      3.658      1.229          8        640: 1\n",
      "                 Class     Images  Instances      Box(P          R      mAP50  m"
     ]
    },
    {
     "name": "stdout",
     "output_type": "stream",
     "text": [
      "                   all        243        126      0.446      0.397      0.373      0.196\n"
     ]
    },
    {
     "name": "stderr",
     "output_type": "stream",
     "text": [
      "\n"
     ]
    },
    {
     "name": "stdout",
     "output_type": "stream",
     "text": [
      "\n",
      "      Epoch    GPU_mem   box_loss   cls_loss   dfl_loss  Instances       Size\n"
     ]
    },
    {
     "name": "stderr",
     "output_type": "stream",
     "text": [
      "       3/10      2.77G      1.345       2.82      1.202          7        640: 1\n",
      "                 Class     Images  Instances      Box(P          R      mAP50  m\n"
     ]
    },
    {
     "name": "stdout",
     "output_type": "stream",
     "text": [
      "                   all        243        126      0.602      0.603      0.634      0.372\n",
      "\n",
      "      Epoch    GPU_mem   box_loss   cls_loss   dfl_loss  Instances       Size\n"
     ]
    },
    {
     "name": "stderr",
     "output_type": "stream",
     "text": [
      "       4/10      2.77G      1.309      2.128      1.161          5        640: 1\n",
      "                 Class     Images  Instances      Box(P          R      mAP50  m"
     ]
    },
    {
     "name": "stdout",
     "output_type": "stream",
     "text": [
      "                   all        243        126      0.604       0.69      0.668      0.403\n"
     ]
    },
    {
     "name": "stderr",
     "output_type": "stream",
     "text": [
      "\n"
     ]
    },
    {
     "name": "stdout",
     "output_type": "stream",
     "text": [
      "\n",
      "      Epoch    GPU_mem   box_loss   cls_loss   dfl_loss  Instances       Size\n"
     ]
    },
    {
     "name": "stderr",
     "output_type": "stream",
     "text": [
      "       5/10      2.77G       1.26      1.852      1.151          8        640: 1\n",
      "                 Class     Images  Instances      Box(P          R      mAP50  m"
     ]
    },
    {
     "name": "stdout",
     "output_type": "stream",
     "text": [
      "                   all        243        126      0.445      0.693      0.558      0.293\n"
     ]
    },
    {
     "name": "stderr",
     "output_type": "stream",
     "text": [
      "\n"
     ]
    },
    {
     "name": "stdout",
     "output_type": "stream",
     "text": [
      "\n",
      "      Epoch    GPU_mem   box_loss   cls_loss   dfl_loss  Instances       Size\n"
     ]
    },
    {
     "name": "stderr",
     "output_type": "stream",
     "text": [
      "       6/10      2.77G      1.204      1.482      1.117          5        640: 1\n",
      "                 Class     Images  Instances      Box(P          R      mAP50  m"
     ]
    },
    {
     "name": "stdout",
     "output_type": "stream",
     "text": [
      "                   all        243        126      0.829      0.921      0.924      0.608\n"
     ]
    },
    {
     "name": "stderr",
     "output_type": "stream",
     "text": [
      "\n"
     ]
    },
    {
     "name": "stdout",
     "output_type": "stream",
     "text": [
      "\n",
      "      Epoch    GPU_mem   box_loss   cls_loss   dfl_loss  Instances       Size\n"
     ]
    },
    {
     "name": "stderr",
     "output_type": "stream",
     "text": [
      "       7/10      2.77G      1.115        1.2      1.053          9        640: 1\n",
      "                 Class     Images  Instances      Box(P          R      mAP50  m\n"
     ]
    },
    {
     "name": "stdout",
     "output_type": "stream",
     "text": [
      "                   all        243        126      0.896      0.962      0.953      0.648\n",
      "\n",
      "      Epoch    GPU_mem   box_loss   cls_loss   dfl_loss  Instances       Size\n"
     ]
    },
    {
     "name": "stderr",
     "output_type": "stream",
     "text": [
      "       8/10      2.77G      1.086      1.094       1.06          5        640: 1\n",
      "                 Class     Images  Instances      Box(P          R      mAP50  m"
     ]
    },
    {
     "name": "stdout",
     "output_type": "stream",
     "text": [
      "                   all        243        126      0.891      0.969       0.97      0.673\n"
     ]
    },
    {
     "name": "stderr",
     "output_type": "stream",
     "text": [
      "\n"
     ]
    },
    {
     "name": "stdout",
     "output_type": "stream",
     "text": [
      "\n",
      "      Epoch    GPU_mem   box_loss   cls_loss   dfl_loss  Instances       Size\n"
     ]
    },
    {
     "name": "stderr",
     "output_type": "stream",
     "text": [
      "       9/10      2.77G     0.9877     0.9945     0.9969          8        640: 1\n",
      "                 Class     Images  Instances      Box(P          R      mAP50  m\n"
     ]
    },
    {
     "name": "stdout",
     "output_type": "stream",
     "text": [
      "                   all        243        126      0.934      0.976      0.986      0.702\n",
      "\n",
      "      Epoch    GPU_mem   box_loss   cls_loss   dfl_loss  Instances       Size\n"
     ]
    },
    {
     "name": "stderr",
     "output_type": "stream",
     "text": [
      "      10/10      2.77G     0.9298      0.864     0.9931          6        640: 1\n",
      "                 Class     Images  Instances      Box(P          R      mAP50  m"
     ]
    },
    {
     "name": "stdout",
     "output_type": "stream",
     "text": [
      "                   all        243        126      0.928       0.96      0.982      0.717\n"
     ]
    },
    {
     "name": "stderr",
     "output_type": "stream",
     "text": [
      "\n"
     ]
    },
    {
     "name": "stdout",
     "output_type": "stream",
     "text": [
      "\n",
      "10 epochs completed in 0.021 hours.\n",
      "Optimizer stripped from runs/detect/train10/weights/last.pt, 5.5MB\n",
      "Optimizer stripped from runs/detect/train10/weights/best.pt, 5.5MB\n",
      "\n",
      "Validating runs/detect/train10/weights/best.pt...\n",
      "Ultralytics 8.3.96 🚀 Python-3.12.8 torch-2.5.1 CUDA:0 (NVIDIA GeForce RTX 2080 Ti, 11003MiB)\n",
      "YOLO11n summary (fused): 100 layers, 2,582,347 parameters, 0 gradients, 6.3 GFLOPs\n"
     ]
    },
    {
     "name": "stderr",
     "output_type": "stream",
     "text": [
      "                 Class     Images  Instances      Box(P          R      mAP50  m\n"
     ]
    },
    {
     "name": "stdout",
     "output_type": "stream",
     "text": [
      "                   all        243        126      0.928       0.96      0.982      0.716\n",
      "Speed: 0.3ms preprocess, 1.0ms inference, 0.0ms loss, 1.8ms postprocess per image\n",
      "Results saved to \u001b[1mruns/detect/train10\u001b[0m\n"
     ]
    }
   ],
   "source": [
    "results = model.train(\n",
    "    data='parasites.yaml',\n",
    "    epochs=10,\n",
    "    imgsz=640,\n",
    "    plots=True,\n",
    "    save=True,\n",
    "    device=0  # Use GPU. Set to 'cpu' if no GPU is available\n",
    ")"
   ]
  },
  {
   "cell_type": "markdown",
   "metadata": {},
   "source": [
    "Once the model is trained, we can run it on the validation subset to get metrics (you need to properly configure the input folders)."
   ]
  },
  {
   "cell_type": "code",
   "execution_count": 5,
   "metadata": {
    "scrolled": true
   },
   "outputs": [
    {
     "name": "stdout",
     "output_type": "stream",
     "text": [
      "Ultralytics 8.3.96 🚀 Python-3.12.8 torch-2.5.1 CUDA:0 (NVIDIA GeForce RTX 2080 Ti, 11003MiB)\n",
      "YOLO11n summary (fused): 100 layers, 2,582,347 parameters, 0 gradients, 6.3 GFLOPs\n"
     ]
    },
    {
     "name": "stderr",
     "output_type": "stream",
     "text": [
      "\u001b[34m\u001b[1mval: \u001b[0mScanning /home/afalcao/doc/cursos/mo434/lectures-notebooks/images/object-de\u001b[0m\n",
      "                 Class     Images  Instances      Box(P          R      mAP50  m\n"
     ]
    },
    {
     "name": "stdout",
     "output_type": "stream",
     "text": [
      "                   all        243        126      0.928       0.96      0.982      0.718\n",
      "Speed: 1.1ms preprocess, 2.3ms inference, 0.0ms loss, 1.2ms postprocess per image\n",
      "Results saved to \u001b[1mruns/detect/train102\u001b[0m\n"
     ]
    }
   ],
   "source": [
    "# Validate the model on the validation set\n",
    "val_results = model.val()"
   ]
  },
  {
   "cell_type": "markdown",
   "metadata": {},
   "source": [
    "We can also run inference on a single image (the method will show where the output image was saved):"
   ]
  },
  {
   "cell_type": "code",
   "execution_count": 6,
   "metadata": {
    "scrolled": true
   },
   "outputs": [
    {
     "name": "stdout",
     "output_type": "stream",
     "text": [
      "\n",
      "image 1/1 /home/afalcao/doc/cursos/mo434/lectures-notebooks/images/object-detection/parasites/images/test/000002.png: 640x640 2 parasitess, 9.6ms\n",
      "Speed: 3.2ms preprocess, 9.6ms inference, 2.1ms postprocess per image at shape (1, 3, 640, 640)\n",
      "Results saved to \u001b[1mruns/detect/train103\u001b[0m\n"
     ]
    }
   ],
   "source": [
    "# Perform inference on a test image\n",
    "results = model.predict('images/object-detection/parasites/images/test/000002.png', save=True, conf=0.25)"
   ]
  },
  {
   "cell_type": "markdown",
   "metadata": {},
   "source": [
    "Another interesting feature of this approach is the capability to export the model to the onyx format, which enables a myriad of features, such as Runtime Optimization, Hardware Acceleration, and model combability across multiple types of devices (e.g., embedded systems, mobile, server)."
   ]
  },
  {
   "cell_type": "code",
   "execution_count": 7,
   "metadata": {},
   "outputs": [
    {
     "name": "stdout",
     "output_type": "stream",
     "text": [
      "Ultralytics 8.3.96 🚀 Python-3.12.8 torch-2.5.1 CPU (Intel Core(TM) i7-8700K 3.70GHz)\n",
      "\n",
      "\u001b[34m\u001b[1mPyTorch:\u001b[0m starting from 'runs/detect/train10/weights/best.pt' with input shape (1, 3, 640, 640) BCHW and output shape(s) (1, 5, 8400) (5.2 MB)\n",
      "\u001b[31m\u001b[1mrequirements:\u001b[0m Ultralytics requirements ['onnx>=1.12.0', 'onnxslim', 'onnxruntime-gpu'] not found, attempting AutoUpdate...\n",
      "Collecting onnx>=1.12.0\n",
      "  Downloading onnx-1.17.0-cp312-cp312-manylinux_2_17_x86_64.manylinux2014_x86_64.whl.metadata (16 kB)\n",
      "Collecting onnxslim\n",
      "  Downloading onnxslim-0.1.48-py3-none-any.whl.metadata (4.6 kB)\n",
      "Collecting onnxruntime-gpu\n",
      "  Downloading onnxruntime_gpu-1.21.0-cp312-cp312-manylinux_2_27_x86_64.manylinux_2_28_x86_64.whl.metadata (5.0 kB)\n",
      "Requirement already satisfied: numpy>=1.20 in /home/afalcao/miniconda3/envs/mo434/lib/python3.12/site-packages (from onnx>=1.12.0) (1.26.4)\n",
      "Requirement already satisfied: protobuf>=3.20.2 in /home/afalcao/miniconda3/envs/mo434/lib/python3.12/site-packages (from onnx>=1.12.0) (5.29.3)\n",
      "Requirement already satisfied: sympy in /home/afalcao/miniconda3/envs/mo434/lib/python3.12/site-packages (from onnxslim) (1.13.1)\n",
      "Requirement already satisfied: packaging in /home/afalcao/miniconda3/envs/mo434/lib/python3.12/site-packages (from onnxslim) (24.2)\n",
      "Collecting coloredlogs (from onnxruntime-gpu)\n",
      "  Downloading coloredlogs-15.0.1-py2.py3-none-any.whl.metadata (12 kB)\n",
      "Requirement already satisfied: flatbuffers in /home/afalcao/miniconda3/envs/mo434/lib/python3.12/site-packages (from onnxruntime-gpu) (25.2.10)\n",
      "Collecting humanfriendly>=9.1 (from coloredlogs->onnxruntime-gpu)\n",
      "  Downloading humanfriendly-10.0-py2.py3-none-any.whl.metadata (9.2 kB)\n",
      "Requirement already satisfied: mpmath<1.4,>=1.1.0 in /home/afalcao/miniconda3/envs/mo434/lib/python3.12/site-packages (from sympy->onnxslim) (1.3.0)\n",
      "Downloading onnx-1.17.0-cp312-cp312-manylinux_2_17_x86_64.manylinux2014_x86_64.whl (16.0 MB)\n",
      "\u001b[2K   \u001b[38;2;114;156;31m━━━━━━━━━━━━━━━━━━━━━━━━━━━━━━━━━━━━━━━━\u001b[0m \u001b[32m16.0/16.0 MB\u001b[0m \u001b[31m3.5 MB/s\u001b[0m eta \u001b[36m0:00:00\u001b[0m[31m3.5 MB/s\u001b[0m eta \u001b[36m0:00:01\u001b[0m\n",
      "\u001b[?25hDownloading onnxslim-0.1.48-py3-none-any.whl (142 kB)\n",
      "Downloading onnxruntime_gpu-1.21.0-cp312-cp312-manylinux_2_27_x86_64.manylinux_2_28_x86_64.whl (280.8 MB)\n",
      "\u001b[2K   \u001b[38;2;114;156;31m━━━━━━━━━━━━━━━━━━━━━━━━━━━━━━━━━━━━━━━━\u001b[0m \u001b[32m280.8/280.8 MB\u001b[0m \u001b[31m4.1 MB/s\u001b[0m eta \u001b[36m0:00:00\u001b[0mm eta \u001b[36m0:00:01\u001b[0m[36m0:00:02\u001b[0m\n",
      "\u001b[?25hDownloading coloredlogs-15.0.1-py2.py3-none-any.whl (46 kB)\n",
      "Downloading humanfriendly-10.0-py2.py3-none-any.whl (86 kB)\n",
      "Installing collected packages: onnx, humanfriendly, onnxslim, coloredlogs, onnxruntime-gpu\n",
      "Successfully installed coloredlogs-15.0.1 humanfriendly-10.0 onnx-1.17.0 onnxruntime-gpu-1.21.0 onnxslim-0.1.48\n",
      "\n",
      "\u001b[31m\u001b[1mrequirements:\u001b[0m AutoUpdate success ✅ 88.2s, installed 3 packages: ['onnx>=1.12.0', 'onnxslim', 'onnxruntime-gpu']\n",
      "\u001b[31m\u001b[1mrequirements:\u001b[0m ⚠️ \u001b[1mRestart runtime or rerun command for updates to take effect\u001b[0m\n",
      "\n",
      "\n",
      "\u001b[34m\u001b[1mONNX:\u001b[0m starting export with onnx 1.17.0 opset 19...\n",
      "\u001b[34m\u001b[1mONNX:\u001b[0m slimming with onnxslim 0.1.48...\n",
      "\u001b[34m\u001b[1mONNX:\u001b[0m export success ✅ 90.1s, saved as 'runs/detect/train10/weights/best.onnx' (10.1 MB)\n",
      "\n",
      "Export complete (91.7s)\n",
      "Results saved to \u001b[1m/home/afalcao/doc/cursos/mo434/lectures-notebooks/runs/detect/train10/weights\u001b[0m\n",
      "Predict:         yolo predict task=detect model=runs/detect/train10/weights/best.onnx imgsz=640  \n",
      "Validate:        yolo val task=detect model=runs/detect/train10/weights/best.onnx imgsz=640 data=parasites.yaml  \n",
      "Visualize:       https://netron.app\n"
     ]
    },
    {
     "data": {
      "text/plain": [
       "'runs/detect/train10/weights/best.onnx'"
      ]
     },
     "execution_count": 7,
     "metadata": {},
     "output_type": "execute_result"
    }
   ],
   "source": [
    "# Export the model to ONNX format for deployment\n",
    "model.export(format='onnx')"
   ]
  },
  {
   "cell_type": "markdown",
   "metadata": {},
   "source": [
    "Lastly, we can stress what we have learned, implement a method to run inference for all splits (train, validation, test), and save the result for visualization purposes."
   ]
  },
  {
   "cell_type": "code",
   "execution_count": 8,
   "metadata": {},
   "outputs": [],
   "source": [
    "import os\n",
    "import cv2\n",
    "import numpy as np\n",
    "from pathlib import Path\n",
    "from ultralytics import YOLO\n",
    "from tqdm import tqdm"
   ]
  },
  {
   "cell_type": "code",
   "execution_count": 9,
   "metadata": {},
   "outputs": [],
   "source": [
    "def run_inference_and_visualize(model_path, dataset_config, output_base_dir=\"output_visualizations\"):\n",
    "    \"\"\"\n",
    "    Run inference on train, validation, and test sets, draw bounding boxes, and save results\n",
    "    \n",
    "    Args:\n",
    "        model_path: Path to trained YOLO model (.pt file)\n",
    "        dataset_config: Path to dataset config file (.yaml)\n",
    "        output_base_dir: Base directory to save visualization results\n",
    "    \"\"\"\n",
    "    # Load the trained model\n",
    "    model = YOLO(model_path)\n",
    "    \n",
    "    # Create output directories\n",
    "    os.makedirs(output_base_dir, exist_ok=True)\n",
    "    splits = [\"train\", \"val\", \"test\"]\n",
    "    \n",
    "    # Process each split\n",
    "    for split in splits:\n",
    "        print(f\"Processing {split} set...\")\n",
    "        output_dir = os.path.join(output_base_dir, split)\n",
    "        os.makedirs(output_dir, exist_ok=True)\n",
    "        \n",
    "        # Get image directory from config\n",
    "        import yaml\n",
    "        with open(dataset_config, 'r') as f:\n",
    "            config = yaml.safe_load(f)\n",
    "        \n",
    "        image_dir = f\"./images/object-detection/parasites/images/{split}/\"\n",
    "        # Get all images in the directory\n",
    "        image_paths = list(Path(image_dir).glob(\"*.jpg\")) + list(Path(image_dir).glob(\"*.png\"))\n",
    "        \n",
    "        # Process each image\n",
    "        for img_path in tqdm(image_paths, desc=f\"Visualizing {split} set\"):\n",
    "            # Run inference\n",
    "            results = model.predict(str(img_path), conf=0.25, save=False)\n",
    "            \n",
    "            # Get original image\n",
    "            img = cv2.imread(str(img_path))\n",
    "            \n",
    "            # Draw bounding boxes\n",
    "            for result in results:\n",
    "                boxes = result.boxes.cpu().numpy()\n",
    "                \n",
    "                for box in boxes:\n",
    "                    # Get box coordinates\n",
    "                    x1, y1, x2, y2 = box.xyxy[0].astype(int)\n",
    "                    conf = box.conf[0]\n",
    "                    cls = int(box.cls[0])\n",
    "                    \n",
    "                    # Draw bounding box\n",
    "                    cv2.rectangle(img, (x1, y1), (x2, y2), (0, 255, 0), 2)\n",
    "                    \n",
    "                    # Draw label\n",
    "                    label = f\"Class {cls}: {conf:.2f}\"\n",
    "                    (label_width, label_height), _ = cv2.getTextSize(label, cv2.FONT_HERSHEY_SIMPLEX, 0.5, 1)\n",
    "                    cv2.rectangle(img, (x1, y1 - label_height - 10), (x1 + label_width, y1), (0, 255, 0), -1)\n",
    "                    cv2.putText(img, label, (x1, y1 - 5), cv2.FONT_HERSHEY_SIMPLEX, 0.5, (0, 0, 0), 1)\n",
    "            \n",
    "            # Save the image with bounding boxes\n",
    "            output_path = os.path.join(output_dir, img_path.name)\n",
    "            cv2.imwrite(output_path, img)\n",
    "            \n",
    "    print(f\"All visualizations saved to {output_base_dir}\")\n",
    "\n",
    "\n",
    "def visualize_ground_truth(dataset_config, output_base_dir=\"ground_truth_visualizations\"):\n",
    "    \"\"\"\n",
    "    Visualize ground truth bounding boxes from label files\n",
    "    \n",
    "    Args:\n",
    "        dataset_config: Path to dataset config file (.yaml)\n",
    "        output_base_dir: Base directory to save visualization results\n",
    "    \"\"\"\n",
    "    # Create output directories\n",
    "    os.makedirs(output_base_dir, exist_ok=True)\n",
    "    splits = [\"train\", \"val\", \"test\"]\n",
    "    \n",
    "    # Load dataset config\n",
    "    import yaml\n",
    "    with open(dataset_config, 'r') as f:\n",
    "        config = yaml.safe_load(f)\n",
    "    \n",
    "    # Get class names\n",
    "    class_names = config.get(\"names\", {0: \"object\"})\n",
    "    \n",
    "    # Process each split\n",
    "    for split in splits:\n",
    "        print(f\"Processing {split} ground truth...\")\n",
    "        output_dir = os.path.join(output_base_dir, split)\n",
    "        os.makedirs(output_dir, exist_ok=True)\n",
    "        \n",
    "        # Image and label directories\n",
    "        image_dir = f\"./images/object-detection/parasites/images/{split}/\"\n",
    "        label_dir = f\"./images/object-detection/parasites/labels/{split}/\"\n",
    "        \n",
    "        # Get all images in the directory\n",
    "        image_paths = list(Path(image_dir).glob(\"*.jpg\")) + list(Path(image_dir).glob(\"*.png\"))\n",
    "        \n",
    "        # Process each image\n",
    "        for img_path in tqdm(image_paths, desc=f\"Visualizing {split} ground truth\"):\n",
    "            # Construct path to corresponding label file\n",
    "            label_path = os.path.join(label_dir, img_path.stem + \".txt\")\n",
    "            \n",
    "            if not os.path.exists(label_path):\n",
    "                print(label_path)\n",
    "                print(f\"Warning: No label file found for {img_path}\")\n",
    "                continue\n",
    "                \n",
    "            # Read image\n",
    "            img = cv2.imread(str(img_path))\n",
    "            height, width = img.shape[:2]\n",
    "            \n",
    "            # Read label file\n",
    "            with open(label_path, 'r') as f:\n",
    "                lines = f.readlines()\n",
    "            \n",
    "            # Draw ground truth boxes\n",
    "            for line in lines:\n",
    "                data = line.strip().split()\n",
    "                if len(data) == 5:  # class_id, x_center, y_center, w, h\n",
    "                    cls_id = int(data[0])\n",
    "                    x_center = float(data[1]) * width\n",
    "                    y_center = float(data[2]) * height\n",
    "                    w = float(data[3]) * width\n",
    "                    h = float(data[4]) * height\n",
    "                    \n",
    "                    # Convert to top-left and bottom-right coordinates\n",
    "                    x1 = int(x_center - w/2)\n",
    "                    y1 = int(y_center - h/2)\n",
    "                    x2 = int(x_center + w/2)\n",
    "                    y2 = int(y_center + h/2)\n",
    "                    \n",
    "                    # Get class name\n",
    "                    class_name = class_names.get(cls_id, f\"Class {cls_id}\")\n",
    "                    \n",
    "                    # Draw bounding box (red for ground truth)\n",
    "                    cv2.rectangle(img, (x1, y1), (x2, y2), (0, 0, 255), 2)\n",
    "                    \n",
    "                    # Draw label\n",
    "                    label = f\"{class_name}\"\n",
    "                    (label_width, label_height), _ = cv2.getTextSize(label, cv2.FONT_HERSHEY_SIMPLEX, 0.5, 1)\n",
    "                    cv2.rectangle(img, (x1, y1 - label_height - 10), (x1 + label_width, y1), (0, 0, 255), -1)\n",
    "                    cv2.putText(img, label, (x1, y1 - 5), cv2.FONT_HERSHEY_SIMPLEX, 0.5, (255, 255, 255), 1)\n",
    "            \n",
    "            # Save the image with ground truth boxes\n",
    "            output_path = os.path.join(output_dir, img_path.name)\n",
    "            cv2.imwrite(output_path, img)\n",
    "            \n",
    "    print(f\"All ground truth visualizations saved to {output_base_dir}\")"
   ]
  },
  {
   "cell_type": "code",
   "execution_count": 10,
   "metadata": {},
   "outputs": [
    {
     "name": "stdout",
     "output_type": "stream",
     "text": [
      "Processing train set...\n"
     ]
    },
    {
     "name": "stderr",
     "output_type": "stream",
     "text": [
      "Visualizing train set:   0%|                            | 0/731 [00:00<?, ?it/s]"
     ]
    },
    {
     "name": "stdout",
     "output_type": "stream",
     "text": [
      "\n",
      "image 1/1 /home/afalcao/doc/cursos/mo434/lectures-notebooks/images/object-detection/parasites/images/train/000329.png: 640x640 (no detections), 6.5ms\n",
      "Speed: 1.9ms preprocess, 6.5ms inference, 0.4ms postprocess per image at shape (1, 3, 640, 640)\n"
     ]
    },
    {
     "name": "stderr",
     "output_type": "stream",
     "text": [
      "Visualizing train set:   0%|                    | 1/731 [00:00<03:05,  3.93it/s]"
     ]
    },
    {
     "name": "stdout",
     "output_type": "stream",
     "text": [
      "\n",
      "image 1/1 /home/afalcao/doc/cursos/mo434/lectures-notebooks/images/object-detection/parasites/images/train/000044.png: 640x640 (no detections), 7.8ms\n",
      "Speed: 2.3ms preprocess, 7.8ms inference, 0.4ms postprocess per image at shape (1, 3, 640, 640)\n",
      "\n",
      "image 1/1 /home/afalcao/doc/cursos/mo434/lectures-notebooks/images/object-detection/parasites/images/train/000508.png: 640x640 (no detections), 7.0ms\n",
      "Speed: 2.1ms preprocess, 7.0ms inference, 0.4ms postprocess per image at shape (1, 3, 640, 640)\n",
      "\n",
      "image 1/1 /home/afalcao/doc/cursos/mo434/lectures-notebooks/images/object-detection/parasites/images/train/000205.png: 640x640 (no detections), 7.1ms\n",
      "Speed: 2.1ms preprocess, 7.1ms inference, 0.4ms postprocess per image at shape (1, 3, 640, 640)\n",
      "\n",
      "image 1/1 /home/afalcao/doc/cursos/mo434/lectures-notebooks/images/object-detection/parasites/images/train/000938.png: 640x640 1 parasites, 7.0ms\n",
      "Speed: 2.1ms preprocess, 7.0ms inference, 1.0ms postprocess per image at shape (1, 3, 640, 640)\n"
     ]
    },
    {
     "name": "stderr",
     "output_type": "stream",
     "text": [
      "Visualizing train set:   1%|▏                   | 5/731 [00:00<00:46, 15.49it/s]"
     ]
    },
    {
     "name": "stdout",
     "output_type": "stream",
     "text": [
      "\n",
      "image 1/1 /home/afalcao/doc/cursos/mo434/lectures-notebooks/images/object-detection/parasites/images/train/000943.png: 640x640 2 parasitess, 6.9ms\n",
      "Speed: 3.1ms preprocess, 6.9ms inference, 1.0ms postprocess per image at shape (1, 3, 640, 640)\n",
      "\n",
      "image 1/1 /home/afalcao/doc/cursos/mo434/lectures-notebooks/images/object-detection/parasites/images/train/000153.png: 640x640 1 parasites, 6.7ms\n",
      "Speed: 2.3ms preprocess, 6.7ms inference, 2.6ms postprocess per image at shape (1, 3, 640, 640)\n",
      "\n",
      "image 1/1 /home/afalcao/doc/cursos/mo434/lectures-notebooks/images/object-detection/parasites/images/train/000496.png: 640x640 (no detections), 7.5ms\n",
      "Speed: 1.8ms preprocess, 7.5ms inference, 0.7ms postprocess per image at shape (1, 3, 640, 640)\n",
      "\n",
      "image 1/1 /home/afalcao/doc/cursos/mo434/lectures-notebooks/images/object-detection/parasites/images/train/000374.png: 640x640 (no detections), 6.9ms\n",
      "Speed: 1.7ms preprocess, 6.9ms inference, 0.4ms postprocess per image at shape (1, 3, 640, 640)\n"
     ]
    },
    {
     "name": "stderr",
     "output_type": "stream",
     "text": [
      "Visualizing train set:   1%|▏                   | 9/731 [00:00<00:33, 21.38it/s]"
     ]
    },
    {
     "name": "stdout",
     "output_type": "stream",
     "text": [
      "\n",
      "image 1/1 /home/afalcao/doc/cursos/mo434/lectures-notebooks/images/object-detection/parasites/images/train/000591.png: 640x640 1 parasites, 7.5ms\n",
      "Speed: 2.2ms preprocess, 7.5ms inference, 1.2ms postprocess per image at shape (1, 3, 640, 640)\n",
      "\n",
      "image 1/1 /home/afalcao/doc/cursos/mo434/lectures-notebooks/images/object-detection/parasites/images/train/000435.png: 640x640 1 parasites, 7.4ms\n",
      "Speed: 2.4ms preprocess, 7.4ms inference, 1.3ms postprocess per image at shape (1, 3, 640, 640)\n",
      "\n",
      "image 1/1 /home/afalcao/doc/cursos/mo434/lectures-notebooks/images/object-detection/parasites/images/train/000578.png: 640x640 (no detections), 7.0ms\n",
      "Speed: 2.2ms preprocess, 7.0ms inference, 0.4ms postprocess per image at shape (1, 3, 640, 640)\n",
      "\n",
      "image 1/1 /home/afalcao/doc/cursos/mo434/lectures-notebooks/images/object-detection/parasites/images/train/000343.png: 640x640 (no detections), 7.1ms\n",
      "Speed: 3.7ms preprocess, 7.1ms inference, 0.6ms postprocess per image at shape (1, 3, 640, 640)\n"
     ]
    },
    {
     "name": "stderr",
     "output_type": "stream",
     "text": [
      "Visualizing train set:   2%|▎                  | 13/731 [00:00<00:29, 24.64it/s]"
     ]
    },
    {
     "name": "stdout",
     "output_type": "stream",
     "text": [
      "\n",
      "image 1/1 /home/afalcao/doc/cursos/mo434/lectures-notebooks/images/object-detection/parasites/images/train/000328.png: 640x640 1 parasites, 6.9ms\n",
      "Speed: 2.8ms preprocess, 6.9ms inference, 1.3ms postprocess per image at shape (1, 3, 640, 640)\n",
      "\n",
      "image 1/1 /home/afalcao/doc/cursos/mo434/lectures-notebooks/images/object-detection/parasites/images/train/000867.png: 640x640 1 parasites, 7.1ms\n",
      "Speed: 2.5ms preprocess, 7.1ms inference, 0.9ms postprocess per image at shape (1, 3, 640, 640)\n",
      "\n",
      "image 1/1 /home/afalcao/doc/cursos/mo434/lectures-notebooks/images/object-detection/parasites/images/train/001059.png: 640x640 1 parasites, 7.2ms\n",
      "Speed: 2.0ms preprocess, 7.2ms inference, 0.9ms postprocess per image at shape (1, 3, 640, 640)\n",
      "\n",
      "image 1/1 /home/afalcao/doc/cursos/mo434/lectures-notebooks/images/object-detection/parasites/images/train/000675.png: 640x640 1 parasites, 7.2ms\n",
      "Speed: 1.7ms preprocess, 7.2ms inference, 1.0ms postprocess per image at shape (1, 3, 640, 640)\n"
     ]
    },
    {
     "name": "stderr",
     "output_type": "stream",
     "text": [
      "Visualizing train set:   2%|▍                  | 17/731 [00:00<00:26, 26.78it/s]"
     ]
    },
    {
     "name": "stdout",
     "output_type": "stream",
     "text": [
      "\n",
      "image 1/1 /home/afalcao/doc/cursos/mo434/lectures-notebooks/images/object-detection/parasites/images/train/000129.png: 640x640 1 parasites, 7.4ms\n",
      "Speed: 1.7ms preprocess, 7.4ms inference, 1.0ms postprocess per image at shape (1, 3, 640, 640)\n",
      "\n",
      "image 1/1 /home/afalcao/doc/cursos/mo434/lectures-notebooks/images/object-detection/parasites/images/train/001082.png: 640x640 (no detections), 7.5ms\n",
      "Speed: 1.9ms preprocess, 7.5ms inference, 0.7ms postprocess per image at shape (1, 3, 640, 640)\n",
      "\n",
      "image 1/1 /home/afalcao/doc/cursos/mo434/lectures-notebooks/images/object-detection/parasites/images/train/000715.png: 640x640 1 parasites, 6.5ms\n",
      "Speed: 1.8ms preprocess, 6.5ms inference, 1.1ms postprocess per image at shape (1, 3, 640, 640)\n",
      "\n",
      "image 1/1 /home/afalcao/doc/cursos/mo434/lectures-notebooks/images/object-detection/parasites/images/train/000083.png: 640x640 (no detections), 6.4ms\n",
      "Speed: 1.9ms preprocess, 6.4ms inference, 0.5ms postprocess per image at shape (1, 3, 640, 640)\n"
     ]
    },
    {
     "name": "stderr",
     "output_type": "stream",
     "text": [
      "Visualizing train set:   3%|▌                  | 21/731 [00:00<00:24, 28.50it/s]"
     ]
    },
    {
     "name": "stdout",
     "output_type": "stream",
     "text": [
      "\n",
      "image 1/1 /home/afalcao/doc/cursos/mo434/lectures-notebooks/images/object-detection/parasites/images/train/000191.png: 640x640 (no detections), 6.3ms\n",
      "Speed: 1.7ms preprocess, 6.3ms inference, 0.6ms postprocess per image at shape (1, 3, 640, 640)\n",
      "\n",
      "image 1/1 /home/afalcao/doc/cursos/mo434/lectures-notebooks/images/object-detection/parasites/images/train/000745.png: 640x640 1 parasites, 6.6ms\n",
      "Speed: 2.7ms preprocess, 6.6ms inference, 0.9ms postprocess per image at shape (1, 3, 640, 640)\n",
      "\n",
      "image 1/1 /home/afalcao/doc/cursos/mo434/lectures-notebooks/images/object-detection/parasites/images/train/000815.png: 640x640 1 parasites, 7.2ms\n",
      "Speed: 2.1ms preprocess, 7.2ms inference, 0.9ms postprocess per image at shape (1, 3, 640, 640)\n",
      "\n",
      "image 1/1 /home/afalcao/doc/cursos/mo434/lectures-notebooks/images/object-detection/parasites/images/train/001068.png: 640x640 (no detections), 7.1ms\n",
      "Speed: 1.7ms preprocess, 7.1ms inference, 0.4ms postprocess per image at shape (1, 3, 640, 640)\n"
     ]
    },
    {
     "name": "stderr",
     "output_type": "stream",
     "text": [
      "Visualizing train set:   3%|▋                  | 25/731 [00:01<00:23, 29.51it/s]"
     ]
    },
    {
     "name": "stdout",
     "output_type": "stream",
     "text": [
      "\n",
      "image 1/1 /home/afalcao/doc/cursos/mo434/lectures-notebooks/images/object-detection/parasites/images/train/000614.png: 640x640 (no detections), 7.3ms\n",
      "Speed: 1.8ms preprocess, 7.3ms inference, 0.4ms postprocess per image at shape (1, 3, 640, 640)\n",
      "\n",
      "image 1/1 /home/afalcao/doc/cursos/mo434/lectures-notebooks/images/object-detection/parasites/images/train/000360.png: 640x640 1 parasites, 7.2ms\n",
      "Speed: 2.6ms preprocess, 7.2ms inference, 1.1ms postprocess per image at shape (1, 3, 640, 640)\n",
      "\n",
      "image 1/1 /home/afalcao/doc/cursos/mo434/lectures-notebooks/images/object-detection/parasites/images/train/000009.png: 640x640 1 parasites, 7.3ms\n",
      "Speed: 2.2ms preprocess, 7.3ms inference, 1.6ms postprocess per image at shape (1, 3, 640, 640)\n",
      "\n",
      "image 1/1 /home/afalcao/doc/cursos/mo434/lectures-notebooks/images/object-detection/parasites/images/train/000202.png: 640x640 1 parasites, 7.1ms\n",
      "Speed: 1.7ms preprocess, 7.1ms inference, 2.0ms postprocess per image at shape (1, 3, 640, 640)\n"
     ]
    },
    {
     "name": "stderr",
     "output_type": "stream",
     "text": [
      "Visualizing train set:   4%|▊                  | 29/731 [00:01<00:23, 29.99it/s]"
     ]
    },
    {
     "name": "stdout",
     "output_type": "stream",
     "text": [
      "\n",
      "image 1/1 /home/afalcao/doc/cursos/mo434/lectures-notebooks/images/object-detection/parasites/images/train/000866.png: 640x640 (no detections), 6.8ms\n",
      "Speed: 1.8ms preprocess, 6.8ms inference, 0.8ms postprocess per image at shape (1, 3, 640, 640)\n",
      "\n",
      "image 1/1 /home/afalcao/doc/cursos/mo434/lectures-notebooks/images/object-detection/parasites/images/train/000774.png: 640x640 (no detections), 7.2ms\n",
      "Speed: 1.8ms preprocess, 7.2ms inference, 0.5ms postprocess per image at shape (1, 3, 640, 640)\n",
      "\n",
      "image 1/1 /home/afalcao/doc/cursos/mo434/lectures-notebooks/images/object-detection/parasites/images/train/001185.png: 640x640 1 parasites, 7.6ms\n",
      "Speed: 1.8ms preprocess, 7.6ms inference, 2.9ms postprocess per image at shape (1, 3, 640, 640)\n",
      "\n",
      "image 1/1 /home/afalcao/doc/cursos/mo434/lectures-notebooks/images/object-detection/parasites/images/train/000852.png: 640x640 (no detections), 6.9ms\n",
      "Speed: 2.1ms preprocess, 6.9ms inference, 0.5ms postprocess per image at shape (1, 3, 640, 640)\n"
     ]
    },
    {
     "name": "stderr",
     "output_type": "stream",
     "text": [
      "Visualizing train set:   5%|▊                  | 33/731 [00:01<00:23, 29.98it/s]"
     ]
    },
    {
     "name": "stdout",
     "output_type": "stream",
     "text": [
      "\n",
      "image 1/1 /home/afalcao/doc/cursos/mo434/lectures-notebooks/images/object-detection/parasites/images/train/000336.png: 640x640 1 parasites, 7.6ms\n",
      "Speed: 1.8ms preprocess, 7.6ms inference, 2.2ms postprocess per image at shape (1, 3, 640, 640)\n",
      "\n",
      "image 1/1 /home/afalcao/doc/cursos/mo434/lectures-notebooks/images/object-detection/parasites/images/train/001058.png: 640x640 (no detections), 8.4ms\n",
      "Speed: 2.1ms preprocess, 8.4ms inference, 0.5ms postprocess per image at shape (1, 3, 640, 640)\n",
      "\n",
      "image 1/1 /home/afalcao/doc/cursos/mo434/lectures-notebooks/images/object-detection/parasites/images/train/000175.png: 640x640 (no detections), 7.0ms\n",
      "Speed: 2.1ms preprocess, 7.0ms inference, 0.5ms postprocess per image at shape (1, 3, 640, 640)\n",
      "\n",
      "image 1/1 /home/afalcao/doc/cursos/mo434/lectures-notebooks/images/object-detection/parasites/images/train/000571.png: 640x640 1 parasites, 6.7ms\n",
      "Speed: 1.7ms preprocess, 6.7ms inference, 1.0ms postprocess per image at shape (1, 3, 640, 640)\n"
     ]
    },
    {
     "name": "stderr",
     "output_type": "stream",
     "text": [
      "Visualizing train set:   5%|▉                  | 37/731 [00:01<00:22, 30.21it/s]"
     ]
    },
    {
     "name": "stdout",
     "output_type": "stream",
     "text": [
      "\n",
      "image 1/1 /home/afalcao/doc/cursos/mo434/lectures-notebooks/images/object-detection/parasites/images/train/000312.png: 640x640 2 parasitess, 6.7ms\n",
      "Speed: 1.9ms preprocess, 6.7ms inference, 1.0ms postprocess per image at shape (1, 3, 640, 640)\n",
      "\n",
      "image 1/1 /home/afalcao/doc/cursos/mo434/lectures-notebooks/images/object-detection/parasites/images/train/001102.png: 640x640 1 parasites, 8.0ms\n",
      "Speed: 2.2ms preprocess, 8.0ms inference, 1.3ms postprocess per image at shape (1, 3, 640, 640)\n",
      "\n",
      "image 1/1 /home/afalcao/doc/cursos/mo434/lectures-notebooks/images/object-detection/parasites/images/train/001172.png: 640x640 (no detections), 6.7ms\n",
      "Speed: 2.3ms preprocess, 6.7ms inference, 0.4ms postprocess per image at shape (1, 3, 640, 640)\n",
      "\n",
      "image 1/1 /home/afalcao/doc/cursos/mo434/lectures-notebooks/images/object-detection/parasites/images/train/000677.png: 640x640 1 parasites, 6.9ms\n",
      "Speed: 2.7ms preprocess, 6.9ms inference, 0.9ms postprocess per image at shape (1, 3, 640, 640)\n"
     ]
    },
    {
     "name": "stderr",
     "output_type": "stream",
     "text": [
      "Visualizing train set:   6%|█                  | 41/731 [00:01<00:22, 30.59it/s]"
     ]
    },
    {
     "name": "stdout",
     "output_type": "stream",
     "text": [
      "\n",
      "image 1/1 /home/afalcao/doc/cursos/mo434/lectures-notebooks/images/object-detection/parasites/images/train/000389.png: 640x640 2 parasitess, 6.8ms\n",
      "Speed: 1.8ms preprocess, 6.8ms inference, 1.0ms postprocess per image at shape (1, 3, 640, 640)\n",
      "\n",
      "image 1/1 /home/afalcao/doc/cursos/mo434/lectures-notebooks/images/object-detection/parasites/images/train/001046.png: 640x640 (no detections), 7.0ms\n",
      "Speed: 1.8ms preprocess, 7.0ms inference, 0.7ms postprocess per image at shape (1, 3, 640, 640)\n",
      "\n",
      "image 1/1 /home/afalcao/doc/cursos/mo434/lectures-notebooks/images/object-detection/parasites/images/train/001170.png: 640x640 (no detections), 7.3ms\n",
      "Speed: 1.7ms preprocess, 7.3ms inference, 0.8ms postprocess per image at shape (1, 3, 640, 640)\n",
      "\n",
      "image 1/1 /home/afalcao/doc/cursos/mo434/lectures-notebooks/images/object-detection/parasites/images/train/000432.png: 640x640 (no detections), 7.1ms\n",
      "Speed: 1.7ms preprocess, 7.1ms inference, 0.5ms postprocess per image at shape (1, 3, 640, 640)\n"
     ]
    },
    {
     "name": "stderr",
     "output_type": "stream",
     "text": [
      "Visualizing train set:   6%|█▏                 | 45/731 [00:01<00:21, 31.20it/s]"
     ]
    },
    {
     "name": "stdout",
     "output_type": "stream",
     "text": [
      "\n",
      "image 1/1 /home/afalcao/doc/cursos/mo434/lectures-notebooks/images/object-detection/parasites/images/train/000981.png: 640x640 (no detections), 7.2ms\n",
      "Speed: 1.7ms preprocess, 7.2ms inference, 0.4ms postprocess per image at shape (1, 3, 640, 640)\n",
      "\n",
      "image 1/1 /home/afalcao/doc/cursos/mo434/lectures-notebooks/images/object-detection/parasites/images/train/000272.png: 640x640 2 parasitess, 6.4ms\n",
      "Speed: 2.4ms preprocess, 6.4ms inference, 1.1ms postprocess per image at shape (1, 3, 640, 640)\n",
      "\n",
      "image 1/1 /home/afalcao/doc/cursos/mo434/lectures-notebooks/images/object-detection/parasites/images/train/000215.png: 640x640 (no detections), 6.4ms\n",
      "Speed: 1.8ms preprocess, 6.4ms inference, 0.5ms postprocess per image at shape (1, 3, 640, 640)\n",
      "\n",
      "image 1/1 /home/afalcao/doc/cursos/mo434/lectures-notebooks/images/object-detection/parasites/images/train/001181.png: 640x640 1 parasites, 6.6ms\n",
      "Speed: 3.3ms preprocess, 6.6ms inference, 0.9ms postprocess per image at shape (1, 3, 640, 640)\n"
     ]
    },
    {
     "name": "stderr",
     "output_type": "stream",
     "text": [
      "Visualizing train set:   7%|█▎                 | 49/731 [00:01<00:21, 31.18it/s]"
     ]
    },
    {
     "name": "stdout",
     "output_type": "stream",
     "text": [
      "\n",
      "image 1/1 /home/afalcao/doc/cursos/mo434/lectures-notebooks/images/object-detection/parasites/images/train/000263.png: 640x640 (no detections), 6.7ms\n",
      "Speed: 3.4ms preprocess, 6.7ms inference, 0.4ms postprocess per image at shape (1, 3, 640, 640)\n",
      "\n",
      "image 1/1 /home/afalcao/doc/cursos/mo434/lectures-notebooks/images/object-detection/parasites/images/train/000763.png: 640x640 2 parasitess, 7.1ms\n",
      "Speed: 2.2ms preprocess, 7.1ms inference, 1.0ms postprocess per image at shape (1, 3, 640, 640)\n",
      "\n",
      "image 1/1 /home/afalcao/doc/cursos/mo434/lectures-notebooks/images/object-detection/parasites/images/train/000989.png: 640x640 1 parasites, 7.7ms\n",
      "Speed: 2.4ms preprocess, 7.7ms inference, 0.9ms postprocess per image at shape (1, 3, 640, 640)\n",
      "\n",
      "image 1/1 /home/afalcao/doc/cursos/mo434/lectures-notebooks/images/object-detection/parasites/images/train/000626.png: 640x640 (no detections), 7.1ms\n",
      "Speed: 2.0ms preprocess, 7.1ms inference, 0.4ms postprocess per image at shape (1, 3, 640, 640)\n"
     ]
    },
    {
     "name": "stderr",
     "output_type": "stream",
     "text": [
      "Visualizing train set:   7%|█▍                 | 53/731 [00:01<00:21, 31.19it/s]"
     ]
    },
    {
     "name": "stdout",
     "output_type": "stream",
     "text": [
      "\n",
      "image 1/1 /home/afalcao/doc/cursos/mo434/lectures-notebooks/images/object-detection/parasites/images/train/000648.png: 640x640 (no detections), 7.7ms\n",
      "Speed: 1.9ms preprocess, 7.7ms inference, 0.4ms postprocess per image at shape (1, 3, 640, 640)\n",
      "\n",
      "image 1/1 /home/afalcao/doc/cursos/mo434/lectures-notebooks/images/object-detection/parasites/images/train/000280.png: 640x640 (no detections), 7.5ms\n",
      "Speed: 2.1ms preprocess, 7.5ms inference, 1.7ms postprocess per image at shape (1, 3, 640, 640)\n",
      "\n",
      "image 1/1 /home/afalcao/doc/cursos/mo434/lectures-notebooks/images/object-detection/parasites/images/train/000796.png: 640x640 1 parasites, 8.6ms\n",
      "Speed: 2.1ms preprocess, 8.6ms inference, 1.5ms postprocess per image at shape (1, 3, 640, 640)\n",
      "\n",
      "image 1/1 /home/afalcao/doc/cursos/mo434/lectures-notebooks/images/object-detection/parasites/images/train/000458.png: 640x640 1 parasites, 6.8ms\n",
      "Speed: 2.4ms preprocess, 6.8ms inference, 1.0ms postprocess per image at shape (1, 3, 640, 640)\n"
     ]
    },
    {
     "name": "stderr",
     "output_type": "stream",
     "text": [
      "Visualizing train set:   8%|█▍                 | 57/731 [00:02<00:21, 31.24it/s]"
     ]
    },
    {
     "name": "stdout",
     "output_type": "stream",
     "text": [
      "\n",
      "image 1/1 /home/afalcao/doc/cursos/mo434/lectures-notebooks/images/object-detection/parasites/images/train/000181.png: 640x640 (no detections), 6.7ms\n",
      "Speed: 2.3ms preprocess, 6.7ms inference, 0.5ms postprocess per image at shape (1, 3, 640, 640)\n",
      "\n",
      "image 1/1 /home/afalcao/doc/cursos/mo434/lectures-notebooks/images/object-detection/parasites/images/train/000406.png: 640x640 (no detections), 7.9ms\n",
      "Speed: 2.2ms preprocess, 7.9ms inference, 0.4ms postprocess per image at shape (1, 3, 640, 640)\n",
      "\n",
      "image 1/1 /home/afalcao/doc/cursos/mo434/lectures-notebooks/images/object-detection/parasites/images/train/000657.png: 640x640 1 parasites, 7.3ms\n",
      "Speed: 1.8ms preprocess, 7.3ms inference, 1.1ms postprocess per image at shape (1, 3, 640, 640)\n",
      "\n",
      "image 1/1 /home/afalcao/doc/cursos/mo434/lectures-notebooks/images/object-detection/parasites/images/train/000330.png: 640x640 1 parasites, 7.0ms\n",
      "Speed: 1.8ms preprocess, 7.0ms inference, 1.1ms postprocess per image at shape (1, 3, 640, 640)\n"
     ]
    },
    {
     "name": "stderr",
     "output_type": "stream",
     "text": [
      "Visualizing train set:   8%|█▌                 | 61/731 [00:02<00:21, 31.52it/s]"
     ]
    },
    {
     "name": "stdout",
     "output_type": "stream",
     "text": [
      "\n",
      "image 1/1 /home/afalcao/doc/cursos/mo434/lectures-notebooks/images/object-detection/parasites/images/train/001153.png: 640x640 1 parasites, 7.3ms\n",
      "Speed: 1.8ms preprocess, 7.3ms inference, 1.0ms postprocess per image at shape (1, 3, 640, 640)\n",
      "\n",
      "image 1/1 /home/afalcao/doc/cursos/mo434/lectures-notebooks/images/object-detection/parasites/images/train/000095.png: 640x640 1 parasites, 6.9ms\n",
      "Speed: 1.8ms preprocess, 6.9ms inference, 0.9ms postprocess per image at shape (1, 3, 640, 640)\n",
      "\n",
      "image 1/1 /home/afalcao/doc/cursos/mo434/lectures-notebooks/images/object-detection/parasites/images/train/000189.png: 640x640 (no detections), 8.3ms\n",
      "Speed: 1.7ms preprocess, 8.3ms inference, 0.6ms postprocess per image at shape (1, 3, 640, 640)\n",
      "\n",
      "image 1/1 /home/afalcao/doc/cursos/mo434/lectures-notebooks/images/object-detection/parasites/images/train/001177.png: 640x640 1 parasites, 7.0ms\n",
      "Speed: 1.7ms preprocess, 7.0ms inference, 1.6ms postprocess per image at shape (1, 3, 640, 640)\n"
     ]
    },
    {
     "name": "stderr",
     "output_type": "stream",
     "text": [
      "Visualizing train set:   9%|█▋                 | 65/731 [00:02<00:21, 30.99it/s]"
     ]
    },
    {
     "name": "stdout",
     "output_type": "stream",
     "text": [
      "\n",
      "image 1/1 /home/afalcao/doc/cursos/mo434/lectures-notebooks/images/object-detection/parasites/images/train/000565.png: 640x640 1 parasites, 7.7ms\n",
      "Speed: 1.7ms preprocess, 7.7ms inference, 1.3ms postprocess per image at shape (1, 3, 640, 640)\n",
      "\n",
      "image 1/1 /home/afalcao/doc/cursos/mo434/lectures-notebooks/images/object-detection/parasites/images/train/000445.png: 640x640 (no detections), 6.6ms\n",
      "Speed: 1.7ms preprocess, 6.6ms inference, 0.4ms postprocess per image at shape (1, 3, 640, 640)\n",
      "\n",
      "image 1/1 /home/afalcao/doc/cursos/mo434/lectures-notebooks/images/object-detection/parasites/images/train/000355.png: 640x640 (no detections), 8.2ms\n",
      "Speed: 1.7ms preprocess, 8.2ms inference, 0.7ms postprocess per image at shape (1, 3, 640, 640)\n",
      "\n",
      "image 1/1 /home/afalcao/doc/cursos/mo434/lectures-notebooks/images/object-detection/parasites/images/train/000365.png: 640x640 1 parasites, 9.6ms\n",
      "Speed: 1.7ms preprocess, 9.6ms inference, 1.4ms postprocess per image at shape (1, 3, 640, 640)\n"
     ]
    },
    {
     "name": "stderr",
     "output_type": "stream",
     "text": [
      "Visualizing train set:   9%|█▊                 | 69/731 [00:02<00:21, 30.44it/s]"
     ]
    },
    {
     "name": "stdout",
     "output_type": "stream",
     "text": [
      "\n",
      "image 1/1 /home/afalcao/doc/cursos/mo434/lectures-notebooks/images/object-detection/parasites/images/train/001054.png: 640x640 (no detections), 7.7ms\n",
      "Speed: 2.6ms preprocess, 7.7ms inference, 0.5ms postprocess per image at shape (1, 3, 640, 640)\n",
      "\n",
      "image 1/1 /home/afalcao/doc/cursos/mo434/lectures-notebooks/images/object-detection/parasites/images/train/000322.png: 640x640 1 parasites, 6.8ms\n",
      "Speed: 1.7ms preprocess, 6.8ms inference, 1.1ms postprocess per image at shape (1, 3, 640, 640)\n",
      "\n",
      "image 1/1 /home/afalcao/doc/cursos/mo434/lectures-notebooks/images/object-detection/parasites/images/train/000862.png: 640x640 1 parasites, 6.6ms\n",
      "Speed: 1.8ms preprocess, 6.6ms inference, 1.1ms postprocess per image at shape (1, 3, 640, 640)\n",
      "\n",
      "image 1/1 /home/afalcao/doc/cursos/mo434/lectures-notebooks/images/object-detection/parasites/images/train/001114.png: 640x640 (no detections), 7.3ms\n",
      "Speed: 1.8ms preprocess, 7.3ms inference, 0.5ms postprocess per image at shape (1, 3, 640, 640)\n"
     ]
    },
    {
     "name": "stderr",
     "output_type": "stream",
     "text": [
      "Visualizing train set:  10%|█▉                 | 73/731 [00:02<00:21, 30.64it/s]"
     ]
    },
    {
     "name": "stdout",
     "output_type": "stream",
     "text": [
      "\n",
      "image 1/1 /home/afalcao/doc/cursos/mo434/lectures-notebooks/images/object-detection/parasites/images/train/000130.png: 640x640 (no detections), 6.9ms\n",
      "Speed: 1.8ms preprocess, 6.9ms inference, 0.6ms postprocess per image at shape (1, 3, 640, 640)\n",
      "\n",
      "image 1/1 /home/afalcao/doc/cursos/mo434/lectures-notebooks/images/object-detection/parasites/images/train/000949.png: 640x640 1 parasites, 7.1ms\n",
      "Speed: 1.8ms preprocess, 7.1ms inference, 1.0ms postprocess per image at shape (1, 3, 640, 640)\n",
      "\n",
      "image 1/1 /home/afalcao/doc/cursos/mo434/lectures-notebooks/images/object-detection/parasites/images/train/000687.png: 640x640 1 parasites, 6.6ms\n",
      "Speed: 1.7ms preprocess, 6.6ms inference, 0.9ms postprocess per image at shape (1, 3, 640, 640)\n",
      "\n",
      "image 1/1 /home/afalcao/doc/cursos/mo434/lectures-notebooks/images/object-detection/parasites/images/train/000226.png: 640x640 1 parasites, 6.3ms\n",
      "Speed: 1.7ms preprocess, 6.3ms inference, 0.9ms postprocess per image at shape (1, 3, 640, 640)\n"
     ]
    },
    {
     "name": "stderr",
     "output_type": "stream",
     "text": [
      "Visualizing train set:  11%|██                 | 77/731 [00:02<00:21, 30.63it/s]"
     ]
    },
    {
     "name": "stdout",
     "output_type": "stream",
     "text": [
      "\n",
      "image 1/1 /home/afalcao/doc/cursos/mo434/lectures-notebooks/images/object-detection/parasites/images/train/000224.png: 640x640 1 parasites, 7.7ms\n",
      "Speed: 1.7ms preprocess, 7.7ms inference, 1.0ms postprocess per image at shape (1, 3, 640, 640)\n",
      "\n",
      "image 1/1 /home/afalcao/doc/cursos/mo434/lectures-notebooks/images/object-detection/parasites/images/train/000106.png: 640x640 (no detections), 8.9ms\n",
      "Speed: 1.8ms preprocess, 8.9ms inference, 0.7ms postprocess per image at shape (1, 3, 640, 640)\n",
      "\n",
      "image 1/1 /home/afalcao/doc/cursos/mo434/lectures-notebooks/images/object-detection/parasites/images/train/000413.png: 640x640 1 parasites, 7.8ms\n",
      "Speed: 1.7ms preprocess, 7.8ms inference, 1.7ms postprocess per image at shape (1, 3, 640, 640)\n",
      "\n",
      "image 1/1 /home/afalcao/doc/cursos/mo434/lectures-notebooks/images/object-detection/parasites/images/train/001060.png: 640x640 (no detections), 9.4ms\n",
      "Speed: 3.0ms preprocess, 9.4ms inference, 0.5ms postprocess per image at shape (1, 3, 640, 640)\n"
     ]
    },
    {
     "name": "stderr",
     "output_type": "stream",
     "text": [
      "Visualizing train set:  11%|██                 | 81/731 [00:02<00:21, 29.71it/s]"
     ]
    },
    {
     "name": "stdout",
     "output_type": "stream",
     "text": [
      "\n",
      "image 1/1 /home/afalcao/doc/cursos/mo434/lectures-notebooks/images/object-detection/parasites/images/train/000398.png: 640x640 (no detections), 7.3ms\n",
      "Speed: 2.0ms preprocess, 7.3ms inference, 0.5ms postprocess per image at shape (1, 3, 640, 640)\n",
      "\n",
      "image 1/1 /home/afalcao/doc/cursos/mo434/lectures-notebooks/images/object-detection/parasites/images/train/000092.png: 640x640 (no detections), 6.8ms\n",
      "Speed: 2.0ms preprocess, 6.8ms inference, 0.4ms postprocess per image at shape (1, 3, 640, 640)\n",
      "\n",
      "image 1/1 /home/afalcao/doc/cursos/mo434/lectures-notebooks/images/object-detection/parasites/images/train/000436.png: 640x640 (no detections), 7.0ms\n",
      "Speed: 1.7ms preprocess, 7.0ms inference, 0.4ms postprocess per image at shape (1, 3, 640, 640)\n",
      "\n",
      "image 1/1 /home/afalcao/doc/cursos/mo434/lectures-notebooks/images/object-detection/parasites/images/train/000925.png: 640x640 1 parasites, 7.4ms\n",
      "Speed: 1.7ms preprocess, 7.4ms inference, 0.9ms postprocess per image at shape (1, 3, 640, 640)\n"
     ]
    },
    {
     "name": "stderr",
     "output_type": "stream",
     "text": [
      "Visualizing train set:  12%|██▏                | 85/731 [00:02<00:21, 30.44it/s]"
     ]
    },
    {
     "name": "stdout",
     "output_type": "stream",
     "text": [
      "\n",
      "image 1/1 /home/afalcao/doc/cursos/mo434/lectures-notebooks/images/object-detection/parasites/images/train/000259.png: 640x640 1 parasites, 7.0ms\n",
      "Speed: 1.7ms preprocess, 7.0ms inference, 0.9ms postprocess per image at shape (1, 3, 640, 640)\n",
      "\n",
      "image 1/1 /home/afalcao/doc/cursos/mo434/lectures-notebooks/images/object-detection/parasites/images/train/000212.png: 640x640 1 parasites, 6.4ms\n",
      "Speed: 1.7ms preprocess, 6.4ms inference, 0.9ms postprocess per image at shape (1, 3, 640, 640)\n",
      "\n",
      "image 1/1 /home/afalcao/doc/cursos/mo434/lectures-notebooks/images/object-detection/parasites/images/train/000113.png: 640x640 (no detections), 6.5ms\n",
      "Speed: 1.7ms preprocess, 6.5ms inference, 0.4ms postprocess per image at shape (1, 3, 640, 640)\n",
      "\n",
      "image 1/1 /home/afalcao/doc/cursos/mo434/lectures-notebooks/images/object-detection/parasites/images/train/000201.png: 640x640 (no detections), 6.4ms\n",
      "Speed: 3.5ms preprocess, 6.4ms inference, 0.4ms postprocess per image at shape (1, 3, 640, 640)\n"
     ]
    },
    {
     "name": "stderr",
     "output_type": "stream",
     "text": [
      "Visualizing train set:  12%|██▎                | 89/731 [00:03<00:20, 31.05it/s]"
     ]
    },
    {
     "name": "stdout",
     "output_type": "stream",
     "text": [
      "\n",
      "image 1/1 /home/afalcao/doc/cursos/mo434/lectures-notebooks/images/object-detection/parasites/images/train/000228.png: 640x640 1 parasites, 7.2ms\n",
      "Speed: 3.5ms preprocess, 7.2ms inference, 1.0ms postprocess per image at shape (1, 3, 640, 640)\n",
      "\n",
      "image 1/1 /home/afalcao/doc/cursos/mo434/lectures-notebooks/images/object-detection/parasites/images/train/000742.png: 640x640 (no detections), 7.0ms\n",
      "Speed: 3.6ms preprocess, 7.0ms inference, 0.4ms postprocess per image at shape (1, 3, 640, 640)\n",
      "\n",
      "image 1/1 /home/afalcao/doc/cursos/mo434/lectures-notebooks/images/object-detection/parasites/images/train/000806.png: 640x640 (no detections), 7.7ms\n",
      "Speed: 2.3ms preprocess, 7.7ms inference, 0.7ms postprocess per image at shape (1, 3, 640, 640)\n",
      "\n",
      "image 1/1 /home/afalcao/doc/cursos/mo434/lectures-notebooks/images/object-detection/parasites/images/train/000876.png: 640x640 1 parasites, 7.4ms\n",
      "Speed: 3.6ms preprocess, 7.4ms inference, 1.0ms postprocess per image at shape (1, 3, 640, 640)\n"
     ]
    },
    {
     "name": "stderr",
     "output_type": "stream",
     "text": [
      "Visualizing train set:  13%|██▍                | 93/731 [00:03<00:20, 30.64it/s]"
     ]
    },
    {
     "name": "stdout",
     "output_type": "stream",
     "text": [
      "\n",
      "image 1/1 /home/afalcao/doc/cursos/mo434/lectures-notebooks/images/object-detection/parasites/images/train/000410.png: 640x640 (no detections), 6.8ms\n",
      "Speed: 3.1ms preprocess, 6.8ms inference, 0.4ms postprocess per image at shape (1, 3, 640, 640)\n",
      "\n",
      "image 1/1 /home/afalcao/doc/cursos/mo434/lectures-notebooks/images/object-detection/parasites/images/train/000945.png: 640x640 1 parasites, 7.3ms\n",
      "Speed: 1.7ms preprocess, 7.3ms inference, 0.9ms postprocess per image at shape (1, 3, 640, 640)\n",
      "\n",
      "image 1/1 /home/afalcao/doc/cursos/mo434/lectures-notebooks/images/object-detection/parasites/images/train/000726.png: 640x640 (no detections), 7.5ms\n",
      "Speed: 2.2ms preprocess, 7.5ms inference, 0.6ms postprocess per image at shape (1, 3, 640, 640)\n",
      "\n",
      "image 1/1 /home/afalcao/doc/cursos/mo434/lectures-notebooks/images/object-detection/parasites/images/train/000922.png: 640x640 (no detections), 7.9ms\n",
      "Speed: 2.0ms preprocess, 7.9ms inference, 1.1ms postprocess per image at shape (1, 3, 640, 640)\n"
     ]
    },
    {
     "name": "stderr",
     "output_type": "stream",
     "text": [
      "Visualizing train set:  13%|██▌                | 97/731 [00:03<00:20, 30.92it/s]"
     ]
    },
    {
     "name": "stdout",
     "output_type": "stream",
     "text": [
      "\n",
      "image 1/1 /home/afalcao/doc/cursos/mo434/lectures-notebooks/images/object-detection/parasites/images/train/000727.png: 640x640 1 parasites, 7.5ms\n",
      "Speed: 1.9ms preprocess, 7.5ms inference, 1.6ms postprocess per image at shape (1, 3, 640, 640)\n",
      "\n",
      "image 1/1 /home/afalcao/doc/cursos/mo434/lectures-notebooks/images/object-detection/parasites/images/train/000014.png: 640x640 1 parasites, 7.8ms\n",
      "Speed: 2.0ms preprocess, 7.8ms inference, 1.2ms postprocess per image at shape (1, 3, 640, 640)\n",
      "\n",
      "image 1/1 /home/afalcao/doc/cursos/mo434/lectures-notebooks/images/object-detection/parasites/images/train/001169.png: 640x640 2 parasitess, 6.6ms\n",
      "Speed: 2.2ms preprocess, 6.6ms inference, 2.7ms postprocess per image at shape (1, 3, 640, 640)\n",
      "\n",
      "image 1/1 /home/afalcao/doc/cursos/mo434/lectures-notebooks/images/object-detection/parasites/images/train/000801.png: 640x640 1 parasites, 6.8ms\n",
      "Speed: 2.4ms preprocess, 6.8ms inference, 1.6ms postprocess per image at shape (1, 3, 640, 640)\n"
     ]
    },
    {
     "name": "stderr",
     "output_type": "stream",
     "text": [
      "Visualizing train set:  14%|██▍               | 101/731 [00:03<00:20, 30.82it/s]"
     ]
    },
    {
     "name": "stdout",
     "output_type": "stream",
     "text": [
      "\n",
      "image 1/1 /home/afalcao/doc/cursos/mo434/lectures-notebooks/images/object-detection/parasites/images/train/000111.png: 640x640 1 parasites, 7.0ms\n",
      "Speed: 2.2ms preprocess, 7.0ms inference, 1.3ms postprocess per image at shape (1, 3, 640, 640)\n",
      "\n",
      "image 1/1 /home/afalcao/doc/cursos/mo434/lectures-notebooks/images/object-detection/parasites/images/train/000873.png: 640x640 1 parasites, 7.3ms\n",
      "Speed: 1.7ms preprocess, 7.3ms inference, 1.0ms postprocess per image at shape (1, 3, 640, 640)\n",
      "\n",
      "image 1/1 /home/afalcao/doc/cursos/mo434/lectures-notebooks/images/object-detection/parasites/images/train/000965.png: 640x640 1 parasites, 7.2ms\n",
      "Speed: 1.7ms preprocess, 7.2ms inference, 1.1ms postprocess per image at shape (1, 3, 640, 640)\n",
      "\n",
      "image 1/1 /home/afalcao/doc/cursos/mo434/lectures-notebooks/images/object-detection/parasites/images/train/000359.png: 640x640 (no detections), 6.8ms\n",
      "Speed: 1.7ms preprocess, 6.8ms inference, 0.5ms postprocess per image at shape (1, 3, 640, 640)\n"
     ]
    },
    {
     "name": "stderr",
     "output_type": "stream",
     "text": [
      "Visualizing train set:  14%|██▌               | 105/731 [00:03<00:20, 30.95it/s]"
     ]
    },
    {
     "name": "stdout",
     "output_type": "stream",
     "text": [
      "\n",
      "image 1/1 /home/afalcao/doc/cursos/mo434/lectures-notebooks/images/object-detection/parasites/images/train/000820.png: 640x640 1 parasites, 6.7ms\n",
      "Speed: 1.9ms preprocess, 6.7ms inference, 1.1ms postprocess per image at shape (1, 3, 640, 640)\n",
      "\n",
      "image 1/1 /home/afalcao/doc/cursos/mo434/lectures-notebooks/images/object-detection/parasites/images/train/000482.png: 640x640 (no detections), 7.4ms\n",
      "Speed: 1.8ms preprocess, 7.4ms inference, 0.5ms postprocess per image at shape (1, 3, 640, 640)\n",
      "\n",
      "image 1/1 /home/afalcao/doc/cursos/mo434/lectures-notebooks/images/object-detection/parasites/images/train/000748.png: 640x640 (no detections), 6.6ms\n",
      "Speed: 2.6ms preprocess, 6.6ms inference, 0.4ms postprocess per image at shape (1, 3, 640, 640)\n",
      "\n",
      "image 1/1 /home/afalcao/doc/cursos/mo434/lectures-notebooks/images/object-detection/parasites/images/train/000397.png: 640x640 1 parasites, 6.8ms\n",
      "Speed: 1.8ms preprocess, 6.8ms inference, 0.9ms postprocess per image at shape (1, 3, 640, 640)\n"
     ]
    },
    {
     "name": "stderr",
     "output_type": "stream",
     "text": [
      "Visualizing train set:  15%|██▋               | 109/731 [00:03<00:20, 30.88it/s]"
     ]
    },
    {
     "name": "stdout",
     "output_type": "stream",
     "text": [
      "\n",
      "image 1/1 /home/afalcao/doc/cursos/mo434/lectures-notebooks/images/object-detection/parasites/images/train/000825.png: 640x640 1 parasites, 6.6ms\n",
      "Speed: 2.8ms preprocess, 6.6ms inference, 1.1ms postprocess per image at shape (1, 3, 640, 640)\n",
      "\n",
      "image 1/1 /home/afalcao/doc/cursos/mo434/lectures-notebooks/images/object-detection/parasites/images/train/000239.png: 640x640 (no detections), 6.9ms\n",
      "Speed: 1.9ms preprocess, 6.9ms inference, 0.7ms postprocess per image at shape (1, 3, 640, 640)\n",
      "\n",
      "image 1/1 /home/afalcao/doc/cursos/mo434/lectures-notebooks/images/object-detection/parasites/images/train/000713.png: 640x640 1 parasites, 7.5ms\n",
      "Speed: 1.8ms preprocess, 7.5ms inference, 0.9ms postprocess per image at shape (1, 3, 640, 640)\n",
      "\n",
      "image 1/1 /home/afalcao/doc/cursos/mo434/lectures-notebooks/images/object-detection/parasites/images/train/000174.png: 640x640 3 parasitess, 6.9ms\n",
      "Speed: 1.7ms preprocess, 6.9ms inference, 0.9ms postprocess per image at shape (1, 3, 640, 640)\n"
     ]
    },
    {
     "name": "stderr",
     "output_type": "stream",
     "text": [
      "Visualizing train set:  15%|██▊               | 113/731 [00:03<00:20, 30.87it/s]"
     ]
    },
    {
     "name": "stdout",
     "output_type": "stream",
     "text": [
      "\n",
      "image 1/1 /home/afalcao/doc/cursos/mo434/lectures-notebooks/images/object-detection/parasites/images/train/000630.png: 640x640 1 parasites, 6.8ms\n",
      "Speed: 1.8ms preprocess, 6.8ms inference, 1.0ms postprocess per image at shape (1, 3, 640, 640)\n",
      "\n",
      "image 1/1 /home/afalcao/doc/cursos/mo434/lectures-notebooks/images/object-detection/parasites/images/train/000040.png: 640x640 (no detections), 7.7ms\n",
      "Speed: 1.7ms preprocess, 7.7ms inference, 0.5ms postprocess per image at shape (1, 3, 640, 640)\n",
      "\n",
      "image 1/1 /home/afalcao/doc/cursos/mo434/lectures-notebooks/images/object-detection/parasites/images/train/000304.png: 640x640 1 parasites, 8.4ms\n",
      "Speed: 1.7ms preprocess, 8.4ms inference, 1.2ms postprocess per image at shape (1, 3, 640, 640)\n",
      "\n",
      "image 1/1 /home/afalcao/doc/cursos/mo434/lectures-notebooks/images/object-detection/parasites/images/train/000909.png: 640x640 1 parasites, 8.1ms\n",
      "Speed: 1.7ms preprocess, 8.1ms inference, 1.0ms postprocess per image at shape (1, 3, 640, 640)\n"
     ]
    },
    {
     "name": "stderr",
     "output_type": "stream",
     "text": [
      "Visualizing train set:  16%|██▉               | 117/731 [00:04<00:19, 30.72it/s]"
     ]
    },
    {
     "name": "stdout",
     "output_type": "stream",
     "text": [
      "\n",
      "image 1/1 /home/afalcao/doc/cursos/mo434/lectures-notebooks/images/object-detection/parasites/images/train/000749.png: 640x640 1 parasites, 7.4ms\n",
      "Speed: 1.7ms preprocess, 7.4ms inference, 1.1ms postprocess per image at shape (1, 3, 640, 640)\n",
      "\n",
      "image 1/1 /home/afalcao/doc/cursos/mo434/lectures-notebooks/images/object-detection/parasites/images/train/000795.png: 640x640 1 parasites, 8.0ms\n",
      "Speed: 1.7ms preprocess, 8.0ms inference, 1.7ms postprocess per image at shape (1, 3, 640, 640)\n",
      "\n",
      "image 1/1 /home/afalcao/doc/cursos/mo434/lectures-notebooks/images/object-detection/parasites/images/train/000478.png: 640x640 (no detections), 8.2ms\n",
      "Speed: 1.7ms preprocess, 8.2ms inference, 0.5ms postprocess per image at shape (1, 3, 640, 640)\n",
      "\n",
      "image 1/1 /home/afalcao/doc/cursos/mo434/lectures-notebooks/images/object-detection/parasites/images/train/000554.png: 640x640 (no detections), 8.4ms\n",
      "Speed: 1.7ms preprocess, 8.4ms inference, 0.5ms postprocess per image at shape (1, 3, 640, 640)\n"
     ]
    },
    {
     "name": "stderr",
     "output_type": "stream",
     "text": [
      "Visualizing train set:  17%|██▉               | 121/731 [00:04<00:19, 30.58it/s]"
     ]
    },
    {
     "name": "stdout",
     "output_type": "stream",
     "text": [
      "\n",
      "image 1/1 /home/afalcao/doc/cursos/mo434/lectures-notebooks/images/object-detection/parasites/images/train/000076.png: 640x640 1 parasites, 6.7ms\n",
      "Speed: 1.7ms preprocess, 6.7ms inference, 1.7ms postprocess per image at shape (1, 3, 640, 640)\n",
      "\n",
      "image 1/1 /home/afalcao/doc/cursos/mo434/lectures-notebooks/images/object-detection/parasites/images/train/000978.png: 640x640 (no detections), 6.6ms\n",
      "Speed: 1.8ms preprocess, 6.6ms inference, 1.0ms postprocess per image at shape (1, 3, 640, 640)\n",
      "\n",
      "image 1/1 /home/afalcao/doc/cursos/mo434/lectures-notebooks/images/object-detection/parasites/images/train/001083.png: 640x640 1 parasites, 7.1ms\n",
      "Speed: 1.8ms preprocess, 7.1ms inference, 1.7ms postprocess per image at shape (1, 3, 640, 640)\n",
      "\n",
      "image 1/1 /home/afalcao/doc/cursos/mo434/lectures-notebooks/images/object-detection/parasites/images/train/000515.png: 640x640 1 parasites, 7.3ms\n",
      "Speed: 1.8ms preprocess, 7.3ms inference, 1.3ms postprocess per image at shape (1, 3, 640, 640)\n"
     ]
    },
    {
     "name": "stderr",
     "output_type": "stream",
     "text": [
      "Visualizing train set:  17%|███               | 125/731 [00:04<00:20, 30.28it/s]"
     ]
    },
    {
     "name": "stdout",
     "output_type": "stream",
     "text": [
      "\n",
      "image 1/1 /home/afalcao/doc/cursos/mo434/lectures-notebooks/images/object-detection/parasites/images/train/000954.png: 640x640 (no detections), 6.6ms\n",
      "Speed: 2.0ms preprocess, 6.6ms inference, 0.7ms postprocess per image at shape (1, 3, 640, 640)\n",
      "\n",
      "image 1/1 /home/afalcao/doc/cursos/mo434/lectures-notebooks/images/object-detection/parasites/images/train/000568.png: 640x640 (no detections), 7.2ms\n",
      "Speed: 2.1ms preprocess, 7.2ms inference, 1.1ms postprocess per image at shape (1, 3, 640, 640)\n",
      "\n",
      "image 1/1 /home/afalcao/doc/cursos/mo434/lectures-notebooks/images/object-detection/parasites/images/train/000871.png: 640x640 1 parasites, 7.2ms\n",
      "Speed: 2.0ms preprocess, 7.2ms inference, 2.3ms postprocess per image at shape (1, 3, 640, 640)\n",
      "\n",
      "image 1/1 /home/afalcao/doc/cursos/mo434/lectures-notebooks/images/object-detection/parasites/images/train/000569.png: 640x640 1 parasites, 6.7ms\n",
      "Speed: 1.8ms preprocess, 6.7ms inference, 1.0ms postprocess per image at shape (1, 3, 640, 640)\n"
     ]
    },
    {
     "name": "stderr",
     "output_type": "stream",
     "text": [
      "Visualizing train set:  18%|███▏              | 129/731 [00:04<00:19, 30.22it/s]"
     ]
    },
    {
     "name": "stdout",
     "output_type": "stream",
     "text": [
      "\n",
      "image 1/1 /home/afalcao/doc/cursos/mo434/lectures-notebooks/images/object-detection/parasites/images/train/001192.png: 640x640 1 parasites, 7.2ms\n",
      "Speed: 2.2ms preprocess, 7.2ms inference, 1.0ms postprocess per image at shape (1, 3, 640, 640)\n",
      "\n",
      "image 1/1 /home/afalcao/doc/cursos/mo434/lectures-notebooks/images/object-detection/parasites/images/train/000390.png: 640x640 (no detections), 7.5ms\n",
      "Speed: 1.9ms preprocess, 7.5ms inference, 0.4ms postprocess per image at shape (1, 3, 640, 640)\n",
      "\n",
      "image 1/1 /home/afalcao/doc/cursos/mo434/lectures-notebooks/images/object-detection/parasites/images/train/000342.png: 640x640 1 parasites, 6.8ms\n",
      "Speed: 1.8ms preprocess, 6.8ms inference, 0.9ms postprocess per image at shape (1, 3, 640, 640)\n",
      "\n",
      "image 1/1 /home/afalcao/doc/cursos/mo434/lectures-notebooks/images/object-detection/parasites/images/train/000231.png: 640x640 (no detections), 7.6ms\n",
      "Speed: 1.8ms preprocess, 7.6ms inference, 0.5ms postprocess per image at shape (1, 3, 640, 640)\n"
     ]
    },
    {
     "name": "stderr",
     "output_type": "stream",
     "text": [
      "Visualizing train set:  18%|███▎              | 133/731 [00:04<00:19, 30.18it/s]"
     ]
    },
    {
     "name": "stdout",
     "output_type": "stream",
     "text": [
      "\n",
      "image 1/1 /home/afalcao/doc/cursos/mo434/lectures-notebooks/images/object-detection/parasites/images/train/000048.png: 640x640 (no detections), 7.4ms\n",
      "Speed: 1.8ms preprocess, 7.4ms inference, 0.5ms postprocess per image at shape (1, 3, 640, 640)\n",
      "\n",
      "image 1/1 /home/afalcao/doc/cursos/mo434/lectures-notebooks/images/object-detection/parasites/images/train/000156.png: 640x640 1 parasites, 7.6ms\n",
      "Speed: 1.7ms preprocess, 7.6ms inference, 0.9ms postprocess per image at shape (1, 3, 640, 640)\n",
      "\n",
      "image 1/1 /home/afalcao/doc/cursos/mo434/lectures-notebooks/images/object-detection/parasites/images/train/001124.png: 640x640 1 parasites, 7.5ms\n",
      "Speed: 1.8ms preprocess, 7.5ms inference, 1.0ms postprocess per image at shape (1, 3, 640, 640)\n",
      "\n",
      "image 1/1 /home/afalcao/doc/cursos/mo434/lectures-notebooks/images/object-detection/parasites/images/train/000696.png: 640x640 (no detections), 7.5ms\n",
      "Speed: 1.8ms preprocess, 7.5ms inference, 0.8ms postprocess per image at shape (1, 3, 640, 640)\n"
     ]
    },
    {
     "name": "stderr",
     "output_type": "stream",
     "text": [
      "Visualizing train set:  19%|███▎              | 137/731 [00:04<00:19, 30.10it/s]"
     ]
    },
    {
     "name": "stdout",
     "output_type": "stream",
     "text": [
      "\n",
      "image 1/1 /home/afalcao/doc/cursos/mo434/lectures-notebooks/images/object-detection/parasites/images/train/001003.png: 640x640 2 parasitess, 6.5ms\n",
      "Speed: 1.7ms preprocess, 6.5ms inference, 1.5ms postprocess per image at shape (1, 3, 640, 640)\n",
      "\n",
      "image 1/1 /home/afalcao/doc/cursos/mo434/lectures-notebooks/images/object-detection/parasites/images/train/001147.png: 640x640 1 parasites, 6.6ms\n",
      "Speed: 1.7ms preprocess, 6.6ms inference, 2.0ms postprocess per image at shape (1, 3, 640, 640)\n",
      "\n",
      "image 1/1 /home/afalcao/doc/cursos/mo434/lectures-notebooks/images/object-detection/parasites/images/train/001019.png: 640x640 1 parasites, 6.4ms\n",
      "Speed: 1.8ms preprocess, 6.4ms inference, 1.1ms postprocess per image at shape (1, 3, 640, 640)\n",
      "\n",
      "image 1/1 /home/afalcao/doc/cursos/mo434/lectures-notebooks/images/object-detection/parasites/images/train/001139.png: 640x640 1 parasites, 7.1ms\n",
      "Speed: 2.1ms preprocess, 7.1ms inference, 2.1ms postprocess per image at shape (1, 3, 640, 640)\n"
     ]
    },
    {
     "name": "stderr",
     "output_type": "stream",
     "text": [
      "Visualizing train set:  19%|███▍              | 141/731 [00:04<00:19, 30.21it/s]"
     ]
    },
    {
     "name": "stdout",
     "output_type": "stream",
     "text": [
      "\n",
      "image 1/1 /home/afalcao/doc/cursos/mo434/lectures-notebooks/images/object-detection/parasites/images/train/000671.png: 640x640 1 parasites, 6.6ms\n",
      "Speed: 1.7ms preprocess, 6.6ms inference, 1.3ms postprocess per image at shape (1, 3, 640, 640)\n",
      "\n",
      "image 1/1 /home/afalcao/doc/cursos/mo434/lectures-notebooks/images/object-detection/parasites/images/train/000350.png: 640x640 1 parasites, 6.5ms\n",
      "Speed: 1.7ms preprocess, 6.5ms inference, 0.9ms postprocess per image at shape (1, 3, 640, 640)\n",
      "\n",
      "image 1/1 /home/afalcao/doc/cursos/mo434/lectures-notebooks/images/object-detection/parasites/images/train/001077.png: 640x640 1 parasites, 8.1ms\n",
      "Speed: 2.2ms preprocess, 8.1ms inference, 0.9ms postprocess per image at shape (1, 3, 640, 640)\n",
      "\n",
      "image 1/1 /home/afalcao/doc/cursos/mo434/lectures-notebooks/images/object-detection/parasites/images/train/001103.png: 640x640 1 parasites, 6.3ms\n",
      "Speed: 2.3ms preprocess, 6.3ms inference, 1.0ms postprocess per image at shape (1, 3, 640, 640)\n"
     ]
    },
    {
     "name": "stderr",
     "output_type": "stream",
     "text": [
      "Visualizing train set:  20%|███▌              | 145/731 [00:04<00:19, 30.60it/s]"
     ]
    },
    {
     "name": "stdout",
     "output_type": "stream",
     "text": [
      "\n",
      "image 1/1 /home/afalcao/doc/cursos/mo434/lectures-notebooks/images/object-detection/parasites/images/train/000157.png: 640x640 (no detections), 6.4ms\n",
      "Speed: 3.1ms preprocess, 6.4ms inference, 0.4ms postprocess per image at shape (1, 3, 640, 640)\n",
      "\n",
      "image 1/1 /home/afalcao/doc/cursos/mo434/lectures-notebooks/images/object-detection/parasites/images/train/000070.png: 640x640 1 parasites, 7.9ms\n",
      "Speed: 1.8ms preprocess, 7.9ms inference, 0.9ms postprocess per image at shape (1, 3, 640, 640)\n",
      "\n",
      "image 1/1 /home/afalcao/doc/cursos/mo434/lectures-notebooks/images/object-detection/parasites/images/train/000223.png: 640x640 (no detections), 8.1ms\n",
      "Speed: 1.7ms preprocess, 8.1ms inference, 0.4ms postprocess per image at shape (1, 3, 640, 640)\n",
      "\n",
      "image 1/1 /home/afalcao/doc/cursos/mo434/lectures-notebooks/images/object-detection/parasites/images/train/000594.png: 640x640 (no detections), 8.2ms\n",
      "Speed: 2.1ms preprocess, 8.2ms inference, 0.6ms postprocess per image at shape (1, 3, 640, 640)\n"
     ]
    },
    {
     "name": "stderr",
     "output_type": "stream",
     "text": [
      "Visualizing train set:  20%|███▋              | 149/731 [00:05<00:18, 30.95it/s]"
     ]
    },
    {
     "name": "stdout",
     "output_type": "stream",
     "text": [
      "\n",
      "image 1/1 /home/afalcao/doc/cursos/mo434/lectures-notebooks/images/object-detection/parasites/images/train/000084.png: 640x640 1 parasites, 7.9ms\n",
      "Speed: 2.6ms preprocess, 7.9ms inference, 1.1ms postprocess per image at shape (1, 3, 640, 640)\n",
      "\n",
      "image 1/1 /home/afalcao/doc/cursos/mo434/lectures-notebooks/images/object-detection/parasites/images/train/000255.png: 640x640 (no detections), 9.2ms\n",
      "Speed: 2.0ms preprocess, 9.2ms inference, 0.6ms postprocess per image at shape (1, 3, 640, 640)\n",
      "\n",
      "image 1/1 /home/afalcao/doc/cursos/mo434/lectures-notebooks/images/object-detection/parasites/images/train/000885.png: 640x640 1 parasites, 7.2ms\n",
      "Speed: 2.0ms preprocess, 7.2ms inference, 0.9ms postprocess per image at shape (1, 3, 640, 640)\n",
      "\n",
      "image 1/1 /home/afalcao/doc/cursos/mo434/lectures-notebooks/images/object-detection/parasites/images/train/000278.png: 640x640 1 parasites, 7.2ms\n",
      "Speed: 2.4ms preprocess, 7.2ms inference, 2.4ms postprocess per image at shape (1, 3, 640, 640)\n"
     ]
    },
    {
     "name": "stderr",
     "output_type": "stream",
     "text": [
      "Visualizing train set:  21%|███▊              | 153/731 [00:05<00:18, 30.67it/s]"
     ]
    },
    {
     "name": "stdout",
     "output_type": "stream",
     "text": [
      "\n",
      "image 1/1 /home/afalcao/doc/cursos/mo434/lectures-notebooks/images/object-detection/parasites/images/train/000025.png: 640x640 1 parasites, 6.8ms\n",
      "Speed: 2.2ms preprocess, 6.8ms inference, 2.2ms postprocess per image at shape (1, 3, 640, 640)\n",
      "\n",
      "image 1/1 /home/afalcao/doc/cursos/mo434/lectures-notebooks/images/object-detection/parasites/images/train/000416.png: 640x640 (no detections), 7.0ms\n",
      "Speed: 2.3ms preprocess, 7.0ms inference, 0.5ms postprocess per image at shape (1, 3, 640, 640)\n",
      "\n",
      "image 1/1 /home/afalcao/doc/cursos/mo434/lectures-notebooks/images/object-detection/parasites/images/train/000730.png: 640x640 (no detections), 7.0ms\n",
      "Speed: 1.9ms preprocess, 7.0ms inference, 0.5ms postprocess per image at shape (1, 3, 640, 640)\n",
      "\n",
      "image 1/1 /home/afalcao/doc/cursos/mo434/lectures-notebooks/images/object-detection/parasites/images/train/000120.png: 640x640 (no detections), 6.6ms\n",
      "Speed: 1.8ms preprocess, 6.6ms inference, 0.4ms postprocess per image at shape (1, 3, 640, 640)\n"
     ]
    },
    {
     "name": "stderr",
     "output_type": "stream",
     "text": [
      "Visualizing train set:  21%|███▊              | 157/731 [00:05<00:18, 30.86it/s]"
     ]
    },
    {
     "name": "stdout",
     "output_type": "stream",
     "text": [
      "\n",
      "image 1/1 /home/afalcao/doc/cursos/mo434/lectures-notebooks/images/object-detection/parasites/images/train/000003.png: 640x640 1 parasites, 7.2ms\n",
      "Speed: 1.8ms preprocess, 7.2ms inference, 1.3ms postprocess per image at shape (1, 3, 640, 640)\n",
      "\n",
      "image 1/1 /home/afalcao/doc/cursos/mo434/lectures-notebooks/images/object-detection/parasites/images/train/000262.png: 640x640 1 parasites, 6.7ms\n",
      "Speed: 1.8ms preprocess, 6.7ms inference, 1.1ms postprocess per image at shape (1, 3, 640, 640)\n",
      "\n",
      "image 1/1 /home/afalcao/doc/cursos/mo434/lectures-notebooks/images/object-detection/parasites/images/train/001066.png: 640x640 (no detections), 6.8ms\n",
      "Speed: 1.8ms preprocess, 6.8ms inference, 0.6ms postprocess per image at shape (1, 3, 640, 640)\n",
      "\n",
      "image 1/1 /home/afalcao/doc/cursos/mo434/lectures-notebooks/images/object-detection/parasites/images/train/000970.png: 640x640 (no detections), 6.8ms\n",
      "Speed: 3.1ms preprocess, 6.8ms inference, 0.5ms postprocess per image at shape (1, 3, 640, 640)\n"
     ]
    },
    {
     "name": "stderr",
     "output_type": "stream",
     "text": [
      "Visualizing train set:  22%|███▉              | 161/731 [00:05<00:18, 30.92it/s]"
     ]
    },
    {
     "name": "stdout",
     "output_type": "stream",
     "text": [
      "\n",
      "image 1/1 /home/afalcao/doc/cursos/mo434/lectures-notebooks/images/object-detection/parasites/images/train/000317.png: 640x640 (no detections), 6.8ms\n",
      "Speed: 2.1ms preprocess, 6.8ms inference, 0.4ms postprocess per image at shape (1, 3, 640, 640)\n",
      "\n",
      "image 1/1 /home/afalcao/doc/cursos/mo434/lectures-notebooks/images/object-detection/parasites/images/train/000054.png: 640x640 1 parasites, 8.1ms\n",
      "Speed: 2.1ms preprocess, 8.1ms inference, 0.9ms postprocess per image at shape (1, 3, 640, 640)\n",
      "\n",
      "image 1/1 /home/afalcao/doc/cursos/mo434/lectures-notebooks/images/object-detection/parasites/images/train/000019.png: 640x640 1 parasites, 6.9ms\n",
      "Speed: 1.7ms preprocess, 6.9ms inference, 0.9ms postprocess per image at shape (1, 3, 640, 640)\n",
      "\n",
      "image 1/1 /home/afalcao/doc/cursos/mo434/lectures-notebooks/images/object-detection/parasites/images/train/000577.png: 640x640 1 parasites, 7.2ms\n",
      "Speed: 1.8ms preprocess, 7.2ms inference, 0.9ms postprocess per image at shape (1, 3, 640, 640)\n"
     ]
    },
    {
     "name": "stderr",
     "output_type": "stream",
     "text": [
      "Visualizing train set:  23%|████              | 165/731 [00:05<00:18, 31.04it/s]"
     ]
    },
    {
     "name": "stdout",
     "output_type": "stream",
     "text": [
      "\n",
      "image 1/1 /home/afalcao/doc/cursos/mo434/lectures-notebooks/images/object-detection/parasites/images/train/000790.png: 640x640 (no detections), 9.0ms\n",
      "Speed: 2.1ms preprocess, 9.0ms inference, 0.4ms postprocess per image at shape (1, 3, 640, 640)\n",
      "\n",
      "image 1/1 /home/afalcao/doc/cursos/mo434/lectures-notebooks/images/object-detection/parasites/images/train/000363.png: 640x640 (no detections), 7.0ms\n",
      "Speed: 1.7ms preprocess, 7.0ms inference, 0.4ms postprocess per image at shape (1, 3, 640, 640)\n",
      "\n",
      "image 1/1 /home/afalcao/doc/cursos/mo434/lectures-notebooks/images/object-detection/parasites/images/train/000946.png: 640x640 (no detections), 6.6ms\n",
      "Speed: 1.7ms preprocess, 6.6ms inference, 0.8ms postprocess per image at shape (1, 3, 640, 640)\n",
      "\n",
      "image 1/1 /home/afalcao/doc/cursos/mo434/lectures-notebooks/images/object-detection/parasites/images/train/000112.png: 640x640 (no detections), 7.0ms\n",
      "Speed: 1.7ms preprocess, 7.0ms inference, 0.4ms postprocess per image at shape (1, 3, 640, 640)\n"
     ]
    },
    {
     "name": "stderr",
     "output_type": "stream",
     "text": [
      "Visualizing train set:  23%|████▏             | 169/731 [00:05<00:18, 31.16it/s]"
     ]
    },
    {
     "name": "stdout",
     "output_type": "stream",
     "text": [
      "\n",
      "image 1/1 /home/afalcao/doc/cursos/mo434/lectures-notebooks/images/object-detection/parasites/images/train/000623.png: 640x640 1 parasites, 9.2ms\n",
      "Speed: 2.1ms preprocess, 9.2ms inference, 1.1ms postprocess per image at shape (1, 3, 640, 640)\n",
      "\n",
      "image 1/1 /home/afalcao/doc/cursos/mo434/lectures-notebooks/images/object-detection/parasites/images/train/001031.png: 640x640 1 parasites, 6.6ms\n",
      "Speed: 1.8ms preprocess, 6.6ms inference, 1.2ms postprocess per image at shape (1, 3, 640, 640)\n",
      "\n",
      "image 1/1 /home/afalcao/doc/cursos/mo434/lectures-notebooks/images/object-detection/parasites/images/train/000901.png: 640x640 1 parasites, 6.6ms\n",
      "Speed: 2.8ms preprocess, 6.6ms inference, 1.2ms postprocess per image at shape (1, 3, 640, 640)\n",
      "\n",
      "image 1/1 /home/afalcao/doc/cursos/mo434/lectures-notebooks/images/object-detection/parasites/images/train/001144.png: 640x640 (no detections), 6.9ms\n",
      "Speed: 3.2ms preprocess, 6.9ms inference, 0.4ms postprocess per image at shape (1, 3, 640, 640)\n"
     ]
    },
    {
     "name": "stderr",
     "output_type": "stream",
     "text": [
      "Visualizing train set:  24%|████▎             | 173/731 [00:05<00:17, 31.01it/s]"
     ]
    },
    {
     "name": "stdout",
     "output_type": "stream",
     "text": [
      "\n",
      "image 1/1 /home/afalcao/doc/cursos/mo434/lectures-notebooks/images/object-detection/parasites/images/train/000669.png: 640x640 1 parasites, 6.8ms\n",
      "Speed: 2.9ms preprocess, 6.8ms inference, 0.9ms postprocess per image at shape (1, 3, 640, 640)\n",
      "\n",
      "image 1/1 /home/afalcao/doc/cursos/mo434/lectures-notebooks/images/object-detection/parasites/images/train/000517.png: 640x640 1 parasites, 7.0ms\n",
      "Speed: 2.7ms preprocess, 7.0ms inference, 0.9ms postprocess per image at shape (1, 3, 640, 640)\n",
      "\n",
      "image 1/1 /home/afalcao/doc/cursos/mo434/lectures-notebooks/images/object-detection/parasites/images/train/000497.png: 640x640 1 parasites, 6.6ms\n",
      "Speed: 3.8ms preprocess, 6.6ms inference, 1.4ms postprocess per image at shape (1, 3, 640, 640)\n",
      "\n",
      "image 1/1 /home/afalcao/doc/cursos/mo434/lectures-notebooks/images/object-detection/parasites/images/train/001131.png: 640x640 1 parasites, 6.5ms\n",
      "Speed: 2.6ms preprocess, 6.5ms inference, 0.9ms postprocess per image at shape (1, 3, 640, 640)\n"
     ]
    },
    {
     "name": "stderr",
     "output_type": "stream",
     "text": [
      "Visualizing train set:  24%|████▎             | 177/731 [00:05<00:18, 30.50it/s]"
     ]
    },
    {
     "name": "stdout",
     "output_type": "stream",
     "text": [
      "\n",
      "image 1/1 /home/afalcao/doc/cursos/mo434/lectures-notebooks/images/object-detection/parasites/images/train/000720.png: 640x640 1 parasites, 6.5ms\n",
      "Speed: 2.6ms preprocess, 6.5ms inference, 1.2ms postprocess per image at shape (1, 3, 640, 640)\n",
      "\n",
      "image 1/1 /home/afalcao/doc/cursos/mo434/lectures-notebooks/images/object-detection/parasites/images/train/001045.png: 640x640 1 parasites, 6.6ms\n",
      "Speed: 2.9ms preprocess, 6.6ms inference, 1.2ms postprocess per image at shape (1, 3, 640, 640)\n",
      "\n",
      "image 1/1 /home/afalcao/doc/cursos/mo434/lectures-notebooks/images/object-detection/parasites/images/train/000449.png: 640x640 1 parasites, 6.6ms\n",
      "Speed: 3.1ms preprocess, 6.6ms inference, 1.2ms postprocess per image at shape (1, 3, 640, 640)\n",
      "\n",
      "image 1/1 /home/afalcao/doc/cursos/mo434/lectures-notebooks/images/object-detection/parasites/images/train/000169.png: 640x640 (no detections), 6.7ms\n",
      "Speed: 3.1ms preprocess, 6.7ms inference, 0.4ms postprocess per image at shape (1, 3, 640, 640)\n"
     ]
    },
    {
     "name": "stderr",
     "output_type": "stream",
     "text": [
      "Visualizing train set:  25%|████▍             | 181/731 [00:06<00:18, 30.55it/s]"
     ]
    },
    {
     "name": "stdout",
     "output_type": "stream",
     "text": [
      "\n",
      "image 1/1 /home/afalcao/doc/cursos/mo434/lectures-notebooks/images/object-detection/parasites/images/train/000660.png: 640x640 (no detections), 7.0ms\n",
      "Speed: 3.7ms preprocess, 7.0ms inference, 0.4ms postprocess per image at shape (1, 3, 640, 640)\n",
      "\n",
      "image 1/1 /home/afalcao/doc/cursos/mo434/lectures-notebooks/images/object-detection/parasites/images/train/000832.png: 640x640 (no detections), 6.9ms\n",
      "Speed: 3.5ms preprocess, 6.9ms inference, 0.4ms postprocess per image at shape (1, 3, 640, 640)\n",
      "\n",
      "image 1/1 /home/afalcao/doc/cursos/mo434/lectures-notebooks/images/object-detection/parasites/images/train/000900.png: 640x640 1 parasites, 7.1ms\n",
      "Speed: 3.4ms preprocess, 7.1ms inference, 0.9ms postprocess per image at shape (1, 3, 640, 640)\n",
      "\n",
      "image 1/1 /home/afalcao/doc/cursos/mo434/lectures-notebooks/images/object-detection/parasites/images/train/000117.png: 640x640 (no detections), 7.3ms\n",
      "Speed: 3.5ms preprocess, 7.3ms inference, 0.4ms postprocess per image at shape (1, 3, 640, 640)\n"
     ]
    },
    {
     "name": "stderr",
     "output_type": "stream",
     "text": [
      "Visualizing train set:  25%|████▌             | 185/731 [00:06<00:17, 30.48it/s]"
     ]
    },
    {
     "name": "stdout",
     "output_type": "stream",
     "text": [
      "\n",
      "image 1/1 /home/afalcao/doc/cursos/mo434/lectures-notebooks/images/object-detection/parasites/images/train/001160.png: 640x640 (no detections), 7.6ms\n",
      "Speed: 3.2ms preprocess, 7.6ms inference, 0.4ms postprocess per image at shape (1, 3, 640, 640)\n",
      "\n",
      "image 1/1 /home/afalcao/doc/cursos/mo434/lectures-notebooks/images/object-detection/parasites/images/train/000248.png: 640x640 1 parasites, 8.1ms\n",
      "Speed: 1.8ms preprocess, 8.1ms inference, 0.9ms postprocess per image at shape (1, 3, 640, 640)\n",
      "\n",
      "image 1/1 /home/afalcao/doc/cursos/mo434/lectures-notebooks/images/object-detection/parasites/images/train/000664.png: 640x640 (no detections), 8.4ms\n",
      "Speed: 2.1ms preprocess, 8.4ms inference, 0.4ms postprocess per image at shape (1, 3, 640, 640)\n",
      "\n",
      "image 1/1 /home/afalcao/doc/cursos/mo434/lectures-notebooks/images/object-detection/parasites/images/train/001145.png: 640x640 1 parasites, 8.3ms\n",
      "Speed: 2.8ms preprocess, 8.3ms inference, 1.5ms postprocess per image at shape (1, 3, 640, 640)\n"
     ]
    },
    {
     "name": "stderr",
     "output_type": "stream",
     "text": [
      "Visualizing train set:  26%|████▋             | 189/731 [00:06<00:17, 30.56it/s]"
     ]
    },
    {
     "name": "stdout",
     "output_type": "stream",
     "text": [
      "\n",
      "image 1/1 /home/afalcao/doc/cursos/mo434/lectures-notebooks/images/object-detection/parasites/images/train/001182.png: 640x640 (no detections), 8.8ms\n",
      "Speed: 2.2ms preprocess, 8.8ms inference, 0.5ms postprocess per image at shape (1, 3, 640, 640)\n",
      "\n",
      "image 1/1 /home/afalcao/doc/cursos/mo434/lectures-notebooks/images/object-detection/parasites/images/train/000557.png: 640x640 1 parasites, 8.3ms\n",
      "Speed: 2.1ms preprocess, 8.3ms inference, 1.6ms postprocess per image at shape (1, 3, 640, 640)\n",
      "\n",
      "image 1/1 /home/afalcao/doc/cursos/mo434/lectures-notebooks/images/object-detection/parasites/images/train/000947.png: 640x640 1 parasites, 7.0ms\n",
      "Speed: 2.4ms preprocess, 7.0ms inference, 1.0ms postprocess per image at shape (1, 3, 640, 640)\n",
      "\n",
      "image 1/1 /home/afalcao/doc/cursos/mo434/lectures-notebooks/images/object-detection/parasites/images/train/001129.png: 640x640 1 parasites, 7.1ms\n",
      "Speed: 1.7ms preprocess, 7.1ms inference, 2.0ms postprocess per image at shape (1, 3, 640, 640)\n"
     ]
    },
    {
     "name": "stderr",
     "output_type": "stream",
     "text": [
      "Visualizing train set:  26%|████▊             | 193/731 [00:06<00:17, 30.66it/s]"
     ]
    },
    {
     "name": "stdout",
     "output_type": "stream",
     "text": [
      "\n",
      "image 1/1 /home/afalcao/doc/cursos/mo434/lectures-notebooks/images/object-detection/parasites/images/train/000951.png: 640x640 1 parasites, 8.2ms\n",
      "Speed: 1.7ms preprocess, 8.2ms inference, 3.0ms postprocess per image at shape (1, 3, 640, 640)\n",
      "\n",
      "image 1/1 /home/afalcao/doc/cursos/mo434/lectures-notebooks/images/object-detection/parasites/images/train/000118.png: 640x640 1 parasites, 6.8ms\n",
      "Speed: 1.7ms preprocess, 6.8ms inference, 1.2ms postprocess per image at shape (1, 3, 640, 640)\n",
      "\n",
      "image 1/1 /home/afalcao/doc/cursos/mo434/lectures-notebooks/images/object-detection/parasites/images/train/000688.png: 640x640 (no detections), 7.3ms\n",
      "Speed: 1.7ms preprocess, 7.3ms inference, 0.5ms postprocess per image at shape (1, 3, 640, 640)\n",
      "\n",
      "image 1/1 /home/afalcao/doc/cursos/mo434/lectures-notebooks/images/object-detection/parasites/images/train/000708.png: 640x640 (no detections), 7.0ms\n",
      "Speed: 2.9ms preprocess, 7.0ms inference, 0.7ms postprocess per image at shape (1, 3, 640, 640)\n"
     ]
    },
    {
     "name": "stderr",
     "output_type": "stream",
     "text": [
      "Visualizing train set:  27%|████▊             | 197/731 [00:06<00:17, 30.37it/s]"
     ]
    },
    {
     "name": "stdout",
     "output_type": "stream",
     "text": [
      "\n",
      "image 1/1 /home/afalcao/doc/cursos/mo434/lectures-notebooks/images/object-detection/parasites/images/train/000466.png: 640x640 1 parasites, 7.2ms\n",
      "Speed: 1.8ms preprocess, 7.2ms inference, 2.9ms postprocess per image at shape (1, 3, 640, 640)\n",
      "\n",
      "image 1/1 /home/afalcao/doc/cursos/mo434/lectures-notebooks/images/object-detection/parasites/images/train/000302.png: 640x640 1 parasites, 6.9ms\n",
      "Speed: 1.7ms preprocess, 6.9ms inference, 1.1ms postprocess per image at shape (1, 3, 640, 640)\n",
      "\n",
      "image 1/1 /home/afalcao/doc/cursos/mo434/lectures-notebooks/images/object-detection/parasites/images/train/001112.png: 640x640 (no detections), 8.3ms\n",
      "Speed: 1.7ms preprocess, 8.3ms inference, 1.0ms postprocess per image at shape (1, 3, 640, 640)\n",
      "\n",
      "image 1/1 /home/afalcao/doc/cursos/mo434/lectures-notebooks/images/object-detection/parasites/images/train/000539.png: 640x640 1 parasites, 8.1ms\n",
      "Speed: 1.8ms preprocess, 8.1ms inference, 1.6ms postprocess per image at shape (1, 3, 640, 640)\n"
     ]
    },
    {
     "name": "stderr",
     "output_type": "stream",
     "text": [
      "Visualizing train set:  27%|████▉             | 201/731 [00:06<00:17, 30.27it/s]"
     ]
    },
    {
     "name": "stdout",
     "output_type": "stream",
     "text": [
      "\n",
      "image 1/1 /home/afalcao/doc/cursos/mo434/lectures-notebooks/images/object-detection/parasites/images/train/001065.png: 640x640 1 parasites, 7.6ms\n",
      "Speed: 1.9ms preprocess, 7.6ms inference, 2.2ms postprocess per image at shape (1, 3, 640, 640)\n",
      "\n",
      "image 1/1 /home/afalcao/doc/cursos/mo434/lectures-notebooks/images/object-detection/parasites/images/train/000550.png: 640x640 (no detections), 7.7ms\n",
      "Speed: 2.1ms preprocess, 7.7ms inference, 0.9ms postprocess per image at shape (1, 3, 640, 640)\n",
      "\n",
      "image 1/1 /home/afalcao/doc/cursos/mo434/lectures-notebooks/images/object-detection/parasites/images/train/000931.png: 640x640 1 parasites, 6.9ms\n",
      "Speed: 1.9ms preprocess, 6.9ms inference, 2.6ms postprocess per image at shape (1, 3, 640, 640)\n",
      "\n",
      "image 1/1 /home/afalcao/doc/cursos/mo434/lectures-notebooks/images/object-detection/parasites/images/train/000853.png: 640x640 1 parasites, 6.9ms\n",
      "Speed: 1.7ms preprocess, 6.9ms inference, 1.1ms postprocess per image at shape (1, 3, 640, 640)\n"
     ]
    },
    {
     "name": "stderr",
     "output_type": "stream",
     "text": [
      "Visualizing train set:  28%|█████             | 205/731 [00:06<00:17, 30.29it/s]"
     ]
    },
    {
     "name": "stdout",
     "output_type": "stream",
     "text": [
      "\n",
      "image 1/1 /home/afalcao/doc/cursos/mo434/lectures-notebooks/images/object-detection/parasites/images/train/001111.png: 640x640 2 parasitess, 8.7ms\n",
      "Speed: 1.7ms preprocess, 8.7ms inference, 1.3ms postprocess per image at shape (1, 3, 640, 640)\n",
      "\n",
      "image 1/1 /home/afalcao/doc/cursos/mo434/lectures-notebooks/images/object-detection/parasites/images/train/000678.png: 640x640 (no detections), 8.4ms\n",
      "Speed: 1.7ms preprocess, 8.4ms inference, 1.0ms postprocess per image at shape (1, 3, 640, 640)\n",
      "\n",
      "image 1/1 /home/afalcao/doc/cursos/mo434/lectures-notebooks/images/object-detection/parasites/images/train/001011.png: 640x640 1 parasites, 6.7ms\n",
      "Speed: 1.7ms preprocess, 6.7ms inference, 1.1ms postprocess per image at shape (1, 3, 640, 640)\n",
      "\n",
      "image 1/1 /home/afalcao/doc/cursos/mo434/lectures-notebooks/images/object-detection/parasites/images/train/000071.png: 640x640 (no detections), 6.5ms\n",
      "Speed: 1.7ms preprocess, 6.5ms inference, 0.5ms postprocess per image at shape (1, 3, 640, 640)\n"
     ]
    },
    {
     "name": "stderr",
     "output_type": "stream",
     "text": [
      "Visualizing train set:  29%|█████▏            | 209/731 [00:07<00:17, 30.57it/s]"
     ]
    },
    {
     "name": "stdout",
     "output_type": "stream",
     "text": [
      "\n",
      "image 1/1 /home/afalcao/doc/cursos/mo434/lectures-notebooks/images/object-detection/parasites/images/train/000880.png: 640x640 (no detections), 6.3ms\n",
      "Speed: 2.2ms preprocess, 6.3ms inference, 0.4ms postprocess per image at shape (1, 3, 640, 640)\n",
      "\n",
      "image 1/1 /home/afalcao/doc/cursos/mo434/lectures-notebooks/images/object-detection/parasites/images/train/000015.png: 640x640 1 parasites, 7.3ms\n",
      "Speed: 1.6ms preprocess, 7.3ms inference, 0.9ms postprocess per image at shape (1, 3, 640, 640)\n",
      "\n",
      "image 1/1 /home/afalcao/doc/cursos/mo434/lectures-notebooks/images/object-detection/parasites/images/train/001010.png: 640x640 (no detections), 7.0ms\n",
      "Speed: 1.7ms preprocess, 7.0ms inference, 0.4ms postprocess per image at shape (1, 3, 640, 640)\n",
      "\n",
      "image 1/1 /home/afalcao/doc/cursos/mo434/lectures-notebooks/images/object-detection/parasites/images/train/000959.png: 640x640 1 parasites, 6.6ms\n",
      "Speed: 1.7ms preprocess, 6.6ms inference, 1.1ms postprocess per image at shape (1, 3, 640, 640)\n"
     ]
    },
    {
     "name": "stderr",
     "output_type": "stream",
     "text": [
      "Visualizing train set:  29%|█████▏            | 213/731 [00:07<00:16, 31.01it/s]"
     ]
    },
    {
     "name": "stdout",
     "output_type": "stream",
     "text": [
      "\n",
      "image 1/1 /home/afalcao/doc/cursos/mo434/lectures-notebooks/images/object-detection/parasites/images/train/000883.png: 640x640 1 parasites, 6.8ms\n",
      "Speed: 1.7ms preprocess, 6.8ms inference, 1.0ms postprocess per image at shape (1, 3, 640, 640)\n",
      "\n",
      "image 1/1 /home/afalcao/doc/cursos/mo434/lectures-notebooks/images/object-detection/parasites/images/train/001126.png: 640x640 (no detections), 6.8ms\n",
      "Speed: 1.7ms preprocess, 6.8ms inference, 0.4ms postprocess per image at shape (1, 3, 640, 640)\n",
      "\n",
      "image 1/1 /home/afalcao/doc/cursos/mo434/lectures-notebooks/images/object-detection/parasites/images/train/000680.png: 640x640 (no detections), 6.5ms\n",
      "Speed: 2.0ms preprocess, 6.5ms inference, 0.4ms postprocess per image at shape (1, 3, 640, 640)\n",
      "\n",
      "image 1/1 /home/afalcao/doc/cursos/mo434/lectures-notebooks/images/object-detection/parasites/images/train/000907.png: 640x640 1 parasites, 8.9ms\n",
      "Speed: 3.8ms preprocess, 8.9ms inference, 0.9ms postprocess per image at shape (1, 3, 640, 640)\n"
     ]
    },
    {
     "name": "stderr",
     "output_type": "stream",
     "text": [
      "Visualizing train set:  30%|█████▎            | 217/731 [00:07<00:16, 30.97it/s]"
     ]
    },
    {
     "name": "stdout",
     "output_type": "stream",
     "text": [
      "\n",
      "image 1/1 /home/afalcao/doc/cursos/mo434/lectures-notebooks/images/object-detection/parasites/images/train/000348.png: 640x640 1 parasites, 6.6ms\n",
      "Speed: 2.2ms preprocess, 6.6ms inference, 1.0ms postprocess per image at shape (1, 3, 640, 640)\n",
      "\n",
      "image 1/1 /home/afalcao/doc/cursos/mo434/lectures-notebooks/images/object-detection/parasites/images/train/000666.png: 640x640 (no detections), 7.3ms\n",
      "Speed: 2.6ms preprocess, 7.3ms inference, 0.6ms postprocess per image at shape (1, 3, 640, 640)\n",
      "\n",
      "image 1/1 /home/afalcao/doc/cursos/mo434/lectures-notebooks/images/object-detection/parasites/images/train/000265.png: 640x640 (no detections), 7.7ms\n",
      "Speed: 3.7ms preprocess, 7.7ms inference, 0.4ms postprocess per image at shape (1, 3, 640, 640)\n",
      "\n",
      "image 1/1 /home/afalcao/doc/cursos/mo434/lectures-notebooks/images/object-detection/parasites/images/train/000495.png: 640x640 2 parasitess, 8.0ms\n",
      "Speed: 2.3ms preprocess, 8.0ms inference, 0.9ms postprocess per image at shape (1, 3, 640, 640)\n"
     ]
    },
    {
     "name": "stderr",
     "output_type": "stream",
     "text": [
      "Visualizing train set:  30%|█████▍            | 221/731 [00:07<00:16, 30.74it/s]"
     ]
    },
    {
     "name": "stdout",
     "output_type": "stream",
     "text": [
      "\n",
      "image 1/1 /home/afalcao/doc/cursos/mo434/lectures-notebooks/images/object-detection/parasites/images/train/000896.png: 640x640 (no detections), 6.8ms\n",
      "Speed: 2.3ms preprocess, 6.8ms inference, 0.5ms postprocess per image at shape (1, 3, 640, 640)\n",
      "\n",
      "image 1/1 /home/afalcao/doc/cursos/mo434/lectures-notebooks/images/object-detection/parasites/images/train/000670.png: 640x640 (no detections), 6.7ms\n",
      "Speed: 2.6ms preprocess, 6.7ms inference, 0.5ms postprocess per image at shape (1, 3, 640, 640)\n",
      "\n",
      "image 1/1 /home/afalcao/doc/cursos/mo434/lectures-notebooks/images/object-detection/parasites/images/train/000759.png: 640x640 (no detections), 6.7ms\n",
      "Speed: 1.9ms preprocess, 6.7ms inference, 0.8ms postprocess per image at shape (1, 3, 640, 640)\n",
      "\n",
      "image 1/1 /home/afalcao/doc/cursos/mo434/lectures-notebooks/images/object-detection/parasites/images/train/000013.png: 640x640 1 parasites, 7.0ms\n",
      "Speed: 1.8ms preprocess, 7.0ms inference, 1.0ms postprocess per image at shape (1, 3, 640, 640)\n"
     ]
    },
    {
     "name": "stderr",
     "output_type": "stream",
     "text": [
      "Visualizing train set:  31%|█████▌            | 225/731 [00:07<00:16, 30.44it/s]"
     ]
    },
    {
     "name": "stdout",
     "output_type": "stream",
     "text": [
      "\n",
      "image 1/1 /home/afalcao/doc/cursos/mo434/lectures-notebooks/images/object-detection/parasites/images/train/000237.png: 640x640 1 parasites, 6.6ms\n",
      "Speed: 1.9ms preprocess, 6.6ms inference, 0.9ms postprocess per image at shape (1, 3, 640, 640)\n",
      "\n",
      "image 1/1 /home/afalcao/doc/cursos/mo434/lectures-notebooks/images/object-detection/parasites/images/train/000164.png: 640x640 1 parasites, 6.6ms\n",
      "Speed: 1.9ms preprocess, 6.6ms inference, 1.1ms postprocess per image at shape (1, 3, 640, 640)\n",
      "\n",
      "image 1/1 /home/afalcao/doc/cursos/mo434/lectures-notebooks/images/object-detection/parasites/images/train/000468.png: 640x640 1 parasites, 8.0ms\n",
      "Speed: 2.9ms preprocess, 8.0ms inference, 1.0ms postprocess per image at shape (1, 3, 640, 640)\n",
      "\n",
      "image 1/1 /home/afalcao/doc/cursos/mo434/lectures-notebooks/images/object-detection/parasites/images/train/001094.png: 640x640 (no detections), 7.5ms\n",
      "Speed: 2.0ms preprocess, 7.5ms inference, 0.7ms postprocess per image at shape (1, 3, 640, 640)\n"
     ]
    },
    {
     "name": "stderr",
     "output_type": "stream",
     "text": [
      "Visualizing train set:  31%|█████▋            | 229/731 [00:07<00:19, 26.03it/s]"
     ]
    },
    {
     "name": "stdout",
     "output_type": "stream",
     "text": [
      "\n",
      "image 1/1 /home/afalcao/doc/cursos/mo434/lectures-notebooks/images/object-detection/parasites/images/train/000754.png: 640x640 (no detections), 8.3ms\n",
      "Speed: 1.9ms preprocess, 8.3ms inference, 0.5ms postprocess per image at shape (1, 3, 640, 640)\n",
      "\n",
      "image 1/1 /home/afalcao/doc/cursos/mo434/lectures-notebooks/images/object-detection/parasites/images/train/000869.png: 640x640 1 parasites, 8.5ms\n",
      "Speed: 1.9ms preprocess, 8.5ms inference, 1.1ms postprocess per image at shape (1, 3, 640, 640)\n",
      "\n",
      "image 1/1 /home/afalcao/doc/cursos/mo434/lectures-notebooks/images/object-detection/parasites/images/train/000140.png: 640x640 1 parasites, 7.4ms\n",
      "Speed: 2.1ms preprocess, 7.4ms inference, 1.6ms postprocess per image at shape (1, 3, 640, 640)\n"
     ]
    },
    {
     "name": "stderr",
     "output_type": "stream",
     "text": [
      "Visualizing train set:  32%|█████▋            | 232/731 [00:07<00:19, 26.18it/s]"
     ]
    },
    {
     "name": "stdout",
     "output_type": "stream",
     "text": [
      "\n",
      "image 1/1 /home/afalcao/doc/cursos/mo434/lectures-notebooks/images/object-detection/parasites/images/train/000875.png: 640x640 1 parasites, 8.7ms\n",
      "Speed: 2.3ms preprocess, 8.7ms inference, 1.7ms postprocess per image at shape (1, 3, 640, 640)\n",
      "\n",
      "image 1/1 /home/afalcao/doc/cursos/mo434/lectures-notebooks/images/object-detection/parasites/images/train/000200.png: 640x640 1 parasites, 8.4ms\n",
      "Speed: 3.1ms preprocess, 8.4ms inference, 1.0ms postprocess per image at shape (1, 3, 640, 640)\n",
      "\n",
      "image 1/1 /home/afalcao/doc/cursos/mo434/lectures-notebooks/images/object-detection/parasites/images/train/000633.png: 640x640 1 parasites, 8.5ms\n",
      "Speed: 2.1ms preprocess, 8.5ms inference, 1.1ms postprocess per image at shape (1, 3, 640, 640)\n"
     ]
    },
    {
     "name": "stderr",
     "output_type": "stream",
     "text": [
      "Visualizing train set:  32%|█████▊            | 235/731 [00:07<00:19, 25.67it/s]"
     ]
    },
    {
     "name": "stdout",
     "output_type": "stream",
     "text": [
      "\n",
      "image 1/1 /home/afalcao/doc/cursos/mo434/lectures-notebooks/images/object-detection/parasites/images/train/000428.png: 640x640 1 parasites, 8.1ms\n",
      "Speed: 1.9ms preprocess, 8.1ms inference, 1.3ms postprocess per image at shape (1, 3, 640, 640)\n",
      "\n",
      "image 1/1 /home/afalcao/doc/cursos/mo434/lectures-notebooks/images/object-detection/parasites/images/train/000511.png: 640x640 1 parasites, 7.9ms\n",
      "Speed: 2.6ms preprocess, 7.9ms inference, 1.1ms postprocess per image at shape (1, 3, 640, 640)\n",
      "\n",
      "image 1/1 /home/afalcao/doc/cursos/mo434/lectures-notebooks/images/object-detection/parasites/images/train/000059.png: 640x640 (no detections), 8.3ms\n",
      "Speed: 2.3ms preprocess, 8.3ms inference, 0.5ms postprocess per image at shape (1, 3, 640, 640)\n"
     ]
    },
    {
     "name": "stderr",
     "output_type": "stream",
     "text": [
      "Visualizing train set:  33%|█████▊            | 238/731 [00:08<00:18, 26.22it/s]"
     ]
    },
    {
     "name": "stdout",
     "output_type": "stream",
     "text": [
      "\n",
      "image 1/1 /home/afalcao/doc/cursos/mo434/lectures-notebooks/images/object-detection/parasites/images/train/000977.png: 640x640 2 parasitess, 8.0ms\n",
      "Speed: 2.1ms preprocess, 8.0ms inference, 1.3ms postprocess per image at shape (1, 3, 640, 640)\n",
      "\n",
      "image 1/1 /home/afalcao/doc/cursos/mo434/lectures-notebooks/images/object-detection/parasites/images/train/000362.png: 640x640 1 parasites, 8.8ms\n",
      "Speed: 1.8ms preprocess, 8.8ms inference, 1.4ms postprocess per image at shape (1, 3, 640, 640)\n",
      "\n",
      "image 1/1 /home/afalcao/doc/cursos/mo434/lectures-notebooks/images/object-detection/parasites/images/train/000838.png: 640x640 (no detections), 6.9ms\n",
      "Speed: 1.7ms preprocess, 6.9ms inference, 0.5ms postprocess per image at shape (1, 3, 640, 640)\n"
     ]
    },
    {
     "name": "stderr",
     "output_type": "stream",
     "text": [
      "Visualizing train set:  33%|█████▉            | 241/731 [00:08<00:18, 26.97it/s]"
     ]
    },
    {
     "name": "stdout",
     "output_type": "stream",
     "text": [
      "\n",
      "image 1/1 /home/afalcao/doc/cursos/mo434/lectures-notebooks/images/object-detection/parasites/images/train/001132.png: 640x640 (no detections), 8.8ms\n",
      "Speed: 1.7ms preprocess, 8.8ms inference, 0.6ms postprocess per image at shape (1, 3, 640, 640)\n",
      "\n",
      "image 1/1 /home/afalcao/doc/cursos/mo434/lectures-notebooks/images/object-detection/parasites/images/train/000810.png: 640x640 (no detections), 7.0ms\n",
      "Speed: 1.8ms preprocess, 7.0ms inference, 0.7ms postprocess per image at shape (1, 3, 640, 640)\n",
      "\n",
      "image 1/1 /home/afalcao/doc/cursos/mo434/lectures-notebooks/images/object-detection/parasites/images/train/000134.png: 640x640 1 parasites, 7.1ms\n",
      "Speed: 1.9ms preprocess, 7.1ms inference, 1.4ms postprocess per image at shape (1, 3, 640, 640)\n",
      "\n",
      "image 1/1 /home/afalcao/doc/cursos/mo434/lectures-notebooks/images/object-detection/parasites/images/train/001032.png: 640x640 (no detections), 6.7ms\n",
      "Speed: 1.8ms preprocess, 6.7ms inference, 0.6ms postprocess per image at shape (1, 3, 640, 640)\n"
     ]
    },
    {
     "name": "stderr",
     "output_type": "stream",
     "text": [
      "Visualizing train set:  34%|██████            | 245/731 [00:08<00:17, 28.32it/s]"
     ]
    },
    {
     "name": "stdout",
     "output_type": "stream",
     "text": [
      "\n",
      "image 1/1 /home/afalcao/doc/cursos/mo434/lectures-notebooks/images/object-detection/parasites/images/train/001096.png: 640x640 (no detections), 6.6ms\n",
      "Speed: 1.8ms preprocess, 6.6ms inference, 0.5ms postprocess per image at shape (1, 3, 640, 640)\n",
      "\n",
      "image 1/1 /home/afalcao/doc/cursos/mo434/lectures-notebooks/images/object-detection/parasites/images/train/000811.png: 640x640 1 parasites, 6.7ms\n",
      "Speed: 2.7ms preprocess, 6.7ms inference, 0.9ms postprocess per image at shape (1, 3, 640, 640)\n",
      "\n",
      "image 1/1 /home/afalcao/doc/cursos/mo434/lectures-notebooks/images/object-detection/parasites/images/train/000533.png: 640x640 1 parasites, 6.9ms\n",
      "Speed: 2.8ms preprocess, 6.9ms inference, 1.1ms postprocess per image at shape (1, 3, 640, 640)\n",
      "\n",
      "image 1/1 /home/afalcao/doc/cursos/mo434/lectures-notebooks/images/object-detection/parasites/images/train/000218.png: 640x640 2 parasitess, 7.3ms\n",
      "Speed: 1.8ms preprocess, 7.3ms inference, 0.9ms postprocess per image at shape (1, 3, 640, 640)\n"
     ]
    },
    {
     "name": "stderr",
     "output_type": "stream",
     "text": [
      "Visualizing train set:  34%|██████▏           | 249/731 [00:08<00:16, 29.12it/s]"
     ]
    },
    {
     "name": "stdout",
     "output_type": "stream",
     "text": [
      "\n",
      "image 1/1 /home/afalcao/doc/cursos/mo434/lectures-notebooks/images/object-detection/parasites/images/train/000341.png: 640x640 (no detections), 7.0ms\n",
      "Speed: 1.7ms preprocess, 7.0ms inference, 0.4ms postprocess per image at shape (1, 3, 640, 640)\n",
      "\n",
      "image 1/1 /home/afalcao/doc/cursos/mo434/lectures-notebooks/images/object-detection/parasites/images/train/001028.png: 640x640 (no detections), 6.7ms\n",
      "Speed: 1.7ms preprocess, 6.7ms inference, 0.5ms postprocess per image at shape (1, 3, 640, 640)\n",
      "\n",
      "image 1/1 /home/afalcao/doc/cursos/mo434/lectures-notebooks/images/object-detection/parasites/images/train/000636.png: 640x640 1 parasites, 47.1ms\n",
      "Speed: 10.1ms preprocess, 47.1ms inference, 6.4ms postprocess per image at shape (1, 3, 640, 640)\n"
     ]
    },
    {
     "name": "stderr",
     "output_type": "stream",
     "text": [
      "Visualizing train set:  34%|██████▏           | 252/731 [00:08<00:28, 17.10it/s]"
     ]
    },
    {
     "name": "stdout",
     "output_type": "stream",
     "text": [
      "\n",
      "image 1/1 /home/afalcao/doc/cursos/mo434/lectures-notebooks/images/object-detection/parasites/images/train/000652.png: 640x640 1 parasites, 53.8ms\n",
      "Speed: 10.2ms preprocess, 53.8ms inference, 7.2ms postprocess per image at shape (1, 3, 640, 640)\n",
      "\n",
      "image 1/1 /home/afalcao/doc/cursos/mo434/lectures-notebooks/images/object-detection/parasites/images/train/000209.png: 640x640 1 parasites, 10.3ms\n",
      "Speed: 3.1ms preprocess, 10.3ms inference, 1.5ms postprocess per image at shape (1, 3, 640, 640)\n",
      "\n",
      "image 1/1 /home/afalcao/doc/cursos/mo434/lectures-notebooks/images/object-detection/parasites/images/train/001115.png: 640x640 1 parasites, 16.9ms\n",
      "Speed: 3.1ms preprocess, 16.9ms inference, 2.3ms postprocess per image at shape (1, 3, 640, 640)\n"
     ]
    },
    {
     "name": "stderr",
     "output_type": "stream",
     "text": [
      "Visualizing train set:  35%|██████▎           | 255/731 [00:09<00:32, 14.59it/s]"
     ]
    },
    {
     "name": "stdout",
     "output_type": "stream",
     "text": [
      "\n",
      "image 1/1 /home/afalcao/doc/cursos/mo434/lectures-notebooks/images/object-detection/parasites/images/train/000380.png: 640x640 (no detections), 19.3ms\n",
      "Speed: 3.3ms preprocess, 19.3ms inference, 1.0ms postprocess per image at shape (1, 3, 640, 640)\n",
      "\n",
      "image 1/1 /home/afalcao/doc/cursos/mo434/lectures-notebooks/images/object-detection/parasites/images/train/000386.png: 640x640 (no detections), 39.5ms\n",
      "Speed: 7.4ms preprocess, 39.5ms inference, 3.2ms postprocess per image at shape (1, 3, 640, 640)\n"
     ]
    },
    {
     "name": "stderr",
     "output_type": "stream",
     "text": [
      "Visualizing train set:  35%|██████▎           | 257/731 [00:09<00:39, 12.12it/s]"
     ]
    },
    {
     "name": "stdout",
     "output_type": "stream",
     "text": [
      "\n",
      "image 1/1 /home/afalcao/doc/cursos/mo434/lectures-notebooks/images/object-detection/parasites/images/train/000387.png: 640x640 1 parasites, 10.9ms\n",
      "Speed: 4.0ms preprocess, 10.9ms inference, 1.4ms postprocess per image at shape (1, 3, 640, 640)\n",
      "\n",
      "image 1/1 /home/afalcao/doc/cursos/mo434/lectures-notebooks/images/object-detection/parasites/images/train/001166.png: 640x640 (no detections), 11.2ms\n",
      "Speed: 2.3ms preprocess, 11.2ms inference, 0.8ms postprocess per image at shape (1, 3, 640, 640)\n"
     ]
    },
    {
     "name": "stderr",
     "output_type": "stream",
     "text": [
      "Visualizing train set:  35%|██████▍           | 259/731 [00:09<00:35, 13.23it/s]"
     ]
    },
    {
     "name": "stdout",
     "output_type": "stream",
     "text": [
      "\n",
      "image 1/1 /home/afalcao/doc/cursos/mo434/lectures-notebooks/images/object-detection/parasites/images/train/000282.png: 640x640 (no detections), 12.2ms\n",
      "Speed: 2.6ms preprocess, 12.2ms inference, 0.9ms postprocess per image at shape (1, 3, 640, 640)\n",
      "\n",
      "image 1/1 /home/afalcao/doc/cursos/mo434/lectures-notebooks/images/object-detection/parasites/images/train/000919.png: 640x640 1 parasites, 20.3ms\n",
      "Speed: 6.2ms preprocess, 20.3ms inference, 3.3ms postprocess per image at shape (1, 3, 640, 640)\n"
     ]
    },
    {
     "name": "stderr",
     "output_type": "stream",
     "text": [
      "Visualizing train set:  36%|██████▍           | 261/731 [00:09<00:35, 13.12it/s]"
     ]
    },
    {
     "name": "stdout",
     "output_type": "stream",
     "text": [
      "\n",
      "image 1/1 /home/afalcao/doc/cursos/mo434/lectures-notebooks/images/object-detection/parasites/images/train/000691.png: 640x640 1 parasites, 21.1ms\n",
      "Speed: 4.1ms preprocess, 21.1ms inference, 3.8ms postprocess per image at shape (1, 3, 640, 640)\n",
      "\n",
      "image 1/1 /home/afalcao/doc/cursos/mo434/lectures-notebooks/images/object-detection/parasites/images/train/000434.png: 640x640 (no detections), 27.2ms\n",
      "Speed: 4.2ms preprocess, 27.2ms inference, 1.3ms postprocess per image at shape (1, 3, 640, 640)\n"
     ]
    },
    {
     "name": "stderr",
     "output_type": "stream",
     "text": [
      "Visualizing train set:  36%|██████▍           | 263/731 [00:09<00:37, 12.34it/s]"
     ]
    },
    {
     "name": "stdout",
     "output_type": "stream",
     "text": [
      "\n",
      "image 1/1 /home/afalcao/doc/cursos/mo434/lectures-notebooks/images/object-detection/parasites/images/train/000385.png: 640x640 1 parasites, 20.5ms\n",
      "Speed: 5.2ms preprocess, 20.5ms inference, 3.2ms postprocess per image at shape (1, 3, 640, 640)\n",
      "\n",
      "image 1/1 /home/afalcao/doc/cursos/mo434/lectures-notebooks/images/object-detection/parasites/images/train/000519.png: 640x640 1 parasites, 22.4ms\n",
      "Speed: 6.1ms preprocess, 22.4ms inference, 3.3ms postprocess per image at shape (1, 3, 640, 640)\n"
     ]
    },
    {
     "name": "stderr",
     "output_type": "stream",
     "text": [
      "Visualizing train set:  36%|██████▌           | 265/731 [00:10<00:40, 11.61it/s]"
     ]
    },
    {
     "name": "stdout",
     "output_type": "stream",
     "text": [
      "\n",
      "image 1/1 /home/afalcao/doc/cursos/mo434/lectures-notebooks/images/object-detection/parasites/images/train/001180.png: 640x640 (no detections), 17.5ms\n",
      "Speed: 4.1ms preprocess, 17.5ms inference, 1.1ms postprocess per image at shape (1, 3, 640, 640)\n",
      "\n",
      "image 1/1 /home/afalcao/doc/cursos/mo434/lectures-notebooks/images/object-detection/parasites/images/train/000178.png: 640x640 (no detections), 20.1ms\n",
      "Speed: 4.5ms preprocess, 20.1ms inference, 1.2ms postprocess per image at shape (1, 3, 640, 640)\n"
     ]
    },
    {
     "name": "stderr",
     "output_type": "stream",
     "text": [
      "Visualizing train set:  37%|██████▌           | 267/731 [00:10<00:39, 11.76it/s]"
     ]
    },
    {
     "name": "stdout",
     "output_type": "stream",
     "text": [
      "\n",
      "image 1/1 /home/afalcao/doc/cursos/mo434/lectures-notebooks/images/object-detection/parasites/images/train/000293.png: 640x640 (no detections), 22.9ms\n",
      "Speed: 4.0ms preprocess, 22.9ms inference, 0.9ms postprocess per image at shape (1, 3, 640, 640)\n",
      "\n",
      "image 1/1 /home/afalcao/doc/cursos/mo434/lectures-notebooks/images/object-detection/parasites/images/train/000547.png: 640x640 2 parasitess, 10.5ms\n",
      "Speed: 3.0ms preprocess, 10.5ms inference, 1.3ms postprocess per image at shape (1, 3, 640, 640)\n"
     ]
    },
    {
     "name": "stderr",
     "output_type": "stream",
     "text": [
      "Visualizing train set:  37%|██████▌           | 269/731 [00:10<00:36, 12.72it/s]"
     ]
    },
    {
     "name": "stdout",
     "output_type": "stream",
     "text": [
      "\n",
      "image 1/1 /home/afalcao/doc/cursos/mo434/lectures-notebooks/images/object-detection/parasites/images/train/000271.png: 640x640 (no detections), 11.3ms\n",
      "Speed: 2.7ms preprocess, 11.3ms inference, 0.6ms postprocess per image at shape (1, 3, 640, 640)\n",
      "\n",
      "image 1/1 /home/afalcao/doc/cursos/mo434/lectures-notebooks/images/object-detection/parasites/images/train/000319.png: 640x640 (no detections), 9.9ms\n",
      "Speed: 2.7ms preprocess, 9.9ms inference, 0.6ms postprocess per image at shape (1, 3, 640, 640)\n",
      "\n",
      "image 1/1 /home/afalcao/doc/cursos/mo434/lectures-notebooks/images/object-detection/parasites/images/train/000183.png: 640x640 (no detections), 15.4ms\n",
      "Speed: 4.0ms preprocess, 15.4ms inference, 0.9ms postprocess per image at shape (1, 3, 640, 640)\n"
     ]
    },
    {
     "name": "stderr",
     "output_type": "stream",
     "text": [
      "Visualizing train set:  37%|██████▋           | 272/731 [00:10<00:31, 14.68it/s]"
     ]
    },
    {
     "name": "stdout",
     "output_type": "stream",
     "text": [
      "\n",
      "image 1/1 /home/afalcao/doc/cursos/mo434/lectures-notebooks/images/object-detection/parasites/images/train/001035.png: 640x640 2 parasitess, 11.5ms\n",
      "Speed: 3.0ms preprocess, 11.5ms inference, 1.9ms postprocess per image at shape (1, 3, 640, 640)\n",
      "\n",
      "image 1/1 /home/afalcao/doc/cursos/mo434/lectures-notebooks/images/object-detection/parasites/images/train/000595.png: 640x640 1 parasites, 10.3ms\n",
      "Speed: 3.1ms preprocess, 10.3ms inference, 1.3ms postprocess per image at shape (1, 3, 640, 640)\n",
      "\n",
      "image 1/1 /home/afalcao/doc/cursos/mo434/lectures-notebooks/images/object-detection/parasites/images/train/000940.png: 640x640 (no detections), 6.9ms\n",
      "Speed: 3.2ms preprocess, 6.9ms inference, 0.7ms postprocess per image at shape (1, 3, 640, 640)\n"
     ]
    },
    {
     "name": "stderr",
     "output_type": "stream",
     "text": [
      "Visualizing train set:  38%|██████▊           | 275/731 [00:10<00:27, 16.82it/s]"
     ]
    },
    {
     "name": "stdout",
     "output_type": "stream",
     "text": [
      "\n",
      "image 1/1 /home/afalcao/doc/cursos/mo434/lectures-notebooks/images/object-detection/parasites/images/train/000777.png: 640x640 1 parasites, 7.9ms\n",
      "Speed: 1.8ms preprocess, 7.9ms inference, 1.7ms postprocess per image at shape (1, 3, 640, 640)\n",
      "\n",
      "image 1/1 /home/afalcao/doc/cursos/mo434/lectures-notebooks/images/object-detection/parasites/images/train/000534.png: 640x640 (no detections), 19.6ms\n",
      "Speed: 4.4ms preprocess, 19.6ms inference, 1.3ms postprocess per image at shape (1, 3, 640, 640)\n"
     ]
    },
    {
     "name": "stderr",
     "output_type": "stream",
     "text": [
      "Visualizing train set:  38%|██████▊           | 277/731 [00:10<00:26, 17.10it/s]"
     ]
    },
    {
     "name": "stdout",
     "output_type": "stream",
     "text": [
      "\n",
      "image 1/1 /home/afalcao/doc/cursos/mo434/lectures-notebooks/images/object-detection/parasites/images/train/001097.png: 640x640 1 parasites, 20.4ms\n",
      "Speed: 3.4ms preprocess, 20.4ms inference, 2.5ms postprocess per image at shape (1, 3, 640, 640)\n",
      "\n",
      "image 1/1 /home/afalcao/doc/cursos/mo434/lectures-notebooks/images/object-detection/parasites/images/train/000702.png: 640x640 (no detections), 20.3ms\n",
      "Speed: 3.4ms preprocess, 20.3ms inference, 1.3ms postprocess per image at shape (1, 3, 640, 640)\n"
     ]
    },
    {
     "name": "stderr",
     "output_type": "stream",
     "text": [
      "Visualizing train set:  38%|██████▊           | 279/731 [00:10<00:28, 15.72it/s]"
     ]
    },
    {
     "name": "stdout",
     "output_type": "stream",
     "text": [
      "\n",
      "image 1/1 /home/afalcao/doc/cursos/mo434/lectures-notebooks/images/object-detection/parasites/images/train/000264.png: 640x640 1 parasites, 17.4ms\n",
      "Speed: 4.0ms preprocess, 17.4ms inference, 2.6ms postprocess per image at shape (1, 3, 640, 640)\n",
      "\n",
      "image 1/1 /home/afalcao/doc/cursos/mo434/lectures-notebooks/images/object-detection/parasites/images/train/000311.png: 640x640 (no detections), 16.8ms\n",
      "Speed: 3.6ms preprocess, 16.8ms inference, 1.5ms postprocess per image at shape (1, 3, 640, 640)\n"
     ]
    },
    {
     "name": "stderr",
     "output_type": "stream",
     "text": [
      "Visualizing train set:  38%|██████▉           | 281/731 [00:11<00:29, 15.09it/s]"
     ]
    },
    {
     "name": "stdout",
     "output_type": "stream",
     "text": [
      "\n",
      "image 1/1 /home/afalcao/doc/cursos/mo434/lectures-notebooks/images/object-detection/parasites/images/train/001009.png: 640x640 1 parasites, 17.5ms\n",
      "Speed: 3.9ms preprocess, 17.5ms inference, 2.8ms postprocess per image at shape (1, 3, 640, 640)\n",
      "\n",
      "image 1/1 /home/afalcao/doc/cursos/mo434/lectures-notebooks/images/object-detection/parasites/images/train/000800.png: 640x640 (no detections), 18.4ms\n",
      "Speed: 3.4ms preprocess, 18.4ms inference, 1.4ms postprocess per image at shape (1, 3, 640, 640)\n"
     ]
    },
    {
     "name": "stderr",
     "output_type": "stream",
     "text": [
      "Visualizing train set:  39%|██████▉           | 283/731 [00:11<00:30, 14.62it/s]"
     ]
    },
    {
     "name": "stdout",
     "output_type": "stream",
     "text": [
      "\n",
      "image 1/1 /home/afalcao/doc/cursos/mo434/lectures-notebooks/images/object-detection/parasites/images/train/000016.png: 640x640 1 parasites, 21.8ms\n",
      "Speed: 3.5ms preprocess, 21.8ms inference, 3.6ms postprocess per image at shape (1, 3, 640, 640)\n",
      "\n",
      "image 1/1 /home/afalcao/doc/cursos/mo434/lectures-notebooks/images/object-detection/parasites/images/train/000493.png: 640x640 1 parasites, 17.9ms\n",
      "Speed: 5.9ms preprocess, 17.9ms inference, 2.5ms postprocess per image at shape (1, 3, 640, 640)\n"
     ]
    },
    {
     "name": "stderr",
     "output_type": "stream",
     "text": [
      "Visualizing train set:  39%|███████           | 285/731 [00:11<00:32, 13.81it/s]"
     ]
    },
    {
     "name": "stdout",
     "output_type": "stream",
     "text": [
      "\n",
      "image 1/1 /home/afalcao/doc/cursos/mo434/lectures-notebooks/images/object-detection/parasites/images/train/000023.png: 640x640 1 parasites, 11.5ms\n",
      "Speed: 2.4ms preprocess, 11.5ms inference, 2.4ms postprocess per image at shape (1, 3, 640, 640)\n",
      "\n",
      "image 1/1 /home/afalcao/doc/cursos/mo434/lectures-notebooks/images/object-detection/parasites/images/train/000911.png: 640x640 1 parasites, 8.0ms\n",
      "Speed: 1.8ms preprocess, 8.0ms inference, 1.1ms postprocess per image at shape (1, 3, 640, 640)\n",
      "\n",
      "image 1/1 /home/afalcao/doc/cursos/mo434/lectures-notebooks/images/object-detection/parasites/images/train/000088.png: 640x640 1 parasites, 9.5ms\n",
      "Speed: 1.8ms preprocess, 9.5ms inference, 1.0ms postprocess per image at shape (1, 3, 640, 640)\n"
     ]
    },
    {
     "name": "stderr",
     "output_type": "stream",
     "text": [
      "Visualizing train set:  39%|███████           | 288/731 [00:11<00:26, 16.66it/s]"
     ]
    },
    {
     "name": "stdout",
     "output_type": "stream",
     "text": [
      "\n",
      "image 1/1 /home/afalcao/doc/cursos/mo434/lectures-notebooks/images/object-detection/parasites/images/train/001183.png: 640x640 2 parasitess, 7.6ms\n",
      "Speed: 3.0ms preprocess, 7.6ms inference, 1.1ms postprocess per image at shape (1, 3, 640, 640)\n",
      "\n",
      "image 1/1 /home/afalcao/doc/cursos/mo434/lectures-notebooks/images/object-detection/parasites/images/train/000063.png: 640x640 (no detections), 7.1ms\n",
      "Speed: 1.9ms preprocess, 7.1ms inference, 0.5ms postprocess per image at shape (1, 3, 640, 640)\n",
      "\n",
      "image 1/1 /home/afalcao/doc/cursos/mo434/lectures-notebooks/images/object-detection/parasites/images/train/000337.png: 640x640 (no detections), 7.4ms\n",
      "Speed: 1.9ms preprocess, 7.4ms inference, 0.5ms postprocess per image at shape (1, 3, 640, 640)\n"
     ]
    },
    {
     "name": "stderr",
     "output_type": "stream",
     "text": [
      "Visualizing train set:  40%|███████▏          | 291/731 [00:11<00:22, 19.51it/s]"
     ]
    },
    {
     "name": "stdout",
     "output_type": "stream",
     "text": [
      "\n",
      "image 1/1 /home/afalcao/doc/cursos/mo434/lectures-notebooks/images/object-detection/parasites/images/train/000233.png: 640x640 (no detections), 7.5ms\n",
      "Speed: 1.8ms preprocess, 7.5ms inference, 0.5ms postprocess per image at shape (1, 3, 640, 640)\n",
      "\n",
      "image 1/1 /home/afalcao/doc/cursos/mo434/lectures-notebooks/images/object-detection/parasites/images/train/000808.png: 640x640 (no detections), 8.0ms\n",
      "Speed: 1.9ms preprocess, 8.0ms inference, 1.0ms postprocess per image at shape (1, 3, 640, 640)\n",
      "\n",
      "image 1/1 /home/afalcao/doc/cursos/mo434/lectures-notebooks/images/object-detection/parasites/images/train/000757.png: 640x640 1 parasites, 7.4ms\n",
      "Speed: 1.7ms preprocess, 7.4ms inference, 1.7ms postprocess per image at shape (1, 3, 640, 640)\n"
     ]
    },
    {
     "name": "stderr",
     "output_type": "stream",
     "text": [
      "Visualizing train set:  40%|███████▏          | 294/731 [00:11<00:19, 21.95it/s]"
     ]
    },
    {
     "name": "stdout",
     "output_type": "stream",
     "text": [
      "\n",
      "image 1/1 /home/afalcao/doc/cursos/mo434/lectures-notebooks/images/object-detection/parasites/images/train/000692.png: 640x640 (no detections), 7.7ms\n",
      "Speed: 1.7ms preprocess, 7.7ms inference, 0.4ms postprocess per image at shape (1, 3, 640, 640)\n",
      "\n",
      "image 1/1 /home/afalcao/doc/cursos/mo434/lectures-notebooks/images/object-detection/parasites/images/train/001152.png: 640x640 (no detections), 6.6ms\n",
      "Speed: 1.8ms preprocess, 6.6ms inference, 0.5ms postprocess per image at shape (1, 3, 640, 640)\n",
      "\n",
      "image 1/1 /home/afalcao/doc/cursos/mo434/lectures-notebooks/images/object-detection/parasites/images/train/000340.png: 640x640 1 parasites, 6.5ms\n",
      "Speed: 1.8ms preprocess, 6.5ms inference, 1.3ms postprocess per image at shape (1, 3, 640, 640)\n",
      "\n",
      "image 1/1 /home/afalcao/doc/cursos/mo434/lectures-notebooks/images/object-detection/parasites/images/train/000984.png: 640x640 (no detections), 6.8ms\n",
      "Speed: 2.0ms preprocess, 6.8ms inference, 0.4ms postprocess per image at shape (1, 3, 640, 640)\n"
     ]
    },
    {
     "name": "stderr",
     "output_type": "stream",
     "text": [
      "Visualizing train set:  41%|███████▎          | 298/731 [00:11<00:17, 25.15it/s]"
     ]
    },
    {
     "name": "stdout",
     "output_type": "stream",
     "text": [
      "\n",
      "image 1/1 /home/afalcao/doc/cursos/mo434/lectures-notebooks/images/object-detection/parasites/images/train/001174.png: 640x640 1 parasites, 8.1ms\n",
      "Speed: 1.7ms preprocess, 8.1ms inference, 0.9ms postprocess per image at shape (1, 3, 640, 640)\n",
      "\n",
      "image 1/1 /home/afalcao/doc/cursos/mo434/lectures-notebooks/images/object-detection/parasites/images/train/000781.png: 640x640 1 parasites, 7.7ms\n",
      "Speed: 2.3ms preprocess, 7.7ms inference, 0.9ms postprocess per image at shape (1, 3, 640, 640)\n",
      "\n",
      "image 1/1 /home/afalcao/doc/cursos/mo434/lectures-notebooks/images/object-detection/parasites/images/train/001049.png: 640x640 1 parasites, 7.8ms\n",
      "Speed: 2.8ms preprocess, 7.8ms inference, 1.3ms postprocess per image at shape (1, 3, 640, 640)\n"
     ]
    },
    {
     "name": "stderr",
     "output_type": "stream",
     "text": [
      "Visualizing train set:  41%|███████▍          | 301/731 [00:11<00:16, 26.04it/s]"
     ]
    },
    {
     "name": "stdout",
     "output_type": "stream",
     "text": [
      "\n",
      "image 1/1 /home/afalcao/doc/cursos/mo434/lectures-notebooks/images/object-detection/parasites/images/train/000718.png: 640x640 (no detections), 7.6ms\n",
      "Speed: 1.9ms preprocess, 7.6ms inference, 0.4ms postprocess per image at shape (1, 3, 640, 640)\n",
      "\n",
      "image 1/1 /home/afalcao/doc/cursos/mo434/lectures-notebooks/images/object-detection/parasites/images/train/000219.png: 640x640 (no detections), 7.3ms\n",
      "Speed: 1.8ms preprocess, 7.3ms inference, 0.5ms postprocess per image at shape (1, 3, 640, 640)\n",
      "\n",
      "image 1/1 /home/afalcao/doc/cursos/mo434/lectures-notebooks/images/object-detection/parasites/images/train/000446.png: 640x640 (no detections), 7.7ms\n",
      "Speed: 1.9ms preprocess, 7.7ms inference, 1.0ms postprocess per image at shape (1, 3, 640, 640)\n",
      "\n",
      "image 1/1 /home/afalcao/doc/cursos/mo434/lectures-notebooks/images/object-detection/parasites/images/train/000987.png: 640x640 1 parasites, 8.5ms\n",
      "Speed: 2.8ms preprocess, 8.5ms inference, 1.2ms postprocess per image at shape (1, 3, 640, 640)\n"
     ]
    },
    {
     "name": "stderr",
     "output_type": "stream",
     "text": [
      "Visualizing train set:  42%|███████▌          | 305/731 [00:12<00:15, 27.24it/s]"
     ]
    },
    {
     "name": "stdout",
     "output_type": "stream",
     "text": [
      "\n",
      "image 1/1 /home/afalcao/doc/cursos/mo434/lectures-notebooks/images/object-detection/parasites/images/train/000802.png: 640x640 (no detections), 8.2ms\n",
      "Speed: 1.9ms preprocess, 8.2ms inference, 0.5ms postprocess per image at shape (1, 3, 640, 640)\n",
      "\n",
      "image 1/1 /home/afalcao/doc/cursos/mo434/lectures-notebooks/images/object-detection/parasites/images/train/000477.png: 640x640 1 parasites, 8.8ms\n",
      "Speed: 1.8ms preprocess, 8.8ms inference, 2.3ms postprocess per image at shape (1, 3, 640, 640)\n",
      "\n",
      "image 1/1 /home/afalcao/doc/cursos/mo434/lectures-notebooks/images/object-detection/parasites/images/train/000187.png: 640x640 (no detections), 8.5ms\n",
      "Speed: 1.8ms preprocess, 8.5ms inference, 0.8ms postprocess per image at shape (1, 3, 640, 640)\n"
     ]
    },
    {
     "name": "stderr",
     "output_type": "stream",
     "text": [
      "Visualizing train set:  42%|███████▌          | 308/731 [00:12<00:15, 27.42it/s]"
     ]
    },
    {
     "name": "stdout",
     "output_type": "stream",
     "text": [
      "\n",
      "image 1/1 /home/afalcao/doc/cursos/mo434/lectures-notebooks/images/object-detection/parasites/images/train/000724.png: 640x640 (no detections), 8.6ms\n",
      "Speed: 1.9ms preprocess, 8.6ms inference, 0.6ms postprocess per image at shape (1, 3, 640, 640)\n",
      "\n",
      "image 1/1 /home/afalcao/doc/cursos/mo434/lectures-notebooks/images/object-detection/parasites/images/train/000270.png: 640x640 1 parasites, 7.3ms\n",
      "Speed: 1.8ms preprocess, 7.3ms inference, 1.1ms postprocess per image at shape (1, 3, 640, 640)\n",
      "\n",
      "image 1/1 /home/afalcao/doc/cursos/mo434/lectures-notebooks/images/object-detection/parasites/images/train/000646.png: 640x640 1 parasites, 7.9ms\n",
      "Speed: 1.8ms preprocess, 7.9ms inference, 1.1ms postprocess per image at shape (1, 3, 640, 640)\n"
     ]
    },
    {
     "name": "stderr",
     "output_type": "stream",
     "text": [
      "Visualizing train set:  43%|███████▋          | 311/731 [00:12<00:14, 28.01it/s]"
     ]
    },
    {
     "name": "stdout",
     "output_type": "stream",
     "text": [
      "\n",
      "image 1/1 /home/afalcao/doc/cursos/mo434/lectures-notebooks/images/object-detection/parasites/images/train/000345.png: 640x640 (no detections), 9.4ms\n",
      "Speed: 1.8ms preprocess, 9.4ms inference, 0.7ms postprocess per image at shape (1, 3, 640, 640)\n",
      "\n",
      "image 1/1 /home/afalcao/doc/cursos/mo434/lectures-notebooks/images/object-detection/parasites/images/train/000032.png: 640x640 1 parasites, 8.7ms\n",
      "Speed: 2.2ms preprocess, 8.7ms inference, 1.0ms postprocess per image at shape (1, 3, 640, 640)\n",
      "\n",
      "image 1/1 /home/afalcao/doc/cursos/mo434/lectures-notebooks/images/object-detection/parasites/images/train/000913.png: 640x640 1 parasites, 7.7ms\n",
      "Speed: 2.6ms preprocess, 7.7ms inference, 1.2ms postprocess per image at shape (1, 3, 640, 640)\n"
     ]
    },
    {
     "name": "stderr",
     "output_type": "stream",
     "text": [
      "Visualizing train set:  43%|███████▋          | 314/731 [00:12<00:14, 28.29it/s]"
     ]
    },
    {
     "name": "stdout",
     "output_type": "stream",
     "text": [
      "\n",
      "image 1/1 /home/afalcao/doc/cursos/mo434/lectures-notebooks/images/object-detection/parasites/images/train/000656.png: 640x640 (no detections), 8.5ms\n",
      "Speed: 3.2ms preprocess, 8.5ms inference, 0.6ms postprocess per image at shape (1, 3, 640, 640)\n",
      "\n",
      "image 1/1 /home/afalcao/doc/cursos/mo434/lectures-notebooks/images/object-detection/parasites/images/train/000358.png: 640x640 1 parasites, 8.2ms\n",
      "Speed: 3.2ms preprocess, 8.2ms inference, 1.5ms postprocess per image at shape (1, 3, 640, 640)\n",
      "\n",
      "image 1/1 /home/afalcao/doc/cursos/mo434/lectures-notebooks/images/object-detection/parasites/images/train/000638.png: 640x640 (no detections), 9.5ms\n",
      "Speed: 2.5ms preprocess, 9.5ms inference, 0.5ms postprocess per image at shape (1, 3, 640, 640)\n"
     ]
    },
    {
     "name": "stderr",
     "output_type": "stream",
     "text": [
      "Visualizing train set:  43%|███████▊          | 317/731 [00:12<00:14, 28.22it/s]"
     ]
    },
    {
     "name": "stdout",
     "output_type": "stream",
     "text": [
      "\n",
      "image 1/1 /home/afalcao/doc/cursos/mo434/lectures-notebooks/images/object-detection/parasites/images/train/000053.png: 640x640 (no detections), 7.7ms\n",
      "Speed: 2.2ms preprocess, 7.7ms inference, 1.2ms postprocess per image at shape (1, 3, 640, 640)\n",
      "\n",
      "image 1/1 /home/afalcao/doc/cursos/mo434/lectures-notebooks/images/object-detection/parasites/images/train/000537.png: 640x640 2 parasitess, 10.0ms\n",
      "Speed: 1.7ms preprocess, 10.0ms inference, 1.2ms postprocess per image at shape (1, 3, 640, 640)\n",
      "\n",
      "image 1/1 /home/afalcao/doc/cursos/mo434/lectures-notebooks/images/object-detection/parasites/images/train/000682.png: 640x640 (no detections), 8.5ms\n",
      "Speed: 2.7ms preprocess, 8.5ms inference, 0.4ms postprocess per image at shape (1, 3, 640, 640)\n"
     ]
    },
    {
     "name": "stderr",
     "output_type": "stream",
     "text": [
      "Visualizing train set:  44%|███████▉          | 320/731 [00:12<00:15, 27.23it/s]"
     ]
    },
    {
     "name": "stdout",
     "output_type": "stream",
     "text": [
      "\n",
      "image 1/1 /home/afalcao/doc/cursos/mo434/lectures-notebooks/images/object-detection/parasites/images/train/000332.png: 640x640 1 parasites, 9.6ms\n",
      "Speed: 2.5ms preprocess, 9.6ms inference, 1.0ms postprocess per image at shape (1, 3, 640, 640)\n",
      "\n",
      "image 1/1 /home/afalcao/doc/cursos/mo434/lectures-notebooks/images/object-detection/parasites/images/train/000521.png: 640x640 1 parasites, 7.7ms\n",
      "Speed: 3.3ms preprocess, 7.7ms inference, 1.2ms postprocess per image at shape (1, 3, 640, 640)\n",
      "\n",
      "image 1/1 /home/afalcao/doc/cursos/mo434/lectures-notebooks/images/object-detection/parasites/images/train/000649.png: 640x640 1 parasites, 7.6ms\n",
      "Speed: 1.8ms preprocess, 7.6ms inference, 1.2ms postprocess per image at shape (1, 3, 640, 640)\n"
     ]
    },
    {
     "name": "stderr",
     "output_type": "stream",
     "text": [
      "Visualizing train set:  44%|███████▉          | 323/731 [00:12<00:15, 26.94it/s]"
     ]
    },
    {
     "name": "stdout",
     "output_type": "stream",
     "text": [
      "\n",
      "image 1/1 /home/afalcao/doc/cursos/mo434/lectures-notebooks/images/object-detection/parasites/images/train/000632.png: 640x640 (no detections), 9.6ms\n",
      "Speed: 1.8ms preprocess, 9.6ms inference, 0.6ms postprocess per image at shape (1, 3, 640, 640)\n",
      "\n",
      "image 1/1 /home/afalcao/doc/cursos/mo434/lectures-notebooks/images/object-detection/parasites/images/train/000400.png: 640x640 (no detections), 9.9ms\n",
      "Speed: 3.1ms preprocess, 9.9ms inference, 0.5ms postprocess per image at shape (1, 3, 640, 640)\n",
      "\n",
      "image 1/1 /home/afalcao/doc/cursos/mo434/lectures-notebooks/images/object-detection/parasites/images/train/000252.png: 640x640 1 parasites, 6.8ms\n",
      "Speed: 2.1ms preprocess, 6.8ms inference, 1.0ms postprocess per image at shape (1, 3, 640, 640)\n"
     ]
    },
    {
     "name": "stderr",
     "output_type": "stream",
     "text": [
      "Visualizing train set:  45%|████████          | 326/731 [00:12<00:14, 27.57it/s]"
     ]
    },
    {
     "name": "stdout",
     "output_type": "stream",
     "text": [
      "\n",
      "image 1/1 /home/afalcao/doc/cursos/mo434/lectures-notebooks/images/object-detection/parasites/images/train/000405.png: 640x640 1 parasites, 7.8ms\n",
      "Speed: 2.9ms preprocess, 7.8ms inference, 0.9ms postprocess per image at shape (1, 3, 640, 640)\n",
      "\n",
      "image 1/1 /home/afalcao/doc/cursos/mo434/lectures-notebooks/images/object-detection/parasites/images/train/000556.png: 640x640 (no detections), 7.9ms\n",
      "Speed: 2.0ms preprocess, 7.9ms inference, 0.4ms postprocess per image at shape (1, 3, 640, 640)\n",
      "\n",
      "image 1/1 /home/afalcao/doc/cursos/mo434/lectures-notebooks/images/object-detection/parasites/images/train/000918.png: 640x640 (no detections), 8.2ms\n",
      "Speed: 1.8ms preprocess, 8.2ms inference, 0.4ms postprocess per image at shape (1, 3, 640, 640)\n"
     ]
    },
    {
     "name": "stderr",
     "output_type": "stream",
     "text": [
      "Visualizing train set:  45%|████████          | 329/731 [00:12<00:14, 27.87it/s]"
     ]
    },
    {
     "name": "stdout",
     "output_type": "stream",
     "text": [
      "\n",
      "image 1/1 /home/afalcao/doc/cursos/mo434/lectures-notebooks/images/object-detection/parasites/images/train/000773.png: 640x640 1 parasites, 6.8ms\n",
      "Speed: 2.7ms preprocess, 6.8ms inference, 1.0ms postprocess per image at shape (1, 3, 640, 640)\n",
      "\n",
      "image 1/1 /home/afalcao/doc/cursos/mo434/lectures-notebooks/images/object-detection/parasites/images/train/001119.png: 640x640 1 parasites, 6.8ms\n",
      "Speed: 1.8ms preprocess, 6.8ms inference, 0.9ms postprocess per image at shape (1, 3, 640, 640)\n",
      "\n",
      "image 1/1 /home/afalcao/doc/cursos/mo434/lectures-notebooks/images/object-detection/parasites/images/train/000848.png: 640x640 (no detections), 7.9ms\n",
      "Speed: 2.4ms preprocess, 7.9ms inference, 0.4ms postprocess per image at shape (1, 3, 640, 640)\n",
      "\n",
      "image 1/1 /home/afalcao/doc/cursos/mo434/lectures-notebooks/images/object-detection/parasites/images/train/000616.png: 640x640 (no detections), 7.3ms\n",
      "Speed: 1.9ms preprocess, 7.3ms inference, 0.5ms postprocess per image at shape (1, 3, 640, 640)\n"
     ]
    },
    {
     "name": "stderr",
     "output_type": "stream",
     "text": [
      "Visualizing train set:  46%|████████▏         | 333/731 [00:13<00:13, 28.91it/s]"
     ]
    },
    {
     "name": "stdout",
     "output_type": "stream",
     "text": [
      "\n",
      "image 1/1 /home/afalcao/doc/cursos/mo434/lectures-notebooks/images/object-detection/parasites/images/train/000979.png: 640x640 1 parasites, 7.6ms\n",
      "Speed: 2.6ms preprocess, 7.6ms inference, 1.2ms postprocess per image at shape (1, 3, 640, 640)\n",
      "\n",
      "image 1/1 /home/afalcao/doc/cursos/mo434/lectures-notebooks/images/object-detection/parasites/images/train/000662.png: 640x640 (no detections), 7.7ms\n",
      "Speed: 2.0ms preprocess, 7.7ms inference, 0.4ms postprocess per image at shape (1, 3, 640, 640)\n",
      "\n",
      "image 1/1 /home/afalcao/doc/cursos/mo434/lectures-notebooks/images/object-detection/parasites/images/train/000469.png: 640x640 (no detections), 6.9ms\n",
      "Speed: 1.8ms preprocess, 6.9ms inference, 1.1ms postprocess per image at shape (1, 3, 640, 640)\n",
      "\n",
      "image 1/1 /home/afalcao/doc/cursos/mo434/lectures-notebooks/images/object-detection/parasites/images/train/000008.png: 640x640 1 parasites, 8.5ms\n",
      "Speed: 2.5ms preprocess, 8.5ms inference, 1.5ms postprocess per image at shape (1, 3, 640, 640)\n"
     ]
    },
    {
     "name": "stderr",
     "output_type": "stream",
     "text": [
      "Visualizing train set:  46%|████████▎         | 337/731 [00:13<00:13, 29.36it/s]"
     ]
    },
    {
     "name": "stdout",
     "output_type": "stream",
     "text": [
      "\n",
      "image 1/1 /home/afalcao/doc/cursos/mo434/lectures-notebooks/images/object-detection/parasites/images/train/001017.png: 640x640 1 parasites, 7.7ms\n",
      "Speed: 2.3ms preprocess, 7.7ms inference, 1.6ms postprocess per image at shape (1, 3, 640, 640)\n",
      "\n",
      "image 1/1 /home/afalcao/doc/cursos/mo434/lectures-notebooks/images/object-detection/parasites/images/train/000642.png: 640x640 1 parasites, 8.0ms\n",
      "Speed: 2.8ms preprocess, 8.0ms inference, 1.2ms postprocess per image at shape (1, 3, 640, 640)\n",
      "\n",
      "image 1/1 /home/afalcao/doc/cursos/mo434/lectures-notebooks/images/object-detection/parasites/images/train/000454.png: 640x640 (no detections), 7.7ms\n",
      "Speed: 2.6ms preprocess, 7.7ms inference, 0.4ms postprocess per image at shape (1, 3, 640, 640)\n"
     ]
    },
    {
     "name": "stderr",
     "output_type": "stream",
     "text": [
      "Visualizing train set:  47%|████████▎         | 340/731 [00:13<00:13, 29.28it/s]"
     ]
    },
    {
     "name": "stdout",
     "output_type": "stream",
     "text": [
      "\n",
      "image 1/1 /home/afalcao/doc/cursos/mo434/lectures-notebooks/images/object-detection/parasites/images/train/000308.png: 640x640 1 parasites, 10.9ms\n",
      "Speed: 2.6ms preprocess, 10.9ms inference, 1.4ms postprocess per image at shape (1, 3, 640, 640)\n",
      "\n",
      "image 1/1 /home/afalcao/doc/cursos/mo434/lectures-notebooks/images/object-detection/parasites/images/train/001085.png: 640x640 1 parasites, 7.4ms\n",
      "Speed: 1.8ms preprocess, 7.4ms inference, 1.0ms postprocess per image at shape (1, 3, 640, 640)\n",
      "\n",
      "image 1/1 /home/afalcao/doc/cursos/mo434/lectures-notebooks/images/object-detection/parasites/images/train/000494.png: 640x640 (no detections), 6.2ms\n",
      "Speed: 1.9ms preprocess, 6.2ms inference, 0.6ms postprocess per image at shape (1, 3, 640, 640)\n"
     ]
    },
    {
     "name": "stderr",
     "output_type": "stream",
     "text": [
      "Visualizing train set:  47%|████████▍         | 343/731 [00:13<00:13, 29.02it/s]"
     ]
    },
    {
     "name": "stdout",
     "output_type": "stream",
     "text": [
      "\n",
      "image 1/1 /home/afalcao/doc/cursos/mo434/lectures-notebooks/images/object-detection/parasites/images/train/000700.png: 640x640 (no detections), 7.2ms\n",
      "Speed: 2.0ms preprocess, 7.2ms inference, 0.4ms postprocess per image at shape (1, 3, 640, 640)\n",
      "\n",
      "image 1/1 /home/afalcao/doc/cursos/mo434/lectures-notebooks/images/object-detection/parasites/images/train/000281.png: 640x640 1 parasites, 7.8ms\n",
      "Speed: 1.8ms preprocess, 7.8ms inference, 1.3ms postprocess per image at shape (1, 3, 640, 640)\n",
      "\n",
      "image 1/1 /home/afalcao/doc/cursos/mo434/lectures-notebooks/images/object-detection/parasites/images/train/000816.png: 640x640 (no detections), 7.7ms\n",
      "Speed: 2.0ms preprocess, 7.7ms inference, 0.4ms postprocess per image at shape (1, 3, 640, 640)\n"
     ]
    },
    {
     "name": "stderr",
     "output_type": "stream",
     "text": [
      "Visualizing train set:  47%|████████▌         | 346/731 [00:13<00:13, 29.06it/s]"
     ]
    },
    {
     "name": "stdout",
     "output_type": "stream",
     "text": [
      "\n",
      "image 1/1 /home/afalcao/doc/cursos/mo434/lectures-notebooks/images/object-detection/parasites/images/train/000251.png: 640x640 (no detections), 7.9ms\n",
      "Speed: 1.9ms preprocess, 7.9ms inference, 0.4ms postprocess per image at shape (1, 3, 640, 640)\n",
      "\n",
      "image 1/1 /home/afalcao/doc/cursos/mo434/lectures-notebooks/images/object-detection/parasites/images/train/000916.png: 640x640 1 parasites, 7.3ms\n",
      "Speed: 2.0ms preprocess, 7.3ms inference, 0.9ms postprocess per image at shape (1, 3, 640, 640)\n",
      "\n",
      "image 1/1 /home/afalcao/doc/cursos/mo434/lectures-notebooks/images/object-detection/parasites/images/train/000338.png: 640x640 1 parasites, 6.6ms\n",
      "Speed: 1.9ms preprocess, 6.6ms inference, 1.1ms postprocess per image at shape (1, 3, 640, 640)\n",
      "\n",
      "image 1/1 /home/afalcao/doc/cursos/mo434/lectures-notebooks/images/object-detection/parasites/images/train/000042.png: 640x640 (no detections), 7.7ms\n",
      "Speed: 1.9ms preprocess, 7.7ms inference, 0.4ms postprocess per image at shape (1, 3, 640, 640)\n"
     ]
    },
    {
     "name": "stderr",
     "output_type": "stream",
     "text": [
      "Visualizing train set:  48%|████████▌         | 350/731 [00:13<00:12, 29.65it/s]"
     ]
    },
    {
     "name": "stdout",
     "output_type": "stream",
     "text": [
      "\n",
      "image 1/1 /home/afalcao/doc/cursos/mo434/lectures-notebooks/images/object-detection/parasites/images/train/000242.png: 640x640 1 parasites, 9.8ms\n",
      "Speed: 2.2ms preprocess, 9.8ms inference, 1.2ms postprocess per image at shape (1, 3, 640, 640)\n",
      "\n",
      "image 1/1 /home/afalcao/doc/cursos/mo434/lectures-notebooks/images/object-detection/parasites/images/train/000684.png: 640x640 (no detections), 7.9ms\n",
      "Speed: 1.8ms preprocess, 7.9ms inference, 0.7ms postprocess per image at shape (1, 3, 640, 640)\n",
      "\n",
      "image 1/1 /home/afalcao/doc/cursos/mo434/lectures-notebooks/images/object-detection/parasites/images/train/000344.png: 640x640 1 parasites, 7.4ms\n",
      "Speed: 2.1ms preprocess, 7.4ms inference, 1.1ms postprocess per image at shape (1, 3, 640, 640)\n"
     ]
    },
    {
     "name": "stderr",
     "output_type": "stream",
     "text": [
      "Visualizing train set:  48%|████████▋         | 353/731 [00:13<00:12, 29.55it/s]"
     ]
    },
    {
     "name": "stdout",
     "output_type": "stream",
     "text": [
      "\n",
      "image 1/1 /home/afalcao/doc/cursos/mo434/lectures-notebooks/images/object-detection/parasites/images/train/001133.png: 640x640 1 parasites, 6.9ms\n",
      "Speed: 1.8ms preprocess, 6.9ms inference, 1.3ms postprocess per image at shape (1, 3, 640, 640)\n",
      "\n",
      "image 1/1 /home/afalcao/doc/cursos/mo434/lectures-notebooks/images/object-detection/parasites/images/train/000930.png: 640x640 (no detections), 7.7ms\n",
      "Speed: 2.1ms preprocess, 7.7ms inference, 0.6ms postprocess per image at shape (1, 3, 640, 640)\n",
      "\n",
      "image 1/1 /home/afalcao/doc/cursos/mo434/lectures-notebooks/images/object-detection/parasites/images/train/001033.png: 640x640 2 parasitess, 7.7ms\n",
      "Speed: 2.8ms preprocess, 7.7ms inference, 1.5ms postprocess per image at shape (1, 3, 640, 640)\n",
      "\n",
      "image 1/1 /home/afalcao/doc/cursos/mo434/lectures-notebooks/images/object-detection/parasites/images/train/000108.png: 640x640 2 parasitess, 7.4ms\n",
      "Speed: 2.0ms preprocess, 7.4ms inference, 0.9ms postprocess per image at shape (1, 3, 640, 640)\n"
     ]
    },
    {
     "name": "stderr",
     "output_type": "stream",
     "text": [
      "Visualizing train set:  49%|████████▊         | 357/731 [00:13<00:12, 29.80it/s]"
     ]
    },
    {
     "name": "stdout",
     "output_type": "stream",
     "text": [
      "\n",
      "image 1/1 /home/afalcao/doc/cursos/mo434/lectures-notebooks/images/object-detection/parasites/images/train/000639.png: 640x640 2 parasitess, 6.5ms\n",
      "Speed: 2.0ms preprocess, 6.5ms inference, 0.9ms postprocess per image at shape (1, 3, 640, 640)\n",
      "\n",
      "image 1/1 /home/afalcao/doc/cursos/mo434/lectures-notebooks/images/object-detection/parasites/images/train/001048.png: 640x640 (no detections), 7.1ms\n",
      "Speed: 2.7ms preprocess, 7.1ms inference, 0.5ms postprocess per image at shape (1, 3, 640, 640)\n",
      "\n",
      "image 1/1 /home/afalcao/doc/cursos/mo434/lectures-notebooks/images/object-detection/parasites/images/train/000452.png: 640x640 1 parasites, 6.9ms\n",
      "Speed: 1.9ms preprocess, 6.9ms inference, 1.4ms postprocess per image at shape (1, 3, 640, 640)\n"
     ]
    },
    {
     "name": "stderr",
     "output_type": "stream",
     "text": [
      "Visualizing train set:  49%|████████▊         | 360/731 [00:13<00:12, 29.45it/s]"
     ]
    },
    {
     "name": "stdout",
     "output_type": "stream",
     "text": [
      "\n",
      "image 1/1 /home/afalcao/doc/cursos/mo434/lectures-notebooks/images/object-detection/parasites/images/train/000327.png: 640x640 (no detections), 8.2ms\n",
      "Speed: 1.8ms preprocess, 8.2ms inference, 0.6ms postprocess per image at shape (1, 3, 640, 640)\n",
      "\n",
      "image 1/1 /home/afalcao/doc/cursos/mo434/lectures-notebooks/images/object-detection/parasites/images/train/001079.png: 640x640 1 parasites, 8.6ms\n",
      "Speed: 1.8ms preprocess, 8.6ms inference, 1.8ms postprocess per image at shape (1, 3, 640, 640)\n",
      "\n",
      "image 1/1 /home/afalcao/doc/cursos/mo434/lectures-notebooks/images/object-detection/parasites/images/train/000039.png: 640x640 1 parasites, 9.7ms\n",
      "Speed: 1.7ms preprocess, 9.7ms inference, 1.2ms postprocess per image at shape (1, 3, 640, 640)\n"
     ]
    },
    {
     "name": "stderr",
     "output_type": "stream",
     "text": [
      "Visualizing train set:  50%|████████▉         | 363/731 [00:14<00:12, 28.96it/s]"
     ]
    },
    {
     "name": "stdout",
     "output_type": "stream",
     "text": [
      "\n",
      "image 1/1 /home/afalcao/doc/cursos/mo434/lectures-notebooks/images/object-detection/parasites/images/train/000236.png: 640x640 1 parasites, 7.1ms\n",
      "Speed: 1.8ms preprocess, 7.1ms inference, 0.9ms postprocess per image at shape (1, 3, 640, 640)\n",
      "\n",
      "image 1/1 /home/afalcao/doc/cursos/mo434/lectures-notebooks/images/object-detection/parasites/images/train/000038.png: 640x640 1 parasites, 9.1ms\n",
      "Speed: 2.6ms preprocess, 9.1ms inference, 1.1ms postprocess per image at shape (1, 3, 640, 640)\n",
      "\n",
      "image 1/1 /home/afalcao/doc/cursos/mo434/lectures-notebooks/images/object-detection/parasites/images/train/000440.png: 640x640 1 parasites, 7.6ms\n",
      "Speed: 3.7ms preprocess, 7.6ms inference, 0.9ms postprocess per image at shape (1, 3, 640, 640)\n"
     ]
    },
    {
     "name": "stderr",
     "output_type": "stream",
     "text": [
      "Visualizing train set:  50%|█████████         | 366/731 [00:14<00:12, 28.98it/s]"
     ]
    },
    {
     "name": "stdout",
     "output_type": "stream",
     "text": [
      "\n",
      "image 1/1 /home/afalcao/doc/cursos/mo434/lectures-notebooks/images/object-detection/parasites/images/train/000186.png: 640x640 1 parasites, 8.1ms\n",
      "Speed: 3.0ms preprocess, 8.1ms inference, 1.5ms postprocess per image at shape (1, 3, 640, 640)\n",
      "\n",
      "image 1/1 /home/afalcao/doc/cursos/mo434/lectures-notebooks/images/object-detection/parasites/images/train/000057.png: 640x640 (no detections), 9.8ms\n",
      "Speed: 2.2ms preprocess, 9.8ms inference, 0.5ms postprocess per image at shape (1, 3, 640, 640)\n",
      "\n",
      "image 1/1 /home/afalcao/doc/cursos/mo434/lectures-notebooks/images/object-detection/parasites/images/train/000831.png: 640x640 1 parasites, 6.8ms\n",
      "Speed: 1.8ms preprocess, 6.8ms inference, 1.4ms postprocess per image at shape (1, 3, 640, 640)\n"
     ]
    },
    {
     "name": "stderr",
     "output_type": "stream",
     "text": [
      "Visualizing train set:  50%|█████████         | 369/731 [00:14<00:12, 28.67it/s]"
     ]
    },
    {
     "name": "stdout",
     "output_type": "stream",
     "text": [
      "\n",
      "image 1/1 /home/afalcao/doc/cursos/mo434/lectures-notebooks/images/object-detection/parasites/images/train/000827.png: 640x640 1 parasites, 7.2ms\n",
      "Speed: 1.8ms preprocess, 7.2ms inference, 1.4ms postprocess per image at shape (1, 3, 640, 640)\n",
      "\n",
      "image 1/1 /home/afalcao/doc/cursos/mo434/lectures-notebooks/images/object-detection/parasites/images/train/000997.png: 640x640 1 parasites, 7.8ms\n",
      "Speed: 1.9ms preprocess, 7.8ms inference, 2.0ms postprocess per image at shape (1, 3, 640, 640)\n",
      "\n",
      "image 1/1 /home/afalcao/doc/cursos/mo434/lectures-notebooks/images/object-detection/parasites/images/train/000956.png: 640x640 (no detections), 8.1ms\n",
      "Speed: 1.7ms preprocess, 8.1ms inference, 0.6ms postprocess per image at shape (1, 3, 640, 640)\n",
      "\n",
      "image 1/1 /home/afalcao/doc/cursos/mo434/lectures-notebooks/images/object-detection/parasites/images/train/000148.png: 640x640 1 parasites, 6.7ms\n",
      "Speed: 3.1ms preprocess, 6.7ms inference, 1.4ms postprocess per image at shape (1, 3, 640, 640)\n"
     ]
    },
    {
     "name": "stderr",
     "output_type": "stream",
     "text": [
      "Visualizing train set:  51%|█████████▏        | 373/731 [00:14<00:12, 29.21it/s]"
     ]
    },
    {
     "name": "stdout",
     "output_type": "stream",
     "text": [
      "\n",
      "image 1/1 /home/afalcao/doc/cursos/mo434/lectures-notebooks/images/object-detection/parasites/images/train/000504.png: 640x640 (no detections), 9.0ms\n",
      "Speed: 1.9ms preprocess, 9.0ms inference, 0.5ms postprocess per image at shape (1, 3, 640, 640)\n",
      "\n",
      "image 1/1 /home/afalcao/doc/cursos/mo434/lectures-notebooks/images/object-detection/parasites/images/train/000999.png: 640x640 1 parasites, 7.4ms\n",
      "Speed: 2.3ms preprocess, 7.4ms inference, 2.8ms postprocess per image at shape (1, 3, 640, 640)\n",
      "\n",
      "image 1/1 /home/afalcao/doc/cursos/mo434/lectures-notebooks/images/object-detection/parasites/images/train/000618.png: 640x640 (no detections), 8.7ms\n",
      "Speed: 1.8ms preprocess, 8.7ms inference, 0.4ms postprocess per image at shape (1, 3, 640, 640)\n"
     ]
    },
    {
     "name": "stderr",
     "output_type": "stream",
     "text": [
      "Visualizing train set:  51%|█████████▎        | 376/731 [00:14<00:12, 29.26it/s]"
     ]
    },
    {
     "name": "stdout",
     "output_type": "stream",
     "text": [
      "\n",
      "image 1/1 /home/afalcao/doc/cursos/mo434/lectures-notebooks/images/object-detection/parasites/images/train/000087.png: 640x640 (no detections), 7.3ms\n",
      "Speed: 2.1ms preprocess, 7.3ms inference, 0.9ms postprocess per image at shape (1, 3, 640, 640)\n",
      "\n",
      "image 1/1 /home/afalcao/doc/cursos/mo434/lectures-notebooks/images/object-detection/parasites/images/train/001179.png: 640x640 1 parasites, 7.3ms\n",
      "Speed: 2.5ms preprocess, 7.3ms inference, 2.1ms postprocess per image at shape (1, 3, 640, 640)\n",
      "\n",
      "image 1/1 /home/afalcao/doc/cursos/mo434/lectures-notebooks/images/object-detection/parasites/images/train/000520.png: 640x640 (no detections), 7.8ms\n",
      "Speed: 1.7ms preprocess, 7.8ms inference, 1.2ms postprocess per image at shape (1, 3, 640, 640)\n",
      "\n",
      "image 1/1 /home/afalcao/doc/cursos/mo434/lectures-notebooks/images/object-detection/parasites/images/train/000805.png: 640x640 1 parasites, 9.6ms\n",
      "Speed: 2.1ms preprocess, 9.6ms inference, 1.0ms postprocess per image at shape (1, 3, 640, 640)\n"
     ]
    },
    {
     "name": "stderr",
     "output_type": "stream",
     "text": [
      "Visualizing train set:  52%|█████████▎        | 380/731 [00:14<00:11, 29.49it/s]"
     ]
    },
    {
     "name": "stdout",
     "output_type": "stream",
     "text": [
      "\n",
      "image 1/1 /home/afalcao/doc/cursos/mo434/lectures-notebooks/images/object-detection/parasites/images/train/001148.png: 640x640 (no detections), 11.0ms\n",
      "Speed: 2.9ms preprocess, 11.0ms inference, 0.4ms postprocess per image at shape (1, 3, 640, 640)\n",
      "\n",
      "image 1/1 /home/afalcao/doc/cursos/mo434/lectures-notebooks/images/object-detection/parasites/images/train/000738.png: 640x640 (no detections), 8.6ms\n",
      "Speed: 2.7ms preprocess, 8.6ms inference, 0.4ms postprocess per image at shape (1, 3, 640, 640)\n",
      "\n",
      "image 1/1 /home/afalcao/doc/cursos/mo434/lectures-notebooks/images/object-detection/parasites/images/train/001029.png: 640x640 2 parasitess, 7.8ms\n",
      "Speed: 2.9ms preprocess, 7.8ms inference, 0.9ms postprocess per image at shape (1, 3, 640, 640)\n"
     ]
    },
    {
     "name": "stderr",
     "output_type": "stream",
     "text": [
      "Visualizing train set:  52%|█████████▍        | 383/731 [00:14<00:12, 27.50it/s]"
     ]
    },
    {
     "name": "stdout",
     "output_type": "stream",
     "text": [
      "\n",
      "image 1/1 /home/afalcao/doc/cursos/mo434/lectures-notebooks/images/object-detection/parasites/images/train/001052.png: 640x640 (no detections), 6.7ms\n",
      "Speed: 2.5ms preprocess, 6.7ms inference, 0.4ms postprocess per image at shape (1, 3, 640, 640)\n",
      "\n",
      "image 1/1 /home/afalcao/doc/cursos/mo434/lectures-notebooks/images/object-detection/parasites/images/train/001050.png: 640x640 (no detections), 7.0ms\n",
      "Speed: 1.9ms preprocess, 7.0ms inference, 0.4ms postprocess per image at shape (1, 3, 640, 640)\n",
      "\n",
      "image 1/1 /home/afalcao/doc/cursos/mo434/lectures-notebooks/images/object-detection/parasites/images/train/000006.png: 640x640 1 parasites, 6.9ms\n",
      "Speed: 2.1ms preprocess, 6.9ms inference, 0.9ms postprocess per image at shape (1, 3, 640, 640)\n",
      "\n",
      "image 1/1 /home/afalcao/doc/cursos/mo434/lectures-notebooks/images/object-detection/parasites/images/train/000797.png: 640x640 1 parasites, 7.8ms\n",
      "Speed: 1.8ms preprocess, 7.8ms inference, 1.1ms postprocess per image at shape (1, 3, 640, 640)\n"
     ]
    },
    {
     "name": "stderr",
     "output_type": "stream",
     "text": [
      "Visualizing train set:  53%|█████████▌        | 387/731 [00:14<00:11, 28.77it/s]"
     ]
    },
    {
     "name": "stdout",
     "output_type": "stream",
     "text": [
      "\n",
      "image 1/1 /home/afalcao/doc/cursos/mo434/lectures-notebooks/images/object-detection/parasites/images/train/000681.png: 640x640 1 parasites, 7.7ms\n",
      "Speed: 1.7ms preprocess, 7.7ms inference, 1.0ms postprocess per image at shape (1, 3, 640, 640)\n",
      "\n",
      "image 1/1 /home/afalcao/doc/cursos/mo434/lectures-notebooks/images/object-detection/parasites/images/train/000627.png: 640x640 1 parasites, 7.8ms\n",
      "Speed: 1.8ms preprocess, 7.8ms inference, 0.9ms postprocess per image at shape (1, 3, 640, 640)\n",
      "\n",
      "image 1/1 /home/afalcao/doc/cursos/mo434/lectures-notebooks/images/object-detection/parasites/images/train/000152.png: 640x640 (no detections), 8.1ms\n",
      "Speed: 2.9ms preprocess, 8.1ms inference, 0.6ms postprocess per image at shape (1, 3, 640, 640)\n"
     ]
    },
    {
     "name": "stderr",
     "output_type": "stream",
     "text": [
      "Visualizing train set:  53%|█████████▌        | 390/731 [00:14<00:11, 28.79it/s]"
     ]
    },
    {
     "name": "stdout",
     "output_type": "stream",
     "text": [
      "\n",
      "image 1/1 /home/afalcao/doc/cursos/mo434/lectures-notebooks/images/object-detection/parasites/images/train/000598.png: 640x640 (no detections), 7.6ms\n",
      "Speed: 1.9ms preprocess, 7.6ms inference, 0.5ms postprocess per image at shape (1, 3, 640, 640)\n",
      "\n",
      "image 1/1 /home/afalcao/doc/cursos/mo434/lectures-notebooks/images/object-detection/parasites/images/train/000514.png: 640x640 (no detections), 8.4ms\n",
      "Speed: 2.6ms preprocess, 8.4ms inference, 0.4ms postprocess per image at shape (1, 3, 640, 640)\n",
      "\n",
      "image 1/1 /home/afalcao/doc/cursos/mo434/lectures-notebooks/images/object-detection/parasites/images/train/000260.png: 640x640 1 parasites, 7.0ms\n",
      "Speed: 1.8ms preprocess, 7.0ms inference, 0.9ms postprocess per image at shape (1, 3, 640, 640)\n",
      "\n",
      "image 1/1 /home/afalcao/doc/cursos/mo434/lectures-notebooks/images/object-detection/parasites/images/train/001080.png: 640x640 (no detections), 6.7ms\n",
      "Speed: 2.3ms preprocess, 6.7ms inference, 0.5ms postprocess per image at shape (1, 3, 640, 640)\n"
     ]
    },
    {
     "name": "stderr",
     "output_type": "stream",
     "text": [
      "Visualizing train set:  54%|█████████▋        | 394/731 [00:15<00:11, 29.33it/s]"
     ]
    },
    {
     "name": "stdout",
     "output_type": "stream",
     "text": [
      "\n",
      "image 1/1 /home/afalcao/doc/cursos/mo434/lectures-notebooks/images/object-detection/parasites/images/train/001087.png: 640x640 1 parasites, 8.9ms\n",
      "Speed: 2.9ms preprocess, 8.9ms inference, 1.3ms postprocess per image at shape (1, 3, 640, 640)\n",
      "\n",
      "image 1/1 /home/afalcao/doc/cursos/mo434/lectures-notebooks/images/object-detection/parasites/images/train/001151.png: 640x640 1 parasites, 8.1ms\n",
      "Speed: 3.7ms preprocess, 8.1ms inference, 1.4ms postprocess per image at shape (1, 3, 640, 640)\n",
      "\n",
      "image 1/1 /home/afalcao/doc/cursos/mo434/lectures-notebooks/images/object-detection/parasites/images/train/000268.png: 640x640 1 parasites, 8.2ms\n",
      "Speed: 1.8ms preprocess, 8.2ms inference, 2.8ms postprocess per image at shape (1, 3, 640, 640)\n"
     ]
    },
    {
     "name": "stderr",
     "output_type": "stream",
     "text": [
      "Visualizing train set:  54%|█████████▊        | 397/731 [00:15<00:11, 28.82it/s]"
     ]
    },
    {
     "name": "stdout",
     "output_type": "stream",
     "text": [
      "\n",
      "image 1/1 /home/afalcao/doc/cursos/mo434/lectures-notebooks/images/object-detection/parasites/images/train/000442.png: 640x640 (no detections), 8.6ms\n",
      "Speed: 2.1ms preprocess, 8.6ms inference, 0.9ms postprocess per image at shape (1, 3, 640, 640)\n",
      "\n",
      "image 1/1 /home/afalcao/doc/cursos/mo434/lectures-notebooks/images/object-detection/parasites/images/train/000673.png: 640x640 1 parasites, 8.0ms\n",
      "Speed: 1.9ms preprocess, 8.0ms inference, 2.1ms postprocess per image at shape (1, 3, 640, 640)\n",
      "\n",
      "image 1/1 /home/afalcao/doc/cursos/mo434/lectures-notebooks/images/object-detection/parasites/images/train/001208.png: 640x640 (no detections), 8.7ms\n",
      "Speed: 1.9ms preprocess, 8.7ms inference, 1.2ms postprocess per image at shape (1, 3, 640, 640)\n",
      "\n",
      "image 1/1 /home/afalcao/doc/cursos/mo434/lectures-notebooks/images/object-detection/parasites/images/train/000890.png: 640x640 (no detections), 8.3ms\n",
      "Speed: 1.9ms preprocess, 8.3ms inference, 0.7ms postprocess per image at shape (1, 3, 640, 640)\n"
     ]
    },
    {
     "name": "stderr",
     "output_type": "stream",
     "text": [
      "Visualizing train set:  55%|█████████▊        | 401/731 [00:15<00:11, 29.29it/s]"
     ]
    },
    {
     "name": "stdout",
     "output_type": "stream",
     "text": [
      "\n",
      "image 1/1 /home/afalcao/doc/cursos/mo434/lectures-notebooks/images/object-detection/parasites/images/train/001135.png: 640x640 1 parasites, 8.1ms\n",
      "Speed: 2.1ms preprocess, 8.1ms inference, 2.9ms postprocess per image at shape (1, 3, 640, 640)\n",
      "\n",
      "image 1/1 /home/afalcao/doc/cursos/mo434/lectures-notebooks/images/object-detection/parasites/images/train/001088.png: 640x640 (no detections), 7.6ms\n",
      "Speed: 1.8ms preprocess, 7.6ms inference, 0.6ms postprocess per image at shape (1, 3, 640, 640)\n",
      "\n",
      "image 1/1 /home/afalcao/doc/cursos/mo434/lectures-notebooks/images/object-detection/parasites/images/train/000612.png: 640x640 (no detections), 7.2ms\n",
      "Speed: 2.3ms preprocess, 7.2ms inference, 0.6ms postprocess per image at shape (1, 3, 640, 640)\n",
      "\n",
      "image 1/1 /home/afalcao/doc/cursos/mo434/lectures-notebooks/images/object-detection/parasites/images/train/000155.png: 640x640 (no detections), 7.2ms\n",
      "Speed: 1.8ms preprocess, 7.2ms inference, 0.4ms postprocess per image at shape (1, 3, 640, 640)\n"
     ]
    },
    {
     "name": "stderr",
     "output_type": "stream",
     "text": [
      "Visualizing train set:  55%|█████████▉        | 405/731 [00:15<00:10, 30.00it/s]"
     ]
    },
    {
     "name": "stdout",
     "output_type": "stream",
     "text": [
      "\n",
      "image 1/1 /home/afalcao/doc/cursos/mo434/lectures-notebooks/images/object-detection/parasites/images/train/001108.png: 640x640 1 parasites, 7.8ms\n",
      "Speed: 1.9ms preprocess, 7.8ms inference, 1.0ms postprocess per image at shape (1, 3, 640, 640)\n",
      "\n",
      "image 1/1 /home/afalcao/doc/cursos/mo434/lectures-notebooks/images/object-detection/parasites/images/train/000761.png: 640x640 1 parasites, 7.2ms\n",
      "Speed: 2.0ms preprocess, 7.2ms inference, 1.0ms postprocess per image at shape (1, 3, 640, 640)\n",
      "\n",
      "image 1/1 /home/afalcao/doc/cursos/mo434/lectures-notebooks/images/object-detection/parasites/images/train/001107.png: 640x640 (no detections), 7.6ms\n",
      "Speed: 1.8ms preprocess, 7.6ms inference, 0.5ms postprocess per image at shape (1, 3, 640, 640)\n",
      "\n",
      "image 1/1 /home/afalcao/doc/cursos/mo434/lectures-notebooks/images/object-detection/parasites/images/train/000285.png: 640x640 (no detections), 7.9ms\n",
      "Speed: 1.7ms preprocess, 7.9ms inference, 0.6ms postprocess per image at shape (1, 3, 640, 640)\n"
     ]
    },
    {
     "name": "stderr",
     "output_type": "stream",
     "text": [
      "Visualizing train set:  56%|██████████        | 409/731 [00:15<00:10, 30.47it/s]"
     ]
    },
    {
     "name": "stdout",
     "output_type": "stream",
     "text": [
      "\n",
      "image 1/1 /home/afalcao/doc/cursos/mo434/lectures-notebooks/images/object-detection/parasites/images/train/000081.png: 640x640 1 parasites, 7.0ms\n",
      "Speed: 1.7ms preprocess, 7.0ms inference, 1.0ms postprocess per image at shape (1, 3, 640, 640)\n",
      "\n",
      "image 1/1 /home/afalcao/doc/cursos/mo434/lectures-notebooks/images/object-detection/parasites/images/train/000064.png: 640x640 1 parasites, 7.4ms\n",
      "Speed: 1.7ms preprocess, 7.4ms inference, 1.7ms postprocess per image at shape (1, 3, 640, 640)\n",
      "\n",
      "image 1/1 /home/afalcao/doc/cursos/mo434/lectures-notebooks/images/object-detection/parasites/images/train/000099.png: 640x640 (no detections), 6.7ms\n",
      "Speed: 1.7ms preprocess, 6.7ms inference, 0.5ms postprocess per image at shape (1, 3, 640, 640)\n",
      "\n",
      "image 1/1 /home/afalcao/doc/cursos/mo434/lectures-notebooks/images/object-detection/parasites/images/train/001036.png: 640x640 (no detections), 9.5ms\n",
      "Speed: 1.7ms preprocess, 9.5ms inference, 0.6ms postprocess per image at shape (1, 3, 640, 640)\n"
     ]
    },
    {
     "name": "stderr",
     "output_type": "stream",
     "text": [
      "Visualizing train set:  56%|██████████▏       | 413/731 [00:15<00:10, 30.66it/s]"
     ]
    },
    {
     "name": "stdout",
     "output_type": "stream",
     "text": [
      "\n",
      "image 1/1 /home/afalcao/doc/cursos/mo434/lectures-notebooks/images/object-detection/parasites/images/train/000041.png: 640x640 (no detections), 6.4ms\n",
      "Speed: 1.7ms preprocess, 6.4ms inference, 0.4ms postprocess per image at shape (1, 3, 640, 640)\n",
      "\n",
      "image 1/1 /home/afalcao/doc/cursos/mo434/lectures-notebooks/images/object-detection/parasites/images/train/000679.png: 640x640 2 parasitess, 6.6ms\n",
      "Speed: 1.9ms preprocess, 6.6ms inference, 1.1ms postprocess per image at shape (1, 3, 640, 640)\n",
      "\n",
      "image 1/1 /home/afalcao/doc/cursos/mo434/lectures-notebooks/images/object-detection/parasites/images/train/000741.png: 640x640 1 parasites, 6.8ms\n",
      "Speed: 3.4ms preprocess, 6.8ms inference, 0.9ms postprocess per image at shape (1, 3, 640, 640)\n",
      "\n",
      "image 1/1 /home/afalcao/doc/cursos/mo434/lectures-notebooks/images/object-detection/parasites/images/train/000022.png: 640x640 1 parasites, 7.2ms\n",
      "Speed: 2.9ms preprocess, 7.2ms inference, 0.9ms postprocess per image at shape (1, 3, 640, 640)\n"
     ]
    },
    {
     "name": "stderr",
     "output_type": "stream",
     "text": [
      "Visualizing train set:  57%|██████████▎       | 417/731 [00:15<00:10, 30.92it/s]"
     ]
    },
    {
     "name": "stdout",
     "output_type": "stream",
     "text": [
      "\n",
      "image 1/1 /home/afalcao/doc/cursos/mo434/lectures-notebooks/images/object-detection/parasites/images/train/000585.png: 640x640 1 parasites, 8.6ms\n",
      "Speed: 4.0ms preprocess, 8.6ms inference, 1.1ms postprocess per image at shape (1, 3, 640, 640)\n",
      "\n",
      "image 1/1 /home/afalcao/doc/cursos/mo434/lectures-notebooks/images/object-detection/parasites/images/train/001072.png: 640x640 (no detections), 6.4ms\n",
      "Speed: 2.9ms preprocess, 6.4ms inference, 0.4ms postprocess per image at shape (1, 3, 640, 640)\n",
      "\n",
      "image 1/1 /home/afalcao/doc/cursos/mo434/lectures-notebooks/images/object-detection/parasites/images/train/001190.png: 640x640 (no detections), 7.7ms\n",
      "Speed: 1.9ms preprocess, 7.7ms inference, 0.4ms postprocess per image at shape (1, 3, 640, 640)\n",
      "\n",
      "image 1/1 /home/afalcao/doc/cursos/mo434/lectures-notebooks/images/object-detection/parasites/images/train/001004.png: 640x640 (no detections), 7.2ms\n",
      "Speed: 1.8ms preprocess, 7.2ms inference, 0.4ms postprocess per image at shape (1, 3, 640, 640)\n"
     ]
    },
    {
     "name": "stderr",
     "output_type": "stream",
     "text": [
      "Visualizing train set:  58%|██████████▎       | 421/731 [00:15<00:09, 31.13it/s]"
     ]
    },
    {
     "name": "stdout",
     "output_type": "stream",
     "text": [
      "\n",
      "image 1/1 /home/afalcao/doc/cursos/mo434/lectures-notebooks/images/object-detection/parasites/images/train/000628.png: 640x640 (no detections), 8.1ms\n",
      "Speed: 2.8ms preprocess, 8.1ms inference, 0.4ms postprocess per image at shape (1, 3, 640, 640)\n",
      "\n",
      "image 1/1 /home/afalcao/doc/cursos/mo434/lectures-notebooks/images/object-detection/parasites/images/train/000891.png: 640x640 1 parasites, 8.4ms\n",
      "Speed: 3.1ms preprocess, 8.4ms inference, 1.5ms postprocess per image at shape (1, 3, 640, 640)\n",
      "\n",
      "image 1/1 /home/afalcao/doc/cursos/mo434/lectures-notebooks/images/object-detection/parasites/images/train/000535.png: 640x640 1 parasites, 7.1ms\n",
      "Speed: 3.8ms preprocess, 7.1ms inference, 1.4ms postprocess per image at shape (1, 3, 640, 640)\n",
      "\n",
      "image 1/1 /home/afalcao/doc/cursos/mo434/lectures-notebooks/images/object-detection/parasites/images/train/000485.png: 640x640 1 parasites, 6.6ms\n",
      "Speed: 2.7ms preprocess, 6.6ms inference, 1.1ms postprocess per image at shape (1, 3, 640, 640)\n"
     ]
    },
    {
     "name": "stderr",
     "output_type": "stream",
     "text": [
      "Visualizing train set:  58%|██████████▍       | 425/731 [00:16<00:10, 30.07it/s]"
     ]
    },
    {
     "name": "stdout",
     "output_type": "stream",
     "text": [
      "\n",
      "image 1/1 /home/afalcao/doc/cursos/mo434/lectures-notebooks/images/object-detection/parasites/images/train/000562.png: 640x640 (no detections), 6.6ms\n",
      "Speed: 2.0ms preprocess, 6.6ms inference, 0.4ms postprocess per image at shape (1, 3, 640, 640)\n",
      "\n",
      "image 1/1 /home/afalcao/doc/cursos/mo434/lectures-notebooks/images/object-detection/parasites/images/train/000814.png: 640x640 (no detections), 7.0ms\n",
      "Speed: 2.5ms preprocess, 7.0ms inference, 0.4ms postprocess per image at shape (1, 3, 640, 640)\n",
      "\n",
      "image 1/1 /home/afalcao/doc/cursos/mo434/lectures-notebooks/images/object-detection/parasites/images/train/000609.png: 640x640 1 parasites, 8.0ms\n",
      "Speed: 2.1ms preprocess, 8.0ms inference, 0.9ms postprocess per image at shape (1, 3, 640, 640)\n",
      "\n",
      "image 1/1 /home/afalcao/doc/cursos/mo434/lectures-notebooks/images/object-detection/parasites/images/train/000593.png: 640x640 1 parasites, 7.2ms\n",
      "Speed: 2.1ms preprocess, 7.2ms inference, 0.9ms postprocess per image at shape (1, 3, 640, 640)\n"
     ]
    },
    {
     "name": "stderr",
     "output_type": "stream",
     "text": [
      "Visualizing train set:  59%|██████████▌       | 429/731 [00:16<00:09, 30.45it/s]"
     ]
    },
    {
     "name": "stdout",
     "output_type": "stream",
     "text": [
      "\n",
      "image 1/1 /home/afalcao/doc/cursos/mo434/lectures-notebooks/images/object-detection/parasites/images/train/000884.png: 640x640 (no detections), 8.7ms\n",
      "Speed: 1.7ms preprocess, 8.7ms inference, 0.4ms postprocess per image at shape (1, 3, 640, 640)\n",
      "\n",
      "image 1/1 /home/afalcao/doc/cursos/mo434/lectures-notebooks/images/object-detection/parasites/images/train/000653.png: 640x640 1 parasites, 8.0ms\n",
      "Speed: 2.4ms preprocess, 8.0ms inference, 0.9ms postprocess per image at shape (1, 3, 640, 640)\n",
      "\n",
      "image 1/1 /home/afalcao/doc/cursos/mo434/lectures-notebooks/images/object-detection/parasites/images/train/000915.png: 640x640 1 parasites, 7.4ms\n",
      "Speed: 2.0ms preprocess, 7.4ms inference, 1.8ms postprocess per image at shape (1, 3, 640, 640)\n",
      "\n",
      "image 1/1 /home/afalcao/doc/cursos/mo434/lectures-notebooks/images/object-detection/parasites/images/train/000421.png: 640x640 1 parasites, 7.4ms\n",
      "Speed: 2.1ms preprocess, 7.4ms inference, 1.9ms postprocess per image at shape (1, 3, 640, 640)\n"
     ]
    },
    {
     "name": "stderr",
     "output_type": "stream",
     "text": [
      "Visualizing train set:  59%|██████████▋       | 433/731 [00:16<00:09, 30.55it/s]"
     ]
    },
    {
     "name": "stdout",
     "output_type": "stream",
     "text": [
      "\n",
      "image 1/1 /home/afalcao/doc/cursos/mo434/lectures-notebooks/images/object-detection/parasites/images/train/000353.png: 640x640 (no detections), 7.2ms\n",
      "Speed: 2.1ms preprocess, 7.2ms inference, 0.9ms postprocess per image at shape (1, 3, 640, 640)\n",
      "\n",
      "image 1/1 /home/afalcao/doc/cursos/mo434/lectures-notebooks/images/object-detection/parasites/images/train/000331.png: 640x640 (no detections), 8.3ms\n",
      "Speed: 2.2ms preprocess, 8.3ms inference, 0.9ms postprocess per image at shape (1, 3, 640, 640)\n",
      "\n",
      "image 1/1 /home/afalcao/doc/cursos/mo434/lectures-notebooks/images/object-detection/parasites/images/train/000958.png: 640x640 (no detections), 7.1ms\n",
      "Speed: 2.6ms preprocess, 7.1ms inference, 0.8ms postprocess per image at shape (1, 3, 640, 640)\n",
      "\n",
      "image 1/1 /home/afalcao/doc/cursos/mo434/lectures-notebooks/images/object-detection/parasites/images/train/000510.png: 640x640 (no detections), 6.8ms\n",
      "Speed: 2.2ms preprocess, 6.8ms inference, 1.7ms postprocess per image at shape (1, 3, 640, 640)\n"
     ]
    },
    {
     "name": "stderr",
     "output_type": "stream",
     "text": [
      "Visualizing train set:  60%|██████████▊       | 437/731 [00:16<00:09, 30.48it/s]"
     ]
    },
    {
     "name": "stdout",
     "output_type": "stream",
     "text": [
      "\n",
      "image 1/1 /home/afalcao/doc/cursos/mo434/lectures-notebooks/images/object-detection/parasites/images/train/000753.png: 640x640 1 parasites, 6.9ms\n",
      "Speed: 2.2ms preprocess, 6.9ms inference, 2.1ms postprocess per image at shape (1, 3, 640, 640)\n",
      "\n",
      "image 1/1 /home/afalcao/doc/cursos/mo434/lectures-notebooks/images/object-detection/parasites/images/train/000438.png: 640x640 (no detections), 8.1ms\n",
      "Speed: 2.1ms preprocess, 8.1ms inference, 1.3ms postprocess per image at shape (1, 3, 640, 640)\n",
      "\n",
      "image 1/1 /home/afalcao/doc/cursos/mo434/lectures-notebooks/images/object-detection/parasites/images/train/000123.png: 640x640 (no detections), 7.4ms\n",
      "Speed: 2.0ms preprocess, 7.4ms inference, 1.1ms postprocess per image at shape (1, 3, 640, 640)\n",
      "\n",
      "image 1/1 /home/afalcao/doc/cursos/mo434/lectures-notebooks/images/object-detection/parasites/images/train/000115.png: 640x640 1 parasites, 7.3ms\n",
      "Speed: 2.2ms preprocess, 7.3ms inference, 3.0ms postprocess per image at shape (1, 3, 640, 640)\n"
     ]
    },
    {
     "name": "stderr",
     "output_type": "stream",
     "text": [
      "Visualizing train set:  60%|██████████▊       | 441/731 [00:16<00:09, 30.19it/s]"
     ]
    },
    {
     "name": "stdout",
     "output_type": "stream",
     "text": [
      "\n",
      "image 1/1 /home/afalcao/doc/cursos/mo434/lectures-notebooks/images/object-detection/parasites/images/train/000122.png: 640x640 1 parasites, 8.4ms\n",
      "Speed: 2.2ms preprocess, 8.4ms inference, 1.6ms postprocess per image at shape (1, 3, 640, 640)\n",
      "\n",
      "image 1/1 /home/afalcao/doc/cursos/mo434/lectures-notebooks/images/object-detection/parasites/images/train/000309.png: 640x640 (no detections), 8.7ms\n",
      "Speed: 2.1ms preprocess, 8.7ms inference, 0.6ms postprocess per image at shape (1, 3, 640, 640)\n",
      "\n",
      "image 1/1 /home/afalcao/doc/cursos/mo434/lectures-notebooks/images/object-detection/parasites/images/train/000524.png: 640x640 1 parasites, 7.2ms\n",
      "Speed: 1.9ms preprocess, 7.2ms inference, 2.4ms postprocess per image at shape (1, 3, 640, 640)\n",
      "\n",
      "image 1/1 /home/afalcao/doc/cursos/mo434/lectures-notebooks/images/object-detection/parasites/images/train/000463.png: 640x640 1 parasites, 7.0ms\n",
      "Speed: 2.3ms preprocess, 7.0ms inference, 1.9ms postprocess per image at shape (1, 3, 640, 640)\n"
     ]
    },
    {
     "name": "stderr",
     "output_type": "stream",
     "text": [
      "Visualizing train set:  61%|██████████▉       | 445/731 [00:16<00:09, 29.98it/s]"
     ]
    },
    {
     "name": "stdout",
     "output_type": "stream",
     "text": [
      "\n",
      "image 1/1 /home/afalcao/doc/cursos/mo434/lectures-notebooks/images/object-detection/parasites/images/train/001206.png: 640x640 (no detections), 7.7ms\n",
      "Speed: 2.2ms preprocess, 7.7ms inference, 0.5ms postprocess per image at shape (1, 3, 640, 640)\n",
      "\n",
      "image 1/1 /home/afalcao/doc/cursos/mo434/lectures-notebooks/images/object-detection/parasites/images/train/000213.png: 640x640 (no detections), 7.0ms\n",
      "Speed: 2.0ms preprocess, 7.0ms inference, 0.8ms postprocess per image at shape (1, 3, 640, 640)\n",
      "\n",
      "image 1/1 /home/afalcao/doc/cursos/mo434/lectures-notebooks/images/object-detection/parasites/images/train/000960.png: 640x640 (no detections), 7.7ms\n",
      "Speed: 2.1ms preprocess, 7.7ms inference, 0.8ms postprocess per image at shape (1, 3, 640, 640)\n",
      "\n",
      "image 1/1 /home/afalcao/doc/cursos/mo434/lectures-notebooks/images/object-detection/parasites/images/train/001084.png: 640x640 (no detections), 9.1ms\n",
      "Speed: 2.5ms preprocess, 9.1ms inference, 0.5ms postprocess per image at shape (1, 3, 640, 640)\n"
     ]
    },
    {
     "name": "stderr",
     "output_type": "stream",
     "text": [
      "Visualizing train set:  61%|███████████       | 449/731 [00:16<00:09, 30.22it/s]"
     ]
    },
    {
     "name": "stdout",
     "output_type": "stream",
     "text": [
      "\n",
      "image 1/1 /home/afalcao/doc/cursos/mo434/lectures-notebooks/images/object-detection/parasites/images/train/000622.png: 640x640 (no detections), 8.1ms\n",
      "Speed: 2.3ms preprocess, 8.1ms inference, 0.6ms postprocess per image at shape (1, 3, 640, 640)\n",
      "\n",
      "image 1/1 /home/afalcao/doc/cursos/mo434/lectures-notebooks/images/object-detection/parasites/images/train/000582.png: 640x640 1 parasites, 7.4ms\n",
      "Speed: 1.8ms preprocess, 7.4ms inference, 1.4ms postprocess per image at shape (1, 3, 640, 640)\n",
      "\n",
      "image 1/1 /home/afalcao/doc/cursos/mo434/lectures-notebooks/images/object-detection/parasites/images/train/000895.png: 640x640 1 parasites, 9.4ms\n",
      "Speed: 1.7ms preprocess, 9.4ms inference, 2.2ms postprocess per image at shape (1, 3, 640, 640)\n",
      "\n",
      "image 1/1 /home/afalcao/doc/cursos/mo434/lectures-notebooks/images/object-detection/parasites/images/train/000564.png: 640x640 (no detections), 9.1ms\n",
      "Speed: 2.6ms preprocess, 9.1ms inference, 0.6ms postprocess per image at shape (1, 3, 640, 640)\n"
     ]
    },
    {
     "name": "stderr",
     "output_type": "stream",
     "text": [
      "Visualizing train set:  62%|███████████▏      | 453/731 [00:17<00:09, 29.97it/s]"
     ]
    },
    {
     "name": "stdout",
     "output_type": "stream",
     "text": [
      "\n",
      "image 1/1 /home/afalcao/doc/cursos/mo434/lectures-notebooks/images/object-detection/parasites/images/train/000451.png: 640x640 1 parasites, 8.6ms\n",
      "Speed: 3.3ms preprocess, 8.6ms inference, 0.9ms postprocess per image at shape (1, 3, 640, 640)\n",
      "\n",
      "image 1/1 /home/afalcao/doc/cursos/mo434/lectures-notebooks/images/object-detection/parasites/images/train/000778.png: 640x640 (no detections), 8.4ms\n",
      "Speed: 3.1ms preprocess, 8.4ms inference, 0.4ms postprocess per image at shape (1, 3, 640, 640)\n",
      "\n",
      "image 1/1 /home/afalcao/doc/cursos/mo434/lectures-notebooks/images/object-detection/parasites/images/train/001186.png: 640x640 (no detections), 9.8ms\n",
      "Speed: 2.0ms preprocess, 9.8ms inference, 0.7ms postprocess per image at shape (1, 3, 640, 640)\n"
     ]
    },
    {
     "name": "stderr",
     "output_type": "stream",
     "text": [
      "Visualizing train set:  62%|███████████▏      | 456/731 [00:17<00:09, 29.95it/s]"
     ]
    },
    {
     "name": "stdout",
     "output_type": "stream",
     "text": [
      "\n",
      "image 1/1 /home/afalcao/doc/cursos/mo434/lectures-notebooks/images/object-detection/parasites/images/train/000318.png: 640x640 1 parasites, 10.1ms\n",
      "Speed: 2.2ms preprocess, 10.1ms inference, 0.9ms postprocess per image at shape (1, 3, 640, 640)\n",
      "\n",
      "image 1/1 /home/afalcao/doc/cursos/mo434/lectures-notebooks/images/object-detection/parasites/images/train/000967.png: 640x640 1 parasites, 10.3ms\n",
      "Speed: 2.1ms preprocess, 10.3ms inference, 0.9ms postprocess per image at shape (1, 3, 640, 640)\n",
      "\n",
      "image 1/1 /home/afalcao/doc/cursos/mo434/lectures-notebooks/images/object-detection/parasites/images/train/000300.png: 640x640 1 parasites, 8.2ms\n",
      "Speed: 1.7ms preprocess, 8.2ms inference, 1.2ms postprocess per image at shape (1, 3, 640, 640)\n"
     ]
    },
    {
     "name": "stderr",
     "output_type": "stream",
     "text": [
      "Visualizing train set:  63%|███████████▎      | 459/731 [00:17<00:09, 29.81it/s]"
     ]
    },
    {
     "name": "stdout",
     "output_type": "stream",
     "text": [
      "\n",
      "image 1/1 /home/afalcao/doc/cursos/mo434/lectures-notebooks/images/object-detection/parasites/images/train/000424.png: 640x640 1 parasites, 8.4ms\n",
      "Speed: 1.9ms preprocess, 8.4ms inference, 1.0ms postprocess per image at shape (1, 3, 640, 640)\n",
      "\n",
      "image 1/1 /home/afalcao/doc/cursos/mo434/lectures-notebooks/images/object-detection/parasites/images/train/000973.png: 640x640 1 parasites, 8.8ms\n",
      "Speed: 1.8ms preprocess, 8.8ms inference, 1.1ms postprocess per image at shape (1, 3, 640, 640)\n",
      "\n",
      "image 1/1 /home/afalcao/doc/cursos/mo434/lectures-notebooks/images/object-detection/parasites/images/train/001002.png: 640x640 (no detections), 9.3ms\n",
      "Speed: 1.8ms preprocess, 9.3ms inference, 0.4ms postprocess per image at shape (1, 3, 640, 640)\n"
     ]
    },
    {
     "name": "stderr",
     "output_type": "stream",
     "text": [
      "Visualizing train set:  63%|███████████▍      | 462/731 [00:17<00:09, 29.64it/s]"
     ]
    },
    {
     "name": "stdout",
     "output_type": "stream",
     "text": [
      "\n",
      "image 1/1 /home/afalcao/doc/cursos/mo434/lectures-notebooks/images/object-detection/parasites/images/train/000966.png: 640x640 1 parasites, 8.3ms\n",
      "Speed: 4.2ms preprocess, 8.3ms inference, 1.1ms postprocess per image at shape (1, 3, 640, 640)\n",
      "\n",
      "image 1/1 /home/afalcao/doc/cursos/mo434/lectures-notebooks/images/object-detection/parasites/images/train/000881.png: 640x640 1 parasites, 7.0ms\n",
      "Speed: 3.0ms preprocess, 7.0ms inference, 1.4ms postprocess per image at shape (1, 3, 640, 640)\n",
      "\n",
      "image 1/1 /home/afalcao/doc/cursos/mo434/lectures-notebooks/images/object-detection/parasites/images/train/000367.png: 640x640 (no detections), 7.4ms\n",
      "Speed: 3.4ms preprocess, 7.4ms inference, 0.6ms postprocess per image at shape (1, 3, 640, 640)\n"
     ]
    },
    {
     "name": "stderr",
     "output_type": "stream",
     "text": [
      "Visualizing train set:  64%|███████████▍      | 465/731 [00:17<00:09, 29.48it/s]"
     ]
    },
    {
     "name": "stdout",
     "output_type": "stream",
     "text": [
      "\n",
      "image 1/1 /home/afalcao/doc/cursos/mo434/lectures-notebooks/images/object-detection/parasites/images/train/000320.png: 640x640 1 parasites, 6.7ms\n",
      "Speed: 2.3ms preprocess, 6.7ms inference, 1.0ms postprocess per image at shape (1, 3, 640, 640)\n",
      "\n",
      "image 1/1 /home/afalcao/doc/cursos/mo434/lectures-notebooks/images/object-detection/parasites/images/train/000256.png: 640x640 1 parasites, 7.2ms\n",
      "Speed: 4.3ms preprocess, 7.2ms inference, 0.9ms postprocess per image at shape (1, 3, 640, 640)\n",
      "\n",
      "image 1/1 /home/afalcao/doc/cursos/mo434/lectures-notebooks/images/object-detection/parasites/images/train/000619.png: 640x640 1 parasites, 7.4ms\n",
      "Speed: 2.6ms preprocess, 7.4ms inference, 1.1ms postprocess per image at shape (1, 3, 640, 640)\n",
      "\n",
      "image 1/1 /home/afalcao/doc/cursos/mo434/lectures-notebooks/images/object-detection/parasites/images/train/000603.png: 640x640 1 parasites, 8.2ms\n",
      "Speed: 4.2ms preprocess, 8.2ms inference, 1.0ms postprocess per image at shape (1, 3, 640, 640)\n"
     ]
    },
    {
     "name": "stderr",
     "output_type": "stream",
     "text": [
      "Visualizing train set:  64%|███████████▌      | 469/731 [00:17<00:08, 29.50it/s]"
     ]
    },
    {
     "name": "stdout",
     "output_type": "stream",
     "text": [
      "\n",
      "image 1/1 /home/afalcao/doc/cursos/mo434/lectures-notebooks/images/object-detection/parasites/images/train/000034.png: 640x640 1 parasites, 6.5ms\n",
      "Speed: 2.4ms preprocess, 6.5ms inference, 0.9ms postprocess per image at shape (1, 3, 640, 640)\n",
      "\n",
      "image 1/1 /home/afalcao/doc/cursos/mo434/lectures-notebooks/images/object-detection/parasites/images/train/000234.png: 640x640 1 parasites, 7.2ms\n",
      "Speed: 2.1ms preprocess, 7.2ms inference, 1.0ms postprocess per image at shape (1, 3, 640, 640)\n",
      "\n",
      "image 1/1 /home/afalcao/doc/cursos/mo434/lectures-notebooks/images/object-detection/parasites/images/train/000197.png: 640x640 (no detections), 10.1ms\n",
      "Speed: 2.5ms preprocess, 10.1ms inference, 0.4ms postprocess per image at shape (1, 3, 640, 640)\n",
      "\n",
      "image 1/1 /home/afalcao/doc/cursos/mo434/lectures-notebooks/images/object-detection/parasites/images/train/000641.png: 640x640 1 parasites, 6.9ms\n",
      "Speed: 3.2ms preprocess, 6.9ms inference, 1.1ms postprocess per image at shape (1, 3, 640, 640)\n"
     ]
    },
    {
     "name": "stderr",
     "output_type": "stream",
     "text": [
      "Visualizing train set:  65%|███████████▋      | 473/731 [00:17<00:08, 29.74it/s]"
     ]
    },
    {
     "name": "stdout",
     "output_type": "stream",
     "text": [
      "\n",
      "image 1/1 /home/afalcao/doc/cursos/mo434/lectures-notebooks/images/object-detection/parasites/images/train/000824.png: 640x640 (no detections), 7.1ms\n",
      "Speed: 2.6ms preprocess, 7.1ms inference, 0.5ms postprocess per image at shape (1, 3, 640, 640)\n",
      "\n",
      "image 1/1 /home/afalcao/doc/cursos/mo434/lectures-notebooks/images/object-detection/parasites/images/train/000837.png: 640x640 1 parasites, 7.5ms\n",
      "Speed: 2.3ms preprocess, 7.5ms inference, 1.0ms postprocess per image at shape (1, 3, 640, 640)\n",
      "\n",
      "image 1/1 /home/afalcao/doc/cursos/mo434/lectures-notebooks/images/object-detection/parasites/images/train/000102.png: 640x640 1 parasites, 6.7ms\n",
      "Speed: 2.3ms preprocess, 6.7ms inference, 1.3ms postprocess per image at shape (1, 3, 640, 640)\n",
      "\n",
      "image 1/1 /home/afalcao/doc/cursos/mo434/lectures-notebooks/images/object-detection/parasites/images/train/000525.png: 640x640 (no detections), 6.9ms\n",
      "Speed: 2.3ms preprocess, 6.9ms inference, 0.4ms postprocess per image at shape (1, 3, 640, 640)\n"
     ]
    },
    {
     "name": "stderr",
     "output_type": "stream",
     "text": [
      "Visualizing train set:  65%|███████████▋      | 477/731 [00:17<00:08, 30.11it/s]"
     ]
    },
    {
     "name": "stdout",
     "output_type": "stream",
     "text": [
      "\n",
      "image 1/1 /home/afalcao/doc/cursos/mo434/lectures-notebooks/images/object-detection/parasites/images/train/001044.png: 640x640 1 parasites, 7.8ms\n",
      "Speed: 2.2ms preprocess, 7.8ms inference, 1.0ms postprocess per image at shape (1, 3, 640, 640)\n",
      "\n",
      "image 1/1 /home/afalcao/doc/cursos/mo434/lectures-notebooks/images/object-detection/parasites/images/train/000075.png: 640x640 (no detections), 7.8ms\n",
      "Speed: 2.0ms preprocess, 7.8ms inference, 0.4ms postprocess per image at shape (1, 3, 640, 640)\n",
      "\n",
      "image 1/1 /home/afalcao/doc/cursos/mo434/lectures-notebooks/images/object-detection/parasites/images/train/000225.png: 640x640 (no detections), 7.5ms\n",
      "Speed: 2.4ms preprocess, 7.5ms inference, 0.5ms postprocess per image at shape (1, 3, 640, 640)\n",
      "\n",
      "image 1/1 /home/afalcao/doc/cursos/mo434/lectures-notebooks/images/object-detection/parasites/images/train/000096.png: 640x640 (no detections), 7.4ms\n",
      "Speed: 2.8ms preprocess, 7.4ms inference, 0.5ms postprocess per image at shape (1, 3, 640, 640)\n"
     ]
    },
    {
     "name": "stderr",
     "output_type": "stream",
     "text": [
      "Visualizing train set:  66%|███████████▊      | 481/731 [00:17<00:08, 30.48it/s]"
     ]
    },
    {
     "name": "stdout",
     "output_type": "stream",
     "text": [
      "\n",
      "image 1/1 /home/afalcao/doc/cursos/mo434/lectures-notebooks/images/object-detection/parasites/images/train/000661.png: 640x640 1 parasites, 8.1ms\n",
      "Speed: 1.8ms preprocess, 8.1ms inference, 1.1ms postprocess per image at shape (1, 3, 640, 640)\n",
      "\n",
      "image 1/1 /home/afalcao/doc/cursos/mo434/lectures-notebooks/images/object-detection/parasites/images/train/000926.png: 640x640 (no detections), 10.0ms\n",
      "Speed: 1.8ms preprocess, 10.0ms inference, 0.5ms postprocess per image at shape (1, 3, 640, 640)\n",
      "\n",
      "image 1/1 /home/afalcao/doc/cursos/mo434/lectures-notebooks/images/object-detection/parasites/images/train/000611.png: 640x640 1 parasites, 7.3ms\n",
      "Speed: 1.9ms preprocess, 7.3ms inference, 2.3ms postprocess per image at shape (1, 3, 640, 640)\n",
      "\n",
      "image 1/1 /home/afalcao/doc/cursos/mo434/lectures-notebooks/images/object-detection/parasites/images/train/000813.png: 640x640 2 parasitess, 7.2ms\n",
      "Speed: 1.7ms preprocess, 7.2ms inference, 2.1ms postprocess per image at shape (1, 3, 640, 640)\n"
     ]
    },
    {
     "name": "stderr",
     "output_type": "stream",
     "text": [
      "Visualizing train set:  66%|███████████▉      | 485/731 [00:18<00:08, 30.39it/s]"
     ]
    },
    {
     "name": "stdout",
     "output_type": "stream",
     "text": [
      "\n",
      "image 1/1 /home/afalcao/doc/cursos/mo434/lectures-notebooks/images/object-detection/parasites/images/train/000171.png: 640x640 (no detections), 7.0ms\n",
      "Speed: 1.8ms preprocess, 7.0ms inference, 0.5ms postprocess per image at shape (1, 3, 640, 640)\n",
      "\n",
      "image 1/1 /home/afalcao/doc/cursos/mo434/lectures-notebooks/images/object-detection/parasites/images/train/001104.png: 640x640 (no detections), 7.1ms\n",
      "Speed: 1.8ms preprocess, 7.1ms inference, 0.6ms postprocess per image at shape (1, 3, 640, 640)\n",
      "\n",
      "image 1/1 /home/afalcao/doc/cursos/mo434/lectures-notebooks/images/object-detection/parasites/images/train/001034.png: 640x640 (no detections), 6.8ms\n",
      "Speed: 2.1ms preprocess, 6.8ms inference, 0.7ms postprocess per image at shape (1, 3, 640, 640)\n",
      "\n",
      "image 1/1 /home/afalcao/doc/cursos/mo434/lectures-notebooks/images/object-detection/parasites/images/train/000711.png: 640x640 1 parasites, 6.5ms\n",
      "Speed: 1.9ms preprocess, 6.5ms inference, 1.0ms postprocess per image at shape (1, 3, 640, 640)\n"
     ]
    },
    {
     "name": "stderr",
     "output_type": "stream",
     "text": [
      "Visualizing train set:  67%|████████████      | 489/731 [00:18<00:07, 30.74it/s]"
     ]
    },
    {
     "name": "stdout",
     "output_type": "stream",
     "text": [
      "\n",
      "image 1/1 /home/afalcao/doc/cursos/mo434/lectures-notebooks/images/object-detection/parasites/images/train/000085.png: 640x640 (no detections), 6.9ms\n",
      "Speed: 2.1ms preprocess, 6.9ms inference, 0.4ms postprocess per image at shape (1, 3, 640, 640)\n",
      "\n",
      "image 1/1 /home/afalcao/doc/cursos/mo434/lectures-notebooks/images/object-detection/parasites/images/train/001007.png: 640x640 1 parasites, 6.9ms\n",
      "Speed: 3.3ms preprocess, 6.9ms inference, 1.4ms postprocess per image at shape (1, 3, 640, 640)\n",
      "\n",
      "image 1/1 /home/afalcao/doc/cursos/mo434/lectures-notebooks/images/object-detection/parasites/images/train/000316.png: 640x640 1 parasites, 7.4ms\n",
      "Speed: 1.9ms preprocess, 7.4ms inference, 1.2ms postprocess per image at shape (1, 3, 640, 640)\n",
      "\n",
      "image 1/1 /home/afalcao/doc/cursos/mo434/lectures-notebooks/images/object-detection/parasites/images/train/001138.png: 640x640 (no detections), 10.5ms\n",
      "Speed: 1.8ms preprocess, 10.5ms inference, 0.9ms postprocess per image at shape (1, 3, 640, 640)\n"
     ]
    },
    {
     "name": "stderr",
     "output_type": "stream",
     "text": [
      "Visualizing train set:  67%|████████████▏     | 493/731 [00:18<00:07, 30.01it/s]"
     ]
    },
    {
     "name": "stdout",
     "output_type": "stream",
     "text": [
      "\n",
      "image 1/1 /home/afalcao/doc/cursos/mo434/lectures-notebooks/images/object-detection/parasites/images/train/000376.png: 640x640 (no detections), 7.5ms\n",
      "Speed: 1.8ms preprocess, 7.5ms inference, 0.7ms postprocess per image at shape (1, 3, 640, 640)\n",
      "\n",
      "image 1/1 /home/afalcao/doc/cursos/mo434/lectures-notebooks/images/object-detection/parasites/images/train/000027.png: 640x640 1 parasites, 7.5ms\n",
      "Speed: 2.0ms preprocess, 7.5ms inference, 2.1ms postprocess per image at shape (1, 3, 640, 640)\n",
      "\n",
      "image 1/1 /home/afalcao/doc/cursos/mo434/lectures-notebooks/images/object-detection/parasites/images/train/000579.png: 640x640 1 parasites, 9.6ms\n",
      "Speed: 3.8ms preprocess, 9.6ms inference, 1.2ms postprocess per image at shape (1, 3, 640, 640)\n",
      "\n",
      "image 1/1 /home/afalcao/doc/cursos/mo434/lectures-notebooks/images/object-detection/parasites/images/train/000203.png: 640x640 1 parasites, 7.3ms\n",
      "Speed: 2.8ms preprocess, 7.3ms inference, 1.1ms postprocess per image at shape (1, 3, 640, 640)\n"
     ]
    },
    {
     "name": "stderr",
     "output_type": "stream",
     "text": [
      "Visualizing train set:  68%|████████████▏     | 497/731 [00:18<00:07, 29.37it/s]"
     ]
    },
    {
     "name": "stdout",
     "output_type": "stream",
     "text": [
      "\n",
      "image 1/1 /home/afalcao/doc/cursos/mo434/lectures-notebooks/images/object-detection/parasites/images/train/000597.png: 640x640 1 parasites, 7.4ms\n",
      "Speed: 1.8ms preprocess, 7.4ms inference, 1.3ms postprocess per image at shape (1, 3, 640, 640)\n",
      "\n",
      "image 1/1 /home/afalcao/doc/cursos/mo434/lectures-notebooks/images/object-detection/parasites/images/train/000644.png: 640x640 (no detections), 9.1ms\n",
      "Speed: 2.6ms preprocess, 9.1ms inference, 0.4ms postprocess per image at shape (1, 3, 640, 640)\n",
      "\n",
      "image 1/1 /home/afalcao/doc/cursos/mo434/lectures-notebooks/images/object-detection/parasites/images/train/000944.png: 640x640 (no detections), 8.2ms\n",
      "Speed: 3.0ms preprocess, 8.2ms inference, 0.4ms postprocess per image at shape (1, 3, 640, 640)\n"
     ]
    },
    {
     "name": "stderr",
     "output_type": "stream",
     "text": [
      "Visualizing train set:  68%|████████████▎     | 500/731 [00:18<00:07, 29.51it/s]"
     ]
    },
    {
     "name": "stdout",
     "output_type": "stream",
     "text": [
      "\n",
      "image 1/1 /home/afalcao/doc/cursos/mo434/lectures-notebooks/images/object-detection/parasites/images/train/000729.png: 640x640 1 parasites, 7.2ms\n",
      "Speed: 2.5ms preprocess, 7.2ms inference, 1.1ms postprocess per image at shape (1, 3, 640, 640)\n",
      "\n",
      "image 1/1 /home/afalcao/doc/cursos/mo434/lectures-notebooks/images/object-detection/parasites/images/train/000184.png: 640x640 1 parasites, 8.0ms\n",
      "Speed: 2.6ms preprocess, 8.0ms inference, 0.9ms postprocess per image at shape (1, 3, 640, 640)\n",
      "\n",
      "image 1/1 /home/afalcao/doc/cursos/mo434/lectures-notebooks/images/object-detection/parasites/images/train/000955.png: 640x640 1 parasites, 7.3ms\n",
      "Speed: 2.1ms preprocess, 7.3ms inference, 0.9ms postprocess per image at shape (1, 3, 640, 640)\n",
      "\n",
      "image 1/1 /home/afalcao/doc/cursos/mo434/lectures-notebooks/images/object-detection/parasites/images/train/000845.png: 640x640 1 parasites, 7.9ms\n",
      "Speed: 2.0ms preprocess, 7.9ms inference, 1.4ms postprocess per image at shape (1, 3, 640, 640)\n"
     ]
    },
    {
     "name": "stderr",
     "output_type": "stream",
     "text": [
      "Visualizing train set:  69%|████████████▍     | 504/731 [00:18<00:07, 30.17it/s]"
     ]
    },
    {
     "name": "stdout",
     "output_type": "stream",
     "text": [
      "\n",
      "image 1/1 /home/afalcao/doc/cursos/mo434/lectures-notebooks/images/object-detection/parasites/images/train/000908.png: 640x640 (no detections), 9.1ms\n",
      "Speed: 1.8ms preprocess, 9.1ms inference, 0.5ms postprocess per image at shape (1, 3, 640, 640)\n",
      "\n",
      "image 1/1 /home/afalcao/doc/cursos/mo434/lectures-notebooks/images/object-detection/parasites/images/train/000841.png: 640x640 1 parasites, 7.5ms\n",
      "Speed: 1.8ms preprocess, 7.5ms inference, 1.0ms postprocess per image at shape (1, 3, 640, 640)\n",
      "\n",
      "image 1/1 /home/afalcao/doc/cursos/mo434/lectures-notebooks/images/object-detection/parasites/images/train/000080.png: 640x640 1 parasites, 7.2ms\n",
      "Speed: 1.7ms preprocess, 7.2ms inference, 1.6ms postprocess per image at shape (1, 3, 640, 640)\n",
      "\n",
      "image 1/1 /home/afalcao/doc/cursos/mo434/lectures-notebooks/images/object-detection/parasites/images/train/001121.png: 640x640 2 parasitess, 7.5ms\n",
      "Speed: 1.7ms preprocess, 7.5ms inference, 1.6ms postprocess per image at shape (1, 3, 640, 640)\n"
     ]
    },
    {
     "name": "stderr",
     "output_type": "stream",
     "text": [
      "Visualizing train set:  69%|████████████▌     | 508/731 [00:18<00:07, 30.24it/s]"
     ]
    },
    {
     "name": "stdout",
     "output_type": "stream",
     "text": [
      "\n",
      "image 1/1 /home/afalcao/doc/cursos/mo434/lectures-notebooks/images/object-detection/parasites/images/train/001210.png: 640x640 1 parasites, 6.8ms\n",
      "Speed: 1.7ms preprocess, 6.8ms inference, 2.0ms postprocess per image at shape (1, 3, 640, 640)\n",
      "\n",
      "image 1/1 /home/afalcao/doc/cursos/mo434/lectures-notebooks/images/object-detection/parasites/images/train/000058.png: 640x640 1 parasites, 6.7ms\n",
      "Speed: 1.8ms preprocess, 6.7ms inference, 1.8ms postprocess per image at shape (1, 3, 640, 640)\n",
      "\n",
      "image 1/1 /home/afalcao/doc/cursos/mo434/lectures-notebooks/images/object-detection/parasites/images/train/000029.png: 640x640 1 parasites, 6.7ms\n",
      "Speed: 1.8ms preprocess, 6.7ms inference, 1.1ms postprocess per image at shape (1, 3, 640, 640)\n",
      "\n",
      "image 1/1 /home/afalcao/doc/cursos/mo434/lectures-notebooks/images/object-detection/parasites/images/train/000305.png: 640x640 (no detections), 6.6ms\n",
      "Speed: 1.7ms preprocess, 6.6ms inference, 0.6ms postprocess per image at shape (1, 3, 640, 640)\n"
     ]
    },
    {
     "name": "stderr",
     "output_type": "stream",
     "text": [
      "Visualizing train set:  70%|████████████▌     | 512/731 [00:19<00:07, 30.28it/s]"
     ]
    },
    {
     "name": "stdout",
     "output_type": "stream",
     "text": [
      "\n",
      "image 1/1 /home/afalcao/doc/cursos/mo434/lectures-notebooks/images/object-detection/parasites/images/train/001018.png: 640x640 (no detections), 6.6ms\n",
      "Speed: 1.7ms preprocess, 6.6ms inference, 0.4ms postprocess per image at shape (1, 3, 640, 640)\n",
      "\n",
      "image 1/1 /home/afalcao/doc/cursos/mo434/lectures-notebooks/images/object-detection/parasites/images/train/000995.png: 640x640 1 parasites, 6.5ms\n",
      "Speed: 1.7ms preprocess, 6.5ms inference, 1.1ms postprocess per image at shape (1, 3, 640, 640)\n",
      "\n",
      "image 1/1 /home/afalcao/doc/cursos/mo434/lectures-notebooks/images/object-detection/parasites/images/train/000018.png: 640x640 1 parasites, 6.3ms\n",
      "Speed: 1.7ms preprocess, 6.3ms inference, 1.2ms postprocess per image at shape (1, 3, 640, 640)\n",
      "\n",
      "image 1/1 /home/afalcao/doc/cursos/mo434/lectures-notebooks/images/object-detection/parasites/images/train/000580.png: 640x640 (no detections), 6.3ms\n",
      "Speed: 1.9ms preprocess, 6.3ms inference, 0.4ms postprocess per image at shape (1, 3, 640, 640)\n"
     ]
    },
    {
     "name": "stderr",
     "output_type": "stream",
     "text": [
      "Visualizing train set:  71%|████████████▋     | 516/731 [00:19<00:07, 30.67it/s]"
     ]
    },
    {
     "name": "stdout",
     "output_type": "stream",
     "text": [
      "\n",
      "image 1/1 /home/afalcao/doc/cursos/mo434/lectures-notebooks/images/object-detection/parasites/images/train/000455.png: 640x640 1 parasites, 7.6ms\n",
      "Speed: 2.4ms preprocess, 7.6ms inference, 1.0ms postprocess per image at shape (1, 3, 640, 640)\n",
      "\n",
      "image 1/1 /home/afalcao/doc/cursos/mo434/lectures-notebooks/images/object-detection/parasites/images/train/000767.png: 640x640 1 parasites, 7.7ms\n",
      "Speed: 2.1ms preprocess, 7.7ms inference, 0.9ms postprocess per image at shape (1, 3, 640, 640)\n",
      "\n",
      "image 1/1 /home/afalcao/doc/cursos/mo434/lectures-notebooks/images/object-detection/parasites/images/train/000377.png: 640x640 1 parasites, 7.4ms\n",
      "Speed: 1.7ms preprocess, 7.4ms inference, 1.2ms postprocess per image at shape (1, 3, 640, 640)\n",
      "\n",
      "image 1/1 /home/afalcao/doc/cursos/mo434/lectures-notebooks/images/object-detection/parasites/images/train/000114.png: 640x640 1 parasites, 7.4ms\n",
      "Speed: 1.7ms preprocess, 7.4ms inference, 1.2ms postprocess per image at shape (1, 3, 640, 640)\n"
     ]
    },
    {
     "name": "stderr",
     "output_type": "stream",
     "text": [
      "Visualizing train set:  71%|████████████▊     | 520/731 [00:19<00:06, 30.84it/s]"
     ]
    },
    {
     "name": "stdout",
     "output_type": "stream",
     "text": [
      "\n",
      "image 1/1 /home/afalcao/doc/cursos/mo434/lectures-notebooks/images/object-detection/parasites/images/train/000453.png: 640x640 (no detections), 7.1ms\n",
      "Speed: 1.8ms preprocess, 7.1ms inference, 0.4ms postprocess per image at shape (1, 3, 640, 640)\n",
      "\n",
      "image 1/1 /home/afalcao/doc/cursos/mo434/lectures-notebooks/images/object-detection/parasites/images/train/000222.png: 640x640 1 parasites, 6.5ms\n",
      "Speed: 1.8ms preprocess, 6.5ms inference, 2.2ms postprocess per image at shape (1, 3, 640, 640)\n",
      "\n",
      "image 1/1 /home/afalcao/doc/cursos/mo434/lectures-notebooks/images/object-detection/parasites/images/train/000725.png: 640x640 1 parasites, 6.6ms\n",
      "Speed: 2.1ms preprocess, 6.6ms inference, 2.4ms postprocess per image at shape (1, 3, 640, 640)\n",
      "\n",
      "image 1/1 /home/afalcao/doc/cursos/mo434/lectures-notebooks/images/object-detection/parasites/images/train/000354.png: 640x640 1 parasites, 7.7ms\n",
      "Speed: 2.4ms preprocess, 7.7ms inference, 1.1ms postprocess per image at shape (1, 3, 640, 640)\n"
     ]
    },
    {
     "name": "stderr",
     "output_type": "stream",
     "text": [
      "Visualizing train set:  72%|████████████▉     | 524/731 [00:19<00:06, 30.59it/s]"
     ]
    },
    {
     "name": "stdout",
     "output_type": "stream",
     "text": [
      "\n",
      "image 1/1 /home/afalcao/doc/cursos/mo434/lectures-notebooks/images/object-detection/parasites/images/train/000599.png: 640x640 2 parasitess, 7.1ms\n",
      "Speed: 1.8ms preprocess, 7.1ms inference, 0.9ms postprocess per image at shape (1, 3, 640, 640)\n",
      "\n",
      "image 1/1 /home/afalcao/doc/cursos/mo434/lectures-notebooks/images/object-detection/parasites/images/train/000462.png: 640x640 (no detections), 6.9ms\n",
      "Speed: 2.2ms preprocess, 6.9ms inference, 0.9ms postprocess per image at shape (1, 3, 640, 640)\n",
      "\n",
      "image 1/1 /home/afalcao/doc/cursos/mo434/lectures-notebooks/images/object-detection/parasites/images/train/000352.png: 640x640 1 parasites, 7.8ms\n",
      "Speed: 2.1ms preprocess, 7.8ms inference, 1.9ms postprocess per image at shape (1, 3, 640, 640)\n",
      "\n",
      "image 1/1 /home/afalcao/doc/cursos/mo434/lectures-notebooks/images/object-detection/parasites/images/train/000859.png: 640x640 1 parasites, 9.4ms\n",
      "Speed: 1.9ms preprocess, 9.4ms inference, 1.2ms postprocess per image at shape (1, 3, 640, 640)\n"
     ]
    },
    {
     "name": "stderr",
     "output_type": "stream",
     "text": [
      "Visualizing train set:  72%|█████████████     | 528/731 [00:19<00:06, 30.47it/s]"
     ]
    },
    {
     "name": "stdout",
     "output_type": "stream",
     "text": [
      "\n",
      "image 1/1 /home/afalcao/doc/cursos/mo434/lectures-notebooks/images/object-detection/parasites/images/train/000589.png: 640x640 1 parasites, 8.5ms\n",
      "Speed: 2.5ms preprocess, 8.5ms inference, 0.9ms postprocess per image at shape (1, 3, 640, 640)\n",
      "\n",
      "image 1/1 /home/afalcao/doc/cursos/mo434/lectures-notebooks/images/object-detection/parasites/images/train/000586.png: 640x640 2 parasitess, 7.3ms\n",
      "Speed: 2.1ms preprocess, 7.3ms inference, 1.0ms postprocess per image at shape (1, 3, 640, 640)\n",
      "\n",
      "image 1/1 /home/afalcao/doc/cursos/mo434/lectures-notebooks/images/object-detection/parasites/images/train/000283.png: 640x640 (no detections), 8.6ms\n",
      "Speed: 2.7ms preprocess, 8.6ms inference, 0.4ms postprocess per image at shape (1, 3, 640, 640)\n",
      "\n",
      "image 1/1 /home/afalcao/doc/cursos/mo434/lectures-notebooks/images/object-detection/parasites/images/train/000771.png: 640x640 1 parasites, 8.9ms\n",
      "Speed: 2.1ms preprocess, 8.9ms inference, 1.0ms postprocess per image at shape (1, 3, 640, 640)\n"
     ]
    },
    {
     "name": "stderr",
     "output_type": "stream",
     "text": [
      "Visualizing train set:  73%|█████████████     | 532/731 [00:19<00:06, 30.05it/s]"
     ]
    },
    {
     "name": "stdout",
     "output_type": "stream",
     "text": [
      "\n",
      "image 1/1 /home/afalcao/doc/cursos/mo434/lectures-notebooks/images/object-detection/parasites/images/train/000698.png: 640x640 (no detections), 7.7ms\n",
      "Speed: 2.8ms preprocess, 7.7ms inference, 0.4ms postprocess per image at shape (1, 3, 640, 640)\n",
      "\n",
      "image 1/1 /home/afalcao/doc/cursos/mo434/lectures-notebooks/images/object-detection/parasites/images/train/000709.png: 640x640 1 parasites, 7.8ms\n",
      "Speed: 2.8ms preprocess, 7.8ms inference, 1.0ms postprocess per image at shape (1, 3, 640, 640)\n",
      "\n",
      "image 1/1 /home/afalcao/doc/cursos/mo434/lectures-notebooks/images/object-detection/parasites/images/train/000963.png: 640x640 1 parasites, 7.2ms\n",
      "Speed: 2.1ms preprocess, 7.2ms inference, 1.4ms postprocess per image at shape (1, 3, 640, 640)\n",
      "\n",
      "image 1/1 /home/afalcao/doc/cursos/mo434/lectures-notebooks/images/object-detection/parasites/images/train/001184.png: 640x640 (no detections), 7.8ms\n",
      "Speed: 2.6ms preprocess, 7.8ms inference, 0.9ms postprocess per image at shape (1, 3, 640, 640)\n"
     ]
    },
    {
     "name": "stderr",
     "output_type": "stream",
     "text": [
      "Visualizing train set:  73%|█████████████▏    | 536/731 [00:19<00:06, 29.19it/s]"
     ]
    },
    {
     "name": "stdout",
     "output_type": "stream",
     "text": [
      "\n",
      "image 1/1 /home/afalcao/doc/cursos/mo434/lectures-notebooks/images/object-detection/parasites/images/train/001214.png: 640x640 (no detections), 8.5ms\n",
      "Speed: 1.7ms preprocess, 8.5ms inference, 0.5ms postprocess per image at shape (1, 3, 640, 640)\n",
      "\n",
      "image 1/1 /home/afalcao/doc/cursos/mo434/lectures-notebooks/images/object-detection/parasites/images/train/000295.png: 640x640 (no detections), 9.8ms\n",
      "Speed: 1.7ms preprocess, 9.8ms inference, 0.6ms postprocess per image at shape (1, 3, 640, 640)\n",
      "\n",
      "image 1/1 /home/afalcao/doc/cursos/mo434/lectures-notebooks/images/object-detection/parasites/images/train/001091.png: 640x640 1 parasites, 9.2ms\n",
      "Speed: 3.2ms preprocess, 9.2ms inference, 1.4ms postprocess per image at shape (1, 3, 640, 640)\n"
     ]
    },
    {
     "name": "stderr",
     "output_type": "stream",
     "text": [
      "Visualizing train set:  74%|█████████████▎    | 539/731 [00:19<00:06, 28.90it/s]"
     ]
    },
    {
     "name": "stdout",
     "output_type": "stream",
     "text": [
      "\n",
      "image 1/1 /home/afalcao/doc/cursos/mo434/lectures-notebooks/images/object-detection/parasites/images/train/000375.png: 640x640 1 parasites, 7.4ms\n",
      "Speed: 3.1ms preprocess, 7.4ms inference, 1.6ms postprocess per image at shape (1, 3, 640, 640)\n",
      "\n",
      "image 1/1 /home/afalcao/doc/cursos/mo434/lectures-notebooks/images/object-detection/parasites/images/train/000403.png: 640x640 1 parasites, 7.9ms\n",
      "Speed: 3.6ms preprocess, 7.9ms inference, 1.2ms postprocess per image at shape (1, 3, 640, 640)\n",
      "\n",
      "image 1/1 /home/afalcao/doc/cursos/mo434/lectures-notebooks/images/object-detection/parasites/images/train/001134.png: 640x640 (no detections), 7.8ms\n",
      "Speed: 3.3ms preprocess, 7.8ms inference, 0.5ms postprocess per image at shape (1, 3, 640, 640)\n"
     ]
    },
    {
     "name": "stderr",
     "output_type": "stream",
     "text": [
      "Visualizing train set:  74%|█████████████▎    | 542/731 [00:20<00:06, 29.07it/s]"
     ]
    },
    {
     "name": "stdout",
     "output_type": "stream",
     "text": [
      "\n",
      "image 1/1 /home/afalcao/doc/cursos/mo434/lectures-notebooks/images/object-detection/parasites/images/train/000103.png: 640x640 1 parasites, 8.6ms\n",
      "Speed: 3.7ms preprocess, 8.6ms inference, 1.0ms postprocess per image at shape (1, 3, 640, 640)\n",
      "\n",
      "image 1/1 /home/afalcao/doc/cursos/mo434/lectures-notebooks/images/object-detection/parasites/images/train/001070.png: 640x640 (no detections), 8.6ms\n",
      "Speed: 2.2ms preprocess, 8.6ms inference, 0.5ms postprocess per image at shape (1, 3, 640, 640)\n",
      "\n",
      "image 1/1 /home/afalcao/doc/cursos/mo434/lectures-notebooks/images/object-detection/parasites/images/train/000531.png: 640x640 1 parasites, 9.0ms\n",
      "Speed: 3.4ms preprocess, 9.0ms inference, 1.0ms postprocess per image at shape (1, 3, 640, 640)\n"
     ]
    },
    {
     "name": "stderr",
     "output_type": "stream",
     "text": [
      "Visualizing train set:  75%|█████████████▍    | 545/731 [00:20<00:06, 29.07it/s]"
     ]
    },
    {
     "name": "stdout",
     "output_type": "stream",
     "text": [
      "\n",
      "image 1/1 /home/afalcao/doc/cursos/mo434/lectures-notebooks/images/object-detection/parasites/images/train/000443.png: 640x640 1 parasites, 7.1ms\n",
      "Speed: 1.8ms preprocess, 7.1ms inference, 1.0ms postprocess per image at shape (1, 3, 640, 640)\n",
      "\n",
      "image 1/1 /home/afalcao/doc/cursos/mo434/lectures-notebooks/images/object-detection/parasites/images/train/000788.png: 640x640 (no detections), 8.3ms\n",
      "Speed: 3.2ms preprocess, 8.3ms inference, 0.4ms postprocess per image at shape (1, 3, 640, 640)\n",
      "\n",
      "image 1/1 /home/afalcao/doc/cursos/mo434/lectures-notebooks/images/object-detection/parasites/images/train/001093.png: 640x640 1 parasites, 7.6ms\n",
      "Speed: 2.9ms preprocess, 7.6ms inference, 1.7ms postprocess per image at shape (1, 3, 640, 640)\n"
     ]
    },
    {
     "name": "stderr",
     "output_type": "stream",
     "text": [
      "Visualizing train set:  75%|█████████████▍    | 548/731 [00:20<00:06, 29.02it/s]"
     ]
    },
    {
     "name": "stdout",
     "output_type": "stream",
     "text": [
      "\n",
      "image 1/1 /home/afalcao/doc/cursos/mo434/lectures-notebooks/images/object-detection/parasites/images/train/000381.png: 640x640 1 parasites, 8.5ms\n",
      "Speed: 2.0ms preprocess, 8.5ms inference, 1.0ms postprocess per image at shape (1, 3, 640, 640)\n",
      "\n",
      "image 1/1 /home/afalcao/doc/cursos/mo434/lectures-notebooks/images/object-detection/parasites/images/train/000470.png: 640x640 (no detections), 7.3ms\n",
      "Speed: 2.8ms preprocess, 7.3ms inference, 0.4ms postprocess per image at shape (1, 3, 640, 640)\n",
      "\n",
      "image 1/1 /home/afalcao/doc/cursos/mo434/lectures-notebooks/images/object-detection/parasites/images/train/000826.png: 640x640 (no detections), 7.6ms\n",
      "Speed: 2.2ms preprocess, 7.6ms inference, 0.5ms postprocess per image at shape (1, 3, 640, 640)\n"
     ]
    },
    {
     "name": "stderr",
     "output_type": "stream",
     "text": [
      "Visualizing train set:  75%|█████████████▌    | 551/731 [00:20<00:06, 29.27it/s]"
     ]
    },
    {
     "name": "stdout",
     "output_type": "stream",
     "text": [
      "\n",
      "image 1/1 /home/afalcao/doc/cursos/mo434/lectures-notebooks/images/object-detection/parasites/images/train/000433.png: 640x640 1 parasites, 8.9ms\n",
      "Speed: 2.9ms preprocess, 8.9ms inference, 0.9ms postprocess per image at shape (1, 3, 640, 640)\n",
      "\n",
      "image 1/1 /home/afalcao/doc/cursos/mo434/lectures-notebooks/images/object-detection/parasites/images/train/000046.png: 640x640 1 parasites, 10.1ms\n",
      "Speed: 2.2ms preprocess, 10.1ms inference, 1.2ms postprocess per image at shape (1, 3, 640, 640)\n",
      "\n",
      "image 1/1 /home/afalcao/doc/cursos/mo434/lectures-notebooks/images/object-detection/parasites/images/train/000185.png: 640x640 (no detections), 7.3ms\n",
      "Speed: 2.4ms preprocess, 7.3ms inference, 0.4ms postprocess per image at shape (1, 3, 640, 640)\n"
     ]
    },
    {
     "name": "stderr",
     "output_type": "stream",
     "text": [
      "Visualizing train set:  76%|█████████████▋    | 554/731 [00:20<00:06, 28.72it/s]"
     ]
    },
    {
     "name": "stdout",
     "output_type": "stream",
     "text": [
      "\n",
      "image 1/1 /home/afalcao/doc/cursos/mo434/lectures-notebooks/images/object-detection/parasites/images/train/000217.png: 640x640 (no detections), 7.3ms\n",
      "Speed: 1.8ms preprocess, 7.3ms inference, 0.4ms postprocess per image at shape (1, 3, 640, 640)\n",
      "\n",
      "image 1/1 /home/afalcao/doc/cursos/mo434/lectures-notebooks/images/object-detection/parasites/images/train/000481.png: 640x640 1 parasites, 6.7ms\n",
      "Speed: 1.9ms preprocess, 6.7ms inference, 1.0ms postprocess per image at shape (1, 3, 640, 640)\n",
      "\n",
      "image 1/1 /home/afalcao/doc/cursos/mo434/lectures-notebooks/images/object-detection/parasites/images/train/000240.png: 640x640 1 parasites, 6.6ms\n",
      "Speed: 2.9ms preprocess, 6.6ms inference, 0.9ms postprocess per image at shape (1, 3, 640, 640)\n",
      "\n",
      "image 1/1 /home/afalcao/doc/cursos/mo434/lectures-notebooks/images/object-detection/parasites/images/train/000746.png: 640x640 1 parasites, 6.8ms\n",
      "Speed: 3.1ms preprocess, 6.8ms inference, 1.1ms postprocess per image at shape (1, 3, 640, 640)\n"
     ]
    },
    {
     "name": "stderr",
     "output_type": "stream",
     "text": [
      "Visualizing train set:  76%|█████████████▋    | 558/731 [00:20<00:05, 29.25it/s]"
     ]
    },
    {
     "name": "stdout",
     "output_type": "stream",
     "text": [
      "\n",
      "image 1/1 /home/afalcao/doc/cursos/mo434/lectures-notebooks/images/object-detection/parasites/images/train/000782.png: 640x640 (no detections), 7.8ms\n",
      "Speed: 2.9ms preprocess, 7.8ms inference, 0.4ms postprocess per image at shape (1, 3, 640, 640)\n",
      "\n",
      "image 1/1 /home/afalcao/doc/cursos/mo434/lectures-notebooks/images/object-detection/parasites/images/train/001175.png: 640x640 (no detections), 7.4ms\n",
      "Speed: 1.7ms preprocess, 7.4ms inference, 0.4ms postprocess per image at shape (1, 3, 640, 640)\n",
      "\n",
      "image 1/1 /home/afalcao/doc/cursos/mo434/lectures-notebooks/images/object-detection/parasites/images/train/000460.png: 640x640 (no detections), 8.2ms\n",
      "Speed: 1.7ms preprocess, 8.2ms inference, 0.6ms postprocess per image at shape (1, 3, 640, 640)\n"
     ]
    },
    {
     "name": "stderr",
     "output_type": "stream",
     "text": [
      "Visualizing train set:  77%|█████████████▊    | 561/731 [00:20<00:05, 29.21it/s]"
     ]
    },
    {
     "name": "stdout",
     "output_type": "stream",
     "text": [
      "\n",
      "image 1/1 /home/afalcao/doc/cursos/mo434/lectures-notebooks/images/object-detection/parasites/images/train/000784.png: 640x640 (no detections), 7.6ms\n",
      "Speed: 2.0ms preprocess, 7.6ms inference, 0.5ms postprocess per image at shape (1, 3, 640, 640)\n",
      "\n",
      "image 1/1 /home/afalcao/doc/cursos/mo434/lectures-notebooks/images/object-detection/parasites/images/train/000020.png: 640x640 1 parasites, 6.3ms\n",
      "Speed: 2.3ms preprocess, 6.3ms inference, 0.9ms postprocess per image at shape (1, 3, 640, 640)\n",
      "\n",
      "image 1/1 /home/afalcao/doc/cursos/mo434/lectures-notebooks/images/object-detection/parasites/images/train/000964.png: 640x640 (no detections), 9.2ms\n",
      "Speed: 2.6ms preprocess, 9.2ms inference, 0.5ms postprocess per image at shape (1, 3, 640, 640)\n",
      "\n",
      "image 1/1 /home/afalcao/doc/cursos/mo434/lectures-notebooks/images/object-detection/parasites/images/train/000740.png: 640x640 (no detections), 6.7ms\n",
      "Speed: 2.4ms preprocess, 6.7ms inference, 0.4ms postprocess per image at shape (1, 3, 640, 640)\n"
     ]
    },
    {
     "name": "stderr",
     "output_type": "stream",
     "text": [
      "Visualizing train set:  77%|█████████████▉    | 565/731 [00:20<00:05, 29.85it/s]"
     ]
    },
    {
     "name": "stdout",
     "output_type": "stream",
     "text": [
      "\n",
      "image 1/1 /home/afalcao/doc/cursos/mo434/lectures-notebooks/images/object-detection/parasites/images/train/000828.png: 640x640 (no detections), 6.9ms\n",
      "Speed: 3.6ms preprocess, 6.9ms inference, 0.4ms postprocess per image at shape (1, 3, 640, 640)\n",
      "\n",
      "image 1/1 /home/afalcao/doc/cursos/mo434/lectures-notebooks/images/object-detection/parasites/images/train/000408.png: 640x640 (no detections), 6.9ms\n",
      "Speed: 2.0ms preprocess, 6.9ms inference, 0.4ms postprocess per image at shape (1, 3, 640, 640)\n",
      "\n",
      "image 1/1 /home/afalcao/doc/cursos/mo434/lectures-notebooks/images/object-detection/parasites/images/train/000807.png: 640x640 1 parasites, 7.1ms\n",
      "Speed: 2.1ms preprocess, 7.1ms inference, 0.9ms postprocess per image at shape (1, 3, 640, 640)\n",
      "\n",
      "image 1/1 /home/afalcao/doc/cursos/mo434/lectures-notebooks/images/object-detection/parasites/images/train/001205.png: 640x640 (no detections), 7.5ms\n",
      "Speed: 1.9ms preprocess, 7.5ms inference, 0.6ms postprocess per image at shape (1, 3, 640, 640)\n"
     ]
    },
    {
     "name": "stderr",
     "output_type": "stream",
     "text": [
      "Visualizing train set:  78%|██████████████    | 569/731 [00:20<00:05, 30.33it/s]"
     ]
    },
    {
     "name": "stdout",
     "output_type": "stream",
     "text": [
      "\n",
      "image 1/1 /home/afalcao/doc/cursos/mo434/lectures-notebooks/images/object-detection/parasites/images/train/001109.png: 640x640 1 parasites, 7.7ms\n",
      "Speed: 1.8ms preprocess, 7.7ms inference, 1.3ms postprocess per image at shape (1, 3, 640, 640)\n",
      "\n",
      "image 1/1 /home/afalcao/doc/cursos/mo434/lectures-notebooks/images/object-detection/parasites/images/train/000220.png: 640x640 1 parasites, 7.0ms\n",
      "Speed: 1.9ms preprocess, 7.0ms inference, 2.3ms postprocess per image at shape (1, 3, 640, 640)\n",
      "\n",
      "image 1/1 /home/afalcao/doc/cursos/mo434/lectures-notebooks/images/object-detection/parasites/images/train/000651.png: 640x640 1 parasites, 7.1ms\n",
      "Speed: 2.0ms preprocess, 7.1ms inference, 1.1ms postprocess per image at shape (1, 3, 640, 640)\n",
      "\n",
      "image 1/1 /home/afalcao/doc/cursos/mo434/lectures-notebooks/images/object-detection/parasites/images/train/000163.png: 640x640 (no detections), 7.1ms\n",
      "Speed: 2.0ms preprocess, 7.1ms inference, 0.4ms postprocess per image at shape (1, 3, 640, 640)\n"
     ]
    },
    {
     "name": "stderr",
     "output_type": "stream",
     "text": [
      "Visualizing train set:  78%|██████████████    | 573/731 [00:21<00:05, 30.68it/s]"
     ]
    },
    {
     "name": "stdout",
     "output_type": "stream",
     "text": [
      "\n",
      "image 1/1 /home/afalcao/doc/cursos/mo434/lectures-notebooks/images/object-detection/parasites/images/train/001202.png: 640x640 1 parasites, 7.4ms\n",
      "Speed: 2.6ms preprocess, 7.4ms inference, 1.0ms postprocess per image at shape (1, 3, 640, 640)\n",
      "\n",
      "image 1/1 /home/afalcao/doc/cursos/mo434/lectures-notebooks/images/object-detection/parasites/images/train/000952.png: 640x640 (no detections), 7.4ms\n",
      "Speed: 2.1ms preprocess, 7.4ms inference, 0.6ms postprocess per image at shape (1, 3, 640, 640)\n",
      "\n",
      "image 1/1 /home/afalcao/doc/cursos/mo434/lectures-notebooks/images/object-detection/parasites/images/train/000258.png: 640x640 1 parasites, 7.4ms\n",
      "Speed: 2.1ms preprocess, 7.4ms inference, 1.0ms postprocess per image at shape (1, 3, 640, 640)\n",
      "\n",
      "image 1/1 /home/afalcao/doc/cursos/mo434/lectures-notebooks/images/object-detection/parasites/images/train/000921.png: 640x640 1 parasites, 7.2ms\n",
      "Speed: 1.8ms preprocess, 7.2ms inference, 1.0ms postprocess per image at shape (1, 3, 640, 640)\n"
     ]
    },
    {
     "name": "stderr",
     "output_type": "stream",
     "text": [
      "Visualizing train set:  79%|██████████████▏   | 577/731 [00:21<00:04, 30.89it/s]"
     ]
    },
    {
     "name": "stdout",
     "output_type": "stream",
     "text": [
      "\n",
      "image 1/1 /home/afalcao/doc/cursos/mo434/lectures-notebooks/images/object-detection/parasites/images/train/000324.png: 640x640 1 parasites, 6.9ms\n",
      "Speed: 1.7ms preprocess, 6.9ms inference, 1.0ms postprocess per image at shape (1, 3, 640, 640)\n",
      "\n",
      "image 1/1 /home/afalcao/doc/cursos/mo434/lectures-notebooks/images/object-detection/parasites/images/train/000950.png: 640x640 (no detections), 6.9ms\n",
      "Speed: 1.8ms preprocess, 6.9ms inference, 0.5ms postprocess per image at shape (1, 3, 640, 640)\n",
      "\n",
      "image 1/1 /home/afalcao/doc/cursos/mo434/lectures-notebooks/images/object-detection/parasites/images/train/000005.png: 640x640 1 parasites, 6.8ms\n",
      "Speed: 1.8ms preprocess, 6.8ms inference, 1.6ms postprocess per image at shape (1, 3, 640, 640)\n",
      "\n",
      "image 1/1 /home/afalcao/doc/cursos/mo434/lectures-notebooks/images/object-detection/parasites/images/train/001156.png: 640x640 (no detections), 6.4ms\n",
      "Speed: 1.9ms preprocess, 6.4ms inference, 0.4ms postprocess per image at shape (1, 3, 640, 640)\n"
     ]
    },
    {
     "name": "stderr",
     "output_type": "stream",
     "text": [
      "Visualizing train set:  79%|██████████████▎   | 581/731 [00:21<00:04, 31.37it/s]"
     ]
    },
    {
     "name": "stdout",
     "output_type": "stream",
     "text": [
      "\n",
      "image 1/1 /home/afalcao/doc/cursos/mo434/lectures-notebooks/images/object-detection/parasites/images/train/000253.png: 640x640 (no detections), 6.4ms\n",
      "Speed: 1.7ms preprocess, 6.4ms inference, 0.5ms postprocess per image at shape (1, 3, 640, 640)\n",
      "\n",
      "image 1/1 /home/afalcao/doc/cursos/mo434/lectures-notebooks/images/object-detection/parasites/images/train/000991.png: 640x640 1 parasites, 6.7ms\n",
      "Speed: 2.4ms preprocess, 6.7ms inference, 1.4ms postprocess per image at shape (1, 3, 640, 640)\n",
      "\n",
      "image 1/1 /home/afalcao/doc/cursos/mo434/lectures-notebooks/images/object-detection/parasites/images/train/000135.png: 640x640 (no detections), 6.5ms\n",
      "Speed: 1.7ms preprocess, 6.5ms inference, 0.4ms postprocess per image at shape (1, 3, 640, 640)\n",
      "\n",
      "image 1/1 /home/afalcao/doc/cursos/mo434/lectures-notebooks/images/object-detection/parasites/images/train/000366.png: 640x640 1 parasites, 6.3ms\n",
      "Speed: 2.2ms preprocess, 6.3ms inference, 0.9ms postprocess per image at shape (1, 3, 640, 640)\n"
     ]
    },
    {
     "name": "stderr",
     "output_type": "stream",
     "text": [
      "Visualizing train set:  80%|██████████████▍   | 585/731 [00:21<00:04, 31.16it/s]"
     ]
    },
    {
     "name": "stdout",
     "output_type": "stream",
     "text": [
      "\n",
      "image 1/1 /home/afalcao/doc/cursos/mo434/lectures-notebooks/images/object-detection/parasites/images/train/000701.png: 640x640 1 parasites, 6.4ms\n",
      "Speed: 2.5ms preprocess, 6.4ms inference, 0.9ms postprocess per image at shape (1, 3, 640, 640)\n",
      "\n",
      "image 1/1 /home/afalcao/doc/cursos/mo434/lectures-notebooks/images/object-detection/parasites/images/train/000137.png: 640x640 1 parasites, 7.3ms\n",
      "Speed: 1.9ms preprocess, 7.3ms inference, 0.9ms postprocess per image at shape (1, 3, 640, 640)\n",
      "\n",
      "image 1/1 /home/afalcao/doc/cursos/mo434/lectures-notebooks/images/object-detection/parasites/images/train/000567.png: 640x640 1 parasites, 8.7ms\n",
      "Speed: 2.9ms preprocess, 8.7ms inference, 0.9ms postprocess per image at shape (1, 3, 640, 640)\n",
      "\n",
      "image 1/1 /home/afalcao/doc/cursos/mo434/lectures-notebooks/images/object-detection/parasites/images/train/001199.png: 640x640 (no detections), 8.3ms\n",
      "Speed: 3.3ms preprocess, 8.3ms inference, 0.4ms postprocess per image at shape (1, 3, 640, 640)\n"
     ]
    },
    {
     "name": "stderr",
     "output_type": "stream",
     "text": [
      "Visualizing train set:  81%|██████████████▌   | 589/731 [00:21<00:04, 30.82it/s]"
     ]
    },
    {
     "name": "stdout",
     "output_type": "stream",
     "text": [
      "\n",
      "image 1/1 /home/afalcao/doc/cursos/mo434/lectures-notebooks/images/object-detection/parasites/images/train/000441.png: 640x640 (no detections), 7.1ms\n",
      "Speed: 2.7ms preprocess, 7.1ms inference, 0.4ms postprocess per image at shape (1, 3, 640, 640)\n",
      "\n",
      "image 1/1 /home/afalcao/doc/cursos/mo434/lectures-notebooks/images/object-detection/parasites/images/train/000431.png: 640x640 1 parasites, 6.3ms\n",
      "Speed: 3.5ms preprocess, 6.3ms inference, 0.9ms postprocess per image at shape (1, 3, 640, 640)\n",
      "\n",
      "image 1/1 /home/afalcao/doc/cursos/mo434/lectures-notebooks/images/object-detection/parasites/images/train/000419.png: 640x640 1 parasites, 6.8ms\n",
      "Speed: 3.0ms preprocess, 6.8ms inference, 0.9ms postprocess per image at shape (1, 3, 640, 640)\n",
      "\n",
      "image 1/1 /home/afalcao/doc/cursos/mo434/lectures-notebooks/images/object-detection/parasites/images/train/000532.png: 640x640 (no detections), 9.6ms\n",
      "Speed: 2.3ms preprocess, 9.6ms inference, 0.6ms postprocess per image at shape (1, 3, 640, 640)\n"
     ]
    },
    {
     "name": "stderr",
     "output_type": "stream",
     "text": [
      "Visualizing train set:  81%|██████████████▌   | 593/731 [00:21<00:04, 30.76it/s]"
     ]
    },
    {
     "name": "stdout",
     "output_type": "stream",
     "text": [
      "\n",
      "image 1/1 /home/afalcao/doc/cursos/mo434/lectures-notebooks/images/object-detection/parasites/images/train/000247.png: 640x640 (no detections), 8.1ms\n",
      "Speed: 1.9ms preprocess, 8.1ms inference, 0.4ms postprocess per image at shape (1, 3, 640, 640)\n",
      "\n",
      "image 1/1 /home/afalcao/doc/cursos/mo434/lectures-notebooks/images/object-detection/parasites/images/train/000368.png: 640x640 1 parasites, 7.7ms\n",
      "Speed: 1.8ms preprocess, 7.7ms inference, 0.9ms postprocess per image at shape (1, 3, 640, 640)\n",
      "\n",
      "image 1/1 /home/afalcao/doc/cursos/mo434/lectures-notebooks/images/object-detection/parasites/images/train/000941.png: 640x640 1 parasites, 8.2ms\n",
      "Speed: 1.8ms preprocess, 8.2ms inference, 1.0ms postprocess per image at shape (1, 3, 640, 640)\n",
      "\n",
      "image 1/1 /home/afalcao/doc/cursos/mo434/lectures-notebooks/images/object-detection/parasites/images/train/000865.png: 640x640 1 parasites, 8.3ms\n",
      "Speed: 1.9ms preprocess, 8.3ms inference, 1.8ms postprocess per image at shape (1, 3, 640, 640)\n"
     ]
    },
    {
     "name": "stderr",
     "output_type": "stream",
     "text": [
      "Visualizing train set:  82%|██████████████▋   | 597/731 [00:21<00:04, 30.71it/s]"
     ]
    },
    {
     "name": "stdout",
     "output_type": "stream",
     "text": [
      "\n",
      "image 1/1 /home/afalcao/doc/cursos/mo434/lectures-notebooks/images/object-detection/parasites/images/train/000422.png: 640x640 (no detections), 8.8ms\n",
      "Speed: 1.8ms preprocess, 8.8ms inference, 0.5ms postprocess per image at shape (1, 3, 640, 640)\n",
      "\n",
      "image 1/1 /home/afalcao/doc/cursos/mo434/lectures-notebooks/images/object-detection/parasites/images/train/000245.png: 640x640 (no detections), 9.0ms\n",
      "Speed: 1.8ms preprocess, 9.0ms inference, 0.5ms postprocess per image at shape (1, 3, 640, 640)\n",
      "\n",
      "image 1/1 /home/afalcao/doc/cursos/mo434/lectures-notebooks/images/object-detection/parasites/images/train/000719.png: 640x640 1 parasites, 8.2ms\n",
      "Speed: 1.8ms preprocess, 8.2ms inference, 2.3ms postprocess per image at shape (1, 3, 640, 640)\n",
      "\n",
      "image 1/1 /home/afalcao/doc/cursos/mo434/lectures-notebooks/images/object-detection/parasites/images/train/000758.png: 640x640 (no detections), 7.6ms\n",
      "Speed: 1.8ms preprocess, 7.6ms inference, 0.6ms postprocess per image at shape (1, 3, 640, 640)\n"
     ]
    },
    {
     "name": "stderr",
     "output_type": "stream",
     "text": [
      "Visualizing train set:  82%|██████████████▊   | 601/731 [00:21<00:04, 30.59it/s]"
     ]
    },
    {
     "name": "stdout",
     "output_type": "stream",
     "text": [
      "\n",
      "image 1/1 /home/afalcao/doc/cursos/mo434/lectures-notebooks/images/object-detection/parasites/images/train/000269.png: 640x640 (no detections), 6.9ms\n",
      "Speed: 1.9ms preprocess, 6.9ms inference, 0.8ms postprocess per image at shape (1, 3, 640, 640)\n",
      "\n",
      "image 1/1 /home/afalcao/doc/cursos/mo434/lectures-notebooks/images/object-detection/parasites/images/train/001047.png: 640x640 2 parasitess, 6.7ms\n",
      "Speed: 2.2ms preprocess, 6.7ms inference, 1.0ms postprocess per image at shape (1, 3, 640, 640)\n",
      "\n",
      "image 1/1 /home/afalcao/doc/cursos/mo434/lectures-notebooks/images/object-detection/parasites/images/train/000573.png: 640x640 1 parasites, 6.7ms\n",
      "Speed: 2.8ms preprocess, 6.7ms inference, 1.0ms postprocess per image at shape (1, 3, 640, 640)\n",
      "\n",
      "image 1/1 /home/afalcao/doc/cursos/mo434/lectures-notebooks/images/object-detection/parasites/images/train/001216.png: 640x640 1 parasites, 6.9ms\n",
      "Speed: 2.1ms preprocess, 6.9ms inference, 1.0ms postprocess per image at shape (1, 3, 640, 640)\n"
     ]
    },
    {
     "name": "stderr",
     "output_type": "stream",
     "text": [
      "Visualizing train set:  83%|██████████████▉   | 605/731 [00:22<00:04, 30.65it/s]"
     ]
    },
    {
     "name": "stdout",
     "output_type": "stream",
     "text": [
      "\n",
      "image 1/1 /home/afalcao/doc/cursos/mo434/lectures-notebooks/images/object-detection/parasites/images/train/000676.png: 640x640 (no detections), 6.9ms\n",
      "Speed: 3.0ms preprocess, 6.9ms inference, 0.6ms postprocess per image at shape (1, 3, 640, 640)\n",
      "\n",
      "image 1/1 /home/afalcao/doc/cursos/mo434/lectures-notebooks/images/object-detection/parasites/images/train/000250.png: 640x640 (no detections), 7.6ms\n",
      "Speed: 2.8ms preprocess, 7.6ms inference, 1.6ms postprocess per image at shape (1, 3, 640, 640)\n",
      "\n",
      "image 1/1 /home/afalcao/doc/cursos/mo434/lectures-notebooks/images/object-detection/parasites/images/train/000552.png: 640x640 (no detections), 9.7ms\n",
      "Speed: 2.1ms preprocess, 9.7ms inference, 0.6ms postprocess per image at shape (1, 3, 640, 640)\n",
      "\n",
      "image 1/1 /home/afalcao/doc/cursos/mo434/lectures-notebooks/images/object-detection/parasites/images/train/000939.png: 640x640 1 parasites, 7.3ms\n",
      "Speed: 2.0ms preprocess, 7.3ms inference, 1.7ms postprocess per image at shape (1, 3, 640, 640)\n"
     ]
    },
    {
     "name": "stderr",
     "output_type": "stream",
     "text": [
      "Visualizing train set:  83%|██████████████▉   | 609/731 [00:22<00:04, 30.19it/s]"
     ]
    },
    {
     "name": "stdout",
     "output_type": "stream",
     "text": [
      "\n",
      "image 1/1 /home/afalcao/doc/cursos/mo434/lectures-notebooks/images/object-detection/parasites/images/train/000783.png: 640x640 1 parasites, 7.6ms\n",
      "Speed: 1.8ms preprocess, 7.6ms inference, 2.0ms postprocess per image at shape (1, 3, 640, 640)\n",
      "\n",
      "image 1/1 /home/afalcao/doc/cursos/mo434/lectures-notebooks/images/object-detection/parasites/images/train/000672.png: 640x640 (no detections), 9.9ms\n",
      "Speed: 1.9ms preprocess, 9.9ms inference, 0.6ms postprocess per image at shape (1, 3, 640, 640)\n",
      "\n",
      "image 1/1 /home/afalcao/doc/cursos/mo434/lectures-notebooks/images/object-detection/parasites/images/train/000491.png: 640x640 1 parasites, 7.0ms\n",
      "Speed: 1.9ms preprocess, 7.0ms inference, 1.7ms postprocess per image at shape (1, 3, 640, 640)\n",
      "\n",
      "image 1/1 /home/afalcao/doc/cursos/mo434/lectures-notebooks/images/object-detection/parasites/images/train/000932.png: 640x640 (no detections), 6.7ms\n",
      "Speed: 2.3ms preprocess, 6.7ms inference, 0.5ms postprocess per image at shape (1, 3, 640, 640)\n"
     ]
    },
    {
     "name": "stderr",
     "output_type": "stream",
     "text": [
      "Visualizing train set:  84%|███████████████   | 613/731 [00:22<00:03, 30.36it/s]"
     ]
    },
    {
     "name": "stdout",
     "output_type": "stream",
     "text": [
      "\n",
      "image 1/1 /home/afalcao/doc/cursos/mo434/lectures-notebooks/images/object-detection/parasites/images/train/000241.png: 640x640 (no detections), 7.2ms\n",
      "Speed: 2.1ms preprocess, 7.2ms inference, 0.6ms postprocess per image at shape (1, 3, 640, 640)\n",
      "\n",
      "image 1/1 /home/afalcao/doc/cursos/mo434/lectures-notebooks/images/object-detection/parasites/images/train/000193.png: 640x640 (no detections), 7.0ms\n",
      "Speed: 1.9ms preprocess, 7.0ms inference, 0.6ms postprocess per image at shape (1, 3, 640, 640)\n",
      "\n",
      "image 1/1 /home/afalcao/doc/cursos/mo434/lectures-notebooks/images/object-detection/parasites/images/train/000986.png: 640x640 1 parasites, 6.6ms\n",
      "Speed: 2.5ms preprocess, 6.6ms inference, 1.0ms postprocess per image at shape (1, 3, 640, 640)\n",
      "\n",
      "image 1/1 /home/afalcao/doc/cursos/mo434/lectures-notebooks/images/object-detection/parasites/images/train/000306.png: 640x640 1 parasites, 6.8ms\n",
      "Speed: 1.7ms preprocess, 6.8ms inference, 1.0ms postprocess per image at shape (1, 3, 640, 640)\n"
     ]
    },
    {
     "name": "stderr",
     "output_type": "stream",
     "text": [
      "Visualizing train set:  84%|███████████████▏  | 617/731 [00:22<00:03, 30.88it/s]"
     ]
    },
    {
     "name": "stdout",
     "output_type": "stream",
     "text": [
      "\n",
      "image 1/1 /home/afalcao/doc/cursos/mo434/lectures-notebooks/images/object-detection/parasites/images/train/000045.png: 640x640 (no detections), 7.6ms\n",
      "Speed: 1.8ms preprocess, 7.6ms inference, 0.6ms postprocess per image at shape (1, 3, 640, 640)\n",
      "\n",
      "image 1/1 /home/afalcao/doc/cursos/mo434/lectures-notebooks/images/object-detection/parasites/images/train/000770.png: 640x640 (no detections), 7.0ms\n",
      "Speed: 1.9ms preprocess, 7.0ms inference, 0.5ms postprocess per image at shape (1, 3, 640, 640)\n",
      "\n",
      "image 1/1 /home/afalcao/doc/cursos/mo434/lectures-notebooks/images/object-detection/parasites/images/train/000787.png: 640x640 1 parasites, 9.6ms\n",
      "Speed: 1.9ms preprocess, 9.6ms inference, 0.9ms postprocess per image at shape (1, 3, 640, 640)\n",
      "\n",
      "image 1/1 /home/afalcao/doc/cursos/mo434/lectures-notebooks/images/object-detection/parasites/images/train/000333.png: 640x640 (no detections), 8.1ms\n",
      "Speed: 1.8ms preprocess, 8.1ms inference, 0.8ms postprocess per image at shape (1, 3, 640, 640)\n"
     ]
    },
    {
     "name": "stderr",
     "output_type": "stream",
     "text": [
      "Visualizing train set:  85%|███████████████▎  | 621/731 [00:22<00:03, 30.85it/s]"
     ]
    },
    {
     "name": "stdout",
     "output_type": "stream",
     "text": [
      "\n",
      "image 1/1 /home/afalcao/doc/cursos/mo434/lectures-notebooks/images/object-detection/parasites/images/train/000588.png: 640x640 (no detections), 6.9ms\n",
      "Speed: 1.7ms preprocess, 6.9ms inference, 0.4ms postprocess per image at shape (1, 3, 640, 640)\n",
      "\n",
      "image 1/1 /home/afalcao/doc/cursos/mo434/lectures-notebooks/images/object-detection/parasites/images/train/000864.png: 640x640 (no detections), 6.9ms\n",
      "Speed: 1.7ms preprocess, 6.9ms inference, 0.4ms postprocess per image at shape (1, 3, 640, 640)\n",
      "\n",
      "image 1/1 /home/afalcao/doc/cursos/mo434/lectures-notebooks/images/object-detection/parasites/images/train/001120.png: 640x640 (no detections), 7.3ms\n",
      "Speed: 1.8ms preprocess, 7.3ms inference, 0.4ms postprocess per image at shape (1, 3, 640, 640)\n",
      "\n",
      "image 1/1 /home/afalcao/doc/cursos/mo434/lectures-notebooks/images/object-detection/parasites/images/train/001098.png: 640x640 (no detections), 7.4ms\n",
      "Speed: 2.0ms preprocess, 7.4ms inference, 0.6ms postprocess per image at shape (1, 3, 640, 640)\n"
     ]
    },
    {
     "name": "stderr",
     "output_type": "stream",
     "text": [
      "Visualizing train set:  85%|███████████████▍  | 625/731 [00:22<00:03, 31.18it/s]"
     ]
    },
    {
     "name": "stdout",
     "output_type": "stream",
     "text": [
      "\n",
      "image 1/1 /home/afalcao/doc/cursos/mo434/lectures-notebooks/images/object-detection/parasites/images/train/000373.png: 640x640 1 parasites, 6.8ms\n",
      "Speed: 2.8ms preprocess, 6.8ms inference, 1.4ms postprocess per image at shape (1, 3, 640, 640)\n",
      "\n",
      "image 1/1 /home/afalcao/doc/cursos/mo434/lectures-notebooks/images/object-detection/parasites/images/train/000596.png: 640x640 (no detections), 7.2ms\n",
      "Speed: 3.7ms preprocess, 7.2ms inference, 0.6ms postprocess per image at shape (1, 3, 640, 640)\n",
      "\n",
      "image 1/1 /home/afalcao/doc/cursos/mo434/lectures-notebooks/images/object-detection/parasites/images/train/001123.png: 640x640 (no detections), 7.8ms\n",
      "Speed: 3.1ms preprocess, 7.8ms inference, 0.4ms postprocess per image at shape (1, 3, 640, 640)\n",
      "\n",
      "image 1/1 /home/afalcao/doc/cursos/mo434/lectures-notebooks/images/object-detection/parasites/images/train/000928.png: 640x640 (no detections), 7.3ms\n",
      "Speed: 3.3ms preprocess, 7.3ms inference, 0.4ms postprocess per image at shape (1, 3, 640, 640)\n"
     ]
    },
    {
     "name": "stderr",
     "output_type": "stream",
     "text": [
      "Visualizing train set:  86%|███████████████▍  | 629/731 [00:22<00:03, 30.92it/s]"
     ]
    },
    {
     "name": "stdout",
     "output_type": "stream",
     "text": [
      "\n",
      "image 1/1 /home/afalcao/doc/cursos/mo434/lectures-notebooks/images/object-detection/parasites/images/train/000846.png: 640x640 (no detections), 6.9ms\n",
      "Speed: 2.8ms preprocess, 6.9ms inference, 0.4ms postprocess per image at shape (1, 3, 640, 640)\n",
      "\n",
      "image 1/1 /home/afalcao/doc/cursos/mo434/lectures-notebooks/images/object-detection/parasites/images/train/000522.png: 640x640 (no detections), 7.1ms\n",
      "Speed: 2.1ms preprocess, 7.1ms inference, 0.4ms postprocess per image at shape (1, 3, 640, 640)\n",
      "\n",
      "image 1/1 /home/afalcao/doc/cursos/mo434/lectures-notebooks/images/object-detection/parasites/images/train/001023.png: 640x640 1 parasites, 9.1ms\n",
      "Speed: 2.7ms preprocess, 9.1ms inference, 1.1ms postprocess per image at shape (1, 3, 640, 640)\n",
      "\n",
      "image 1/1 /home/afalcao/doc/cursos/mo434/lectures-notebooks/images/object-detection/parasites/images/train/000971.png: 640x640 1 parasites, 7.3ms\n",
      "Speed: 4.1ms preprocess, 7.3ms inference, 1.0ms postprocess per image at shape (1, 3, 640, 640)\n"
     ]
    },
    {
     "name": "stderr",
     "output_type": "stream",
     "text": [
      "Visualizing train set:  87%|███████████████▌  | 633/731 [00:23<00:03, 30.46it/s]"
     ]
    },
    {
     "name": "stdout",
     "output_type": "stream",
     "text": [
      "\n",
      "image 1/1 /home/afalcao/doc/cursos/mo434/lectures-notebooks/images/object-detection/parasites/images/train/000062.png: 640x640 (no detections), 7.7ms\n",
      "Speed: 2.3ms preprocess, 7.7ms inference, 0.6ms postprocess per image at shape (1, 3, 640, 640)\n",
      "\n",
      "image 1/1 /home/afalcao/doc/cursos/mo434/lectures-notebooks/images/object-detection/parasites/images/train/000818.png: 640x640 (no detections), 7.8ms\n",
      "Speed: 1.9ms preprocess, 7.8ms inference, 0.4ms postprocess per image at shape (1, 3, 640, 640)\n",
      "\n",
      "image 1/1 /home/afalcao/doc/cursos/mo434/lectures-notebooks/images/object-detection/parasites/images/train/001043.png: 640x640 2 parasitess, 6.5ms\n",
      "Speed: 3.7ms preprocess, 6.5ms inference, 1.1ms postprocess per image at shape (1, 3, 640, 640)\n",
      "\n",
      "image 1/1 /home/afalcao/doc/cursos/mo434/lectures-notebooks/images/object-detection/parasites/images/train/000861.png: 640x640 1 parasites, 6.8ms\n",
      "Speed: 2.8ms preprocess, 6.8ms inference, 1.2ms postprocess per image at shape (1, 3, 640, 640)\n"
     ]
    },
    {
     "name": "stderr",
     "output_type": "stream",
     "text": [
      "Visualizing train set:  87%|███████████████▋  | 637/731 [00:23<00:03, 30.31it/s]"
     ]
    },
    {
     "name": "stdout",
     "output_type": "stream",
     "text": [
      "\n",
      "image 1/1 /home/afalcao/doc/cursos/mo434/lectures-notebooks/images/object-detection/parasites/images/train/000543.png: 640x640 1 parasites, 6.8ms\n",
      "Speed: 2.4ms preprocess, 6.8ms inference, 1.1ms postprocess per image at shape (1, 3, 640, 640)\n",
      "\n",
      "image 1/1 /home/afalcao/doc/cursos/mo434/lectures-notebooks/images/object-detection/parasites/images/train/000176.png: 640x640 1 parasites, 7.1ms\n",
      "Speed: 2.7ms preprocess, 7.1ms inference, 1.1ms postprocess per image at shape (1, 3, 640, 640)\n",
      "\n",
      "image 1/1 /home/afalcao/doc/cursos/mo434/lectures-notebooks/images/object-detection/parasites/images/train/000716.png: 640x640 (no detections), 6.8ms\n",
      "Speed: 3.7ms preprocess, 6.8ms inference, 0.6ms postprocess per image at shape (1, 3, 640, 640)\n",
      "\n",
      "image 1/1 /home/afalcao/doc/cursos/mo434/lectures-notebooks/images/object-detection/parasites/images/train/000364.png: 640x640 1 parasites, 7.0ms\n",
      "Speed: 3.0ms preprocess, 7.0ms inference, 0.9ms postprocess per image at shape (1, 3, 640, 640)\n"
     ]
    },
    {
     "name": "stderr",
     "output_type": "stream",
     "text": [
      "Visualizing train set:  88%|███████████████▊  | 641/731 [00:23<00:02, 30.30it/s]"
     ]
    },
    {
     "name": "stdout",
     "output_type": "stream",
     "text": [
      "\n",
      "image 1/1 /home/afalcao/doc/cursos/mo434/lectures-notebooks/images/object-detection/parasites/images/train/000659.png: 640x640 2 parasitess, 9.7ms\n",
      "Speed: 3.0ms preprocess, 9.7ms inference, 1.1ms postprocess per image at shape (1, 3, 640, 640)\n",
      "\n",
      "image 1/1 /home/afalcao/doc/cursos/mo434/lectures-notebooks/images/object-detection/parasites/images/train/000139.png: 640x640 (no detections), 7.7ms\n",
      "Speed: 2.6ms preprocess, 7.7ms inference, 0.7ms postprocess per image at shape (1, 3, 640, 640)\n",
      "\n",
      "image 1/1 /home/afalcao/doc/cursos/mo434/lectures-notebooks/images/object-detection/parasites/images/train/001041.png: 640x640 1 parasites, 6.2ms\n",
      "Speed: 3.2ms preprocess, 6.2ms inference, 1.1ms postprocess per image at shape (1, 3, 640, 640)\n",
      "\n",
      "image 1/1 /home/afalcao/doc/cursos/mo434/lectures-notebooks/images/object-detection/parasites/images/train/000024.png: 640x640 1 parasites, 6.3ms\n",
      "Speed: 3.3ms preprocess, 6.3ms inference, 1.1ms postprocess per image at shape (1, 3, 640, 640)\n"
     ]
    },
    {
     "name": "stderr",
     "output_type": "stream",
     "text": [
      "Visualizing train set:  88%|███████████████▉  | 645/731 [00:23<00:02, 30.16it/s]"
     ]
    },
    {
     "name": "stdout",
     "output_type": "stream",
     "text": [
      "\n",
      "image 1/1 /home/afalcao/doc/cursos/mo434/lectures-notebooks/images/object-detection/parasites/images/train/001128.png: 640x640 1 parasites, 7.1ms\n",
      "Speed: 3.7ms preprocess, 7.1ms inference, 1.0ms postprocess per image at shape (1, 3, 640, 640)\n",
      "\n",
      "image 1/1 /home/afalcao/doc/cursos/mo434/lectures-notebooks/images/object-detection/parasites/images/train/000467.png: 640x640 (no detections), 6.8ms\n",
      "Speed: 3.1ms preprocess, 6.8ms inference, 0.4ms postprocess per image at shape (1, 3, 640, 640)\n",
      "\n",
      "image 1/1 /home/afalcao/doc/cursos/mo434/lectures-notebooks/images/object-detection/parasites/images/train/000968.png: 640x640 (no detections), 9.2ms\n",
      "Speed: 1.9ms preprocess, 9.2ms inference, 0.4ms postprocess per image at shape (1, 3, 640, 640)\n",
      "\n",
      "image 1/1 /home/afalcao/doc/cursos/mo434/lectures-notebooks/images/object-detection/parasites/images/train/000498.png: 640x640 (no detections), 7.4ms\n",
      "Speed: 1.8ms preprocess, 7.4ms inference, 0.6ms postprocess per image at shape (1, 3, 640, 640)\n"
     ]
    },
    {
     "name": "stderr",
     "output_type": "stream",
     "text": [
      "Visualizing train set:  89%|███████████████▉  | 649/731 [00:23<00:02, 30.50it/s]"
     ]
    },
    {
     "name": "stdout",
     "output_type": "stream",
     "text": [
      "\n",
      "image 1/1 /home/afalcao/doc/cursos/mo434/lectures-notebooks/images/object-detection/parasites/images/train/000190.png: 640x640 1 parasites, 7.2ms\n",
      "Speed: 2.8ms preprocess, 7.2ms inference, 0.9ms postprocess per image at shape (1, 3, 640, 640)\n",
      "\n",
      "image 1/1 /home/afalcao/doc/cursos/mo434/lectures-notebooks/images/object-detection/parasites/images/train/000483.png: 640x640 1 parasites, 7.2ms\n",
      "Speed: 2.2ms preprocess, 7.2ms inference, 0.9ms postprocess per image at shape (1, 3, 640, 640)\n",
      "\n",
      "image 1/1 /home/afalcao/doc/cursos/mo434/lectures-notebooks/images/object-detection/parasites/images/train/000990.png: 640x640 (no detections), 9.1ms\n",
      "Speed: 1.7ms preprocess, 9.1ms inference, 0.5ms postprocess per image at shape (1, 3, 640, 640)\n",
      "\n",
      "image 1/1 /home/afalcao/doc/cursos/mo434/lectures-notebooks/images/object-detection/parasites/images/train/000789.png: 640x640 1 parasites, 10.1ms\n",
      "Speed: 1.9ms preprocess, 10.1ms inference, 1.5ms postprocess per image at shape (1, 3, 640, 640)\n"
     ]
    },
    {
     "name": "stderr",
     "output_type": "stream",
     "text": [
      "Visualizing train set:  89%|████████████████  | 653/731 [00:23<00:02, 30.17it/s]"
     ]
    },
    {
     "name": "stdout",
     "output_type": "stream",
     "text": [
      "\n",
      "image 1/1 /home/afalcao/doc/cursos/mo434/lectures-notebooks/images/object-detection/parasites/images/train/000349.png: 640x640 (no detections), 9.6ms\n",
      "Speed: 3.9ms preprocess, 9.6ms inference, 0.7ms postprocess per image at shape (1, 3, 640, 640)\n",
      "\n",
      "image 1/1 /home/afalcao/doc/cursos/mo434/lectures-notebooks/images/object-detection/parasites/images/train/000159.png: 640x640 (no detections), 8.5ms\n",
      "Speed: 2.3ms preprocess, 8.5ms inference, 0.5ms postprocess per image at shape (1, 3, 640, 640)\n",
      "\n",
      "image 1/1 /home/afalcao/doc/cursos/mo434/lectures-notebooks/images/object-detection/parasites/images/train/001064.png: 640x640 (no detections), 7.9ms\n",
      "Speed: 3.3ms preprocess, 7.9ms inference, 0.7ms postprocess per image at shape (1, 3, 640, 640)\n",
      "\n",
      "image 1/1 /home/afalcao/doc/cursos/mo434/lectures-notebooks/images/object-detection/parasites/images/train/000889.png: 640x640 1 parasites, 7.5ms\n",
      "Speed: 2.5ms preprocess, 7.5ms inference, 0.9ms postprocess per image at shape (1, 3, 640, 640)\n"
     ]
    },
    {
     "name": "stderr",
     "output_type": "stream",
     "text": [
      "Visualizing train set:  90%|████████████████▏ | 657/731 [00:23<00:02, 30.05it/s]"
     ]
    },
    {
     "name": "stdout",
     "output_type": "stream",
     "text": [
      "\n",
      "image 1/1 /home/afalcao/doc/cursos/mo434/lectures-notebooks/images/object-detection/parasites/images/train/000249.png: 640x640 1 parasites, 7.3ms\n",
      "Speed: 2.1ms preprocess, 7.3ms inference, 1.0ms postprocess per image at shape (1, 3, 640, 640)\n",
      "\n",
      "image 1/1 /home/afalcao/doc/cursos/mo434/lectures-notebooks/images/object-detection/parasites/images/train/001090.png: 640x640 (no detections), 7.3ms\n",
      "Speed: 2.1ms preprocess, 7.3ms inference, 0.5ms postprocess per image at shape (1, 3, 640, 640)\n",
      "\n",
      "image 1/1 /home/afalcao/doc/cursos/mo434/lectures-notebooks/images/object-detection/parasites/images/train/000290.png: 640x640 1 parasites, 7.2ms\n",
      "Speed: 1.9ms preprocess, 7.2ms inference, 1.1ms postprocess per image at shape (1, 3, 640, 640)\n",
      "\n",
      "image 1/1 /home/afalcao/doc/cursos/mo434/lectures-notebooks/images/object-detection/parasites/images/train/000640.png: 640x640 (no detections), 7.1ms\n",
      "Speed: 1.8ms preprocess, 7.1ms inference, 0.9ms postprocess per image at shape (1, 3, 640, 640)\n"
     ]
    },
    {
     "name": "stderr",
     "output_type": "stream",
     "text": [
      "Visualizing train set:  90%|████████████████▎ | 661/731 [00:23<00:02, 30.60it/s]"
     ]
    },
    {
     "name": "stdout",
     "output_type": "stream",
     "text": [
      "\n",
      "image 1/1 /home/afalcao/doc/cursos/mo434/lectures-notebooks/images/object-detection/parasites/images/train/000910.png: 640x640 (no detections), 8.6ms\n",
      "Speed: 1.7ms preprocess, 8.6ms inference, 0.8ms postprocess per image at shape (1, 3, 640, 640)\n",
      "\n",
      "image 1/1 /home/afalcao/doc/cursos/mo434/lectures-notebooks/images/object-detection/parasites/images/train/000549.png: 640x640 1 parasites, 7.3ms\n",
      "Speed: 2.1ms preprocess, 7.3ms inference, 1.0ms postprocess per image at shape (1, 3, 640, 640)\n",
      "\n",
      "image 1/1 /home/afalcao/doc/cursos/mo434/lectures-notebooks/images/object-detection/parasites/images/train/000090.png: 640x640 (no detections), 8.0ms\n",
      "Speed: 1.7ms preprocess, 8.0ms inference, 1.2ms postprocess per image at shape (1, 3, 640, 640)\n",
      "\n",
      "image 1/1 /home/afalcao/doc/cursos/mo434/lectures-notebooks/images/object-detection/parasites/images/train/000335.png: 640x640 1 parasites, 6.9ms\n",
      "Speed: 1.7ms preprocess, 6.9ms inference, 1.2ms postprocess per image at shape (1, 3, 640, 640)\n"
     ]
    },
    {
     "name": "stderr",
     "output_type": "stream",
     "text": [
      "Visualizing train set:  91%|████████████████▎ | 665/731 [00:24<00:02, 30.49it/s]"
     ]
    },
    {
     "name": "stdout",
     "output_type": "stream",
     "text": [
      "\n",
      "image 1/1 /home/afalcao/doc/cursos/mo434/lectures-notebooks/images/object-detection/parasites/images/train/000074.png: 640x640 1 parasites, 7.6ms\n",
      "Speed: 1.8ms preprocess, 7.6ms inference, 0.9ms postprocess per image at shape (1, 3, 640, 640)\n",
      "\n",
      "image 1/1 /home/afalcao/doc/cursos/mo434/lectures-notebooks/images/object-detection/parasites/images/train/001014.png: 640x640 1 parasites, 6.9ms\n",
      "Speed: 1.8ms preprocess, 6.9ms inference, 1.5ms postprocess per image at shape (1, 3, 640, 640)\n",
      "\n",
      "image 1/1 /home/afalcao/doc/cursos/mo434/lectures-notebooks/images/object-detection/parasites/images/train/000937.png: 640x640 1 parasites, 6.7ms\n",
      "Speed: 1.9ms preprocess, 6.7ms inference, 1.1ms postprocess per image at shape (1, 3, 640, 640)\n",
      "\n",
      "image 1/1 /home/afalcao/doc/cursos/mo434/lectures-notebooks/images/object-detection/parasites/images/train/000089.png: 640x640 1 parasites, 6.5ms\n",
      "Speed: 2.1ms preprocess, 6.5ms inference, 1.2ms postprocess per image at shape (1, 3, 640, 640)\n"
     ]
    },
    {
     "name": "stderr",
     "output_type": "stream",
     "text": [
      "Visualizing train set:  92%|████████████████▍ | 669/731 [00:24<00:02, 30.71it/s]"
     ]
    },
    {
     "name": "stdout",
     "output_type": "stream",
     "text": [
      "\n",
      "image 1/1 /home/afalcao/doc/cursos/mo434/lectures-notebooks/images/object-detection/parasites/images/train/001095.png: 640x640 1 parasites, 7.5ms\n",
      "Speed: 2.2ms preprocess, 7.5ms inference, 1.3ms postprocess per image at shape (1, 3, 640, 640)\n",
      "\n",
      "image 1/1 /home/afalcao/doc/cursos/mo434/lectures-notebooks/images/object-detection/parasites/images/train/000942.png: 640x640 1 parasites, 7.0ms\n",
      "Speed: 2.8ms preprocess, 7.0ms inference, 0.9ms postprocess per image at shape (1, 3, 640, 640)\n",
      "\n",
      "image 1/1 /home/afalcao/doc/cursos/mo434/lectures-notebooks/images/object-detection/parasites/images/train/001176.png: 640x640 (no detections), 9.7ms\n",
      "Speed: 2.3ms preprocess, 9.7ms inference, 0.6ms postprocess per image at shape (1, 3, 640, 640)\n",
      "\n",
      "image 1/1 /home/afalcao/doc/cursos/mo434/lectures-notebooks/images/object-detection/parasites/images/train/000393.png: 640x640 1 parasites, 6.6ms\n",
      "Speed: 2.6ms preprocess, 6.6ms inference, 0.9ms postprocess per image at shape (1, 3, 640, 640)\n"
     ]
    },
    {
     "name": "stderr",
     "output_type": "stream",
     "text": [
      "Visualizing train set:  92%|████████████████▌ | 673/731 [00:24<00:01, 30.54it/s]"
     ]
    },
    {
     "name": "stdout",
     "output_type": "stream",
     "text": [
      "\n",
      "image 1/1 /home/afalcao/doc/cursos/mo434/lectures-notebooks/images/object-detection/parasites/images/train/000559.png: 640x640 1 parasites, 6.6ms\n",
      "Speed: 2.4ms preprocess, 6.6ms inference, 0.9ms postprocess per image at shape (1, 3, 640, 640)\n",
      "\n",
      "image 1/1 /home/afalcao/doc/cursos/mo434/lectures-notebooks/images/object-detection/parasites/images/train/001062.png: 640x640 (no detections), 6.7ms\n",
      "Speed: 2.3ms preprocess, 6.7ms inference, 0.4ms postprocess per image at shape (1, 3, 640, 640)\n",
      "\n",
      "image 1/1 /home/afalcao/doc/cursos/mo434/lectures-notebooks/images/object-detection/parasites/images/train/000177.png: 640x640 1 parasites, 6.8ms\n",
      "Speed: 1.7ms preprocess, 6.8ms inference, 0.9ms postprocess per image at shape (1, 3, 640, 640)\n",
      "\n",
      "image 1/1 /home/afalcao/doc/cursos/mo434/lectures-notebooks/images/object-detection/parasites/images/train/000976.png: 640x640 (no detections), 7.0ms\n",
      "Speed: 1.6ms preprocess, 7.0ms inference, 0.4ms postprocess per image at shape (1, 3, 640, 640)\n"
     ]
    },
    {
     "name": "stderr",
     "output_type": "stream",
     "text": [
      "Visualizing train set:  93%|████████████████▋ | 677/731 [00:24<00:01, 30.78it/s]"
     ]
    },
    {
     "name": "stdout",
     "output_type": "stream",
     "text": [
      "\n",
      "image 1/1 /home/afalcao/doc/cursos/mo434/lectures-notebooks/images/object-detection/parasites/images/train/000723.png: 640x640 1 parasites, 6.7ms\n",
      "Speed: 1.7ms preprocess, 6.7ms inference, 0.9ms postprocess per image at shape (1, 3, 640, 640)\n",
      "\n",
      "image 1/1 /home/afalcao/doc/cursos/mo434/lectures-notebooks/images/object-detection/parasites/images/train/000929.png: 640x640 1 parasites, 6.5ms\n",
      "Speed: 1.7ms preprocess, 6.5ms inference, 1.4ms postprocess per image at shape (1, 3, 640, 640)\n",
      "\n",
      "image 1/1 /home/afalcao/doc/cursos/mo434/lectures-notebooks/images/object-detection/parasites/images/train/001101.png: 640x640 1 parasites, 6.9ms\n",
      "Speed: 2.3ms preprocess, 6.9ms inference, 1.7ms postprocess per image at shape (1, 3, 640, 640)\n",
      "\n",
      "image 1/1 /home/afalcao/doc/cursos/mo434/lectures-notebooks/images/object-detection/parasites/images/train/000985.png: 640x640 1 parasites, 6.4ms\n",
      "Speed: 1.8ms preprocess, 6.4ms inference, 0.9ms postprocess per image at shape (1, 3, 640, 640)\n"
     ]
    },
    {
     "name": "stderr",
     "output_type": "stream",
     "text": [
      "Visualizing train set:  93%|████████████████▊ | 681/731 [00:24<00:01, 30.88it/s]"
     ]
    },
    {
     "name": "stdout",
     "output_type": "stream",
     "text": [
      "\n",
      "image 1/1 /home/afalcao/doc/cursos/mo434/lectures-notebooks/images/object-detection/parasites/images/train/001218.png: 640x640 (no detections), 7.4ms\n",
      "Speed: 2.5ms preprocess, 7.4ms inference, 1.0ms postprocess per image at shape (1, 3, 640, 640)\n",
      "\n",
      "image 1/1 /home/afalcao/doc/cursos/mo434/lectures-notebooks/images/object-detection/parasites/images/train/001193.png: 640x640 1 parasites, 8.7ms\n",
      "Speed: 1.7ms preprocess, 8.7ms inference, 1.3ms postprocess per image at shape (1, 3, 640, 640)\n",
      "\n",
      "image 1/1 /home/afalcao/doc/cursos/mo434/lectures-notebooks/images/object-detection/parasites/images/train/000021.png: 640x640 1 parasites, 7.8ms\n",
      "Speed: 1.7ms preprocess, 7.8ms inference, 1.2ms postprocess per image at shape (1, 3, 640, 640)\n",
      "\n",
      "image 1/1 /home/afalcao/doc/cursos/mo434/lectures-notebooks/images/object-detection/parasites/images/train/000874.png: 640x640 (no detections), 8.0ms\n",
      "Speed: 1.8ms preprocess, 8.0ms inference, 0.5ms postprocess per image at shape (1, 3, 640, 640)\n"
     ]
    },
    {
     "name": "stderr",
     "output_type": "stream",
     "text": [
      "Visualizing train set:  94%|████████████████▊ | 685/731 [00:24<00:01, 30.16it/s]"
     ]
    },
    {
     "name": "stdout",
     "output_type": "stream",
     "text": [
      "\n",
      "image 1/1 /home/afalcao/doc/cursos/mo434/lectures-notebooks/images/object-detection/parasites/images/train/000069.png: 640x640 (no detections), 6.8ms\n",
      "Speed: 1.8ms preprocess, 6.8ms inference, 0.5ms postprocess per image at shape (1, 3, 640, 640)\n",
      "\n",
      "image 1/1 /home/afalcao/doc/cursos/mo434/lectures-notebooks/images/object-detection/parasites/images/train/000196.png: 640x640 1 parasites, 8.0ms\n",
      "Speed: 2.0ms preprocess, 8.0ms inference, 1.7ms postprocess per image at shape (1, 3, 640, 640)\n",
      "\n",
      "image 1/1 /home/afalcao/doc/cursos/mo434/lectures-notebooks/images/object-detection/parasites/images/train/001026.png: 640x640 (no detections), 7.8ms\n",
      "Speed: 1.7ms preprocess, 7.8ms inference, 0.4ms postprocess per image at shape (1, 3, 640, 640)\n",
      "\n",
      "image 1/1 /home/afalcao/doc/cursos/mo434/lectures-notebooks/images/object-detection/parasites/images/train/000136.png: 640x640 2 parasitess, 7.6ms\n",
      "Speed: 1.7ms preprocess, 7.6ms inference, 1.0ms postprocess per image at shape (1, 3, 640, 640)\n"
     ]
    },
    {
     "name": "stderr",
     "output_type": "stream",
     "text": [
      "Visualizing train set:  94%|████████████████▉ | 689/731 [00:24<00:01, 30.26it/s]"
     ]
    },
    {
     "name": "stdout",
     "output_type": "stream",
     "text": [
      "\n",
      "image 1/1 /home/afalcao/doc/cursos/mo434/lectures-notebooks/images/object-detection/parasites/images/train/000273.png: 640x640 (no detections), 7.1ms\n",
      "Speed: 1.7ms preprocess, 7.1ms inference, 0.6ms postprocess per image at shape (1, 3, 640, 640)\n",
      "\n",
      "image 1/1 /home/afalcao/doc/cursos/mo434/lectures-notebooks/images/object-detection/parasites/images/train/000100.png: 640x640 1 parasites, 6.7ms\n",
      "Speed: 1.8ms preprocess, 6.7ms inference, 1.3ms postprocess per image at shape (1, 3, 640, 640)\n",
      "\n",
      "image 1/1 /home/afalcao/doc/cursos/mo434/lectures-notebooks/images/object-detection/parasites/images/train/000107.png: 640x640 (no detections), 7.4ms\n",
      "Speed: 1.9ms preprocess, 7.4ms inference, 0.4ms postprocess per image at shape (1, 3, 640, 640)\n",
      "\n",
      "image 1/1 /home/afalcao/doc/cursos/mo434/lectures-notebooks/images/object-detection/parasites/images/train/000703.png: 640x640 2 parasitess, 6.6ms\n",
      "Speed: 1.9ms preprocess, 6.6ms inference, 0.9ms postprocess per image at shape (1, 3, 640, 640)\n"
     ]
    },
    {
     "name": "stderr",
     "output_type": "stream",
     "text": [
      "Visualizing train set:  95%|█████████████████ | 693/731 [00:24<00:01, 30.54it/s]"
     ]
    },
    {
     "name": "stdout",
     "output_type": "stream",
     "text": [
      "\n",
      "image 1/1 /home/afalcao/doc/cursos/mo434/lectures-notebooks/images/object-detection/parasites/images/train/000104.png: 640x640 1 parasites, 7.0ms\n",
      "Speed: 2.1ms preprocess, 7.0ms inference, 0.9ms postprocess per image at shape (1, 3, 640, 640)\n",
      "\n",
      "image 1/1 /home/afalcao/doc/cursos/mo434/lectures-notebooks/images/object-detection/parasites/images/train/000286.png: 640x640 1 parasites, 7.2ms\n",
      "Speed: 2.2ms preprocess, 7.2ms inference, 1.1ms postprocess per image at shape (1, 3, 640, 640)\n",
      "\n",
      "image 1/1 /home/afalcao/doc/cursos/mo434/lectures-notebooks/images/object-detection/parasites/images/train/001178.png: 640x640 (no detections), 6.9ms\n",
      "Speed: 3.5ms preprocess, 6.9ms inference, 0.6ms postprocess per image at shape (1, 3, 640, 640)\n",
      "\n",
      "image 1/1 /home/afalcao/doc/cursos/mo434/lectures-notebooks/images/object-detection/parasites/images/train/000613.png: 640x640 1 parasites, 7.3ms\n",
      "Speed: 3.3ms preprocess, 7.3ms inference, 1.0ms postprocess per image at shape (1, 3, 640, 640)\n"
     ]
    },
    {
     "name": "stderr",
     "output_type": "stream",
     "text": [
      "Visualizing train set:  95%|█████████████████▏| 697/731 [00:25<00:01, 30.57it/s]"
     ]
    },
    {
     "name": "stdout",
     "output_type": "stream",
     "text": [
      "\n",
      "image 1/1 /home/afalcao/doc/cursos/mo434/lectures-notebooks/images/object-detection/parasites/images/train/000606.png: 640x640 (no detections), 7.4ms\n",
      "Speed: 2.6ms preprocess, 7.4ms inference, 0.4ms postprocess per image at shape (1, 3, 640, 640)\n",
      "\n",
      "image 1/1 /home/afalcao/doc/cursos/mo434/lectures-notebooks/images/object-detection/parasites/images/train/000471.png: 640x640 1 parasites, 8.5ms\n",
      "Speed: 2.5ms preprocess, 8.5ms inference, 1.1ms postprocess per image at shape (1, 3, 640, 640)\n",
      "\n",
      "image 1/1 /home/afalcao/doc/cursos/mo434/lectures-notebooks/images/object-detection/parasites/images/train/000160.png: 640x640 1 parasites, 7.5ms\n",
      "Speed: 2.3ms preprocess, 7.5ms inference, 0.9ms postprocess per image at shape (1, 3, 640, 640)\n",
      "\n",
      "image 1/1 /home/afalcao/doc/cursos/mo434/lectures-notebooks/images/object-detection/parasites/images/train/000414.png: 640x640 1 parasites, 8.9ms\n",
      "Speed: 3.6ms preprocess, 8.9ms inference, 1.1ms postprocess per image at shape (1, 3, 640, 640)\n"
     ]
    },
    {
     "name": "stderr",
     "output_type": "stream",
     "text": [
      "Visualizing train set:  96%|█████████████████▎| 701/731 [00:25<00:00, 30.36it/s]"
     ]
    },
    {
     "name": "stdout",
     "output_type": "stream",
     "text": [
      "\n",
      "image 1/1 /home/afalcao/doc/cursos/mo434/lectures-notebooks/images/object-detection/parasites/images/train/000667.png: 640x640 1 parasites, 6.8ms\n",
      "Speed: 3.6ms preprocess, 6.8ms inference, 1.2ms postprocess per image at shape (1, 3, 640, 640)\n",
      "\n",
      "image 1/1 /home/afalcao/doc/cursos/mo434/lectures-notebooks/images/object-detection/parasites/images/train/000173.png: 640x640 (no detections), 6.7ms\n",
      "Speed: 2.0ms preprocess, 6.7ms inference, 0.5ms postprocess per image at shape (1, 3, 640, 640)\n",
      "\n",
      "image 1/1 /home/afalcao/doc/cursos/mo434/lectures-notebooks/images/object-detection/parasites/images/train/000765.png: 640x640 2 parasitess, 6.8ms\n",
      "Speed: 3.1ms preprocess, 6.8ms inference, 0.9ms postprocess per image at shape (1, 3, 640, 640)\n",
      "\n",
      "image 1/1 /home/afalcao/doc/cursos/mo434/lectures-notebooks/images/object-detection/parasites/images/train/000167.png: 640x640 (no detections), 6.9ms\n",
      "Speed: 2.9ms preprocess, 6.9ms inference, 0.4ms postprocess per image at shape (1, 3, 640, 640)\n"
     ]
    },
    {
     "name": "stderr",
     "output_type": "stream",
     "text": [
      "Visualizing train set:  96%|█████████████████▎| 705/731 [00:25<00:00, 30.15it/s]"
     ]
    },
    {
     "name": "stdout",
     "output_type": "stream",
     "text": [
      "\n",
      "image 1/1 /home/afalcao/doc/cursos/mo434/lectures-notebooks/images/object-detection/parasites/images/train/000546.png: 640x640 (no detections), 6.8ms\n",
      "Speed: 2.7ms preprocess, 6.8ms inference, 0.4ms postprocess per image at shape (1, 3, 640, 640)\n",
      "\n",
      "image 1/1 /home/afalcao/doc/cursos/mo434/lectures-notebooks/images/object-detection/parasites/images/train/000538.png: 640x640 (no detections), 6.7ms\n",
      "Speed: 2.0ms preprocess, 6.7ms inference, 0.4ms postprocess per image at shape (1, 3, 640, 640)\n",
      "\n",
      "image 1/1 /home/afalcao/doc/cursos/mo434/lectures-notebooks/images/object-detection/parasites/images/train/000199.png: 640x640 (no detections), 7.0ms\n",
      "Speed: 2.1ms preprocess, 7.0ms inference, 0.4ms postprocess per image at shape (1, 3, 640, 640)\n",
      "\n",
      "image 1/1 /home/afalcao/doc/cursos/mo434/lectures-notebooks/images/object-detection/parasites/images/train/000690.png: 640x640 (no detections), 6.8ms\n",
      "Speed: 2.2ms preprocess, 6.8ms inference, 0.4ms postprocess per image at shape (1, 3, 640, 640)\n"
     ]
    },
    {
     "name": "stderr",
     "output_type": "stream",
     "text": [
      "Visualizing train set:  97%|█████████████████▍| 709/731 [00:25<00:00, 30.10it/s]"
     ]
    },
    {
     "name": "stdout",
     "output_type": "stream",
     "text": [
      "\n",
      "image 1/1 /home/afalcao/doc/cursos/mo434/lectures-notebooks/images/object-detection/parasites/images/train/001142.png: 640x640 (no detections), 7.8ms\n",
      "Speed: 1.8ms preprocess, 7.8ms inference, 0.6ms postprocess per image at shape (1, 3, 640, 640)\n",
      "\n",
      "image 1/1 /home/afalcao/doc/cursos/mo434/lectures-notebooks/images/object-detection/parasites/images/train/000138.png: 640x640 (no detections), 7.4ms\n",
      "Speed: 2.0ms preprocess, 7.4ms inference, 0.6ms postprocess per image at shape (1, 3, 640, 640)\n",
      "\n",
      "image 1/1 /home/afalcao/doc/cursos/mo434/lectures-notebooks/images/object-detection/parasites/images/train/000066.png: 640x640 1 parasites, 8.2ms\n",
      "Speed: 1.8ms preprocess, 8.2ms inference, 1.0ms postprocess per image at shape (1, 3, 640, 640)\n",
      "\n",
      "image 1/1 /home/afalcao/doc/cursos/mo434/lectures-notebooks/images/object-detection/parasites/images/train/000144.png: 640x640 1 parasites, 7.7ms\n",
      "Speed: 3.1ms preprocess, 7.7ms inference, 1.2ms postprocess per image at shape (1, 3, 640, 640)\n"
     ]
    },
    {
     "name": "stderr",
     "output_type": "stream",
     "text": [
      "Visualizing train set:  98%|█████████████████▌| 713/731 [00:25<00:00, 30.26it/s]"
     ]
    },
    {
     "name": "stdout",
     "output_type": "stream",
     "text": [
      "\n",
      "image 1/1 /home/afalcao/doc/cursos/mo434/lectures-notebooks/images/object-detection/parasites/images/train/000833.png: 640x640 1 parasites, 7.1ms\n",
      "Speed: 2.1ms preprocess, 7.1ms inference, 0.9ms postprocess per image at shape (1, 3, 640, 640)\n",
      "\n",
      "image 1/1 /home/afalcao/doc/cursos/mo434/lectures-notebooks/images/object-detection/parasites/images/train/000602.png: 640x640 (no detections), 7.1ms\n",
      "Speed: 2.2ms preprocess, 7.1ms inference, 0.5ms postprocess per image at shape (1, 3, 640, 640)\n",
      "\n",
      "image 1/1 /home/afalcao/doc/cursos/mo434/lectures-notebooks/images/object-detection/parasites/images/train/001143.png: 640x640 1 parasites, 7.6ms\n",
      "Speed: 2.2ms preprocess, 7.6ms inference, 0.9ms postprocess per image at shape (1, 3, 640, 640)\n",
      "\n",
      "image 1/1 /home/afalcao/doc/cursos/mo434/lectures-notebooks/images/object-detection/parasites/images/train/000786.png: 640x640 1 parasites, 7.4ms\n",
      "Speed: 1.8ms preprocess, 7.4ms inference, 1.1ms postprocess per image at shape (1, 3, 640, 640)\n"
     ]
    },
    {
     "name": "stderr",
     "output_type": "stream",
     "text": [
      "Visualizing train set:  98%|█████████████████▋| 717/731 [00:25<00:00, 30.72it/s]"
     ]
    },
    {
     "name": "stdout",
     "output_type": "stream",
     "text": [
      "\n",
      "image 1/1 /home/afalcao/doc/cursos/mo434/lectures-notebooks/images/object-detection/parasites/images/train/000131.png: 640x640 (no detections), 7.6ms\n",
      "Speed: 1.7ms preprocess, 7.6ms inference, 0.8ms postprocess per image at shape (1, 3, 640, 640)\n",
      "\n",
      "image 1/1 /home/afalcao/doc/cursos/mo434/lectures-notebooks/images/object-detection/parasites/images/train/000555.png: 640x640 1 parasites, 7.9ms\n",
      "Speed: 1.7ms preprocess, 7.9ms inference, 2.0ms postprocess per image at shape (1, 3, 640, 640)\n",
      "\n",
      "image 1/1 /home/afalcao/doc/cursos/mo434/lectures-notebooks/images/object-detection/parasites/images/train/000068.png: 640x640 1 parasites, 6.8ms\n",
      "Speed: 1.7ms preprocess, 6.8ms inference, 1.5ms postprocess per image at shape (1, 3, 640, 640)\n",
      "\n",
      "image 1/1 /home/afalcao/doc/cursos/mo434/lectures-notebooks/images/object-detection/parasites/images/train/000829.png: 640x640 1 parasites, 6.9ms\n",
      "Speed: 1.8ms preprocess, 6.9ms inference, 2.4ms postprocess per image at shape (1, 3, 640, 640)\n"
     ]
    },
    {
     "name": "stderr",
     "output_type": "stream",
     "text": [
      "Visualizing train set:  99%|█████████████████▊| 721/731 [00:25<00:00, 30.53it/s]"
     ]
    },
    {
     "name": "stdout",
     "output_type": "stream",
     "text": [
      "\n",
      "image 1/1 /home/afalcao/doc/cursos/mo434/lectures-notebooks/images/object-detection/parasites/images/train/000575.png: 640x640 1 parasites, 7.4ms\n",
      "Speed: 1.7ms preprocess, 7.4ms inference, 1.4ms postprocess per image at shape (1, 3, 640, 640)\n",
      "\n",
      "image 1/1 /home/afalcao/doc/cursos/mo434/lectures-notebooks/images/object-detection/parasites/images/train/000047.png: 640x640 2 parasitess, 7.5ms\n",
      "Speed: 1.8ms preprocess, 7.5ms inference, 1.4ms postprocess per image at shape (1, 3, 640, 640)\n",
      "\n",
      "image 1/1 /home/afalcao/doc/cursos/mo434/lectures-notebooks/images/object-detection/parasites/images/train/000975.png: 640x640 1 parasites, 7.1ms\n",
      "Speed: 1.9ms preprocess, 7.1ms inference, 1.1ms postprocess per image at shape (1, 3, 640, 640)\n",
      "\n",
      "image 1/1 /home/afalcao/doc/cursos/mo434/lectures-notebooks/images/object-detection/parasites/images/train/001117.png: 640x640 1 parasites, 6.7ms\n",
      "Speed: 1.7ms preprocess, 6.7ms inference, 1.1ms postprocess per image at shape (1, 3, 640, 640)\n"
     ]
    },
    {
     "name": "stderr",
     "output_type": "stream",
     "text": [
      "Visualizing train set:  99%|█████████████████▊| 725/731 [00:26<00:00, 30.64it/s]"
     ]
    },
    {
     "name": "stdout",
     "output_type": "stream",
     "text": [
      "\n",
      "image 1/1 /home/afalcao/doc/cursos/mo434/lectures-notebooks/images/object-detection/parasites/images/train/000617.png: 640x640 1 parasites, 7.3ms\n",
      "Speed: 1.8ms preprocess, 7.3ms inference, 1.5ms postprocess per image at shape (1, 3, 640, 640)\n",
      "\n",
      "image 1/1 /home/afalcao/doc/cursos/mo434/lectures-notebooks/images/object-detection/parasites/images/train/000307.png: 640x640 (no detections), 6.6ms\n",
      "Speed: 1.7ms preprocess, 6.6ms inference, 0.5ms postprocess per image at shape (1, 3, 640, 640)\n",
      "\n",
      "image 1/1 /home/afalcao/doc/cursos/mo434/lectures-notebooks/images/object-detection/parasites/images/train/000399.png: 640x640 1 parasites, 6.7ms\n",
      "Speed: 1.7ms preprocess, 6.7ms inference, 1.1ms postprocess per image at shape (1, 3, 640, 640)\n",
      "\n",
      "image 1/1 /home/afalcao/doc/cursos/mo434/lectures-notebooks/images/object-detection/parasites/images/train/000983.png: 640x640 (no detections), 6.7ms\n",
      "Speed: 1.9ms preprocess, 6.7ms inference, 0.5ms postprocess per image at shape (1, 3, 640, 640)\n"
     ]
    },
    {
     "name": "stderr",
     "output_type": "stream",
     "text": [
      "Visualizing train set: 100%|█████████████████▉| 729/731 [00:26<00:00, 30.38it/s]"
     ]
    },
    {
     "name": "stdout",
     "output_type": "stream",
     "text": [
      "\n",
      "image 1/1 /home/afalcao/doc/cursos/mo434/lectures-notebooks/images/object-detection/parasites/images/train/000073.png: 640x640 (no detections), 7.1ms\n",
      "Speed: 1.7ms preprocess, 7.1ms inference, 1.1ms postprocess per image at shape (1, 3, 640, 640)\n",
      "\n",
      "image 1/1 /home/afalcao/doc/cursos/mo434/lectures-notebooks/images/object-detection/parasites/images/train/001113.png: 640x640 1 parasites, 6.5ms\n",
      "Speed: 1.7ms preprocess, 6.5ms inference, 1.1ms postprocess per image at shape (1, 3, 640, 640)\n"
     ]
    },
    {
     "name": "stderr",
     "output_type": "stream",
     "text": [
      "Visualizing train set: 100%|██████████████████| 731/731 [00:26<00:00, 27.86it/s]\n"
     ]
    },
    {
     "name": "stdout",
     "output_type": "stream",
     "text": [
      "Processing val set...\n"
     ]
    },
    {
     "name": "stderr",
     "output_type": "stream",
     "text": [
      "Visualizing val set:   0%|                              | 0/243 [00:00<?, ?it/s]"
     ]
    },
    {
     "name": "stdout",
     "output_type": "stream",
     "text": [
      "\n",
      "image 1/1 /home/afalcao/doc/cursos/mo434/lectures-notebooks/images/object-detection/parasites/images/val/000707.png: 640x640 1 parasites, 7.5ms\n",
      "Speed: 1.7ms preprocess, 7.5ms inference, 2.1ms postprocess per image at shape (1, 3, 640, 640)\n",
      "\n",
      "image 1/1 /home/afalcao/doc/cursos/mo434/lectures-notebooks/images/object-detection/parasites/images/val/000384.png: 640x640 (no detections), 7.6ms\n",
      "Speed: 1.8ms preprocess, 7.6ms inference, 0.5ms postprocess per image at shape (1, 3, 640, 640)\n",
      "\n",
      "image 1/1 /home/afalcao/doc/cursos/mo434/lectures-notebooks/images/object-detection/parasites/images/val/000303.png: 640x640 1 parasites, 7.5ms\n",
      "Speed: 1.7ms preprocess, 7.5ms inference, 1.7ms postprocess per image at shape (1, 3, 640, 640)\n"
     ]
    },
    {
     "name": "stderr",
     "output_type": "stream",
     "text": [
      "Visualizing val set:   1%|▎                     | 3/243 [00:00<00:08, 29.31it/s]"
     ]
    },
    {
     "name": "stdout",
     "output_type": "stream",
     "text": [
      "\n",
      "image 1/1 /home/afalcao/doc/cursos/mo434/lectures-notebooks/images/object-detection/parasites/images/val/000232.png: 640x640 1 parasites, 7.9ms\n",
      "Speed: 1.9ms preprocess, 7.9ms inference, 1.1ms postprocess per image at shape (1, 3, 640, 640)\n",
      "\n",
      "image 1/1 /home/afalcao/doc/cursos/mo434/lectures-notebooks/images/object-detection/parasites/images/val/000168.png: 640x640 1 parasites, 7.6ms\n",
      "Speed: 2.2ms preprocess, 7.6ms inference, 1.8ms postprocess per image at shape (1, 3, 640, 640)\n",
      "\n",
      "image 1/1 /home/afalcao/doc/cursos/mo434/lectures-notebooks/images/object-detection/parasites/images/val/001067.png: 640x640 1 parasites, 7.2ms\n",
      "Speed: 1.7ms preprocess, 7.2ms inference, 2.1ms postprocess per image at shape (1, 3, 640, 640)\n",
      "\n",
      "image 1/1 /home/afalcao/doc/cursos/mo434/lectures-notebooks/images/object-detection/parasites/images/val/000953.png: 640x640 1 parasites, 6.5ms\n",
      "Speed: 1.7ms preprocess, 6.5ms inference, 1.2ms postprocess per image at shape (1, 3, 640, 640)\n"
     ]
    },
    {
     "name": "stderr",
     "output_type": "stream",
     "text": [
      "Visualizing val set:   3%|▋                     | 7/243 [00:00<00:07, 30.49it/s]"
     ]
    },
    {
     "name": "stdout",
     "output_type": "stream",
     "text": [
      "\n",
      "image 1/1 /home/afalcao/doc/cursos/mo434/lectures-notebooks/images/object-detection/parasites/images/val/000276.png: 640x640 2 parasitess, 7.4ms\n",
      "Speed: 1.8ms preprocess, 7.4ms inference, 0.9ms postprocess per image at shape (1, 3, 640, 640)\n",
      "\n",
      "image 1/1 /home/afalcao/doc/cursos/mo434/lectures-notebooks/images/object-detection/parasites/images/val/000751.png: 640x640 1 parasites, 7.1ms\n",
      "Speed: 1.8ms preprocess, 7.1ms inference, 1.2ms postprocess per image at shape (1, 3, 640, 640)\n",
      "\n",
      "image 1/1 /home/afalcao/doc/cursos/mo434/lectures-notebooks/images/object-detection/parasites/images/val/000608.png: 640x640 (no detections), 6.3ms\n",
      "Speed: 2.1ms preprocess, 6.3ms inference, 0.5ms postprocess per image at shape (1, 3, 640, 640)\n",
      "\n",
      "image 1/1 /home/afalcao/doc/cursos/mo434/lectures-notebooks/images/object-detection/parasites/images/val/001081.png: 640x640 3 parasitess, 6.9ms\n",
      "Speed: 1.9ms preprocess, 6.9ms inference, 1.3ms postprocess per image at shape (1, 3, 640, 640)\n"
     ]
    },
    {
     "name": "stderr",
     "output_type": "stream",
     "text": [
      "Visualizing val set:   5%|▉                    | 11/243 [00:00<00:07, 30.73it/s]"
     ]
    },
    {
     "name": "stdout",
     "output_type": "stream",
     "text": [
      "\n",
      "image 1/1 /home/afalcao/doc/cursos/mo434/lectures-notebooks/images/object-detection/parasites/images/val/000133.png: 640x640 (no detections), 6.5ms\n",
      "Speed: 1.9ms preprocess, 6.5ms inference, 0.4ms postprocess per image at shape (1, 3, 640, 640)\n",
      "\n",
      "image 1/1 /home/afalcao/doc/cursos/mo434/lectures-notebooks/images/object-detection/parasites/images/val/000447.png: 640x640 1 parasites, 6.5ms\n",
      "Speed: 2.9ms preprocess, 6.5ms inference, 0.9ms postprocess per image at shape (1, 3, 640, 640)\n",
      "\n",
      "image 1/1 /home/afalcao/doc/cursos/mo434/lectures-notebooks/images/object-detection/parasites/images/val/000704.png: 640x640 (no detections), 6.8ms\n",
      "Speed: 3.3ms preprocess, 6.8ms inference, 0.4ms postprocess per image at shape (1, 3, 640, 640)\n",
      "\n",
      "image 1/1 /home/afalcao/doc/cursos/mo434/lectures-notebooks/images/object-detection/parasites/images/val/001196.png: 640x640 (no detections), 6.9ms\n",
      "Speed: 3.1ms preprocess, 6.9ms inference, 0.4ms postprocess per image at shape (1, 3, 640, 640)\n"
     ]
    },
    {
     "name": "stderr",
     "output_type": "stream",
     "text": [
      "Visualizing val set:   6%|█▎                   | 15/243 [00:00<00:07, 30.66it/s]"
     ]
    },
    {
     "name": "stdout",
     "output_type": "stream",
     "text": [
      "\n",
      "image 1/1 /home/afalcao/doc/cursos/mo434/lectures-notebooks/images/object-detection/parasites/images/val/000486.png: 640x640 (no detections), 7.4ms\n",
      "Speed: 3.3ms preprocess, 7.4ms inference, 0.4ms postprocess per image at shape (1, 3, 640, 640)\n",
      "\n",
      "image 1/1 /home/afalcao/doc/cursos/mo434/lectures-notebooks/images/object-detection/parasites/images/val/001022.png: 640x640 (no detections), 7.7ms\n",
      "Speed: 1.9ms preprocess, 7.7ms inference, 0.4ms postprocess per image at shape (1, 3, 640, 640)\n",
      "\n",
      "image 1/1 /home/afalcao/doc/cursos/mo434/lectures-notebooks/images/object-detection/parasites/images/val/000127.png: 640x640 (no detections), 8.1ms\n",
      "Speed: 2.3ms preprocess, 8.1ms inference, 0.4ms postprocess per image at shape (1, 3, 640, 640)\n",
      "\n",
      "image 1/1 /home/afalcao/doc/cursos/mo434/lectures-notebooks/images/object-detection/parasites/images/val/000541.png: 640x640 1 parasites, 7.8ms\n",
      "Speed: 2.3ms preprocess, 7.8ms inference, 1.0ms postprocess per image at shape (1, 3, 640, 640)\n"
     ]
    },
    {
     "name": "stderr",
     "output_type": "stream",
     "text": [
      "Visualizing val set:   8%|█▋                   | 19/243 [00:00<00:07, 30.75it/s]"
     ]
    },
    {
     "name": "stdout",
     "output_type": "stream",
     "text": [
      "\n",
      "image 1/1 /home/afalcao/doc/cursos/mo434/lectures-notebooks/images/object-detection/parasites/images/val/000277.png: 640x640 (no detections), 6.9ms\n",
      "Speed: 1.9ms preprocess, 6.9ms inference, 0.6ms postprocess per image at shape (1, 3, 640, 640)\n",
      "\n",
      "image 1/1 /home/afalcao/doc/cursos/mo434/lectures-notebooks/images/object-detection/parasites/images/val/001039.png: 640x640 1 parasites, 7.0ms\n",
      "Speed: 1.9ms preprocess, 7.0ms inference, 2.2ms postprocess per image at shape (1, 3, 640, 640)\n",
      "\n",
      "image 1/1 /home/afalcao/doc/cursos/mo434/lectures-notebooks/images/object-detection/parasites/images/val/000544.png: 640x640 1 parasites, 7.1ms\n",
      "Speed: 1.9ms preprocess, 7.1ms inference, 1.7ms postprocess per image at shape (1, 3, 640, 640)\n",
      "\n",
      "image 1/1 /home/afalcao/doc/cursos/mo434/lectures-notebooks/images/object-detection/parasites/images/val/000551.png: 640x640 1 parasites, 7.6ms\n",
      "Speed: 2.1ms preprocess, 7.6ms inference, 1.9ms postprocess per image at shape (1, 3, 640, 640)\n"
     ]
    },
    {
     "name": "stderr",
     "output_type": "stream",
     "text": [
      "Visualizing val set:   9%|█▉                   | 23/243 [00:00<00:07, 30.78it/s]"
     ]
    },
    {
     "name": "stdout",
     "output_type": "stream",
     "text": [
      "\n",
      "image 1/1 /home/afalcao/doc/cursos/mo434/lectures-notebooks/images/object-detection/parasites/images/val/000683.png: 640x640 1 parasites, 9.3ms\n",
      "Speed: 1.8ms preprocess, 9.3ms inference, 1.3ms postprocess per image at shape (1, 3, 640, 640)\n",
      "\n",
      "image 1/1 /home/afalcao/doc/cursos/mo434/lectures-notebooks/images/object-detection/parasites/images/val/000479.png: 640x640 1 parasites, 7.4ms\n",
      "Speed: 1.9ms preprocess, 7.4ms inference, 1.0ms postprocess per image at shape (1, 3, 640, 640)\n",
      "\n",
      "image 1/1 /home/afalcao/doc/cursos/mo434/lectures-notebooks/images/object-detection/parasites/images/val/000227.png: 640x640 (no detections), 7.2ms\n",
      "Speed: 2.5ms preprocess, 7.2ms inference, 1.1ms postprocess per image at shape (1, 3, 640, 640)\n",
      "\n",
      "image 1/1 /home/afalcao/doc/cursos/mo434/lectures-notebooks/images/object-detection/parasites/images/val/000857.png: 640x640 1 parasites, 7.1ms\n",
      "Speed: 2.1ms preprocess, 7.1ms inference, 2.6ms postprocess per image at shape (1, 3, 640, 640)\n"
     ]
    },
    {
     "name": "stderr",
     "output_type": "stream",
     "text": [
      "Visualizing val set:  11%|██▎                  | 27/243 [00:00<00:07, 30.42it/s]"
     ]
    },
    {
     "name": "stdout",
     "output_type": "stream",
     "text": [
      "\n",
      "image 1/1 /home/afalcao/doc/cursos/mo434/lectures-notebooks/images/object-detection/parasites/images/val/000518.png: 640x640 (no detections), 7.3ms\n",
      "Speed: 2.2ms preprocess, 7.3ms inference, 0.6ms postprocess per image at shape (1, 3, 640, 640)\n",
      "\n",
      "image 1/1 /home/afalcao/doc/cursos/mo434/lectures-notebooks/images/object-detection/parasites/images/val/000830.png: 640x640 3 parasitess, 7.8ms\n",
      "Speed: 1.9ms preprocess, 7.8ms inference, 1.8ms postprocess per image at shape (1, 3, 640, 640)\n",
      "\n",
      "image 1/1 /home/afalcao/doc/cursos/mo434/lectures-notebooks/images/object-detection/parasites/images/val/000412.png: 640x640 (no detections), 7.8ms\n",
      "Speed: 2.0ms preprocess, 7.8ms inference, 0.7ms postprocess per image at shape (1, 3, 640, 640)\n",
      "\n",
      "image 1/1 /home/afalcao/doc/cursos/mo434/lectures-notebooks/images/object-detection/parasites/images/val/000643.png: 640x640 1 parasites, 8.5ms\n",
      "Speed: 1.9ms preprocess, 8.5ms inference, 1.3ms postprocess per image at shape (1, 3, 640, 640)\n"
     ]
    },
    {
     "name": "stderr",
     "output_type": "stream",
     "text": [
      "Visualizing val set:  13%|██▋                  | 31/243 [00:01<00:06, 30.30it/s]"
     ]
    },
    {
     "name": "stdout",
     "output_type": "stream",
     "text": [
      "\n",
      "image 1/1 /home/afalcao/doc/cursos/mo434/lectures-notebooks/images/object-detection/parasites/images/val/000505.png: 640x640 1 parasites, 7.3ms\n",
      "Speed: 1.8ms preprocess, 7.3ms inference, 1.1ms postprocess per image at shape (1, 3, 640, 640)\n",
      "\n",
      "image 1/1 /home/afalcao/doc/cursos/mo434/lectures-notebooks/images/object-detection/parasites/images/val/000731.png: 640x640 1 parasites, 7.1ms\n",
      "Speed: 2.2ms preprocess, 7.1ms inference, 1.0ms postprocess per image at shape (1, 3, 640, 640)\n",
      "\n",
      "image 1/1 /home/afalcao/doc/cursos/mo434/lectures-notebooks/images/object-detection/parasites/images/val/000923.png: 640x640 1 parasites, 7.0ms\n",
      "Speed: 1.8ms preprocess, 7.0ms inference, 1.1ms postprocess per image at shape (1, 3, 640, 640)\n",
      "\n",
      "image 1/1 /home/afalcao/doc/cursos/mo434/lectures-notebooks/images/object-detection/parasites/images/val/000158.png: 640x640 1 parasites, 7.5ms\n",
      "Speed: 1.9ms preprocess, 7.5ms inference, 1.2ms postprocess per image at shape (1, 3, 640, 640)\n"
     ]
    },
    {
     "name": "stderr",
     "output_type": "stream",
     "text": [
      "Visualizing val set:  14%|███                  | 35/243 [00:01<00:06, 30.13it/s]"
     ]
    },
    {
     "name": "stdout",
     "output_type": "stream",
     "text": [
      "\n",
      "image 1/1 /home/afalcao/doc/cursos/mo434/lectures-notebooks/images/object-detection/parasites/images/val/000229.png: 640x640 (no detections), 8.5ms\n",
      "Speed: 1.9ms preprocess, 8.5ms inference, 0.4ms postprocess per image at shape (1, 3, 640, 640)\n",
      "\n",
      "image 1/1 /home/afalcao/doc/cursos/mo434/lectures-notebooks/images/object-detection/parasites/images/val/000576.png: 640x640 (no detections), 7.0ms\n",
      "Speed: 1.8ms preprocess, 7.0ms inference, 0.5ms postprocess per image at shape (1, 3, 640, 640)\n",
      "\n",
      "image 1/1 /home/afalcao/doc/cursos/mo434/lectures-notebooks/images/object-detection/parasites/images/val/000982.png: 640x640 1 parasites, 7.3ms\n",
      "Speed: 1.9ms preprocess, 7.3ms inference, 1.1ms postprocess per image at shape (1, 3, 640, 640)\n",
      "\n",
      "image 1/1 /home/afalcao/doc/cursos/mo434/lectures-notebooks/images/object-detection/parasites/images/val/000793.png: 640x640 1 parasites, 7.5ms\n",
      "Speed: 2.4ms preprocess, 7.5ms inference, 1.0ms postprocess per image at shape (1, 3, 640, 640)\n"
     ]
    },
    {
     "name": "stderr",
     "output_type": "stream",
     "text": [
      "Visualizing val set:  16%|███▎                 | 39/243 [00:01<00:06, 29.79it/s]"
     ]
    },
    {
     "name": "stdout",
     "output_type": "stream",
     "text": [
      "\n",
      "image 1/1 /home/afalcao/doc/cursos/mo434/lectures-notebooks/images/object-detection/parasites/images/val/000036.png: 640x640 1 parasites, 7.6ms\n",
      "Speed: 1.8ms preprocess, 7.6ms inference, 0.9ms postprocess per image at shape (1, 3, 640, 640)\n",
      "\n",
      "image 1/1 /home/afalcao/doc/cursos/mo434/lectures-notebooks/images/object-detection/parasites/images/val/000030.png: 640x640 1 parasites, 7.0ms\n",
      "Speed: 2.0ms preprocess, 7.0ms inference, 0.9ms postprocess per image at shape (1, 3, 640, 640)\n",
      "\n",
      "image 1/1 /home/afalcao/doc/cursos/mo434/lectures-notebooks/images/object-detection/parasites/images/val/000017.png: 640x640 2 parasitess, 6.9ms\n",
      "Speed: 1.8ms preprocess, 6.9ms inference, 1.2ms postprocess per image at shape (1, 3, 640, 640)\n",
      "\n",
      "image 1/1 /home/afalcao/doc/cursos/mo434/lectures-notebooks/images/object-detection/parasites/images/val/000472.png: 640x640 (no detections), 6.8ms\n",
      "Speed: 1.8ms preprocess, 6.8ms inference, 0.5ms postprocess per image at shape (1, 3, 640, 640)\n"
     ]
    },
    {
     "name": "stderr",
     "output_type": "stream",
     "text": [
      "Visualizing val set:  18%|███▋                 | 43/243 [00:01<00:06, 30.21it/s]"
     ]
    },
    {
     "name": "stdout",
     "output_type": "stream",
     "text": [
      "\n",
      "image 1/1 /home/afalcao/doc/cursos/mo434/lectures-notebooks/images/object-detection/parasites/images/val/000706.png: 640x640 (no detections), 6.8ms\n",
      "Speed: 1.7ms preprocess, 6.8ms inference, 1.4ms postprocess per image at shape (1, 3, 640, 640)\n",
      "\n",
      "image 1/1 /home/afalcao/doc/cursos/mo434/lectures-notebooks/images/object-detection/parasites/images/val/001021.png: 640x640 1 parasites, 7.9ms\n",
      "Speed: 1.8ms preprocess, 7.9ms inference, 1.2ms postprocess per image at shape (1, 3, 640, 640)\n",
      "\n",
      "image 1/1 /home/afalcao/doc/cursos/mo434/lectures-notebooks/images/object-detection/parasites/images/val/001013.png: 640x640 1 parasites, 6.6ms\n",
      "Speed: 1.7ms preprocess, 6.6ms inference, 1.0ms postprocess per image at shape (1, 3, 640, 640)\n",
      "\n",
      "image 1/1 /home/afalcao/doc/cursos/mo434/lectures-notebooks/images/object-detection/parasites/images/val/000962.png: 640x640 (no detections), 6.6ms\n",
      "Speed: 1.9ms preprocess, 6.6ms inference, 1.2ms postprocess per image at shape (1, 3, 640, 640)\n"
     ]
    },
    {
     "name": "stderr",
     "output_type": "stream",
     "text": [
      "Visualizing val set:  19%|████                 | 47/243 [00:01<00:06, 30.22it/s]"
     ]
    },
    {
     "name": "stdout",
     "output_type": "stream",
     "text": [
      "\n",
      "image 1/1 /home/afalcao/doc/cursos/mo434/lectures-notebooks/images/object-detection/parasites/images/val/000542.png: 640x640 (no detections), 7.2ms\n",
      "Speed: 2.1ms preprocess, 7.2ms inference, 0.8ms postprocess per image at shape (1, 3, 640, 640)\n",
      "\n",
      "image 1/1 /home/afalcao/doc/cursos/mo434/lectures-notebooks/images/object-detection/parasites/images/val/000948.png: 640x640 (no detections), 7.0ms\n",
      "Speed: 1.8ms preprocess, 7.0ms inference, 1.5ms postprocess per image at shape (1, 3, 640, 640)\n",
      "\n",
      "image 1/1 /home/afalcao/doc/cursos/mo434/lectures-notebooks/images/object-detection/parasites/images/val/000581.png: 640x640 1 parasites, 6.8ms\n",
      "Speed: 2.0ms preprocess, 6.8ms inference, 0.9ms postprocess per image at shape (1, 3, 640, 640)\n",
      "\n",
      "image 1/1 /home/afalcao/doc/cursos/mo434/lectures-notebooks/images/object-detection/parasites/images/val/000799.png: 640x640 1 parasites, 7.2ms\n",
      "Speed: 1.8ms preprocess, 7.2ms inference, 1.1ms postprocess per image at shape (1, 3, 640, 640)\n"
     ]
    },
    {
     "name": "stderr",
     "output_type": "stream",
     "text": [
      "Visualizing val set:  21%|████▍                | 51/243 [00:01<00:06, 30.58it/s]"
     ]
    },
    {
     "name": "stdout",
     "output_type": "stream",
     "text": [
      "\n",
      "image 1/1 /home/afalcao/doc/cursos/mo434/lectures-notebooks/images/object-detection/parasites/images/val/000592.png: 640x640 (no detections), 7.1ms\n",
      "Speed: 2.8ms preprocess, 7.1ms inference, 0.5ms postprocess per image at shape (1, 3, 640, 640)\n",
      "\n",
      "image 1/1 /home/afalcao/doc/cursos/mo434/lectures-notebooks/images/object-detection/parasites/images/val/000961.png: 640x640 1 parasites, 7.2ms\n",
      "Speed: 2.2ms preprocess, 7.2ms inference, 1.0ms postprocess per image at shape (1, 3, 640, 640)\n",
      "\n",
      "image 1/1 /home/afalcao/doc/cursos/mo434/lectures-notebooks/images/object-detection/parasites/images/val/000128.png: 640x640 1 parasites, 7.6ms\n",
      "Speed: 2.0ms preprocess, 7.6ms inference, 1.0ms postprocess per image at shape (1, 3, 640, 640)\n",
      "\n",
      "image 1/1 /home/afalcao/doc/cursos/mo434/lectures-notebooks/images/object-detection/parasites/images/val/001040.png: 640x640 (no detections), 7.3ms\n",
      "Speed: 1.7ms preprocess, 7.3ms inference, 0.5ms postprocess per image at shape (1, 3, 640, 640)\n"
     ]
    },
    {
     "name": "stderr",
     "output_type": "stream",
     "text": [
      "Visualizing val set:  23%|████▊                | 55/243 [00:01<00:06, 31.08it/s]"
     ]
    },
    {
     "name": "stdout",
     "output_type": "stream",
     "text": [
      "\n",
      "image 1/1 /home/afalcao/doc/cursos/mo434/lectures-notebooks/images/object-detection/parasites/images/val/000804.png: 640x640 (no detections), 7.1ms\n",
      "Speed: 1.7ms preprocess, 7.1ms inference, 1.4ms postprocess per image at shape (1, 3, 640, 640)\n",
      "\n",
      "image 1/1 /home/afalcao/doc/cursos/mo434/lectures-notebooks/images/object-detection/parasites/images/val/000785.png: 640x640 1 parasites, 6.6ms\n",
      "Speed: 1.7ms preprocess, 6.6ms inference, 1.2ms postprocess per image at shape (1, 3, 640, 640)\n",
      "\n",
      "image 1/1 /home/afalcao/doc/cursos/mo434/lectures-notebooks/images/object-detection/parasites/images/val/000839.png: 640x640 1 parasites, 9.5ms\n",
      "Speed: 1.7ms preprocess, 9.5ms inference, 1.0ms postprocess per image at shape (1, 3, 640, 640)\n",
      "\n",
      "image 1/1 /home/afalcao/doc/cursos/mo434/lectures-notebooks/images/object-detection/parasites/images/val/000166.png: 640x640 1 parasites, 6.9ms\n",
      "Speed: 1.7ms preprocess, 6.9ms inference, 1.7ms postprocess per image at shape (1, 3, 640, 640)\n"
     ]
    },
    {
     "name": "stderr",
     "output_type": "stream",
     "text": [
      "Visualizing val set:  24%|█████                | 59/243 [00:01<00:05, 30.70it/s]"
     ]
    },
    {
     "name": "stdout",
     "output_type": "stream",
     "text": [
      "\n",
      "image 1/1 /home/afalcao/doc/cursos/mo434/lectures-notebooks/images/object-detection/parasites/images/val/000545.png: 640x640 (no detections), 7.0ms\n",
      "Speed: 1.8ms preprocess, 7.0ms inference, 1.3ms postprocess per image at shape (1, 3, 640, 640)\n",
      "\n",
      "image 1/1 /home/afalcao/doc/cursos/mo434/lectures-notebooks/images/object-detection/parasites/images/val/000371.png: 640x640 (no detections), 7.4ms\n",
      "Speed: 2.0ms preprocess, 7.4ms inference, 0.7ms postprocess per image at shape (1, 3, 640, 640)\n",
      "\n",
      "image 1/1 /home/afalcao/doc/cursos/mo434/lectures-notebooks/images/object-detection/parasites/images/val/000456.png: 640x640 (no detections), 7.1ms\n",
      "Speed: 1.7ms preprocess, 7.1ms inference, 0.9ms postprocess per image at shape (1, 3, 640, 640)\n",
      "\n",
      "image 1/1 /home/afalcao/doc/cursos/mo434/lectures-notebooks/images/object-detection/parasites/images/val/000768.png: 640x640 1 parasites, 6.7ms\n",
      "Speed: 1.7ms preprocess, 6.7ms inference, 1.4ms postprocess per image at shape (1, 3, 640, 640)\n"
     ]
    },
    {
     "name": "stderr",
     "output_type": "stream",
     "text": [
      "Visualizing val set:  26%|█████▍               | 63/243 [00:02<00:05, 30.68it/s]"
     ]
    },
    {
     "name": "stdout",
     "output_type": "stream",
     "text": [
      "\n",
      "image 1/1 /home/afalcao/doc/cursos/mo434/lectures-notebooks/images/object-detection/parasites/images/val/000182.png: 640x640 1 parasites, 6.7ms\n",
      "Speed: 1.7ms preprocess, 6.7ms inference, 1.0ms postprocess per image at shape (1, 3, 640, 640)\n",
      "\n",
      "image 1/1 /home/afalcao/doc/cursos/mo434/lectures-notebooks/images/object-detection/parasites/images/val/000011.png: 640x640 1 parasites, 6.7ms\n",
      "Speed: 1.8ms preprocess, 6.7ms inference, 0.9ms postprocess per image at shape (1, 3, 640, 640)\n",
      "\n",
      "image 1/1 /home/afalcao/doc/cursos/mo434/lectures-notebooks/images/object-detection/parasites/images/val/000888.png: 640x640 (no detections), 6.7ms\n",
      "Speed: 1.7ms preprocess, 6.7ms inference, 0.6ms postprocess per image at shape (1, 3, 640, 640)\n",
      "\n",
      "image 1/1 /home/afalcao/doc/cursos/mo434/lectures-notebooks/images/object-detection/parasites/images/val/001118.png: 640x640 (no detections), 6.5ms\n",
      "Speed: 2.2ms preprocess, 6.5ms inference, 0.4ms postprocess per image at shape (1, 3, 640, 640)\n"
     ]
    },
    {
     "name": "stderr",
     "output_type": "stream",
     "text": [
      "Visualizing val set:  28%|█████▊               | 67/243 [00:02<00:05, 30.92it/s]"
     ]
    },
    {
     "name": "stdout",
     "output_type": "stream",
     "text": [
      "\n",
      "image 1/1 /home/afalcao/doc/cursos/mo434/lectures-notebooks/images/object-detection/parasites/images/val/000147.png: 640x640 (no detections), 7.0ms\n",
      "Speed: 2.0ms preprocess, 7.0ms inference, 0.4ms postprocess per image at shape (1, 3, 640, 640)\n",
      "\n",
      "image 1/1 /home/afalcao/doc/cursos/mo434/lectures-notebooks/images/object-detection/parasites/images/val/000819.png: 640x640 1 parasites, 8.4ms\n",
      "Speed: 1.7ms preprocess, 8.4ms inference, 0.9ms postprocess per image at shape (1, 3, 640, 640)\n",
      "\n",
      "image 1/1 /home/afalcao/doc/cursos/mo434/lectures-notebooks/images/object-detection/parasites/images/val/000527.png: 640x640 (no detections), 9.8ms\n",
      "Speed: 1.9ms preprocess, 9.8ms inference, 0.4ms postprocess per image at shape (1, 3, 640, 640)\n",
      "\n",
      "image 1/1 /home/afalcao/doc/cursos/mo434/lectures-notebooks/images/object-detection/parasites/images/val/001015.png: 640x640 1 parasites, 8.7ms\n",
      "Speed: 2.2ms preprocess, 8.7ms inference, 0.9ms postprocess per image at shape (1, 3, 640, 640)\n"
     ]
    },
    {
     "name": "stderr",
     "output_type": "stream",
     "text": [
      "Visualizing val set:  29%|██████▏              | 71/243 [00:02<00:05, 30.58it/s]"
     ]
    },
    {
     "name": "stdout",
     "output_type": "stream",
     "text": [
      "\n",
      "image 1/1 /home/afalcao/doc/cursos/mo434/lectures-notebooks/images/object-detection/parasites/images/val/000803.png: 640x640 1 parasites, 6.4ms\n",
      "Speed: 2.3ms preprocess, 6.4ms inference, 0.9ms postprocess per image at shape (1, 3, 640, 640)\n",
      "\n",
      "image 1/1 /home/afalcao/doc/cursos/mo434/lectures-notebooks/images/object-detection/parasites/images/val/000752.png: 640x640 (no detections), 8.0ms\n",
      "Speed: 3.2ms preprocess, 8.0ms inference, 0.4ms postprocess per image at shape (1, 3, 640, 640)\n",
      "\n",
      "image 1/1 /home/afalcao/doc/cursos/mo434/lectures-notebooks/images/object-detection/parasites/images/val/000132.png: 640x640 1 parasites, 7.4ms\n",
      "Speed: 2.5ms preprocess, 7.4ms inference, 1.0ms postprocess per image at shape (1, 3, 640, 640)\n",
      "\n",
      "image 1/1 /home/afalcao/doc/cursos/mo434/lectures-notebooks/images/object-detection/parasites/images/val/000484.png: 640x640 (no detections), 7.3ms\n",
      "Speed: 2.4ms preprocess, 7.3ms inference, 0.4ms postprocess per image at shape (1, 3, 640, 640)\n"
     ]
    },
    {
     "name": "stderr",
     "output_type": "stream",
     "text": [
      "Visualizing val set:  31%|██████▍              | 75/243 [00:02<00:05, 30.37it/s]"
     ]
    },
    {
     "name": "stdout",
     "output_type": "stream",
     "text": [
      "\n",
      "image 1/1 /home/afalcao/doc/cursos/mo434/lectures-notebooks/images/object-detection/parasites/images/val/000572.png: 640x640 1 parasites, 8.0ms\n",
      "Speed: 2.2ms preprocess, 8.0ms inference, 0.9ms postprocess per image at shape (1, 3, 640, 640)\n",
      "\n",
      "image 1/1 /home/afalcao/doc/cursos/mo434/lectures-notebooks/images/object-detection/parasites/images/val/000238.png: 640x640 (no detections), 6.5ms\n",
      "Speed: 3.0ms preprocess, 6.5ms inference, 0.6ms postprocess per image at shape (1, 3, 640, 640)\n",
      "\n",
      "image 1/1 /home/afalcao/doc/cursos/mo434/lectures-notebooks/images/object-detection/parasites/images/val/000934.png: 640x640 (no detections), 6.6ms\n",
      "Speed: 2.9ms preprocess, 6.6ms inference, 0.4ms postprocess per image at shape (1, 3, 640, 640)\n",
      "\n",
      "image 1/1 /home/afalcao/doc/cursos/mo434/lectures-notebooks/images/object-detection/parasites/images/val/001053.png: 640x640 1 parasites, 7.8ms\n",
      "Speed: 2.7ms preprocess, 7.8ms inference, 1.1ms postprocess per image at shape (1, 3, 640, 640)\n"
     ]
    },
    {
     "name": "stderr",
     "output_type": "stream",
     "text": [
      "Visualizing val set:  33%|██████▊              | 79/243 [00:02<00:05, 29.97it/s]"
     ]
    },
    {
     "name": "stdout",
     "output_type": "stream",
     "text": [
      "\n",
      "image 1/1 /home/afalcao/doc/cursos/mo434/lectures-notebooks/images/object-detection/parasites/images/val/000043.png: 640x640 1 parasites, 6.6ms\n",
      "Speed: 1.7ms preprocess, 6.6ms inference, 1.3ms postprocess per image at shape (1, 3, 640, 640)\n",
      "\n",
      "image 1/1 /home/afalcao/doc/cursos/mo434/lectures-notebooks/images/object-detection/parasites/images/val/001137.png: 640x640 1 parasites, 6.6ms\n",
      "Speed: 2.0ms preprocess, 6.6ms inference, 1.1ms postprocess per image at shape (1, 3, 640, 640)\n",
      "\n",
      "image 1/1 /home/afalcao/doc/cursos/mo434/lectures-notebooks/images/object-detection/parasites/images/val/000261.png: 640x640 (no detections), 6.5ms\n",
      "Speed: 2.0ms preprocess, 6.5ms inference, 0.4ms postprocess per image at shape (1, 3, 640, 640)\n",
      "\n",
      "image 1/1 /home/afalcao/doc/cursos/mo434/lectures-notebooks/images/object-detection/parasites/images/val/000665.png: 640x640 1 parasites, 6.7ms\n",
      "Speed: 2.1ms preprocess, 6.7ms inference, 0.9ms postprocess per image at shape (1, 3, 640, 640)\n"
     ]
    },
    {
     "name": "stderr",
     "output_type": "stream",
     "text": [
      "Visualizing val set:  34%|███████▏             | 83/243 [00:02<00:05, 30.21it/s]"
     ]
    },
    {
     "name": "stdout",
     "output_type": "stream",
     "text": [
      "\n",
      "image 1/1 /home/afalcao/doc/cursos/mo434/lectures-notebooks/images/object-detection/parasites/images/val/000061.png: 640x640 1 parasites, 6.8ms\n",
      "Speed: 2.8ms preprocess, 6.8ms inference, 1.1ms postprocess per image at shape (1, 3, 640, 640)\n",
      "\n",
      "image 1/1 /home/afalcao/doc/cursos/mo434/lectures-notebooks/images/object-detection/parasites/images/val/000125.png: 640x640 (no detections), 6.6ms\n",
      "Speed: 2.5ms preprocess, 6.6ms inference, 0.4ms postprocess per image at shape (1, 3, 640, 640)\n",
      "\n",
      "image 1/1 /home/afalcao/doc/cursos/mo434/lectures-notebooks/images/object-detection/parasites/images/val/000843.png: 640x640 1 parasites, 6.5ms\n",
      "Speed: 2.2ms preprocess, 6.5ms inference, 0.9ms postprocess per image at shape (1, 3, 640, 640)\n",
      "\n",
      "image 1/1 /home/afalcao/doc/cursos/mo434/lectures-notebooks/images/object-detection/parasites/images/val/000257.png: 640x640 (no detections), 7.3ms\n",
      "Speed: 2.0ms preprocess, 7.3ms inference, 0.4ms postprocess per image at shape (1, 3, 640, 640)\n"
     ]
    },
    {
     "name": "stderr",
     "output_type": "stream",
     "text": [
      "Visualizing val set:  36%|███████▌             | 87/243 [00:02<00:05, 30.44it/s]"
     ]
    },
    {
     "name": "stdout",
     "output_type": "stream",
     "text": [
      "\n",
      "image 1/1 /home/afalcao/doc/cursos/mo434/lectures-notebooks/images/object-detection/parasites/images/val/001027.png: 640x640 1 parasites, 9.3ms\n",
      "Speed: 1.8ms preprocess, 9.3ms inference, 1.3ms postprocess per image at shape (1, 3, 640, 640)\n",
      "\n",
      "image 1/1 /home/afalcao/doc/cursos/mo434/lectures-notebooks/images/object-detection/parasites/images/val/000369.png: 640x640 (no detections), 8.9ms\n",
      "Speed: 1.8ms preprocess, 8.9ms inference, 0.6ms postprocess per image at shape (1, 3, 640, 640)\n",
      "\n",
      "image 1/1 /home/afalcao/doc/cursos/mo434/lectures-notebooks/images/object-detection/parasites/images/val/000056.png: 640x640 (no detections), 8.4ms\n",
      "Speed: 1.8ms preprocess, 8.4ms inference, 0.4ms postprocess per image at shape (1, 3, 640, 640)\n",
      "\n",
      "image 1/1 /home/afalcao/doc/cursos/mo434/lectures-notebooks/images/object-detection/parasites/images/val/000791.png: 640x640 1 parasites, 7.3ms\n",
      "Speed: 1.9ms preprocess, 7.3ms inference, 1.3ms postprocess per image at shape (1, 3, 640, 640)\n"
     ]
    },
    {
     "name": "stderr",
     "output_type": "stream",
     "text": [
      "Visualizing val set:  37%|███████▊             | 91/243 [00:02<00:04, 30.61it/s]"
     ]
    },
    {
     "name": "stdout",
     "output_type": "stream",
     "text": [
      "\n",
      "image 1/1 /home/afalcao/doc/cursos/mo434/lectures-notebooks/images/object-detection/parasites/images/val/000886.png: 640x640 (no detections), 8.1ms\n",
      "Speed: 1.8ms preprocess, 8.1ms inference, 0.5ms postprocess per image at shape (1, 3, 640, 640)\n",
      "\n",
      "image 1/1 /home/afalcao/doc/cursos/mo434/lectures-notebooks/images/object-detection/parasites/images/val/000292.png: 640x640 1 parasites, 8.5ms\n",
      "Speed: 1.8ms preprocess, 8.5ms inference, 1.0ms postprocess per image at shape (1, 3, 640, 640)\n",
      "\n",
      "image 1/1 /home/afalcao/doc/cursos/mo434/lectures-notebooks/images/object-detection/parasites/images/val/000710.png: 640x640 (no detections), 7.1ms\n",
      "Speed: 2.2ms preprocess, 7.1ms inference, 0.4ms postprocess per image at shape (1, 3, 640, 640)\n",
      "\n",
      "image 1/1 /home/afalcao/doc/cursos/mo434/lectures-notebooks/images/object-detection/parasites/images/val/001116.png: 640x640 (no detections), 8.0ms\n",
      "Speed: 1.8ms preprocess, 8.0ms inference, 0.7ms postprocess per image at shape (1, 3, 640, 640)\n"
     ]
    },
    {
     "name": "stderr",
     "output_type": "stream",
     "text": [
      "Visualizing val set:  39%|████████▏            | 95/243 [00:03<00:04, 30.22it/s]"
     ]
    },
    {
     "name": "stdout",
     "output_type": "stream",
     "text": [
      "\n",
      "image 1/1 /home/afalcao/doc/cursos/mo434/lectures-notebooks/images/object-detection/parasites/images/val/000404.png: 640x640 (no detections), 8.3ms\n",
      "Speed: 1.7ms preprocess, 8.3ms inference, 0.5ms postprocess per image at shape (1, 3, 640, 640)\n",
      "\n",
      "image 1/1 /home/afalcao/doc/cursos/mo434/lectures-notebooks/images/object-detection/parasites/images/val/001005.png: 640x640 1 parasites, 9.5ms\n",
      "Speed: 1.7ms preprocess, 9.5ms inference, 1.6ms postprocess per image at shape (1, 3, 640, 640)\n",
      "\n",
      "image 1/1 /home/afalcao/doc/cursos/mo434/lectures-notebooks/images/object-detection/parasites/images/val/000590.png: 640x640 (no detections), 6.9ms\n",
      "Speed: 1.7ms preprocess, 6.9ms inference, 0.4ms postprocess per image at shape (1, 3, 640, 640)\n",
      "\n",
      "image 1/1 /home/afalcao/doc/cursos/mo434/lectures-notebooks/images/object-detection/parasites/images/val/001189.png: 640x640 1 parasites, 6.8ms\n",
      "Speed: 1.8ms preprocess, 6.8ms inference, 1.1ms postprocess per image at shape (1, 3, 640, 640)\n"
     ]
    },
    {
     "name": "stderr",
     "output_type": "stream",
     "text": [
      "Visualizing val set:  41%|████████▌            | 99/243 [00:03<00:04, 30.34it/s]"
     ]
    },
    {
     "name": "stdout",
     "output_type": "stream",
     "text": [
      "\n",
      "image 1/1 /home/afalcao/doc/cursos/mo434/lectures-notebooks/images/object-detection/parasites/images/val/000792.png: 640x640 (no detections), 7.1ms\n",
      "Speed: 1.9ms preprocess, 7.1ms inference, 1.0ms postprocess per image at shape (1, 3, 640, 640)\n",
      "\n",
      "image 1/1 /home/afalcao/doc/cursos/mo434/lectures-notebooks/images/object-detection/parasites/images/val/001037.png: 640x640 1 parasites, 6.6ms\n",
      "Speed: 1.9ms preprocess, 6.6ms inference, 1.5ms postprocess per image at shape (1, 3, 640, 640)\n",
      "\n",
      "image 1/1 /home/afalcao/doc/cursos/mo434/lectures-notebooks/images/object-detection/parasites/images/val/000004.png: 640x640 1 parasites, 6.5ms\n",
      "Speed: 2.2ms preprocess, 6.5ms inference, 2.6ms postprocess per image at shape (1, 3, 640, 640)\n",
      "\n",
      "image 1/1 /home/afalcao/doc/cursos/mo434/lectures-notebooks/images/object-detection/parasites/images/val/000516.png: 640x640 (no detections), 6.8ms\n",
      "Speed: 1.9ms preprocess, 6.8ms inference, 0.5ms postprocess per image at shape (1, 3, 640, 640)\n"
     ]
    },
    {
     "name": "stderr",
     "output_type": "stream",
     "text": [
      "Visualizing val set:  42%|████████▍           | 103/243 [00:03<00:04, 30.27it/s]"
     ]
    },
    {
     "name": "stdout",
     "output_type": "stream",
     "text": [
      "\n",
      "image 1/1 /home/afalcao/doc/cursos/mo434/lectures-notebooks/images/object-detection/parasites/images/val/000722.png: 640x640 (no detections), 6.9ms\n",
      "Speed: 1.8ms preprocess, 6.9ms inference, 1.2ms postprocess per image at shape (1, 3, 640, 640)\n",
      "\n",
      "image 1/1 /home/afalcao/doc/cursos/mo434/lectures-notebooks/images/object-detection/parasites/images/val/001100.png: 640x640 (no detections), 6.6ms\n",
      "Speed: 1.9ms preprocess, 6.6ms inference, 0.4ms postprocess per image at shape (1, 3, 640, 640)\n",
      "\n",
      "image 1/1 /home/afalcao/doc/cursos/mo434/lectures-notebooks/images/object-detection/parasites/images/val/000903.png: 640x640 1 parasites, 7.0ms\n",
      "Speed: 2.7ms preprocess, 7.0ms inference, 1.0ms postprocess per image at shape (1, 3, 640, 640)\n",
      "\n",
      "image 1/1 /home/afalcao/doc/cursos/mo434/lectures-notebooks/images/object-detection/parasites/images/val/000898.png: 640x640 (no detections), 7.1ms\n",
      "Speed: 2.9ms preprocess, 7.1ms inference, 0.4ms postprocess per image at shape (1, 3, 640, 640)\n"
     ]
    },
    {
     "name": "stderr",
     "output_type": "stream",
     "text": [
      "Visualizing val set:  44%|████████▊           | 107/243 [00:03<00:04, 30.83it/s]"
     ]
    },
    {
     "name": "stdout",
     "output_type": "stream",
     "text": [
      "\n",
      "image 1/1 /home/afalcao/doc/cursos/mo434/lectures-notebooks/images/object-detection/parasites/images/val/000010.png: 640x640 1 parasites, 7.3ms\n",
      "Speed: 3.6ms preprocess, 7.3ms inference, 1.0ms postprocess per image at shape (1, 3, 640, 640)\n",
      "\n",
      "image 1/1 /home/afalcao/doc/cursos/mo434/lectures-notebooks/images/object-detection/parasites/images/val/000001.png: 640x640 1 parasites, 8.1ms\n",
      "Speed: 2.9ms preprocess, 8.1ms inference, 1.5ms postprocess per image at shape (1, 3, 640, 640)\n",
      "\n",
      "image 1/1 /home/afalcao/doc/cursos/mo434/lectures-notebooks/images/object-detection/parasites/images/val/000339.png: 640x640 (no detections), 7.4ms\n",
      "Speed: 2.3ms preprocess, 7.4ms inference, 0.7ms postprocess per image at shape (1, 3, 640, 640)\n",
      "\n",
      "image 1/1 /home/afalcao/doc/cursos/mo434/lectures-notebooks/images/object-detection/parasites/images/val/000957.png: 640x640 1 parasites, 6.9ms\n",
      "Speed: 2.4ms preprocess, 6.9ms inference, 1.1ms postprocess per image at shape (1, 3, 640, 640)\n"
     ]
    },
    {
     "name": "stderr",
     "output_type": "stream",
     "text": [
      "Visualizing val set:  46%|█████████▏          | 111/243 [00:03<00:04, 30.43it/s]"
     ]
    },
    {
     "name": "stdout",
     "output_type": "stream",
     "text": [
      "\n",
      "image 1/1 /home/afalcao/doc/cursos/mo434/lectures-notebooks/images/object-detection/parasites/images/val/001140.png: 640x640 (no detections), 6.7ms\n",
      "Speed: 2.4ms preprocess, 6.7ms inference, 0.5ms postprocess per image at shape (1, 3, 640, 640)\n",
      "\n",
      "image 1/1 /home/afalcao/doc/cursos/mo434/lectures-notebooks/images/object-detection/parasites/images/val/000334.png: 640x640 1 parasites, 9.6ms\n",
      "Speed: 2.9ms preprocess, 9.6ms inference, 1.2ms postprocess per image at shape (1, 3, 640, 640)\n",
      "\n",
      "image 1/1 /home/afalcao/doc/cursos/mo434/lectures-notebooks/images/object-detection/parasites/images/val/000206.png: 640x640 1 parasites, 7.0ms\n",
      "Speed: 3.1ms preprocess, 7.0ms inference, 0.9ms postprocess per image at shape (1, 3, 640, 640)\n",
      "\n",
      "image 1/1 /home/afalcao/doc/cursos/mo434/lectures-notebooks/images/object-detection/parasites/images/val/000621.png: 640x640 1 parasites, 6.6ms\n",
      "Speed: 3.0ms preprocess, 6.6ms inference, 0.9ms postprocess per image at shape (1, 3, 640, 640)\n"
     ]
    },
    {
     "name": "stderr",
     "output_type": "stream",
     "text": [
      "Visualizing val set:  47%|█████████▍          | 115/243 [00:03<00:04, 30.41it/s]"
     ]
    },
    {
     "name": "stdout",
     "output_type": "stream",
     "text": [
      "\n",
      "image 1/1 /home/afalcao/doc/cursos/mo434/lectures-notebooks/images/object-detection/parasites/images/val/000992.png: 640x640 (no detections), 7.2ms\n",
      "Speed: 3.4ms preprocess, 7.2ms inference, 0.5ms postprocess per image at shape (1, 3, 640, 640)\n",
      "\n",
      "image 1/1 /home/afalcao/doc/cursos/mo434/lectures-notebooks/images/object-detection/parasites/images/val/000067.png: 640x640 (no detections), 7.2ms\n",
      "Speed: 3.0ms preprocess, 7.2ms inference, 0.4ms postprocess per image at shape (1, 3, 640, 640)\n",
      "\n",
      "image 1/1 /home/afalcao/doc/cursos/mo434/lectures-notebooks/images/object-detection/parasites/images/val/000210.png: 640x640 1 parasites, 8.6ms\n",
      "Speed: 1.7ms preprocess, 8.6ms inference, 1.0ms postprocess per image at shape (1, 3, 640, 640)\n",
      "\n",
      "image 1/1 /home/afalcao/doc/cursos/mo434/lectures-notebooks/images/object-detection/parasites/images/val/000635.png: 640x640 1 parasites, 9.0ms\n",
      "Speed: 1.8ms preprocess, 9.0ms inference, 1.0ms postprocess per image at shape (1, 3, 640, 640)\n"
     ]
    },
    {
     "name": "stderr",
     "output_type": "stream",
     "text": [
      "Visualizing val set:  49%|█████████▊          | 119/243 [00:03<00:04, 30.35it/s]"
     ]
    },
    {
     "name": "stdout",
     "output_type": "stream",
     "text": [
      "\n",
      "image 1/1 /home/afalcao/doc/cursos/mo434/lectures-notebooks/images/object-detection/parasites/images/val/000851.png: 640x640 1 parasites, 8.8ms\n",
      "Speed: 1.7ms preprocess, 8.8ms inference, 0.9ms postprocess per image at shape (1, 3, 640, 640)\n",
      "\n",
      "image 1/1 /home/afalcao/doc/cursos/mo434/lectures-notebooks/images/object-detection/parasites/images/val/000924.png: 640x640 1 parasites, 8.8ms\n",
      "Speed: 3.2ms preprocess, 8.8ms inference, 0.9ms postprocess per image at shape (1, 3, 640, 640)\n",
      "\n",
      "image 1/1 /home/afalcao/doc/cursos/mo434/lectures-notebooks/images/object-detection/parasites/images/val/000361.png: 640x640 (no detections), 9.2ms\n",
      "Speed: 2.6ms preprocess, 9.2ms inference, 0.4ms postprocess per image at shape (1, 3, 640, 640)\n",
      "\n",
      "image 1/1 /home/afalcao/doc/cursos/mo434/lectures-notebooks/images/object-detection/parasites/images/val/000526.png: 640x640 1 parasites, 9.3ms\n",
      "Speed: 3.3ms preprocess, 9.3ms inference, 1.2ms postprocess per image at shape (1, 3, 640, 640)\n"
     ]
    },
    {
     "name": "stderr",
     "output_type": "stream",
     "text": [
      "Visualizing val set:  51%|██████████          | 123/243 [00:04<00:04, 29.85it/s]"
     ]
    },
    {
     "name": "stdout",
     "output_type": "stream",
     "text": [
      "\n",
      "image 1/1 /home/afalcao/doc/cursos/mo434/lectures-notebooks/images/object-detection/parasites/images/val/000301.png: 640x640 2 parasitess, 7.5ms\n",
      "Speed: 4.1ms preprocess, 7.5ms inference, 1.0ms postprocess per image at shape (1, 3, 640, 640)\n",
      "\n",
      "image 1/1 /home/afalcao/doc/cursos/mo434/lectures-notebooks/images/object-detection/parasites/images/val/000392.png: 640x640 (no detections), 7.8ms\n",
      "Speed: 3.6ms preprocess, 7.8ms inference, 0.7ms postprocess per image at shape (1, 3, 640, 640)\n",
      "\n",
      "image 1/1 /home/afalcao/doc/cursos/mo434/lectures-notebooks/images/object-detection/parasites/images/val/001187.png: 640x640 1 parasites, 8.5ms\n",
      "Speed: 2.5ms preprocess, 8.5ms inference, 1.7ms postprocess per image at shape (1, 3, 640, 640)\n"
     ]
    },
    {
     "name": "stderr",
     "output_type": "stream",
     "text": [
      "Visualizing val set:  52%|██████████▎         | 126/243 [00:04<00:03, 29.40it/s]"
     ]
    },
    {
     "name": "stdout",
     "output_type": "stream",
     "text": [
      "\n",
      "image 1/1 /home/afalcao/doc/cursos/mo434/lectures-notebooks/images/object-detection/parasites/images/val/000180.png: 640x640 1 parasites, 8.2ms\n",
      "Speed: 1.9ms preprocess, 8.2ms inference, 1.2ms postprocess per image at shape (1, 3, 640, 640)\n",
      "\n",
      "image 1/1 /home/afalcao/doc/cursos/mo434/lectures-notebooks/images/object-detection/parasites/images/val/000050.png: 640x640 1 parasites, 8.9ms\n",
      "Speed: 2.0ms preprocess, 8.9ms inference, 1.1ms postprocess per image at shape (1, 3, 640, 640)\n",
      "\n",
      "image 1/1 /home/afalcao/doc/cursos/mo434/lectures-notebooks/images/object-detection/parasites/images/val/000037.png: 640x640 1 parasites, 7.2ms\n",
      "Speed: 2.1ms preprocess, 7.2ms inference, 1.3ms postprocess per image at shape (1, 3, 640, 640)\n"
     ]
    },
    {
     "name": "stderr",
     "output_type": "stream",
     "text": [
      "Visualizing val set:  53%|██████████▌         | 129/243 [00:04<00:03, 29.41it/s]"
     ]
    },
    {
     "name": "stdout",
     "output_type": "stream",
     "text": [
      "\n",
      "image 1/1 /home/afalcao/doc/cursos/mo434/lectures-notebooks/images/object-detection/parasites/images/val/000110.png: 640x640 (no detections), 7.9ms\n",
      "Speed: 2.3ms preprocess, 7.9ms inference, 0.6ms postprocess per image at shape (1, 3, 640, 640)\n",
      "\n",
      "image 1/1 /home/afalcao/doc/cursos/mo434/lectures-notebooks/images/object-detection/parasites/images/val/001168.png: 640x640 (no detections), 7.7ms\n",
      "Speed: 2.0ms preprocess, 7.7ms inference, 0.6ms postprocess per image at shape (1, 3, 640, 640)\n",
      "\n",
      "image 1/1 /home/afalcao/doc/cursos/mo434/lectures-notebooks/images/object-detection/parasites/images/val/000297.png: 640x640 1 parasites, 8.3ms\n",
      "Speed: 2.7ms preprocess, 8.3ms inference, 0.9ms postprocess per image at shape (1, 3, 640, 640)\n",
      "\n",
      "image 1/1 /home/afalcao/doc/cursos/mo434/lectures-notebooks/images/object-detection/parasites/images/val/001215.png: 640x640 1 parasites, 8.0ms\n",
      "Speed: 2.9ms preprocess, 8.0ms inference, 0.9ms postprocess per image at shape (1, 3, 640, 640)\n"
     ]
    },
    {
     "name": "stderr",
     "output_type": "stream",
     "text": [
      "Visualizing val set:  55%|██████████▉         | 133/243 [00:04<00:03, 29.59it/s]"
     ]
    },
    {
     "name": "stdout",
     "output_type": "stream",
     "text": [
      "\n",
      "image 1/1 /home/afalcao/doc/cursos/mo434/lectures-notebooks/images/object-detection/parasites/images/val/000266.png: 640x640 1 parasites, 9.6ms\n",
      "Speed: 2.2ms preprocess, 9.6ms inference, 0.9ms postprocess per image at shape (1, 3, 640, 640)\n",
      "\n",
      "image 1/1 /home/afalcao/doc/cursos/mo434/lectures-notebooks/images/object-detection/parasites/images/val/000420.png: 640x640 (no detections), 8.4ms\n",
      "Speed: 3.2ms preprocess, 8.4ms inference, 0.4ms postprocess per image at shape (1, 3, 640, 640)\n",
      "\n",
      "image 1/1 /home/afalcao/doc/cursos/mo434/lectures-notebooks/images/object-detection/parasites/images/val/000892.png: 640x640 (no detections), 7.6ms\n",
      "Speed: 2.8ms preprocess, 7.6ms inference, 0.4ms postprocess per image at shape (1, 3, 640, 640)\n"
     ]
    },
    {
     "name": "stderr",
     "output_type": "stream",
     "text": [
      "Visualizing val set:  56%|███████████▏        | 136/243 [00:04<00:03, 29.25it/s]"
     ]
    },
    {
     "name": "stdout",
     "output_type": "stream",
     "text": [
      "\n",
      "image 1/1 /home/afalcao/doc/cursos/mo434/lectures-notebooks/images/object-detection/parasites/images/val/000035.png: 640x640 1 parasites, 7.6ms\n",
      "Speed: 3.0ms preprocess, 7.6ms inference, 1.1ms postprocess per image at shape (1, 3, 640, 640)\n",
      "\n",
      "image 1/1 /home/afalcao/doc/cursos/mo434/lectures-notebooks/images/object-detection/parasites/images/val/001075.png: 640x640 (no detections), 6.5ms\n",
      "Speed: 1.8ms preprocess, 6.5ms inference, 0.4ms postprocess per image at shape (1, 3, 640, 640)\n",
      "\n",
      "image 1/1 /home/afalcao/doc/cursos/mo434/lectures-notebooks/images/object-detection/parasites/images/val/000615.png: 640x640 1 parasites, 7.7ms\n",
      "Speed: 3.0ms preprocess, 7.7ms inference, 1.0ms postprocess per image at shape (1, 3, 640, 640)\n"
     ]
    },
    {
     "name": "stderr",
     "output_type": "stream",
     "text": [
      "Visualizing val set:  57%|███████████▍        | 139/243 [00:04<00:03, 29.37it/s]"
     ]
    },
    {
     "name": "stdout",
     "output_type": "stream",
     "text": [
      "\n",
      "image 1/1 /home/afalcao/doc/cursos/mo434/lectures-notebooks/images/object-detection/parasites/images/val/000863.png: 640x640 1 parasites, 6.5ms\n",
      "Speed: 2.6ms preprocess, 6.5ms inference, 1.1ms postprocess per image at shape (1, 3, 640, 640)\n",
      "\n",
      "image 1/1 /home/afalcao/doc/cursos/mo434/lectures-notebooks/images/object-detection/parasites/images/val/001105.png: 640x640 1 parasites, 6.7ms\n",
      "Speed: 2.8ms preprocess, 6.7ms inference, 0.9ms postprocess per image at shape (1, 3, 640, 640)\n",
      "\n",
      "image 1/1 /home/afalcao/doc/cursos/mo434/lectures-notebooks/images/object-detection/parasites/images/val/000388.png: 640x640 (no detections), 6.4ms\n",
      "Speed: 1.8ms preprocess, 6.4ms inference, 0.4ms postprocess per image at shape (1, 3, 640, 640)\n"
     ]
    },
    {
     "name": "stderr",
     "output_type": "stream",
     "text": [
      "Visualizing val set:  58%|███████████▋        | 142/243 [00:04<00:03, 29.46it/s]"
     ]
    },
    {
     "name": "stdout",
     "output_type": "stream",
     "text": [
      "\n",
      "image 1/1 /home/afalcao/doc/cursos/mo434/lectures-notebooks/images/object-detection/parasites/images/val/001159.png: 640x640 1 parasites, 7.8ms\n",
      "Speed: 2.2ms preprocess, 7.8ms inference, 1.0ms postprocess per image at shape (1, 3, 640, 640)\n",
      "\n",
      "image 1/1 /home/afalcao/doc/cursos/mo434/lectures-notebooks/images/object-detection/parasites/images/val/000459.png: 640x640 (no detections), 6.7ms\n",
      "Speed: 2.1ms preprocess, 6.7ms inference, 0.5ms postprocess per image at shape (1, 3, 640, 640)\n",
      "\n",
      "image 1/1 /home/afalcao/doc/cursos/mo434/lectures-notebooks/images/object-detection/parasites/images/val/000668.png: 640x640 (no detections), 7.2ms\n",
      "Speed: 3.2ms preprocess, 7.2ms inference, 0.6ms postprocess per image at shape (1, 3, 640, 640)\n",
      "\n",
      "image 1/1 /home/afalcao/doc/cursos/mo434/lectures-notebooks/images/object-detection/parasites/images/val/000310.png: 640x640 1 parasites, 8.5ms\n",
      "Speed: 2.6ms preprocess, 8.5ms inference, 1.2ms postprocess per image at shape (1, 3, 640, 640)\n"
     ]
    },
    {
     "name": "stderr",
     "output_type": "stream",
     "text": [
      "Visualizing val set:  60%|████████████        | 146/243 [00:04<00:03, 29.87it/s]"
     ]
    },
    {
     "name": "stdout",
     "output_type": "stream",
     "text": [
      "\n",
      "image 1/1 /home/afalcao/doc/cursos/mo434/lectures-notebooks/images/object-detection/parasites/images/val/000637.png: 640x640 (no detections), 6.8ms\n",
      "Speed: 2.7ms preprocess, 6.8ms inference, 0.4ms postprocess per image at shape (1, 3, 640, 640)\n",
      "\n",
      "image 1/1 /home/afalcao/doc/cursos/mo434/lectures-notebooks/images/object-detection/parasites/images/val/001195.png: 640x640 1 parasites, 7.7ms\n",
      "Speed: 2.1ms preprocess, 7.7ms inference, 1.0ms postprocess per image at shape (1, 3, 640, 640)\n",
      "\n",
      "image 1/1 /home/afalcao/doc/cursos/mo434/lectures-notebooks/images/object-detection/parasites/images/val/000221.png: 640x640 (no detections), 7.3ms\n",
      "Speed: 1.9ms preprocess, 7.3ms inference, 0.4ms postprocess per image at shape (1, 3, 640, 640)\n",
      "\n",
      "image 1/1 /home/afalcao/doc/cursos/mo434/lectures-notebooks/images/object-detection/parasites/images/val/000856.png: 640x640 (no detections), 7.2ms\n",
      "Speed: 2.1ms preprocess, 7.2ms inference, 0.5ms postprocess per image at shape (1, 3, 640, 640)\n"
     ]
    },
    {
     "name": "stderr",
     "output_type": "stream",
     "text": [
      "Visualizing val set:  62%|████████████▎       | 150/243 [00:04<00:03, 30.54it/s]"
     ]
    },
    {
     "name": "stdout",
     "output_type": "stream",
     "text": [
      "\n",
      "image 1/1 /home/afalcao/doc/cursos/mo434/lectures-notebooks/images/object-detection/parasites/images/val/000604.png: 640x640 (no detections), 9.6ms\n",
      "Speed: 2.6ms preprocess, 9.6ms inference, 0.5ms postprocess per image at shape (1, 3, 640, 640)\n",
      "\n",
      "image 1/1 /home/afalcao/doc/cursos/mo434/lectures-notebooks/images/object-detection/parasites/images/val/001069.png: 640x640 1 parasites, 8.9ms\n",
      "Speed: 2.7ms preprocess, 8.9ms inference, 0.9ms postprocess per image at shape (1, 3, 640, 640)\n",
      "\n",
      "image 1/1 /home/afalcao/doc/cursos/mo434/lectures-notebooks/images/object-detection/parasites/images/val/000267.png: 640x640 1 parasites, 7.5ms\n",
      "Speed: 1.9ms preprocess, 7.5ms inference, 1.0ms postprocess per image at shape (1, 3, 640, 640)\n",
      "\n",
      "image 1/1 /home/afalcao/doc/cursos/mo434/lectures-notebooks/images/object-detection/parasites/images/val/000195.png: 640x640 (no detections), 8.3ms\n",
      "Speed: 2.0ms preprocess, 8.3ms inference, 0.4ms postprocess per image at shape (1, 3, 640, 640)\n"
     ]
    },
    {
     "name": "stderr",
     "output_type": "stream",
     "text": [
      "Visualizing val set:  63%|████████████▋       | 154/243 [00:05<00:02, 30.07it/s]"
     ]
    },
    {
     "name": "stdout",
     "output_type": "stream",
     "text": [
      "\n",
      "image 1/1 /home/afalcao/doc/cursos/mo434/lectures-notebooks/images/object-detection/parasites/images/val/000230.png: 640x640 1 parasites, 8.5ms\n",
      "Speed: 2.2ms preprocess, 8.5ms inference, 0.9ms postprocess per image at shape (1, 3, 640, 640)\n",
      "\n",
      "image 1/1 /home/afalcao/doc/cursos/mo434/lectures-notebooks/images/object-detection/parasites/images/val/000927.png: 640x640 1 parasites, 9.2ms\n",
      "Speed: 1.7ms preprocess, 9.2ms inference, 0.9ms postprocess per image at shape (1, 3, 640, 640)\n",
      "\n",
      "image 1/1 /home/afalcao/doc/cursos/mo434/lectures-notebooks/images/object-detection/parasites/images/val/000512.png: 640x640 1 parasites, 8.0ms\n",
      "Speed: 2.3ms preprocess, 8.0ms inference, 0.9ms postprocess per image at shape (1, 3, 640, 640)\n",
      "\n",
      "image 1/1 /home/afalcao/doc/cursos/mo434/lectures-notebooks/images/object-detection/parasites/images/val/000624.png: 640x640 (no detections), 9.7ms\n",
      "Speed: 1.8ms preprocess, 9.7ms inference, 0.4ms postprocess per image at shape (1, 3, 640, 640)\n"
     ]
    },
    {
     "name": "stderr",
     "output_type": "stream",
     "text": [
      "Visualizing val set:  65%|█████████████       | 158/243 [00:05<00:02, 30.02it/s]"
     ]
    },
    {
     "name": "stdout",
     "output_type": "stream",
     "text": [
      "\n",
      "image 1/1 /home/afalcao/doc/cursos/mo434/lectures-notebooks/images/object-detection/parasites/images/val/000583.png: 640x640 1 parasites, 8.6ms\n",
      "Speed: 2.1ms preprocess, 8.6ms inference, 1.0ms postprocess per image at shape (1, 3, 640, 640)\n",
      "\n",
      "image 1/1 /home/afalcao/doc/cursos/mo434/lectures-notebooks/images/object-detection/parasites/images/val/001092.png: 640x640 (no detections), 9.2ms\n",
      "Speed: 1.8ms preprocess, 9.2ms inference, 0.6ms postprocess per image at shape (1, 3, 640, 640)\n",
      "\n",
      "image 1/1 /home/afalcao/doc/cursos/mo434/lectures-notebooks/images/object-detection/parasites/images/val/000860.png: 640x640 (no detections), 10.2ms\n",
      "Speed: 1.8ms preprocess, 10.2ms inference, 0.7ms postprocess per image at shape (1, 3, 640, 640)\n",
      "\n",
      "image 1/1 /home/afalcao/doc/cursos/mo434/lectures-notebooks/images/object-detection/parasites/images/val/000086.png: 640x640 1 parasites, 9.5ms\n",
      "Speed: 1.8ms preprocess, 9.5ms inference, 1.1ms postprocess per image at shape (1, 3, 640, 640)\n"
     ]
    },
    {
     "name": "stderr",
     "output_type": "stream",
     "text": [
      "Visualizing val set:  67%|█████████████▎      | 162/243 [00:05<00:02, 29.97it/s]"
     ]
    },
    {
     "name": "stdout",
     "output_type": "stream",
     "text": [
      "\n",
      "image 1/1 /home/afalcao/doc/cursos/mo434/lectures-notebooks/images/object-detection/parasites/images/val/000444.png: 640x640 2 parasitess, 8.4ms\n",
      "Speed: 2.2ms preprocess, 8.4ms inference, 0.9ms postprocess per image at shape (1, 3, 640, 640)\n",
      "\n",
      "image 1/1 /home/afalcao/doc/cursos/mo434/lectures-notebooks/images/object-detection/parasites/images/val/000755.png: 640x640 1 parasites, 9.6ms\n",
      "Speed: 1.8ms preprocess, 9.6ms inference, 1.0ms postprocess per image at shape (1, 3, 640, 640)\n",
      "\n",
      "image 1/1 /home/afalcao/doc/cursos/mo434/lectures-notebooks/images/object-detection/parasites/images/val/001155.png: 640x640 2 parasitess, 9.7ms\n",
      "Speed: 1.8ms preprocess, 9.7ms inference, 1.0ms postprocess per image at shape (1, 3, 640, 640)\n"
     ]
    },
    {
     "name": "stderr",
     "output_type": "stream",
     "text": [
      "Visualizing val set:  68%|█████████████▌      | 165/243 [00:05<00:02, 29.95it/s]"
     ]
    },
    {
     "name": "stdout",
     "output_type": "stream",
     "text": [
      "\n",
      "image 1/1 /home/afalcao/doc/cursos/mo434/lectures-notebooks/images/object-detection/parasites/images/val/000291.png: 640x640 (no detections), 7.2ms\n",
      "Speed: 2.7ms preprocess, 7.2ms inference, 0.4ms postprocess per image at shape (1, 3, 640, 640)\n",
      "\n",
      "image 1/1 /home/afalcao/doc/cursos/mo434/lectures-notebooks/images/object-detection/parasites/images/val/000418.png: 640x640 (no detections), 9.0ms\n",
      "Speed: 2.5ms preprocess, 9.0ms inference, 0.5ms postprocess per image at shape (1, 3, 640, 640)\n",
      "\n",
      "image 1/1 /home/afalcao/doc/cursos/mo434/lectures-notebooks/images/object-detection/parasites/images/val/001086.png: 640x640 (no detections), 9.2ms\n",
      "Speed: 3.5ms preprocess, 9.2ms inference, 0.4ms postprocess per image at shape (1, 3, 640, 640)\n"
     ]
    },
    {
     "name": "stderr",
     "output_type": "stream",
     "text": [
      "Visualizing val set:  69%|█████████████▊      | 168/243 [00:05<00:02, 29.55it/s]"
     ]
    },
    {
     "name": "stdout",
     "output_type": "stream",
     "text": [
      "\n",
      "image 1/1 /home/afalcao/doc/cursos/mo434/lectures-notebooks/images/object-detection/parasites/images/val/001188.png: 640x640 1 parasites, 7.1ms\n",
      "Speed: 2.4ms preprocess, 7.1ms inference, 0.9ms postprocess per image at shape (1, 3, 640, 640)\n",
      "\n",
      "image 1/1 /home/afalcao/doc/cursos/mo434/lectures-notebooks/images/object-detection/parasites/images/val/000502.png: 640x640 (no detections), 7.0ms\n",
      "Speed: 2.3ms preprocess, 7.0ms inference, 0.4ms postprocess per image at shape (1, 3, 640, 640)\n",
      "\n",
      "image 1/1 /home/afalcao/doc/cursos/mo434/lectures-notebooks/images/object-detection/parasites/images/val/000766.png: 640x640 1 parasites, 7.1ms\n",
      "Speed: 2.3ms preprocess, 7.1ms inference, 1.0ms postprocess per image at shape (1, 3, 640, 640)\n",
      "\n",
      "image 1/1 /home/afalcao/doc/cursos/mo434/lectures-notebooks/images/object-detection/parasites/images/val/000629.png: 640x640 1 parasites, 7.1ms\n",
      "Speed: 3.1ms preprocess, 7.1ms inference, 0.9ms postprocess per image at shape (1, 3, 640, 640)\n"
     ]
    },
    {
     "name": "stderr",
     "output_type": "stream",
     "text": [
      "Visualizing val set:  71%|██████████████▏     | 172/243 [00:05<00:02, 29.72it/s]"
     ]
    },
    {
     "name": "stdout",
     "output_type": "stream",
     "text": [
      "\n",
      "image 1/1 /home/afalcao/doc/cursos/mo434/lectures-notebooks/images/object-detection/parasites/images/val/001055.png: 640x640 1 parasites, 7.4ms\n",
      "Speed: 2.1ms preprocess, 7.4ms inference, 1.2ms postprocess per image at shape (1, 3, 640, 640)\n",
      "\n",
      "image 1/1 /home/afalcao/doc/cursos/mo434/lectures-notebooks/images/object-detection/parasites/images/val/001158.png: 640x640 (no detections), 7.5ms\n",
      "Speed: 2.3ms preprocess, 7.5ms inference, 0.6ms postprocess per image at shape (1, 3, 640, 640)\n",
      "\n",
      "image 1/1 /home/afalcao/doc/cursos/mo434/lectures-notebooks/images/object-detection/parasites/images/val/000287.png: 640x640 (no detections), 7.5ms\n",
      "Speed: 2.2ms preprocess, 7.5ms inference, 0.5ms postprocess per image at shape (1, 3, 640, 640)\n",
      "\n",
      "image 1/1 /home/afalcao/doc/cursos/mo434/lectures-notebooks/images/object-detection/parasites/images/val/000146.png: 640x640 1 parasites, 7.7ms\n",
      "Speed: 3.1ms preprocess, 7.7ms inference, 1.1ms postprocess per image at shape (1, 3, 640, 640)\n"
     ]
    },
    {
     "name": "stderr",
     "output_type": "stream",
     "text": [
      "Visualizing val set:  72%|██████████████▍     | 176/243 [00:05<00:02, 29.80it/s]"
     ]
    },
    {
     "name": "stdout",
     "output_type": "stream",
     "text": [
      "\n",
      "image 1/1 /home/afalcao/doc/cursos/mo434/lectures-notebooks/images/object-detection/parasites/images/val/001157.png: 640x640 1 parasites, 7.3ms\n",
      "Speed: 1.9ms preprocess, 7.3ms inference, 1.2ms postprocess per image at shape (1, 3, 640, 640)\n",
      "\n",
      "image 1/1 /home/afalcao/doc/cursos/mo434/lectures-notebooks/images/object-detection/parasites/images/val/000645.png: 640x640 1 parasites, 7.5ms\n",
      "Speed: 2.4ms preprocess, 7.5ms inference, 1.0ms postprocess per image at shape (1, 3, 640, 640)\n",
      "\n",
      "image 1/1 /home/afalcao/doc/cursos/mo434/lectures-notebooks/images/object-detection/parasites/images/val/000528.png: 640x640 (no detections), 6.7ms\n",
      "Speed: 3.0ms preprocess, 6.7ms inference, 0.4ms postprocess per image at shape (1, 3, 640, 640)\n",
      "\n",
      "image 1/1 /home/afalcao/doc/cursos/mo434/lectures-notebooks/images/object-detection/parasites/images/val/000476.png: 640x640 (no detections), 7.9ms\n",
      "Speed: 3.8ms preprocess, 7.9ms inference, 0.4ms postprocess per image at shape (1, 3, 640, 640)\n"
     ]
    },
    {
     "name": "stderr",
     "output_type": "stream",
     "text": [
      "Visualizing val set:  74%|██████████████▊     | 180/243 [00:05<00:02, 29.96it/s]"
     ]
    },
    {
     "name": "stdout",
     "output_type": "stream",
     "text": [
      "\n",
      "image 1/1 /home/afalcao/doc/cursos/mo434/lectures-notebooks/images/object-detection/parasites/images/val/001061.png: 640x640 1 parasites, 7.1ms\n",
      "Speed: 3.3ms preprocess, 7.1ms inference, 0.9ms postprocess per image at shape (1, 3, 640, 640)\n",
      "\n",
      "image 1/1 /home/afalcao/doc/cursos/mo434/lectures-notebooks/images/object-detection/parasites/images/val/000772.png: 640x640 (no detections), 7.6ms\n",
      "Speed: 2.2ms preprocess, 7.6ms inference, 0.6ms postprocess per image at shape (1, 3, 640, 640)\n",
      "\n",
      "image 1/1 /home/afalcao/doc/cursos/mo434/lectures-notebooks/images/object-detection/parasites/images/val/000570.png: 640x640 2 parasitess, 7.5ms\n",
      "Speed: 1.7ms preprocess, 7.5ms inference, 1.4ms postprocess per image at shape (1, 3, 640, 640)\n",
      "\n",
      "image 1/1 /home/afalcao/doc/cursos/mo434/lectures-notebooks/images/object-detection/parasites/images/val/001076.png: 640x640 (no detections), 7.4ms\n",
      "Speed: 2.0ms preprocess, 7.4ms inference, 0.6ms postprocess per image at shape (1, 3, 640, 640)\n"
     ]
    },
    {
     "name": "stderr",
     "output_type": "stream",
     "text": [
      "Visualizing val set:  76%|███████████████▏    | 184/243 [00:06<00:01, 30.37it/s]"
     ]
    },
    {
     "name": "stdout",
     "output_type": "stream",
     "text": [
      "\n",
      "image 1/1 /home/afalcao/doc/cursos/mo434/lectures-notebooks/images/object-detection/parasites/images/val/000489.png: 640x640 1 parasites, 10.0ms\n",
      "Speed: 3.0ms preprocess, 10.0ms inference, 1.0ms postprocess per image at shape (1, 3, 640, 640)\n",
      "\n",
      "image 1/1 /home/afalcao/doc/cursos/mo434/lectures-notebooks/images/object-detection/parasites/images/val/000780.png: 640x640 1 parasites, 9.4ms\n",
      "Speed: 4.1ms preprocess, 9.4ms inference, 1.4ms postprocess per image at shape (1, 3, 640, 640)\n",
      "\n",
      "image 1/1 /home/afalcao/doc/cursos/mo434/lectures-notebooks/images/object-detection/parasites/images/val/000194.png: 640x640 1 parasites, 7.9ms\n",
      "Speed: 2.6ms preprocess, 7.9ms inference, 1.7ms postprocess per image at shape (1, 3, 640, 640)\n",
      "\n",
      "image 1/1 /home/afalcao/doc/cursos/mo434/lectures-notebooks/images/object-detection/parasites/images/val/001025.png: 640x640 1 parasites, 7.1ms\n",
      "Speed: 1.8ms preprocess, 7.1ms inference, 1.3ms postprocess per image at shape (1, 3, 640, 640)\n"
     ]
    },
    {
     "name": "stderr",
     "output_type": "stream",
     "text": [
      "Visualizing val set:  77%|███████████████▍    | 188/243 [00:06<00:01, 29.13it/s]"
     ]
    },
    {
     "name": "stdout",
     "output_type": "stream",
     "text": [
      "\n",
      "image 1/1 /home/afalcao/doc/cursos/mo434/lectures-notebooks/images/object-detection/parasites/images/val/000847.png: 640x640 1 parasites, 6.6ms\n",
      "Speed: 1.8ms preprocess, 6.6ms inference, 1.0ms postprocess per image at shape (1, 3, 640, 640)\n",
      "\n",
      "image 1/1 /home/afalcao/doc/cursos/mo434/lectures-notebooks/images/object-detection/parasites/images/val/000912.png: 640x640 (no detections), 7.7ms\n",
      "Speed: 1.9ms preprocess, 7.7ms inference, 0.4ms postprocess per image at shape (1, 3, 640, 640)\n",
      "\n",
      "image 1/1 /home/afalcao/doc/cursos/mo434/lectures-notebooks/images/object-detection/parasites/images/val/000536.png: 640x640 1 parasites, 7.7ms\n",
      "Speed: 1.8ms preprocess, 7.7ms inference, 1.6ms postprocess per image at shape (1, 3, 640, 640)\n",
      "\n",
      "image 1/1 /home/afalcao/doc/cursos/mo434/lectures-notebooks/images/object-detection/parasites/images/val/000506.png: 640x640 (no detections), 7.0ms\n",
      "Speed: 1.7ms preprocess, 7.0ms inference, 0.5ms postprocess per image at shape (1, 3, 640, 640)\n"
     ]
    },
    {
     "name": "stderr",
     "output_type": "stream",
     "text": [
      "Visualizing val set:  79%|███████████████▊    | 192/243 [00:06<00:01, 29.61it/s]"
     ]
    },
    {
     "name": "stdout",
     "output_type": "stream",
     "text": [
      "\n",
      "image 1/1 /home/afalcao/doc/cursos/mo434/lectures-notebooks/images/object-detection/parasites/images/val/000762.png: 640x640 (no detections), 6.8ms\n",
      "Speed: 1.8ms preprocess, 6.8ms inference, 1.0ms postprocess per image at shape (1, 3, 640, 640)\n",
      "\n",
      "image 1/1 /home/afalcao/doc/cursos/mo434/lectures-notebooks/images/object-detection/parasites/images/val/000049.png: 640x640 (no detections), 6.5ms\n",
      "Speed: 1.7ms preprocess, 6.5ms inference, 0.4ms postprocess per image at shape (1, 3, 640, 640)\n",
      "\n",
      "image 1/1 /home/afalcao/doc/cursos/mo434/lectures-notebooks/images/object-detection/parasites/images/val/000214.png: 640x640 1 parasites, 6.5ms\n",
      "Speed: 2.1ms preprocess, 6.5ms inference, 0.9ms postprocess per image at shape (1, 3, 640, 640)\n",
      "\n",
      "image 1/1 /home/afalcao/doc/cursos/mo434/lectures-notebooks/images/object-detection/parasites/images/val/000457.png: 640x640 1 parasites, 7.2ms\n",
      "Speed: 3.0ms preprocess, 7.2ms inference, 1.1ms postprocess per image at shape (1, 3, 640, 640)\n"
     ]
    },
    {
     "name": "stderr",
     "output_type": "stream",
     "text": [
      "Visualizing val set:  81%|████████████████▏   | 196/243 [00:06<00:01, 30.11it/s]"
     ]
    },
    {
     "name": "stdout",
     "output_type": "stream",
     "text": [
      "\n",
      "image 1/1 /home/afalcao/doc/cursos/mo434/lectures-notebooks/images/object-detection/parasites/images/val/000794.png: 640x640 (no detections), 8.3ms\n",
      "Speed: 3.0ms preprocess, 8.3ms inference, 0.5ms postprocess per image at shape (1, 3, 640, 640)\n",
      "\n",
      "image 1/1 /home/afalcao/doc/cursos/mo434/lectures-notebooks/images/object-detection/parasites/images/val/000933.png: 640x640 1 parasites, 7.0ms\n",
      "Speed: 3.3ms preprocess, 7.0ms inference, 1.0ms postprocess per image at shape (1, 3, 640, 640)\n",
      "\n",
      "image 1/1 /home/afalcao/doc/cursos/mo434/lectures-notebooks/images/object-detection/parasites/images/val/000689.png: 640x640 1 parasites, 6.9ms\n",
      "Speed: 3.5ms preprocess, 6.9ms inference, 1.1ms postprocess per image at shape (1, 3, 640, 640)\n",
      "\n",
      "image 1/1 /home/afalcao/doc/cursos/mo434/lectures-notebooks/images/object-detection/parasites/images/val/000487.png: 640x640 1 parasites, 7.1ms\n",
      "Speed: 2.7ms preprocess, 7.1ms inference, 1.1ms postprocess per image at shape (1, 3, 640, 640)\n"
     ]
    },
    {
     "name": "stderr",
     "output_type": "stream",
     "text": [
      "Visualizing val set:  82%|████████████████▍   | 200/243 [00:06<00:01, 29.52it/s]"
     ]
    },
    {
     "name": "stdout",
     "output_type": "stream",
     "text": [
      "\n",
      "image 1/1 /home/afalcao/doc/cursos/mo434/lectures-notebooks/images/object-detection/parasites/images/val/000321.png: 640x640 (no detections), 7.2ms\n",
      "Speed: 1.8ms preprocess, 7.2ms inference, 0.6ms postprocess per image at shape (1, 3, 640, 640)\n",
      "\n",
      "image 1/1 /home/afalcao/doc/cursos/mo434/lectures-notebooks/images/object-detection/parasites/images/val/001141.png: 640x640 1 parasites, 6.7ms\n",
      "Speed: 1.7ms preprocess, 6.7ms inference, 1.8ms postprocess per image at shape (1, 3, 640, 640)\n",
      "\n",
      "image 1/1 /home/afalcao/doc/cursos/mo434/lectures-notebooks/images/object-detection/parasites/images/val/000423.png: 640x640 1 parasites, 8.6ms\n",
      "Speed: 2.5ms preprocess, 8.6ms inference, 0.9ms postprocess per image at shape (1, 3, 640, 640)\n"
     ]
    },
    {
     "name": "stderr",
     "output_type": "stream",
     "text": [
      "Visualizing val set:  84%|████████████████▋   | 203/243 [00:06<00:01, 29.62it/s]"
     ]
    },
    {
     "name": "stdout",
     "output_type": "stream",
     "text": [
      "\n",
      "image 1/1 /home/afalcao/doc/cursos/mo434/lectures-notebooks/images/object-detection/parasites/images/val/000326.png: 640x640 1 parasites, 6.7ms\n",
      "Speed: 1.8ms preprocess, 6.7ms inference, 1.2ms postprocess per image at shape (1, 3, 640, 640)\n",
      "\n",
      "image 1/1 /home/afalcao/doc/cursos/mo434/lectures-notebooks/images/object-detection/parasites/images/val/000694.png: 640x640 (no detections), 7.1ms\n",
      "Speed: 1.8ms preprocess, 7.1ms inference, 0.4ms postprocess per image at shape (1, 3, 640, 640)\n",
      "\n",
      "image 1/1 /home/afalcao/doc/cursos/mo434/lectures-notebooks/images/object-detection/parasites/images/val/000870.png: 640x640 (no detections), 9.0ms\n",
      "Speed: 1.8ms preprocess, 9.0ms inference, 0.6ms postprocess per image at shape (1, 3, 640, 640)\n"
     ]
    },
    {
     "name": "stderr",
     "output_type": "stream",
     "text": [
      "Visualizing val set:  85%|████████████████▉   | 206/243 [00:06<00:01, 29.60it/s]"
     ]
    },
    {
     "name": "stdout",
     "output_type": "stream",
     "text": [
      "\n",
      "image 1/1 /home/afalcao/doc/cursos/mo434/lectures-notebooks/images/object-detection/parasites/images/val/000379.png: 640x640 3 parasitess, 6.9ms\n",
      "Speed: 1.8ms preprocess, 6.9ms inference, 1.0ms postprocess per image at shape (1, 3, 640, 640)\n",
      "\n",
      "image 1/1 /home/afalcao/doc/cursos/mo434/lectures-notebooks/images/object-detection/parasites/images/val/000430.png: 640x640 (no detections), 6.8ms\n",
      "Speed: 1.7ms preprocess, 6.8ms inference, 0.4ms postprocess per image at shape (1, 3, 640, 640)\n",
      "\n",
      "image 1/1 /home/afalcao/doc/cursos/mo434/lectures-notebooks/images/object-detection/parasites/images/val/000325.png: 640x640 (no detections), 7.0ms\n",
      "Speed: 1.9ms preprocess, 7.0ms inference, 0.5ms postprocess per image at shape (1, 3, 640, 640)\n"
     ]
    },
    {
     "name": "stderr",
     "output_type": "stream",
     "text": [
      "Visualizing val set:  86%|█████████████████▏  | 209/243 [00:06<00:01, 29.70it/s]"
     ]
    },
    {
     "name": "stdout",
     "output_type": "stream",
     "text": [
      "\n",
      "image 1/1 /home/afalcao/doc/cursos/mo434/lectures-notebooks/images/object-detection/parasites/images/val/000235.png: 640x640 (no detections), 7.8ms\n",
      "Speed: 1.9ms preprocess, 7.8ms inference, 0.7ms postprocess per image at shape (1, 3, 640, 640)\n",
      "\n",
      "image 1/1 /home/afalcao/doc/cursos/mo434/lectures-notebooks/images/object-detection/parasites/images/val/000313.png: 640x640 (no detections), 6.7ms\n",
      "Speed: 1.8ms preprocess, 6.7ms inference, 0.4ms postprocess per image at shape (1, 3, 640, 640)\n",
      "\n",
      "image 1/1 /home/afalcao/doc/cursos/mo434/lectures-notebooks/images/object-detection/parasites/images/val/000854.png: 640x640 (no detections), 7.0ms\n",
      "Speed: 2.0ms preprocess, 7.0ms inference, 0.8ms postprocess per image at shape (1, 3, 640, 640)\n",
      "\n",
      "image 1/1 /home/afalcao/doc/cursos/mo434/lectures-notebooks/images/object-detection/parasites/images/val/000560.png: 640x640 (no detections), 6.9ms\n",
      "Speed: 1.8ms preprocess, 6.9ms inference, 0.4ms postprocess per image at shape (1, 3, 640, 640)\n"
     ]
    },
    {
     "name": "stderr",
     "output_type": "stream",
     "text": [
      "Visualizing val set:  88%|█████████████████▌  | 213/243 [00:07<00:00, 30.22it/s]"
     ]
    },
    {
     "name": "stdout",
     "output_type": "stream",
     "text": [
      "\n",
      "image 1/1 /home/afalcao/doc/cursos/mo434/lectures-notebooks/images/object-detection/parasites/images/val/000879.png: 640x640 1 parasites, 6.7ms\n",
      "Speed: 2.0ms preprocess, 6.7ms inference, 0.9ms postprocess per image at shape (1, 3, 640, 640)\n",
      "\n",
      "image 1/1 /home/afalcao/doc/cursos/mo434/lectures-notebooks/images/object-detection/parasites/images/val/000584.png: 640x640 (no detections), 7.6ms\n",
      "Speed: 2.9ms preprocess, 7.6ms inference, 0.4ms postprocess per image at shape (1, 3, 640, 640)\n",
      "\n",
      "image 1/1 /home/afalcao/doc/cursos/mo434/lectures-notebooks/images/object-detection/parasites/images/val/000728.png: 640x640 (no detections), 6.6ms\n",
      "Speed: 2.2ms preprocess, 6.6ms inference, 0.4ms postprocess per image at shape (1, 3, 640, 640)\n",
      "\n",
      "image 1/1 /home/afalcao/doc/cursos/mo434/lectures-notebooks/images/object-detection/parasites/images/val/001099.png: 640x640 1 parasites, 9.7ms\n",
      "Speed: 2.4ms preprocess, 9.7ms inference, 1.1ms postprocess per image at shape (1, 3, 640, 640)\n"
     ]
    },
    {
     "name": "stderr",
     "output_type": "stream",
     "text": [
      "Visualizing val set:  89%|█████████████████▊  | 217/243 [00:07<00:00, 30.47it/s]"
     ]
    },
    {
     "name": "stdout",
     "output_type": "stream",
     "text": [
      "\n",
      "image 1/1 /home/afalcao/doc/cursos/mo434/lectures-notebooks/images/object-detection/parasites/images/val/000812.png: 640x640 (no detections), 6.8ms\n",
      "Speed: 3.2ms preprocess, 6.8ms inference, 0.6ms postprocess per image at shape (1, 3, 640, 640)\n",
      "\n",
      "image 1/1 /home/afalcao/doc/cursos/mo434/lectures-notebooks/images/object-detection/parasites/images/val/000119.png: 640x640 2 parasitess, 6.9ms\n",
      "Speed: 3.4ms preprocess, 6.9ms inference, 0.9ms postprocess per image at shape (1, 3, 640, 640)\n",
      "\n",
      "image 1/1 /home/afalcao/doc/cursos/mo434/lectures-notebooks/images/object-detection/parasites/images/val/000204.png: 640x640 1 parasites, 7.5ms\n",
      "Speed: 2.1ms preprocess, 7.5ms inference, 0.9ms postprocess per image at shape (1, 3, 640, 640)\n",
      "\n",
      "image 1/1 /home/afalcao/doc/cursos/mo434/lectures-notebooks/images/object-detection/parasites/images/val/000893.png: 640x640 1 parasites, 8.2ms\n",
      "Speed: 2.0ms preprocess, 8.2ms inference, 1.0ms postprocess per image at shape (1, 3, 640, 640)\n"
     ]
    },
    {
     "name": "stderr",
     "output_type": "stream",
     "text": [
      "Visualizing val set:  91%|██████████████████▏ | 221/243 [00:07<00:00, 30.71it/s]"
     ]
    },
    {
     "name": "stdout",
     "output_type": "stream",
     "text": [
      "\n",
      "image 1/1 /home/afalcao/doc/cursos/mo434/lectures-notebooks/images/object-detection/parasites/images/val/000601.png: 640x640 1 parasites, 8.1ms\n",
      "Speed: 2.3ms preprocess, 8.1ms inference, 1.0ms postprocess per image at shape (1, 3, 640, 640)\n",
      "\n",
      "image 1/1 /home/afalcao/doc/cursos/mo434/lectures-notebooks/images/object-detection/parasites/images/val/000836.png: 640x640 (no detections), 8.1ms\n",
      "Speed: 2.3ms preprocess, 8.1ms inference, 0.5ms postprocess per image at shape (1, 3, 640, 640)\n",
      "\n",
      "image 1/1 /home/afalcao/doc/cursos/mo434/lectures-notebooks/images/object-detection/parasites/images/val/000743.png: 640x640 1 parasites, 8.1ms\n",
      "Speed: 2.1ms preprocess, 8.1ms inference, 1.0ms postprocess per image at shape (1, 3, 640, 640)\n",
      "\n",
      "image 1/1 /home/afalcao/doc/cursos/mo434/lectures-notebooks/images/object-detection/parasites/images/val/000540.png: 640x640 (no detections), 8.2ms\n",
      "Speed: 2.3ms preprocess, 8.2ms inference, 0.4ms postprocess per image at shape (1, 3, 640, 640)\n"
     ]
    },
    {
     "name": "stderr",
     "output_type": "stream",
     "text": [
      "Visualizing val set:  93%|██████████████████▌ | 225/243 [00:07<00:00, 30.53it/s]"
     ]
    },
    {
     "name": "stdout",
     "output_type": "stream",
     "text": [
      "\n",
      "image 1/1 /home/afalcao/doc/cursos/mo434/lectures-notebooks/images/object-detection/parasites/images/val/000323.png: 640x640 (no detections), 8.0ms\n",
      "Speed: 2.5ms preprocess, 8.0ms inference, 0.5ms postprocess per image at shape (1, 3, 640, 640)\n",
      "\n",
      "image 1/1 /home/afalcao/doc/cursos/mo434/lectures-notebooks/images/object-detection/parasites/images/val/001073.png: 640x640 1 parasites, 8.2ms\n",
      "Speed: 2.2ms preprocess, 8.2ms inference, 1.0ms postprocess per image at shape (1, 3, 640, 640)\n",
      "\n",
      "image 1/1 /home/afalcao/doc/cursos/mo434/lectures-notebooks/images/object-detection/parasites/images/val/001213.png: 640x640 (no detections), 8.0ms\n",
      "Speed: 2.1ms preprocess, 8.0ms inference, 0.5ms postprocess per image at shape (1, 3, 640, 640)\n",
      "\n",
      "image 1/1 /home/afalcao/doc/cursos/mo434/lectures-notebooks/images/object-detection/parasites/images/val/000402.png: 640x640 (no detections), 7.9ms\n",
      "Speed: 2.0ms preprocess, 7.9ms inference, 0.6ms postprocess per image at shape (1, 3, 640, 640)\n"
     ]
    },
    {
     "name": "stderr",
     "output_type": "stream",
     "text": [
      "Visualizing val set:  94%|██████████████████▊ | 229/243 [00:07<00:00, 30.48it/s]"
     ]
    },
    {
     "name": "stdout",
     "output_type": "stream",
     "text": [
      "\n",
      "image 1/1 /home/afalcao/doc/cursos/mo434/lectures-notebooks/images/object-detection/parasites/images/val/000091.png: 640x640 1 parasites, 7.5ms\n",
      "Speed: 2.1ms preprocess, 7.5ms inference, 1.4ms postprocess per image at shape (1, 3, 640, 640)\n",
      "\n",
      "image 1/1 /home/afalcao/doc/cursos/mo434/lectures-notebooks/images/object-detection/parasites/images/val/001194.png: 640x640 1 parasites, 9.7ms\n",
      "Speed: 2.0ms preprocess, 9.7ms inference, 1.5ms postprocess per image at shape (1, 3, 640, 640)\n",
      "\n",
      "image 1/1 /home/afalcao/doc/cursos/mo434/lectures-notebooks/images/object-detection/parasites/images/val/001063.png: 640x640 1 parasites, 7.0ms\n",
      "Speed: 2.4ms preprocess, 7.0ms inference, 1.1ms postprocess per image at shape (1, 3, 640, 640)\n",
      "\n",
      "image 1/1 /home/afalcao/doc/cursos/mo434/lectures-notebooks/images/object-detection/parasites/images/val/000346.png: 640x640 1 parasites, 6.7ms\n",
      "Speed: 2.6ms preprocess, 6.7ms inference, 1.7ms postprocess per image at shape (1, 3, 640, 640)\n"
     ]
    },
    {
     "name": "stderr",
     "output_type": "stream",
     "text": [
      "Visualizing val set:  96%|███████████████████▏| 233/243 [00:07<00:00, 29.30it/s]"
     ]
    },
    {
     "name": "stdout",
     "output_type": "stream",
     "text": [
      "\n",
      "image 1/1 /home/afalcao/doc/cursos/mo434/lectures-notebooks/images/object-detection/parasites/images/val/001016.png: 640x640 (no detections), 6.8ms\n",
      "Speed: 1.8ms preprocess, 6.8ms inference, 0.5ms postprocess per image at shape (1, 3, 640, 640)\n",
      "\n",
      "image 1/1 /home/afalcao/doc/cursos/mo434/lectures-notebooks/images/object-detection/parasites/images/val/000208.png: 640x640 1 parasites, 9.9ms\n",
      "Speed: 1.8ms preprocess, 9.9ms inference, 1.2ms postprocess per image at shape (1, 3, 640, 640)\n",
      "\n",
      "image 1/1 /home/afalcao/doc/cursos/mo434/lectures-notebooks/images/object-detection/parasites/images/val/000674.png: 640x640 (no detections), 8.7ms\n",
      "Speed: 1.8ms preprocess, 8.7ms inference, 0.5ms postprocess per image at shape (1, 3, 640, 640)\n"
     ]
    },
    {
     "name": "stderr",
     "output_type": "stream",
     "text": [
      "Visualizing val set:  97%|███████████████████▍| 236/243 [00:07<00:00, 28.96it/s]"
     ]
    },
    {
     "name": "stdout",
     "output_type": "stream",
     "text": [
      "\n",
      "image 1/1 /home/afalcao/doc/cursos/mo434/lectures-notebooks/images/object-detection/parasites/images/val/000372.png: 640x640 2 parasitess, 7.1ms\n",
      "Speed: 2.5ms preprocess, 7.1ms inference, 1.1ms postprocess per image at shape (1, 3, 640, 640)\n",
      "\n",
      "image 1/1 /home/afalcao/doc/cursos/mo434/lectures-notebooks/images/object-detection/parasites/images/val/000563.png: 640x640 1 parasites, 7.1ms\n",
      "Speed: 2.0ms preprocess, 7.1ms inference, 1.0ms postprocess per image at shape (1, 3, 640, 640)\n",
      "\n",
      "image 1/1 /home/afalcao/doc/cursos/mo434/lectures-notebooks/images/object-detection/parasites/images/val/000473.png: 640x640 1 parasites, 7.7ms\n",
      "Speed: 2.0ms preprocess, 7.7ms inference, 1.0ms postprocess per image at shape (1, 3, 640, 640)\n"
     ]
    },
    {
     "name": "stderr",
     "output_type": "stream",
     "text": [
      "Visualizing val set:  98%|███████████████████▋| 239/243 [00:07<00:00, 29.03it/s]"
     ]
    },
    {
     "name": "stdout",
     "output_type": "stream",
     "text": [
      "\n",
      "image 1/1 /home/afalcao/doc/cursos/mo434/lectures-notebooks/images/object-detection/parasites/images/val/000809.png: 640x640 1 parasites, 7.1ms\n",
      "Speed: 2.2ms preprocess, 7.1ms inference, 1.0ms postprocess per image at shape (1, 3, 640, 640)\n",
      "\n",
      "image 1/1 /home/afalcao/doc/cursos/mo434/lectures-notebooks/images/object-detection/parasites/images/val/000383.png: 640x640 1 parasites, 7.2ms\n",
      "Speed: 2.1ms preprocess, 7.2ms inference, 1.1ms postprocess per image at shape (1, 3, 640, 640)\n",
      "\n",
      "image 1/1 /home/afalcao/doc/cursos/mo434/lectures-notebooks/images/object-detection/parasites/images/val/000072.png: 640x640 1 parasites, 8.7ms\n",
      "Speed: 2.1ms preprocess, 8.7ms inference, 1.2ms postprocess per image at shape (1, 3, 640, 640)\n"
     ]
    },
    {
     "name": "stderr",
     "output_type": "stream",
     "text": [
      "Visualizing val set: 100%|███████████████████▉| 242/243 [00:08<00:00, 29.27it/s]"
     ]
    },
    {
     "name": "stdout",
     "output_type": "stream",
     "text": [
      "\n",
      "image 1/1 /home/afalcao/doc/cursos/mo434/lectures-notebooks/images/object-detection/parasites/images/val/000439.png: 640x640 1 parasites, 7.1ms\n",
      "Speed: 2.3ms preprocess, 7.1ms inference, 1.1ms postprocess per image at shape (1, 3, 640, 640)\n"
     ]
    },
    {
     "name": "stderr",
     "output_type": "stream",
     "text": [
      "Visualizing val set: 100%|████████████████████| 243/243 [00:08<00:00, 30.06it/s]"
     ]
    },
    {
     "name": "stdout",
     "output_type": "stream",
     "text": [
      "Processing test set...\n"
     ]
    },
    {
     "name": "stderr",
     "output_type": "stream",
     "text": [
      "\n",
      "Visualizing test set:   0%|                             | 0/245 [00:00<?, ?it/s]"
     ]
    },
    {
     "name": "stdout",
     "output_type": "stream",
     "text": [
      "\n",
      "image 1/1 /home/afalcao/doc/cursos/mo434/lectures-notebooks/images/object-detection/parasites/images/test/000558.png: 640x640 (no detections), 8.3ms\n",
      "Speed: 1.9ms preprocess, 8.3ms inference, 0.5ms postprocess per image at shape (1, 3, 640, 640)\n",
      "\n",
      "image 1/1 /home/afalcao/doc/cursos/mo434/lectures-notebooks/images/object-detection/parasites/images/test/000347.png: 640x640 (no detections), 7.4ms\n",
      "Speed: 2.5ms preprocess, 7.4ms inference, 0.8ms postprocess per image at shape (1, 3, 640, 640)\n",
      "\n",
      "image 1/1 /home/afalcao/doc/cursos/mo434/lectures-notebooks/images/object-detection/parasites/images/test/001122.png: 640x640 1 parasites, 7.4ms\n",
      "Speed: 2.5ms preprocess, 7.4ms inference, 1.8ms postprocess per image at shape (1, 3, 640, 640)\n"
     ]
    },
    {
     "name": "stderr",
     "output_type": "stream",
     "text": [
      "Visualizing test set:   1%|▎                    | 3/245 [00:00<00:08, 29.25it/s]"
     ]
    },
    {
     "name": "stdout",
     "output_type": "stream",
     "text": [
      "\n",
      "image 1/1 /home/afalcao/doc/cursos/mo434/lectures-notebooks/images/object-detection/parasites/images/test/001030.png: 640x640 (no detections), 8.3ms\n",
      "Speed: 3.1ms preprocess, 8.3ms inference, 0.8ms postprocess per image at shape (1, 3, 640, 640)\n",
      "\n",
      "image 1/1 /home/afalcao/doc/cursos/mo434/lectures-notebooks/images/object-detection/parasites/images/test/000658.png: 640x640 1 parasites, 7.8ms\n",
      "Speed: 2.4ms preprocess, 7.8ms inference, 1.7ms postprocess per image at shape (1, 3, 640, 640)\n",
      "\n",
      "image 1/1 /home/afalcao/doc/cursos/mo434/lectures-notebooks/images/object-detection/parasites/images/test/001173.png: 640x640 1 parasites, 9.7ms\n",
      "Speed: 2.2ms preprocess, 9.7ms inference, 1.5ms postprocess per image at shape (1, 3, 640, 640)\n"
     ]
    },
    {
     "name": "stderr",
     "output_type": "stream",
     "text": [
      "Visualizing test set:   2%|▌                    | 6/245 [00:00<00:08, 29.39it/s]"
     ]
    },
    {
     "name": "stdout",
     "output_type": "stream",
     "text": [
      "\n",
      "image 1/1 /home/afalcao/doc/cursos/mo434/lectures-notebooks/images/object-detection/parasites/images/test/000734.png: 640x640 (no detections), 7.1ms\n",
      "Speed: 2.6ms preprocess, 7.1ms inference, 0.5ms postprocess per image at shape (1, 3, 640, 640)\n",
      "\n",
      "image 1/1 /home/afalcao/doc/cursos/mo434/lectures-notebooks/images/object-detection/parasites/images/test/000288.png: 640x640 1 parasites, 7.5ms\n",
      "Speed: 2.9ms preprocess, 7.5ms inference, 1.7ms postprocess per image at shape (1, 3, 640, 640)\n",
      "\n",
      "image 1/1 /home/afalcao/doc/cursos/mo434/lectures-notebooks/images/object-detection/parasites/images/test/001212.png: 640x640 1 parasites, 7.6ms\n",
      "Speed: 3.0ms preprocess, 7.6ms inference, 1.2ms postprocess per image at shape (1, 3, 640, 640)\n",
      "\n",
      "image 1/1 /home/afalcao/doc/cursos/mo434/lectures-notebooks/images/object-detection/parasites/images/test/001150.png: 640x640 (no detections), 7.6ms\n",
      "Speed: 3.0ms preprocess, 7.6ms inference, 0.7ms postprocess per image at shape (1, 3, 640, 640)\n"
     ]
    },
    {
     "name": "stderr",
     "output_type": "stream",
     "text": [
      "Visualizing test set:   4%|▊                   | 10/245 [00:00<00:07, 29.92it/s]"
     ]
    },
    {
     "name": "stdout",
     "output_type": "stream",
     "text": [
      "\n",
      "image 1/1 /home/afalcao/doc/cursos/mo434/lectures-notebooks/images/object-detection/parasites/images/test/000031.png: 640x640 1 parasites, 7.4ms\n",
      "Speed: 2.7ms preprocess, 7.4ms inference, 1.8ms postprocess per image at shape (1, 3, 640, 640)\n",
      "\n",
      "image 1/1 /home/afalcao/doc/cursos/mo434/lectures-notebooks/images/object-detection/parasites/images/test/000216.png: 640x640 1 parasites, 7.5ms\n",
      "Speed: 3.0ms preprocess, 7.5ms inference, 1.3ms postprocess per image at shape (1, 3, 640, 640)\n",
      "\n",
      "image 1/1 /home/afalcao/doc/cursos/mo434/lectures-notebooks/images/object-detection/parasites/images/test/000650.png: 640x640 (no detections), 9.8ms\n",
      "Speed: 3.2ms preprocess, 9.8ms inference, 0.4ms postprocess per image at shape (1, 3, 640, 640)\n"
     ]
    },
    {
     "name": "stderr",
     "output_type": "stream",
     "text": [
      "Visualizing test set:   5%|█                   | 13/245 [00:00<00:07, 29.32it/s]"
     ]
    },
    {
     "name": "stdout",
     "output_type": "stream",
     "text": [
      "\n",
      "image 1/1 /home/afalcao/doc/cursos/mo434/lectures-notebooks/images/object-detection/parasites/images/test/000172.png: 640x640 1 parasites, 7.8ms\n",
      "Speed: 2.0ms preprocess, 7.8ms inference, 1.0ms postprocess per image at shape (1, 3, 640, 640)\n",
      "\n",
      "image 1/1 /home/afalcao/doc/cursos/mo434/lectures-notebooks/images/object-detection/parasites/images/test/001219.png: 640x640 1 parasites, 7.3ms\n",
      "Speed: 3.5ms preprocess, 7.3ms inference, 0.9ms postprocess per image at shape (1, 3, 640, 640)\n",
      "\n",
      "image 1/1 /home/afalcao/doc/cursos/mo434/lectures-notebooks/images/object-detection/parasites/images/test/000198.png: 640x640 2 parasitess, 7.5ms\n",
      "Speed: 2.9ms preprocess, 7.5ms inference, 0.9ms postprocess per image at shape (1, 3, 640, 640)\n"
     ]
    },
    {
     "name": "stderr",
     "output_type": "stream",
     "text": [
      "Visualizing test set:   7%|█▎                  | 16/245 [00:00<00:07, 29.24it/s]"
     ]
    },
    {
     "name": "stdout",
     "output_type": "stream",
     "text": [
      "\n",
      "image 1/1 /home/afalcao/doc/cursos/mo434/lectures-notebooks/images/object-detection/parasites/images/test/001074.png: 640x640 1 parasites, 7.3ms\n",
      "Speed: 4.4ms preprocess, 7.3ms inference, 1.0ms postprocess per image at shape (1, 3, 640, 640)\n",
      "\n",
      "image 1/1 /home/afalcao/doc/cursos/mo434/lectures-notebooks/images/object-detection/parasites/images/test/000051.png: 640x640 (no detections), 6.8ms\n",
      "Speed: 3.1ms preprocess, 6.8ms inference, 0.4ms postprocess per image at shape (1, 3, 640, 640)\n",
      "\n",
      "image 1/1 /home/afalcao/doc/cursos/mo434/lectures-notebooks/images/object-detection/parasites/images/test/000391.png: 640x640 1 parasites, 7.4ms\n",
      "Speed: 3.2ms preprocess, 7.4ms inference, 1.2ms postprocess per image at shape (1, 3, 640, 640)\n"
     ]
    },
    {
     "name": "stderr",
     "output_type": "stream",
     "text": [
      "Visualizing test set:   8%|█▌                  | 19/245 [00:00<00:07, 29.24it/s]"
     ]
    },
    {
     "name": "stdout",
     "output_type": "stream",
     "text": [
      "\n",
      "image 1/1 /home/afalcao/doc/cursos/mo434/lectures-notebooks/images/object-detection/parasites/images/test/000093.png: 640x640 (no detections), 6.8ms\n",
      "Speed: 3.1ms preprocess, 6.8ms inference, 0.4ms postprocess per image at shape (1, 3, 640, 640)\n",
      "\n",
      "image 1/1 /home/afalcao/doc/cursos/mo434/lectures-notebooks/images/object-detection/parasites/images/test/000935.png: 640x640 1 parasites, 7.6ms\n",
      "Speed: 2.7ms preprocess, 7.6ms inference, 1.0ms postprocess per image at shape (1, 3, 640, 640)\n",
      "\n",
      "image 1/1 /home/afalcao/doc/cursos/mo434/lectures-notebooks/images/object-detection/parasites/images/test/000917.png: 640x640 2 parasitess, 7.5ms\n",
      "Speed: 2.6ms preprocess, 7.5ms inference, 1.2ms postprocess per image at shape (1, 3, 640, 640)\n",
      "\n",
      "image 1/1 /home/afalcao/doc/cursos/mo434/lectures-notebooks/images/object-detection/parasites/images/test/000151.png: 640x640 1 parasites, 7.0ms\n",
      "Speed: 2.3ms preprocess, 7.0ms inference, 1.2ms postprocess per image at shape (1, 3, 640, 640)\n"
     ]
    },
    {
     "name": "stderr",
     "output_type": "stream",
     "text": [
      "Visualizing test set:   9%|█▉                  | 23/245 [00:00<00:07, 29.66it/s]"
     ]
    },
    {
     "name": "stdout",
     "output_type": "stream",
     "text": [
      "\n",
      "image 1/1 /home/afalcao/doc/cursos/mo434/lectures-notebooks/images/object-detection/parasites/images/test/000663.png: 640x640 1 parasites, 7.5ms\n",
      "Speed: 2.7ms preprocess, 7.5ms inference, 1.2ms postprocess per image at shape (1, 3, 640, 640)\n",
      "\n",
      "image 1/1 /home/afalcao/doc/cursos/mo434/lectures-notebooks/images/object-detection/parasites/images/test/001204.png: 640x640 1 parasites, 6.6ms\n",
      "Speed: 2.7ms preprocess, 6.6ms inference, 1.3ms postprocess per image at shape (1, 3, 640, 640)\n",
      "\n",
      "image 1/1 /home/afalcao/doc/cursos/mo434/lectures-notebooks/images/object-detection/parasites/images/test/001163.png: 640x640 1 parasites, 7.0ms\n",
      "Speed: 2.3ms preprocess, 7.0ms inference, 1.0ms postprocess per image at shape (1, 3, 640, 640)\n"
     ]
    },
    {
     "name": "stderr",
     "output_type": "stream",
     "text": [
      "Visualizing test set:  11%|██                  | 26/245 [00:00<00:07, 29.45it/s]"
     ]
    },
    {
     "name": "stdout",
     "output_type": "stream",
     "text": [
      "\n",
      "image 1/1 /home/afalcao/doc/cursos/mo434/lectures-notebooks/images/object-detection/parasites/images/test/000116.png: 640x640 (no detections), 7.2ms\n",
      "Speed: 1.9ms preprocess, 7.2ms inference, 0.4ms postprocess per image at shape (1, 3, 640, 640)\n",
      "\n",
      "image 1/1 /home/afalcao/doc/cursos/mo434/lectures-notebooks/images/object-detection/parasites/images/test/000850.png: 640x640 (no detections), 6.8ms\n",
      "Speed: 2.0ms preprocess, 6.8ms inference, 0.9ms postprocess per image at shape (1, 3, 640, 640)\n",
      "\n",
      "image 1/1 /home/afalcao/doc/cursos/mo434/lectures-notebooks/images/object-detection/parasites/images/test/001020.png: 640x640 (no detections), 6.7ms\n",
      "Speed: 2.3ms preprocess, 6.7ms inference, 0.4ms postprocess per image at shape (1, 3, 640, 640)\n"
     ]
    },
    {
     "name": "stderr",
     "output_type": "stream",
     "text": [
      "Visualizing test set:  12%|██▎                 | 29/245 [00:00<00:07, 29.54it/s]"
     ]
    },
    {
     "name": "stdout",
     "output_type": "stream",
     "text": [
      "\n",
      "image 1/1 /home/afalcao/doc/cursos/mo434/lectures-notebooks/images/object-detection/parasites/images/test/000407.png: 640x640 1 parasites, 6.7ms\n",
      "Speed: 2.4ms preprocess, 6.7ms inference, 1.0ms postprocess per image at shape (1, 3, 640, 640)\n",
      "\n",
      "image 1/1 /home/afalcao/doc/cursos/mo434/lectures-notebooks/images/object-detection/parasites/images/test/000351.png: 640x640 (no detections), 8.9ms\n",
      "Speed: 2.6ms preprocess, 8.9ms inference, 0.9ms postprocess per image at shape (1, 3, 640, 640)\n",
      "\n",
      "image 1/1 /home/afalcao/doc/cursos/mo434/lectures-notebooks/images/object-detection/parasites/images/test/000490.png: 640x640 (no detections), 6.9ms\n",
      "Speed: 2.0ms preprocess, 6.9ms inference, 0.5ms postprocess per image at shape (1, 3, 640, 640)\n"
     ]
    },
    {
     "name": "stderr",
     "output_type": "stream",
     "text": [
      "Visualizing test set:  13%|██▌                 | 32/245 [00:01<00:07, 29.40it/s]"
     ]
    },
    {
     "name": "stdout",
     "output_type": "stream",
     "text": [
      "\n",
      "image 1/1 /home/afalcao/doc/cursos/mo434/lectures-notebooks/images/object-detection/parasites/images/test/000052.png: 640x640 1 parasites, 7.6ms\n",
      "Speed: 1.8ms preprocess, 7.6ms inference, 0.9ms postprocess per image at shape (1, 3, 640, 640)\n",
      "\n",
      "image 1/1 /home/afalcao/doc/cursos/mo434/lectures-notebooks/images/object-detection/parasites/images/test/000448.png: 640x640 (no detections), 6.8ms\n",
      "Speed: 1.8ms preprocess, 6.8ms inference, 0.5ms postprocess per image at shape (1, 3, 640, 640)\n",
      "\n",
      "image 1/1 /home/afalcao/doc/cursos/mo434/lectures-notebooks/images/object-detection/parasites/images/test/001078.png: 640x640 (no detections), 6.6ms\n",
      "Speed: 1.7ms preprocess, 6.6ms inference, 0.4ms postprocess per image at shape (1, 3, 640, 640)\n",
      "\n",
      "image 1/1 /home/afalcao/doc/cursos/mo434/lectures-notebooks/images/object-detection/parasites/images/test/000507.png: 640x640 1 parasites, 6.5ms\n",
      "Speed: 1.8ms preprocess, 6.5ms inference, 2.1ms postprocess per image at shape (1, 3, 640, 640)\n"
     ]
    },
    {
     "name": "stderr",
     "output_type": "stream",
     "text": [
      "Visualizing test set:  15%|██▉                 | 36/245 [00:01<00:07, 29.49it/s]"
     ]
    },
    {
     "name": "stdout",
     "output_type": "stream",
     "text": [
      "\n",
      "image 1/1 /home/afalcao/doc/cursos/mo434/lectures-notebooks/images/object-detection/parasites/images/test/000126.png: 640x640 1 parasites, 6.8ms\n",
      "Speed: 1.8ms preprocess, 6.8ms inference, 1.0ms postprocess per image at shape (1, 3, 640, 640)\n",
      "\n",
      "image 1/1 /home/afalcao/doc/cursos/mo434/lectures-notebooks/images/object-detection/parasites/images/test/000394.png: 640x640 1 parasites, 6.8ms\n",
      "Speed: 1.7ms preprocess, 6.8ms inference, 1.0ms postprocess per image at shape (1, 3, 640, 640)\n",
      "\n",
      "image 1/1 /home/afalcao/doc/cursos/mo434/lectures-notebooks/images/object-detection/parasites/images/test/000077.png: 640x640 (no detections), 6.8ms\n",
      "Speed: 1.7ms preprocess, 6.8ms inference, 0.5ms postprocess per image at shape (1, 3, 640, 640)\n"
     ]
    },
    {
     "name": "stderr",
     "output_type": "stream",
     "text": [
      "Visualizing test set:  16%|███▏                | 39/245 [00:01<00:06, 29.47it/s]"
     ]
    },
    {
     "name": "stdout",
     "output_type": "stream",
     "text": [
      "\n",
      "image 1/1 /home/afalcao/doc/cursos/mo434/lectures-notebooks/images/object-detection/parasites/images/test/000655.png: 640x640 1 parasites, 8.1ms\n",
      "Speed: 1.7ms preprocess, 8.1ms inference, 0.9ms postprocess per image at shape (1, 3, 640, 640)\n",
      "\n",
      "image 1/1 /home/afalcao/doc/cursos/mo434/lectures-notebooks/images/object-detection/parasites/images/test/000060.png: 640x640 3 parasitess, 8.8ms\n",
      "Speed: 1.7ms preprocess, 8.8ms inference, 1.0ms postprocess per image at shape (1, 3, 640, 640)\n",
      "\n",
      "image 1/1 /home/afalcao/doc/cursos/mo434/lectures-notebooks/images/object-detection/parasites/images/test/000823.png: 640x640 1 parasites, 10.1ms\n",
      "Speed: 3.0ms preprocess, 10.1ms inference, 1.6ms postprocess per image at shape (1, 3, 640, 640)\n"
     ]
    },
    {
     "name": "stderr",
     "output_type": "stream",
     "text": [
      "Visualizing test set:  17%|███▍                | 42/245 [00:01<00:07, 28.89it/s]"
     ]
    },
    {
     "name": "stdout",
     "output_type": "stream",
     "text": [
      "\n",
      "image 1/1 /home/afalcao/doc/cursos/mo434/lectures-notebooks/images/object-detection/parasites/images/test/000561.png: 640x640 2 parasitess, 8.6ms\n",
      "Speed: 2.7ms preprocess, 8.6ms inference, 1.2ms postprocess per image at shape (1, 3, 640, 640)\n",
      "\n",
      "image 1/1 /home/afalcao/doc/cursos/mo434/lectures-notebooks/images/object-detection/parasites/images/test/000475.png: 640x640 1 parasites, 8.7ms\n",
      "Speed: 2.9ms preprocess, 8.7ms inference, 1.2ms postprocess per image at shape (1, 3, 640, 640)\n",
      "\n",
      "image 1/1 /home/afalcao/doc/cursos/mo434/lectures-notebooks/images/object-detection/parasites/images/test/000105.png: 640x640 1 parasites, 8.3ms\n",
      "Speed: 3.1ms preprocess, 8.3ms inference, 1.1ms postprocess per image at shape (1, 3, 640, 640)\n"
     ]
    },
    {
     "name": "stderr",
     "output_type": "stream",
     "text": [
      "Visualizing test set:  18%|███▋                | 45/245 [00:01<00:06, 28.64it/s]"
     ]
    },
    {
     "name": "stdout",
     "output_type": "stream",
     "text": [
      "\n",
      "image 1/1 /home/afalcao/doc/cursos/mo434/lectures-notebooks/images/object-detection/parasites/images/test/000849.png: 640x640 1 parasites, 8.6ms\n",
      "Speed: 2.2ms preprocess, 8.6ms inference, 1.2ms postprocess per image at shape (1, 3, 640, 640)\n",
      "\n",
      "image 1/1 /home/afalcao/doc/cursos/mo434/lectures-notebooks/images/object-detection/parasites/images/test/000378.png: 640x640 (no detections), 8.7ms\n",
      "Speed: 2.1ms preprocess, 8.7ms inference, 0.6ms postprocess per image at shape (1, 3, 640, 640)\n",
      "\n",
      "image 1/1 /home/afalcao/doc/cursos/mo434/lectures-notebooks/images/object-detection/parasites/images/test/000764.png: 640x640 (no detections), 8.9ms\n",
      "Speed: 2.1ms preprocess, 8.9ms inference, 0.7ms postprocess per image at shape (1, 3, 640, 640)\n"
     ]
    },
    {
     "name": "stderr",
     "output_type": "stream",
     "text": [
      "Visualizing test set:  20%|███▉                | 48/245 [00:01<00:06, 28.98it/s]"
     ]
    },
    {
     "name": "stdout",
     "output_type": "stream",
     "text": [
      "\n",
      "image 1/1 /home/afalcao/doc/cursos/mo434/lectures-notebooks/images/object-detection/parasites/images/test/001106.png: 640x640 1 parasites, 8.2ms\n",
      "Speed: 2.0ms preprocess, 8.2ms inference, 1.0ms postprocess per image at shape (1, 3, 640, 640)\n",
      "\n",
      "image 1/1 /home/afalcao/doc/cursos/mo434/lectures-notebooks/images/object-detection/parasites/images/test/000450.png: 640x640 (no detections), 8.6ms\n",
      "Speed: 1.8ms preprocess, 8.6ms inference, 0.7ms postprocess per image at shape (1, 3, 640, 640)\n",
      "\n",
      "image 1/1 /home/afalcao/doc/cursos/mo434/lectures-notebooks/images/object-detection/parasites/images/test/000858.png: 640x640 1 parasites, 9.5ms\n",
      "Speed: 1.8ms preprocess, 9.5ms inference, 1.3ms postprocess per image at shape (1, 3, 640, 640)\n"
     ]
    },
    {
     "name": "stderr",
     "output_type": "stream",
     "text": [
      "Visualizing test set:  21%|████▏               | 51/245 [00:01<00:06, 29.01it/s]"
     ]
    },
    {
     "name": "stdout",
     "output_type": "stream",
     "text": [
      "\n",
      "image 1/1 /home/afalcao/doc/cursos/mo434/lectures-notebooks/images/object-detection/parasites/images/test/000500.png: 640x640 (no detections), 8.7ms\n",
      "Speed: 1.9ms preprocess, 8.7ms inference, 0.6ms postprocess per image at shape (1, 3, 640, 640)\n",
      "\n",
      "image 1/1 /home/afalcao/doc/cursos/mo434/lectures-notebooks/images/object-detection/parasites/images/test/000844.png: 640x640 (no detections), 8.5ms\n",
      "Speed: 1.8ms preprocess, 8.5ms inference, 0.6ms postprocess per image at shape (1, 3, 640, 640)\n",
      "\n",
      "image 1/1 /home/afalcao/doc/cursos/mo434/lectures-notebooks/images/object-detection/parasites/images/test/000756.png: 640x640 (no detections), 8.2ms\n",
      "Speed: 2.1ms preprocess, 8.2ms inference, 0.8ms postprocess per image at shape (1, 3, 640, 640)\n",
      "\n",
      "image 1/1 /home/afalcao/doc/cursos/mo434/lectures-notebooks/images/object-detection/parasites/images/test/000243.png: 640x640 (no detections), 8.8ms\n",
      "Speed: 3.1ms preprocess, 8.8ms inference, 0.4ms postprocess per image at shape (1, 3, 640, 640)\n"
     ]
    },
    {
     "name": "stderr",
     "output_type": "stream",
     "text": [
      "Visualizing test set:  22%|████▍               | 55/245 [00:01<00:06, 29.16it/s]"
     ]
    },
    {
     "name": "stdout",
     "output_type": "stream",
     "text": [
      "\n",
      "image 1/1 /home/afalcao/doc/cursos/mo434/lectures-notebooks/images/object-detection/parasites/images/test/000207.png: 640x640 (no detections), 8.5ms\n",
      "Speed: 3.5ms preprocess, 8.5ms inference, 0.4ms postprocess per image at shape (1, 3, 640, 640)\n",
      "\n",
      "image 1/1 /home/afalcao/doc/cursos/mo434/lectures-notebooks/images/object-detection/parasites/images/test/000098.png: 640x640 1 parasites, 8.0ms\n",
      "Speed: 3.1ms preprocess, 8.0ms inference, 1.1ms postprocess per image at shape (1, 3, 640, 640)\n",
      "\n",
      "image 1/1 /home/afalcao/doc/cursos/mo434/lectures-notebooks/images/object-detection/parasites/images/test/000142.png: 640x640 1 parasites, 8.4ms\n",
      "Speed: 3.4ms preprocess, 8.4ms inference, 0.9ms postprocess per image at shape (1, 3, 640, 640)\n"
     ]
    },
    {
     "name": "stderr",
     "output_type": "stream",
     "text": [
      "Visualizing test set:  24%|████▋               | 58/245 [00:01<00:06, 28.89it/s]"
     ]
    },
    {
     "name": "stdout",
     "output_type": "stream",
     "text": [
      "\n",
      "image 1/1 /home/afalcao/doc/cursos/mo434/lectures-notebooks/images/object-detection/parasites/images/test/000733.png: 640x640 1 parasites, 6.6ms\n",
      "Speed: 2.3ms preprocess, 6.6ms inference, 1.3ms postprocess per image at shape (1, 3, 640, 640)\n",
      "\n",
      "image 1/1 /home/afalcao/doc/cursos/mo434/lectures-notebooks/images/object-detection/parasites/images/test/000897.png: 640x640 1 parasites, 7.5ms\n",
      "Speed: 1.8ms preprocess, 7.5ms inference, 1.4ms postprocess per image at shape (1, 3, 640, 640)\n",
      "\n",
      "image 1/1 /home/afalcao/doc/cursos/mo434/lectures-notebooks/images/object-detection/parasites/images/test/000625.png: 640x640 1 parasites, 8.7ms\n",
      "Speed: 1.7ms preprocess, 8.7ms inference, 0.9ms postprocess per image at shape (1, 3, 640, 640)\n"
     ]
    },
    {
     "name": "stderr",
     "output_type": "stream",
     "text": [
      "Visualizing test set:  25%|████▉               | 61/245 [00:02<00:06, 28.37it/s]"
     ]
    },
    {
     "name": "stdout",
     "output_type": "stream",
     "text": [
      "\n",
      "image 1/1 /home/afalcao/doc/cursos/mo434/lectures-notebooks/images/object-detection/parasites/images/test/000972.png: 640x640 1 parasites, 8.6ms\n",
      "Speed: 2.2ms preprocess, 8.6ms inference, 1.8ms postprocess per image at shape (1, 3, 640, 640)\n",
      "\n",
      "image 1/1 /home/afalcao/doc/cursos/mo434/lectures-notebooks/images/object-detection/parasites/images/test/000587.png: 640x640 (no detections), 6.8ms\n",
      "Speed: 2.2ms preprocess, 6.8ms inference, 0.5ms postprocess per image at shape (1, 3, 640, 640)\n",
      "\n",
      "image 1/1 /home/afalcao/doc/cursos/mo434/lectures-notebooks/images/object-detection/parasites/images/test/000855.png: 640x640 1 parasites, 7.2ms\n",
      "Speed: 1.8ms preprocess, 7.2ms inference, 1.0ms postprocess per image at shape (1, 3, 640, 640)\n",
      "\n",
      "image 1/1 /home/afalcao/doc/cursos/mo434/lectures-notebooks/images/object-detection/parasites/images/test/000894.png: 640x640 (no detections), 7.7ms\n",
      "Speed: 2.0ms preprocess, 7.7ms inference, 0.5ms postprocess per image at shape (1, 3, 640, 640)\n"
     ]
    },
    {
     "name": "stderr",
     "output_type": "stream",
     "text": [
      "Visualizing test set:  27%|█████▎              | 65/245 [00:02<00:06, 28.96it/s]"
     ]
    },
    {
     "name": "stdout",
     "output_type": "stream",
     "text": [
      "\n",
      "image 1/1 /home/afalcao/doc/cursos/mo434/lectures-notebooks/images/object-detection/parasites/images/test/001000.png: 640x640 (no detections), 8.6ms\n",
      "Speed: 1.9ms preprocess, 8.6ms inference, 0.5ms postprocess per image at shape (1, 3, 640, 640)\n",
      "\n",
      "image 1/1 /home/afalcao/doc/cursos/mo434/lectures-notebooks/images/object-detection/parasites/images/test/000760.png: 640x640 (no detections), 7.7ms\n",
      "Speed: 2.7ms preprocess, 7.7ms inference, 0.5ms postprocess per image at shape (1, 3, 640, 640)\n",
      "\n",
      "image 1/1 /home/afalcao/doc/cursos/mo434/lectures-notebooks/images/object-detection/parasites/images/test/000750.png: 640x640 (no detections), 7.3ms\n",
      "Speed: 2.5ms preprocess, 7.3ms inference, 0.7ms postprocess per image at shape (1, 3, 640, 640)\n"
     ]
    },
    {
     "name": "stderr",
     "output_type": "stream",
     "text": [
      "Visualizing test set:  28%|█████▌              | 68/245 [00:02<00:06, 28.97it/s]"
     ]
    },
    {
     "name": "stdout",
     "output_type": "stream",
     "text": [
      "\n",
      "image 1/1 /home/afalcao/doc/cursos/mo434/lectures-notebooks/images/object-detection/parasites/images/test/000776.png: 640x640 1 parasites, 9.3ms\n",
      "Speed: 3.0ms preprocess, 9.3ms inference, 1.5ms postprocess per image at shape (1, 3, 640, 640)\n",
      "\n",
      "image 1/1 /home/afalcao/doc/cursos/mo434/lectures-notebooks/images/object-detection/parasites/images/test/000165.png: 640x640 (no detections), 10.9ms\n",
      "Speed: 2.4ms preprocess, 10.9ms inference, 0.5ms postprocess per image at shape (1, 3, 640, 640)\n",
      "\n",
      "image 1/1 /home/afalcao/doc/cursos/mo434/lectures-notebooks/images/object-detection/parasites/images/test/000905.png: 640x640 1 parasites, 9.1ms\n",
      "Speed: 2.2ms preprocess, 9.1ms inference, 1.3ms postprocess per image at shape (1, 3, 640, 640)\n"
     ]
    },
    {
     "name": "stderr",
     "output_type": "stream",
     "text": [
      "Visualizing test set:  29%|█████▊              | 71/245 [00:02<00:06, 26.79it/s]"
     ]
    },
    {
     "name": "stdout",
     "output_type": "stream",
     "text": [
      "\n",
      "image 1/1 /home/afalcao/doc/cursos/mo434/lectures-notebooks/images/object-detection/parasites/images/test/001042.png: 640x640 (no detections), 10.0ms\n",
      "Speed: 2.4ms preprocess, 10.0ms inference, 1.0ms postprocess per image at shape (1, 3, 640, 640)\n",
      "\n",
      "image 1/1 /home/afalcao/doc/cursos/mo434/lectures-notebooks/images/object-detection/parasites/images/test/000548.png: 640x640 (no detections), 9.2ms\n",
      "Speed: 1.9ms preprocess, 9.2ms inference, 0.6ms postprocess per image at shape (1, 3, 640, 640)\n",
      "\n",
      "image 1/1 /home/afalcao/doc/cursos/mo434/lectures-notebooks/images/object-detection/parasites/images/test/000274.png: 640x640 1 parasites, 8.4ms\n",
      "Speed: 2.5ms preprocess, 8.4ms inference, 1.2ms postprocess per image at shape (1, 3, 640, 640)\n"
     ]
    },
    {
     "name": "stderr",
     "output_type": "stream",
     "text": [
      "Visualizing test set:  30%|██████              | 74/245 [00:02<00:06, 26.77it/s]"
     ]
    },
    {
     "name": "stdout",
     "output_type": "stream",
     "text": [
      "\n",
      "image 1/1 /home/afalcao/doc/cursos/mo434/lectures-notebooks/images/object-detection/parasites/images/test/001149.png: 640x640 1 parasites, 8.2ms\n",
      "Speed: 2.0ms preprocess, 8.2ms inference, 1.2ms postprocess per image at shape (1, 3, 640, 640)\n",
      "\n",
      "image 1/1 /home/afalcao/doc/cursos/mo434/lectures-notebooks/images/object-detection/parasites/images/test/000082.png: 640x640 (no detections), 8.5ms\n",
      "Speed: 2.0ms preprocess, 8.5ms inference, 0.4ms postprocess per image at shape (1, 3, 640, 640)\n",
      "\n",
      "image 1/1 /home/afalcao/doc/cursos/mo434/lectures-notebooks/images/object-detection/parasites/images/test/000994.png: 640x640 (no detections), 9.2ms\n",
      "Speed: 2.0ms preprocess, 9.2ms inference, 0.5ms postprocess per image at shape (1, 3, 640, 640)\n",
      "\n",
      "image 1/1 /home/afalcao/doc/cursos/mo434/lectures-notebooks/images/object-detection/parasites/images/test/000499.png: 640x640 1 parasites, 9.1ms\n",
      "Speed: 2.2ms preprocess, 9.1ms inference, 0.9ms postprocess per image at shape (1, 3, 640, 640)\n"
     ]
    },
    {
     "name": "stderr",
     "output_type": "stream",
     "text": [
      "Visualizing test set:  32%|██████▎             | 78/245 [00:02<00:06, 27.67it/s]"
     ]
    },
    {
     "name": "stdout",
     "output_type": "stream",
     "text": [
      "\n",
      "image 1/1 /home/afalcao/doc/cursos/mo434/lectures-notebooks/images/object-detection/parasites/images/test/000714.png: 640x640 (no detections), 7.8ms\n",
      "Speed: 3.1ms preprocess, 7.8ms inference, 0.5ms postprocess per image at shape (1, 3, 640, 640)\n",
      "\n",
      "image 1/1 /home/afalcao/doc/cursos/mo434/lectures-notebooks/images/object-detection/parasites/images/test/000513.png: 640x640 1 parasites, 8.1ms\n",
      "Speed: 3.4ms preprocess, 8.1ms inference, 0.9ms postprocess per image at shape (1, 3, 640, 640)\n",
      "\n",
      "image 1/1 /home/afalcao/doc/cursos/mo434/lectures-notebooks/images/object-detection/parasites/images/test/000382.png: 640x640 2 parasitess, 6.9ms\n",
      "Speed: 2.8ms preprocess, 6.9ms inference, 1.1ms postprocess per image at shape (1, 3, 640, 640)\n"
     ]
    },
    {
     "name": "stderr",
     "output_type": "stream",
     "text": [
      "Visualizing test set:  33%|██████▌             | 81/245 [00:02<00:05, 28.07it/s]"
     ]
    },
    {
     "name": "stdout",
     "output_type": "stream",
     "text": [
      "\n",
      "image 1/1 /home/afalcao/doc/cursos/mo434/lectures-notebooks/images/object-detection/parasites/images/test/001006.png: 640x640 (no detections), 6.8ms\n",
      "Speed: 3.6ms preprocess, 6.8ms inference, 0.4ms postprocess per image at shape (1, 3, 640, 640)\n",
      "\n",
      "image 1/1 /home/afalcao/doc/cursos/mo434/lectures-notebooks/images/object-detection/parasites/images/test/000289.png: 640x640 1 parasites, 6.9ms\n",
      "Speed: 2.2ms preprocess, 6.9ms inference, 0.9ms postprocess per image at shape (1, 3, 640, 640)\n",
      "\n",
      "image 1/1 /home/afalcao/doc/cursos/mo434/lectures-notebooks/images/object-detection/parasites/images/test/000721.png: 640x640 (no detections), 7.0ms\n",
      "Speed: 2.1ms preprocess, 7.0ms inference, 0.5ms postprocess per image at shape (1, 3, 640, 640)\n",
      "\n",
      "image 1/1 /home/afalcao/doc/cursos/mo434/lectures-notebooks/images/object-detection/parasites/images/test/000610.png: 640x640 (no detections), 7.0ms\n",
      "Speed: 1.8ms preprocess, 7.0ms inference, 0.5ms postprocess per image at shape (1, 3, 640, 640)\n"
     ]
    },
    {
     "name": "stderr",
     "output_type": "stream",
     "text": [
      "Visualizing test set:  35%|██████▉             | 85/245 [00:02<00:05, 29.25it/s]"
     ]
    },
    {
     "name": "stdout",
     "output_type": "stream",
     "text": [
      "\n",
      "image 1/1 /home/afalcao/doc/cursos/mo434/lectures-notebooks/images/object-detection/parasites/images/test/001001.png: 640x640 1 parasites, 8.2ms\n",
      "Speed: 2.9ms preprocess, 8.2ms inference, 1.2ms postprocess per image at shape (1, 3, 640, 640)\n",
      "\n",
      "image 1/1 /home/afalcao/doc/cursos/mo434/lectures-notebooks/images/object-detection/parasites/images/test/000395.png: 640x640 1 parasites, 8.1ms\n",
      "Speed: 3.2ms preprocess, 8.1ms inference, 1.0ms postprocess per image at shape (1, 3, 640, 640)\n",
      "\n",
      "image 1/1 /home/afalcao/doc/cursos/mo434/lectures-notebooks/images/object-detection/parasites/images/test/001125.png: 640x640 2 parasitess, 7.8ms\n",
      "Speed: 3.9ms preprocess, 7.8ms inference, 0.9ms postprocess per image at shape (1, 3, 640, 640)\n"
     ]
    },
    {
     "name": "stderr",
     "output_type": "stream",
     "text": [
      "Visualizing test set:  36%|███████▏            | 88/245 [00:03<00:05, 29.10it/s]"
     ]
    },
    {
     "name": "stdout",
     "output_type": "stream",
     "text": [
      "\n",
      "image 1/1 /home/afalcao/doc/cursos/mo434/lectures-notebooks/images/object-detection/parasites/images/test/000872.png: 640x640 (no detections), 8.1ms\n",
      "Speed: 2.1ms preprocess, 8.1ms inference, 0.6ms postprocess per image at shape (1, 3, 640, 640)\n",
      "\n",
      "image 1/1 /home/afalcao/doc/cursos/mo434/lectures-notebooks/images/object-detection/parasites/images/test/000299.png: 640x640 (no detections), 7.8ms\n",
      "Speed: 1.9ms preprocess, 7.8ms inference, 0.5ms postprocess per image at shape (1, 3, 640, 640)\n",
      "\n",
      "image 1/1 /home/afalcao/doc/cursos/mo434/lectures-notebooks/images/object-detection/parasites/images/test/000868.png: 640x640 (no detections), 7.8ms\n",
      "Speed: 1.9ms preprocess, 7.8ms inference, 0.4ms postprocess per image at shape (1, 3, 640, 640)\n"
     ]
    },
    {
     "name": "stderr",
     "output_type": "stream",
     "text": [
      "Visualizing test set:  37%|███████▍            | 91/245 [00:03<00:05, 29.33it/s]"
     ]
    },
    {
     "name": "stdout",
     "output_type": "stream",
     "text": [
      "\n",
      "image 1/1 /home/afalcao/doc/cursos/mo434/lectures-notebooks/images/object-detection/parasites/images/test/000094.png: 640x640 1 parasites, 8.6ms\n",
      "Speed: 2.6ms preprocess, 8.6ms inference, 1.3ms postprocess per image at shape (1, 3, 640, 640)\n",
      "\n",
      "image 1/1 /home/afalcao/doc/cursos/mo434/lectures-notebooks/images/object-detection/parasites/images/test/001127.png: 640x640 1 parasites, 6.9ms\n",
      "Speed: 2.9ms preprocess, 6.9ms inference, 1.0ms postprocess per image at shape (1, 3, 640, 640)\n",
      "\n",
      "image 1/1 /home/afalcao/doc/cursos/mo434/lectures-notebooks/images/object-detection/parasites/images/test/000904.png: 640x640 2 parasitess, 6.7ms\n",
      "Speed: 4.4ms preprocess, 6.7ms inference, 1.0ms postprocess per image at shape (1, 3, 640, 640)\n"
     ]
    },
    {
     "name": "stderr",
     "output_type": "stream",
     "text": [
      "Visualizing test set:  38%|███████▋            | 94/245 [00:03<00:05, 28.82it/s]"
     ]
    },
    {
     "name": "stdout",
     "output_type": "stream",
     "text": [
      "\n",
      "image 1/1 /home/afalcao/doc/cursos/mo434/lectures-notebooks/images/object-detection/parasites/images/test/000254.png: 640x640 1 parasites, 7.1ms\n",
      "Speed: 1.8ms preprocess, 7.1ms inference, 1.1ms postprocess per image at shape (1, 3, 640, 640)\n",
      "\n",
      "image 1/1 /home/afalcao/doc/cursos/mo434/lectures-notebooks/images/object-detection/parasites/images/test/000936.png: 640x640 (no detections), 7.5ms\n",
      "Speed: 1.8ms preprocess, 7.5ms inference, 0.5ms postprocess per image at shape (1, 3, 640, 640)\n",
      "\n",
      "image 1/1 /home/afalcao/doc/cursos/mo434/lectures-notebooks/images/object-detection/parasites/images/test/001057.png: 640x640 1 parasites, 6.9ms\n",
      "Speed: 2.1ms preprocess, 6.9ms inference, 2.1ms postprocess per image at shape (1, 3, 640, 640)\n"
     ]
    },
    {
     "name": "stderr",
     "output_type": "stream",
     "text": [
      "Visualizing test set:  40%|███████▉            | 97/245 [00:03<00:05, 29.14it/s]"
     ]
    },
    {
     "name": "stdout",
     "output_type": "stream",
     "text": [
      "\n",
      "image 1/1 /home/afalcao/doc/cursos/mo434/lectures-notebooks/images/object-detection/parasites/images/test/000426.png: 640x640 (no detections), 8.4ms\n",
      "Speed: 1.9ms preprocess, 8.4ms inference, 0.6ms postprocess per image at shape (1, 3, 640, 640)\n",
      "\n",
      "image 1/1 /home/afalcao/doc/cursos/mo434/lectures-notebooks/images/object-detection/parasites/images/test/000737.png: 640x640 1 parasites, 8.8ms\n",
      "Speed: 1.9ms preprocess, 8.8ms inference, 1.3ms postprocess per image at shape (1, 3, 640, 640)\n",
      "\n",
      "image 1/1 /home/afalcao/doc/cursos/mo434/lectures-notebooks/images/object-detection/parasites/images/test/000993.png: 640x640 1 parasites, 9.1ms\n",
      "Speed: 1.7ms preprocess, 9.1ms inference, 1.1ms postprocess per image at shape (1, 3, 640, 640)\n"
     ]
    },
    {
     "name": "stderr",
     "output_type": "stream",
     "text": [
      "Visualizing test set:  41%|███████▊           | 100/245 [00:03<00:05, 28.66it/s]"
     ]
    },
    {
     "name": "stdout",
     "output_type": "stream",
     "text": [
      "\n",
      "image 1/1 /home/afalcao/doc/cursos/mo434/lectures-notebooks/images/object-detection/parasites/images/test/000920.png: 640x640 2 parasitess, 8.3ms\n",
      "Speed: 2.4ms preprocess, 8.3ms inference, 1.0ms postprocess per image at shape (1, 3, 640, 640)\n",
      "\n",
      "image 1/1 /home/afalcao/doc/cursos/mo434/lectures-notebooks/images/object-detection/parasites/images/test/000012.png: 640x640 2 parasitess, 7.3ms\n",
      "Speed: 2.0ms preprocess, 7.3ms inference, 1.0ms postprocess per image at shape (1, 3, 640, 640)\n",
      "\n",
      "image 1/1 /home/afalcao/doc/cursos/mo434/lectures-notebooks/images/object-detection/parasites/images/test/000775.png: 640x640 1 parasites, 8.1ms\n",
      "Speed: 1.9ms preprocess, 8.1ms inference, 1.0ms postprocess per image at shape (1, 3, 640, 640)\n"
     ]
    },
    {
     "name": "stderr",
     "output_type": "stream",
     "text": [
      "Visualizing test set:  42%|███████▉           | 103/245 [00:03<00:04, 28.65it/s]"
     ]
    },
    {
     "name": "stdout",
     "output_type": "stream",
     "text": [
      "\n",
      "image 1/1 /home/afalcao/doc/cursos/mo434/lectures-notebooks/images/object-detection/parasites/images/test/001024.png: 640x640 (no detections), 7.9ms\n",
      "Speed: 2.8ms preprocess, 7.9ms inference, 1.0ms postprocess per image at shape (1, 3, 640, 640)\n",
      "\n",
      "image 1/1 /home/afalcao/doc/cursos/mo434/lectures-notebooks/images/object-detection/parasites/images/test/000461.png: 640x640 1 parasites, 8.0ms\n",
      "Speed: 1.8ms preprocess, 8.0ms inference, 1.1ms postprocess per image at shape (1, 3, 640, 640)\n",
      "\n",
      "image 1/1 /home/afalcao/doc/cursos/mo434/lectures-notebooks/images/object-detection/parasites/images/test/000906.png: 640x640 (no detections), 7.1ms\n",
      "Speed: 2.0ms preprocess, 7.1ms inference, 0.7ms postprocess per image at shape (1, 3, 640, 640)\n"
     ]
    },
    {
     "name": "stderr",
     "output_type": "stream",
     "text": [
      "Visualizing test set:  43%|████████▏          | 106/245 [00:03<00:04, 28.73it/s]"
     ]
    },
    {
     "name": "stdout",
     "output_type": "stream",
     "text": [
      "\n",
      "image 1/1 /home/afalcao/doc/cursos/mo434/lectures-notebooks/images/object-detection/parasites/images/test/000736.png: 640x640 (no detections), 8.3ms\n",
      "Speed: 2.3ms preprocess, 8.3ms inference, 0.5ms postprocess per image at shape (1, 3, 640, 640)\n",
      "\n",
      "image 1/1 /home/afalcao/doc/cursos/mo434/lectures-notebooks/images/object-detection/parasites/images/test/001211.png: 640x640 (no detections), 8.2ms\n",
      "Speed: 2.3ms preprocess, 8.2ms inference, 0.7ms postprocess per image at shape (1, 3, 640, 640)\n",
      "\n",
      "image 1/1 /home/afalcao/doc/cursos/mo434/lectures-notebooks/images/object-detection/parasites/images/test/000914.png: 640x640 1 parasites, 9.7ms\n",
      "Speed: 2.3ms preprocess, 9.7ms inference, 1.4ms postprocess per image at shape (1, 3, 640, 640)\n"
     ]
    },
    {
     "name": "stderr",
     "output_type": "stream",
     "text": [
      "Visualizing test set:  44%|████████▍          | 109/245 [00:03<00:04, 28.28it/s]"
     ]
    },
    {
     "name": "stdout",
     "output_type": "stream",
     "text": [
      "\n",
      "image 1/1 /home/afalcao/doc/cursos/mo434/lectures-notebooks/images/object-detection/parasites/images/test/000401.png: 640x640 1 parasites, 7.5ms\n",
      "Speed: 2.4ms preprocess, 7.5ms inference, 1.1ms postprocess per image at shape (1, 3, 640, 640)\n",
      "\n",
      "image 1/1 /home/afalcao/doc/cursos/mo434/lectures-notebooks/images/object-detection/parasites/images/test/000425.png: 640x640 1 parasites, 7.4ms\n",
      "Speed: 2.1ms preprocess, 7.4ms inference, 2.5ms postprocess per image at shape (1, 3, 640, 640)\n",
      "\n",
      "image 1/1 /home/afalcao/doc/cursos/mo434/lectures-notebooks/images/object-detection/parasites/images/test/001136.png: 640x640 (no detections), 8.7ms\n",
      "Speed: 2.1ms preprocess, 8.7ms inference, 0.5ms postprocess per image at shape (1, 3, 640, 640)\n"
     ]
    },
    {
     "name": "stderr",
     "output_type": "stream",
     "text": [
      "Visualizing test set:  46%|████████▋          | 112/245 [00:03<00:04, 27.84it/s]"
     ]
    },
    {
     "name": "stdout",
     "output_type": "stream",
     "text": [
      "\n",
      "image 1/1 /home/afalcao/doc/cursos/mo434/lectures-notebooks/images/object-detection/parasites/images/test/000695.png: 640x640 1 parasites, 11.7ms\n",
      "Speed: 3.8ms preprocess, 11.7ms inference, 3.1ms postprocess per image at shape (1, 3, 640, 640)\n",
      "\n",
      "image 1/1 /home/afalcao/doc/cursos/mo434/lectures-notebooks/images/object-detection/parasites/images/test/001200.png: 640x640 (no detections), 22.2ms\n",
      "Speed: 5.7ms preprocess, 22.2ms inference, 1.1ms postprocess per image at shape (1, 3, 640, 640)\n",
      "\n",
      "image 1/1 /home/afalcao/doc/cursos/mo434/lectures-notebooks/images/object-detection/parasites/images/test/000840.png: 640x640 (no detections), 24.1ms\n",
      "Speed: 6.0ms preprocess, 24.1ms inference, 1.8ms postprocess per image at shape (1, 3, 640, 640)\n"
     ]
    },
    {
     "name": "stderr",
     "output_type": "stream",
     "text": [
      "Visualizing test set:  47%|████████▉          | 115/245 [00:04<00:06, 19.41it/s]"
     ]
    },
    {
     "name": "stdout",
     "output_type": "stream",
     "text": [
      "\n",
      "image 1/1 /home/afalcao/doc/cursos/mo434/lectures-notebooks/images/object-detection/parasites/images/test/000150.png: 640x640 1 parasites, 23.4ms\n",
      "Speed: 7.1ms preprocess, 23.4ms inference, 4.7ms postprocess per image at shape (1, 3, 640, 640)\n",
      "\n",
      "image 1/1 /home/afalcao/doc/cursos/mo434/lectures-notebooks/images/object-detection/parasites/images/test/000835.png: 640x640 1 parasites, 28.7ms\n",
      "Speed: 6.4ms preprocess, 28.7ms inference, 3.8ms postprocess per image at shape (1, 3, 640, 640)\n",
      "\n",
      "image 1/1 /home/afalcao/doc/cursos/mo434/lectures-notebooks/images/object-detection/parasites/images/test/000033.png: 640x640 1 parasites, 15.7ms\n",
      "Speed: 4.0ms preprocess, 15.7ms inference, 1.9ms postprocess per image at shape (1, 3, 640, 640)\n"
     ]
    },
    {
     "name": "stderr",
     "output_type": "stream",
     "text": [
      "Visualizing test set:  48%|█████████▏         | 118/245 [00:04<00:08, 15.64it/s]"
     ]
    },
    {
     "name": "stdout",
     "output_type": "stream",
     "text": [
      "\n",
      "image 1/1 /home/afalcao/doc/cursos/mo434/lectures-notebooks/images/object-detection/parasites/images/test/000779.png: 640x640 1 parasites, 12.8ms\n",
      "Speed: 2.4ms preprocess, 12.8ms inference, 2.0ms postprocess per image at shape (1, 3, 640, 640)\n",
      "\n",
      "image 1/1 /home/afalcao/doc/cursos/mo434/lectures-notebooks/images/object-detection/parasites/images/test/000817.png: 640x640 1 parasites, 13.0ms\n",
      "Speed: 3.5ms preprocess, 13.0ms inference, 1.9ms postprocess per image at shape (1, 3, 640, 640)\n"
     ]
    },
    {
     "name": "stderr",
     "output_type": "stream",
     "text": [
      "Visualizing test set:  49%|█████████▎         | 120/245 [00:04<00:07, 16.18it/s]"
     ]
    },
    {
     "name": "stdout",
     "output_type": "stream",
     "text": [
      "\n",
      "image 1/1 /home/afalcao/doc/cursos/mo434/lectures-notebooks/images/object-detection/parasites/images/test/000969.png: 640x640 1 parasites, 16.7ms\n",
      "Speed: 4.4ms preprocess, 16.7ms inference, 2.5ms postprocess per image at shape (1, 3, 640, 640)\n",
      "\n",
      "image 1/1 /home/afalcao/doc/cursos/mo434/lectures-notebooks/images/object-detection/parasites/images/test/001217.png: 640x640 (no detections), 15.3ms\n",
      "Speed: 3.1ms preprocess, 15.3ms inference, 1.1ms postprocess per image at shape (1, 3, 640, 640)\n"
     ]
    },
    {
     "name": "stderr",
     "output_type": "stream",
     "text": [
      "Visualizing test set:  50%|█████████▍         | 122/245 [00:04<00:08, 15.14it/s]"
     ]
    },
    {
     "name": "stdout",
     "output_type": "stream",
     "text": [
      "\n",
      "image 1/1 /home/afalcao/doc/cursos/mo434/lectures-notebooks/images/object-detection/parasites/images/test/000717.png: 640x640 1 parasites, 19.1ms\n",
      "Speed: 4.0ms preprocess, 19.1ms inference, 2.5ms postprocess per image at shape (1, 3, 640, 640)\n",
      "\n",
      "image 1/1 /home/afalcao/doc/cursos/mo434/lectures-notebooks/images/object-detection/parasites/images/test/000998.png: 640x640 (no detections), 15.7ms\n",
      "Speed: 3.2ms preprocess, 15.7ms inference, 1.3ms postprocess per image at shape (1, 3, 640, 640)\n"
     ]
    },
    {
     "name": "stderr",
     "output_type": "stream",
     "text": [
      "Visualizing test set:  51%|█████████▌         | 124/245 [00:04<00:07, 15.17it/s]"
     ]
    },
    {
     "name": "stdout",
     "output_type": "stream",
     "text": [
      "\n",
      "image 1/1 /home/afalcao/doc/cursos/mo434/lectures-notebooks/images/object-detection/parasites/images/test/001130.png: 640x640 (no detections), 13.8ms\n",
      "Speed: 2.9ms preprocess, 13.8ms inference, 0.8ms postprocess per image at shape (1, 3, 640, 640)\n",
      "\n",
      "image 1/1 /home/afalcao/doc/cursos/mo434/lectures-notebooks/images/object-detection/parasites/images/test/000370.png: 640x640 (no detections), 16.8ms\n",
      "Speed: 2.9ms preprocess, 16.8ms inference, 0.8ms postprocess per image at shape (1, 3, 640, 640)\n"
     ]
    },
    {
     "name": "stderr",
     "output_type": "stream",
     "text": [
      "Visualizing test set:  51%|█████████▊         | 126/245 [00:04<00:07, 15.29it/s]"
     ]
    },
    {
     "name": "stdout",
     "output_type": "stream",
     "text": [
      "\n",
      "image 1/1 /home/afalcao/doc/cursos/mo434/lectures-notebooks/images/object-detection/parasites/images/test/000887.png: 640x640 1 parasites, 14.3ms\n",
      "Speed: 3.4ms preprocess, 14.3ms inference, 1.7ms postprocess per image at shape (1, 3, 640, 640)\n",
      "\n",
      "image 1/1 /home/afalcao/doc/cursos/mo434/lectures-notebooks/images/object-detection/parasites/images/test/000211.png: 640x640 (no detections), 13.9ms\n",
      "Speed: 4.4ms preprocess, 13.9ms inference, 1.0ms postprocess per image at shape (1, 3, 640, 640)\n"
     ]
    },
    {
     "name": "stderr",
     "output_type": "stream",
     "text": [
      "Visualizing test set:  52%|█████████▉         | 128/245 [00:05<00:07, 15.06it/s]"
     ]
    },
    {
     "name": "stdout",
     "output_type": "stream",
     "text": [
      "\n",
      "image 1/1 /home/afalcao/doc/cursos/mo434/lectures-notebooks/images/object-detection/parasites/images/test/000747.png: 640x640 1 parasites, 21.3ms\n",
      "Speed: 4.9ms preprocess, 21.3ms inference, 3.4ms postprocess per image at shape (1, 3, 640, 640)\n",
      "\n",
      "image 1/1 /home/afalcao/doc/cursos/mo434/lectures-notebooks/images/object-detection/parasites/images/test/001171.png: 640x640 1 parasites, 20.2ms\n",
      "Speed: 3.5ms preprocess, 20.2ms inference, 2.5ms postprocess per image at shape (1, 3, 640, 640)\n"
     ]
    },
    {
     "name": "stderr",
     "output_type": "stream",
     "text": [
      "Visualizing test set:  53%|██████████         | 130/245 [00:05<00:08, 14.36it/s]"
     ]
    },
    {
     "name": "stdout",
     "output_type": "stream",
     "text": [
      "\n",
      "image 1/1 /home/afalcao/doc/cursos/mo434/lectures-notebooks/images/object-detection/parasites/images/test/000566.png: 640x640 1 parasites, 17.4ms\n",
      "Speed: 3.6ms preprocess, 17.4ms inference, 2.2ms postprocess per image at shape (1, 3, 640, 640)\n",
      "\n",
      "image 1/1 /home/afalcao/doc/cursos/mo434/lectures-notebooks/images/object-detection/parasites/images/test/000101.png: 640x640 (no detections), 23.0ms\n",
      "Speed: 5.9ms preprocess, 23.0ms inference, 1.1ms postprocess per image at shape (1, 3, 640, 640)\n"
     ]
    },
    {
     "name": "stderr",
     "output_type": "stream",
     "text": [
      "Visualizing test set:  54%|██████████▏        | 132/245 [00:05<00:08, 13.55it/s]"
     ]
    },
    {
     "name": "stdout",
     "output_type": "stream",
     "text": [
      "\n",
      "image 1/1 /home/afalcao/doc/cursos/mo434/lectures-notebooks/images/object-detection/parasites/images/test/000607.png: 640x640 1 parasites, 17.9ms\n",
      "Speed: 4.3ms preprocess, 17.9ms inference, 2.8ms postprocess per image at shape (1, 3, 640, 640)\n",
      "\n",
      "image 1/1 /home/afalcao/doc/cursos/mo434/lectures-notebooks/images/object-detection/parasites/images/test/000631.png: 640x640 (no detections), 23.2ms\n",
      "Speed: 5.4ms preprocess, 23.2ms inference, 1.1ms postprocess per image at shape (1, 3, 640, 640)\n"
     ]
    },
    {
     "name": "stderr",
     "output_type": "stream",
     "text": [
      "Visualizing test set:  55%|██████████▍        | 134/245 [00:05<00:08, 12.89it/s]"
     ]
    },
    {
     "name": "stdout",
     "output_type": "stream",
     "text": [
      "\n",
      "image 1/1 /home/afalcao/doc/cursos/mo434/lectures-notebooks/images/object-detection/parasites/images/test/000634.png: 640x640 (no detections), 17.9ms\n",
      "Speed: 4.6ms preprocess, 17.9ms inference, 1.5ms postprocess per image at shape (1, 3, 640, 640)\n",
      "\n",
      "image 1/1 /home/afalcao/doc/cursos/mo434/lectures-notebooks/images/object-detection/parasites/images/test/000553.png: 640x640 1 parasites, 18.3ms\n",
      "Speed: 3.9ms preprocess, 18.3ms inference, 2.2ms postprocess per image at shape (1, 3, 640, 640)\n"
     ]
    },
    {
     "name": "stderr",
     "output_type": "stream",
     "text": [
      "Visualizing test set:  56%|██████████▌        | 136/245 [00:05<00:08, 13.00it/s]"
     ]
    },
    {
     "name": "stdout",
     "output_type": "stream",
     "text": [
      "\n",
      "image 1/1 /home/afalcao/doc/cursos/mo434/lectures-notebooks/images/object-detection/parasites/images/test/001038.png: 640x640 (no detections), 17.4ms\n",
      "Speed: 4.0ms preprocess, 17.4ms inference, 1.7ms postprocess per image at shape (1, 3, 640, 640)\n",
      "\n",
      "image 1/1 /home/afalcao/doc/cursos/mo434/lectures-notebooks/images/object-detection/parasites/images/test/000530.png: 640x640 (no detections), 17.0ms\n",
      "Speed: 3.6ms preprocess, 17.0ms inference, 0.9ms postprocess per image at shape (1, 3, 640, 640)\n"
     ]
    },
    {
     "name": "stderr",
     "output_type": "stream",
     "text": [
      "Visualizing test set:  56%|██████████▋        | 138/245 [00:05<00:08, 13.25it/s]"
     ]
    },
    {
     "name": "stdout",
     "output_type": "stream",
     "text": [
      "\n",
      "image 1/1 /home/afalcao/doc/cursos/mo434/lectures-notebooks/images/object-detection/parasites/images/test/001198.png: 640x640 1 parasites, 13.0ms\n",
      "Speed: 3.1ms preprocess, 13.0ms inference, 1.8ms postprocess per image at shape (1, 3, 640, 640)\n",
      "\n",
      "image 1/1 /home/afalcao/doc/cursos/mo434/lectures-notebooks/images/object-detection/parasites/images/test/000002.png: 640x640 1 parasites, 13.2ms\n",
      "Speed: 3.2ms preprocess, 13.2ms inference, 1.4ms postprocess per image at shape (1, 3, 640, 640)\n"
     ]
    },
    {
     "name": "stderr",
     "output_type": "stream",
     "text": [
      "Visualizing test set:  57%|██████████▊        | 140/245 [00:06<00:07, 14.48it/s]"
     ]
    },
    {
     "name": "stdout",
     "output_type": "stream",
     "text": [
      "\n",
      "image 1/1 /home/afalcao/doc/cursos/mo434/lectures-notebooks/images/object-detection/parasites/images/test/000275.png: 640x640 (no detections), 10.6ms\n",
      "Speed: 2.5ms preprocess, 10.6ms inference, 0.6ms postprocess per image at shape (1, 3, 640, 640)\n",
      "\n",
      "image 1/1 /home/afalcao/doc/cursos/mo434/lectures-notebooks/images/object-detection/parasites/images/test/000161.png: 640x640 (no detections), 13.6ms\n",
      "Speed: 2.7ms preprocess, 13.6ms inference, 0.6ms postprocess per image at shape (1, 3, 640, 640)\n"
     ]
    },
    {
     "name": "stderr",
     "output_type": "stream",
     "text": [
      "Visualizing test set:  58%|███████████        | 142/245 [00:06<00:06, 15.66it/s]"
     ]
    },
    {
     "name": "stdout",
     "output_type": "stream",
     "text": [
      "\n",
      "image 1/1 /home/afalcao/doc/cursos/mo434/lectures-notebooks/images/object-detection/parasites/images/test/000654.png: 640x640 (no detections), 10.5ms\n",
      "Speed: 2.6ms preprocess, 10.5ms inference, 0.6ms postprocess per image at shape (1, 3, 640, 640)\n",
      "\n",
      "image 1/1 /home/afalcao/doc/cursos/mo434/lectures-notebooks/images/object-detection/parasites/images/test/000620.png: 640x640 (no detections), 12.2ms\n",
      "Speed: 2.8ms preprocess, 12.2ms inference, 0.6ms postprocess per image at shape (1, 3, 640, 640)\n"
     ]
    },
    {
     "name": "stderr",
     "output_type": "stream",
     "text": [
      "Visualizing test set:  59%|███████████▏       | 144/245 [00:06<00:06, 16.71it/s]"
     ]
    },
    {
     "name": "stdout",
     "output_type": "stream",
     "text": [
      "\n",
      "image 1/1 /home/afalcao/doc/cursos/mo434/lectures-notebooks/images/object-detection/parasites/images/test/000712.png: 640x640 (no detections), 10.9ms\n",
      "Speed: 2.5ms preprocess, 10.9ms inference, 1.0ms postprocess per image at shape (1, 3, 640, 640)\n",
      "\n",
      "image 1/1 /home/afalcao/doc/cursos/mo434/lectures-notebooks/images/object-detection/parasites/images/test/000415.png: 640x640 (no detections), 11.4ms\n",
      "Speed: 3.8ms preprocess, 11.4ms inference, 0.7ms postprocess per image at shape (1, 3, 640, 640)\n"
     ]
    },
    {
     "name": "stderr",
     "output_type": "stream",
     "text": [
      "Visualizing test set:  60%|███████████▎       | 146/245 [00:06<00:05, 17.30it/s]"
     ]
    },
    {
     "name": "stdout",
     "output_type": "stream",
     "text": [
      "\n",
      "image 1/1 /home/afalcao/doc/cursos/mo434/lectures-notebooks/images/object-detection/parasites/images/test/000357.png: 640x640 (no detections), 15.0ms\n",
      "Speed: 3.3ms preprocess, 15.0ms inference, 1.1ms postprocess per image at shape (1, 3, 640, 640)\n",
      "\n",
      "image 1/1 /home/afalcao/doc/cursos/mo434/lectures-notebooks/images/object-detection/parasites/images/test/000411.png: 640x640 1 parasites, 13.0ms\n",
      "Speed: 2.9ms preprocess, 13.0ms inference, 2.2ms postprocess per image at shape (1, 3, 640, 640)\n"
     ]
    },
    {
     "name": "stderr",
     "output_type": "stream",
     "text": [
      "Visualizing test set:  60%|███████████▍       | 148/245 [00:06<00:05, 17.39it/s]"
     ]
    },
    {
     "name": "stdout",
     "output_type": "stream",
     "text": [
      "\n",
      "image 1/1 /home/afalcao/doc/cursos/mo434/lectures-notebooks/images/object-detection/parasites/images/test/000492.png: 640x640 (no detections), 13.5ms\n",
      "Speed: 4.2ms preprocess, 13.5ms inference, 0.6ms postprocess per image at shape (1, 3, 640, 640)\n",
      "\n",
      "image 1/1 /home/afalcao/doc/cursos/mo434/lectures-notebooks/images/object-detection/parasites/images/test/000298.png: 640x640 (no detections), 11.4ms\n",
      "Speed: 3.6ms preprocess, 11.4ms inference, 0.9ms postprocess per image at shape (1, 3, 640, 640)\n"
     ]
    },
    {
     "name": "stderr",
     "output_type": "stream",
     "text": [
      "Visualizing test set:  61%|███████████▋       | 150/245 [00:06<00:05, 17.78it/s]"
     ]
    },
    {
     "name": "stdout",
     "output_type": "stream",
     "text": [
      "\n",
      "image 1/1 /home/afalcao/doc/cursos/mo434/lectures-notebooks/images/object-detection/parasites/images/test/000296.png: 640x640 (no detections), 11.5ms\n",
      "Speed: 2.6ms preprocess, 11.5ms inference, 0.7ms postprocess per image at shape (1, 3, 640, 640)\n",
      "\n",
      "image 1/1 /home/afalcao/doc/cursos/mo434/lectures-notebooks/images/object-detection/parasites/images/test/000141.png: 640x640 (no detections), 13.4ms\n",
      "Speed: 2.5ms preprocess, 13.4ms inference, 0.6ms postprocess per image at shape (1, 3, 640, 640)\n"
     ]
    },
    {
     "name": "stderr",
     "output_type": "stream",
     "text": [
      "Visualizing test set:  62%|███████████▊       | 152/245 [00:06<00:05, 17.79it/s]"
     ]
    },
    {
     "name": "stdout",
     "output_type": "stream",
     "text": [
      "\n",
      "image 1/1 /home/afalcao/doc/cursos/mo434/lectures-notebooks/images/object-detection/parasites/images/test/001056.png: 640x640 (no detections), 14.7ms\n",
      "Speed: 4.0ms preprocess, 14.7ms inference, 0.8ms postprocess per image at shape (1, 3, 640, 640)\n",
      "\n",
      "image 1/1 /home/afalcao/doc/cursos/mo434/lectures-notebooks/images/object-detection/parasites/images/test/000417.png: 640x640 1 parasites, 11.9ms\n",
      "Speed: 2.4ms preprocess, 11.9ms inference, 1.5ms postprocess per image at shape (1, 3, 640, 640)\n"
     ]
    },
    {
     "name": "stderr",
     "output_type": "stream",
     "text": [
      "Visualizing test set:  63%|███████████▉       | 154/245 [00:06<00:05, 17.88it/s]"
     ]
    },
    {
     "name": "stdout",
     "output_type": "stream",
     "text": [
      "\n",
      "image 1/1 /home/afalcao/doc/cursos/mo434/lectures-notebooks/images/object-detection/parasites/images/test/000744.png: 640x640 (no detections), 16.4ms\n",
      "Speed: 4.4ms preprocess, 16.4ms inference, 1.1ms postprocess per image at shape (1, 3, 640, 640)\n",
      "\n",
      "image 1/1 /home/afalcao/doc/cursos/mo434/lectures-notebooks/images/object-detection/parasites/images/test/001201.png: 640x640 1 parasites, 13.9ms\n",
      "Speed: 3.0ms preprocess, 13.9ms inference, 1.7ms postprocess per image at shape (1, 3, 640, 640)\n"
     ]
    },
    {
     "name": "stderr",
     "output_type": "stream",
     "text": [
      "Visualizing test set:  64%|████████████       | 156/245 [00:06<00:05, 17.32it/s]"
     ]
    },
    {
     "name": "stdout",
     "output_type": "stream",
     "text": [
      "\n",
      "image 1/1 /home/afalcao/doc/cursos/mo434/lectures-notebooks/images/object-detection/parasites/images/test/000902.png: 640x640 (no detections), 13.8ms\n",
      "Speed: 3.4ms preprocess, 13.8ms inference, 0.7ms postprocess per image at shape (1, 3, 640, 640)\n",
      "\n",
      "image 1/1 /home/afalcao/doc/cursos/mo434/lectures-notebooks/images/object-detection/parasites/images/test/000429.png: 640x640 1 parasites, 17.0ms\n",
      "Speed: 4.5ms preprocess, 17.0ms inference, 1.8ms postprocess per image at shape (1, 3, 640, 640)\n"
     ]
    },
    {
     "name": "stderr",
     "output_type": "stream",
     "text": [
      "Visualizing test set:  64%|████████████▎      | 158/245 [00:07<00:05, 17.04it/s]"
     ]
    },
    {
     "name": "stdout",
     "output_type": "stream",
     "text": [
      "\n",
      "image 1/1 /home/afalcao/doc/cursos/mo434/lectures-notebooks/images/object-detection/parasites/images/test/000996.png: 640x640 (no detections), 15.3ms\n",
      "Speed: 3.0ms preprocess, 15.3ms inference, 0.7ms postprocess per image at shape (1, 3, 640, 640)\n",
      "\n",
      "image 1/1 /home/afalcao/doc/cursos/mo434/lectures-notebooks/images/object-detection/parasites/images/test/000842.png: 640x640 (no detections), 13.7ms\n",
      "Speed: 3.4ms preprocess, 13.7ms inference, 0.9ms postprocess per image at shape (1, 3, 640, 640)\n"
     ]
    },
    {
     "name": "stderr",
     "output_type": "stream",
     "text": [
      "Visualizing test set:  65%|████████████▍      | 160/245 [00:07<00:04, 17.12it/s]"
     ]
    },
    {
     "name": "stdout",
     "output_type": "stream",
     "text": [
      "\n",
      "image 1/1 /home/afalcao/doc/cursos/mo434/lectures-notebooks/images/object-detection/parasites/images/test/000877.png: 640x640 2 parasitess, 16.7ms\n",
      "Speed: 3.3ms preprocess, 16.7ms inference, 1.8ms postprocess per image at shape (1, 3, 640, 640)\n",
      "\n",
      "image 1/1 /home/afalcao/doc/cursos/mo434/lectures-notebooks/images/object-detection/parasites/images/test/000821.png: 640x640 2 parasitess, 12.9ms\n",
      "Speed: 3.1ms preprocess, 12.9ms inference, 1.9ms postprocess per image at shape (1, 3, 640, 640)\n"
     ]
    },
    {
     "name": "stderr",
     "output_type": "stream",
     "text": [
      "Visualizing test set:  66%|████████████▌      | 162/245 [00:07<00:04, 16.79it/s]"
     ]
    },
    {
     "name": "stdout",
     "output_type": "stream",
     "text": [
      "\n",
      "image 1/1 /home/afalcao/doc/cursos/mo434/lectures-notebooks/images/object-detection/parasites/images/test/000697.png: 640x640 1 parasites, 14.8ms\n",
      "Speed: 2.8ms preprocess, 14.8ms inference, 2.3ms postprocess per image at shape (1, 3, 640, 640)\n",
      "\n",
      "image 1/1 /home/afalcao/doc/cursos/mo434/lectures-notebooks/images/object-detection/parasites/images/test/001051.png: 640x640 1 parasites, 13.1ms\n",
      "Speed: 3.4ms preprocess, 13.1ms inference, 2.2ms postprocess per image at shape (1, 3, 640, 640)\n"
     ]
    },
    {
     "name": "stderr",
     "output_type": "stream",
     "text": [
      "Visualizing test set:  67%|████████████▋      | 164/245 [00:07<00:04, 16.61it/s]"
     ]
    },
    {
     "name": "stdout",
     "output_type": "stream",
     "text": [
      "\n",
      "image 1/1 /home/afalcao/doc/cursos/mo434/lectures-notebooks/images/object-detection/parasites/images/test/000988.png: 640x640 (no detections), 13.9ms\n",
      "Speed: 3.8ms preprocess, 13.9ms inference, 1.1ms postprocess per image at shape (1, 3, 640, 640)\n",
      "\n",
      "image 1/1 /home/afalcao/doc/cursos/mo434/lectures-notebooks/images/object-detection/parasites/images/test/000162.png: 640x640 1 parasites, 14.3ms\n",
      "Speed: 3.1ms preprocess, 14.3ms inference, 2.5ms postprocess per image at shape (1, 3, 640, 640)\n"
     ]
    },
    {
     "name": "stderr",
     "output_type": "stream",
     "text": [
      "Visualizing test set:  68%|████████████▊      | 166/245 [00:07<00:04, 16.49it/s]"
     ]
    },
    {
     "name": "stdout",
     "output_type": "stream",
     "text": [
      "\n",
      "image 1/1 /home/afalcao/doc/cursos/mo434/lectures-notebooks/images/object-detection/parasites/images/test/000699.png: 640x640 1 parasites, 12.9ms\n",
      "Speed: 2.9ms preprocess, 12.9ms inference, 1.7ms postprocess per image at shape (1, 3, 640, 640)\n",
      "\n",
      "image 1/1 /home/afalcao/doc/cursos/mo434/lectures-notebooks/images/object-detection/parasites/images/test/000600.png: 640x640 (no detections), 13.8ms\n",
      "Speed: 3.0ms preprocess, 13.8ms inference, 1.0ms postprocess per image at shape (1, 3, 640, 640)\n"
     ]
    },
    {
     "name": "stderr",
     "output_type": "stream",
     "text": [
      "Visualizing test set:  69%|█████████████      | 168/245 [00:07<00:04, 16.65it/s]"
     ]
    },
    {
     "name": "stdout",
     "output_type": "stream",
     "text": [
      "\n",
      "image 1/1 /home/afalcao/doc/cursos/mo434/lectures-notebooks/images/object-detection/parasites/images/test/001161.png: 640x640 1 parasites, 12.4ms\n",
      "Speed: 3.0ms preprocess, 12.4ms inference, 1.6ms postprocess per image at shape (1, 3, 640, 640)\n",
      "\n",
      "image 1/1 /home/afalcao/doc/cursos/mo434/lectures-notebooks/images/object-detection/parasites/images/test/000822.png: 640x640 4 parasitess, 13.3ms\n",
      "Speed: 3.4ms preprocess, 13.3ms inference, 2.9ms postprocess per image at shape (1, 3, 640, 640)\n"
     ]
    },
    {
     "name": "stderr",
     "output_type": "stream",
     "text": [
      "Visualizing test set:  69%|█████████████▏     | 170/245 [00:07<00:04, 16.63it/s]"
     ]
    },
    {
     "name": "stdout",
     "output_type": "stream",
     "text": [
      "\n",
      "image 1/1 /home/afalcao/doc/cursos/mo434/lectures-notebooks/images/object-detection/parasites/images/test/000078.png: 640x640 1 parasites, 12.5ms\n",
      "Speed: 2.8ms preprocess, 12.5ms inference, 1.9ms postprocess per image at shape (1, 3, 640, 640)\n",
      "\n",
      "image 1/1 /home/afalcao/doc/cursos/mo434/lectures-notebooks/images/object-detection/parasites/images/test/000314.png: 640x640 1 parasites, 16.2ms\n",
      "Speed: 4.8ms preprocess, 16.2ms inference, 1.7ms postprocess per image at shape (1, 3, 640, 640)\n"
     ]
    },
    {
     "name": "stderr",
     "output_type": "stream",
     "text": [
      "Visualizing test set:  70%|█████████████▎     | 172/245 [00:07<00:04, 16.50it/s]"
     ]
    },
    {
     "name": "stdout",
     "output_type": "stream",
     "text": [
      "\n",
      "image 1/1 /home/afalcao/doc/cursos/mo434/lectures-notebooks/images/object-detection/parasites/images/test/000170.png: 640x640 1 parasites, 15.0ms\n",
      "Speed: 3.2ms preprocess, 15.0ms inference, 2.1ms postprocess per image at shape (1, 3, 640, 640)\n",
      "\n",
      "image 1/1 /home/afalcao/doc/cursos/mo434/lectures-notebooks/images/object-detection/parasites/images/test/000149.png: 640x640 (no detections), 16.6ms\n",
      "Speed: 4.0ms preprocess, 16.6ms inference, 1.0ms postprocess per image at shape (1, 3, 640, 640)\n"
     ]
    },
    {
     "name": "stderr",
     "output_type": "stream",
     "text": [
      "Visualizing test set:  71%|█████████████▍     | 174/245 [00:07<00:04, 16.44it/s]"
     ]
    },
    {
     "name": "stdout",
     "output_type": "stream",
     "text": [
      "\n",
      "image 1/1 /home/afalcao/doc/cursos/mo434/lectures-notebooks/images/object-detection/parasites/images/test/000974.png: 640x640 (no detections), 14.8ms\n",
      "Speed: 4.3ms preprocess, 14.8ms inference, 0.8ms postprocess per image at shape (1, 3, 640, 640)\n",
      "\n",
      "image 1/1 /home/afalcao/doc/cursos/mo434/lectures-notebooks/images/object-detection/parasites/images/test/000188.png: 640x640 1 parasites, 13.2ms\n",
      "Speed: 2.7ms preprocess, 13.2ms inference, 1.6ms postprocess per image at shape (1, 3, 640, 640)\n"
     ]
    },
    {
     "name": "stderr",
     "output_type": "stream",
     "text": [
      "Visualizing test set:  72%|█████████████▋     | 176/245 [00:08<00:04, 16.61it/s]"
     ]
    },
    {
     "name": "stdout",
     "output_type": "stream",
     "text": [
      "\n",
      "image 1/1 /home/afalcao/doc/cursos/mo434/lectures-notebooks/images/object-detection/parasites/images/test/000899.png: 640x640 1 parasites, 12.3ms\n",
      "Speed: 3.4ms preprocess, 12.3ms inference, 1.7ms postprocess per image at shape (1, 3, 640, 640)\n",
      "\n",
      "image 1/1 /home/afalcao/doc/cursos/mo434/lectures-notebooks/images/object-detection/parasites/images/test/000279.png: 640x640 2 parasitess, 18.0ms\n",
      "Speed: 2.8ms preprocess, 18.0ms inference, 1.9ms postprocess per image at shape (1, 3, 640, 640)\n"
     ]
    },
    {
     "name": "stderr",
     "output_type": "stream",
     "text": [
      "Visualizing test set:  73%|█████████████▊     | 178/245 [00:08<00:04, 16.27it/s]"
     ]
    },
    {
     "name": "stdout",
     "output_type": "stream",
     "text": [
      "\n",
      "image 1/1 /home/afalcao/doc/cursos/mo434/lectures-notebooks/images/object-detection/parasites/images/test/000529.png: 640x640 1 parasites, 13.7ms\n",
      "Speed: 4.1ms preprocess, 13.7ms inference, 2.1ms postprocess per image at shape (1, 3, 640, 640)\n",
      "\n",
      "image 1/1 /home/afalcao/doc/cursos/mo434/lectures-notebooks/images/object-detection/parasites/images/test/001191.png: 640x640 1 parasites, 13.1ms\n",
      "Speed: 2.7ms preprocess, 13.1ms inference, 1.7ms postprocess per image at shape (1, 3, 640, 640)\n"
     ]
    },
    {
     "name": "stderr",
     "output_type": "stream",
     "text": [
      "Visualizing test set:  73%|█████████████▉     | 180/245 [00:08<00:03, 16.36it/s]"
     ]
    },
    {
     "name": "stdout",
     "output_type": "stream",
     "text": [
      "\n",
      "image 1/1 /home/afalcao/doc/cursos/mo434/lectures-notebooks/images/object-detection/parasites/images/test/000474.png: 640x640 (no detections), 16.4ms\n",
      "Speed: 2.9ms preprocess, 16.4ms inference, 0.9ms postprocess per image at shape (1, 3, 640, 640)\n",
      "\n",
      "image 1/1 /home/afalcao/doc/cursos/mo434/lectures-notebooks/images/object-detection/parasites/images/test/000480.png: 640x640 (no detections), 15.5ms\n",
      "Speed: 3.2ms preprocess, 15.5ms inference, 0.9ms postprocess per image at shape (1, 3, 640, 640)\n"
     ]
    },
    {
     "name": "stderr",
     "output_type": "stream",
     "text": [
      "Visualizing test set:  74%|██████████████     | 182/245 [00:08<00:03, 16.18it/s]"
     ]
    },
    {
     "name": "stdout",
     "output_type": "stream",
     "text": [
      "\n",
      "image 1/1 /home/afalcao/doc/cursos/mo434/lectures-notebooks/images/object-detection/parasites/images/test/000294.png: 640x640 1 parasites, 13.0ms\n",
      "Speed: 3.0ms preprocess, 13.0ms inference, 1.9ms postprocess per image at shape (1, 3, 640, 640)\n",
      "\n",
      "image 1/1 /home/afalcao/doc/cursos/mo434/lectures-notebooks/images/object-detection/parasites/images/test/000065.png: 640x640 (no detections), 16.9ms\n",
      "Speed: 3.8ms preprocess, 16.9ms inference, 0.9ms postprocess per image at shape (1, 3, 640, 640)\n"
     ]
    },
    {
     "name": "stderr",
     "output_type": "stream",
     "text": [
      "Visualizing test set:  75%|██████████████▎    | 184/245 [00:08<00:03, 16.40it/s]"
     ]
    },
    {
     "name": "stdout",
     "output_type": "stream",
     "text": [
      "\n",
      "image 1/1 /home/afalcao/doc/cursos/mo434/lectures-notebooks/images/object-detection/parasites/images/test/001207.png: 640x640 1 parasites, 15.5ms\n",
      "Speed: 3.5ms preprocess, 15.5ms inference, 2.5ms postprocess per image at shape (1, 3, 640, 640)\n",
      "\n",
      "image 1/1 /home/afalcao/doc/cursos/mo434/lectures-notebooks/images/object-detection/parasites/images/test/000647.png: 640x640 1 parasites, 11.9ms\n",
      "Speed: 2.8ms preprocess, 11.9ms inference, 2.0ms postprocess per image at shape (1, 3, 640, 640)\n"
     ]
    },
    {
     "name": "stderr",
     "output_type": "stream",
     "text": [
      "Visualizing test set:  76%|██████████████▍    | 186/245 [00:08<00:03, 16.43it/s]"
     ]
    },
    {
     "name": "stdout",
     "output_type": "stream",
     "text": [
      "\n",
      "image 1/1 /home/afalcao/doc/cursos/mo434/lectures-notebooks/images/object-detection/parasites/images/test/001071.png: 640x640 1 parasites, 14.3ms\n",
      "Speed: 3.1ms preprocess, 14.3ms inference, 2.0ms postprocess per image at shape (1, 3, 640, 640)\n",
      "\n",
      "image 1/1 /home/afalcao/doc/cursos/mo434/lectures-notebooks/images/object-detection/parasites/images/test/000732.png: 640x640 (no detections), 13.1ms\n",
      "Speed: 3.0ms preprocess, 13.1ms inference, 0.7ms postprocess per image at shape (1, 3, 640, 640)\n"
     ]
    },
    {
     "name": "stderr",
     "output_type": "stream",
     "text": [
      "Visualizing test set:  77%|██████████████▌    | 188/245 [00:08<00:03, 16.35it/s]"
     ]
    },
    {
     "name": "stdout",
     "output_type": "stream",
     "text": [
      "\n",
      "image 1/1 /home/afalcao/doc/cursos/mo434/lectures-notebooks/images/object-detection/parasites/images/test/000465.png: 640x640 (no detections), 15.2ms\n",
      "Speed: 4.3ms preprocess, 15.2ms inference, 1.3ms postprocess per image at shape (1, 3, 640, 640)\n",
      "\n",
      "image 1/1 /home/afalcao/doc/cursos/mo434/lectures-notebooks/images/object-detection/parasites/images/test/000735.png: 640x640 1 parasites, 12.9ms\n",
      "Speed: 2.9ms preprocess, 12.9ms inference, 1.9ms postprocess per image at shape (1, 3, 640, 640)\n"
     ]
    },
    {
     "name": "stderr",
     "output_type": "stream",
     "text": [
      "Visualizing test set:  78%|██████████████▋    | 190/245 [00:08<00:03, 16.06it/s]"
     ]
    },
    {
     "name": "stdout",
     "output_type": "stream",
     "text": [
      "\n",
      "image 1/1 /home/afalcao/doc/cursos/mo434/lectures-notebooks/images/object-detection/parasites/images/test/000882.png: 640x640 1 parasites, 16.6ms\n",
      "Speed: 3.1ms preprocess, 16.6ms inference, 2.4ms postprocess per image at shape (1, 3, 640, 640)\n",
      "\n",
      "image 1/1 /home/afalcao/doc/cursos/mo434/lectures-notebooks/images/object-detection/parasites/images/test/001164.png: 640x640 (no detections), 15.4ms\n",
      "Speed: 2.8ms preprocess, 15.4ms inference, 0.8ms postprocess per image at shape (1, 3, 640, 640)\n"
     ]
    },
    {
     "name": "stderr",
     "output_type": "stream",
     "text": [
      "Visualizing test set:  78%|██████████████▉    | 192/245 [00:09<00:03, 16.32it/s]"
     ]
    },
    {
     "name": "stdout",
     "output_type": "stream",
     "text": [
      "\n",
      "image 1/1 /home/afalcao/doc/cursos/mo434/lectures-notebooks/images/object-detection/parasites/images/test/000179.png: 640x640 1 parasites, 16.3ms\n",
      "Speed: 3.4ms preprocess, 16.3ms inference, 2.5ms postprocess per image at shape (1, 3, 640, 640)\n",
      "\n",
      "image 1/1 /home/afalcao/doc/cursos/mo434/lectures-notebooks/images/object-detection/parasites/images/test/000739.png: 640x640 1 parasites, 11.4ms\n",
      "Speed: 2.9ms preprocess, 11.4ms inference, 1.7ms postprocess per image at shape (1, 3, 640, 640)\n"
     ]
    },
    {
     "name": "stderr",
     "output_type": "stream",
     "text": [
      "Visualizing test set:  79%|███████████████    | 194/245 [00:09<00:03, 15.84it/s]"
     ]
    },
    {
     "name": "stdout",
     "output_type": "stream",
     "text": [
      "\n",
      "image 1/1 /home/afalcao/doc/cursos/mo434/lectures-notebooks/images/object-detection/parasites/images/test/001162.png: 640x640 (no detections), 14.3ms\n",
      "Speed: 4.4ms preprocess, 14.3ms inference, 1.4ms postprocess per image at shape (1, 3, 640, 640)\n",
      "\n",
      "image 1/1 /home/afalcao/doc/cursos/mo434/lectures-notebooks/images/object-detection/parasites/images/test/000437.png: 640x640 1 parasites, 13.6ms\n",
      "Speed: 3.0ms preprocess, 13.6ms inference, 1.9ms postprocess per image at shape (1, 3, 640, 640)\n"
     ]
    },
    {
     "name": "stderr",
     "output_type": "stream",
     "text": [
      "Visualizing test set:  80%|███████████████▏   | 196/245 [00:09<00:03, 16.03it/s]"
     ]
    },
    {
     "name": "stdout",
     "output_type": "stream",
     "text": [
      "\n",
      "image 1/1 /home/afalcao/doc/cursos/mo434/lectures-notebooks/images/object-detection/parasites/images/test/001008.png: 640x640 (no detections), 16.0ms\n",
      "Speed: 2.6ms preprocess, 16.0ms inference, 0.7ms postprocess per image at shape (1, 3, 640, 640)\n",
      "\n",
      "image 1/1 /home/afalcao/doc/cursos/mo434/lectures-notebooks/images/object-detection/parasites/images/test/000798.png: 640x640 (no detections), 17.5ms\n",
      "Speed: 4.3ms preprocess, 17.5ms inference, 0.8ms postprocess per image at shape (1, 3, 640, 640)\n"
     ]
    },
    {
     "name": "stderr",
     "output_type": "stream",
     "text": [
      "Visualizing test set:  81%|███████████████▎   | 198/245 [00:09<00:03, 15.49it/s]"
     ]
    },
    {
     "name": "stdout",
     "output_type": "stream",
     "text": [
      "\n",
      "image 1/1 /home/afalcao/doc/cursos/mo434/lectures-notebooks/images/object-detection/parasites/images/test/001089.png: 640x640 1 parasites, 11.8ms\n",
      "Speed: 4.0ms preprocess, 11.8ms inference, 1.3ms postprocess per image at shape (1, 3, 640, 640)\n",
      "\n",
      "image 1/1 /home/afalcao/doc/cursos/mo434/lectures-notebooks/images/object-detection/parasites/images/test/000685.png: 640x640 1 parasites, 9.4ms\n",
      "Speed: 2.0ms preprocess, 9.4ms inference, 1.9ms postprocess per image at shape (1, 3, 640, 640)\n",
      "\n",
      "image 1/1 /home/afalcao/doc/cursos/mo434/lectures-notebooks/images/object-detection/parasites/images/test/001146.png: 640x640 (no detections), 13.0ms\n",
      "Speed: 3.5ms preprocess, 13.0ms inference, 1.1ms postprocess per image at shape (1, 3, 640, 640)\n"
     ]
    },
    {
     "name": "stderr",
     "output_type": "stream",
     "text": [
      "Visualizing test set:  82%|███████████████▌   | 201/245 [00:09<00:02, 17.03it/s]"
     ]
    },
    {
     "name": "stdout",
     "output_type": "stream",
     "text": [
      "\n",
      "image 1/1 /home/afalcao/doc/cursos/mo434/lectures-notebooks/images/object-detection/parasites/images/test/000026.png: 640x640 1 parasites, 9.9ms\n",
      "Speed: 2.5ms preprocess, 9.9ms inference, 1.7ms postprocess per image at shape (1, 3, 640, 640)\n",
      "\n",
      "image 1/1 /home/afalcao/doc/cursos/mo434/lectures-notebooks/images/object-detection/parasites/images/test/000686.png: 640x640 (no detections), 10.0ms\n",
      "Speed: 3.2ms preprocess, 10.0ms inference, 0.6ms postprocess per image at shape (1, 3, 640, 640)\n",
      "\n",
      "image 1/1 /home/afalcao/doc/cursos/mo434/lectures-notebooks/images/object-detection/parasites/images/test/000878.png: 640x640 (no detections), 14.3ms\n",
      "Speed: 2.3ms preprocess, 14.3ms inference, 0.6ms postprocess per image at shape (1, 3, 640, 640)\n"
     ]
    },
    {
     "name": "stderr",
     "output_type": "stream",
     "text": [
      "Visualizing test set:  83%|███████████████▊   | 204/245 [00:09<00:02, 18.14it/s]"
     ]
    },
    {
     "name": "stdout",
     "output_type": "stream",
     "text": [
      "\n",
      "image 1/1 /home/afalcao/doc/cursos/mo434/lectures-notebooks/images/object-detection/parasites/images/test/000501.png: 640x640 1 parasites, 10.7ms\n",
      "Speed: 2.6ms preprocess, 10.7ms inference, 1.3ms postprocess per image at shape (1, 3, 640, 640)\n",
      "\n",
      "image 1/1 /home/afalcao/doc/cursos/mo434/lectures-notebooks/images/object-detection/parasites/images/test/000124.png: 640x640 1 parasites, 10.3ms\n",
      "Speed: 3.8ms preprocess, 10.3ms inference, 1.7ms postprocess per image at shape (1, 3, 640, 640)\n"
     ]
    },
    {
     "name": "stderr",
     "output_type": "stream",
     "text": [
      "Visualizing test set:  84%|███████████████▉   | 206/245 [00:09<00:02, 18.57it/s]"
     ]
    },
    {
     "name": "stdout",
     "output_type": "stream",
     "text": [
      "\n",
      "image 1/1 /home/afalcao/doc/cursos/mo434/lectures-notebooks/images/object-detection/parasites/images/test/000693.png: 640x640 1 parasites, 12.7ms\n",
      "Speed: 2.9ms preprocess, 12.7ms inference, 1.3ms postprocess per image at shape (1, 3, 640, 640)\n",
      "\n",
      "image 1/1 /home/afalcao/doc/cursos/mo434/lectures-notebooks/images/object-detection/parasites/images/test/000834.png: 640x640 (no detections), 9.6ms\n",
      "Speed: 2.5ms preprocess, 9.6ms inference, 0.6ms postprocess per image at shape (1, 3, 640, 640)\n",
      "\n",
      "image 1/1 /home/afalcao/doc/cursos/mo434/lectures-notebooks/images/object-detection/parasites/images/test/001154.png: 640x640 (no detections), 14.3ms\n",
      "Speed: 3.6ms preprocess, 14.3ms inference, 0.9ms postprocess per image at shape (1, 3, 640, 640)\n"
     ]
    },
    {
     "name": "stderr",
     "output_type": "stream",
     "text": [
      "Visualizing test set:  85%|████████████████▏  | 209/245 [00:10<00:01, 18.72it/s]"
     ]
    },
    {
     "name": "stdout",
     "output_type": "stream",
     "text": [
      "\n",
      "image 1/1 /home/afalcao/doc/cursos/mo434/lectures-notebooks/images/object-detection/parasites/images/test/000427.png: 640x640 1 parasites, 10.0ms\n",
      "Speed: 2.3ms preprocess, 10.0ms inference, 1.5ms postprocess per image at shape (1, 3, 640, 640)\n",
      "\n",
      "image 1/1 /home/afalcao/doc/cursos/mo434/lectures-notebooks/images/object-detection/parasites/images/test/001203.png: 640x640 (no detections), 12.9ms\n",
      "Speed: 2.8ms preprocess, 12.9ms inference, 0.8ms postprocess per image at shape (1, 3, 640, 640)\n"
     ]
    },
    {
     "name": "stderr",
     "output_type": "stream",
     "text": [
      "Visualizing test set:  86%|████████████████▎  | 211/245 [00:10<00:01, 17.39it/s]"
     ]
    },
    {
     "name": "stdout",
     "output_type": "stream",
     "text": [
      "\n",
      "image 1/1 /home/afalcao/doc/cursos/mo434/lectures-notebooks/images/object-detection/parasites/images/test/001165.png: 640x640 1 parasites, 33.9ms\n",
      "Speed: 7.0ms preprocess, 33.9ms inference, 3.5ms postprocess per image at shape (1, 3, 640, 640)\n",
      "\n",
      "image 1/1 /home/afalcao/doc/cursos/mo434/lectures-notebooks/images/object-detection/parasites/images/test/000097.png: 640x640 (no detections), 25.0ms\n",
      "Speed: 5.2ms preprocess, 25.0ms inference, 0.8ms postprocess per image at shape (1, 3, 640, 640)\n"
     ]
    },
    {
     "name": "stderr",
     "output_type": "stream",
     "text": [
      "Visualizing test set:  87%|████████████████▌  | 213/245 [00:10<00:02, 13.90it/s]"
     ]
    },
    {
     "name": "stdout",
     "output_type": "stream",
     "text": [
      "\n",
      "image 1/1 /home/afalcao/doc/cursos/mo434/lectures-notebooks/images/object-detection/parasites/images/test/000154.png: 640x640 1 parasites, 9.3ms\n",
      "Speed: 3.7ms preprocess, 9.3ms inference, 1.9ms postprocess per image at shape (1, 3, 640, 640)\n",
      "\n",
      "image 1/1 /home/afalcao/doc/cursos/mo434/lectures-notebooks/images/object-detection/parasites/images/test/000109.png: 640x640 1 parasites, 10.5ms\n",
      "Speed: 4.2ms preprocess, 10.5ms inference, 2.1ms postprocess per image at shape (1, 3, 640, 640)\n",
      "\n",
      "image 1/1 /home/afalcao/doc/cursos/mo434/lectures-notebooks/images/object-detection/parasites/images/test/000396.png: 640x640 (no detections), 10.2ms\n",
      "Speed: 2.4ms preprocess, 10.2ms inference, 0.9ms postprocess per image at shape (1, 3, 640, 640)\n"
     ]
    },
    {
     "name": "stderr",
     "output_type": "stream",
     "text": [
      "Visualizing test set:  88%|████████████████▊  | 216/245 [00:10<00:01, 15.88it/s]"
     ]
    },
    {
     "name": "stdout",
     "output_type": "stream",
     "text": [
      "\n",
      "image 1/1 /home/afalcao/doc/cursos/mo434/lectures-notebooks/images/object-detection/parasites/images/test/000192.png: 640x640 1 parasites, 11.1ms\n",
      "Speed: 2.2ms preprocess, 11.1ms inference, 1.2ms postprocess per image at shape (1, 3, 640, 640)\n",
      "\n",
      "image 1/1 /home/afalcao/doc/cursos/mo434/lectures-notebooks/images/object-detection/parasites/images/test/000769.png: 640x640 1 parasites, 11.2ms\n",
      "Speed: 2.2ms preprocess, 11.2ms inference, 1.6ms postprocess per image at shape (1, 3, 640, 640)\n",
      "\n",
      "image 1/1 /home/afalcao/doc/cursos/mo434/lectures-notebooks/images/object-detection/parasites/images/test/000079.png: 640x640 (no detections), 10.2ms\n",
      "Speed: 2.5ms preprocess, 10.2ms inference, 0.7ms postprocess per image at shape (1, 3, 640, 640)\n"
     ]
    },
    {
     "name": "stderr",
     "output_type": "stream",
     "text": [
      "Visualizing test set:  89%|████████████████▉  | 219/245 [00:10<00:01, 17.64it/s]"
     ]
    },
    {
     "name": "stdout",
     "output_type": "stream",
     "text": [
      "\n",
      "image 1/1 /home/afalcao/doc/cursos/mo434/lectures-notebooks/images/object-detection/parasites/images/test/000143.png: 640x640 (no detections), 10.4ms\n",
      "Speed: 2.3ms preprocess, 10.4ms inference, 0.9ms postprocess per image at shape (1, 3, 640, 640)\n",
      "\n",
      "image 1/1 /home/afalcao/doc/cursos/mo434/lectures-notebooks/images/object-detection/parasites/images/test/000244.png: 640x640 1 parasites, 21.7ms\n",
      "Speed: 5.2ms preprocess, 21.7ms inference, 3.2ms postprocess per image at shape (1, 3, 640, 640)\n"
     ]
    },
    {
     "name": "stderr",
     "output_type": "stream",
     "text": [
      "Visualizing test set:  90%|█████████████████▏ | 221/245 [00:10<00:01, 17.05it/s]"
     ]
    },
    {
     "name": "stdout",
     "output_type": "stream",
     "text": [
      "\n",
      "image 1/1 /home/afalcao/doc/cursos/mo434/lectures-notebooks/images/object-detection/parasites/images/test/000605.png: 640x640 1 parasites, 18.1ms\n",
      "Speed: 4.7ms preprocess, 18.1ms inference, 2.4ms postprocess per image at shape (1, 3, 640, 640)\n",
      "\n",
      "image 1/1 /home/afalcao/doc/cursos/mo434/lectures-notebooks/images/object-detection/parasites/images/test/000028.png: 640x640 1 parasites, 18.8ms\n",
      "Speed: 3.6ms preprocess, 18.8ms inference, 3.3ms postprocess per image at shape (1, 3, 640, 640)\n"
     ]
    },
    {
     "name": "stderr",
     "output_type": "stream",
     "text": [
      "Visualizing test set:  91%|█████████████████▎ | 223/245 [00:10<00:01, 15.57it/s]"
     ]
    },
    {
     "name": "stdout",
     "output_type": "stream",
     "text": [
      "\n",
      "image 1/1 /home/afalcao/doc/cursos/mo434/lectures-notebooks/images/object-detection/parasites/images/test/001012.png: 640x640 (no detections), 17.8ms\n",
      "Speed: 3.2ms preprocess, 17.8ms inference, 1.4ms postprocess per image at shape (1, 3, 640, 640)\n",
      "\n",
      "image 1/1 /home/afalcao/doc/cursos/mo434/lectures-notebooks/images/object-detection/parasites/images/test/000284.png: 640x640 1 parasites, 17.8ms\n",
      "Speed: 4.2ms preprocess, 17.8ms inference, 2.3ms postprocess per image at shape (1, 3, 640, 640)\n"
     ]
    },
    {
     "name": "stderr",
     "output_type": "stream",
     "text": [
      "Visualizing test set:  92%|█████████████████▍ | 225/245 [00:11<00:01, 14.88it/s]"
     ]
    },
    {
     "name": "stdout",
     "output_type": "stream",
     "text": [
      "\n",
      "image 1/1 /home/afalcao/doc/cursos/mo434/lectures-notebooks/images/object-detection/parasites/images/test/000705.png: 640x640 1 parasites, 19.2ms\n",
      "Speed: 3.3ms preprocess, 19.2ms inference, 2.4ms postprocess per image at shape (1, 3, 640, 640)\n",
      "\n",
      "image 1/1 /home/afalcao/doc/cursos/mo434/lectures-notebooks/images/object-detection/parasites/images/test/000055.png: 640x640 1 parasites, 20.1ms\n",
      "Speed: 5.4ms preprocess, 20.1ms inference, 2.2ms postprocess per image at shape (1, 3, 640, 640)\n"
     ]
    },
    {
     "name": "stderr",
     "output_type": "stream",
     "text": [
      "Visualizing test set:  93%|█████████████████▌ | 227/245 [00:11<00:01, 14.01it/s]"
     ]
    },
    {
     "name": "stdout",
     "output_type": "stream",
     "text": [
      "\n",
      "image 1/1 /home/afalcao/doc/cursos/mo434/lectures-notebooks/images/object-detection/parasites/images/test/000523.png: 640x640 1 parasites, 18.2ms\n",
      "Speed: 5.3ms preprocess, 18.2ms inference, 2.7ms postprocess per image at shape (1, 3, 640, 640)\n",
      "\n",
      "image 1/1 /home/afalcao/doc/cursos/mo434/lectures-notebooks/images/object-detection/parasites/images/test/001167.png: 640x640 1 parasites, 22.2ms\n",
      "Speed: 4.8ms preprocess, 22.2ms inference, 2.2ms postprocess per image at shape (1, 3, 640, 640)\n"
     ]
    },
    {
     "name": "stderr",
     "output_type": "stream",
     "text": [
      "Visualizing test set:  93%|█████████████████▊ | 229/245 [00:11<00:01, 13.55it/s]"
     ]
    },
    {
     "name": "stdout",
     "output_type": "stream",
     "text": [
      "\n",
      "image 1/1 /home/afalcao/doc/cursos/mo434/lectures-notebooks/images/object-detection/parasites/images/test/001197.png: 640x640 1 parasites, 18.3ms\n",
      "Speed: 4.0ms preprocess, 18.3ms inference, 2.3ms postprocess per image at shape (1, 3, 640, 640)\n",
      "\n",
      "image 1/1 /home/afalcao/doc/cursos/mo434/lectures-notebooks/images/object-detection/parasites/images/test/001110.png: 640x640 1 parasites, 17.5ms\n",
      "Speed: 4.0ms preprocess, 17.5ms inference, 3.0ms postprocess per image at shape (1, 3, 640, 640)\n"
     ]
    },
    {
     "name": "stderr",
     "output_type": "stream",
     "text": [
      "Visualizing test set:  94%|█████████████████▉ | 231/245 [00:11<00:01, 13.46it/s]"
     ]
    },
    {
     "name": "stdout",
     "output_type": "stream",
     "text": [
      "\n",
      "image 1/1 /home/afalcao/doc/cursos/mo434/lectures-notebooks/images/object-detection/parasites/images/test/000488.png: 640x640 (no detections), 15.4ms\n",
      "Speed: 4.8ms preprocess, 15.4ms inference, 1.4ms postprocess per image at shape (1, 3, 640, 640)\n",
      "\n",
      "image 1/1 /home/afalcao/doc/cursos/mo434/lectures-notebooks/images/object-detection/parasites/images/test/000145.png: 640x640 (no detections), 15.9ms\n",
      "Speed: 5.2ms preprocess, 15.9ms inference, 1.1ms postprocess per image at shape (1, 3, 640, 640)\n"
     ]
    },
    {
     "name": "stderr",
     "output_type": "stream",
     "text": [
      "Visualizing test set:  95%|██████████████████ | 233/245 [00:11<00:00, 13.43it/s]"
     ]
    },
    {
     "name": "stdout",
     "output_type": "stream",
     "text": [
      "\n",
      "image 1/1 /home/afalcao/doc/cursos/mo434/lectures-notebooks/images/object-detection/parasites/images/test/000121.png: 640x640 (no detections), 16.4ms\n",
      "Speed: 4.2ms preprocess, 16.4ms inference, 0.9ms postprocess per image at shape (1, 3, 640, 640)\n",
      "\n",
      "image 1/1 /home/afalcao/doc/cursos/mo434/lectures-notebooks/images/object-detection/parasites/images/test/000356.png: 640x640 1 parasites, 17.1ms\n",
      "Speed: 4.9ms preprocess, 17.1ms inference, 2.6ms postprocess per image at shape (1, 3, 640, 640)\n"
     ]
    },
    {
     "name": "stderr",
     "output_type": "stream",
     "text": [
      "Visualizing test set:  96%|██████████████████▏| 235/245 [00:11<00:00, 13.32it/s]"
     ]
    },
    {
     "name": "stdout",
     "output_type": "stream",
     "text": [
      "\n",
      "image 1/1 /home/afalcao/doc/cursos/mo434/lectures-notebooks/images/object-detection/parasites/images/test/000007.png: 640x640 1 parasites, 17.0ms\n",
      "Speed: 3.6ms preprocess, 17.0ms inference, 1.9ms postprocess per image at shape (1, 3, 640, 640)\n",
      "\n",
      "image 1/1 /home/afalcao/doc/cursos/mo434/lectures-notebooks/images/object-detection/parasites/images/test/000980.png: 640x640 1 parasites, 22.4ms\n",
      "Speed: 5.0ms preprocess, 22.4ms inference, 2.9ms postprocess per image at shape (1, 3, 640, 640)\n"
     ]
    },
    {
     "name": "stderr",
     "output_type": "stream",
     "text": [
      "Visualizing test set:  97%|██████████████████▍| 237/245 [00:12<00:00, 12.90it/s]"
     ]
    },
    {
     "name": "stdout",
     "output_type": "stream",
     "text": [
      "\n",
      "image 1/1 /home/afalcao/doc/cursos/mo434/lectures-notebooks/images/object-detection/parasites/images/test/000409.png: 640x640 1 parasites, 11.7ms\n",
      "Speed: 3.6ms preprocess, 11.7ms inference, 2.1ms postprocess per image at shape (1, 3, 640, 640)\n",
      "\n",
      "image 1/1 /home/afalcao/doc/cursos/mo434/lectures-notebooks/images/object-detection/parasites/images/test/000246.png: 640x640 1 parasites, 13.3ms\n",
      "Speed: 4.1ms preprocess, 13.3ms inference, 1.4ms postprocess per image at shape (1, 3, 640, 640)\n"
     ]
    },
    {
     "name": "stderr",
     "output_type": "stream",
     "text": [
      "Visualizing test set:  98%|██████████████████▌| 239/245 [00:12<00:00, 14.15it/s]"
     ]
    },
    {
     "name": "stdout",
     "output_type": "stream",
     "text": [
      "\n",
      "image 1/1 /home/afalcao/doc/cursos/mo434/lectures-notebooks/images/object-detection/parasites/images/test/000509.png: 640x640 1 parasites, 12.0ms\n",
      "Speed: 2.4ms preprocess, 12.0ms inference, 1.6ms postprocess per image at shape (1, 3, 640, 640)\n",
      "\n",
      "image 1/1 /home/afalcao/doc/cursos/mo434/lectures-notebooks/images/object-detection/parasites/images/test/000574.png: 640x640 (no detections), 11.0ms\n",
      "Speed: 2.7ms preprocess, 11.0ms inference, 0.6ms postprocess per image at shape (1, 3, 640, 640)\n"
     ]
    },
    {
     "name": "stderr",
     "output_type": "stream",
     "text": [
      "Visualizing test set:  98%|██████████████████▋| 241/245 [00:12<00:00, 15.50it/s]"
     ]
    },
    {
     "name": "stdout",
     "output_type": "stream",
     "text": [
      "\n",
      "image 1/1 /home/afalcao/doc/cursos/mo434/lectures-notebooks/images/object-detection/parasites/images/test/000315.png: 640x640 (no detections), 11.6ms\n",
      "Speed: 2.5ms preprocess, 11.6ms inference, 0.9ms postprocess per image at shape (1, 3, 640, 640)\n",
      "\n",
      "image 1/1 /home/afalcao/doc/cursos/mo434/lectures-notebooks/images/object-detection/parasites/images/test/000503.png: 640x640 2 parasitess, 11.2ms\n",
      "Speed: 3.4ms preprocess, 11.2ms inference, 1.5ms postprocess per image at shape (1, 3, 640, 640)\n"
     ]
    },
    {
     "name": "stderr",
     "output_type": "stream",
     "text": [
      "Visualizing test set:  99%|██████████████████▊| 243/245 [00:12<00:00, 16.30it/s]"
     ]
    },
    {
     "name": "stdout",
     "output_type": "stream",
     "text": [
      "\n",
      "image 1/1 /home/afalcao/doc/cursos/mo434/lectures-notebooks/images/object-detection/parasites/images/test/001209.png: 640x640 1 parasites, 12.1ms\n",
      "Speed: 5.0ms preprocess, 12.1ms inference, 2.9ms postprocess per image at shape (1, 3, 640, 640)\n",
      "\n",
      "image 1/1 /home/afalcao/doc/cursos/mo434/lectures-notebooks/images/object-detection/parasites/images/test/000464.png: 640x640 1 parasites, 13.3ms\n",
      "Speed: 3.1ms preprocess, 13.3ms inference, 1.6ms postprocess per image at shape (1, 3, 640, 640)\n"
     ]
    },
    {
     "name": "stderr",
     "output_type": "stream",
     "text": [
      "Visualizing test set: 100%|███████████████████| 245/245 [00:12<00:00, 19.61it/s]\n"
     ]
    },
    {
     "name": "stdout",
     "output_type": "stream",
     "text": [
      "All visualizations saved to output_visualizations\n",
      "Processing train ground truth...\n"
     ]
    },
    {
     "name": "stderr",
     "output_type": "stream",
     "text": [
      "Visualizing train ground truth:   0%|                   | 0/731 [00:00<?, ?it/s]"
     ]
    },
    {
     "name": "stdout",
     "output_type": "stream",
     "text": [
      "./images/object-detection/parasites/labels/train/000329.txt\n",
      "Warning: No label file found for images/object-detection/parasites/images/train/000329.png\n",
      "./images/object-detection/parasites/labels/train/000044.txt\n",
      "Warning: No label file found for images/object-detection/parasites/images/train/000044.png\n",
      "./images/object-detection/parasites/labels/train/000508.txt\n",
      "Warning: No label file found for images/object-detection/parasites/images/train/000508.png\n",
      "./images/object-detection/parasites/labels/train/000205.txt\n",
      "Warning: No label file found for images/object-detection/parasites/images/train/000205.png\n",
      "./images/object-detection/parasites/labels/train/000938.txt\n",
      "Warning: No label file found for images/object-detection/parasites/images/train/000938.png\n",
      "./images/object-detection/parasites/labels/train/000153.txt\n",
      "Warning: No label file found for images/object-detection/parasites/images/train/000153.png\n",
      "./images/object-detection/parasites/labels/train/000496.txt\n",
      "Warning: No label file found for images/object-detection/parasites/images/train/000496.png\n",
      "./images/object-detection/parasites/labels/train/000374.txt\n",
      "Warning: No label file found for images/object-detection/parasites/images/train/000374.png\n",
      "./images/object-detection/parasites/labels/train/000578.txt\n",
      "Warning: No label file found for images/object-detection/parasites/images/train/000578.png\n",
      "./images/object-detection/parasites/labels/train/000343.txt\n",
      "Warning: No label file found for images/object-detection/parasites/images/train/000343.png\n"
     ]
    },
    {
     "name": "stderr",
     "output_type": "stream",
     "text": [
      "Visualizing train ground truth:   2%|▏        | 14/731 [00:00<00:05, 134.26it/s]"
     ]
    },
    {
     "name": "stdout",
     "output_type": "stream",
     "text": [
      "./images/object-detection/parasites/labels/train/001082.txt\n",
      "Warning: No label file found for images/object-detection/parasites/images/train/001082.png\n"
     ]
    },
    {
     "name": "stderr",
     "output_type": "stream",
     "text": [
      "Visualizing train ground truth:   4%|▍         | 28/731 [00:00<00:07, 99.02it/s]"
     ]
    },
    {
     "name": "stdout",
     "output_type": "stream",
     "text": [
      "./images/object-detection/parasites/labels/train/000083.txt\n",
      "Warning: No label file found for images/object-detection/parasites/images/train/000083.png\n",
      "./images/object-detection/parasites/labels/train/000191.txt\n",
      "Warning: No label file found for images/object-detection/parasites/images/train/000191.png\n",
      "./images/object-detection/parasites/labels/train/001068.txt\n",
      "Warning: No label file found for images/object-detection/parasites/images/train/001068.png\n",
      "./images/object-detection/parasites/labels/train/000614.txt\n",
      "Warning: No label file found for images/object-detection/parasites/images/train/000614.png\n"
     ]
    },
    {
     "name": "stderr",
     "output_type": "stream",
     "text": [
      "Visualizing train ground truth:   6%|▌        | 42/731 [00:00<00:06, 113.19it/s]"
     ]
    },
    {
     "name": "stdout",
     "output_type": "stream",
     "text": [
      "./images/object-detection/parasites/labels/train/000866.txt\n",
      "Warning: No label file found for images/object-detection/parasites/images/train/000866.png\n",
      "./images/object-detection/parasites/labels/train/000774.txt\n",
      "Warning: No label file found for images/object-detection/parasites/images/train/000774.png\n",
      "./images/object-detection/parasites/labels/train/000852.txt\n",
      "Warning: No label file found for images/object-detection/parasites/images/train/000852.png\n",
      "./images/object-detection/parasites/labels/train/001058.txt\n",
      "Warning: No label file found for images/object-detection/parasites/images/train/001058.png\n",
      "./images/object-detection/parasites/labels/train/000175.txt\n",
      "Warning: No label file found for images/object-detection/parasites/images/train/000175.png\n",
      "./images/object-detection/parasites/labels/train/001102.txt\n",
      "Warning: No label file found for images/object-detection/parasites/images/train/001102.png\n",
      "./images/object-detection/parasites/labels/train/001172.txt\n",
      "Warning: No label file found for images/object-detection/parasites/images/train/001172.png\n",
      "./images/object-detection/parasites/labels/train/001046.txt\n",
      "Warning: No label file found for images/object-detection/parasites/images/train/001046.png\n",
      "./images/object-detection/parasites/labels/train/001170.txt\n",
      "Warning: No label file found for images/object-detection/parasites/images/train/001170.png\n",
      "./images/object-detection/parasites/labels/train/000432.txt\n",
      "Warning: No label file found for images/object-detection/parasites/images/train/000432.png\n",
      "./images/object-detection/parasites/labels/train/000981.txt\n",
      "Warning: No label file found for images/object-detection/parasites/images/train/000981.png\n",
      "./images/object-detection/parasites/labels/train/000215.txt\n",
      "Warning: No label file found for images/object-detection/parasites/images/train/000215.png\n",
      "./images/object-detection/parasites/labels/train/000263.txt\n",
      "Warning: No label file found for images/object-detection/parasites/images/train/000263.png\n"
     ]
    },
    {
     "name": "stderr",
     "output_type": "stream",
     "text": [
      "Visualizing train ground truth:   8%|▊        | 62/731 [00:00<00:04, 138.18it/s]"
     ]
    },
    {
     "name": "stdout",
     "output_type": "stream",
     "text": [
      "./images/object-detection/parasites/labels/train/000626.txt\n",
      "Warning: No label file found for images/object-detection/parasites/images/train/000626.png\n",
      "./images/object-detection/parasites/labels/train/000648.txt\n",
      "Warning: No label file found for images/object-detection/parasites/images/train/000648.png\n",
      "./images/object-detection/parasites/labels/train/000280.txt\n",
      "Warning: No label file found for images/object-detection/parasites/images/train/000280.png\n",
      "./images/object-detection/parasites/labels/train/000796.txt\n",
      "Warning: No label file found for images/object-detection/parasites/images/train/000796.png\n",
      "./images/object-detection/parasites/labels/train/000181.txt\n",
      "Warning: No label file found for images/object-detection/parasites/images/train/000181.png\n",
      "./images/object-detection/parasites/labels/train/000406.txt\n",
      "Warning: No label file found for images/object-detection/parasites/images/train/000406.png\n"
     ]
    },
    {
     "name": "stderr",
     "output_type": "stream",
     "text": [
      "Visualizing train ground truth:  11%|▉        | 78/731 [00:00<00:04, 142.41it/s]"
     ]
    },
    {
     "name": "stdout",
     "output_type": "stream",
     "text": [
      "./images/object-detection/parasites/labels/train/000189.txt\n",
      "Warning: No label file found for images/object-detection/parasites/images/train/000189.png\n",
      "./images/object-detection/parasites/labels/train/000445.txt\n",
      "Warning: No label file found for images/object-detection/parasites/images/train/000445.png\n",
      "./images/object-detection/parasites/labels/train/000355.txt\n",
      "Warning: No label file found for images/object-detection/parasites/images/train/000355.png\n",
      "./images/object-detection/parasites/labels/train/000365.txt\n",
      "Warning: No label file found for images/object-detection/parasites/images/train/000365.png\n",
      "./images/object-detection/parasites/labels/train/001054.txt\n",
      "Warning: No label file found for images/object-detection/parasites/images/train/001054.png\n",
      "./images/object-detection/parasites/labels/train/000862.txt\n",
      "Warning: No label file found for images/object-detection/parasites/images/train/000862.png\n",
      "./images/object-detection/parasites/labels/train/001114.txt\n",
      "Warning: No label file found for images/object-detection/parasites/images/train/001114.png\n",
      "./images/object-detection/parasites/labels/train/000130.txt\n",
      "Warning: No label file found for images/object-detection/parasites/images/train/000130.png\n",
      "./images/object-detection/parasites/labels/train/000106.txt\n",
      "Warning: No label file found for images/object-detection/parasites/images/train/000106.png\n",
      "./images/object-detection/parasites/labels/train/001060.txt\n",
      "Warning: No label file found for images/object-detection/parasites/images/train/001060.png\n",
      "./images/object-detection/parasites/labels/train/000398.txt\n",
      "Warning: No label file found for images/object-detection/parasites/images/train/000398.png\n",
      "./images/object-detection/parasites/labels/train/000092.txt\n",
      "Warning: No label file found for images/object-detection/parasites/images/train/000092.png\n",
      "./images/object-detection/parasites/labels/train/000436.txt\n",
      "Warning: No label file found for images/object-detection/parasites/images/train/000436.png\n",
      "./images/object-detection/parasites/labels/train/000259.txt\n",
      "Warning: No label file found for images/object-detection/parasites/images/train/000259.png\n",
      "./images/object-detection/parasites/labels/train/000113.txt\n",
      "Warning: No label file found for images/object-detection/parasites/images/train/000113.png\n",
      "./images/object-detection/parasites/labels/train/000201.txt\n",
      "Warning: No label file found for images/object-detection/parasites/images/train/000201.png\n",
      "./images/object-detection/parasites/labels/train/000742.txt\n",
      "Warning: No label file found for images/object-detection/parasites/images/train/000742.png\n",
      "./images/object-detection/parasites/labels/train/000806.txt\n",
      "Warning: No label file found for images/object-detection/parasites/images/train/000806.png\n",
      "./images/object-detection/parasites/labels/train/000876.txt\n",
      "Warning: No label file found for images/object-detection/parasites/images/train/000876.png\n",
      "./images/object-detection/parasites/labels/train/000410.txt\n",
      "Warning: No label file found for images/object-detection/parasites/images/train/000410.png\n",
      "./images/object-detection/parasites/labels/train/000726.txt\n",
      "Warning: No label file found for images/object-detection/parasites/images/train/000726.png\n",
      "./images/object-detection/parasites/labels/train/000922.txt\n",
      "Warning: No label file found for images/object-detection/parasites/images/train/000922.png\n"
     ]
    },
    {
     "name": "stderr",
     "output_type": "stream",
     "text": [
      "Visualizing train ground truth:  14%|█       | 100/731 [00:00<00:03, 161.31it/s]"
     ]
    },
    {
     "name": "stdout",
     "output_type": "stream",
     "text": [
      "./images/object-detection/parasites/labels/train/000359.txt\n",
      "Warning: No label file found for images/object-detection/parasites/images/train/000359.png\n",
      "./images/object-detection/parasites/labels/train/000482.txt\n",
      "Warning: No label file found for images/object-detection/parasites/images/train/000482.png\n",
      "./images/object-detection/parasites/labels/train/000748.txt\n",
      "Warning: No label file found for images/object-detection/parasites/images/train/000748.png\n",
      "./images/object-detection/parasites/labels/train/000239.txt\n",
      "Warning: No label file found for images/object-detection/parasites/images/train/000239.png\n"
     ]
    },
    {
     "name": "stderr",
     "output_type": "stream",
     "text": [
      "Visualizing train ground truth:  16%|█▎      | 117/731 [00:00<00:04, 138.55it/s]"
     ]
    },
    {
     "name": "stdout",
     "output_type": "stream",
     "text": [
      "./images/object-detection/parasites/labels/train/000040.txt\n",
      "Warning: No label file found for images/object-detection/parasites/images/train/000040.png\n",
      "./images/object-detection/parasites/labels/train/000478.txt\n",
      "Warning: No label file found for images/object-detection/parasites/images/train/000478.png\n",
      "./images/object-detection/parasites/labels/train/000554.txt\n",
      "Warning: No label file found for images/object-detection/parasites/images/train/000554.png\n",
      "./images/object-detection/parasites/labels/train/000978.txt\n",
      "Warning: No label file found for images/object-detection/parasites/images/train/000978.png\n",
      "./images/object-detection/parasites/labels/train/000954.txt\n",
      "Warning: No label file found for images/object-detection/parasites/images/train/000954.png\n",
      "./images/object-detection/parasites/labels/train/000568.txt\n",
      "Warning: No label file found for images/object-detection/parasites/images/train/000568.png\n"
     ]
    },
    {
     "name": "stderr",
     "output_type": "stream",
     "text": [
      "Visualizing train ground truth:  18%|█▍      | 132/731 [00:00<00:04, 134.70it/s]"
     ]
    },
    {
     "name": "stdout",
     "output_type": "stream",
     "text": [
      "./images/object-detection/parasites/labels/train/000390.txt\n",
      "Warning: No label file found for images/object-detection/parasites/images/train/000390.png\n",
      "./images/object-detection/parasites/labels/train/000231.txt\n",
      "Warning: No label file found for images/object-detection/parasites/images/train/000231.png\n",
      "./images/object-detection/parasites/labels/train/000048.txt\n",
      "Warning: No label file found for images/object-detection/parasites/images/train/000048.png\n",
      "./images/object-detection/parasites/labels/train/001124.txt\n",
      "Warning: No label file found for images/object-detection/parasites/images/train/001124.png\n",
      "./images/object-detection/parasites/labels/train/000696.txt\n",
      "Warning: No label file found for images/object-detection/parasites/images/train/000696.png\n"
     ]
    },
    {
     "name": "stderr",
     "output_type": "stream",
     "text": [
      "Visualizing train ground truth:  20%|█▌      | 146/731 [00:01<00:04, 129.43it/s]"
     ]
    },
    {
     "name": "stdout",
     "output_type": "stream",
     "text": [
      "./images/object-detection/parasites/labels/train/000157.txt\n",
      "Warning: No label file found for images/object-detection/parasites/images/train/000157.png\n",
      "./images/object-detection/parasites/labels/train/000223.txt\n",
      "Warning: No label file found for images/object-detection/parasites/images/train/000223.png\n",
      "./images/object-detection/parasites/labels/train/000594.txt\n",
      "Warning: No label file found for images/object-detection/parasites/images/train/000594.png\n",
      "./images/object-detection/parasites/labels/train/000255.txt\n",
      "Warning: No label file found for images/object-detection/parasites/images/train/000255.png\n",
      "./images/object-detection/parasites/labels/train/000416.txt\n",
      "Warning: No label file found for images/object-detection/parasites/images/train/000416.png\n",
      "./images/object-detection/parasites/labels/train/000730.txt\n",
      "Warning: No label file found for images/object-detection/parasites/images/train/000730.png\n",
      "./images/object-detection/parasites/labels/train/000120.txt\n",
      "Warning: No label file found for images/object-detection/parasites/images/train/000120.png\n"
     ]
    },
    {
     "name": "stderr",
     "output_type": "stream",
     "text": [
      "Visualizing train ground truth:  22%|█▊      | 163/731 [00:01<00:04, 136.80it/s]"
     ]
    },
    {
     "name": "stdout",
     "output_type": "stream",
     "text": [
      "./images/object-detection/parasites/labels/train/001066.txt\n",
      "Warning: No label file found for images/object-detection/parasites/images/train/001066.png\n",
      "./images/object-detection/parasites/labels/train/000970.txt\n",
      "Warning: No label file found for images/object-detection/parasites/images/train/000970.png\n",
      "./images/object-detection/parasites/labels/train/000317.txt\n",
      "Warning: No label file found for images/object-detection/parasites/images/train/000317.png\n",
      "./images/object-detection/parasites/labels/train/000790.txt\n",
      "Warning: No label file found for images/object-detection/parasites/images/train/000790.png\n",
      "./images/object-detection/parasites/labels/train/000363.txt\n",
      "Warning: No label file found for images/object-detection/parasites/images/train/000363.png\n",
      "./images/object-detection/parasites/labels/train/000946.txt\n",
      "Warning: No label file found for images/object-detection/parasites/images/train/000946.png\n",
      "./images/object-detection/parasites/labels/train/000112.txt\n",
      "Warning: No label file found for images/object-detection/parasites/images/train/000112.png\n",
      "./images/object-detection/parasites/labels/train/001144.txt\n",
      "Warning: No label file found for images/object-detection/parasites/images/train/001144.png\n"
     ]
    },
    {
     "name": "stderr",
     "output_type": "stream",
     "text": [
      "Visualizing train ground truth:  24%|█▉      | 177/731 [00:01<00:04, 128.66it/s]"
     ]
    },
    {
     "name": "stdout",
     "output_type": "stream",
     "text": [
      "./images/object-detection/parasites/labels/train/000169.txt\n",
      "Warning: No label file found for images/object-detection/parasites/images/train/000169.png\n",
      "./images/object-detection/parasites/labels/train/000660.txt\n",
      "Warning: No label file found for images/object-detection/parasites/images/train/000660.png\n",
      "./images/object-detection/parasites/labels/train/000832.txt\n",
      "Warning: No label file found for images/object-detection/parasites/images/train/000832.png\n",
      "./images/object-detection/parasites/labels/train/000900.txt\n",
      "Warning: No label file found for images/object-detection/parasites/images/train/000900.png\n",
      "./images/object-detection/parasites/labels/train/000117.txt\n",
      "Warning: No label file found for images/object-detection/parasites/images/train/000117.png\n",
      "./images/object-detection/parasites/labels/train/001160.txt\n",
      "Warning: No label file found for images/object-detection/parasites/images/train/001160.png\n",
      "./images/object-detection/parasites/labels/train/000664.txt\n",
      "Warning: No label file found for images/object-detection/parasites/images/train/000664.png\n"
     ]
    },
    {
     "name": "stderr",
     "output_type": "stream",
     "text": [
      "Visualizing train ground truth:  28%|██▎     | 206/731 [00:01<00:04, 126.05it/s]"
     ]
    },
    {
     "name": "stdout",
     "output_type": "stream",
     "text": [
      "./images/object-detection/parasites/labels/train/001182.txt\n",
      "Warning: No label file found for images/object-detection/parasites/images/train/001182.png\n",
      "./images/object-detection/parasites/labels/train/000688.txt\n",
      "Warning: No label file found for images/object-detection/parasites/images/train/000688.png\n",
      "./images/object-detection/parasites/labels/train/000708.txt\n",
      "Warning: No label file found for images/object-detection/parasites/images/train/000708.png\n",
      "./images/object-detection/parasites/labels/train/000302.txt\n",
      "Warning: No label file found for images/object-detection/parasites/images/train/000302.png\n",
      "./images/object-detection/parasites/labels/train/001112.txt\n",
      "Warning: No label file found for images/object-detection/parasites/images/train/001112.png\n",
      "./images/object-detection/parasites/labels/train/000550.txt\n",
      "Warning: No label file found for images/object-detection/parasites/images/train/000550.png\n",
      "./images/object-detection/parasites/labels/train/000678.txt\n",
      "Warning: No label file found for images/object-detection/parasites/images/train/000678.png\n",
      "./images/object-detection/parasites/labels/train/000071.txt\n",
      "Warning: No label file found for images/object-detection/parasites/images/train/000071.png\n",
      "./images/object-detection/parasites/labels/train/000880.txt\n",
      "Warning: No label file found for images/object-detection/parasites/images/train/000880.png\n",
      "./images/object-detection/parasites/labels/train/001010.txt\n",
      "Warning: No label file found for images/object-detection/parasites/images/train/001010.png\n"
     ]
    },
    {
     "name": "stderr",
     "output_type": "stream",
     "text": [
      "Visualizing train ground truth:  30%|██▍     | 221/731 [00:01<00:03, 131.60it/s]"
     ]
    },
    {
     "name": "stdout",
     "output_type": "stream",
     "text": [
      "./images/object-detection/parasites/labels/train/001126.txt\n",
      "Warning: No label file found for images/object-detection/parasites/images/train/001126.png\n",
      "./images/object-detection/parasites/labels/train/000680.txt\n",
      "Warning: No label file found for images/object-detection/parasites/images/train/000680.png\n",
      "./images/object-detection/parasites/labels/train/000666.txt\n",
      "Warning: No label file found for images/object-detection/parasites/images/train/000666.png\n",
      "./images/object-detection/parasites/labels/train/000265.txt\n",
      "Warning: No label file found for images/object-detection/parasites/images/train/000265.png\n",
      "./images/object-detection/parasites/labels/train/000896.txt\n",
      "Warning: No label file found for images/object-detection/parasites/images/train/000896.png\n",
      "./images/object-detection/parasites/labels/train/000670.txt\n",
      "Warning: No label file found for images/object-detection/parasites/images/train/000670.png\n",
      "./images/object-detection/parasites/labels/train/001094.txt\n",
      "Warning: No label file found for images/object-detection/parasites/images/train/001094.png\n",
      "./images/object-detection/parasites/labels/train/000754.txt\n",
      "Warning: No label file found for images/object-detection/parasites/images/train/000754.png\n"
     ]
    },
    {
     "name": "stderr",
     "output_type": "stream",
     "text": [
      "Visualizing train ground truth:  32%|██▌     | 235/731 [00:01<00:04, 118.03it/s]"
     ]
    },
    {
     "name": "stdout",
     "output_type": "stream",
     "text": [
      "./images/object-detection/parasites/labels/train/000428.txt\n",
      "Warning: No label file found for images/object-detection/parasites/images/train/000428.png\n"
     ]
    },
    {
     "name": "stderr",
     "output_type": "stream",
     "text": [
      "Visualizing train ground truth:  34%|██▊     | 252/731 [00:01<00:03, 127.99it/s]"
     ]
    },
    {
     "name": "stdout",
     "output_type": "stream",
     "text": [
      "./images/object-detection/parasites/labels/train/000059.txt\n",
      "Warning: No label file found for images/object-detection/parasites/images/train/000059.png\n",
      "./images/object-detection/parasites/labels/train/000838.txt\n",
      "Warning: No label file found for images/object-detection/parasites/images/train/000838.png\n",
      "./images/object-detection/parasites/labels/train/001132.txt\n",
      "Warning: No label file found for images/object-detection/parasites/images/train/001132.png\n",
      "./images/object-detection/parasites/labels/train/000810.txt\n",
      "Warning: No label file found for images/object-detection/parasites/images/train/000810.png\n",
      "./images/object-detection/parasites/labels/train/001032.txt\n",
      "Warning: No label file found for images/object-detection/parasites/images/train/001032.png\n",
      "./images/object-detection/parasites/labels/train/001096.txt\n",
      "Warning: No label file found for images/object-detection/parasites/images/train/001096.png\n",
      "./images/object-detection/parasites/labels/train/000341.txt\n",
      "Warning: No label file found for images/object-detection/parasites/images/train/000341.png\n",
      "./images/object-detection/parasites/labels/train/001028.txt\n",
      "Warning: No label file found for images/object-detection/parasites/images/train/001028.png\n",
      "./images/object-detection/parasites/labels/train/000652.txt\n",
      "Warning: No label file found for images/object-detection/parasites/images/train/000652.png\n",
      "./images/object-detection/parasites/labels/train/000209.txt\n",
      "Warning: No label file found for images/object-detection/parasites/images/train/000209.png\n",
      "./images/object-detection/parasites/labels/train/000380.txt\n",
      "Warning: No label file found for images/object-detection/parasites/images/train/000380.png\n",
      "./images/object-detection/parasites/labels/train/000386.txt\n",
      "Warning: No label file found for images/object-detection/parasites/images/train/000386.png\n",
      "./images/object-detection/parasites/labels/train/001166.txt\n",
      "Warning: No label file found for images/object-detection/parasites/images/train/001166.png\n",
      "./images/object-detection/parasites/labels/train/000282.txt\n",
      "Warning: No label file found for images/object-detection/parasites/images/train/000282.png\n",
      "./images/object-detection/parasites/labels/train/000434.txt\n",
      "Warning: No label file found for images/object-detection/parasites/images/train/000434.png\n",
      "./images/object-detection/parasites/labels/train/001180.txt\n",
      "Warning: No label file found for images/object-detection/parasites/images/train/001180.png\n",
      "./images/object-detection/parasites/labels/train/000178.txt\n",
      "Warning: No label file found for images/object-detection/parasites/images/train/000178.png\n",
      "./images/object-detection/parasites/labels/train/000293.txt\n",
      "Warning: No label file found for images/object-detection/parasites/images/train/000293.png\n"
     ]
    },
    {
     "name": "stderr",
     "output_type": "stream",
     "text": [
      "Visualizing train ground truth:  37%|██▉     | 269/731 [00:02<00:03, 137.45it/s]"
     ]
    },
    {
     "name": "stdout",
     "output_type": "stream",
     "text": [
      "./images/object-detection/parasites/labels/train/000271.txt\n",
      "Warning: No label file found for images/object-detection/parasites/images/train/000271.png\n",
      "./images/object-detection/parasites/labels/train/000319.txt\n",
      "Warning: No label file found for images/object-detection/parasites/images/train/000319.png\n",
      "./images/object-detection/parasites/labels/train/000183.txt\n",
      "Warning: No label file found for images/object-detection/parasites/images/train/000183.png\n"
     ]
    },
    {
     "name": "stderr",
     "output_type": "stream",
     "text": [
      "Visualizing train ground truth:  39%|███     | 284/731 [00:02<00:03, 138.58it/s]"
     ]
    },
    {
     "name": "stdout",
     "output_type": "stream",
     "text": [
      "./images/object-detection/parasites/labels/train/000940.txt\n",
      "Warning: No label file found for images/object-detection/parasites/images/train/000940.png\n",
      "./images/object-detection/parasites/labels/train/000534.txt\n",
      "Warning: No label file found for images/object-detection/parasites/images/train/000534.png\n",
      "./images/object-detection/parasites/labels/train/000702.txt\n",
      "Warning: No label file found for images/object-detection/parasites/images/train/000702.png\n",
      "./images/object-detection/parasites/labels/train/000311.txt\n",
      "Warning: No label file found for images/object-detection/parasites/images/train/000311.png\n",
      "./images/object-detection/parasites/labels/train/000800.txt\n",
      "Warning: No label file found for images/object-detection/parasites/images/train/000800.png\n",
      "./images/object-detection/parasites/labels/train/000063.txt\n",
      "Warning: No label file found for images/object-detection/parasites/images/train/000063.png\n",
      "./images/object-detection/parasites/labels/train/000337.txt\n",
      "Warning: No label file found for images/object-detection/parasites/images/train/000337.png\n",
      "./images/object-detection/parasites/labels/train/000233.txt\n",
      "Warning: No label file found for images/object-detection/parasites/images/train/000233.png\n",
      "./images/object-detection/parasites/labels/train/000808.txt\n",
      "Warning: No label file found for images/object-detection/parasites/images/train/000808.png\n",
      "./images/object-detection/parasites/labels/train/000692.txt\n",
      "Warning: No label file found for images/object-detection/parasites/images/train/000692.png\n",
      "./images/object-detection/parasites/labels/train/001152.txt\n",
      "Warning: No label file found for images/object-detection/parasites/images/train/001152.png\n"
     ]
    },
    {
     "name": "stderr",
     "output_type": "stream",
     "text": [
      "Visualizing train ground truth:  41%|███▎    | 299/731 [00:02<00:03, 137.07it/s]"
     ]
    },
    {
     "name": "stdout",
     "output_type": "stream",
     "text": [
      "./images/object-detection/parasites/labels/train/000984.txt\n",
      "Warning: No label file found for images/object-detection/parasites/images/train/000984.png\n"
     ]
    },
    {
     "name": "stderr",
     "output_type": "stream",
     "text": [
      "Visualizing train ground truth:  43%|███▍    | 316/731 [00:02<00:02, 140.96it/s]"
     ]
    },
    {
     "name": "stdout",
     "output_type": "stream",
     "text": [
      "./images/object-detection/parasites/labels/train/000718.txt\n",
      "Warning: No label file found for images/object-detection/parasites/images/train/000718.png\n",
      "./images/object-detection/parasites/labels/train/000219.txt\n",
      "Warning: No label file found for images/object-detection/parasites/images/train/000219.png\n",
      "./images/object-detection/parasites/labels/train/000446.txt\n",
      "Warning: No label file found for images/object-detection/parasites/images/train/000446.png\n",
      "./images/object-detection/parasites/labels/train/000802.txt\n",
      "Warning: No label file found for images/object-detection/parasites/images/train/000802.png\n",
      "./images/object-detection/parasites/labels/train/000187.txt\n",
      "Warning: No label file found for images/object-detection/parasites/images/train/000187.png\n",
      "./images/object-detection/parasites/labels/train/000724.txt\n",
      "Warning: No label file found for images/object-detection/parasites/images/train/000724.png\n",
      "./images/object-detection/parasites/labels/train/000646.txt\n",
      "Warning: No label file found for images/object-detection/parasites/images/train/000646.png\n",
      "./images/object-detection/parasites/labels/train/000345.txt\n",
      "Warning: No label file found for images/object-detection/parasites/images/train/000345.png\n",
      "./images/object-detection/parasites/labels/train/000656.txt\n",
      "Warning: No label file found for images/object-detection/parasites/images/train/000656.png\n",
      "./images/object-detection/parasites/labels/train/000638.txt\n",
      "Warning: No label file found for images/object-detection/parasites/images/train/000638.png\n",
      "./images/object-detection/parasites/labels/train/000053.txt\n",
      "Warning: No label file found for images/object-detection/parasites/images/train/000053.png\n",
      "./images/object-detection/parasites/labels/train/000682.txt\n",
      "Warning: No label file found for images/object-detection/parasites/images/train/000682.png\n",
      "./images/object-detection/parasites/labels/train/000632.txt\n",
      "Warning: No label file found for images/object-detection/parasites/images/train/000632.png\n",
      "./images/object-detection/parasites/labels/train/000400.txt\n",
      "Warning: No label file found for images/object-detection/parasites/images/train/000400.png\n"
     ]
    },
    {
     "name": "stderr",
     "output_type": "stream",
     "text": [
      "Visualizing train ground truth:  45%|███▌    | 331/731 [00:02<00:02, 139.15it/s]"
     ]
    },
    {
     "name": "stdout",
     "output_type": "stream",
     "text": [
      "./images/object-detection/parasites/labels/train/000556.txt\n",
      "Warning: No label file found for images/object-detection/parasites/images/train/000556.png\n",
      "./images/object-detection/parasites/labels/train/000918.txt\n",
      "Warning: No label file found for images/object-detection/parasites/images/train/000918.png\n",
      "./images/object-detection/parasites/labels/train/000848.txt\n",
      "Warning: No label file found for images/object-detection/parasites/images/train/000848.png\n",
      "./images/object-detection/parasites/labels/train/000616.txt\n",
      "Warning: No label file found for images/object-detection/parasites/images/train/000616.png\n"
     ]
    },
    {
     "name": "stderr",
     "output_type": "stream",
     "text": [
      "Visualizing train ground truth:  48%|███▊    | 349/731 [00:02<00:02, 147.24it/s]"
     ]
    },
    {
     "name": "stdout",
     "output_type": "stream",
     "text": [
      "./images/object-detection/parasites/labels/train/000662.txt\n",
      "Warning: No label file found for images/object-detection/parasites/images/train/000662.png\n",
      "./images/object-detection/parasites/labels/train/000469.txt\n",
      "Warning: No label file found for images/object-detection/parasites/images/train/000469.png\n",
      "./images/object-detection/parasites/labels/train/000454.txt\n",
      "Warning: No label file found for images/object-detection/parasites/images/train/000454.png\n",
      "./images/object-detection/parasites/labels/train/000494.txt\n",
      "Warning: No label file found for images/object-detection/parasites/images/train/000494.png\n",
      "./images/object-detection/parasites/labels/train/000700.txt\n",
      "Warning: No label file found for images/object-detection/parasites/images/train/000700.png\n",
      "./images/object-detection/parasites/labels/train/000816.txt\n",
      "Warning: No label file found for images/object-detection/parasites/images/train/000816.png\n",
      "./images/object-detection/parasites/labels/train/000251.txt\n",
      "Warning: No label file found for images/object-detection/parasites/images/train/000251.png\n",
      "./images/object-detection/parasites/labels/train/000916.txt\n",
      "Warning: No label file found for images/object-detection/parasites/images/train/000916.png\n",
      "./images/object-detection/parasites/labels/train/000684.txt\n",
      "Warning: No label file found for images/object-detection/parasites/images/train/000684.png\n",
      "./images/object-detection/parasites/labels/train/000930.txt\n",
      "Warning: No label file found for images/object-detection/parasites/images/train/000930.png\n",
      "./images/object-detection/parasites/labels/train/001048.txt\n",
      "Warning: No label file found for images/object-detection/parasites/images/train/001048.png\n"
     ]
    },
    {
     "name": "stderr",
     "output_type": "stream",
     "text": [
      "Visualizing train ground truth:  50%|███▉    | 364/731 [00:02<00:02, 130.01it/s]"
     ]
    },
    {
     "name": "stdout",
     "output_type": "stream",
     "text": [
      "./images/object-detection/parasites/labels/train/000327.txt\n",
      "Warning: No label file found for images/object-detection/parasites/images/train/000327.png\n",
      "./images/object-detection/parasites/labels/train/000057.txt\n",
      "Warning: No label file found for images/object-detection/parasites/images/train/000057.png\n",
      "./images/object-detection/parasites/labels/train/000956.txt\n",
      "Warning: No label file found for images/object-detection/parasites/images/train/000956.png\n",
      "./images/object-detection/parasites/labels/train/000504.txt\n",
      "Warning: No label file found for images/object-detection/parasites/images/train/000504.png\n",
      "./images/object-detection/parasites/labels/train/000618.txt\n",
      "Warning: No label file found for images/object-detection/parasites/images/train/000618.png\n",
      "./images/object-detection/parasites/labels/train/000087.txt\n",
      "Warning: No label file found for images/object-detection/parasites/images/train/000087.png\n"
     ]
    },
    {
     "name": "stderr",
     "output_type": "stream",
     "text": [
      "Visualizing train ground truth:  52%|████▏   | 378/731 [00:02<00:02, 118.41it/s]"
     ]
    },
    {
     "name": "stdout",
     "output_type": "stream",
     "text": [
      "./images/object-detection/parasites/labels/train/000520.txt\n",
      "Warning: No label file found for images/object-detection/parasites/images/train/000520.png\n"
     ]
    },
    {
     "name": "stderr",
     "output_type": "stream",
     "text": [
      "Visualizing train ground truth:  54%|████▎   | 393/731 [00:02<00:02, 124.38it/s]"
     ]
    },
    {
     "name": "stdout",
     "output_type": "stream",
     "text": [
      "./images/object-detection/parasites/labels/train/001148.txt\n",
      "Warning: No label file found for images/object-detection/parasites/images/train/001148.png\n",
      "./images/object-detection/parasites/labels/train/000738.txt\n",
      "Warning: No label file found for images/object-detection/parasites/images/train/000738.png\n",
      "./images/object-detection/parasites/labels/train/001052.txt\n",
      "Warning: No label file found for images/object-detection/parasites/images/train/001052.png\n",
      "./images/object-detection/parasites/labels/train/001050.txt\n",
      "Warning: No label file found for images/object-detection/parasites/images/train/001050.png\n",
      "./images/object-detection/parasites/labels/train/000152.txt\n",
      "Warning: No label file found for images/object-detection/parasites/images/train/000152.png\n",
      "./images/object-detection/parasites/labels/train/000598.txt\n",
      "Warning: No label file found for images/object-detection/parasites/images/train/000598.png\n",
      "./images/object-detection/parasites/labels/train/000514.txt\n",
      "Warning: No label file found for images/object-detection/parasites/images/train/000514.png\n",
      "./images/object-detection/parasites/labels/train/001080.txt\n",
      "Warning: No label file found for images/object-detection/parasites/images/train/001080.png\n",
      "./images/object-detection/parasites/labels/train/000442.txt\n",
      "Warning: No label file found for images/object-detection/parasites/images/train/000442.png\n",
      "./images/object-detection/parasites/labels/train/001208.txt\n",
      "Warning: No label file found for images/object-detection/parasites/images/train/001208.png\n",
      "./images/object-detection/parasites/labels/train/000890.txt\n",
      "Warning: No label file found for images/object-detection/parasites/images/train/000890.png\n",
      "./images/object-detection/parasites/labels/train/001088.txt\n",
      "Warning: No label file found for images/object-detection/parasites/images/train/001088.png\n",
      "./images/object-detection/parasites/labels/train/000612.txt\n",
      "Warning: No label file found for images/object-detection/parasites/images/train/000612.png\n",
      "./images/object-detection/parasites/labels/train/000155.txt\n",
      "Warning: No label file found for images/object-detection/parasites/images/train/000155.png\n",
      "./images/object-detection/parasites/labels/train/001108.txt\n",
      "Warning: No label file found for images/object-detection/parasites/images/train/001108.png\n",
      "./images/object-detection/parasites/labels/train/001107.txt\n",
      "Warning: No label file found for images/object-detection/parasites/images/train/001107.png\n",
      "./images/object-detection/parasites/labels/train/000285.txt\n",
      "Warning: No label file found for images/object-detection/parasites/images/train/000285.png\n"
     ]
    },
    {
     "name": "stderr",
     "output_type": "stream",
     "text": [
      "Visualizing train ground truth:  56%|████▍   | 411/731 [00:03<00:02, 137.82it/s]"
     ]
    },
    {
     "name": "stdout",
     "output_type": "stream",
     "text": [
      "./images/object-detection/parasites/labels/train/000099.txt\n",
      "Warning: No label file found for images/object-detection/parasites/images/train/000099.png\n",
      "./images/object-detection/parasites/labels/train/001036.txt\n",
      "Warning: No label file found for images/object-detection/parasites/images/train/001036.png\n",
      "./images/object-detection/parasites/labels/train/000041.txt\n",
      "Warning: No label file found for images/object-detection/parasites/images/train/000041.png\n"
     ]
    },
    {
     "name": "stderr",
     "output_type": "stream",
     "text": [
      "Visualizing train ground truth:  59%|████▋   | 428/731 [00:03<00:02, 141.91it/s]"
     ]
    },
    {
     "name": "stdout",
     "output_type": "stream",
     "text": [
      "./images/object-detection/parasites/labels/train/001072.txt\n",
      "Warning: No label file found for images/object-detection/parasites/images/train/001072.png\n",
      "./images/object-detection/parasites/labels/train/001190.txt\n",
      "Warning: No label file found for images/object-detection/parasites/images/train/001190.png\n",
      "./images/object-detection/parasites/labels/train/001004.txt\n",
      "Warning: No label file found for images/object-detection/parasites/images/train/001004.png\n",
      "./images/object-detection/parasites/labels/train/000628.txt\n",
      "Warning: No label file found for images/object-detection/parasites/images/train/000628.png\n",
      "./images/object-detection/parasites/labels/train/000562.txt\n",
      "Warning: No label file found for images/object-detection/parasites/images/train/000562.png\n",
      "./images/object-detection/parasites/labels/train/000814.txt\n",
      "Warning: No label file found for images/object-detection/parasites/images/train/000814.png\n",
      "./images/object-detection/parasites/labels/train/000884.txt\n",
      "Warning: No label file found for images/object-detection/parasites/images/train/000884.png\n",
      "./images/object-detection/parasites/labels/train/000353.txt\n",
      "Warning: No label file found for images/object-detection/parasites/images/train/000353.png\n",
      "./images/object-detection/parasites/labels/train/000331.txt\n",
      "Warning: No label file found for images/object-detection/parasites/images/train/000331.png\n",
      "./images/object-detection/parasites/labels/train/000958.txt\n",
      "Warning: No label file found for images/object-detection/parasites/images/train/000958.png\n",
      "./images/object-detection/parasites/labels/train/000510.txt\n",
      "Warning: No label file found for images/object-detection/parasites/images/train/000510.png\n",
      "./images/object-detection/parasites/labels/train/000438.txt\n",
      "Warning: No label file found for images/object-detection/parasites/images/train/000438.png\n",
      "./images/object-detection/parasites/labels/train/000123.txt\n",
      "Warning: No label file found for images/object-detection/parasites/images/train/000123.png\n"
     ]
    },
    {
     "name": "stderr",
     "output_type": "stream",
     "text": [
      "Visualizing train ground truth:  61%|████▊   | 444/731 [00:03<00:02, 141.99it/s]"
     ]
    },
    {
     "name": "stdout",
     "output_type": "stream",
     "text": [
      "./images/object-detection/parasites/labels/train/000309.txt\n",
      "Warning: No label file found for images/object-detection/parasites/images/train/000309.png\n",
      "./images/object-detection/parasites/labels/train/001206.txt\n",
      "Warning: No label file found for images/object-detection/parasites/images/train/001206.png\n",
      "./images/object-detection/parasites/labels/train/000213.txt\n",
      "Warning: No label file found for images/object-detection/parasites/images/train/000213.png\n",
      "./images/object-detection/parasites/labels/train/000960.txt\n",
      "Warning: No label file found for images/object-detection/parasites/images/train/000960.png\n",
      "./images/object-detection/parasites/labels/train/001084.txt\n",
      "Warning: No label file found for images/object-detection/parasites/images/train/001084.png\n",
      "./images/object-detection/parasites/labels/train/000622.txt\n",
      "Warning: No label file found for images/object-detection/parasites/images/train/000622.png\n",
      "./images/object-detection/parasites/labels/train/000582.txt\n",
      "Warning: No label file found for images/object-detection/parasites/images/train/000582.png\n",
      "./images/object-detection/parasites/labels/train/000564.txt\n",
      "Warning: No label file found for images/object-detection/parasites/images/train/000564.png\n"
     ]
    },
    {
     "name": "stderr",
     "output_type": "stream",
     "text": [
      "Visualizing train ground truth:  63%|█████   | 464/731 [00:03<00:01, 155.17it/s]"
     ]
    },
    {
     "name": "stdout",
     "output_type": "stream",
     "text": [
      "./images/object-detection/parasites/labels/train/000778.txt\n",
      "Warning: No label file found for images/object-detection/parasites/images/train/000778.png\n",
      "./images/object-detection/parasites/labels/train/001186.txt\n",
      "Warning: No label file found for images/object-detection/parasites/images/train/001186.png\n",
      "./images/object-detection/parasites/labels/train/000424.txt\n",
      "Warning: No label file found for images/object-detection/parasites/images/train/000424.png\n",
      "./images/object-detection/parasites/labels/train/001002.txt\n",
      "Warning: No label file found for images/object-detection/parasites/images/train/001002.png\n",
      "./images/object-detection/parasites/labels/train/000966.txt\n",
      "Warning: No label file found for images/object-detection/parasites/images/train/000966.png\n",
      "./images/object-detection/parasites/labels/train/000367.txt\n",
      "Warning: No label file found for images/object-detection/parasites/images/train/000367.png\n"
     ]
    },
    {
     "name": "stderr",
     "output_type": "stream",
     "text": [
      "Visualizing train ground truth:  66%|█████▎  | 480/731 [00:03<00:01, 144.14it/s]"
     ]
    },
    {
     "name": "stdout",
     "output_type": "stream",
     "text": [
      "./images/object-detection/parasites/labels/train/000197.txt\n",
      "Warning: No label file found for images/object-detection/parasites/images/train/000197.png\n",
      "./images/object-detection/parasites/labels/train/000824.txt\n",
      "Warning: No label file found for images/object-detection/parasites/images/train/000824.png\n",
      "./images/object-detection/parasites/labels/train/000525.txt\n",
      "Warning: No label file found for images/object-detection/parasites/images/train/000525.png\n",
      "./images/object-detection/parasites/labels/train/001044.txt\n",
      "Warning: No label file found for images/object-detection/parasites/images/train/001044.png\n",
      "./images/object-detection/parasites/labels/train/000075.txt\n",
      "Warning: No label file found for images/object-detection/parasites/images/train/000075.png\n",
      "./images/object-detection/parasites/labels/train/000225.txt\n",
      "Warning: No label file found for images/object-detection/parasites/images/train/000225.png\n",
      "./images/object-detection/parasites/labels/train/000096.txt\n",
      "Warning: No label file found for images/object-detection/parasites/images/train/000096.png\n"
     ]
    },
    {
     "name": "stderr",
     "output_type": "stream",
     "text": [
      "Visualizing train ground truth:  68%|█████▍  | 495/731 [00:03<00:01, 144.63it/s]"
     ]
    },
    {
     "name": "stdout",
     "output_type": "stream",
     "text": [
      "./images/object-detection/parasites/labels/train/000926.txt\n",
      "Warning: No label file found for images/object-detection/parasites/images/train/000926.png\n",
      "./images/object-detection/parasites/labels/train/000171.txt\n",
      "Warning: No label file found for images/object-detection/parasites/images/train/000171.png\n",
      "./images/object-detection/parasites/labels/train/001104.txt\n",
      "Warning: No label file found for images/object-detection/parasites/images/train/001104.png\n",
      "./images/object-detection/parasites/labels/train/001034.txt\n",
      "Warning: No label file found for images/object-detection/parasites/images/train/001034.png\n",
      "./images/object-detection/parasites/labels/train/000085.txt\n",
      "Warning: No label file found for images/object-detection/parasites/images/train/000085.png\n",
      "./images/object-detection/parasites/labels/train/001138.txt\n",
      "Warning: No label file found for images/object-detection/parasites/images/train/001138.png\n",
      "./images/object-detection/parasites/labels/train/000376.txt\n",
      "Warning: No label file found for images/object-detection/parasites/images/train/000376.png\n",
      "./images/object-detection/parasites/labels/train/000644.txt\n",
      "Warning: No label file found for images/object-detection/parasites/images/train/000644.png\n",
      "./images/object-detection/parasites/labels/train/000944.txt\n",
      "Warning: No label file found for images/object-detection/parasites/images/train/000944.png\n",
      "./images/object-detection/parasites/labels/train/000908.txt\n",
      "Warning: No label file found for images/object-detection/parasites/images/train/000908.png\n"
     ]
    },
    {
     "name": "stderr",
     "output_type": "stream",
     "text": [
      "Visualizing train ground truth:  72%|█████▋  | 523/731 [00:03<00:01, 118.53it/s]"
     ]
    },
    {
     "name": "stdout",
     "output_type": "stream",
     "text": [
      "./images/object-detection/parasites/labels/train/000305.txt\n",
      "Warning: No label file found for images/object-detection/parasites/images/train/000305.png\n",
      "./images/object-detection/parasites/labels/train/001018.txt\n",
      "Warning: No label file found for images/object-detection/parasites/images/train/001018.png\n",
      "./images/object-detection/parasites/labels/train/000580.txt\n",
      "Warning: No label file found for images/object-detection/parasites/images/train/000580.png\n",
      "./images/object-detection/parasites/labels/train/000453.txt\n",
      "Warning: No label file found for images/object-detection/parasites/images/train/000453.png\n",
      "./images/object-detection/parasites/labels/train/000462.txt\n",
      "Warning: No label file found for images/object-detection/parasites/images/train/000462.png\n",
      "./images/object-detection/parasites/labels/train/000283.txt\n",
      "Warning: No label file found for images/object-detection/parasites/images/train/000283.png\n"
     ]
    },
    {
     "name": "stderr",
     "output_type": "stream",
     "text": [
      "Visualizing train ground truth:  73%|█████▊  | 536/731 [00:04<00:01, 114.76it/s]"
     ]
    },
    {
     "name": "stdout",
     "output_type": "stream",
     "text": [
      "./images/object-detection/parasites/labels/train/000698.txt\n",
      "Warning: No label file found for images/object-detection/parasites/images/train/000698.png\n",
      "./images/object-detection/parasites/labels/train/001184.txt\n",
      "Warning: No label file found for images/object-detection/parasites/images/train/001184.png\n",
      "./images/object-detection/parasites/labels/train/001214.txt\n",
      "Warning: No label file found for images/object-detection/parasites/images/train/001214.png\n",
      "./images/object-detection/parasites/labels/train/000295.txt\n",
      "Warning: No label file found for images/object-detection/parasites/images/train/000295.png\n",
      "./images/object-detection/parasites/labels/train/001134.txt\n",
      "Warning: No label file found for images/object-detection/parasites/images/train/001134.png\n",
      "./images/object-detection/parasites/labels/train/000103.txt\n",
      "Warning: No label file found for images/object-detection/parasites/images/train/000103.png\n",
      "./images/object-detection/parasites/labels/train/001070.txt\n",
      "Warning: No label file found for images/object-detection/parasites/images/train/001070.png\n",
      "./images/object-detection/parasites/labels/train/000788.txt\n",
      "Warning: No label file found for images/object-detection/parasites/images/train/000788.png\n",
      "./images/object-detection/parasites/labels/train/000470.txt\n",
      "Warning: No label file found for images/object-detection/parasites/images/train/000470.png\n",
      "./images/object-detection/parasites/labels/train/000826.txt\n",
      "Warning: No label file found for images/object-detection/parasites/images/train/000826.png\n"
     ]
    },
    {
     "name": "stderr",
     "output_type": "stream",
     "text": [
      "Visualizing train ground truth:  76%|██████  | 552/731 [00:04<00:01, 122.10it/s]"
     ]
    },
    {
     "name": "stdout",
     "output_type": "stream",
     "text": [
      "./images/object-detection/parasites/labels/train/000185.txt\n",
      "Warning: No label file found for images/object-detection/parasites/images/train/000185.png\n",
      "./images/object-detection/parasites/labels/train/000217.txt\n",
      "Warning: No label file found for images/object-detection/parasites/images/train/000217.png\n",
      "./images/object-detection/parasites/labels/train/000746.txt\n",
      "Warning: No label file found for images/object-detection/parasites/images/train/000746.png\n",
      "./images/object-detection/parasites/labels/train/000782.txt\n",
      "Warning: No label file found for images/object-detection/parasites/images/train/000782.png\n",
      "./images/object-detection/parasites/labels/train/001175.txt\n",
      "Warning: No label file found for images/object-detection/parasites/images/train/001175.png\n",
      "./images/object-detection/parasites/labels/train/000460.txt\n",
      "Warning: No label file found for images/object-detection/parasites/images/train/000460.png\n",
      "./images/object-detection/parasites/labels/train/000784.txt\n",
      "Warning: No label file found for images/object-detection/parasites/images/train/000784.png\n",
      "./images/object-detection/parasites/labels/train/000964.txt\n",
      "Warning: No label file found for images/object-detection/parasites/images/train/000964.png\n",
      "./images/object-detection/parasites/labels/train/000740.txt\n",
      "Warning: No label file found for images/object-detection/parasites/images/train/000740.png\n",
      "./images/object-detection/parasites/labels/train/000828.txt\n",
      "Warning: No label file found for images/object-detection/parasites/images/train/000828.png\n",
      "./images/object-detection/parasites/labels/train/000408.txt\n",
      "Warning: No label file found for images/object-detection/parasites/images/train/000408.png\n"
     ]
    },
    {
     "name": "stderr",
     "output_type": "stream",
     "text": [
      "Visualizing train ground truth:  78%|██████▏ | 571/731 [00:04<00:01, 139.51it/s]"
     ]
    },
    {
     "name": "stdout",
     "output_type": "stream",
     "text": [
      "./images/object-detection/parasites/labels/train/001205.txt\n",
      "Warning: No label file found for images/object-detection/parasites/images/train/001205.png\n",
      "./images/object-detection/parasites/labels/train/000163.txt\n",
      "Warning: No label file found for images/object-detection/parasites/images/train/000163.png\n",
      "./images/object-detection/parasites/labels/train/000952.txt\n",
      "Warning: No label file found for images/object-detection/parasites/images/train/000952.png\n",
      "./images/object-detection/parasites/labels/train/000950.txt\n",
      "Warning: No label file found for images/object-detection/parasites/images/train/000950.png\n",
      "./images/object-detection/parasites/labels/train/001156.txt\n",
      "Warning: No label file found for images/object-detection/parasites/images/train/001156.png\n",
      "./images/object-detection/parasites/labels/train/000253.txt\n",
      "Warning: No label file found for images/object-detection/parasites/images/train/000253.png\n",
      "./images/object-detection/parasites/labels/train/000135.txt\n",
      "Warning: No label file found for images/object-detection/parasites/images/train/000135.png\n"
     ]
    },
    {
     "name": "stderr",
     "output_type": "stream",
     "text": [
      "Visualizing train ground truth:  80%|██████▍ | 586/731 [00:04<00:01, 134.08it/s]"
     ]
    },
    {
     "name": "stdout",
     "output_type": "stream",
     "text": [
      "./images/object-detection/parasites/labels/train/001199.txt\n",
      "Warning: No label file found for images/object-detection/parasites/images/train/001199.png\n",
      "./images/object-detection/parasites/labels/train/000441.txt\n",
      "Warning: No label file found for images/object-detection/parasites/images/train/000441.png\n"
     ]
    },
    {
     "name": "stderr",
     "output_type": "stream",
     "text": [
      "Visualizing train ground truth:  86%|██████▊ | 626/731 [00:04<00:00, 162.98it/s]"
     ]
    },
    {
     "name": "stdout",
     "output_type": "stream",
     "text": [
      "./images/object-detection/parasites/labels/train/000532.txt\n",
      "Warning: No label file found for images/object-detection/parasites/images/train/000532.png\n",
      "./images/object-detection/parasites/labels/train/000247.txt\n",
      "Warning: No label file found for images/object-detection/parasites/images/train/000247.png\n",
      "./images/object-detection/parasites/labels/train/000422.txt\n",
      "Warning: No label file found for images/object-detection/parasites/images/train/000422.png\n",
      "./images/object-detection/parasites/labels/train/000245.txt\n",
      "Warning: No label file found for images/object-detection/parasites/images/train/000245.png\n",
      "./images/object-detection/parasites/labels/train/000758.txt\n",
      "Warning: No label file found for images/object-detection/parasites/images/train/000758.png\n",
      "./images/object-detection/parasites/labels/train/000269.txt\n",
      "Warning: No label file found for images/object-detection/parasites/images/train/000269.png\n",
      "./images/object-detection/parasites/labels/train/000573.txt\n",
      "Warning: No label file found for images/object-detection/parasites/images/train/000573.png\n",
      "./images/object-detection/parasites/labels/train/000676.txt\n",
      "Warning: No label file found for images/object-detection/parasites/images/train/000676.png\n",
      "./images/object-detection/parasites/labels/train/000250.txt\n",
      "Warning: No label file found for images/object-detection/parasites/images/train/000250.png\n",
      "./images/object-detection/parasites/labels/train/000552.txt\n",
      "Warning: No label file found for images/object-detection/parasites/images/train/000552.png\n",
      "./images/object-detection/parasites/labels/train/000672.txt\n",
      "Warning: No label file found for images/object-detection/parasites/images/train/000672.png\n",
      "./images/object-detection/parasites/labels/train/000932.txt\n",
      "Warning: No label file found for images/object-detection/parasites/images/train/000932.png\n",
      "./images/object-detection/parasites/labels/train/000241.txt\n",
      "Warning: No label file found for images/object-detection/parasites/images/train/000241.png\n",
      "./images/object-detection/parasites/labels/train/000193.txt\n",
      "Warning: No label file found for images/object-detection/parasites/images/train/000193.png\n",
      "./images/object-detection/parasites/labels/train/000986.txt\n",
      "Warning: No label file found for images/object-detection/parasites/images/train/000986.png\n",
      "./images/object-detection/parasites/labels/train/000045.txt\n",
      "Warning: No label file found for images/object-detection/parasites/images/train/000045.png\n",
      "./images/object-detection/parasites/labels/train/000770.txt\n",
      "Warning: No label file found for images/object-detection/parasites/images/train/000770.png\n",
      "./images/object-detection/parasites/labels/train/000333.txt\n",
      "Warning: No label file found for images/object-detection/parasites/images/train/000333.png\n",
      "./images/object-detection/parasites/labels/train/000588.txt\n",
      "Warning: No label file found for images/object-detection/parasites/images/train/000588.png\n",
      "./images/object-detection/parasites/labels/train/000864.txt\n",
      "Warning: No label file found for images/object-detection/parasites/images/train/000864.png\n",
      "./images/object-detection/parasites/labels/train/001120.txt\n",
      "Warning: No label file found for images/object-detection/parasites/images/train/001120.png\n",
      "./images/object-detection/parasites/labels/train/001098.txt\n",
      "Warning: No label file found for images/object-detection/parasites/images/train/001098.png\n",
      "./images/object-detection/parasites/labels/train/000596.txt\n",
      "Warning: No label file found for images/object-detection/parasites/images/train/000596.png\n",
      "./images/object-detection/parasites/labels/train/001123.txt\n",
      "Warning: No label file found for images/object-detection/parasites/images/train/001123.png\n",
      "./images/object-detection/parasites/labels/train/000928.txt\n",
      "Warning: No label file found for images/object-detection/parasites/images/train/000928.png\n",
      "./images/object-detection/parasites/labels/train/000846.txt\n",
      "Warning: No label file found for images/object-detection/parasites/images/train/000846.png\n",
      "./images/object-detection/parasites/labels/train/000522.txt\n",
      "Warning: No label file found for images/object-detection/parasites/images/train/000522.png\n",
      "./images/object-detection/parasites/labels/train/000062.txt\n",
      "Warning: No label file found for images/object-detection/parasites/images/train/000062.png\n",
      "./images/object-detection/parasites/labels/train/000818.txt\n",
      "Warning: No label file found for images/object-detection/parasites/images/train/000818.png\n"
     ]
    },
    {
     "name": "stderr",
     "output_type": "stream",
     "text": [
      "Visualizing train ground truth:  90%|███████▏| 660/731 [00:04<00:00, 159.80it/s]"
     ]
    },
    {
     "name": "stdout",
     "output_type": "stream",
     "text": [
      "./images/object-detection/parasites/labels/train/000716.txt\n",
      "Warning: No label file found for images/object-detection/parasites/images/train/000716.png\n",
      "./images/object-detection/parasites/labels/train/000139.txt\n",
      "Warning: No label file found for images/object-detection/parasites/images/train/000139.png\n",
      "./images/object-detection/parasites/labels/train/001128.txt\n",
      "Warning: No label file found for images/object-detection/parasites/images/train/001128.png\n",
      "./images/object-detection/parasites/labels/train/000467.txt\n",
      "Warning: No label file found for images/object-detection/parasites/images/train/000467.png\n",
      "./images/object-detection/parasites/labels/train/000968.txt\n",
      "Warning: No label file found for images/object-detection/parasites/images/train/000968.png\n",
      "./images/object-detection/parasites/labels/train/000498.txt\n",
      "Warning: No label file found for images/object-detection/parasites/images/train/000498.png\n",
      "./images/object-detection/parasites/labels/train/000990.txt\n",
      "Warning: No label file found for images/object-detection/parasites/images/train/000990.png\n",
      "./images/object-detection/parasites/labels/train/000349.txt\n",
      "Warning: No label file found for images/object-detection/parasites/images/train/000349.png\n",
      "./images/object-detection/parasites/labels/train/000159.txt\n",
      "Warning: No label file found for images/object-detection/parasites/images/train/000159.png\n",
      "./images/object-detection/parasites/labels/train/001064.txt\n",
      "Warning: No label file found for images/object-detection/parasites/images/train/001064.png\n",
      "./images/object-detection/parasites/labels/train/001090.txt\n",
      "Warning: No label file found for images/object-detection/parasites/images/train/001090.png\n",
      "./images/object-detection/parasites/labels/train/000640.txt\n",
      "Warning: No label file found for images/object-detection/parasites/images/train/000640.png\n",
      "./images/object-detection/parasites/labels/train/000910.txt\n",
      "Warning: No label file found for images/object-detection/parasites/images/train/000910.png\n",
      "./images/object-detection/parasites/labels/train/000090.txt\n",
      "Warning: No label file found for images/object-detection/parasites/images/train/000090.png\n",
      "./images/object-detection/parasites/labels/train/000335.txt\n",
      "Warning: No label file found for images/object-detection/parasites/images/train/000335.png\n",
      "./images/object-detection/parasites/labels/train/001014.txt\n",
      "Warning: No label file found for images/object-detection/parasites/images/train/001014.png\n"
     ]
    },
    {
     "name": "stderr",
     "output_type": "stream",
     "text": [
      "Visualizing train ground truth:  93%|███████▍| 677/731 [00:04<00:00, 159.79it/s]"
     ]
    },
    {
     "name": "stdout",
     "output_type": "stream",
     "text": [
      "./images/object-detection/parasites/labels/train/000942.txt\n",
      "Warning: No label file found for images/object-detection/parasites/images/train/000942.png\n",
      "./images/object-detection/parasites/labels/train/001176.txt\n",
      "Warning: No label file found for images/object-detection/parasites/images/train/001176.png\n",
      "./images/object-detection/parasites/labels/train/001062.txt\n",
      "Warning: No label file found for images/object-detection/parasites/images/train/001062.png\n",
      "./images/object-detection/parasites/labels/train/000976.txt\n",
      "Warning: No label file found for images/object-detection/parasites/images/train/000976.png\n",
      "./images/object-detection/parasites/labels/train/001218.txt\n",
      "Warning: No label file found for images/object-detection/parasites/images/train/001218.png\n",
      "./images/object-detection/parasites/labels/train/000874.txt\n",
      "Warning: No label file found for images/object-detection/parasites/images/train/000874.png\n",
      "./images/object-detection/parasites/labels/train/000069.txt\n",
      "Warning: No label file found for images/object-detection/parasites/images/train/000069.png\n",
      "./images/object-detection/parasites/labels/train/001026.txt\n",
      "Warning: No label file found for images/object-detection/parasites/images/train/001026.png\n"
     ]
    },
    {
     "name": "stderr",
     "output_type": "stream",
     "text": [
      "Visualizing train ground truth:  95%|███████▌| 694/731 [00:05<00:00, 141.73it/s]"
     ]
    },
    {
     "name": "stdout",
     "output_type": "stream",
     "text": [
      "./images/object-detection/parasites/labels/train/000273.txt\n",
      "Warning: No label file found for images/object-detection/parasites/images/train/000273.png\n",
      "./images/object-detection/parasites/labels/train/000107.txt\n",
      "Warning: No label file found for images/object-detection/parasites/images/train/000107.png\n"
     ]
    },
    {
     "name": "stderr",
     "output_type": "stream",
     "text": [
      "Visualizing train ground truth:  97%|███████▊| 712/731 [00:05<00:00, 149.40it/s]"
     ]
    },
    {
     "name": "stdout",
     "output_type": "stream",
     "text": [
      "./images/object-detection/parasites/labels/train/001178.txt\n",
      "Warning: No label file found for images/object-detection/parasites/images/train/001178.png\n",
      "./images/object-detection/parasites/labels/train/000606.txt\n",
      "Warning: No label file found for images/object-detection/parasites/images/train/000606.png\n",
      "./images/object-detection/parasites/labels/train/000173.txt\n",
      "Warning: No label file found for images/object-detection/parasites/images/train/000173.png\n",
      "./images/object-detection/parasites/labels/train/000167.txt\n",
      "Warning: No label file found for images/object-detection/parasites/images/train/000167.png\n",
      "./images/object-detection/parasites/labels/train/000546.txt\n",
      "Warning: No label file found for images/object-detection/parasites/images/train/000546.png\n",
      "./images/object-detection/parasites/labels/train/000538.txt\n",
      "Warning: No label file found for images/object-detection/parasites/images/train/000538.png\n",
      "./images/object-detection/parasites/labels/train/000199.txt\n",
      "Warning: No label file found for images/object-detection/parasites/images/train/000199.png\n",
      "./images/object-detection/parasites/labels/train/000690.txt\n",
      "Warning: No label file found for images/object-detection/parasites/images/train/000690.png\n",
      "./images/object-detection/parasites/labels/train/001142.txt\n",
      "Warning: No label file found for images/object-detection/parasites/images/train/001142.png\n",
      "./images/object-detection/parasites/labels/train/000138.txt\n",
      "Warning: No label file found for images/object-detection/parasites/images/train/000138.png\n",
      "./images/object-detection/parasites/labels/train/000602.txt\n",
      "Warning: No label file found for images/object-detection/parasites/images/train/000602.png\n",
      "./images/object-detection/parasites/labels/train/000786.txt\n",
      "Warning: No label file found for images/object-detection/parasites/images/train/000786.png\n",
      "./images/object-detection/parasites/labels/train/000131.txt\n",
      "Warning: No label file found for images/object-detection/parasites/images/train/000131.png\n"
     ]
    },
    {
     "name": "stderr",
     "output_type": "stream",
     "text": [
      "Visualizing train ground truth: 100%|████████| 731/731 [00:05<00:00, 135.94it/s]\n"
     ]
    },
    {
     "name": "stdout",
     "output_type": "stream",
     "text": [
      "./images/object-detection/parasites/labels/train/000307.txt\n",
      "Warning: No label file found for images/object-detection/parasites/images/train/000307.png\n",
      "./images/object-detection/parasites/labels/train/000983.txt\n",
      "Warning: No label file found for images/object-detection/parasites/images/train/000983.png\n",
      "./images/object-detection/parasites/labels/train/000073.txt\n",
      "Warning: No label file found for images/object-detection/parasites/images/train/000073.png\n",
      "Processing val ground truth...\n"
     ]
    },
    {
     "name": "stderr",
     "output_type": "stream",
     "text": [
      "Visualizing val ground truth:  10%|█          | 24/243 [00:00<00:01, 119.28it/s]"
     ]
    },
    {
     "name": "stdout",
     "output_type": "stream",
     "text": [
      "./images/object-detection/parasites/labels/val/000384.txt\n",
      "Warning: No label file found for images/object-detection/parasites/images/val/000384.png\n",
      "./images/object-detection/parasites/labels/val/000303.txt\n",
      "Warning: No label file found for images/object-detection/parasites/images/val/000303.png\n",
      "./images/object-detection/parasites/labels/val/000608.txt\n",
      "Warning: No label file found for images/object-detection/parasites/images/val/000608.png\n",
      "./images/object-detection/parasites/labels/val/000133.txt\n",
      "Warning: No label file found for images/object-detection/parasites/images/val/000133.png\n",
      "./images/object-detection/parasites/labels/val/000704.txt\n",
      "Warning: No label file found for images/object-detection/parasites/images/val/000704.png\n",
      "./images/object-detection/parasites/labels/val/001196.txt\n",
      "Warning: No label file found for images/object-detection/parasites/images/val/001196.png\n",
      "./images/object-detection/parasites/labels/val/000486.txt\n",
      "Warning: No label file found for images/object-detection/parasites/images/val/000486.png\n",
      "./images/object-detection/parasites/labels/val/001022.txt\n",
      "Warning: No label file found for images/object-detection/parasites/images/val/001022.png\n",
      "./images/object-detection/parasites/labels/val/000127.txt\n",
      "Warning: No label file found for images/object-detection/parasites/images/val/000127.png\n",
      "./images/object-detection/parasites/labels/val/000277.txt\n",
      "Warning: No label file found for images/object-detection/parasites/images/val/000277.png\n",
      "./images/object-detection/parasites/labels/val/000227.txt\n",
      "Warning: No label file found for images/object-detection/parasites/images/val/000227.png\n",
      "./images/object-detection/parasites/labels/val/000518.txt\n",
      "Warning: No label file found for images/object-detection/parasites/images/val/000518.png\n",
      "./images/object-detection/parasites/labels/val/000830.txt\n",
      "Warning: No label file found for images/object-detection/parasites/images/val/000830.png\n",
      "./images/object-detection/parasites/labels/val/000412.txt\n",
      "Warning: No label file found for images/object-detection/parasites/images/val/000412.png\n"
     ]
    },
    {
     "name": "stderr",
     "output_type": "stream",
     "text": [
      "Visualizing val ground truth:  19%|██▎         | 46/243 [00:00<00:02, 73.75it/s]"
     ]
    },
    {
     "name": "stdout",
     "output_type": "stream",
     "text": [
      "./images/object-detection/parasites/labels/val/000229.txt\n",
      "Warning: No label file found for images/object-detection/parasites/images/val/000229.png\n",
      "./images/object-detection/parasites/labels/val/000576.txt\n",
      "Warning: No label file found for images/object-detection/parasites/images/val/000576.png\n",
      "./images/object-detection/parasites/labels/val/000472.txt\n",
      "Warning: No label file found for images/object-detection/parasites/images/val/000472.png\n",
      "./images/object-detection/parasites/labels/val/000706.txt\n",
      "Warning: No label file found for images/object-detection/parasites/images/val/000706.png\n",
      "./images/object-detection/parasites/labels/val/000962.txt\n",
      "Warning: No label file found for images/object-detection/parasites/images/val/000962.png\n",
      "./images/object-detection/parasites/labels/val/000542.txt\n",
      "Warning: No label file found for images/object-detection/parasites/images/val/000542.png\n",
      "./images/object-detection/parasites/labels/val/000948.txt\n",
      "Warning: No label file found for images/object-detection/parasites/images/val/000948.png\n",
      "./images/object-detection/parasites/labels/val/000592.txt\n",
      "Warning: No label file found for images/object-detection/parasites/images/val/000592.png\n",
      "./images/object-detection/parasites/labels/val/001040.txt\n",
      "Warning: No label file found for images/object-detection/parasites/images/val/001040.png\n",
      "./images/object-detection/parasites/labels/val/000804.txt\n",
      "Warning: No label file found for images/object-detection/parasites/images/val/000804.png\n"
     ]
    },
    {
     "name": "stderr",
     "output_type": "stream",
     "text": [
      "Visualizing val ground truth:  33%|███▌       | 79/243 [00:00<00:01, 117.07it/s]"
     ]
    },
    {
     "name": "stdout",
     "output_type": "stream",
     "text": [
      "./images/object-detection/parasites/labels/val/000545.txt\n",
      "Warning: No label file found for images/object-detection/parasites/images/val/000545.png\n",
      "./images/object-detection/parasites/labels/val/000371.txt\n",
      "Warning: No label file found for images/object-detection/parasites/images/val/000371.png\n",
      "./images/object-detection/parasites/labels/val/000456.txt\n",
      "Warning: No label file found for images/object-detection/parasites/images/val/000456.png\n",
      "./images/object-detection/parasites/labels/val/000768.txt\n",
      "Warning: No label file found for images/object-detection/parasites/images/val/000768.png\n",
      "./images/object-detection/parasites/labels/val/000888.txt\n",
      "Warning: No label file found for images/object-detection/parasites/images/val/000888.png\n",
      "./images/object-detection/parasites/labels/val/001118.txt\n",
      "Warning: No label file found for images/object-detection/parasites/images/val/001118.png\n",
      "./images/object-detection/parasites/labels/val/000147.txt\n",
      "Warning: No label file found for images/object-detection/parasites/images/val/000147.png\n",
      "./images/object-detection/parasites/labels/val/000527.txt\n",
      "Warning: No label file found for images/object-detection/parasites/images/val/000527.png\n",
      "./images/object-detection/parasites/labels/val/000752.txt\n",
      "Warning: No label file found for images/object-detection/parasites/images/val/000752.png\n",
      "./images/object-detection/parasites/labels/val/000484.txt\n",
      "Warning: No label file found for images/object-detection/parasites/images/val/000484.png\n",
      "./images/object-detection/parasites/labels/val/000238.txt\n",
      "Warning: No label file found for images/object-detection/parasites/images/val/000238.png\n",
      "./images/object-detection/parasites/labels/val/000934.txt\n",
      "Warning: No label file found for images/object-detection/parasites/images/val/000934.png\n",
      "./images/object-detection/parasites/labels/val/000261.txt\n",
      "Warning: No label file found for images/object-detection/parasites/images/val/000261.png\n",
      "./images/object-detection/parasites/labels/val/000125.txt\n",
      "Warning: No label file found for images/object-detection/parasites/images/val/000125.png\n",
      "./images/object-detection/parasites/labels/val/000257.txt\n",
      "Warning: No label file found for images/object-detection/parasites/images/val/000257.png\n",
      "./images/object-detection/parasites/labels/val/000369.txt\n",
      "Warning: No label file found for images/object-detection/parasites/images/val/000369.png\n",
      "./images/object-detection/parasites/labels/val/000056.txt\n",
      "Warning: No label file found for images/object-detection/parasites/images/val/000056.png\n"
     ]
    },
    {
     "name": "stderr",
     "output_type": "stream",
     "text": [
      "Visualizing val ground truth:  47%|████▋     | 113/243 [00:01<00:00, 139.98it/s]"
     ]
    },
    {
     "name": "stdout",
     "output_type": "stream",
     "text": [
      "./images/object-detection/parasites/labels/val/000886.txt\n",
      "Warning: No label file found for images/object-detection/parasites/images/val/000886.png\n",
      "./images/object-detection/parasites/labels/val/000710.txt\n",
      "Warning: No label file found for images/object-detection/parasites/images/val/000710.png\n",
      "./images/object-detection/parasites/labels/val/001116.txt\n",
      "Warning: No label file found for images/object-detection/parasites/images/val/001116.png\n",
      "./images/object-detection/parasites/labels/val/000404.txt\n",
      "Warning: No label file found for images/object-detection/parasites/images/val/000404.png\n",
      "./images/object-detection/parasites/labels/val/000590.txt\n",
      "Warning: No label file found for images/object-detection/parasites/images/val/000590.png\n",
      "./images/object-detection/parasites/labels/val/001189.txt\n",
      "Warning: No label file found for images/object-detection/parasites/images/val/001189.png\n",
      "./images/object-detection/parasites/labels/val/000792.txt\n",
      "Warning: No label file found for images/object-detection/parasites/images/val/000792.png\n",
      "./images/object-detection/parasites/labels/val/000516.txt\n",
      "Warning: No label file found for images/object-detection/parasites/images/val/000516.png\n",
      "./images/object-detection/parasites/labels/val/000722.txt\n",
      "Warning: No label file found for images/object-detection/parasites/images/val/000722.png\n",
      "./images/object-detection/parasites/labels/val/001100.txt\n",
      "Warning: No label file found for images/object-detection/parasites/images/val/001100.png\n",
      "./images/object-detection/parasites/labels/val/000898.txt\n",
      "Warning: No label file found for images/object-detection/parasites/images/val/000898.png\n",
      "./images/object-detection/parasites/labels/val/000339.txt\n",
      "Warning: No label file found for images/object-detection/parasites/images/val/000339.png\n",
      "./images/object-detection/parasites/labels/val/001140.txt\n",
      "Warning: No label file found for images/object-detection/parasites/images/val/001140.png\n",
      "./images/object-detection/parasites/labels/val/000992.txt\n",
      "Warning: No label file found for images/object-detection/parasites/images/val/000992.png\n",
      "./images/object-detection/parasites/labels/val/000067.txt\n",
      "Warning: No label file found for images/object-detection/parasites/images/val/000067.png\n",
      "./images/object-detection/parasites/labels/val/000924.txt\n",
      "Warning: No label file found for images/object-detection/parasites/images/val/000924.png\n",
      "./images/object-detection/parasites/labels/val/000361.txt\n",
      "Warning: No label file found for images/object-detection/parasites/images/val/000361.png\n"
     ]
    },
    {
     "name": "stderr",
     "output_type": "stream",
     "text": [
      "Visualizing val ground truth:  59%|█████▉    | 143/243 [00:01<00:00, 130.77it/s]"
     ]
    },
    {
     "name": "stdout",
     "output_type": "stream",
     "text": [
      "./images/object-detection/parasites/labels/val/000392.txt\n",
      "Warning: No label file found for images/object-detection/parasites/images/val/000392.png\n",
      "./images/object-detection/parasites/labels/val/000110.txt\n",
      "Warning: No label file found for images/object-detection/parasites/images/val/000110.png\n",
      "./images/object-detection/parasites/labels/val/001168.txt\n",
      "Warning: No label file found for images/object-detection/parasites/images/val/001168.png\n",
      "./images/object-detection/parasites/labels/val/000297.txt\n",
      "Warning: No label file found for images/object-detection/parasites/images/val/000297.png\n",
      "./images/object-detection/parasites/labels/val/000420.txt\n",
      "Warning: No label file found for images/object-detection/parasites/images/val/000420.png\n",
      "./images/object-detection/parasites/labels/val/000892.txt\n",
      "Warning: No label file found for images/object-detection/parasites/images/val/000892.png\n",
      "./images/object-detection/parasites/labels/val/001075.txt\n",
      "Warning: No label file found for images/object-detection/parasites/images/val/001075.png\n",
      "./images/object-detection/parasites/labels/val/000388.txt\n",
      "Warning: No label file found for images/object-detection/parasites/images/val/000388.png\n",
      "./images/object-detection/parasites/labels/val/000459.txt\n",
      "Warning: No label file found for images/object-detection/parasites/images/val/000459.png\n",
      "./images/object-detection/parasites/labels/val/000668.txt\n",
      "Warning: No label file found for images/object-detection/parasites/images/val/000668.png\n",
      "./images/object-detection/parasites/labels/val/000637.txt\n",
      "Warning: No label file found for images/object-detection/parasites/images/val/000637.png\n",
      "./images/object-detection/parasites/labels/val/001195.txt\n",
      "Warning: No label file found for images/object-detection/parasites/images/val/001195.png\n",
      "./images/object-detection/parasites/labels/val/000221.txt\n",
      "Warning: No label file found for images/object-detection/parasites/images/val/000221.png\n",
      "./images/object-detection/parasites/labels/val/000856.txt\n",
      "Warning: No label file found for images/object-detection/parasites/images/val/000856.png\n",
      "./images/object-detection/parasites/labels/val/000604.txt\n",
      "Warning: No label file found for images/object-detection/parasites/images/val/000604.png\n",
      "./images/object-detection/parasites/labels/val/000267.txt\n",
      "Warning: No label file found for images/object-detection/parasites/images/val/000267.png\n",
      "./images/object-detection/parasites/labels/val/000195.txt\n",
      "Warning: No label file found for images/object-detection/parasites/images/val/000195.png\n"
     ]
    },
    {
     "name": "stderr",
     "output_type": "stream",
     "text": [
      "Visualizing val ground truth:  74%|███████▍  | 181/243 [00:01<00:00, 150.74it/s]"
     ]
    },
    {
     "name": "stdout",
     "output_type": "stream",
     "text": [
      "./images/object-detection/parasites/labels/val/000512.txt\n",
      "Warning: No label file found for images/object-detection/parasites/images/val/000512.png\n",
      "./images/object-detection/parasites/labels/val/000624.txt\n",
      "Warning: No label file found for images/object-detection/parasites/images/val/000624.png\n",
      "./images/object-detection/parasites/labels/val/001092.txt\n",
      "Warning: No label file found for images/object-detection/parasites/images/val/001092.png\n",
      "./images/object-detection/parasites/labels/val/000860.txt\n",
      "Warning: No label file found for images/object-detection/parasites/images/val/000860.png\n",
      "./images/object-detection/parasites/labels/val/000291.txt\n",
      "Warning: No label file found for images/object-detection/parasites/images/val/000291.png\n",
      "./images/object-detection/parasites/labels/val/000418.txt\n",
      "Warning: No label file found for images/object-detection/parasites/images/val/000418.png\n",
      "./images/object-detection/parasites/labels/val/001086.txt\n",
      "Warning: No label file found for images/object-detection/parasites/images/val/001086.png\n",
      "./images/object-detection/parasites/labels/val/000502.txt\n",
      "Warning: No label file found for images/object-detection/parasites/images/val/000502.png\n",
      "./images/object-detection/parasites/labels/val/000766.txt\n",
      "Warning: No label file found for images/object-detection/parasites/images/val/000766.png\n",
      "./images/object-detection/parasites/labels/val/001158.txt\n",
      "Warning: No label file found for images/object-detection/parasites/images/val/001158.png\n",
      "./images/object-detection/parasites/labels/val/000287.txt\n",
      "Warning: No label file found for images/object-detection/parasites/images/val/000287.png\n",
      "./images/object-detection/parasites/labels/val/000528.txt\n",
      "Warning: No label file found for images/object-detection/parasites/images/val/000528.png\n",
      "./images/object-detection/parasites/labels/val/000476.txt\n",
      "Warning: No label file found for images/object-detection/parasites/images/val/000476.png\n",
      "./images/object-detection/parasites/labels/val/000772.txt\n",
      "Warning: No label file found for images/object-detection/parasites/images/val/000772.png\n",
      "./images/object-detection/parasites/labels/val/000570.txt\n",
      "Warning: No label file found for images/object-detection/parasites/images/val/000570.png\n",
      "./images/object-detection/parasites/labels/val/001076.txt\n",
      "Warning: No label file found for images/object-detection/parasites/images/val/001076.png\n",
      "./images/object-detection/parasites/labels/val/000780.txt\n",
      "Warning: No label file found for images/object-detection/parasites/images/val/000780.png\n"
     ]
    },
    {
     "name": "stderr",
     "output_type": "stream",
     "text": [
      "Visualizing val ground truth:  89%|████████▉ | 217/243 [00:01<00:00, 160.32it/s]"
     ]
    },
    {
     "name": "stdout",
     "output_type": "stream",
     "text": [
      "./images/object-detection/parasites/labels/val/000912.txt\n",
      "Warning: No label file found for images/object-detection/parasites/images/val/000912.png\n",
      "./images/object-detection/parasites/labels/val/000536.txt\n",
      "Warning: No label file found for images/object-detection/parasites/images/val/000536.png\n",
      "./images/object-detection/parasites/labels/val/000506.txt\n",
      "Warning: No label file found for images/object-detection/parasites/images/val/000506.png\n",
      "./images/object-detection/parasites/labels/val/000762.txt\n",
      "Warning: No label file found for images/object-detection/parasites/images/val/000762.png\n",
      "./images/object-detection/parasites/labels/val/000049.txt\n",
      "Warning: No label file found for images/object-detection/parasites/images/val/000049.png\n",
      "./images/object-detection/parasites/labels/val/000794.txt\n",
      "Warning: No label file found for images/object-detection/parasites/images/val/000794.png\n",
      "./images/object-detection/parasites/labels/val/000321.txt\n",
      "Warning: No label file found for images/object-detection/parasites/images/val/000321.png\n",
      "./images/object-detection/parasites/labels/val/000694.txt\n",
      "Warning: No label file found for images/object-detection/parasites/images/val/000694.png\n",
      "./images/object-detection/parasites/labels/val/000870.txt\n",
      "Warning: No label file found for images/object-detection/parasites/images/val/000870.png\n",
      "./images/object-detection/parasites/labels/val/000430.txt\n",
      "Warning: No label file found for images/object-detection/parasites/images/val/000430.png\n",
      "./images/object-detection/parasites/labels/val/000325.txt\n",
      "Warning: No label file found for images/object-detection/parasites/images/val/000325.png\n",
      "./images/object-detection/parasites/labels/val/000235.txt\n",
      "Warning: No label file found for images/object-detection/parasites/images/val/000235.png\n",
      "./images/object-detection/parasites/labels/val/000313.txt\n",
      "Warning: No label file found for images/object-detection/parasites/images/val/000313.png\n",
      "./images/object-detection/parasites/labels/val/000854.txt\n",
      "Warning: No label file found for images/object-detection/parasites/images/val/000854.png\n",
      "./images/object-detection/parasites/labels/val/000560.txt\n",
      "Warning: No label file found for images/object-detection/parasites/images/val/000560.png\n",
      "./images/object-detection/parasites/labels/val/000584.txt\n",
      "Warning: No label file found for images/object-detection/parasites/images/val/000584.png\n",
      "./images/object-detection/parasites/labels/val/000728.txt\n",
      "Warning: No label file found for images/object-detection/parasites/images/val/000728.png\n",
      "./images/object-detection/parasites/labels/val/000812.txt\n",
      "Warning: No label file found for images/object-detection/parasites/images/val/000812.png\n"
     ]
    },
    {
     "name": "stderr",
     "output_type": "stream",
     "text": [
      "Visualizing val ground truth: 100%|██████████| 243/243 [00:01<00:00, 124.44it/s]\n"
     ]
    },
    {
     "name": "stdout",
     "output_type": "stream",
     "text": [
      "./images/object-detection/parasites/labels/val/000836.txt\n",
      "Warning: No label file found for images/object-detection/parasites/images/val/000836.png\n",
      "./images/object-detection/parasites/labels/val/000540.txt\n",
      "Warning: No label file found for images/object-detection/parasites/images/val/000540.png\n",
      "./images/object-detection/parasites/labels/val/000323.txt\n",
      "Warning: No label file found for images/object-detection/parasites/images/val/000323.png\n",
      "./images/object-detection/parasites/labels/val/001213.txt\n",
      "Warning: No label file found for images/object-detection/parasites/images/val/001213.png\n",
      "./images/object-detection/parasites/labels/val/000402.txt\n",
      "Warning: No label file found for images/object-detection/parasites/images/val/000402.png\n",
      "./images/object-detection/parasites/labels/val/001016.txt\n",
      "Warning: No label file found for images/object-detection/parasites/images/val/001016.png\n",
      "./images/object-detection/parasites/labels/val/000674.txt\n",
      "Warning: No label file found for images/object-detection/parasites/images/val/000674.png\n",
      "Processing test ground truth...\n"
     ]
    },
    {
     "name": "stderr",
     "output_type": "stream",
     "text": [
      "Visualizing test ground truth:   0%|                    | 0/245 [00:00<?, ?it/s]"
     ]
    },
    {
     "name": "stdout",
     "output_type": "stream",
     "text": [
      "./images/object-detection/parasites/labels/test/000558.txt\n",
      "Warning: No label file found for images/object-detection/parasites/images/test/000558.png\n",
      "./images/object-detection/parasites/labels/test/000347.txt\n",
      "Warning: No label file found for images/object-detection/parasites/images/test/000347.png\n"
     ]
    },
    {
     "name": "stderr",
     "output_type": "stream",
     "text": [
      "Visualizing test ground truth:   6%|▌         | 14/245 [00:00<00:01, 137.32it/s]"
     ]
    },
    {
     "name": "stdout",
     "output_type": "stream",
     "text": [
      "./images/object-detection/parasites/labels/test/001030.txt\n",
      "Warning: No label file found for images/object-detection/parasites/images/test/001030.png\n",
      "./images/object-detection/parasites/labels/test/000658.txt\n",
      "Warning: No label file found for images/object-detection/parasites/images/test/000658.png\n",
      "./images/object-detection/parasites/labels/test/000734.txt\n",
      "Warning: No label file found for images/object-detection/parasites/images/test/000734.png\n",
      "./images/object-detection/parasites/labels/test/001150.txt\n",
      "Warning: No label file found for images/object-detection/parasites/images/test/001150.png\n",
      "./images/object-detection/parasites/labels/test/000650.txt\n",
      "Warning: No label file found for images/object-detection/parasites/images/test/000650.png\n",
      "./images/object-detection/parasites/labels/test/000051.txt\n",
      "Warning: No label file found for images/object-detection/parasites/images/test/000051.png\n",
      "./images/object-detection/parasites/labels/test/000093.txt\n",
      "Warning: No label file found for images/object-detection/parasites/images/test/000093.png\n"
     ]
    },
    {
     "name": "stderr",
     "output_type": "stream",
     "text": [
      "Visualizing test ground truth:  17%|█▋        | 41/245 [00:00<00:01, 113.65it/s]"
     ]
    },
    {
     "name": "stdout",
     "output_type": "stream",
     "text": [
      "./images/object-detection/parasites/labels/test/000116.txt\n",
      "Warning: No label file found for images/object-detection/parasites/images/test/000116.png\n",
      "./images/object-detection/parasites/labels/test/000850.txt\n",
      "Warning: No label file found for images/object-detection/parasites/images/test/000850.png\n",
      "./images/object-detection/parasites/labels/test/001020.txt\n",
      "Warning: No label file found for images/object-detection/parasites/images/test/001020.png\n",
      "./images/object-detection/parasites/labels/test/000351.txt\n",
      "Warning: No label file found for images/object-detection/parasites/images/test/000351.png\n",
      "./images/object-detection/parasites/labels/test/000490.txt\n",
      "Warning: No label file found for images/object-detection/parasites/images/test/000490.png\n",
      "./images/object-detection/parasites/labels/test/000448.txt\n",
      "Warning: No label file found for images/object-detection/parasites/images/test/000448.png\n",
      "./images/object-detection/parasites/labels/test/001078.txt\n",
      "Warning: No label file found for images/object-detection/parasites/images/test/001078.png\n",
      "./images/object-detection/parasites/labels/test/000077.txt\n",
      "Warning: No label file found for images/object-detection/parasites/images/test/000077.png\n",
      "./images/object-detection/parasites/labels/test/000378.txt\n",
      "Warning: No label file found for images/object-detection/parasites/images/test/000378.png\n",
      "./images/object-detection/parasites/labels/test/000764.txt\n",
      "Warning: No label file found for images/object-detection/parasites/images/test/000764.png\n",
      "./images/object-detection/parasites/labels/test/000450.txt\n",
      "Warning: No label file found for images/object-detection/parasites/images/test/000450.png\n",
      "./images/object-detection/parasites/labels/test/000858.txt\n",
      "Warning: No label file found for images/object-detection/parasites/images/test/000858.png\n",
      "./images/object-detection/parasites/labels/test/000500.txt\n",
      "Warning: No label file found for images/object-detection/parasites/images/test/000500.png\n",
      "./images/object-detection/parasites/labels/test/000844.txt\n",
      "Warning: No label file found for images/object-detection/parasites/images/test/000844.png\n",
      "./images/object-detection/parasites/labels/test/000756.txt\n",
      "Warning: No label file found for images/object-detection/parasites/images/test/000756.png\n",
      "./images/object-detection/parasites/labels/test/000243.txt\n",
      "Warning: No label file found for images/object-detection/parasites/images/test/000243.png\n",
      "./images/object-detection/parasites/labels/test/000207.txt\n",
      "Warning: No label file found for images/object-detection/parasites/images/test/000207.png\n"
     ]
    },
    {
     "name": "stderr",
     "output_type": "stream",
     "text": [
      "Visualizing test ground truth:  38%|███▊      | 92/245 [00:00<00:01, 151.46it/s]"
     ]
    },
    {
     "name": "stdout",
     "output_type": "stream",
     "text": [
      "./images/object-detection/parasites/labels/test/000972.txt\n",
      "Warning: No label file found for images/object-detection/parasites/images/test/000972.png\n",
      "./images/object-detection/parasites/labels/test/000587.txt\n",
      "Warning: No label file found for images/object-detection/parasites/images/test/000587.png\n",
      "./images/object-detection/parasites/labels/test/000894.txt\n",
      "Warning: No label file found for images/object-detection/parasites/images/test/000894.png\n",
      "./images/object-detection/parasites/labels/test/001000.txt\n",
      "Warning: No label file found for images/object-detection/parasites/images/test/001000.png\n",
      "./images/object-detection/parasites/labels/test/000760.txt\n",
      "Warning: No label file found for images/object-detection/parasites/images/test/000760.png\n",
      "./images/object-detection/parasites/labels/test/000750.txt\n",
      "Warning: No label file found for images/object-detection/parasites/images/test/000750.png\n",
      "./images/object-detection/parasites/labels/test/000776.txt\n",
      "Warning: No label file found for images/object-detection/parasites/images/test/000776.png\n",
      "./images/object-detection/parasites/labels/test/000165.txt\n",
      "Warning: No label file found for images/object-detection/parasites/images/test/000165.png\n",
      "./images/object-detection/parasites/labels/test/001042.txt\n",
      "Warning: No label file found for images/object-detection/parasites/images/test/001042.png\n",
      "./images/object-detection/parasites/labels/test/000548.txt\n",
      "Warning: No label file found for images/object-detection/parasites/images/test/000548.png\n",
      "./images/object-detection/parasites/labels/test/000082.txt\n",
      "Warning: No label file found for images/object-detection/parasites/images/test/000082.png\n",
      "./images/object-detection/parasites/labels/test/000994.txt\n",
      "Warning: No label file found for images/object-detection/parasites/images/test/000994.png\n",
      "./images/object-detection/parasites/labels/test/000714.txt\n",
      "Warning: No label file found for images/object-detection/parasites/images/test/000714.png\n",
      "./images/object-detection/parasites/labels/test/000382.txt\n",
      "Warning: No label file found for images/object-detection/parasites/images/test/000382.png\n",
      "./images/object-detection/parasites/labels/test/001006.txt\n",
      "Warning: No label file found for images/object-detection/parasites/images/test/001006.png\n",
      "./images/object-detection/parasites/labels/test/000289.txt\n",
      "Warning: No label file found for images/object-detection/parasites/images/test/000289.png\n",
      "./images/object-detection/parasites/labels/test/000721.txt\n",
      "Warning: No label file found for images/object-detection/parasites/images/test/000721.png\n",
      "./images/object-detection/parasites/labels/test/000610.txt\n",
      "Warning: No label file found for images/object-detection/parasites/images/test/000610.png\n",
      "./images/object-detection/parasites/labels/test/000872.txt\n",
      "Warning: No label file found for images/object-detection/parasites/images/test/000872.png\n",
      "./images/object-detection/parasites/labels/test/000299.txt\n",
      "Warning: No label file found for images/object-detection/parasites/images/test/000299.png\n",
      "./images/object-detection/parasites/labels/test/000868.txt\n",
      "Warning: No label file found for images/object-detection/parasites/images/test/000868.png\n",
      "./images/object-detection/parasites/labels/test/000904.txt\n",
      "Warning: No label file found for images/object-detection/parasites/images/test/000904.png\n",
      "./images/object-detection/parasites/labels/test/000936.txt\n",
      "Warning: No label file found for images/object-detection/parasites/images/test/000936.png\n",
      "./images/object-detection/parasites/labels/test/000426.txt\n",
      "Warning: No label file found for images/object-detection/parasites/images/test/000426.png\n"
     ]
    },
    {
     "name": "stderr",
     "output_type": "stream",
     "text": [
      "Visualizing test ground truth:  51%|████▌    | 124/245 [00:00<00:00, 139.71it/s]"
     ]
    },
    {
     "name": "stdout",
     "output_type": "stream",
     "text": [
      "./images/object-detection/parasites/labels/test/000920.txt\n",
      "Warning: No label file found for images/object-detection/parasites/images/test/000920.png\n",
      "./images/object-detection/parasites/labels/test/001024.txt\n",
      "Warning: No label file found for images/object-detection/parasites/images/test/001024.png\n",
      "./images/object-detection/parasites/labels/test/000906.txt\n",
      "Warning: No label file found for images/object-detection/parasites/images/test/000906.png\n",
      "./images/object-detection/parasites/labels/test/000736.txt\n",
      "Warning: No label file found for images/object-detection/parasites/images/test/000736.png\n",
      "./images/object-detection/parasites/labels/test/001211.txt\n",
      "Warning: No label file found for images/object-detection/parasites/images/test/001211.png\n",
      "./images/object-detection/parasites/labels/test/000914.txt\n",
      "Warning: No label file found for images/object-detection/parasites/images/test/000914.png\n",
      "./images/object-detection/parasites/labels/test/001136.txt\n",
      "Warning: No label file found for images/object-detection/parasites/images/test/001136.png\n",
      "./images/object-detection/parasites/labels/test/001200.txt\n",
      "Warning: No label file found for images/object-detection/parasites/images/test/001200.png\n",
      "./images/object-detection/parasites/labels/test/000840.txt\n",
      "Warning: No label file found for images/object-detection/parasites/images/test/000840.png\n",
      "./images/object-detection/parasites/labels/test/001217.txt\n",
      "Warning: No label file found for images/object-detection/parasites/images/test/001217.png\n",
      "./images/object-detection/parasites/labels/test/000998.txt\n",
      "Warning: No label file found for images/object-detection/parasites/images/test/000998.png\n",
      "./images/object-detection/parasites/labels/test/001130.txt\n",
      "Warning: No label file found for images/object-detection/parasites/images/test/001130.png\n",
      "./images/object-detection/parasites/labels/test/000211.txt\n",
      "Warning: No label file found for images/object-detection/parasites/images/test/000211.png\n"
     ]
    },
    {
     "name": "stderr",
     "output_type": "stream",
     "text": [
      "Visualizing test ground truth:  67%|█████▉   | 163/245 [00:01<00:00, 163.15it/s]"
     ]
    },
    {
     "name": "stdout",
     "output_type": "stream",
     "text": [
      "./images/object-detection/parasites/labels/test/000566.txt\n",
      "Warning: No label file found for images/object-detection/parasites/images/test/000566.png\n",
      "./images/object-detection/parasites/labels/test/000101.txt\n",
      "Warning: No label file found for images/object-detection/parasites/images/test/000101.png\n",
      "./images/object-detection/parasites/labels/test/000631.txt\n",
      "Warning: No label file found for images/object-detection/parasites/images/test/000631.png\n",
      "./images/object-detection/parasites/labels/test/000634.txt\n",
      "Warning: No label file found for images/object-detection/parasites/images/test/000634.png\n",
      "./images/object-detection/parasites/labels/test/001038.txt\n",
      "Warning: No label file found for images/object-detection/parasites/images/test/001038.png\n",
      "./images/object-detection/parasites/labels/test/000530.txt\n",
      "Warning: No label file found for images/object-detection/parasites/images/test/000530.png\n",
      "./images/object-detection/parasites/labels/test/000275.txt\n",
      "Warning: No label file found for images/object-detection/parasites/images/test/000275.png\n",
      "./images/object-detection/parasites/labels/test/000161.txt\n",
      "Warning: No label file found for images/object-detection/parasites/images/test/000161.png\n",
      "./images/object-detection/parasites/labels/test/000654.txt\n",
      "Warning: No label file found for images/object-detection/parasites/images/test/000654.png\n",
      "./images/object-detection/parasites/labels/test/000620.txt\n",
      "Warning: No label file found for images/object-detection/parasites/images/test/000620.png\n",
      "./images/object-detection/parasites/labels/test/000712.txt\n",
      "Warning: No label file found for images/object-detection/parasites/images/test/000712.png\n",
      "./images/object-detection/parasites/labels/test/000415.txt\n",
      "Warning: No label file found for images/object-detection/parasites/images/test/000415.png\n",
      "./images/object-detection/parasites/labels/test/000357.txt\n",
      "Warning: No label file found for images/object-detection/parasites/images/test/000357.png\n",
      "./images/object-detection/parasites/labels/test/000492.txt\n",
      "Warning: No label file found for images/object-detection/parasites/images/test/000492.png\n",
      "./images/object-detection/parasites/labels/test/000298.txt\n",
      "Warning: No label file found for images/object-detection/parasites/images/test/000298.png\n",
      "./images/object-detection/parasites/labels/test/000141.txt\n",
      "Warning: No label file found for images/object-detection/parasites/images/test/000141.png\n",
      "./images/object-detection/parasites/labels/test/001056.txt\n",
      "Warning: No label file found for images/object-detection/parasites/images/test/001056.png\n",
      "./images/object-detection/parasites/labels/test/000744.txt\n",
      "Warning: No label file found for images/object-detection/parasites/images/test/000744.png\n",
      "./images/object-detection/parasites/labels/test/000902.txt\n",
      "Warning: No label file found for images/object-detection/parasites/images/test/000902.png\n",
      "./images/object-detection/parasites/labels/test/000996.txt\n",
      "Warning: No label file found for images/object-detection/parasites/images/test/000996.png\n",
      "./images/object-detection/parasites/labels/test/000842.txt\n",
      "Warning: No label file found for images/object-detection/parasites/images/test/000842.png\n",
      "./images/object-detection/parasites/labels/test/000821.txt\n",
      "Warning: No label file found for images/object-detection/parasites/images/test/000821.png\n",
      "./images/object-detection/parasites/labels/test/000988.txt\n",
      "Warning: No label file found for images/object-detection/parasites/images/test/000988.png\n"
     ]
    },
    {
     "name": "stderr",
     "output_type": "stream",
     "text": [
      "Visualizing test ground truth:  73%|██████▌  | 180/245 [00:01<00:00, 142.39it/s]"
     ]
    },
    {
     "name": "stdout",
     "output_type": "stream",
     "text": [
      "./images/object-detection/parasites/labels/test/000600.txt\n",
      "Warning: No label file found for images/object-detection/parasites/images/test/000600.png\n",
      "./images/object-detection/parasites/labels/test/000822.txt\n",
      "Warning: No label file found for images/object-detection/parasites/images/test/000822.png\n",
      "./images/object-detection/parasites/labels/test/000149.txt\n",
      "Warning: No label file found for images/object-detection/parasites/images/test/000149.png\n",
      "./images/object-detection/parasites/labels/test/000974.txt\n",
      "Warning: No label file found for images/object-detection/parasites/images/test/000974.png\n",
      "./images/object-detection/parasites/labels/test/000474.txt\n",
      "Warning: No label file found for images/object-detection/parasites/images/test/000474.png\n",
      "./images/object-detection/parasites/labels/test/000480.txt\n",
      "Warning: No label file found for images/object-detection/parasites/images/test/000480.png\n",
      "./images/object-detection/parasites/labels/test/000065.txt\n",
      "Warning: No label file found for images/object-detection/parasites/images/test/000065.png\n",
      "./images/object-detection/parasites/labels/test/000732.txt\n",
      "Warning: No label file found for images/object-detection/parasites/images/test/000732.png\n",
      "./images/object-detection/parasites/labels/test/000465.txt\n",
      "Warning: No label file found for images/object-detection/parasites/images/test/000465.png\n",
      "./images/object-detection/parasites/labels/test/000882.txt\n",
      "Warning: No label file found for images/object-detection/parasites/images/test/000882.png\n",
      "./images/object-detection/parasites/labels/test/001164.txt\n",
      "Warning: No label file found for images/object-detection/parasites/images/test/001164.png\n",
      "./images/object-detection/parasites/labels/test/000179.txt\n",
      "Warning: No label file found for images/object-detection/parasites/images/test/000179.png\n",
      "./images/object-detection/parasites/labels/test/001162.txt\n",
      "Warning: No label file found for images/object-detection/parasites/images/test/001162.png\n"
     ]
    },
    {
     "name": "stderr",
     "output_type": "stream",
     "text": [
      "Visualizing test ground truth:  87%|███████▊ | 214/245 [00:01<00:00, 142.34it/s]"
     ]
    },
    {
     "name": "stdout",
     "output_type": "stream",
     "text": [
      "./images/object-detection/parasites/labels/test/001008.txt\n",
      "Warning: No label file found for images/object-detection/parasites/images/test/001008.png\n",
      "./images/object-detection/parasites/labels/test/000798.txt\n",
      "Warning: No label file found for images/object-detection/parasites/images/test/000798.png\n",
      "./images/object-detection/parasites/labels/test/001146.txt\n",
      "Warning: No label file found for images/object-detection/parasites/images/test/001146.png\n",
      "./images/object-detection/parasites/labels/test/000686.txt\n",
      "Warning: No label file found for images/object-detection/parasites/images/test/000686.png\n",
      "./images/object-detection/parasites/labels/test/000878.txt\n",
      "Warning: No label file found for images/object-detection/parasites/images/test/000878.png\n",
      "./images/object-detection/parasites/labels/test/000834.txt\n",
      "Warning: No label file found for images/object-detection/parasites/images/test/000834.png\n",
      "./images/object-detection/parasites/labels/test/001154.txt\n",
      "Warning: No label file found for images/object-detection/parasites/images/test/001154.png\n",
      "./images/object-detection/parasites/labels/test/001203.txt\n",
      "Warning: No label file found for images/object-detection/parasites/images/test/001203.png\n",
      "./images/object-detection/parasites/labels/test/000097.txt\n",
      "Warning: No label file found for images/object-detection/parasites/images/test/000097.png\n",
      "./images/object-detection/parasites/labels/test/000396.txt\n",
      "Warning: No label file found for images/object-detection/parasites/images/test/000396.png\n",
      "./images/object-detection/parasites/labels/test/000079.txt\n",
      "Warning: No label file found for images/object-detection/parasites/images/test/000079.png\n",
      "./images/object-detection/parasites/labels/test/000143.txt\n",
      "Warning: No label file found for images/object-detection/parasites/images/test/000143.png\n"
     ]
    },
    {
     "name": "stderr",
     "output_type": "stream",
     "text": [
      "Visualizing test ground truth:  99%|████████▉| 243/245 [00:01<00:00, 126.69it/s]"
     ]
    },
    {
     "name": "stdout",
     "output_type": "stream",
     "text": [
      "./images/object-detection/parasites/labels/test/001012.txt\n",
      "Warning: No label file found for images/object-detection/parasites/images/test/001012.png\n",
      "./images/object-detection/parasites/labels/test/001110.txt\n",
      "Warning: No label file found for images/object-detection/parasites/images/test/001110.png\n",
      "./images/object-detection/parasites/labels/test/000488.txt\n",
      "Warning: No label file found for images/object-detection/parasites/images/test/000488.png\n",
      "./images/object-detection/parasites/labels/test/000145.txt\n",
      "Warning: No label file found for images/object-detection/parasites/images/test/000145.png\n",
      "./images/object-detection/parasites/labels/test/000121.txt\n",
      "Warning: No label file found for images/object-detection/parasites/images/test/000121.png\n",
      "./images/object-detection/parasites/labels/test/000574.txt\n",
      "Warning: No label file found for images/object-detection/parasites/images/test/000574.png\n",
      "./images/object-detection/parasites/labels/test/000315.txt\n",
      "Warning: No label file found for images/object-detection/parasites/images/test/000315.png\n"
     ]
    },
    {
     "name": "stderr",
     "output_type": "stream",
     "text": [
      "Visualizing test ground truth: 100%|█████████| 245/245 [00:01<00:00, 135.35it/s]"
     ]
    },
    {
     "name": "stdout",
     "output_type": "stream",
     "text": [
      "All ground truth visualizations saved to ground_truth_visualizations\n",
      "Visualization complete!\n"
     ]
    },
    {
     "name": "stderr",
     "output_type": "stream",
     "text": [
      "\n"
     ]
    }
   ],
   "source": [
    "# Example usage\n",
    "model_path = \"./runs/detect/train8/weights/best.pt\"  # Path to your trained model\n",
    "dataset_config = \"parasites.yaml\"  # Path to your dataset config\n",
    "   \n",
    "# Visualize model predictions\n",
    "run_inference_and_visualize(model_path, dataset_config)\n",
    "    \n",
    "# Visualize ground truth boxes\n",
    "visualize_ground_truth(dataset_config)\n",
    "    \n",
    "print(\"Visualization complete!\")"
   ]
  }
 ],
 "metadata": {
  "kernelspec": {
   "display_name": "Python 3",
   "language": "python",
   "name": "python3"
  },
  "language_info": {
   "codemirror_mode": {
    "name": "ipython",
    "version": 3
   },
   "file_extension": ".py",
   "mimetype": "text/x-python",
   "name": "python",
   "nbconvert_exporter": "python",
   "pygments_lexer": "ipython3",
   "version": "3.8.10"
  }
 },
 "nbformat": 4,
 "nbformat_minor": 5
}
