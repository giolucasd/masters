{
 "cells": [
  {
   "cell_type": "code",
   "execution_count": null,
   "metadata": {},
   "outputs": [],
   "source": [
    "import selectivesearch\n",
    "from torch_snippets import *\n",
    "import matplotlib.pyplot as plt\n",
    "import matplotlib.patches as mpatches\n",
    "from torchvision.ops import nms"
   ]
  },
  {
   "cell_type": "code",
   "execution_count": null,
   "metadata": {},
   "outputs": [],
   "source": [
    "img = plt.imread('./images/corel/0002_0004.png')\n",
    "plt.imshow(img)\n",
    "plt.show()"
   ]
  },
  {
   "cell_type": "code",
   "execution_count": null,
   "metadata": {},
   "outputs": [],
   "source": [
    "def extract_candidates(img, min_area_perc, max_area_perc):\n",
    "    # select candidate objects by stopping calculation for a given min_size. \n",
    "    # A Gaussian filter of a given sigma reduces artifacts and scale indicates preferences to bigger \n",
    "    # or smaller objects \n",
    "    img_lbl, boxes = selectivesearch.selective_search(img, scale=200, sigma=0.6, min_size=300) \n",
    "    \n",
    "\n",
    "    area = img.shape[0]*img.shape[1]    \n",
    "    candidates = []    \n",
    "    for r in boxes:\n",
    "        if ((r['rect'] in candidates) or \n",
    "            (r['size'] < int(min_area_perc*area)) or \n",
    "            (r['size'] > int(max_area_perc*area))): \n",
    "            continue\n",
    "        x, y, w, h = r['rect']\n",
    "        candidates.append([x, y, w, h])\n",
    "    return(candidates)\n",
    "\n",
    "boxes = extract_candidates(img,0.10, 0.60)\n",
    "show(img, bbs=boxes)\n"
   ]
  }
 ],
 "metadata": {
  "kernelspec": {
   "display_name": "Python3 (ictp_class)",
   "language": "python",
   "name": "ictp_class"
  },
  "language_info": {
   "codemirror_mode": {
    "name": "ipython",
    "version": 3
   },
   "file_extension": ".py",
   "mimetype": "text/x-python",
   "name": "python",
   "nbconvert_exporter": "python",
   "pygments_lexer": "ipython3",
   "version": "3.8.10"
  }
 },
 "nbformat": 4,
 "nbformat_minor": 5
}
